{
 "cells": [
  {
   "cell_type": "markdown",
   "id": "4da92619",
   "metadata": {},
   "source": [
    "### 3강 num 리스트를 내림차순(큰 값이 앞에)으로 정렬하고 중복되는 숫자가 2개 이하가 되도록 list를 변경한 후 출력하시오\n",
    "- 3강 자료구조 - List, Tuple, Dictionary, Set"
   ]
  },
  {
   "cell_type": "code",
   "execution_count": 3,
   "id": "aee923c6",
   "metadata": {},
   "outputs": [],
   "source": [
    "num = [4, 2, 6, 7, 3, 4, 7, 8, 3, 2, 1, 4, 6, 8, 0, 9]"
   ]
  },
  {
   "cell_type": "code",
   "execution_count": null,
   "id": "96b8d7e4",
   "metadata": {},
   "outputs": [],
   "source": []
  },
  {
   "cell_type": "markdown",
   "id": "be7e1a1d",
   "metadata": {},
   "source": [
    "### 4강 아래 tuple의 모든 원소값에 1을 더하고 더한 값들을 list로 출력하시오\n",
    "- 4강 제어문/반복문 - if-else, while, for-in"
   ]
  },
  {
   "cell_type": "code",
   "execution_count": 6,
   "id": "0328757c",
   "metadata": {},
   "outputs": [],
   "source": [
    "tuple2 = (4, 2, 6, 7, 3, 4, 7, 8, 3, 2, 1, 4, 6, 8, 0, 9)"
   ]
  },
  {
   "cell_type": "code",
   "execution_count": null,
   "id": "d547da19",
   "metadata": {},
   "outputs": [],
   "source": []
  },
  {
   "cell_type": "markdown",
   "id": "bda98a7e",
   "metadata": {},
   "source": [
    "### 5강 숫자 2개를 입력받아 매개변수 2개로 덧셈, 뺄셈을 하고 그 값을 return하는 함수를 만들고, \n",
    "### 이 2가지 함수의 return값을 매개변수로 받아 (n1+n2) * (n1-n2) 값을 출력하는 함수를 만드시오\n",
    "\n",
    "함수이름 : plus, minus, multiply\n",
    "\n",
    "ex) input 7, 2 입력 시 결과창 : (n1+n2) x (n1-n2) = 45\n",
    "\n",
    "\n",
    "\n",
    "- 5강 함수"
   ]
  },
  {
   "cell_type": "code",
   "execution_count": null,
   "id": "8d1edfe1",
   "metadata": {},
   "outputs": [],
   "source": []
  }
 ],
 "metadata": {
  "kernelspec": {
   "display_name": "Python 3 (ipykernel)",
   "language": "python",
   "name": "python3"
  },
  "language_info": {
   "codemirror_mode": {
    "name": "ipython",
    "version": 3
   },
   "file_extension": ".py",
   "mimetype": "text/x-python",
   "name": "python",
   "nbconvert_exporter": "python",
   "pygments_lexer": "ipython3",
   "version": "3.10.9"
  }
 },
 "nbformat": 4,
 "nbformat_minor": 5
}
