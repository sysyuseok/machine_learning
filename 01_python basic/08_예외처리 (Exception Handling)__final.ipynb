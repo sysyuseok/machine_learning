{
 "cells": [
  {
   "cell_type": "markdown",
   "metadata": {
    "slideshow": {
     "slide_type": "slide"
    }
   },
   "source": [
    "# 오류\n",
    "\n",
    "- 함수나 메소드가 처리 도중 다음 명령문을 실행할 수 없는 상황\n",
    "- 오류 중 처리가능한 것을 Exception(예외) 라고 한다. 그리고 그 예외를 처리하는 것을 Exception Handling 이라고 한다.\n",
    "\n",
    "![개요](images/ch08_01.png)\n"
   ]
  },
  {
   "cell_type": "markdown",
   "metadata": {
    "slideshow": {
     "slide_type": "slide"
    }
   },
   "source": [
    "## 오류의 종류\n",
    "- **파이썬 문법을 어겨서 발생하는 오류**\n",
    "    - 코드 상 100% 발생하는 오류\n",
    "    - 코드를 수정해 야한다.\n",
    "    - 보통 이런 오류는 컴파일 방식 언어의 경우 컴파일 때 에러를 내서 수정하도록 한다.\n",
    "- **실행 환경의 문제로 발생하는 오류**\n",
    "    - 코드상에서는 Exception의 발생여부를 확신할 수 없다.\n",
    "    - 만약 발생할 경우 어떻게 처리할지를 구현해야 한다."
   ]
  },
  {
   "cell_type": "code",
   "execution_count": 3,
   "metadata": {
    "slideshow": {
     "slide_type": "fragment"
    }
   },
   "outputs": [
    {
     "name": "stdout",
     "output_type": "stream",
     "text": [
      "0\n",
      "0을 제외한 정수만 입력하세요\n",
      "10\n",
      "0.1\n"
     ]
    }
   ],
   "source": [
    "try:\n",
    "    a = 1 / int(input())\n",
    "    print(a)\n",
    "except:\n",
    "    print('0을 제외한 정수만 입력하세요')\n",
    "    a = 1 / int(input())\n",
    "    print(a)"
   ]
  },
  {
   "cell_type": "code",
   "execution_count": 11,
   "metadata": {},
   "outputs": [
    {
     "name": "stdout",
     "output_type": "stream",
     "text": [
      "정수:ㅁㅁㅁㅁㅁㅁㅁ\n",
      "정수 넣으세요\n"
     ]
    }
   ],
   "source": [
    "try:\n",
    "    num = input(\"정수:\")\n",
    "    print(int(num)  * 10)\n",
    "except:\n",
    "    print(\"정수 넣으세요\")"
   ]
  },
  {
   "cell_type": "markdown",
   "metadata": {
    "slideshow": {
     "slide_type": "slide"
    }
   },
   "source": [
    "## Exception handling\n",
    "Exception이 발생되어 프로그램이 더이상 실행될 수 없는 상황을 처리(handling)해서 정상화 시키는 작업을 말한다.  \n",
    "try - except 구문을 이용해 처리한다."
   ]
  },
  {
   "cell_type": "markdown",
   "metadata": {
    "slideshow": {
     "slide_type": "fragment"
    }
   },
   "source": [
    "###  try, except 구문\n",
    "\n",
    "```python\n",
    "try:\n",
    "    Exception 발생가능한 코드 블록\n",
    "except [Exception클래스 이름 [as 변수]] :\n",
    "    처리 코드   \n",
    "```"
   ]
  },
  {
   "cell_type": "markdown",
   "metadata": {
    "slideshow": {
     "slide_type": "fragment"
    }
   },
   "source": [
    "- **try block**\n",
    "    - Exception 발생 가능성 있는 코드와 그 코드와 연결된 코드들을 블록으로 묶는다.\n",
    "        - 연결된 코드란 Exception이 발생 안해야만 실행되는 코드를 말한다.\n",
    "- **except block**\n",
    "    - 발생한 Exception을 처리하는 코드 블록을 작성한다.\n",
    "        - try block의 코드를 실행하다 exception이 발생하면 except block이 실행된다. Exception이 발생하지 않으면 실행되지 않는다.\n",
    "    - try block에서 발생한 모든 Exception을 처리하는 경우 `except:` 로 선언한다.\n",
    "    - try block에서 발생한 특정 Exception만 따로 처리할 경우 `except Exception클래스 이름` 을 선언한다.\n",
    "        - 모든 Exception들은 클래스로 정의 되어 있다. 그 클래스 이름을 적어준다.\n",
    "        - **Exception 들 별로 각각 처리할 수 있으면 이 경우 except 구문(처리구문)을 연속해서 작성하면 된다.**\n",
    "    - try block에서 발생한 특정 Exception만 따로 처리하고 그 Exception이 왜 발생했는지 등의 정보를 사용할 경우 `except Exception 클래스 이름 as 변수명` 으로 선언하고 변수명을 이용해 정보를 조회한다.\n",
    "        "
   ]
  },
  {
   "cell_type": "code",
   "execution_count": 6,
   "metadata": {},
   "outputs": [
    {
     "name": "stdout",
     "output_type": "stream",
     "text": [
      "프로그램 시작\n",
      "정수:lsldslsdl\n",
      "잘못된 입력입니다. lsldslsdl\n",
      "프로그램 종료\n"
     ]
    }
   ],
   "source": [
    "# try - except 구문\n",
    "# 1. 프로그램이 시작하는 것을 출력\n",
    "print(\"프로그램 시작\")\n",
    "# 2. 정수를 문자열로 입력 받기\n",
    "num_str = input(\"정수:\")\n",
    "try:\n",
    "    # 3. 문자열 정수를 정수숫자로 변환\n",
    "    num = int(num_str)               # Exception이 발생할 가능성이 있는 코드\n",
    "    # 4. 10을 변환한 정수 숫자로 나눔.\n",
    "    result = 10 // num               # line 7의 Exception과 연결된 코드\n",
    "    # 5. 나눈 결과를 출력\n",
    "    print(f\"10 // {num} = {result}\") # line 7의 Exception과 연결된 코드  \n",
    "# 6. 프로그램이 종료했음을 출력\n",
    "except:\n",
    "    # try에서 Exception이 발생하면 처리할 코드를 작성\n",
    "    print\n",
    "    잘못된 입력입니다.\", num_str)\n",
    "\n",
    "    \n",
    "print(\"프로그램 종료\")"
   ]
  },
  {
   "cell_type": "markdown",
   "metadata": {},
   "source": [
    "- 정상흐름\n",
    "    - 1 -> 2 -> 3 -> 4 -> 5 -> 6\n",
    "- 비정상 흐름 (정수변환이 안되는 문자열 입력시)\n",
    "    - 1 -> 2 -> 3(시도하다 오류) -> except 블록(정상화) -> 6"
   ]
  },
  {
   "cell_type": "code",
   "execution_count": 37,
   "metadata": {},
   "outputs": [
    {
     "name": "stdout",
     "output_type": "stream",
     "text": [
      "프로그램 시작\n",
      "정수:aaaaa\n",
      "aaaaa은 숫자로 변환이 안됨. invalid literal for int() with base 10: 'aaaaa'\n",
      "프로그램 종료\n"
     ]
    }
   ],
   "source": [
    "print(\"프로그램 시작\") #1.\n",
    "num_str = input(\"정수:\")#2.\n",
    "\n",
    "try:\n",
    "    num = int(num_str) #3. ValueError 발생가능성\n",
    "    result = 10 // num #4. ZeroDivisionError 발생가능성\n",
    "    print(f\"10 // {num} = {result}\") #5. \n",
    "    print(abc)\n",
    "except ValueError as ve:    # ValueError처리   Exception이름 as 변수명\n",
    "    print(f\"{num_str}은 숫자로 변환이 안됨. {ve}\")\n",
    "except ZeroDivisionError as ze:\n",
    "    print('0으로는 나눌 수 없음.', ze)\n",
    "except:\n",
    "    print(\"ValueError, ZeroDivisionError를 제외한 발생한 다른 Exception을 처리.\")\n",
    "    \n",
    "print(\"프로그램 종료\")# 6"
   ]
  },
  {
   "cell_type": "code",
   "execution_count": null,
   "metadata": {
    "slideshow": {
     "slide_type": "fragment"
    }
   },
   "outputs": [],
   "source": []
  },
  {
   "cell_type": "markdown",
   "metadata": {
    "slideshow": {
     "slide_type": "subslide"
    }
   },
   "source": [
    "### finally 구문\n",
    "\n",
    "- 예외 발생여부, 처리 여부와 관계없이 무조건 실행되는 코드블록\n",
    "    - try 구문에 **반드시 실행되야 하는 코드블록을 작성할때 사용한다.**\n",
    "    - 보통 프로그램이 외부자원과 연결해서 데이터를 주고 받는 작업을 할때 마지막 연결을 종료하는 작업을 finally 블록에 넣는다.\n",
    "- finally 는 except 보다 먼저 올 수 없다.\n",
    "    - 구문순서\n",
    "        1. try - except - finally\n",
    "        1. try - except\n",
    "        1. try - finally"
   ]
  },
  {
   "cell_type": "code",
   "execution_count": 44,
   "metadata": {
    "collapsed": true,
    "slideshow": {
     "slide_type": "fragment"
    }
   },
   "outputs": [
    {
     "name": "stdout",
     "output_type": "stream",
     "text": [
      "시작\n",
      "1\n",
      "무조건실행되야 하는 코드\n"
     ]
    },
    {
     "ename": "ZeroDivisionError",
     "evalue": "division by zero",
     "output_type": "error",
     "traceback": [
      "\u001b[1;31m---------------------------------------------------------------------------\u001b[0m",
      "\u001b[1;31mZeroDivisionError\u001b[0m                         Traceback (most recent call last)",
      "Cell \u001b[1;32mIn[44], line 4\u001b[0m\n\u001b[0;32m      2\u001b[0m \u001b[38;5;28;01mtry\u001b[39;00m:\n\u001b[0;32m      3\u001b[0m     \u001b[38;5;28mprint\u001b[39m(\u001b[38;5;241m1\u001b[39m)\n\u001b[1;32m----> 4\u001b[0m     a \u001b[38;5;241m=\u001b[39m \u001b[38;5;241;43m10\u001b[39;49m\u001b[43m \u001b[49m\u001b[38;5;241;43m/\u001b[39;49m\u001b[43m \u001b[49m\u001b[38;5;241;43m0\u001b[39;49m\n\u001b[0;32m      5\u001b[0m     \u001b[38;5;28mprint\u001b[39m(\u001b[38;5;241m2\u001b[39m)\n\u001b[0;32m      6\u001b[0m \u001b[38;5;28;01mexcept\u001b[39;00m \u001b[38;5;167;01mValueError\u001b[39;00m:\n",
      "\u001b[1;31mZeroDivisionError\u001b[0m: division by zero"
     ]
    }
   ],
   "source": [
    "print(\"시작\")\n",
    "try:\n",
    "    print(1)\n",
    "    a = 10 / 0\n",
    "    print(2)\n",
    "except ValueError:\n",
    "    print(3)\n",
    "finally:\n",
    "    print(\"무조건실행되야 하는 코드\")\n",
    "\n",
    "\n",
    "print(\"끝\")"
   ]
  },
  {
   "cell_type": "markdown",
   "metadata": {
    "slideshow": {
     "slide_type": "slide"
    }
   },
   "source": [
    "## Exception 발생 시키기\n",
    "\n",
    "### 사용자 정의 Exception 클래스 구현\n",
    "\n",
    "- 파이썬은 Exception 상황을 클래스로 정의해 사용한다.\n",
    "    - Exception이 발생하는 상황과 관련된 attribute들과 메소드들을 정의한 클래스\n",
    "    \n",
    "- 구현\n",
    "    - `Exception` 클래스를 **상속받는다.**\n",
    "    - 클래스 이름은 Exception 상황을 설명할 수 있는 이름을 준다.\n",
    "    "
   ]
  },
  {
   "cell_type": "code",
   "execution_count": 19,
   "metadata": {},
   "outputs": [],
   "source": [
    "# 월에 1 ~ 12 이외의 값을 대입할 때 발생시킬 Exception\n",
    "class InvalidMonthException(Exception):\n",
    "    \n",
    "    def __init__(self, invalid_month:\"잘못된 월\"):\n",
    "        self.invalid_month = invalid_month\n",
    "        \n",
    "    def __str__(self):\n",
    "        # 에러메세지를 문자열로 반환.\n",
    "        return f\"{self.invalid_month}는 사용할 수 없는 월입니다. 1 ~ 12 사이의 정수를 사용하세요.\""
   ]
  },
  {
   "cell_type": "markdown",
   "metadata": {
    "slideshow": {
     "slide_type": "slide"
    }
   },
   "source": [
    "### Exception 발생시키기\n",
    "- 함수나 메소드가 더이상 작업을 진행 할 수 없는 조건이 되면 Exception을 강제로 발생시킨다.\n",
    "- **Call Stack Mechanism**\n",
    "    - 발생한 Exception은 처리를 하지 않으면 caller에게 전달된다.\n",
    "        - 발생한 Exception에 대한 처리가 모든 caller에서 안되면 결국 파이썬 실행환경까지 전달되어 프로그램은 비정상적으로 종료 되게 된다."
   ]
  },
  {
   "cell_type": "code",
   "execution_count": 13,
   "metadata": {},
   "outputs": [],
   "source": [
    "def a():\n",
    "    print('a() 시작')\n",
    "    b()\n",
    "    print(\"a() 종료\")\n",
    "    \n",
    "def b():\n",
    "    print('b() 시작')\n",
    "    c()\n",
    "    print('b() 종료')\n",
    "    \n",
    "def c():\n",
    "    print('c() 시작')\n",
    "#     if 예외발생하는 조건이라면:\n",
    "    raise InvalidMonthException(120)\n",
    "    print('c() 종료')"
   ]
  },
  {
   "cell_type": "code",
   "execution_count": 15,
   "metadata": {},
   "outputs": [
    {
     "name": "stdout",
     "output_type": "stream",
     "text": [
      "a() 시작\n",
      "b() 시작\n",
      "c() 시작\n",
      "aaaaa\n"
     ]
    }
   ],
   "source": [
    "# call stack mechaism\n",
    "a()"
   ]
  },
  {
   "cell_type": "markdown",
   "metadata": {
    "slideshow": {
     "slide_type": "subslide"
    }
   },
   "source": [
    "### raise 구문\n",
    "- Exception을 강제로 발생시킨다.\n",
    "    - 업무 규칙을 어겼거나 다음 명령문을 실행할 수 없는 조건이 되면 진행을 멈추고 caller로 요청에게 작업을 처리 못했음을 알리며 돌아가도록 할때 exception을 발생시킨다.\n",
    "    - 구문\n",
    "    ```python\n",
    "        raise Exception객체\n",
    "    ```\n",
    "- **raise와 return**\n",
    "    - 함수나 메소드에서 return과 raise 구문이 실행되면 모두 caller로 돌아간다.\n",
    "    - return은 정상적으로 끝나서 돌아가는 의미이다. 그래서 처리결과가 있으면 그 값을 가지고 돌아간다.\n",
    "        - caller는 그 다음작업을 이어서 하면 된다.\n",
    "    - raise는 실행도중 문제(Exception)가 생겨 비정상적으로 끝나서 돌아가는 의미이다. 그래서 비정상적인 상황 정보를 가지는 Exception객체를 반환값으로 가지고 돌아간다.\n",
    "        - caller는 try - except구문으로 발생한 exception을 처리하여 프로그램을 정상화 하거나 자신도 caller에게 exception을 발생시키는 처리를 한다.\n",
    "        "
   ]
  },
  {
   "cell_type": "code",
   "execution_count": 29,
   "metadata": {},
   "outputs": [],
   "source": [
    "def save_month(month:int)->None:\n",
    "    \"\"\"\n",
    "    월을 받아서 데이터베이스에 저장하는 함수\n",
    "    paramter:\n",
    "        month: int - 저장할 월. 월은  1 ~ 12 사이의 정수를 받는다.\n",
    "    return:\n",
    "    raise:\n",
    "        InvalidMonthException \n",
    "                     - 파라미터 month에 1 ~ 12 범위를 넘어가는 정수를 받을 경우 발생시킨다.\n",
    "    \"\"\"\n",
    "    if month < 1 or month > 12:\n",
    "        raise InvalidMonthException(month)\n",
    "    print(f\"{month}월을 데이터베이스에 저장했습니다.\")"
   ]
  },
  {
   "cell_type": "code",
   "execution_count": 38,
   "metadata": {},
   "outputs": [
    {
     "name": "stdout",
     "output_type": "stream",
     "text": [
      "잘못된 월. 110\n",
      "에러메세지: 110는 사용할 수 없는 월입니다. 1 ~ 12 사이의 정수를 사용하세요.\n"
     ]
    }
   ],
   "source": [
    "try:\n",
    "    save_month(110)\n",
    "except InvalidMonthException as e: # e에는 raise Exception객체 에서의 Exception객체가 대입\n",
    "    print(\"잘못된 월.\", e.invalid_month)\n",
    "    print(\"에러메세지:\", e)\n",
    "except:\n",
    "    print(\"오류가 발생했습니다.\")"
   ]
  },
  {
   "cell_type": "code",
   "execution_count": 47,
   "metadata": {},
   "outputs": [],
   "source": [
    "def save_year(year):\n",
    "    print(year, \"년도를 저장\")\n",
    "    \n",
    "def save_day(day):\n",
    "    print(day, \"일을 저장\")\n",
    "    \n",
    "def save_month2(month):\n",
    "    if month >=1 and month <= 12:\n",
    "        print(f\"{month}월을 데이터베이스에 저장함.\")\n",
    "    else:\n",
    "        print('에러메세지: 저장실패. 1 ~ 12 값을 입력해 주세요.')"
   ]
  },
  {
   "cell_type": "code",
   "execution_count": 48,
   "metadata": {},
   "outputs": [
    {
     "name": "stdout",
     "output_type": "stream",
     "text": [
      "2023 년도를 저장\n"
     ]
    }
   ],
   "source": [
    "save_year(2023)\n",
    "# save_month2(40)\n",
    "try:\n",
    "    save_month(40)\n",
    "    save_day(11)\n",
    "except:\n",
    "    pass"
   ]
  },
  {
   "cell_type": "code",
   "execution_count": null,
   "metadata": {},
   "outputs": [],
   "source": []
  },
  {
   "cell_type": "code",
   "execution_count": null,
   "metadata": {},
   "outputs": [],
   "source": []
  },
  {
   "cell_type": "code",
   "execution_count": null,
   "metadata": {},
   "outputs": [],
   "source": []
  },
  {
   "cell_type": "code",
   "execution_count": null,
   "metadata": {
    "slideshow": {
     "slide_type": "fragment"
    }
   },
   "outputs": [],
   "source": []
  }
 ],
 "metadata": {
  "kernelspec": {
   "display_name": "Python 3 (ipykernel)",
   "language": "python",
   "name": "python3"
  },
  "language_info": {
   "codemirror_mode": {
    "name": "ipython",
    "version": 3
   },
   "file_extension": ".py",
   "mimetype": "text/x-python",
   "name": "python",
   "nbconvert_exporter": "python",
   "pygments_lexer": "ipython3",
   "version": "3.10.9"
  },
  "toc": {
   "base_numbering": 1,
   "nav_menu": {},
   "number_sections": true,
   "sideBar": true,
   "skip_h1_title": false,
   "title_cell": "Table of Contents",
   "title_sidebar": "Contents",
   "toc_cell": false,
   "toc_position": {},
   "toc_section_display": true,
   "toc_window_display": false
  },
  "varInspector": {
   "cols": {
    "lenName": 16,
    "lenType": 16,
    "lenVar": 40
   },
   "kernels_config": {
    "python": {
     "delete_cmd_postfix": "",
     "delete_cmd_prefix": "del ",
     "library": "var_list.py",
     "varRefreshCmd": "print(var_dic_list())"
    },
    "r": {
     "delete_cmd_postfix": ") ",
     "delete_cmd_prefix": "rm(",
     "library": "var_list.r",
     "varRefreshCmd": "cat(var_dic_list()) "
    }
   },
   "types_to_exclude": [
    "module",
    "function",
    "builtin_function_or_method",
    "instance",
    "_Feature"
   ],
   "window_display": false
  }
 },
 "nbformat": 4,
 "nbformat_minor": 4
}
