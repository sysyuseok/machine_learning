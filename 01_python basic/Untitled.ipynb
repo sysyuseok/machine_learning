{
 "cells": [
  {
   "cell_type": "code",
   "execution_count": null,
   "id": "d73ea6bb",
   "metadata": {},
   "outputs": [],
   "source": []
  },
  {
   "cell_type": "code",
   "execution_count": 76,
   "id": "fdebb43d",
   "metadata": {},
   "outputs": [],
   "source": [
    "def solution1(char):\n",
    "    #return char.split('-')[0]\n",
    "    return print(char[0:6])\n",
    "\n",
    "def solutio2(char):\n",
    "    return print(char*10)\n",
    "def solution3(char):\n",
    "    return len(char)\n",
    "def solution4(name,price,maker):\n",
    "    #return print(\"제품명 : \",name,\", 가격 :\",price,\", 제조사 :\",maker)\n",
    "    #return print('제품명 : {} , 가격 : {}, 제조사 : {}' .format(name, price, maker))\n",
    "    return print(f'제품명 : {name} , 가격 : {price}, 제조사 : {maker}')\n",
    "name = \"TV\"\n",
    "price = \"30000\"\n",
    "maker = \"LG\"\n",
    "def solution5(char):\n",
    "    if \"수박\" in char :\n",
    "        return print(1)\n",
    "    else :\n",
    "        return print(0)\n",
    "def solution6(char):\n",
    "    return print(1) if \"수박\" in char else print(0)\n",
    "def solution7(char):\n",
    "    cnt=0\n",
    "    for i in range(len(char)):\n",
    "        if char[i]=='a':\n",
    "            cnt+=1\n",
    "    return print(cnt)\n",
    "def solution8(char):\n",
    "    return print(char.count('a'))\n",
    "def solution9():\n",
    "    n=int(input(\"숫자 입력:\"))\n",
    "    k=int(input(\"숫자 입력:\"))\n",
    "    return print(n*k)\n"
   ]
  },
  {
   "cell_type": "code",
   "execution_count": 26,
   "id": "1a81de77",
   "metadata": {},
   "outputs": [
    {
     "name": "stdout",
     "output_type": "stream",
     "text": [
      "[0, 1, 2, 3, 4, 5, -6, -5, -4, -3, -2, -1]\n",
      "[0, 1, 2, 3, 4, 5, 0, 1, 2, 3, 4, 5, 0, 1, 2, 3, 4, 5]\n",
      "18\n"
     ]
    }
   ],
   "source": [
    "list_a=[ 0, 1, 2, 3, 4, 5]\n",
    "list_b=[-6,-5,-4,-3,-2,-1]\n",
    "#index를 위와 같이 음수와 양수로 표현 가능\n",
    "\n",
    "list_c=list_a+list_b\n",
    "print(list_c)\n",
    "list_d=list_a*3\n",
    "print(list_d)\n",
    "print(len(list_d))"
   ]
  },
  {
   "cell_type": "code",
   "execution_count": 27,
   "id": "4aad6f38",
   "metadata": {},
   "outputs": [
    {
     "name": "stdout",
     "output_type": "stream",
     "text": [
      "[0, 1, 2, 3, 4, 5, 6]\n"
     ]
    }
   ],
   "source": [
    "list_a.append(6)\n",
    "print(list_a)"
   ]
  },
  {
   "cell_type": "code",
   "execution_count": 28,
   "id": "8774e619",
   "metadata": {},
   "outputs": [
    {
     "name": "stdout",
     "output_type": "stream",
     "text": [
      "[0, 1, 2, 3, 4, 2, 5, 6]\n"
     ]
    }
   ],
   "source": [
    "list_a.insert(5,2) # index 5의 자리에 들어간다 그리고 뒤로 밀어낸다\n",
    "print(list_a)"
   ]
  },
  {
   "cell_type": "code",
   "execution_count": 30,
   "id": "97ff0451",
   "metadata": {
    "scrolled": true
   },
   "outputs": [
    {
     "name": "stdout",
     "output_type": "stream",
     "text": [
      "[0, 1, 2, 3, 4, 2, 5, 6, 3, 3]\n"
     ]
    }
   ],
   "source": [
    "list_a.insert(11,3)\n",
    "print(list_a)"
   ]
  },
  {
   "cell_type": "code",
   "execution_count": 15,
   "id": "e94eedfd",
   "metadata": {},
   "outputs": [
    {
     "name": "stdout",
     "output_type": "stream",
     "text": [
      "[0, 1, 2, 3, 4, 2, 5, 6, 3, 3, 7, 8, 9]\n"
     ]
    }
   ],
   "source": [
    "list_a.extend([7,8,9]) #append인데 매개변수가 list인 것\n",
    "print(list_a)"
   ]
  },
  {
   "cell_type": "code",
   "execution_count": 16,
   "id": "df967d5f",
   "metadata": {},
   "outputs": [
    {
     "ename": "SyntaxError",
     "evalue": "invalid syntax (3897318534.py, line 1)",
     "output_type": "error",
     "traceback": [
      "\u001b[1;36m  Cell \u001b[1;32mIn[16], line 1\u001b[1;36m\u001b[0m\n\u001b[1;33m    del list_a[]\u001b[0m\n\u001b[1;37m               ^\u001b[0m\n\u001b[1;31mSyntaxError\u001b[0m\u001b[1;31m:\u001b[0m invalid syntax\n"
     ]
    }
   ],
   "source": [
    "del list_a[] #index 안넣으면 error 발생\n",
    "print(list_a)"
   ]
  },
  {
   "cell_type": "code",
   "execution_count": 17,
   "id": "c17b38ed",
   "metadata": {},
   "outputs": [
    {
     "name": "stdout",
     "output_type": "stream",
     "text": [
      "[0, 1, 2, 3, 4, 2, 5, 6, 3, 3, 7, 8]\n"
     ]
    }
   ],
   "source": [
    "list_a.pop() #index 안넣으면 마지막 요소 제거\n",
    "print(list_a)"
   ]
  },
  {
   "cell_type": "code",
   "execution_count": 21,
   "id": "bd84e464",
   "metadata": {},
   "outputs": [
    {
     "name": "stdout",
     "output_type": "stream",
     "text": [
      "52\n",
      "+52\n",
      " 52\n",
      "-52\n",
      "-52\n",
      "-52\n"
     ]
    }
   ],
   "source": [
    "output_a=\"{:d}\".format(52)\n",
    "output_b=\"{:+d}\".format(52)\n",
    "output_c=\"{: d}\".format(52)\n",
    "output_d=\"{:d}\".format(-52)\n",
    "output_e=\"{:+d}\".format(-52)\n",
    "output_f=\"{: d}\".format(-52)\n",
    "print(output_a)\n",
    "print(output_b)\n",
    "print(output_c)\n",
    "print(output_d)\n",
    "print(output_e)\n",
    "print(output_f)"
   ]
  },
  {
   "cell_type": "code",
   "execution_count": 24,
   "id": "c2df75bd",
   "metadata": {},
   "outputs": [
    {
     "name": "stdout",
     "output_type": "stream",
     "text": [
      "  +52\n",
      "  -52\n",
      "+  52\n",
      "-  52\n",
      "+0052\n",
      "-0052\n",
      "00052\n",
      "-0052\n",
      "0000000052\n",
      "-000000052\n"
     ]
    }
   ],
   "source": [
    "op_a=\"{:+5d}\".format(52)\n",
    "op_b=\"{:+5d}\".format(-52)\n",
    "op_c=\"{:=+5d}\".format(52)\n",
    "op_d=\"{:=+5d}\".format(-52)\n",
    "op_e=\"{:+05d}\".format(52)\n",
    "op_f=\"{:+05d}\".format(-52)\n",
    "op_g=\"{:05d}\".format(52)\n",
    "op_h=\"{:05d}\".format(-52)\n",
    "op_i=\"{:010d}\".format(52)\n",
    "op_j=\"{:010d}\".format(-52)\n",
    "print(op_a)\n",
    "print(op_b)\n",
    "print(op_c)\n",
    "print(op_d)\n",
    "print(op_e)\n",
    "print(op_f)\n",
    "print(op_g)\n",
    "print(op_h)\n",
    "print(op_i)\n",
    "print(op_j)\n",
    "# +는 부호 표시를 의미\n",
    "# 숫자 사용시 총 몇칸을 자지할지 의미\n",
    "# =이 있으면 부호와 숫자를 떨어뜨림"
   ]
  },
  {
   "cell_type": "code",
   "execution_count": 26,
   "id": "e095e733",
   "metadata": {},
   "outputs": [
    {
     "name": "stdout",
     "output_type": "stream",
     "text": [
      "3.2\n",
      "5\n"
     ]
    }
   ],
   "source": [
    "a=3.2\n",
    "b=5.0\n",
    "print(\"{:g}\" .format(a))\n",
    "print(\"{:g}\" .format(b))"
   ]
  },
  {
   "cell_type": "code",
   "execution_count": 35,
   "id": "079d671e",
   "metadata": {},
   "outputs": [
    {
     "name": "stdout",
     "output_type": "stream",
     "text": [
      "49\n",
      "97\n",
      "65\n",
      "12593\n",
      "44032\n",
      "44040\n",
      "45216\n",
      "False\n"
     ]
    }
   ],
   "source": [
    "print(ord('1'))\n",
    "print(ord('a'))\n",
    "print(ord('A'))\n",
    "print(ord('ㄱ'))\n",
    "print(ord('가'))\n",
    "print(ord('갈'))\n",
    "print(ord('날'))\n",
    "print('a'>'가')\n",
    "# 숫자 <대문자 < 소문자 < 한글\n",
    "# 크다는 의미가 사전순으로 나열시 뒤에 온다는 의미로 생각하면 편함"
   ]
  },
  {
   "cell_type": "code",
   "execution_count": 38,
   "id": "53969f0e",
   "metadata": {},
   "outputs": [
    {
     "name": "stdout",
     "output_type": "stream",
     "text": [
      "False\n"
     ]
    }
   ],
   "source": [
    "print('abc'>'abd')"
   ]
  },
  {
   "cell_type": "code",
   "execution_count": null,
   "id": "3e2ac0ce",
   "metadata": {},
   "outputs": [],
   "source": [
    "#연산자\n",
    "# and , or 을 사용하면 괄호가 필요없이도 동작하지만\n",
    "# & , | 사용하면 괄호로 묶어야한다"
   ]
  },
  {
   "cell_type": "code",
   "execution_count": null,
   "id": "996a16b5",
   "metadata": {},
   "outputs": [],
   "source": [
    "str.isalnum() # 알파벳 또는 숫자로만 구성되었는지\n",
    "str.isalpha() # 알파벳으로만 구성되었는지\n",
    "str.isidentifier() # 식별자로 사용할 수 있는지\n",
    "#유효한 식별자인경우 : 영문(A~z), 숫자(0~9), _ 로만 구성.\n",
    "#유효한 식별자가 아닌 경우 : 숫자로 시작, 공백이나 특수문자 포함.\n",
    "str.isdecimal() # 정수형태인지\n",
    "str.isdigit() # 숫자로 인식될 수 있는지\n",
    "str.isspace() # 공백으로만 구성되었는지\n",
    "str.islower() # 소문자로만 구성되었는지\n",
    "str.isupper() # 대문자로만 구성되었는지"
   ]
  },
  {
   "cell_type": "code",
   "execution_count": 49,
   "id": "2ff7270f",
   "metadata": {},
   "outputs": [
    {
     "name": "stdout",
     "output_type": "stream",
     "text": [
      "0 6\n"
     ]
    }
   ],
   "source": [
    "str1=\"helhelhel\".find(\"hel\")\n",
    "str2=\"helhelhel\".rfind(\"hel\")\n",
    "print(str1,str2)"
   ]
  },
  {
   "cell_type": "code",
   "execution_count": 53,
   "id": "71c4ce46",
   "metadata": {},
   "outputs": [
    {
     "data": {
      "text/plain": [
       "False"
      ]
     },
     "execution_count": 53,
     "metadata": {},
     "output_type": "execute_result"
    }
   ],
   "source": [
    "num1=-10\n",
    "num2=11\n",
    "num1>10 ^ num2>10"
   ]
  },
  {
   "cell_type": "code",
   "execution_count": 57,
   "id": "5682a510",
   "metadata": {},
   "outputs": [
    {
     "name": "stdout",
     "output_type": "stream",
     "text": [
      "pos\n"
     ]
    }
   ],
   "source": [
    "num=10\n",
    "result= \"pos\" if num > 0 else \"neg\"\n",
    "print(result)"
   ]
  },
  {
   "cell_type": "code",
   "execution_count": 62,
   "id": "ae537b6a",
   "metadata": {},
   "outputs": [
    {
     "name": "stdout",
     "output_type": "stream",
     "text": [
      "neg\n"
     ]
    }
   ],
   "source": [
    "num=-10\n",
    "result=\"pos\" if num >0 else \"zero\" if num==0  else \"neg\"\n",
    "result=\"pos\" if num >0 else (\"zero\" if num==0  else \"neg\")\n",
    "print(result)"
   ]
  },
  {
   "cell_type": "code",
   "execution_count": null,
   "id": "15004cc8",
   "metadata": {},
   "outputs": [],
   "source": [
    "\n",
    "\\n\t엔터\n",
    "\\t\tTab\n",
    "\\b\tBackspace\n",
    "\\\\\t\\\n",
    "\\\"\t\"\n",
    "\\'\t'\n",
    "r-string (raw string)\n",
    "문자열 앞에 r 접두어를 붙인다. (raw)\n",
    "escape 문자구분자인 \\를 무시하여 escape 문자로 변환하지 않고 작성한 그대로 사용한다.\n",
    "ex) r\"c:\\test\\example\\a.txt\""
   ]
  },
  {
   "cell_type": "code",
   "execution_count": 64,
   "id": "f1f93701",
   "metadata": {
    "collapsed": true
   },
   "outputs": [
    {
     "name": "stdout",
     "output_type": "stream",
     "text": [
      "a\n",
      "b\n",
      "c\n",
      "d\n",
      "e\n",
      "f\n",
      "g\n",
      "h\n",
      "i\n",
      "j\n",
      "k\n",
      "l\n",
      "m\n",
      "n\n",
      "o\n",
      "p\n",
      "q\n",
      "r\n",
      "s\n",
      "t\n",
      "u\n",
      "v\n",
      "w\n",
      "x\n",
      "y\n",
      "z\n"
     ]
    }
   ],
   "source": [
    "str=\"abcdefghijklmnopqrstuvwxyz\"\n",
    "for i in range(len(str)):\n",
    "    print(str[i])"
   ]
  },
  {
   "cell_type": "code",
   "execution_count": 65,
   "id": "f9aedb90",
   "metadata": {},
   "outputs": [
    {
     "name": "stdout",
     "output_type": "stream",
     "text": [
      "abcdef\n"
     ]
    }
   ],
   "source": [
    "str1=\"abc\"\n",
    "str1+='def'\n",
    "print(str1)"
   ]
  },
  {
   "cell_type": "code",
   "execution_count": 70,
   "id": "01750f66",
   "metadata": {},
   "outputs": [
    {
     "name": "stdout",
     "output_type": "stream",
     "text": [
      "글자수: 6\n",
      "글자수: hi\n",
      "글자수:hi\n"
     ]
    }
   ],
   "source": [
    "print(\"글자수:\",len(str1))\n",
    "#print(\"글자수:\"+len(str1)) 오류 발생\n",
    "print(\"글자수:\",\"hi\")\n",
    "print(\"글자수:\"+\"hi\")"
   ]
  },
  {
   "cell_type": "code",
   "execution_count": 83,
   "id": "098133fa",
   "metadata": {},
   "outputs": [
    {
     "data": {
      "text/plain": [
       "'000123456'"
      ]
     },
     "execution_count": 83,
     "metadata": {},
     "output_type": "execute_result"
    }
   ],
   "source": [
    "#양수 index 음수 index 혼용 가능\n",
    "s2=\"0000123456789\"\n",
    "s2[1:-3]"
   ]
  },
  {
   "cell_type": "code",
   "execution_count": 87,
   "id": "e7199218",
   "metadata": {},
   "outputs": [
    {
     "data": {
      "text/plain": [
       "'9876543210000'"
      ]
     },
     "execution_count": 87,
     "metadata": {},
     "output_type": "execute_result"
    }
   ],
   "source": [
    "s2[-1::-1]"
   ]
  },
  {
   "cell_type": "code",
   "execution_count": 85,
   "id": "0be30ced",
   "metadata": {},
   "outputs": [
    {
     "data": {
      "text/plain": [
       "'aaaa123456789'"
      ]
     },
     "execution_count": 85,
     "metadata": {},
     "output_type": "execute_result"
    }
   ],
   "source": [
    "s2.replace('0', 'a')"
   ]
  },
  {
   "cell_type": "code",
   "execution_count": 79,
   "id": "336381fa",
   "metadata": {},
   "outputs": [
    {
     "data": {
      "text/plain": [
       "'02468'"
      ]
     },
     "execution_count": 79,
     "metadata": {},
     "output_type": "execute_result"
    }
   ],
   "source": [
    "s2[::2]"
   ]
  },
  {
   "cell_type": "code",
   "execution_count": null,
   "id": "5272a694",
   "metadata": {},
   "outputs": [],
   "source": [
    "value=2\n",
    "while value in list :\n",
    "    list.remove(value)"
   ]
  },
  {
   "cell_type": "code",
   "execution_count": null,
   "id": "ffe03526",
   "metadata": {},
   "outputs": [],
   "source": [
    "list.sort()\n",
    "list.sort(reverse=True)"
   ]
  },
  {
   "cell_type": "code",
   "execution_count": 31,
   "id": "c2a33af5",
   "metadata": {},
   "outputs": [
    {
     "name": "stdout",
     "output_type": "stream",
     "text": [
      "i\n",
      "d\n",
      "k\n",
      "w\n",
      "1\n",
      "0\n",
      "3\n",
      "k\n"
     ]
    }
   ],
   "source": [
    "str1=\"idkw103k\"\n",
    "for i in str1:\n",
    "    print(i)"
   ]
  },
  {
   "cell_type": "code",
   "execution_count": 42,
   "id": "826658a4",
   "metadata": {},
   "outputs": [
    {
     "name": "stdout",
     "output_type": "stream",
     "text": [
      "yes\n"
     ]
    }
   ],
   "source": [
    "dic_a={\"minsu\" : 3000, \"yuseok\" : 5000, \"jinsu\" : 1000}\n",
    "print(\"yes\") if \"minsu\" in dic_a else print(\"no\")\n",
    "# key 값만 찾기 가능\n"
   ]
  },
  {
   "cell_type": "code",
   "execution_count": 43,
   "id": "3fad940d",
   "metadata": {},
   "outputs": [
    {
     "data": {
      "text/plain": [
       "5000"
      ]
     },
     "execution_count": 43,
     "metadata": {},
     "output_type": "execute_result"
    }
   ],
   "source": [
    "dic_a[\"yuseok\"]"
   ]
  },
  {
   "cell_type": "code",
   "execution_count": 45,
   "id": "29aad424",
   "metadata": {},
   "outputs": [
    {
     "name": "stdout",
     "output_type": "stream",
     "text": [
      "1 2 3 4\n"
     ]
    }
   ],
   "source": [
    "a=[1,2,3,4]\n",
    "print(*a)"
   ]
  },
  {
   "cell_type": "code",
   "execution_count": 48,
   "id": "ca6c9c40",
   "metadata": {},
   "outputs": [],
   "source": [
    "dic_a[\"minsu\"]+=5000"
   ]
  },
  {
   "cell_type": "code",
   "execution_count": 49,
   "id": "0156716a",
   "metadata": {},
   "outputs": [
    {
     "data": {
      "text/plain": [
       "{'minsu': 10000, 'yuseok': 5000, 'jinsu': 1000}"
      ]
     },
     "execution_count": 49,
     "metadata": {},
     "output_type": "execute_result"
    }
   ],
   "source": [
    "dic_a"
   ]
  },
  {
   "cell_type": "code",
   "execution_count": 51,
   "id": "74b1ae4c",
   "metadata": {},
   "outputs": [
    {
     "name": "stdout",
     "output_type": "stream",
     "text": [
      "jjojoj ['j', 'j', 'o', 'j', 'o', 'j']\n"
     ]
    }
   ],
   "source": [
    "k='jjojoj'\n",
    "j=list(k)\n",
    "print(k,j)"
   ]
  },
  {
   "cell_type": "code",
   "execution_count": 3,
   "id": "1cbd7318",
   "metadata": {},
   "outputs": [
    {
     "name": "stdout",
     "output_type": "stream",
     "text": [
      "True\n"
     ]
    }
   ],
   "source": [
    "a=[1,2,5,3,7,2,4,6,9,10,4,11,3,12,5,7]\n",
    "print(a[2]<max(a[2:]))"
   ]
  },
  {
   "cell_type": "code",
   "execution_count": 33,
   "id": "f84adc38",
   "metadata": {},
   "outputs": [],
   "source": [
    "def solution(plans):\n",
    "    sub=[]\n",
    "    st=[]\n",
    "    l=[]\n",
    "    ll=[]\n",
    "    answer=[]\n",
    "    keep=[]\n",
    "    for i in plans:\n",
    "        sub.append(i[0])\n",
    "        st.append(i[1].split(\":\"))\n",
    "        l.append(i[2])\n",
    "    st0=tuple(st)\n",
    "    print('st0',st0)\n",
    "    st.sort()\n",
    "    st1=tuple(st)\n",
    "    print('st1',st1)\n",
    "    #print('st',st)\n",
    "    #print(l)\n",
    "    for i in range(len(st)):\n",
    "        #print(\"   \",l[st0.index(st1[i])])\n",
    "        st[i].insert(1,str(int(st[i][1])+int(l[st0.index(st1[i])])))\n",
    "        st[i]=st[i][:2]\n",
    "        ll.append(int(l[st0.index(st1[i])]))\n",
    "    print('ll',ll)\n",
    "    #print('st ',st)\n",
    "    for i in st :\n",
    "        if int(i[1])>60 :\n",
    "            i[0]=str(int(i[0])+int(i[1])//60)\n",
    "            i[1]=str(int(i[1])%60)\n",
    "    #print('st ',st)\n",
    "   # print(st[0]<st[1])\n",
    "    print('st1',st1)\n",
    "    #while len(plans)>len(answer):\n",
    "    for i in range(len(st1)-1) :\n",
    "        if int(st1[i][0]) == int(st1[i+1][0]) :\n",
    "            if (int(st1[i][1])+ll[i]) <= int(st1[i+1][2]) :\n",
    "                print(int(st1[i][1]),ll[i],int(st1[i+1][1]))\n",
    "                answer.append(plans[st0.index(st1[i])][0])\n",
    "                print('1a',answer)\n",
    "            else :\n",
    "                ll[i]-=(int(st1[i+1][1])-int(st1[i][1]))\n",
    "                keep.append(plans[st0.index(st1[i])][0])\n",
    "                print('2k',keep)\n",
    "        else :\n",
    "            if (int(st1[i][1])+ll[i]) <= (int(st1[i+1][1])+60*(int(st1[i+1][0])-int(st1[i][0])))  :\n",
    "                print(int(st1[i][1]),ll[i],int(st1[i+1][1])+60*(int(st1[i+1][0])-int(st1[i][0])))\n",
    "                answer.append(plans[st0.index(st1[i])][0])\n",
    "                print('3a',answer)\n",
    "            else :\n",
    "                ll[i]-=(int(st1[i+1][1])-int(st1[i][1]))\n",
    "                keep.append(plans[st0.index(st1[i])][0])\n",
    "                print('4k',keep)\n",
    "                    \n",
    "    answer.append(plans[st0.index(st1[len(st1)-1])][0])\n",
    "    print('5a',answer)\n",
    "    for i in range(-1,-len(keep)-1,-1) :\n",
    "        answer.append(keep[i])\n",
    "    print('6a',answer)\n",
    "    print('7k',keep)\n",
    "    \n",
    "    return answer"
   ]
  },
  {
   "cell_type": "code",
   "execution_count": 32,
   "id": "5afeec12",
   "metadata": {},
   "outputs": [
    {
     "name": "stdout",
     "output_type": "stream",
     "text": [
      "st0 (['12', '40'], ['12', '20'], ['14', '00'], ['12', '30'])\n",
      "st1 (['12', '20'], ['12', '30'], ['12', '40'], ['14', '00'])\n",
      "ll [40, 100, 50, 30]\n",
      "st1 (['12', '60', '20'], ['12', '130', '30'], ['12', '90', '40'], ['14', '30', '00'])\n",
      "2k ['music']\n",
      "2k ['music', 'computer']\n",
      "90 50 150\n",
      "3a ['science']\n",
      "5a ['science', 'history']\n",
      "6a ['science', 'history', 'computer', 'computer']\n",
      "7k ['music', 'computer']\n"
     ]
    },
    {
     "data": {
      "text/plain": [
       "['science', 'history', 'computer', 'computer']"
      ]
     },
     "execution_count": 32,
     "metadata": {},
     "output_type": "execute_result"
    }
   ],
   "source": [
    "solution([[\"science\", \"12:40\", \"50\"], [\"music\", \"12:20\", \"40\"], [\"history\", \"14:00\", \"30\"], [\"computer\", \"12:30\", \"100\"]])"
   ]
  },
  {
   "cell_type": "code",
   "execution_count": 39,
   "id": "7bc60718",
   "metadata": {},
   "outputs": [],
   "source": [
    "def solution1(plans):\n",
    "    sub=[]\n",
    "    st=[]\n",
    "    l=[]\n",
    "    ll=[]\n",
    "    answer=[]\n",
    "    keep=[]\n",
    "    for i in plans:\n",
    "        sub.append(i[0])\n",
    "        st.append(i[1].split(\":\"))\n",
    "        l.append(i[2])\n",
    "    st0=tuple(st)\n",
    "    print('st0',st0)\n",
    "    st.sort()\n",
    "    st1=tuple(st)\n",
    "    print('st1',st1)\n",
    "    #print('st',st)\n",
    "    #print(l)\n",
    "    for i in range(len(st)):\n",
    "        #print(\"   \",l[st0.index(st1[i])])\n",
    "        st[i].insert(1,str(int(st[i][1])+int(l[st0.index(st1[i])])))\n",
    "        st[i]=st[i][:2]\n",
    "        ll.append(int(l[st0.index(st1[i])]))\n",
    "    print('ll',ll)\n",
    "    #print('st ',st)\n",
    "    for i in st :\n",
    "        if int(i[1])>60 :\n",
    "            i[0]=str(int(i[0])+int(i[1])//60)\n",
    "            i[1]=str(int(i[1])%60)\n",
    "    #print('st ',st)\n",
    "   # print(st[0]<st[1])\n",
    "    print(st0)\n",
    "    print(st1)\n",
    "    #while len(plans)>len(answer):\n",
    "    for i in range(len(st1)-1) :\n",
    "        if int(st1[i][0]) == int(st1[i+1][0]) :\n",
    "            if (int(st1[i][1])+ll[i]) <= int(st1[i+1][2]) :\n",
    "                print(int(st1[i][1]),ll[i],int(st1[i+1][1]))\n",
    "                answer.append(plans[st0.index(st1[i])][0])\n",
    "                print('1a',answer)\n",
    "            else :\n",
    "                ll[i]-=(int(st1[i+1][1])-int(st1[i][1]))\n",
    "                keep.append(plans[st0.index(st1[i])][0])\n",
    "                print('2k',keep)\n",
    "        else :\n",
    "            if (int(st1[i][1])+ll[i]) <= (int(st1[i+1][1])+60*(int(st1[i+1][0])-int(st1[i][0])))  :\n",
    "                print(int(st1[i][1]),ll[i],int(st1[i+1][1])+60*(int(st1[i+1][0])-int(st1[i][0])))\n",
    "                answer.append(plans[st0.index(st1[i])][0])\n",
    "                print('3a',answer)\n",
    "            else :\n",
    "                ll[i]-=(int(st1[i+1][1])-int(st1[i][1]))\n",
    "                keep.append(plans[st0.index(st1[i])][0])\n",
    "                print('4k',keep)\n",
    "                    \n",
    "    answer.append(plans[st0.index(st1[len(st1)-1])][0])\n",
    "    \n",
    "    print('5a',answer)\n",
    "    for i in range(-1,-len(keep)-1,-1) :\n",
    "        answer.append(keep[i])\n",
    "    print('6a',answer)\n",
    "    print('7k',keep)\n",
    "    \n",
    "    return answer"
   ]
  },
  {
   "cell_type": "code",
   "execution_count": 40,
   "id": "210a6702",
   "metadata": {},
   "outputs": [
    {
     "name": "stdout",
     "output_type": "stream",
     "text": [
      "st0 (['12', '40'], ['12', '20'], ['14', '00'], ['12', '30'])\n",
      "st1 (['12', '20'], ['12', '30'], ['12', '40'], ['14', '00'])\n",
      "ll [40, 100, 50, 30]\n",
      "(['12', '90', '40'], ['12', '60', '20'], ['14', '30', '00'], ['12', '130', '30'])\n",
      "(['12', '60', '20'], ['12', '130', '30'], ['12', '90', '40'], ['14', '30', '00'])\n",
      "2k ['music']\n",
      "2k ['music', 'computer']\n",
      "90 50 150\n",
      "3a ['science']\n",
      "5a ['science', 'history']\n",
      "6a ['science', 'history', 'computer', 'music']\n",
      "7k ['music', 'computer']\n"
     ]
    },
    {
     "data": {
      "text/plain": [
       "['science', 'history', 'computer', 'music']"
      ]
     },
     "execution_count": 40,
     "metadata": {},
     "output_type": "execute_result"
    }
   ],
   "source": [
    "solution1([[\"science\", \"12:40\", \"50\"], [\"music\", \"12:20\", \"40\"], [\"history\", \"14:00\", \"30\"], [\"computer\", \"12:30\", \"100\"]])"
   ]
  },
  {
   "cell_type": "code",
   "execution_count": 171,
   "id": "d6b91e5e",
   "metadata": {},
   "outputs": [],
   "source": [
    "# 시간 분리해서 분형태로 변환\n",
    "# 과제 시간 적립\n",
    "#keept - keep한 과제 남은 시간\n",
    "#keepl - keep한 과제 이름\n",
    "#plan이 [\"science\", \"12:40\", \"50\"] 형태 이므로\n",
    "def solu(plan) :\n",
    "    plan1=[]\n",
    "    plan2=[]\n",
    "    plan3=[]\n",
    "    for i in plan :\n",
    "        plan1.append(i[0])\n",
    "        plan2.append(i[1].split(\":\"))\n",
    "        plan3.append(int(i[2]))\n",
    "    for i in range(len(plan2)) :\n",
    "        plan2.insert(i,[int(plan2[i][0])*60+int(plan2[i][1]),int(plan[i][2])])\n",
    "        plan2.pop(i+1)\n",
    "    plan2t=[]\n",
    "    plan2t=tuple(plan2)\n",
    "    plan2.sort()\n",
    "    for i in range(len(plan2)) :\n",
    "        plan1.append(plan1[plan2t.index(plan2[i])])\n",
    "        plan3.append(plan3[plan2t.index(plan2[i])])\n",
    "    plan1=plan1[len(plan2):]\n",
    "    plan3=plan3[len(plan2):]\n",
    "    \n",
    "    keep=[]\n",
    "    answer=[]\n",
    "    time=plan2[0][0]\n",
    "    for i in range(len(plan2)):\n",
    "        print(i)\n",
    "        if i <(len(plan2)-1) :\n",
    "            if ((plan2[i][0]+plan3[i]) <= (plan2[i+1][0])) :\n",
    "                answer.append(plan1[i])\n",
    "                if len(keep) > 0:\n",
    "                    if plan3[plan1.index(keep[-1])] >(plan2[i+1][0]-plan2[i][0]) :\n",
    "                        plan3[-1]-=(plan2[i+1][0]-plan2[i][0])\n",
    "                    else :\n",
    "                        answer.append(keep[-1])\n",
    "            else :\n",
    "                keep.append(plan1[i])\n",
    "                plan3[i] -=(plan2[i+1][0]-plan2[i][0])\n",
    "        else :\n",
    "            keep.append(plan1[i])\n",
    "    for i in plan1 :\n",
    "        pass\n",
    "    print(answer)\n",
    "    print(keep)\n",
    "    for i in range(-1,-len(keep)-1,-1) :\n",
    "        answer.append(keep[i])\n",
    "    \n",
    "    \n",
    "    return answer"
   ]
  },
  {
   "cell_type": "code",
   "execution_count": 172,
   "id": "55000d82",
   "metadata": {},
   "outputs": [
    {
     "name": "stdout",
     "output_type": "stream",
     "text": [
      "0\n",
      "1\n",
      "2\n",
      "3\n",
      "['science']\n",
      "['music', 'computer', 'history']\n"
     ]
    },
    {
     "data": {
      "text/plain": [
       "['science', 'history', 'computer', 'music']"
      ]
     },
     "execution_count": 172,
     "metadata": {},
     "output_type": "execute_result"
    }
   ],
   "source": [
    "solu([[\"science\", \"12:40\", \"50\"], [\"music\", \"12:20\", \"40\"], [\"history\", \"14:00\", \"30\"], [\"computer\", \"12:30\", \"100\"]])"
   ]
  },
  {
   "cell_type": "code",
   "execution_count": null,
   "id": "ef6abb86",
   "metadata": {},
   "outputs": [],
   "source": []
  },
  {
   "cell_type": "code",
   "execution_count": null,
   "id": "1aec5390",
   "metadata": {},
   "outputs": [],
   "source": []
  },
  {
   "cell_type": "code",
   "execution_count": null,
   "id": "7e59febf",
   "metadata": {},
   "outputs": [],
   "source": []
  }
 ],
 "metadata": {
  "kernelspec": {
   "display_name": "Python 3 (ipykernel)",
   "language": "python",
   "name": "python3"
  },
  "language_info": {
   "codemirror_mode": {
    "name": "ipython",
    "version": 3
   },
   "file_extension": ".py",
   "mimetype": "text/x-python",
   "name": "python",
   "nbconvert_exporter": "python",
   "pygments_lexer": "ipython3",
   "version": "3.10.9"
  }
 },
 "nbformat": 4,
 "nbformat_minor": 5
}
