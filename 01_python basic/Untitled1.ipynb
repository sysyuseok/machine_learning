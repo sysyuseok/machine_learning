{
 "cells": [
  {
   "cell_type": "code",
   "execution_count": 1,
   "id": "366ad163",
   "metadata": {},
   "outputs": [],
   "source": [
    "def solution(string):\n",
    "    str=''\n",
    "    for i in range(len(string)):\n",
    "        if string[i].isalnum() :\n",
    "          str+=string[i]\n",
    "    str1=str.lower()\n",
    "    str2=str1[::-1]\n",
    "    return print(True) if str1==str2 else print(False)"
   ]
  },
  {
   "cell_type": "code",
   "execution_count": 2,
   "id": "649f993c",
   "metadata": {},
   "outputs": [
    {
     "name": "stdout",
     "output_type": "stream",
     "text": [
      "True\n",
      "False\n"
     ]
    }
   ],
   "source": [
    "solution(\"A man, a plan, a canal : Panama\")\n",
    "solution(\"race a car\")"
   ]
  },
  {
   "cell_type": "code",
   "execution_count": 4,
   "id": "c523dec2",
   "metadata": {},
   "outputs": [
    {
     "name": "stdout",
     "output_type": "stream",
     "text": [
      "[[1, 2], [2, 1], [3, 2], [5, 1], [6, 4], [7, 2]]\n"
     ]
    }
   ],
   "source": [
    "li=[[1,2],[5,1],[3,2],[2,1],[7,2],[6,4]]\n",
    "li.sort()\n",
    "print(li)\n"
   ]
  },
  {
   "cell_type": "code",
   "execution_count": 9,
   "id": "20662d1c",
   "metadata": {},
   "outputs": [
    {
     "name": "stdout",
     "output_type": "stream",
     "text": [
      "[9, 18, 27, 36, 45, 8, 16, 24, 32, 40, 7, 14, 21, 28, 35, 6, 12, 18, 24, 30]\n"
     ]
    }
   ],
   "source": [
    "lil=[10,20,30,40,50]\n",
    "p=[0.9,0.8,0.7,0.6]\n",
    "l=[]\n",
    "for i in p :\n",
    "    for k in lil:\n",
    "        l.append(int(i*k))\n",
    "print(l)"
   ]
  },
  {
   "cell_type": "code",
   "execution_count": 65,
   "id": "bc9e6c70",
   "metadata": {},
   "outputs": [],
   "source": [
    "def solution(cap, n, deliveries, pickups):\n",
    "    answer = 0\n",
    "    k=len(pickups)\n",
    "    print(1)\n",
    "    while sum(deliveries)+sum(pickups)>0:\n",
    "        print(11,sum(deliveries),sum(pickups))\n",
    "        if sum(deliveries)>=cap :\n",
    "            c=cap\n",
    "            while c>0 :\n",
    "                print(2)\n",
    "                for i in range(-k,0):\n",
    "                    if c > deliveries[i]:\n",
    "                        print(21)\n",
    "                        c-=deliveries[i]\n",
    "                        deliveries[i]=0\n",
    "                        if c==0:\n",
    "                            p=i\n",
    "                            m=(i+k)\n",
    "                            answer+=(2*m)\n",
    "                            print(2*m,'a')\n",
    "                            break\n",
    "                    else :\n",
    "                        print(22)\n",
    "                        p=i\n",
    "                        m=(i+k)\n",
    "                        answer+=(2*m)\n",
    "                        print(2*m,'a')\n",
    "                        deliveries[i]-=c\n",
    "                        c=0\n",
    "                        break\n",
    "            while c<cap :\n",
    "                print(3)\n",
    "                for i in range(-p,-k,-1):\n",
    "                    if (cap-c) > pickups[i] :\n",
    "                        print(31)\n",
    "                        c+=pickups[i]\n",
    "                        pickups[i]=0\n",
    "                        if c==cap:\n",
    "                            break\n",
    "                    else :\n",
    "                        print(32)\n",
    "                        c=cap\n",
    "                        pickups[i]-=(cap-c)\n",
    "                        break\n",
    "        else :\n",
    "            c=sum(deliveries)\n",
    "            while c>0 :\n",
    "                for i in range(-k,0):\n",
    "                    if c > deliveries[i]:\n",
    "                        print(41,i)\n",
    "                        c-=deliveries[i]\n",
    "                        deliveries[i]=0\n",
    "                        if c==0:\n",
    "                            p=i\n",
    "                            m=(i+k)\n",
    "                            answer+=(2*m)\n",
    "                            print(2*m,'a')\n",
    "                            break\n",
    "                    else :\n",
    "                        print(42)\n",
    "                        p=i\n",
    "                        m=(i+k)\n",
    "                        answer+=(2*m)\n",
    "                        print(2*m,'a')\n",
    "                        deliveries[i]-=c\n",
    "                        c=0\n",
    "                        break\n",
    "            while c<cap :\n",
    "                print(5)\n",
    "                for i in range(-p,-k,-1):\n",
    "                    if (cap-c) > pickups[i] :\n",
    "                        c+=pickups[i]\n",
    "                        pickups[i]=0\n",
    "                        print(51,c)\n",
    "                        if c==cap:\n",
    "                            break\n",
    "                    else :\n",
    "                        c=cap\n",
    "                        pickups[i]-=c\n",
    "                        print(52,c)\n",
    "                        break\n",
    "            print(deliveries,pickups)\n",
    "                \n",
    "    return print(answer,'answer')"
   ]
  },
  {
   "cell_type": "code",
   "execution_count": 66,
   "id": "7c5d7218",
   "metadata": {},
   "outputs": [
    {
     "name": "stdout",
     "output_type": "stream",
     "text": [
      "1\n",
      "11 7 7\n",
      "2\n",
      "21\n",
      "21\n",
      "22\n",
      "4 a\n",
      "3\n",
      "32\n",
      "11 3 7\n",
      "41 -5\n",
      "41 -4\n",
      "41 -3\n",
      "41 -2\n",
      "42\n",
      "8 a\n",
      "5\n",
      "51 3\n",
      "51 3\n",
      "51 3\n",
      "52 4\n",
      "[0, 0, 0, 0, 0] [0, 0, 0, 0, 0]\n",
      "12 answer\n"
     ]
    }
   ],
   "source": [
    "solution(4,5,[1,0,3,1,2],[0,3,0,4,0])"
   ]
  },
  {
   "cell_type": "code",
   "execution_count": null,
   "id": "0c919c24",
   "metadata": {},
   "outputs": [],
   "source": [
    "for i in range(-5,-1,1):\n",
    "    print(i)"
   ]
  }
 ],
 "metadata": {
  "kernelspec": {
   "display_name": "Python 3 (ipykernel)",
   "language": "python",
   "name": "python3"
  },
  "language_info": {
   "codemirror_mode": {
    "name": "ipython",
    "version": 3
   },
   "file_extension": ".py",
   "mimetype": "text/x-python",
   "name": "python",
   "nbconvert_exporter": "python",
   "pygments_lexer": "ipython3",
   "version": "3.10.9"
  }
 },
 "nbformat": 4,
 "nbformat_minor": 5
}
