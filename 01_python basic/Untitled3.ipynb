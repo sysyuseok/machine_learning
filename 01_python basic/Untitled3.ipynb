{
 "cells": [
  {
   "cell_type": "code",
   "execution_count": 35,
   "id": "5812a7a9",
   "metadata": {},
   "outputs": [],
   "source": [
    "def solution(n, lost, reserve):\n",
    "    anl=[]\n",
    "    k=0\n",
    "    for i in range(len(lost)):\n",
    "        anl.append(0)\n",
    "        if lost[i]-1 in reserve :\n",
    "            anl[i]+=1\n",
    "        if lost[i]+1 in reserve :\n",
    "            anl[i]+=2\n",
    "    print(anl,lost,reserve)\n",
    "    for i in range(len(anl)):\n",
    "        if i==(len(anl)-1):\n",
    "            print(anl,lost,i)\n",
    "        if anl[i]==1:\n",
    "            k+=1\n",
    "            print(lost[i],i)\n",
    "            anl[i]-=1\n",
    "            reserve[reserve.index(lost[i]-1)]=0\n",
    "            if lost[i]-2 in lost :\n",
    "                anl[i-1]-=2\n",
    "                \n",
    "        elif anl[i]==2:\n",
    "            k+=1\n",
    "            print(lost[i],i)\n",
    "            anl[i]-=2\n",
    "            reserve[reserve.index(lost[i]+1)]=0\n",
    "            if lost[i]+2 in lost:\n",
    "                anl[i+1]-=1\n",
    "    print(k)\n",
    "    print(anl,lost,reserve)\n",
    "    return n-len(lost)+k+anl.count(1)+anl.count(2)"
   ]
  },
  {
   "cell_type": "code",
   "execution_count": 23,
   "id": "8b1dd6ed",
   "metadata": {},
   "outputs": [
    {
     "name": "stdout",
     "output_type": "stream",
     "text": [
      "[2, 3, 3, 1] [1, 3, 5, 7] [2, 4, 6, 9]\n",
      "1\n",
      "3\n",
      "5\n",
      "[1, 3, 5, 7] [0, 0, 0, 0]\n"
     ]
    },
    {
     "data": {
      "text/plain": [
       "8"
      ]
     },
     "execution_count": 23,
     "metadata": {},
     "output_type": "execute_result"
    }
   ],
   "source": [
    "solution(9,[1, 3, 5, 7],[2, 4, 6, 9]) # 8"
   ]
  },
  {
   "cell_type": "code",
   "execution_count": 36,
   "id": "a1b1626e",
   "metadata": {},
   "outputs": [
    {
     "name": "stdout",
     "output_type": "stream",
     "text": [
      "[1, 3, 1, 0] [2, 7, 9, 10] [1, 4, 5, 6, 8]\n",
      "2 0\n",
      "9 2\n",
      "[0, 1, 0, 0] [2, 7, 9, 10] 3\n",
      "2\n",
      "[0, 1, 0, 0] [2, 7, 9, 10] [0, 4, 5, 6, 0]\n"
     ]
    },
    {
     "data": {
      "text/plain": [
       "10"
      ]
     },
     "execution_count": 36,
     "metadata": {},
     "output_type": "execute_result"
    }
   ],
   "source": [
    "solution(11,[2, 7, 9, 10],[1, 4, 5, 6, 8]) # 10"
   ]
  },
  {
   "cell_type": "code",
   "execution_count": null,
   "id": "1d07cdc8",
   "metadata": {},
   "outputs": [],
   "source": [
    "def solution(n, lost, reserve):\n",
    "    anl=[]\n",
    "    k=0\n",
    "    for i in range(len(lost)):\n",
    "        anl.append(0)\n",
    "        if lost[i]-1 in reserve :\n",
    "            anl[i]+=1\n",
    "        if lost[i]+1 in reserve :\n",
    "            anl[i]+=2\n",
    "    #print(anl,lost,reserve)\n",
    "    for i in range(len(anl)):\n",
    "        if anl[i]==1:\n",
    "            k+=1\n",
    "            #print(lost[i],i)\n",
    "            anl[i]-=1\n",
    "            reserve[reserve.index(lost[i]-1)]=0\n",
    "            if lost[i]-2 in lost :\n",
    "                anl[i-1]-=2\n",
    "        elif anl[i]==2:\n",
    "            k+=1\n",
    "            #print(lost[i],i)\n",
    "            anl[i]-=2\n",
    "            reserve[reserve.index(lost[i]+1)]=0\n",
    "            if lost[i]+2 in lost:\n",
    "                anl[i+1]-=1\n",
    "    #print(k)\n",
    "    #print(anl,lost,reserve)\n",
    "    return n-len(lost)+k+anl.count(1)+anl.count(2)+anl.count(3)"
   ]
  },
  {
   "cell_type": "code",
   "execution_count": 42,
   "id": "ce100917",
   "metadata": {},
   "outputs": [],
   "source": [
    "from itertools import permutations, combinations\n",
    "def solution(numbers):\n",
    "    lin=[]\n",
    "    ka=[]\n",
    "    kb=[]\n",
    "    for i in numbers:\n",
    "        lin.append(int(i))\n",
    "    for i in range(2,len(numbers)+1) :\n",
    "        ka+=list(permutations(lin,i))\n",
    "    print(ka)\n",
    "    for i in range(len(ka)) :\n",
    "        kb.append(0)\n",
    "        print(ka[i])\n",
    "        for j in range(len(ka[i])):\n",
    "            kb+=(ka[i][j]*pow(10,(len(ka[i])-j)))\n",
    "    print(kb)\n",
    "    "
   ]
  },
  {
   "cell_type": "code",
   "execution_count": 43,
   "id": "cc072a37",
   "metadata": {},
   "outputs": [
    {
     "name": "stdout",
     "output_type": "stream",
     "text": [
      "[(1, 7), (7, 1)]\n",
      "(1, 7)\n"
     ]
    },
    {
     "ename": "TypeError",
     "evalue": "'int' object is not iterable",
     "output_type": "error",
     "traceback": [
      "\u001b[1;31m---------------------------------------------------------------------------\u001b[0m",
      "\u001b[1;31mTypeError\u001b[0m                                 Traceback (most recent call last)",
      "Cell \u001b[1;32mIn[43], line 1\u001b[0m\n\u001b[1;32m----> 1\u001b[0m \u001b[43msolution\u001b[49m\u001b[43m(\u001b[49m\u001b[38;5;124;43m\"\u001b[39;49m\u001b[38;5;124;43m17\u001b[39;49m\u001b[38;5;124;43m\"\u001b[39;49m\u001b[43m)\u001b[49m\n",
      "Cell \u001b[1;32mIn[42], line 15\u001b[0m, in \u001b[0;36msolution\u001b[1;34m(numbers)\u001b[0m\n\u001b[0;32m     13\u001b[0m     \u001b[38;5;28mprint\u001b[39m(ka[i])\n\u001b[0;32m     14\u001b[0m     \u001b[38;5;28;01mfor\u001b[39;00m j \u001b[38;5;129;01min\u001b[39;00m \u001b[38;5;28mrange\u001b[39m(\u001b[38;5;28mlen\u001b[39m(ka[i])):\n\u001b[1;32m---> 15\u001b[0m         kb\u001b[38;5;241m+\u001b[39m\u001b[38;5;241m=\u001b[39m(ka[i][j]\u001b[38;5;241m*\u001b[39m\u001b[38;5;28mpow\u001b[39m(\u001b[38;5;241m10\u001b[39m,(\u001b[38;5;28mlen\u001b[39m(ka[i])\u001b[38;5;241m-\u001b[39mj)))\n\u001b[0;32m     16\u001b[0m \u001b[38;5;28mprint\u001b[39m(kb)\n",
      "\u001b[1;31mTypeError\u001b[0m: 'int' object is not iterable"
     ]
    }
   ],
   "source": [
    "solution(\"17\")"
   ]
  },
  {
   "cell_type": "code",
   "execution_count": null,
   "id": "6e7e8f53",
   "metadata": {},
   "outputs": [],
   "source": []
  }
 ],
 "metadata": {
  "kernelspec": {
   "display_name": "Python 3 (ipykernel)",
   "language": "python",
   "name": "python3"
  },
  "language_info": {
   "codemirror_mode": {
    "name": "ipython",
    "version": 3
   },
   "file_extension": ".py",
   "mimetype": "text/x-python",
   "name": "python",
   "nbconvert_exporter": "python",
   "pygments_lexer": "ipython3",
   "version": "3.10.9"
  }
 },
 "nbformat": 4,
 "nbformat_minor": 5
}
