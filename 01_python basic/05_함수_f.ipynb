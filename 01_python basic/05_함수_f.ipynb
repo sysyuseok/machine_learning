{
 "cells": [
  {
   "cell_type": "code",
   "execution_count": 2,
   "metadata": {},
   "outputs": [
    {
     "name": "stdout",
     "output_type": "stream",
     "text": [
      "안녕하세요\n",
      "나이 : 30\n"
     ]
    }
   ],
   "source": [
    "print(\"안녕하세요\")\n",
    "age = 30\n",
    "print(\"나이 : {}\".format(age))"
   ]
  },
  {
   "cell_type": "code",
   "execution_count": 5,
   "metadata": {},
   "outputs": [
    {
     "name": "stdout",
     "output_type": "stream",
     "text": [
      "이름:ㅁㅁㅁㅁㅁ\n",
      "ㅁㅁㅁㅁㅁ\n"
     ]
    }
   ],
   "source": [
    "name = input(\"이름:\")\n",
    "print(name)"
   ]
  },
  {
   "cell_type": "code",
   "execution_count": 7,
   "metadata": {},
   "outputs": [
    {
     "name": "stdout",
     "output_type": "stream",
     "text": [
      "ㅁㅁㅁㅁㅁ\n",
      "ㅁㅁㅁㅁㅁ\n"
     ]
    }
   ],
   "source": [
    "print(name)\n",
    "print(name)"
   ]
  },
  {
   "cell_type": "code",
   "execution_count": 9,
   "metadata": {},
   "outputs": [
    {
     "data": {
      "text/plain": [
       "3"
      ]
     },
     "execution_count": 9,
     "metadata": {},
     "output_type": "execute_result"
    }
   ],
   "source": [
    "import random\n",
    "random.randint(1, 10)"
   ]
  },
  {
   "cell_type": "markdown",
   "metadata": {
    "slideshow": {
     "slide_type": "slide"
    }
   },
   "source": [
    "# 함수란\n",
    "- 함수란 입력변수와 출력변수간의 대응 관계를 정의한 것을 말한다.\n",
    "- 프로그램에서 함수란 하나의 작업, 기능, 동작을 처리하기 위한 사용자 정의 연산자라고 할 수 있다.\n",
    "    - 함수는 값을 입력(Input)을 받아서 처리후 처리결과를 출력(Output)하는 일련의 과정을 정의한 것을 말한다.\n",
    "    - 만들어진 함수는 동일한 작업이 필요할 때 마다 재사용될 수 있다.\n",
    "    - 함수를 구현해 파이썬 실행환경에 등록하는 것을 **함수를 정의(define)한다** 라고 한다.\n",
    "    - 정의된 함수를 사용하는 것을 **함수를 호출(call)한다** 라고 한다.\n",
    "    - 파이썬에서 함수는 일급 시민(First Class Citizen)이다.\n",
    "    \n",
    "> - **일급 시민 이란**   \n",
    ">    – 변수에 할당할 수 있고, 함수의 입력값으로 전달할 수 있고, 함수의 반환 값으로 반환할 수 있는 객체를 말한다."
   ]
  },
  {
   "cell_type": "markdown",
   "metadata": {
    "slideshow": {
     "slide_type": "slide"
    }
   },
   "source": [
    "## 함수 만들기\n",
    "- 함수의 정의\n",
    "    - 새로운 함수를 만드는 것을 함수의 정의라고 한다.\n",
    "    - 함수를 구현하고 그것을 파이썬 실행환경에 새로운 기능으로 등록하는 과정을 말한다."
   ]
  },
  {
   "cell_type": "markdown",
   "metadata": {
    "slideshow": {
     "slide_type": "fragment"
    }
   },
   "source": [
    "- 함수 구현\n",
    "    - 함수의 선언부와 구현부로 나누어진다\n",
    "        - 함수의 선언부(Header) : 함수의 이름과 입력값을 받을 변수(Parameter, 매개변수)를 지정한다.\n",
    "        - 함수의 구현부(Body) : 함수가 호출 되었을 때 실행할 실행문들을 순서대로 작성한다."
   ]
  },
  {
   "cell_type": "markdown",
   "metadata": {
    "slideshow": {
     "slide_type": "fragment"
    }
   },
   "source": [
    "   \n",
    "``` python\n",
    "def 함수이름( [변수, 변수, ..]):  # 선언 부(Header)\n",
    "    # 구현 부(body)\n",
    "    실행구문1\n",
    "    실행구문2\n",
    "    실행구문3\n",
    "    …\n",
    "    [return [결과값]]\n",
    "```\n",
    "- 함수 선언 마지막에는 `:` 을 넣어 구현부와 구분한다.\n",
    "- Parameter(매개변수)는 argument(호출하는 곳에서 전달하는 함수의 입력값)를 받기 위한 변수로 0개 이상 선언할 수 있다.\n",
    "- 함수의 실행구문은 코드블록으로 들여쓰기로 블록을 묶어준다. \n",
    "    - 들여쓰기는 보통 공백 4칸을 사용한다.\n",
    "- 함수의 처리 결과값이 있을 경우 **return 구문**을 넣고 없을 경우 return은 생략할 수 있다.\n",
    "- **함수이름 관례**\n",
    "    - 함수이름은 보통 동사형으로 만든다.\n",
    "    - 모두 소문자로 하고 여러단어로 구성할 경우 각 단어들을 `_`로 연결한다. (변수와 동일)"
   ]
  },
  {
   "cell_type": "code",
   "execution_count": 1,
   "metadata": {},
   "outputs": [],
   "source": [
    "# 함수 정의: 1. 함수 구현 2. 구현된 함수를 실행. => 파이썬 실행환경에 등록(loading)\n",
    "\n",
    "def greeting():   # 함수 선언부(header) - 이름: greeting, parameter: 없음.\n",
    "    # 구현부(body) => 들여쓰기로 블럭설정.\n",
    "    print(\"안녕하세요\")\n",
    "    print(\"반값습니다.\")\n",
    "    # return이 없음 => 마지막에 return None이 생략"
   ]
  },
  {
   "cell_type": "code",
   "execution_count": 3,
   "metadata": {},
   "outputs": [
    {
     "name": "stdout",
     "output_type": "stream",
     "text": [
      "안녕하세요\n",
      "반값습니다.\n"
     ]
    }
   ],
   "source": [
    "# 함수 호출  - [ ]: 선택사항.\n",
    "#  [함수반환값을 저장할 변수 = ] 함수이름([argument들])\n",
    "greeting()"
   ]
  },
  {
   "cell_type": "code",
   "execution_count": 4,
   "metadata": {},
   "outputs": [
    {
     "name": "stdout",
     "output_type": "stream",
     "text": [
      "안녕하세요\n",
      "반값습니다.\n"
     ]
    }
   ],
   "source": [
    "greeting()"
   ]
  },
  {
   "cell_type": "code",
   "execution_count": 14,
   "metadata": {
    "slideshow": {
     "slide_type": "fragment"
    }
   },
   "outputs": [
    {
     "name": "stdout",
     "output_type": "stream",
     "text": [
      "이름: 홍길동\n",
      "안녕하세요\n",
      "반값습니다.\n"
     ]
    }
   ],
   "source": [
    "print(\"이름: 홍길동\")\n",
    "greeting()"
   ]
  },
  {
   "cell_type": "code",
   "execution_count": 7,
   "metadata": {},
   "outputs": [],
   "source": [
    "# parameter가 있는 함수\n",
    "def greeting2(name): # worker\n",
    "    print(f\"{name}님 안녕하세요\")\n",
    "    print(\"반갑습니다.\")"
   ]
  },
  {
   "cell_type": "code",
   "execution_count": 8,
   "metadata": {},
   "outputs": [
    {
     "name": "stdout",
     "output_type": "stream",
     "text": [
      "박영희님 안녕하세요\n",
      "반갑습니다.\n"
     ]
    }
   ],
   "source": [
    "# greeting2() 호출\n",
    "greeting2(\"박영희\") # caller \n",
    "# \"박영희\" =대입=> name \n",
    "# \"박영희\": argument \n",
    "# name: parameter"
   ]
  },
  {
   "cell_type": "code",
   "execution_count": 9,
   "metadata": {},
   "outputs": [
    {
     "name": "stdout",
     "output_type": "stream",
     "text": [
      "홍길동님 안녕하세요\n",
      "반갑습니다.\n"
     ]
    }
   ],
   "source": [
    "greeting2(\"홍길동\")"
   ]
  },
  {
   "cell_type": "code",
   "execution_count": null,
   "metadata": {},
   "outputs": [],
   "source": [
    "# greeting3() 함수 정의. 이름, 나이, 주소를 받아서  \"주소에 사는 나이세의 이름님 안녕하세요\", \"반갑습니다.\""
   ]
  },
  {
   "cell_type": "code",
   "execution_count": 21,
   "metadata": {},
   "outputs": [],
   "source": [
    "def greeting3(name, age, address):\n",
    "    print(f\"{address}에 사는 {age}세의 {name}님 안녕하세요\")\n",
    "    print('반갑습니다.')  \n",
    "#     return None"
   ]
  },
  {
   "cell_type": "code",
   "execution_count": 22,
   "metadata": {},
   "outputs": [
    {
     "name": "stdout",
     "output_type": "stream",
     "text": [
      "서울에 사는 20세의 홍길동님 안녕하세요\n",
      "반갑습니다.\n",
      "None\n"
     ]
    }
   ],
   "source": [
    "v = greeting3(\"홍길동\", 20, \"서울\")\n",
    "print(v)"
   ]
  },
  {
   "cell_type": "code",
   "execution_count": 14,
   "metadata": {},
   "outputs": [
    {
     "name": "stdout",
     "output_type": "stream",
     "text": [
      "인천에 사는 30세의 이순신님 안녕하세요\n",
      "반갑습니다.\n"
     ]
    }
   ],
   "source": [
    "greeting3(\"이순신\", 30, \"인천\")"
   ]
  },
  {
   "cell_type": "code",
   "execution_count": 15,
   "metadata": {},
   "outputs": [],
   "source": [
    "# 같은 이름으로 함수를 정의하면 덮어쓴다.\n",
    "def greeting3():\n",
    "    print(\"안녕\")    "
   ]
  },
  {
   "cell_type": "code",
   "execution_count": 17,
   "metadata": {},
   "outputs": [
    {
     "name": "stdout",
     "output_type": "stream",
     "text": [
      "안녕\n"
     ]
    }
   ],
   "source": [
    "greeting3()\n",
    "print(10)"
   ]
  },
  {
   "cell_type": "code",
   "execution_count": null,
   "metadata": {},
   "outputs": [],
   "source": []
  },
  {
   "cell_type": "markdown",
   "metadata": {
    "slideshow": {
     "slide_type": "subslide"
    }
   },
   "source": [
    "### return value(반환값)\n",
    "- 함수가 호출받아 처리한 결과값으로 호출한 곳으로 반환하는 값이다.\n",
    "- 함수 구현부에 return \\[값\\] 구문을 사용해 반환한다.\n",
    "    - **return**\n",
    "        - 함수가 정상적으로 끝났고 호출한곳으로 돌아간다.\n",
    "        - 보통은 함수 구현의 마지막에 넣지만 경우에 따라 중간에 올 수 있다.\n",
    "    - return 반환값\n",
    "        - 호출한 곳으로 값을 가지고 돌아간다. (반환한다)\n",
    "        - 반환값이 없을 경우 None을 반환한다.\n",
    "        - 함수에 return 구문이 없을 경우 마지막에 return None이 실행된다.\n",
    "- 여러개의 값을 return 하는 경우 자료구조로 묶어서 전달해야한다.\n",
    "    - 함수는 한개의 값만 반환할 수 있다. "
   ]
  },
  {
   "cell_type": "code",
   "execution_count": 2,
   "metadata": {},
   "outputs": [],
   "source": [
    "def greeting4(name):\n",
    "    # 인삿말을 생성\n",
    "    txt = f\"{name}님 안녕하세요.\\n반갑습니다.\"\n",
    "    return txt  # caller(호출한 곳)로 변수 txt의 값을 가지고 돌아가라."
   ]
  },
  {
   "cell_type": "code",
   "execution_count": 3,
   "metadata": {
    "slideshow": {
     "slide_type": "fragment"
    }
   },
   "outputs": [
    {
     "name": "stdout",
     "output_type": "stream",
     "text": [
      "유관순님 안녕하세요.\n",
      "반갑습니다.\n",
      "유관순님 안녕하세요.\n",
      "반갑습니다. 파일에 저장한다.\n"
     ]
    }
   ],
   "source": [
    "value = greeting4(\"유관순\")\n",
    "print(value)\n",
    "print(value, \"파일에 저장한다.\")"
   ]
  },
  {
   "cell_type": "code",
   "execution_count": 31,
   "metadata": {},
   "outputs": [
    {
     "data": {
      "text/plain": [
       "(20, 20, 20)"
      ]
     },
     "execution_count": 31,
     "metadata": {},
     "output_type": "execute_result"
    }
   ],
   "source": [
    "a = b = c = 20\n",
    "a, b, c"
   ]
  },
  {
   "cell_type": "code",
   "execution_count": 35,
   "metadata": {},
   "outputs": [],
   "source": [
    "# 두개의 피연산자를 받아서 +, -, *, / 한 결과를 반환. (반환값이 4개)\n",
    "def calculate(num1, num2):\n",
    "    \n",
    "    r1 = num1 + num2\n",
    "    r2 = num1 - num2\n",
    "    r3 = num1 * num2\n",
    "    r4 = num1 // num2\n",
    "#     return {'plus':r1, 'minus':r2, ...}\n",
    "#     return r1, r2, r3, r4   # tuple로 묶어서 반환\n",
    "    return [r1, r2, r3, r4]  #리스트로 묶어서 반환\n",
    "# 반환값은 한개 값만 가능.\n",
    "# 반환값이 여러개일 경우 자료구조들을 이용해 묶어서 반환.\n"
   ]
  },
  {
   "cell_type": "code",
   "execution_count": 36,
   "metadata": {},
   "outputs": [
    {
     "name": "stdout",
     "output_type": "stream",
     "text": [
      "<class 'list'>\n"
     ]
    },
    {
     "data": {
      "text/plain": [
       "[12, 8, 20, 5]"
      ]
     },
     "execution_count": 36,
     "metadata": {},
     "output_type": "execute_result"
    }
   ],
   "source": [
    "result = calculate(10, 2)\n",
    "print(type(result))\n",
    "result"
   ]
  },
  {
   "cell_type": "code",
   "execution_count": 37,
   "metadata": {},
   "outputs": [
    {
     "name": "stdout",
     "output_type": "stream",
     "text": [
      "150 50 5000 2\n"
     ]
    }
   ],
   "source": [
    "rs1, rs2, rs3, rs4 = calculate(100,50) # 사칙연산의 결과를 튜플대입으로 개별변수에 따로 저장.\n",
    "print(rs1, rs2, rs3, rs4)"
   ]
  },
  {
   "cell_type": "code",
   "execution_count": null,
   "metadata": {},
   "outputs": [],
   "source": [
    "a, b, c = 10, 20, 30"
   ]
  },
  {
   "cell_type": "markdown",
   "metadata": {
    "slideshow": {
     "slide_type": "slide"
    }
   },
   "source": [
    "## Parameter (매개변수)\n",
    " \n",
    "### 기본값이 있는 Parameter\n",
    "- 매개변수에 값을 대입하는 구문을 작성하면 호출할 때 argument 가 넘어오지 않으면 대입해놓은 기본값을 사용한다.\n",
    "- 함수 정의시 기본값 없는 매개변수, 있는 매개변수를 같이 선언할 수 있다.\n",
    "    - **이때 기본값 없는 매개변수들을 선언하고 그 다음에 기본값 있는 매개변수들을 선언한다.** "
   ]
  },
  {
   "cell_type": "code",
   "execution_count": 38,
   "metadata": {
    "slideshow": {
     "slide_type": "fragment"
    }
   },
   "outputs": [],
   "source": [
    "def print_info(name):\n",
    "    print(f\"이름: {name}\")"
   ]
  },
  {
   "cell_type": "code",
   "execution_count": 39,
   "metadata": {},
   "outputs": [
    {
     "name": "stdout",
     "output_type": "stream",
     "text": [
      "이름: 홍길동\n"
     ]
    }
   ],
   "source": [
    "print_info('홍길동')"
   ]
  },
  {
   "cell_type": "code",
   "execution_count": 40,
   "metadata": {
    "collapsed": true
   },
   "outputs": [
    {
     "ename": "TypeError",
     "evalue": "print_info() missing 1 required positional argument: 'name'",
     "output_type": "error",
     "traceback": [
      "\u001b[1;31m---------------------------------------------------------------------------\u001b[0m",
      "\u001b[1;31mTypeError\u001b[0m                                 Traceback (most recent call last)",
      "Cell \u001b[1;32mIn[40], line 1\u001b[0m\n\u001b[1;32m----> 1\u001b[0m \u001b[43mprint_info\u001b[49m\u001b[43m(\u001b[49m\u001b[43m)\u001b[49m\n",
      "\u001b[1;31mTypeError\u001b[0m: print_info() missing 1 required positional argument: 'name'"
     ]
    }
   ],
   "source": [
    "print_info()"
   ]
  },
  {
   "cell_type": "code",
   "execution_count": 54,
   "metadata": {},
   "outputs": [],
   "source": [
    "def print_info2(name=None):\n",
    "    if name:\n",
    "        print(f\"Name: {name}\")\n",
    "    else:\n",
    "        print(\"이름 입력 해 주세요.\")"
   ]
  },
  {
   "cell_type": "code",
   "execution_count": 55,
   "metadata": {},
   "outputs": [
    {
     "name": "stdout",
     "output_type": "stream",
     "text": [
      "Name: 이순신\n"
     ]
    }
   ],
   "source": [
    "print_info2('이순신')"
   ]
  },
  {
   "cell_type": "code",
   "execution_count": 56,
   "metadata": {},
   "outputs": [
    {
     "name": "stdout",
     "output_type": "stream",
     "text": [
      "이름 입력 해 주세요.\n"
     ]
    }
   ],
   "source": [
    "print_info2()"
   ]
  },
  {
   "cell_type": "code",
   "execution_count": 57,
   "metadata": {},
   "outputs": [],
   "source": [
    "# name, age, address: 기본값이 없는 parameter => 호출하는 곳에서 반드시 값을 전달 받아야한다.\n",
    "# email: 기본값이 있는 parameter => 호출하는 곳에서 전달받은 값이 없으면 대입한 None을 함수\n",
    "#        내에서 값으로 사용한다.\n",
    "def print_info3(name, age, address, email=None):\n",
    "    print(name, age, address, email)"
   ]
  },
  {
   "cell_type": "code",
   "execution_count": 59,
   "metadata": {},
   "outputs": [
    {
     "name": "stdout",
     "output_type": "stream",
     "text": [
      "박영희 30 서울 None\n"
     ]
    }
   ],
   "source": [
    "print_info3(\"박영희\", 30, \"서울\")"
   ]
  },
  {
   "cell_type": "code",
   "execution_count": 60,
   "metadata": {},
   "outputs": [
    {
     "name": "stdout",
     "output_type": "stream",
     "text": [
      "김영수 20 인천 k@a.com\n"
     ]
    }
   ],
   "source": [
    "print_info3(\"김영수\", 20, \"인천\", \"k@a.com\")"
   ]
  },
  {
   "cell_type": "code",
   "execution_count": 62,
   "metadata": {},
   "outputs": [
    {
     "ename": "TypeError",
     "evalue": "print_info3() missing 2 required positional arguments: 'age' and 'address'",
     "output_type": "error",
     "traceback": [
      "\u001b[1;31m---------------------------------------------------------------------------\u001b[0m",
      "\u001b[1;31mTypeError\u001b[0m                                 Traceback (most recent call last)",
      "Cell \u001b[1;32mIn[62], line 1\u001b[0m\n\u001b[1;32m----> 1\u001b[0m \u001b[43mprint_info3\u001b[49m\u001b[43m(\u001b[49m\u001b[38;5;124;43m\"\u001b[39;49m\u001b[38;5;124;43m김영수\u001b[39;49m\u001b[38;5;124;43m\"\u001b[39;49m\u001b[43m)\u001b[49m\n",
      "\u001b[1;31mTypeError\u001b[0m: print_info3() missing 2 required positional arguments: 'age' and 'address'"
     ]
    }
   ],
   "source": [
    "print_info3(\"김영수\")"
   ]
  },
  {
   "cell_type": "code",
   "execution_count": 6,
   "metadata": {},
   "outputs": [],
   "source": [
    "# def print_info4(name, age=-1, address, email=None):\n",
    "def print_info4(name, address, age=-1, email=None):\n",
    "    print(name, age, address, email)"
   ]
  },
  {
   "cell_type": "markdown",
   "metadata": {
    "slideshow": {
     "slide_type": "subslide"
    }
   },
   "source": [
    "### Positional argument와 Keyword argument \n",
    "- Argument는 함수/메소드를 호출할 때 전달하는 입력값을 말한다.\n",
    "    - Argument는 전달하는 값이고 Parameter는 그 값을 저장하는 변수\n",
    "- Positional argument\n",
    "    -  함수 호출 할때 argument(전달인자)를 Parameter  순서에 맞춰 값을 넣어서 호출.\n",
    "- keyword  argument \n",
    "    - 함수 호출할 때 argument를 `Parameter변수명 = 전달할값` 형식으로 선언해서 어떤 parameter에 어떤 값을 전달할 것인지 지정해서 호출.\n",
    "    - 순서와 상관없이 호출하는 것이 가능.\n",
    "    - parameter가 많고 대부분 기본값이 있는 함수 호출 할 때 뒤 쪽에 선언된 parameter에만 값을 전달하고 싶을 경우 유용하다."
   ]
  },
  {
   "cell_type": "code",
   "execution_count": 65,
   "metadata": {
    "slideshow": {
     "slide_type": "fragment"
    }
   },
   "outputs": [],
   "source": [
    "def print_info3(name, age, address, email=None):\n",
    "    print(name, age, address, email)"
   ]
  },
  {
   "cell_type": "code",
   "execution_count": 67,
   "metadata": {},
   "outputs": [
    {
     "name": "stdout",
     "output_type": "stream",
     "text": [
      "30 홍길동 서울 abc@a.com\n"
     ]
    }
   ],
   "source": [
    "# positional argument\n",
    "print_info3( 30, \"홍길동\", \"서울\", \"abc@a.com\")"
   ]
  },
  {
   "cell_type": "code",
   "execution_count": 70,
   "metadata": {},
   "outputs": [
    {
     "name": "stdout",
     "output_type": "stream",
     "text": [
      "이순신 30 부산 abc@a.com\n"
     ]
    }
   ],
   "source": [
    "# keyword argument (파라미터변수명=argumnet값)\n",
    "print_info3(age=30, email=\"abc@a.com\", name=\"이순신\", address=\"부산\")"
   ]
  },
  {
   "cell_type": "code",
   "execution_count": 71,
   "metadata": {},
   "outputs": [
    {
     "name": "stdout",
     "output_type": "stream",
     "text": [
      "박영희 30 서울 aaa@aaa.com\n"
     ]
    }
   ],
   "source": [
    "print_info3(\"박영희\", 30, address=\"서울\", email='aaa@aaa.com')"
   ]
  },
  {
   "cell_type": "code",
   "execution_count": 94,
   "metadata": {},
   "outputs": [],
   "source": [
    "# 모든 파라미터가 기본값이 있는 함수.\n",
    "def print_info5(name=None, age=-1, address=None, \n",
    "                email=None, tel=None, weight=0.0, tall=0.0):\n",
    "    pass"
   ]
  },
  {
   "cell_type": "code",
   "execution_count": 74,
   "metadata": {},
   "outputs": [],
   "source": [
    "print_info5(None, -1, None, None, None, 0.0, 182.5)"
   ]
  },
  {
   "cell_type": "code",
   "execution_count": 75,
   "metadata": {},
   "outputs": [],
   "source": [
    "print_info5(tall=182.5)\n",
    "print_info5(age=30, tall=163.2)"
   ]
  },
  {
   "cell_type": "code",
   "execution_count": 7,
   "metadata": {},
   "outputs": [],
   "source": [
    "import pandas as pd\n",
    "pd.read_csv?"
   ]
  },
  {
   "cell_type": "code",
   "execution_count": 16,
   "metadata": {},
   "outputs": [],
   "source": [
    "# parameter의 * => 기본값이 없는 파라미터와 있는 파라미터 구분자로 사용.\n",
    "#    1. 구분자역할\n",
    "#    2. 기본값 있는 파라미터들은 호출할 때 keyword argument 로 호출하도록 강제.\n",
    "def test(name, *,  age=10, address=None):\n",
    "    print(name, age, address)"
   ]
  },
  {
   "cell_type": "code",
   "execution_count": 12,
   "metadata": {},
   "outputs": [
    {
     "name": "stdout",
     "output_type": "stream",
     "text": [
      "홍길동 10 None\n"
     ]
    }
   ],
   "source": [
    "test(\"홍길동\")"
   ]
  },
  {
   "cell_type": "code",
   "execution_count": 19,
   "metadata": {},
   "outputs": [
    {
     "name": "stdout",
     "output_type": "stream",
     "text": [
      "a 50 None\n"
     ]
    }
   ],
   "source": [
    "# test('a', 30, '서울')\n",
    "test('a', age=50)"
   ]
  },
  {
   "cell_type": "code",
   "execution_count": null,
   "metadata": {},
   "outputs": [],
   "source": []
  },
  {
   "cell_type": "markdown",
   "metadata": {
    "slideshow": {
     "slide_type": "subslide"
    }
   },
   "source": [
    "### 가변인자 (Var args) 파라미터\n",
    "- 호출하는 쪽에서 argument로 0 ~ n개의 값을 나열해서 여러개의 값들을 전달하면 **tuple이나 dictionary로 묶어서** 받을 수있도록 선언하는 parameter\n",
    "    - positial argument로 전달하는 것과 keyword argument로 전달되는 값을 받는 두가지 방식이 있다.\n",
    "- \\*변수명: **positional argument**를 개수와 상관없이 하나의 변수로 받을 수 있도록 선언하는 가변인자.\n",
    "    - 전달된 값들은 tuple로 받아서 처리한다.\n",
    "    - 관례적으로 변수명은 \\*args 를 사용한다.\n",
    "- \\*\\*변수명: **keyword argument**를 개수와 상관없이 하나의 변수로 받을 수 있도록 선언하는 가변인자.\n",
    "    - 전달된 값들은 dictionary로 받아서 처리한다.\n",
    "    - 관례적으로 변수명은 \\*\\*kwargs 를 사용한다.\n",
    "- 하나의 함수에 가변인자는 \\* 하나, \\*\\* 두개짜리 각각 한개씩만 선언할 수 있다.\n",
    "- 파라미터 선언순서\n",
    "    1. 기본값이 없는 파라미터\n",
    "    2. 기본값이 있는 파라미터\n",
    "    3. `*args`\n",
    "    4. `**kwargs`"
   ]
  },
  {
   "cell_type": "code",
   "execution_count": 95,
   "metadata": {},
   "outputs": [],
   "source": [
    "def summation(nums):  # nums: 리스트, 튜플로 받는다.\n",
    "    # 여러개(개수가 정해 져 있지 않다)의 숫자를 받아서 그 숫자들의 총합을 계산 -> 반환하는 함수.\n",
    "    result = 0\n",
    "    for v in nums:\n",
    "        result += v\n",
    "    return result"
   ]
  },
  {
   "cell_type": "code",
   "execution_count": 96,
   "metadata": {},
   "outputs": [
    {
     "name": "stdout",
     "output_type": "stream",
     "text": [
      "6 106\n"
     ]
    }
   ],
   "source": [
    "v1 = summation([1, 2, 3])\n",
    "v2 = summation([1, 2, 3, 10, 20, 30, 40])\n",
    "print(v1, v2)"
   ]
  },
  {
   "cell_type": "code",
   "execution_count": 103,
   "metadata": {},
   "outputs": [],
   "source": [
    "def summation_2(*nums):# *변수명 -> 가변인자\n",
    "    print(type(nums), len(nums))\n",
    "    result = 0\n",
    "    for v in nums:\n",
    "        result += v\n",
    "    return result"
   ]
  },
  {
   "cell_type": "code",
   "execution_count": 102,
   "metadata": {
    "collapsed": true
   },
   "outputs": [
    {
     "name": "stdout",
     "output_type": "stream",
     "text": [
      "<class 'tuple'>\n",
      "<class 'tuple'>\n",
      "<class 'tuple'>\n",
      "<class 'tuple'>\n",
      "0 6 28 78\n"
     ]
    }
   ],
   "source": [
    "v1 = summation_2()\n",
    "v2 = summation_2(1, 2, 3)\n",
    "v3 = summation_2(1, 2, 3, 4, 5, 6, 7)\n",
    "v4 = summation_2(1, 2, 3, 4, 5, 6, 7, 8, 9, 10, 11, 12)\n",
    "\n",
    "print(v1, v2, v3, v4)"
   ]
  },
  {
   "cell_type": "code",
   "execution_count": 129,
   "metadata": {},
   "outputs": [
    {
     "name": "stdout",
     "output_type": "stream",
     "text": [
      "<class 'tuple'> 5\n"
     ]
    },
    {
     "data": {
      "text/plain": [
       "15"
      ]
     },
     "execution_count": 129,
     "metadata": {},
     "output_type": "execute_result"
    }
   ],
   "source": [
    "lst = [1, 2, 3, 4, 5]\n",
    "lst = (1,2,3,4,5)\n",
    "summation_2(*lst) # 리스트(튜플)의 원소값들을 풀어서 가변인자에 전달.\n",
    "# *리스트, *튜플, *set ==> 가변인자 파라미터에 리스트/튜플/set의 원소들을 풀어서 \n",
    "#                         전달할 때만 사용가능"
   ]
  },
  {
   "cell_type": "code",
   "execution_count": 115,
   "metadata": {},
   "outputs": [],
   "source": [
    "def print_info(**info): # keyword인자를 가변인자로 선언 => dictionary 로 받는다.\n",
    "    print(type(info))\n",
    "    print(info)"
   ]
  },
  {
   "cell_type": "code",
   "execution_count": 112,
   "metadata": {},
   "outputs": [
    {
     "name": "stdout",
     "output_type": "stream",
     "text": [
      "<class 'dict'>\n",
      "{'name': '홍길동'}\n"
     ]
    }
   ],
   "source": [
    "print_info(name=\"홍길동\")"
   ]
  },
  {
   "cell_type": "code",
   "execution_count": 113,
   "metadata": {},
   "outputs": [
    {
     "name": "stdout",
     "output_type": "stream",
     "text": [
      "<class 'dict'>\n",
      "{}\n"
     ]
    }
   ],
   "source": [
    "print_info()"
   ]
  },
  {
   "cell_type": "code",
   "execution_count": 114,
   "metadata": {},
   "outputs": [
    {
     "name": "stdout",
     "output_type": "stream",
     "text": [
      "<class 'dict'>\n",
      "{'name': '이순신', 'age': 30, 'hobby': ['축구', '야구']}\n"
     ]
    }
   ],
   "source": [
    "print_info(name=\"이순신\", age=30, hobby=['축구', '야구'])"
   ]
  },
  {
   "cell_type": "code",
   "execution_count": 119,
   "metadata": {},
   "outputs": [
    {
     "name": "stdout",
     "output_type": "stream",
     "text": [
      "<class 'dict'>\n",
      "{'name': '이순신', 'age': 40, 'tall': 190.5}\n"
     ]
    }
   ],
   "source": [
    "info = {\"name\":\"이순신\", 'age':40, 'tall':190.5}\n",
    "print_info(**info) \n",
    "# **가변인자에 dictionary의 원소들을 전달할 경우 변수앞에 ** 두개를 붙여서 전달한다.\n",
    "# ==> 딕셔너리의 원소들을 key=value, key=value의 keyword argument로 풀어서 전달해준다."
   ]
  },
  {
   "cell_type": "code",
   "execution_count": 120,
   "metadata": {},
   "outputs": [
    {
     "ename": "SyntaxError",
     "evalue": "invalid syntax (2893758451.py, line 1)",
     "output_type": "error",
     "traceback": [
      "\u001b[1;36m  Cell \u001b[1;32mIn[120], line 1\u001b[1;36m\u001b[0m\n\u001b[1;33m    def test(*args1, *args2):\u001b[0m\n\u001b[1;37m                     ^\u001b[0m\n\u001b[1;31mSyntaxError\u001b[0m\u001b[1;31m:\u001b[0m invalid syntax\n"
     ]
    }
   ],
   "source": [
    "def test(*args1, *args2):\n",
    "    pass"
   ]
  },
  {
   "cell_type": "code",
   "execution_count": 121,
   "metadata": {},
   "outputs": [
    {
     "ename": "SyntaxError",
     "evalue": "invalid syntax (1705890932.py, line 1)",
     "output_type": "error",
     "traceback": [
      "\u001b[1;36m  Cell \u001b[1;32mIn[121], line 1\u001b[1;36m\u001b[0m\n\u001b[1;33m    def test2(**kwargs1, **kwargs2):\u001b[0m\n\u001b[1;37m                         ^\u001b[0m\n\u001b[1;31mSyntaxError\u001b[0m\u001b[1;31m:\u001b[0m invalid syntax\n"
     ]
    }
   ],
   "source": [
    "def test2(**kwargs1, **kwargs2):\n",
    "    pass"
   ]
  },
  {
   "cell_type": "code",
   "execution_count": 124,
   "metadata": {},
   "outputs": [],
   "source": [
    "def test3(*args, **kwargs):\n",
    "    print(args)\n",
    "    print(kwargs)"
   ]
  },
  {
   "cell_type": "code",
   "execution_count": 130,
   "metadata": {},
   "outputs": [],
   "source": [
    "# 일반 파라미터들과 가변인자를 같이 선언할 수 있다.\n",
    "#  일반 파라미터들(기본값없는 것들, 기본값 있는 것들), *args, **kwargs  순서로 선언한다.\n",
    "def test4(var1, var2, var3=None, *args, **kwargs):\n",
    "    print(var1, var2, var3, args, kwargs)"
   ]
  },
  {
   "cell_type": "code",
   "execution_count": 128,
   "metadata": {},
   "outputs": [
    {
     "name": "stdout",
     "output_type": "stream",
     "text": [
      "1 2 3 (100, 200, 300, 400) {'a': 10, 'b': 20}\n"
     ]
    }
   ],
   "source": [
    "test4(1, 2, 3, 100, 200, 300, 400, a=10, b=20)"
   ]
  },
  {
   "cell_type": "code",
   "execution_count": 125,
   "metadata": {},
   "outputs": [
    {
     "name": "stdout",
     "output_type": "stream",
     "text": [
      "(1, 2, 3, 4, 5)\n",
      "{'a': 10, 'b': 20, 'c': 30}\n"
     ]
    }
   ],
   "source": [
    "test3(1, 2, 3, 4, 5, a=10, b=20, c=30)"
   ]
  },
  {
   "cell_type": "code",
   "execution_count": null,
   "metadata": {
    "slideshow": {
     "slide_type": "fragment"
    }
   },
   "outputs": [],
   "source": [
    "test(1, 2, 3, 4, 5, 6, 7, 8, )\n",
    "test2(a=10, b=20, c=30, d='abc')"
   ]
  },
  {
   "cell_type": "markdown",
   "metadata": {
    "slideshow": {
     "slide_type": "slide"
    }
   },
   "source": [
    "# 변수의 유효범위\n",
    "\n",
    "- **지역변수 (local variable)**\n",
    "    - 함수안에 선언된 변수\n",
    "    - 선언된 그 함수 안에서만 사용할 수 있다.\n",
    "- **전역변수 (global variable)**\n",
    "    - 함수 밖에 선언 된 변수\n",
    "    - 모든 함수들이 공통적으로 사용할 수 있다.\n",
    "    - 하나의 함수에서 값을 변경하면 그 변한 값이 모든 함수에 영향을 주기 때문에 함부로 변경하지 않는다.\n",
    "    - 함수내에서 전역변수에 값을 대입하기 위해서는 global 키워드를 이용해 사용할 것을 미리 선언해야 한다.\n",
    "        - global로 선언하지 않고 함수안에서 전역변수와 이름이 같은 변수에 값을 대입하면 그 변수와 동일한 지역변수을 생성한다.\n",
    "        - 조회할 경우에는 상관없다.\n",
    "            - 함수에서 변수를 조회할 경우 **먼저 지역변수를 찾고 없으면 전역변수를 찾는다.**\n",
    "            \n"
   ]
  },
  {
   "cell_type": "code",
   "execution_count": 149,
   "metadata": {},
   "outputs": [],
   "source": [
    "name = \"홍길동\" # 변수 name: 함수 밖에(실행블록에) 선언된 변수 => 전역변수(global variable)\n",
    "\n",
    "def func1():\n",
    "    age1 = 10  # 변수 age: func1()함수 안에서 선언됨.==> 지역변수(local variable)\n",
    "    print(age1)# 선언된 함수 안에서만 호출가능.\n",
    "    age1 = 30\n",
    "    print(age1)\n",
    "    print(\"global var name:\", name)\n",
    "\n",
    "def func2():\n",
    "    name= \"이순신\"  # local 변수 (전역변수 name과 이름이 같은 지역변수)\n",
    "    print(\"name: \", name)\n",
    "    \n",
    "def func3():\n",
    "    # 함수에서 global 변수의 값을 변경처리해야하는 경우.\n",
    "    global name   # name변수를 사용할 경우 -> 전역변수를 말한다.\n",
    "    name = \"변경이름\"\n",
    "    print(name)\n",
    "    \n",
    "#######\n",
    "# 함수에서 전역변수의 값을 변경하는 것은 안하는 것이 좋다. => 프로그램을 불안정하게 만들 수 있다."
   ]
  },
  {
   "cell_type": "code",
   "execution_count": 150,
   "metadata": {},
   "outputs": [
    {
     "name": "stdout",
     "output_type": "stream",
     "text": [
      "변경이름\n"
     ]
    }
   ],
   "source": [
    "func3()"
   ]
  },
  {
   "cell_type": "code",
   "execution_count": 151,
   "metadata": {},
   "outputs": [
    {
     "name": "stdout",
     "output_type": "stream",
     "text": [
      "변경이름\n"
     ]
    }
   ],
   "source": [
    "print(name)"
   ]
  },
  {
   "cell_type": "code",
   "execution_count": 143,
   "metadata": {},
   "outputs": [
    {
     "name": "stdout",
     "output_type": "stream",
     "text": [
      "10\n",
      "30\n",
      "global var name: 홍길동\n"
     ]
    }
   ],
   "source": [
    "func1()\n",
    "# print(age1)"
   ]
  },
  {
   "cell_type": "code",
   "execution_count": 148,
   "metadata": {},
   "outputs": [
    {
     "name": "stdout",
     "output_type": "stream",
     "text": [
      "name:  이순신 홍길동\n"
     ]
    }
   ],
   "source": [
    "func2()"
   ]
  },
  {
   "cell_type": "code",
   "execution_count": 145,
   "metadata": {},
   "outputs": [
    {
     "name": "stdout",
     "output_type": "stream",
     "text": [
      "홍길동\n"
     ]
    }
   ],
   "source": [
    "print(name)"
   ]
  },
  {
   "cell_type": "code",
   "execution_count": 146,
   "metadata": {},
   "outputs": [
    {
     "name": "stdout",
     "output_type": "stream",
     "text": [
      "10\n",
      "30\n",
      "global var name: 홍길동\n"
     ]
    }
   ],
   "source": [
    "func1()"
   ]
  },
  {
   "cell_type": "markdown",
   "metadata": {
    "slideshow": {
     "slide_type": "slide"
    }
   },
   "source": [
    "# 함수는 일급시민(First class citizen) 이다. \n",
    "- 일급 시민\n",
    "    1. 변수에 대입 할 수 있다.\n",
    "    1. Argument로 사용할 수 있다.\n",
    "    1. 함수나 메소드의 반환값으로 사용 할 수 있다.\n",
    "- 일급\n",
    "    - 모든 권리를 다 가진다는 의미\n",
    "- 시민\n",
    "    - 프로그래밍 언어를 구성하는 객체를 의미\n",
    "- 즉 파이썬에서 함수는 일반 값(객체) 로 취급된다. "
   ]
  },
  {
   "cell_type": "code",
   "execution_count": 20,
   "metadata": {},
   "outputs": [],
   "source": [
    "def hello():\n",
    "    print(\"Hello World!\")"
   ]
  },
  {
   "cell_type": "code",
   "execution_count": 21,
   "metadata": {},
   "outputs": [
    {
     "name": "stdout",
     "output_type": "stream",
     "text": [
      "Hello World!\n"
     ]
    }
   ],
   "source": [
    "i = hello()"
   ]
  },
  {
   "cell_type": "code",
   "execution_count": 22,
   "metadata": {},
   "outputs": [
    {
     "data": {
      "text/plain": [
       "<function __main__.hello()>"
      ]
     },
     "execution_count": 22,
     "metadata": {},
     "output_type": "execute_result"
    }
   ],
   "source": [
    "i = hello"
   ]
  },
  {
   "cell_type": "code",
   "execution_count": 155,
   "metadata": {},
   "outputs": [],
   "source": [
    "my_hello = hello"
   ]
  },
  {
   "cell_type": "code",
   "execution_count": 156,
   "metadata": {},
   "outputs": [
    {
     "name": "stdout",
     "output_type": "stream",
     "text": [
      "Hello World!\n"
     ]
    }
   ],
   "source": [
    "hello()"
   ]
  },
  {
   "cell_type": "code",
   "execution_count": 157,
   "metadata": {},
   "outputs": [
    {
     "name": "stdout",
     "output_type": "stream",
     "text": [
      "Hello World!\n"
     ]
    }
   ],
   "source": [
    "my_hello()"
   ]
  },
  {
   "cell_type": "code",
   "execution_count": 159,
   "metadata": {},
   "outputs": [],
   "source": [
    "your_hello = my_hello"
   ]
  },
  {
   "cell_type": "code",
   "execution_count": 160,
   "metadata": {},
   "outputs": [
    {
     "name": "stdout",
     "output_type": "stream",
     "text": [
      "Hello World!\n"
     ]
    }
   ],
   "source": [
    "your_hello()"
   ]
  },
  {
   "cell_type": "code",
   "execution_count": 161,
   "metadata": {},
   "outputs": [],
   "source": [
    "def hello2(name):\n",
    "    print(name, \"안녕\")"
   ]
  },
  {
   "cell_type": "code",
   "execution_count": 162,
   "metadata": {
    "slideshow": {
     "slide_type": "fragment"
    }
   },
   "outputs": [
    {
     "name": "stdout",
     "output_type": "stream",
     "text": [
      "홍길동 안녕\n"
     ]
    }
   ],
   "source": [
    "hello2(\"홍길동\")"
   ]
  },
  {
   "cell_type": "code",
   "execution_count": 163,
   "metadata": {},
   "outputs": [],
   "source": [
    "my_hello2 = hello2"
   ]
  },
  {
   "cell_type": "code",
   "execution_count": 165,
   "metadata": {},
   "outputs": [
    {
     "name": "stdout",
     "output_type": "stream",
     "text": [
      "이순신 안녕\n"
     ]
    }
   ],
   "source": [
    "my_hello2(\"이순신\")"
   ]
  },
  {
   "cell_type": "code",
   "execution_count": null,
   "metadata": {},
   "outputs": [],
   "source": []
  },
  {
   "cell_type": "code",
   "execution_count": 173,
   "metadata": {},
   "outputs": [],
   "source": [
    "def plus(n1, n2):\n",
    "    print(n1 + n2)"
   ]
  },
  {
   "cell_type": "code",
   "execution_count": 171,
   "metadata": {
    "collapsed": true
   },
   "outputs": [
    {
     "name": "stdout",
     "output_type": "stream",
     "text": [
      "30\n"
     ]
    }
   ],
   "source": [
    "plus(10, 20)"
   ]
  },
  {
   "cell_type": "code",
   "execution_count": 172,
   "metadata": {
    "collapsed": true
   },
   "outputs": [
    {
     "name": "stdout",
     "output_type": "stream",
     "text": [
      "300\n"
     ]
    }
   ],
   "source": [
    "plus(100, 200)"
   ]
  },
  {
   "cell_type": "code",
   "execution_count": 1,
   "metadata": {},
   "outputs": [],
   "source": [
    "# 계산할 값을 가지고 있는 함수. 무슨계산? \n",
    "#        (값은 있는데 처리 방식이 없다->parameter로 함수를 받는다.)\n",
    "def calc(func):\n",
    "    num1 = 100\n",
    "    num2 = 200\n",
    "    value = func(num1, num2)\n",
    "    return f\"계산결과: {value}\"\n",
    "    "
   ]
  },
  {
   "cell_type": "code",
   "execution_count": null,
   "metadata": {},
   "outputs": [],
   "source": []
  },
  {
   "cell_type": "code",
   "execution_count": 178,
   "metadata": {},
   "outputs": [],
   "source": [
    "# func = plus2\n",
    "# func(100, 200)\n",
    "# calc(plus)"
   ]
  },
  {
   "cell_type": "code",
   "execution_count": 3,
   "metadata": {},
   "outputs": [],
   "source": [
    "# 이 함수를 사용하는 함수에 맞춰서 구현.\n",
    "def plus2(num1, num2):\n",
    "    return num1 + num2"
   ]
  },
  {
   "cell_type": "code",
   "execution_count": 4,
   "metadata": {},
   "outputs": [
    {
     "name": "stdout",
     "output_type": "stream",
     "text": [
      "계산결과: 300\n"
     ]
    }
   ],
   "source": [
    "r = calc(plus2)\n",
    "print(r)"
   ]
  },
  {
   "cell_type": "code",
   "execution_count": 183,
   "metadata": {},
   "outputs": [],
   "source": [
    "def minus(num1, num2):\n",
    "    return num1 - num2"
   ]
  },
  {
   "cell_type": "code",
   "execution_count": 184,
   "metadata": {},
   "outputs": [
    {
     "name": "stdout",
     "output_type": "stream",
     "text": [
      "계산결과: -100\n"
     ]
    }
   ],
   "source": [
    "r = calc(minus)\n",
    "print(r)"
   ]
  },
  {
   "cell_type": "code",
   "execution_count": 29,
   "metadata": {},
   "outputs": [],
   "source": [
    "# 함수가 return value로 사용될 수 있다.\n",
    "def outer():\n",
    "    \n",
    "    def inner():\n",
    "        #함수 안에 함수를 정의 -> nested function. 지역함수(local function)\n",
    "        print(\"inner\")\n",
    "        \n",
    "    inner()\n",
    "    inner()\n",
    "    return inner"
   ]
  },
  {
   "cell_type": "code",
   "execution_count": 31,
   "metadata": {},
   "outputs": [
    {
     "name": "stdout",
     "output_type": "stream",
     "text": [
      "inner\n",
      "inner\n",
      "inner\n"
     ]
    }
   ],
   "source": [
    "# inner()\n",
    "i_func = outer()\n",
    "i_func()\n"
   ]
  },
  {
   "cell_type": "markdown",
   "metadata": {
    "slideshow": {
     "slide_type": "slide"
    }
   },
   "source": [
    "## 람다식/람다표현식 (Lambda Expression)\n",
    "- 함수를 하나의 식을 이용해서 정의할때 사용하는 표현식(구문).\n",
    "- 값을 입력받아서 **간단한 처리한 결과**를 반환하는 간단한 함수를 표현식으로 정의할 수 있다.\n",
    "    - 처리결과를 return 하는 구문을 하나의 명령문으로 처리할 수 있을때 람다식을 사용할 수 있다. => return x + y\n",
    "- 구문\n",
    "```python\n",
    "lambda 매개변수[, 매개변수, ...] : 명령문(구문)\n",
    "```\n",
    "- 명령문(구문)은 하나의 실행문만 가능하다.\n",
    "- 명령문(구문)이 처리한 결과를 리턴해준다.\n",
    "- **람다식은 함수의 매개변수로 함수를 전달하는 일회성 함수를 만들때 주로 사용한다.**"
   ]
  },
  {
   "cell_type": "code",
   "execution_count": 33,
   "metadata": {},
   "outputs": [
    {
     "data": {
      "text/plain": [
       "30"
      ]
     },
     "execution_count": 33,
     "metadata": {},
     "output_type": "execute_result"
    }
   ],
   "source": [
    "def plus(num1, num2):\n",
    "    return num1 + num2\n",
    "\n",
    "plus(10, 20)"
   ]
  },
  {
   "cell_type": "code",
   "execution_count": 40,
   "metadata": {},
   "outputs": [
    {
     "data": {
      "text/plain": [
       "300"
      ]
     },
     "execution_count": 40,
     "metadata": {},
     "output_type": "execute_result"
    }
   ],
   "source": [
    "plus2 = lambda num1, num2 : num1 + num2\n",
    "\n",
    "plus2(100, 200)"
   ]
  },
  {
   "cell_type": "code",
   "execution_count": 56,
   "metadata": {},
   "outputs": [],
   "source": [
    "def calc(func):\n",
    "    num1, num2 = 100, 200\n",
    "    result = func(num1, num2)\n",
    "    return f\"처리결과: {result}\""
   ]
  },
  {
   "cell_type": "code",
   "execution_count": 47,
   "metadata": {},
   "outputs": [
    {
     "data": {
      "text/plain": [
       "'처리결과: 300'"
      ]
     },
     "execution_count": 47,
     "metadata": {},
     "output_type": "execute_result"
    }
   ],
   "source": [
    "def plus(num1, num2):\n",
    "    return num1 + num2\n",
    "\n",
    "\n",
    "ㅔ\n",
    "calc(plus)"
   ]
  },
  {
   "cell_type": "code",
   "execution_count": 48,
   "metadata": {},
   "outputs": [
    {
     "data": {
      "text/plain": [
       "'처리결과: 300'"
      ]
     },
     "execution_count": 48,
     "metadata": {},
     "output_type": "execute_result"
    }
   ],
   "source": [
    "calc(lambda x, y : x + y)"
   ]
  },
  {
   "cell_type": "code",
   "execution_count": 49,
   "metadata": {},
   "outputs": [
    {
     "data": {
      "text/plain": [
       "'처리결과: -100'"
      ]
     },
     "execution_count": 49,
     "metadata": {},
     "output_type": "execute_result"
    }
   ],
   "source": [
    "# 뺄셈, 곱셈, 나눗셈(//)\n",
    "calc(lambda n1, n2 : n1 - n2)\n",
    "# def minus(n1, n2):\n",
    "#     return n1 - n2"
   ]
  },
  {
   "cell_type": "code",
   "execution_count": 50,
   "metadata": {},
   "outputs": [
    {
     "data": {
      "text/plain": [
       "'처리결과: 20000'"
      ]
     },
     "execution_count": 50,
     "metadata": {},
     "output_type": "execute_result"
    }
   ],
   "source": [
    "calc(lambda x, y=10 : x * y)\n",
    "# def multiply(x, y=10):\n",
    "#     return x * y"
   ]
  },
  {
   "cell_type": "code",
   "execution_count": 54,
   "metadata": {},
   "outputs": [
    {
     "data": {
      "text/plain": [
       "'처리결과: None'"
      ]
     },
     "execution_count": 54,
     "metadata": {},
     "output_type": "execute_result"
    }
   ],
   "source": [
    "calc(lambda x, y : x // y)\n",
    "# def divide(x, y):\n",
    "#     if y != 0:\n",
    "#         return x // y\n",
    "#     else:\n",
    "#         return None\n",
    "calc(divide)"
   ]
  },
  {
   "cell_type": "code",
   "execution_count": 61,
   "metadata": {},
   "outputs": [
    {
     "data": {
      "text/plain": [
       "'처리결과: (300, -100, 20000, 0, False, 0)'"
      ]
     },
     "execution_count": 61,
     "metadata": {},
     "output_type": "execute_result"
    }
   ],
   "source": [
    "# lambda 식에서 여러개의 값을 튜플로 묶어서 반환할 경우 반드시 ( )를 사용해야 한다.\n",
    "calc(lambda x, y : (x + y, x - y, x * y, x // y, x > y, round(x / y)))"
   ]
  },
  {
   "cell_type": "code",
   "execution_count": 55,
   "metadata": {
    "slideshow": {
     "slide_type": "fragment"
    }
   },
   "outputs": [
    {
     "data": {
      "text/plain": [
       "(15, 5, 50, 2)"
      ]
     },
     "execution_count": 55,
     "metadata": {},
     "output_type": "execute_result"
    }
   ],
   "source": [
    "def test(x, y):\n",
    "    return x + y, x - y, x * y, x // y\n",
    "\n",
    "test(10, 5)"
   ]
  },
  {
   "cell_type": "markdown",
   "metadata": {
    "slideshow": {
     "slide_type": "slide"
    }
   },
   "source": [
    "### iterable 관련 함수에서 함수를 매개변수로 받아 처리하는 함수들\n",
    "- sorted(iterable, reverse=False, key=None)\n",
    "    - 정렬처리\n",
    "    - 매개변수\n",
    "        - reverse: True - 내림차순, False - 오름차순(기본)\n",
    "        - key: 함수 \n",
    "            - Parameter로 iterable의 각 원소를 받는 함수.\n",
    "            - 정렬을 할 때 iterable의 원소기준으로 정렬하는 것이 아니라 이 함수가 반환하는 값을 기준으로 정렬\n",
    "- filter(함수, Iterable)\n",
    "    - Iterable의 원소들 중에서 특정 조건을 만족하는 원소들만 걸러주는 함수\n",
    "    - 함수\n",
    "        - 어떻게 걸러낼 것인지 조건을 정의. 매개변수 1개, 반환값 bool\n",
    "        - 원소 하나 하나를 함수에 전달해 True를 반환하는 것만 반환\n",
    "- map(함수, Iterable)\n",
    "    - Iterable의 원소들 하나 하나를 처리(변형)해서 그 결과를 반환\n",
    "    - 함수\n",
    "        - 원소들을 어떻게 처리할지 정의. 매개변수 1개. 반환값: 처리 결과\n",
    "- **filter/map 반환타입**: generator 형태로 반환 된다. (리스트가 아님)"
   ]
  },
  {
   "cell_type": "code",
   "execution_count": 66,
   "metadata": {},
   "outputs": [
    {
     "data": {
      "text/plain": [
       "['안녕하세요', '안녕', 'hi', 'ee', 'defg', 'c', 'ab', 'aaa']"
      ]
     },
     "execution_count": 66,
     "metadata": {},
     "output_type": "execute_result"
    }
   ],
   "source": [
    "lst = ['aaa', 'c', 'ee', 'ab', 'defg', '안녕하세요', '안녕', 'hi']\n",
    "sorted(lst) #iterable을 정렬한 뒤에서 그 결과를 리스트로 반환\n",
    "sorted(lst, reverse=True)  #내림차순"
   ]
  },
  {
   "cell_type": "code",
   "execution_count": 65,
   "metadata": {},
   "outputs": [],
   "source": [
    "# sorted({3, 2, 76, 1})\n",
    "# sorted('asdfghgjkjk')"
   ]
  },
  {
   "cell_type": "code",
   "execution_count": 68,
   "metadata": {},
   "outputs": [],
   "source": [
    "# lst의 글자수를 기준으로 정렬\n",
    "def sort_method(value): # 원소하나를 파라미터로 받는다.\n",
    "    return len(value)      # 받은 원소의 순서를 정할때 사용할 값을 리턴"
   ]
  },
  {
   "cell_type": "code",
   "execution_count": 71,
   "metadata": {},
   "outputs": [
    {
     "name": "stdout",
     "output_type": "stream",
     "text": [
      "aaa  -  3\n",
      "c  -  1\n",
      "ee  -  2\n",
      "ab  -  2\n",
      "defg  -  4\n",
      "안녕하세요  -  5\n",
      "안녕  -  2\n",
      "hi  -  2\n"
     ]
    }
   ],
   "source": [
    "for idx, v in enumerate(lst):\n",
    "    print(lst[idx], \" - \" , sort_method(v))"
   ]
  },
  {
   "cell_type": "code",
   "execution_count": 74,
   "metadata": {},
   "outputs": [
    {
     "data": {
      "text/plain": [
       "['안녕하세요', 'defg', 'aaa', 'ee', 'ab', '안녕', 'hi', 'c']"
      ]
     },
     "execution_count": 74,
     "metadata": {},
     "output_type": "execute_result"
    }
   ],
   "source": [
    "sorted(lst, key=sort_method)\n",
    "sorted(lst, reverse=True,  key=sort_method)"
   ]
  },
  {
   "cell_type": "code",
   "execution_count": 76,
   "metadata": {},
   "outputs": [
    {
     "data": {
      "text/plain": [
       "['c', 'ee', 'ab', '안녕', 'hi', 'aaa', 'defg', '안녕하세요']"
      ]
     },
     "execution_count": 76,
     "metadata": {},
     "output_type": "execute_result"
    }
   ],
   "source": [
    "sorted(lst, key=lambda value : len(value))"
   ]
  },
  {
   "cell_type": "code",
   "execution_count": 77,
   "metadata": {},
   "outputs": [
    {
     "data": {
      "text/plain": [
       "['c', 'ee', 'ab', '안녕', 'hi', 'aaa', 'defg', '안녕하세요']"
      ]
     },
     "execution_count": 77,
     "metadata": {},
     "output_type": "execute_result"
    }
   ],
   "source": [
    "sorted(lst, key=len)"
   ]
  },
  {
   "cell_type": "code",
   "execution_count": 80,
   "metadata": {},
   "outputs": [
    {
     "name": "stdout",
     "output_type": "stream",
     "text": [
      "aaa\n",
      "defg\n",
      "안녕하세요\n"
     ]
    }
   ],
   "source": [
    "# lst의 원소중 3글자 이상인 것만 조회\n",
    "# 원소를 받아서 bool 을 반환하는 함수\n",
    "def check(value):\n",
    "    return len(value) >= 3\n",
    "\n",
    "for v in lst:\n",
    "    if check(v):\n",
    "        print(v)"
   ]
  },
  {
   "cell_type": "code",
   "execution_count": 85,
   "metadata": {},
   "outputs": [
    {
     "data": {
      "text/plain": [
       "(['aaa', 'defg', '안녕하세요'],)"
      ]
     },
     "execution_count": 85,
     "metadata": {},
     "output_type": "execute_result"
    }
   ],
   "source": [
    "result = filter(check,  lst)\n",
    "list(result), \n",
    "# tuple(result)"
   ]
  },
  {
   "cell_type": "code",
   "execution_count": 86,
   "metadata": {},
   "outputs": [
    {
     "data": {
      "text/plain": [
       "{'aaa', 'defg', '안녕하세요'}"
      ]
     },
     "execution_count": 86,
     "metadata": {},
     "output_type": "execute_result"
    }
   ],
   "source": [
    "result2 = filter(lambda v : len(v) >= 3,  lst)\n",
    "set(result2)"
   ]
  },
  {
   "cell_type": "code",
   "execution_count": 90,
   "metadata": {},
   "outputs": [
    {
     "data": {
      "text/plain": [
       "['aaa', 'defg', '안녕하세요']"
      ]
     },
     "execution_count": 90,
     "metadata": {},
     "output_type": "execute_result"
    }
   ],
   "source": [
    "[v for v in lst if len(v) >= 3]"
   ]
  },
  {
   "cell_type": "code",
   "execution_count": 88,
   "metadata": {},
   "outputs": [
    {
     "data": {
      "text/plain": [
       "[1, 4, 100, 4, 900, 16, 2500]"
      ]
     },
     "execution_count": 88,
     "metadata": {},
     "output_type": "execute_result"
    }
   ],
   "source": [
    "# 원소를 받아서 제곱한 뒤(처리한 뒤) 반환.\n",
    "lst2 = [1, 2, 10, 2, 30, 4, 50]  # lst2의 원소들을 제곱처리.\n",
    "def func(num):\n",
    "    return num ** 2\n",
    "\n",
    "result2 = map(func, lst2)\n",
    "list(result2)"
   ]
  },
  {
   "cell_type": "code",
   "execution_count": 89,
   "metadata": {},
   "outputs": [
    {
     "data": {
      "text/plain": [
       "(1, 4, 100, 4, 900, 16, 2500)"
      ]
     },
     "execution_count": 89,
     "metadata": {},
     "output_type": "execute_result"
    }
   ],
   "source": [
    "result2 = map(lambda x : x**2,  lst2)\n",
    "tuple(result2)"
   ]
  },
  {
   "cell_type": "code",
   "execution_count": 91,
   "metadata": {},
   "outputs": [
    {
     "data": {
      "text/plain": [
       "[1, 4, 100, 4, 900, 16, 2500]"
      ]
     },
     "execution_count": 91,
     "metadata": {},
     "output_type": "execute_result"
    }
   ],
   "source": [
    "[v ** 2 for v in lst2]"
   ]
  },
  {
   "cell_type": "markdown",
   "metadata": {
    "slideshow": {
     "slide_type": "subslide"
    }
   },
   "source": [
    "# docstring\n",
    "- 함수에 대한 설명\n",
    "- 함수의 구현부의 첫번째에 여러줄 문자열로 작성한다.\n",
    "- 함수 매개변수/리턴타입에 대한 힌트(주석)"
   ]
  },
  {
   "cell_type": "code",
   "execution_count": null,
   "metadata": {},
   "outputs": [],
   "source": [
    "import typing"
   ]
  },
  {
   "cell_type": "code",
   "execution_count": 112,
   "metadata": {},
   "outputs": [],
   "source": [
    "# def greeting(name, age, address=None):\n",
    "def greeting(name:str, age:int, address:str=None) -> str:  # -> None 반환타입 힌트\n",
    "    \"\"\"이름, 나이, 주소를 이용해 인사말을 만드는 함수.(함수설명)\n",
    "    parameter:\n",
    "        변수명: 타입 - 설명\n",
    "        name:str - 인사말에 들어갈 회원의 이름\n",
    "        age:int - 인사말에 들어갈 회원의 이름. 20이상의 값만 허용한다.\n",
    "        address:str=None - 인사말에 들어갈 주소. 광역시/도 기준으로 전달한다. 기본값: None\n",
    "    return:\n",
    "        리턴값의 타입 - 설명\n",
    "        str - 이름, 나이, 주소 순서로 인사말을 만들어서 문자열로 반환.\n",
    "    raise:\n",
    "        함수가 실행하는 도중 발생할 수 있는 에러(Exception)에 대한 설명\n",
    "        에러이름 - 언제 발생하는지.\n",
    "    \"\"\"\n",
    "    \n",
    "    return f'이름: {name}, 나이: {age}, 주소: {address}'"
   ]
  },
  {
   "cell_type": "code",
   "execution_count": 108,
   "metadata": {},
   "outputs": [
    {
     "name": "stdout",
     "output_type": "stream",
     "text": [
      "Help on function greeting in module __main__:\n",
      "\n",
      "greeting(name: str, age: int, address: str = None) -> str\n",
      "    이름, 나이, 주소를 이용해 인사말을 만드는 함수.(함수설명)\n",
      "    parameter:\n",
      "        변수명: 타입 - 설명\n",
      "        name:str - 인사말에 들어갈 회원의 이름\n",
      "        age:int - 인사말에 들어갈 회원의 이름. 20이상의 값만 허용한다.\n",
      "        address:str=None - 인사말에 들어갈 주소. 광역시/도 기준으로 전달한다. 기본값: None\n",
      "    return:\n",
      "        리턴값의 타입 - 설명\n",
      "        str - 이름, 나이, 주소 순서로 인사말을 만들어서 문자열로 반환.\n",
      "    raise:\n",
      "        함수가 실행하는 도중 발생할 수 있는 에러(Exception)에 대한 설명\n",
      "        에러이름 - 언제 발생하는지.\n",
      "\n"
     ]
    }
   ],
   "source": [
    "help(greeting)"
   ]
  },
  {
   "cell_type": "code",
   "execution_count": 109,
   "metadata": {},
   "outputs": [],
   "source": [
    "greeting?"
   ]
  },
  {
   "cell_type": "code",
   "execution_count": 104,
   "metadata": {},
   "outputs": [
    {
     "data": {
      "text/plain": [
       "str"
      ]
     },
     "execution_count": 104,
     "metadata": {},
     "output_type": "execute_result"
    }
   ],
   "source": [
    "# 변수:타입 = 값 ===> type 힌트 (강제사항이 아님.)\n",
    "name:str = \"홍길동\"\n",
    "type(name)"
   ]
  },
  {
   "cell_type": "code",
   "execution_count": 106,
   "metadata": {},
   "outputs": [
    {
     "data": {
      "text/plain": [
       "int"
      ]
     },
     "execution_count": 106,
     "metadata": {},
     "output_type": "execute_result"
    }
   ],
   "source": [
    "name = 30\n",
    "type(name)"
   ]
  },
  {
   "cell_type": "code",
   "execution_count": 116,
   "metadata": {},
   "outputs": [],
   "source": [
    "def a():\n",
    "    print(a)\n",
    "    \n",
    "def b():\n",
    "    pass\n",
    "\n",
    "def c():\n",
    "    pass\n",
    "    "
   ]
  },
  {
   "cell_type": "markdown",
   "metadata": {
    "slideshow": {
     "slide_type": "subslide"
    }
   },
   "source": [
    "### pass 키워드(예약어)\n",
    "- 빈 구현부를 만들때 사용\n",
    "    - 코드블럭을 하는 일 없이 채울 때 사용\n",
    "    - `...` 을 대신 사용할 수 있다."
   ]
  },
  {
   "cell_type": "markdown",
   "metadata": {
    "slideshow": {
     "slide_type": "skip"
    }
   },
   "source": [
    "# TODO"
   ]
  },
  {
   "cell_type": "code",
   "execution_count": 15,
   "metadata": {
    "slideshow": {
     "slide_type": "skip"
    }
   },
   "outputs": [],
   "source": [
    "# 1. 사용자가 입력한 단의 구구단을 출력하는 함수를 구현(매개변수로 단을 받는다.)\n",
    "def print_gugudan(dan:int=2)->None:\n",
    "    \"\"\"\n",
    "    단을 입력받아서 그 단을 출력하는 함수.\n",
    "    parameter:\n",
    "        dan: int - 출력할 단. 기본값: 2 - 2단을 출력\n",
    "    return:\n",
    "    raise:\n",
    "    \"\"\"\n",
    "    for i in range(1, 10):\n",
    "        print(f\"{dan} X {i} = {dan * i:>02}\")"
   ]
  },
  {
   "cell_type": "code",
   "execution_count": 17,
   "metadata": {
    "collapsed": true
   },
   "outputs": [
    {
     "name": "stdout",
     "output_type": "stream",
     "text": [
      "4 X 1 = 04\n",
      "4 X 2 = 08\n",
      "4 X 3 = 12\n",
      "4 X 4 = 16\n",
      "4 X 5 = 20\n",
      "4 X 6 = 24\n",
      "4 X 7 = 28\n",
      "4 X 8 = 32\n",
      "4 X 9 = 36\n"
     ]
    }
   ],
   "source": [
    "print_gugudan(4)"
   ]
  },
  {
   "cell_type": "code",
   "execution_count": 13,
   "metadata": {
    "collapsed": true
   },
   "outputs": [
    {
     "name": "stdout",
     "output_type": "stream",
     "text": [
      "단:3\n",
      "3 X 1 = 03\n",
      "3 X 2 = 06\n",
      "3 X 3 = 09\n",
      "3 X 4 = 12\n",
      "3 X 5 = 15\n",
      "3 X 6 = 18\n",
      "3 X 7 = 21\n",
      "3 X 8 = 24\n",
      "3 X 9 = 27\n"
     ]
    }
   ],
   "source": [
    "dan = int(input(\"단:\"))\n",
    "print_gugudan(dan)"
   ]
  },
  {
   "cell_type": "code",
   "execution_count": 18,
   "metadata": {
    "slideshow": {
     "slide_type": "skip"
    }
   },
   "outputs": [],
   "source": [
    "# 2. 시작 정수, 끝 정수를 받아 그 사이의 모든 정수의 합을 구해서 \n",
    "#    반환하는 함수를 구현(ex: 1, 20 => 1에서 20 사이의 모든 정수의 합계)\n",
    "def accumulate(start:int, stop:int, include_stop:bool=False) ->int:\n",
    "    # include_stop이 True이면 stop을 포함. False이면 stop을 포함안함.\n",
    "    if include_stop:\n",
    "        stop += 1\n",
    "        \n",
    "    result = 0\n",
    "    for v in range(start, stop):\n",
    "        result += v\n",
    "    return result"
   ]
  },
  {
   "cell_type": "code",
   "execution_count": 22,
   "metadata": {},
   "outputs": [
    {
     "data": {
      "text/plain": [
       "45"
      ]
     },
     "execution_count": 22,
     "metadata": {},
     "output_type": "execute_result"
    }
   ],
   "source": [
    "accumulate(1, 10, False)"
   ]
  },
  {
   "cell_type": "code",
   "execution_count": 23,
   "metadata": {
    "slideshow": {
     "slide_type": "skip"
    }
   },
   "outputs": [],
   "source": [
    "# 3. 1번 문제에서 시작을 받지 않은 경우 0을, 끝 정수를 받지 않으면 10이 들어가도록 구현을 변경\n",
    "def accumulate2(start:int=0, stop:int=10, include_stop:bool=False) ->int:\n",
    "    # include_stop이 True이면 stop을 포함. False이면 stop을 포함안함.\n",
    "    if include_stop:\n",
    "        stop += 1\n",
    "        \n",
    "    result = 0\n",
    "    for v in range(start, stop):\n",
    "        result += v\n",
    "    return result"
   ]
  },
  {
   "cell_type": "code",
   "execution_count": 26,
   "metadata": {},
   "outputs": [
    {
     "data": {
      "text/plain": [
       "780"
      ]
     },
     "execution_count": 26,
     "metadata": {},
     "output_type": "execute_result"
    }
   ],
   "source": [
    "accumulate2() # 0 ~ 10\n",
    "accumulate2(5)# 5 ~ 10\n",
    "accumulate2(2, 7)#2 ~ 7\n",
    "\n",
    "accumulate2(stop=40)# 0 ~ 40"
   ]
  },
  {
   "cell_type": "code",
   "execution_count": 28,
   "metadata": {},
   "outputs": [],
   "source": [
    "def accumulate3(**kwargs):\n",
    "    # 가변인자를 사용할 경우 docstring에 설명을 잘 해줘야 한다.\n",
    "    start = kwargs['start']\n",
    "    stop = kwargs['stop']\n",
    "    result = 0\n",
    "    for v in range(start, stop):\n",
    "        result += v\n",
    "    return result"
   ]
  },
  {
   "cell_type": "code",
   "execution_count": 30,
   "metadata": {
    "collapsed": true
   },
   "outputs": [
    {
     "ename": "KeyError",
     "evalue": "'start'",
     "output_type": "error",
     "traceback": [
      "\u001b[1;31m---------------------------------------------------------------------------\u001b[0m",
      "\u001b[1;31mKeyError\u001b[0m                                  Traceback (most recent call last)",
      "Cell \u001b[1;32mIn[30], line 1\u001b[0m\n\u001b[1;32m----> 1\u001b[0m \u001b[43maccumulate3\u001b[49m\u001b[43m(\u001b[49m\u001b[43mbegin\u001b[49m\u001b[38;5;241;43m=\u001b[39;49m\u001b[38;5;241;43m10\u001b[39;49m\u001b[43m,\u001b[49m\u001b[43m \u001b[49m\u001b[43mstop\u001b[49m\u001b[38;5;241;43m=\u001b[39;49m\u001b[38;5;241;43m40\u001b[39;49m\u001b[43m)\u001b[49m\n",
      "Cell \u001b[1;32mIn[28], line 3\u001b[0m, in \u001b[0;36maccumulate3\u001b[1;34m(**kwargs)\u001b[0m\n\u001b[0;32m      1\u001b[0m \u001b[38;5;28;01mdef\u001b[39;00m \u001b[38;5;21maccumulate3\u001b[39m(\u001b[38;5;241m*\u001b[39m\u001b[38;5;241m*\u001b[39mkwargs):\n\u001b[1;32m----> 3\u001b[0m     start \u001b[38;5;241m=\u001b[39m \u001b[43mkwargs\u001b[49m\u001b[43m[\u001b[49m\u001b[38;5;124;43m'\u001b[39;49m\u001b[38;5;124;43mstart\u001b[39;49m\u001b[38;5;124;43m'\u001b[39;49m\u001b[43m]\u001b[49m\n\u001b[0;32m      4\u001b[0m     stop \u001b[38;5;241m=\u001b[39m kwargs[\u001b[38;5;124m'\u001b[39m\u001b[38;5;124mstop\u001b[39m\u001b[38;5;124m'\u001b[39m]\n\u001b[0;32m      5\u001b[0m     result \u001b[38;5;241m=\u001b[39m \u001b[38;5;241m0\u001b[39m\n",
      "\u001b[1;31mKeyError\u001b[0m: 'start'"
     ]
    }
   ],
   "source": [
    "accumulate3(start=10, stop=40)"
   ]
  },
  {
   "cell_type": "code",
   "execution_count": null,
   "metadata": {},
   "outputs": [],
   "source": []
  },
  {
   "cell_type": "code",
   "execution_count": 42,
   "metadata": {
    "slideshow": {
     "slide_type": "skip"
    }
   },
   "outputs": [],
   "source": [
    "# 4. 체질량 지수는 비만도를 나타내는 지수로 키가 a미터 이고 몸무게가 b kg일때 b/(a**2) 로 \n",
    "#    구한다.\n",
    "# 체질량 지수가\n",
    "#- 18.5 미만이면 저체중\n",
    "#- 18.5이상 25미만이면 정상 \n",
    "#- 25이상이면 과체중\n",
    "#- 30이상이면 비만으로 하는데\n",
    "#몸무게와 키를 매개변수로 받아 비만인지 과체중인지 반환하는 함수를 구현하시오.\n",
    "\n",
    "def check_bmi(tall:\"float-미터\", weight:\"float-kg\") -> tuple[str, float]:\n",
    "    \"\"\"\n",
    "    비만도를 bmi 지수로 계산해서 알려주는 함수\n",
    "    parameter\n",
    "        tall: float - 키: 미터단위\n",
    "        weight: float - 몸무게 - kg단위\n",
    "    return:\n",
    "        tuple - (비만도, BMI지수)\n",
    "    raise:\n",
    "    \"\"\"\n",
    "    bmi = weight/tall**2\n",
    "    result = None\n",
    "    if bmi < 18.5:\n",
    "        result = \"저체중\"\n",
    "    elif bmi < 25:\n",
    "        result = \"정상\"\n",
    "    elif bmi< 30:\n",
    "        result = \"과체중\"\n",
    "    else:\n",
    "        result = \"비만\"\n",
    "    return result, round(bmi, 2)"
   ]
  },
  {
   "cell_type": "code",
   "execution_count": 38,
   "metadata": {},
   "outputs": [
    {
     "data": {
      "text/plain": [
       "('과체중', 25.95)"
      ]
     },
     "execution_count": 38,
     "metadata": {},
     "output_type": "execute_result"
    }
   ],
   "source": [
    "check_bmi(1.7, 75)"
   ]
  },
  {
   "cell_type": "code",
   "execution_count": 45,
   "metadata": {},
   "outputs": [],
   "source": [
    "def test(v):\n",
    "    return v >= 0"
   ]
  },
  {
   "cell_type": "code",
   "execution_count": 51,
   "metadata": {
    "slideshow": {
     "slide_type": "skip"
    }
   },
   "outputs": [
    {
     "data": {
      "text/plain": [
       "[1, 20, 3, 21]"
      ]
     },
     "execution_count": 51,
     "metadata": {},
     "output_type": "execute_result"
    }
   ],
   "source": [
    "# 람다식\n",
    "#5. filter()를 이용해 다음 리스트에서 양수만 추출히 리스트를 구현\n",
    "ex1 = [1, -10, -2, 20, 3, -5, -7, 21] \n",
    "list(filter(test, ex1))"
   ]
  },
  {
   "cell_type": "code",
   "execution_count": 54,
   "metadata": {},
   "outputs": [
    {
     "data": {
      "text/plain": [
       "[1, 20, 3, 21]"
      ]
     },
     "execution_count": 54,
     "metadata": {},
     "output_type": "execute_result"
    }
   ],
   "source": [
    "list(filter(lambda v : v >= 0, ex1))"
   ]
  },
  {
   "cell_type": "code",
   "execution_count": 55,
   "metadata": {},
   "outputs": [
    {
     "data": {
      "text/plain": [
       "[1, 20, 3, 21]"
      ]
     },
     "execution_count": 55,
     "metadata": {},
     "output_type": "execute_result"
    }
   ],
   "source": [
    "[v for v in ex1 if v >= 0]"
   ]
  },
  {
   "cell_type": "code",
   "execution_count": 47,
   "metadata": {},
   "outputs": [],
   "source": [
    "# def myfilter(func, iterable):\n",
    "#     result = []\n",
    "#     for v in iterable:\n",
    "#         if func(v):\n",
    "#             result.append(v)\n",
    "#     return result"
   ]
  },
  {
   "cell_type": "code",
   "execution_count": 56,
   "metadata": {
    "slideshow": {
     "slide_type": "skip"
    }
   },
   "outputs": [],
   "source": [
    "#6. filter()와 map()을 이용해 다음 리스트에서 음수만 추출한 뒤 그 2 제곱한 값들을 가지는 리스트를 구현\n",
    "ex2 = [1, -10, -2, 20, 3, -5, -7, 21]"
   ]
  },
  {
   "cell_type": "code",
   "execution_count": 57,
   "metadata": {},
   "outputs": [
    {
     "data": {
      "text/plain": [
       "[1, 100, 4, 400, 9, 25, 49, 441]"
      ]
     },
     "execution_count": 57,
     "metadata": {},
     "output_type": "execute_result"
    }
   ],
   "source": [
    "# 제곱한 값을 가지는 리스트 ==> mapping\n",
    "list(map(lambda v : v ** 2, ex2))"
   ]
  },
  {
   "cell_type": "code",
   "execution_count": 59,
   "metadata": {},
   "outputs": [
    {
     "data": {
      "text/plain": [
       "[100, 4, 25, 49]"
      ]
     },
     "execution_count": 59,
     "metadata": {},
     "output_type": "execute_result"
    }
   ],
   "source": [
    "# 음수만 추출\n",
    "r = filter(lambda x : x < 0, ex2)\n",
    "# 제곱\n",
    "result = map(lambda y : y ** 2, r)\n",
    "list(result)"
   ]
  },
  {
   "cell_type": "code",
   "execution_count": 60,
   "metadata": {},
   "outputs": [
    {
     "data": {
      "text/plain": [
       "[100, 4, 25, 49]"
      ]
     },
     "execution_count": 60,
     "metadata": {},
     "output_type": "execute_result"
    }
   ],
   "source": [
    "result2 = map(lambda y : y ** 2, filter(lambda x : x < 0, ex2))\n",
    "list(result2)"
   ]
  },
  {
   "cell_type": "code",
   "execution_count": null,
   "metadata": {},
   "outputs": [],
   "source": [
    "# 함수1(함수2(함수3())) # 함수3()실행한 결과를 함수2에 넣어서 실행한 결과를 함수1에 넣어 처리. ==> 합성함수\n",
    "#함수3 => 함수2 => 함수1"
   ]
  },
  {
   "cell_type": "code",
   "execution_count": 61,
   "metadata": {},
   "outputs": [
    {
     "data": {
      "text/plain": [
       "[100, 4, 25, 49]"
      ]
     },
     "execution_count": 61,
     "metadata": {},
     "output_type": "execute_result"
    }
   ],
   "source": [
    "[v**2 for v in ex2 if v < 0]"
   ]
  },
  {
   "cell_type": "code",
   "execution_count": null,
   "metadata": {},
   "outputs": [],
   "source": []
  },
  {
   "cell_type": "code",
   "execution_count": null,
   "metadata": {},
   "outputs": [],
   "source": []
  },
  {
   "cell_type": "code",
   "execution_count": null,
   "metadata": {},
   "outputs": [],
   "source": []
  },
  {
   "cell_type": "code",
   "execution_count": null,
   "metadata": {},
   "outputs": [],
   "source": []
  },
  {
   "cell_type": "code",
   "execution_count": null,
   "metadata": {},
   "outputs": [],
   "source": []
  },
  {
   "cell_type": "code",
   "execution_count": null,
   "metadata": {},
   "outputs": [],
   "source": []
  },
  {
   "cell_type": "code",
   "execution_count": null,
   "metadata": {},
   "outputs": [],
   "source": []
  }
 ],
 "metadata": {
  "kernelspec": {
   "display_name": "Python 3 (ipykernel)",
   "language": "python",
   "name": "python3"
  },
  "language_info": {
   "codemirror_mode": {
    "name": "ipython",
    "version": 3
   },
   "file_extension": ".py",
   "mimetype": "text/x-python",
   "name": "python",
   "nbconvert_exporter": "python",
   "pygments_lexer": "ipython3",
   "version": "3.10.9"
  },
  "toc": {
   "base_numbering": 1,
   "nav_menu": {},
   "number_sections": true,
   "sideBar": true,
   "skip_h1_title": false,
   "title_cell": "Table of Contents",
   "title_sidebar": "Contents",
   "toc_cell": false,
   "toc_position": {},
   "toc_section_display": true,
   "toc_window_display": false
  },
  "varInspector": {
   "cols": {
    "lenName": 16,
    "lenType": 16,
    "lenVar": 40
   },
   "kernels_config": {
    "python": {
     "delete_cmd_postfix": "",
     "delete_cmd_prefix": "del ",
     "library": "var_list.py",
     "varRefreshCmd": "print(var_dic_list())"
    },
    "r": {
     "delete_cmd_postfix": ") ",
     "delete_cmd_prefix": "rm(",
     "library": "var_list.r",
     "varRefreshCmd": "cat(var_dic_list()) "
    }
   },
   "types_to_exclude": [
    "module",
    "function",
    "builtin_function_or_method",
    "instance",
    "_Feature"
   ],
   "window_display": false
  }
 },
 "nbformat": 4,
 "nbformat_minor": 4
}
