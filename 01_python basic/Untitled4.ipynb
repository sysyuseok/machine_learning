{
 "cells": [
  {
   "cell_type": "code",
   "execution_count": 16,
   "id": "7e77f5ea",
   "metadata": {},
   "outputs": [],
   "source": [
    "def solution(sequence, k):\n",
    "    answer = []\n",
    "    ans=[]\n",
    "    ans2=()\n",
    "    l=0\n",
    "    for i in range(len(sequence)):\n",
    "        l=0\n",
    "        for j in range(i,len(sequence)):\n",
    "            l+=sequence[j]\n",
    "            if l>k:\n",
    "                break\n",
    "            elif l==k:\n",
    "                answer.append([i,j])\n",
    "                ans.append(j-i)\n",
    "    print(answer,ans)\n",
    "    ans2=tuple(ans)\n",
    "    ans.sort()\n",
    "    #print(answer[ans2.index(ans[0])])\n",
    "    return answer[ans2.index(ans[0])]"
   ]
  },
  {
   "cell_type": "code",
   "execution_count": 17,
   "id": "823dae60",
   "metadata": {},
   "outputs": [
    {
     "name": "stdout",
     "output_type": "stream",
     "text": [
      "[[2, 3]] [1]\n",
      "[2, 3]\n",
      "[[0, 3], [3, 4], [6, 6]] [3, 1, 0]\n",
      "[6, 6]\n",
      "[[0, 2], [1, 3], [2, 4]] [2, 2, 2]\n",
      "[0, 2]\n"
     ]
    },
    {
     "data": {
      "text/plain": [
       "[0, 2]"
      ]
     },
     "execution_count": 17,
     "metadata": {},
     "output_type": "execute_result"
    }
   ],
   "source": [
    "solution([1, 2, 3, 4, 5],7) #[2, 3]\n",
    "solution([1, 1, 1, 2, 3, 4, 5],5)#[6, 6]\n",
    "solution([2, 2, 2, 2, 2],6)#[0, 2]"
   ]
  },
  {
   "cell_type": "code",
   "execution_count": 46,
   "id": "749b6dae",
   "metadata": {},
   "outputs": [],
   "source": [
    "def solution(sequence, k):\n",
    "    answer=[]\n",
    "    ans=k\n",
    "    l=0\n",
    "    #temp=0\n",
    "    for i in range(len(sequence)) :\n",
    "        l=0\n",
    "        temp=0\n",
    "        try :\n",
    "            for j in range(ans):\n",
    "                l+=sequence[i+j]\n",
    "                if l>k:\n",
    "                    break\n",
    "                elif l==k :\n",
    "                    answer=[i,i+j]\n",
    "                    ans=j\n",
    "                    break\n",
    "        except:\n",
    "            pass\n",
    "        \n",
    "    \n",
    "    return answer"
   ]
  },
  {
   "cell_type": "code",
   "execution_count": 47,
   "id": "d3273ec5",
   "metadata": {},
   "outputs": [
    {
     "data": {
      "text/plain": [
       "[2, 3]"
      ]
     },
     "execution_count": 47,
     "metadata": {},
     "output_type": "execute_result"
    }
   ],
   "source": [
    "solution([1, 2, 3, 4, 5],7) #[2, 3]\n",
    "#solution([1, 1, 1, 2, 3, 4, 5],5)#[6, 6]\n",
    "#solution([2, 2, 2, 2, 2],6)#[0, 2]"
   ]
  },
  {
   "cell_type": "code",
   "execution_count": 3,
   "id": "76635de9",
   "metadata": {},
   "outputs": [],
   "source": [
    "def solution(queue1, queue2):\n",
    "    answer = 0\n",
    "    k=len(queue1)\n",
    "    q=sum(queue1+queue2)\n",
    "    q1=max(queue1+queue2)\n",
    "    if q%2==1:\n",
    "        return -1\n",
    "    elif q1 > q/2:\n",
    "        return -1\n",
    "    while sum(queue1)!=(q/2):\n",
    "        if sum(queue1)>(q/2):\n",
    "            queue2.append(queue1[0])\n",
    "            queue1.pop(0)\n",
    "            answer+=1\n",
    "        elif sum(queue1)<(q/2) :\n",
    "            queue1.append(queue2[0])\n",
    "            queue2.pop(0)\n",
    "            answer+=1\n",
    "                        \n",
    "    return answer if sum(queue1)==sum(queue2) else -1"
   ]
  },
  {
   "cell_type": "code",
   "execution_count": 4,
   "id": "9b0dc8c2",
   "metadata": {},
   "outputs": [
    {
     "data": {
      "text/plain": [
       "2"
      ]
     },
     "execution_count": 4,
     "metadata": {},
     "output_type": "execute_result"
    }
   ],
   "source": [
    "solution([3, 2, 7, 2],[4, 6, 5, 1])"
   ]
  },
  {
   "cell_type": "code",
   "execution_count": 5,
   "id": "9e723fa0",
   "metadata": {},
   "outputs": [],
   "source": [
    "def solution(pt, at, logs):\n",
    "    answer = ''\n",
    "    ptl,atl,logsl1,logsl2,logsl3=[],[],[],[],[]\n",
    "    pta,ata,logsa=0,0,0\n",
    "    ptl=pt.split(\":\")\n",
    "    for x in range(len(ptl)):\n",
    "        pta+=int(ptl[x])*pow(60,2-x)\n",
    "    li=[0 for _ in range(pta)]\n",
    "    #print(li)\n",
    "    for i in logs:\n",
    "        logsl1.append(i.split(\"-\"))\n",
    "    #print(logsl1)\n",
    "    for i in range(len(logsl1)):\n",
    "        for j in range(2):\n",
    "            logsl2.append(logsl1[i][j].split(\":\"))\n",
    "    #print(logsl2)\n",
    "    for i in range(len(logsl2)):\n",
    "        logsa=0\n",
    "        for j in range(3):\n",
    "            logsa+=int(logsl2[i][j])*pow(60,2-j)\n",
    "        logsl3.append(logsa)\n",
    "    #print(logsl3)\n",
    "    for i in range(0,len(logsl3),2):\n",
    "        for j in range(logsl3[i],logsl3[i+1]+1):\n",
    "            li[j]+=1\n",
    "    a,b,c=0,0,0\n",
    "    a=li.index(max(li))//3600\n",
    "    b=(li.index(max(li))%3600)//60\n",
    "    c=(li.index(max(li))%3600)%60\n",
    "    if a <10 :\n",
    "        a='0'+str(a)\n",
    "    else :\n",
    "        a=str(a)\n",
    "    if b <10 :\n",
    "        b='0'+str(b)\n",
    "    else :\n",
    "        b=str(b)\n",
    "    if c <10 :\n",
    "        c='0'+str(c)\n",
    "    else :\n",
    "        c=str(c)\n",
    "    \n",
    "    return a+':'+b+':'+c"
   ]
  },
  {
   "cell_type": "code",
   "execution_count": 6,
   "id": "02376bcd",
   "metadata": {},
   "outputs": [
    {
     "data": {
      "text/plain": [
       "'01:37:44'"
      ]
     },
     "execution_count": 6,
     "metadata": {},
     "output_type": "execute_result"
    }
   ],
   "source": [
    "solution(\"02:03:55\",\"00:14:15\",[\"01:20:15-01:45:14\", \"00:40:31-01:00:00\", \"00:25:50-00:48:29\", \"01:30:59-01:53:29\", \"01:37:44-02:02:30\"])"
   ]
  },
  {
   "cell_type": "code",
   "execution_count": 7,
   "id": "be7b31c8",
   "metadata": {},
   "outputs": [
    {
     "ename": "IndexError",
     "evalue": "list index out of range",
     "output_type": "error",
     "traceback": [
      "\u001b[1;31m---------------------------------------------------------------------------\u001b[0m",
      "\u001b[1;31mIndexError\u001b[0m                                Traceback (most recent call last)",
      "Cell \u001b[1;32mIn[7], line 1\u001b[0m\n\u001b[1;32m----> 1\u001b[0m \u001b[43msolution\u001b[49m\u001b[43m(\u001b[49m\u001b[38;5;124;43m\"\u001b[39;49m\u001b[38;5;124;43m99:59:59\u001b[39;49m\u001b[38;5;124;43m\"\u001b[39;49m\u001b[43m,\u001b[49m\u001b[38;5;124;43m\"\u001b[39;49m\u001b[38;5;124;43m25:00:00\u001b[39;49m\u001b[38;5;124;43m\"\u001b[39;49m\u001b[43m,\u001b[49m\u001b[43m[\u001b[49m\u001b[38;5;124;43m\"\u001b[39;49m\u001b[38;5;124;43m69:59:59-89:59:59\u001b[39;49m\u001b[38;5;124;43m\"\u001b[39;49m\u001b[43m,\u001b[49m\u001b[43m \u001b[49m\u001b[38;5;124;43m\"\u001b[39;49m\u001b[38;5;124;43m01:00:00-21:00:00\u001b[39;49m\u001b[38;5;124;43m\"\u001b[39;49m\u001b[43m,\u001b[49m\u001b[43m \u001b[49m\u001b[38;5;124;43m\"\u001b[39;49m\u001b[38;5;124;43m79:59:59-99:59:59\u001b[39;49m\u001b[38;5;124;43m\"\u001b[39;49m\u001b[43m,\u001b[49m\u001b[43m \u001b[49m\u001b[38;5;124;43m\"\u001b[39;49m\u001b[38;5;124;43m11:00:00-31:00:00\u001b[39;49m\u001b[38;5;124;43m\"\u001b[39;49m\u001b[43m]\u001b[49m\u001b[43m)\u001b[49m\n",
      "Cell \u001b[1;32mIn[5], line 25\u001b[0m, in \u001b[0;36msolution\u001b[1;34m(pt, at, logs)\u001b[0m\n\u001b[0;32m     23\u001b[0m \u001b[38;5;28;01mfor\u001b[39;00m i \u001b[38;5;129;01min\u001b[39;00m \u001b[38;5;28mrange\u001b[39m(\u001b[38;5;241m0\u001b[39m,\u001b[38;5;28mlen\u001b[39m(logsl3),\u001b[38;5;241m2\u001b[39m):\n\u001b[0;32m     24\u001b[0m     \u001b[38;5;28;01mfor\u001b[39;00m j \u001b[38;5;129;01min\u001b[39;00m \u001b[38;5;28mrange\u001b[39m(logsl3[i],logsl3[i\u001b[38;5;241m+\u001b[39m\u001b[38;5;241m1\u001b[39m]\u001b[38;5;241m+\u001b[39m\u001b[38;5;241m1\u001b[39m):\n\u001b[1;32m---> 25\u001b[0m         li[j]\u001b[38;5;241m+\u001b[39m\u001b[38;5;241m=\u001b[39m\u001b[38;5;241m1\u001b[39m\n\u001b[0;32m     26\u001b[0m a,b,c\u001b[38;5;241m=\u001b[39m\u001b[38;5;241m0\u001b[39m,\u001b[38;5;241m0\u001b[39m,\u001b[38;5;241m0\u001b[39m\n\u001b[0;32m     27\u001b[0m a\u001b[38;5;241m=\u001b[39mli\u001b[38;5;241m.\u001b[39mindex(\u001b[38;5;28mmax\u001b[39m(li))\u001b[38;5;241m/\u001b[39m\u001b[38;5;241m/\u001b[39m\u001b[38;5;241m3600\u001b[39m\n",
      "\u001b[1;31mIndexError\u001b[0m: list index out of range"
     ]
    }
   ],
   "source": [
    "solution(\"99:59:59\",\"25:00:00\",[\"69:59:59-89:59:59\", \"01:00:00-21:00:00\", \"79:59:59-99:59:59\", \"11:00:00-31:00:00\"])"
   ]
  },
  {
   "cell_type": "code",
   "execution_count": null,
   "id": "3ead51b7",
   "metadata": {},
   "outputs": [],
   "source": [
    "solution(\"50:00:00\",\"50:00:00\",[\"15:36:51-38:21:49\", \"10:14:18-15:36:51\", \"38:21:49-42:51:45\"])"
   ]
  },
  {
   "cell_type": "code",
   "execution_count": 2,
   "id": "e94916f7",
   "metadata": {},
   "outputs": [
    {
     "data": {
      "text/plain": [
       "'0b10001'"
      ]
     },
     "execution_count": 2,
     "metadata": {},
     "output_type": "execute_result"
    }
   ],
   "source": [
    "bin(17)"
   ]
  },
  {
   "cell_type": "code",
   "execution_count": 3,
   "id": "a5c08a59",
   "metadata": {},
   "outputs": [
    {
     "name": "stdout",
     "output_type": "stream",
     "text": [
      "[2, 2, 3]\n"
     ]
    }
   ],
   "source": [
    "a=[1,2,3]\n",
    "a[0]*=2\n",
    "print(a)"
   ]
  },
  {
   "cell_type": "code",
   "execution_count": 4,
   "id": "6a58112e",
   "metadata": {},
   "outputs": [],
   "source": [
    "keep=[]\n",
    "k=3\n"
   ]
  },
  {
   "cell_type": "code",
   "execution_count": 5,
   "id": "0ca7aebf",
   "metadata": {},
   "outputs": [],
   "source": [
    "while k>0 and keep:\n",
    "    print(k)\n",
    "    k-=1"
   ]
  },
  {
   "cell_type": "code",
   "execution_count": 24,
   "id": "fcb11e71",
   "metadata": {},
   "outputs": [
    {
     "name": "stdout",
     "output_type": "stream",
     "text": [
      "(1, 1, 0, 1, 1, 1, 1, 0, 1, 1, 0, 0, 0, 0, 0, 1, 1, 0, 1, 1, 1, 1, 0, 1, 1)\n"
     ]
    }
   ],
   "source": [
    "k=[1]\n",
    "o=[]\n",
    "for i in range(2):\n",
    "    for j in range(len(k)):\n",
    "        if k[j]==1:\n",
    "            o.extend([1,1,0,1,1])\n",
    "        elif k[j]==0:\n",
    "            o.extend([0,0,0,0,0])\n",
    "    k=tuple(o)\n",
    "    o.clear()\n",
    "print(k)"
   ]
  },
  {
   "cell_type": "code",
   "execution_count": 18,
   "id": "bbadd6ea",
   "metadata": {},
   "outputs": [
    {
     "name": "stdout",
     "output_type": "stream",
     "text": [
      "[]\n"
     ]
    }
   ],
   "source": [
    "print(k)"
   ]
  },
  {
   "cell_type": "code",
   "execution_count": 29,
   "id": "f7c1c7ef",
   "metadata": {},
   "outputs": [
    {
     "name": "stdout",
     "output_type": "stream",
     "text": [
      "[1, 1, 0, 1, 1, 1, 1, 0, 1, 1, 0, 0, 0, 0, 0, 1, 1, 0, 1, 1, 1, 1, 0, 1, 1, 1, 1, 0, 1, 1, 1, 1, 0, 1, 1, 0, 0, 0, 0, 0, 1, 1, 0, 1, 1, 1, 1, 0, 1, 1, 0, 0, 0, 0, 0, 0, 0, 0, 0, 0, 0, 0, 0, 0, 0, 0, 0, 0, 0, 0, 0, 0, 0, 0, 0, 1, 1, 0, 1, 1, 1, 1, 0, 1, 1, 0, 0, 0, 0, 0, 1, 1, 0, 1, 1, 1, 1, 0, 1, 1, 1, 1, 0, 1, 1, 1, 1, 0, 1, 1, 0, 0, 0, 0, 0, 1, 1, 0, 1, 1, 1, 1, 0, 1, 1]\n"
     ]
    }
   ],
   "source": [
    "k=[1]\n",
    "for i in range(3):\n",
    "    k=k*5\n",
    "    for j in range(int(0.4*len(k)),int(0.6*len(k))):\n",
    "        k[j]=0\n",
    "print(k)"
   ]
  },
  {
   "cell_type": "code",
   "execution_count": null,
   "id": "a703468f",
   "metadata": {},
   "outputs": [],
   "source": []
  }
 ],
 "metadata": {
  "kernelspec": {
   "display_name": "Python 3 (ipykernel)",
   "language": "python",
   "name": "python3"
  },
  "language_info": {
   "codemirror_mode": {
    "name": "ipython",
    "version": 3
   },
   "file_extension": ".py",
   "mimetype": "text/x-python",
   "name": "python",
   "nbconvert_exporter": "python",
   "pygments_lexer": "ipython3",
   "version": "3.10.9"
  }
 },
 "nbformat": 4,
 "nbformat_minor": 5
}
