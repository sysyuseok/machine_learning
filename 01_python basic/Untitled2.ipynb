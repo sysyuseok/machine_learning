{
 "cells": [
  {
   "cell_type": "code",
   "execution_count": 249,
   "id": "7486a68b",
   "metadata": {},
   "outputs": [],
   "source": [
    "def soln():\n",
    "    result=0\n",
    "    k=len(pickups)+1\n",
    "    n=0\n",
    "    while sum(deliveries)+sum(pickups)>0:\n",
    "        j,m,n=0,0,0\n",
    "        #print(\"a\")\n",
    "        if sum(deliveries)>=cap :\n",
    "            #print(\"b\")\n",
    "            c=cap\n",
    "            \n",
    "            while c>0 :\n",
    "                #print(\"c\")\n",
    "                for i in range(-1,-k-1,-1):\n",
    "                    \n",
    "                    if deliveries[i]!=0 and j==0:\n",
    "                        p=i\n",
    "                        j=1\n",
    "                        m=2*(p+k)\n",
    "                        #print(1,result)\n",
    "                        if c > deliveries[i]:\n",
    "                            c-=deliveries[i]\n",
    "                            deliveries[i]=0\n",
    "                    if c > deliveries[i]:\n",
    "                        c-=deliveries[i]\n",
    "                        deliveries[i]=0\n",
    "                        p=i\n",
    "                    else :\n",
    "                        \n",
    "                        \n",
    "                        \n",
    "                        deliveries[i]-=c\n",
    "                        c=0\n",
    "                        break\n",
    "            j=0\n",
    "            while c<cap :\n",
    "                #print(\"d\")\n",
    "                \n",
    "                for l in range(-1,-k,-1):\n",
    "                    \n",
    "                    if (cap-c) > pickups[l] :\n",
    "                        if j==0 and pickups[l]!=0:\n",
    "                            n= 2*(l+k)\n",
    "                            j=1\n",
    "                        c+=pickups[l]\n",
    "                        pickups[l]=0\n",
    "                        if c==cap:\n",
    "                            break\n",
    "                    else :\n",
    "                        if j==0 and pickups[l]!=0:\n",
    "                            n= 2*(l+k)\n",
    "                            j=1\n",
    "                        pickups[l]-=(cap-c)\n",
    "                        break\n",
    "                \n",
    "                break\n",
    "                \n",
    "        else :\n",
    "            #print(\"e\")\n",
    "            c=sum(deliveries)\n",
    "            \n",
    "            while c>0 :\n",
    "                #print(\"f\")\n",
    "                for i in range(-1,-k-1,-1):\n",
    "                    \n",
    "                    if deliveries[i]!=0 and j==0:\n",
    "                        p=i\n",
    "                        j=1\n",
    "                        m=2*(p+k)\n",
    "                        #print(2,result)\n",
    "                        if c > deliveries[i]:\n",
    "                            c-=deliveries[i]\n",
    "                            deliveries[i]=0\n",
    "                    if c > deliveries[i]:\n",
    "                            c-=deliveries[i]\n",
    "                            deliveries[i]=0\n",
    "                    else :\n",
    "                        deliveries[i]-=c\n",
    "                        c=0\n",
    "                        break\n",
    "            j=0    \n",
    "            while c<cap :\n",
    "                #print(\"g\")\n",
    "                for l in range(-1,-k,-1):\n",
    "                    \n",
    "                    if (cap-c) > pickups[l] :\n",
    "                        if j==0 and pickups[l]!=0:\n",
    "                            n= 2*(l+k)\n",
    "                            j=1\n",
    "                        c+=pickups[l]\n",
    "                        pickups[l]=0\n",
    "                        if c==cap:\n",
    "                            break\n",
    "                    else :\n",
    "                        if j==0 and pickups[l]!=0:\n",
    "                            n= 2*(l+k)\n",
    "                            j=1\n",
    "                        pickups[l]-=(cap-c)\n",
    "                        break\n",
    "                \n",
    "                break\n",
    "        result+=max(m,n)\n",
    "    return result"
   ]
  },
  {
   "cell_type": "code",
   "execution_count": 261,
   "id": "7bb220e4",
   "metadata": {},
   "outputs": [
    {
     "name": "stdout",
     "output_type": "stream",
     "text": [
      "8 9\n",
      "18\n",
      "7 8\n",
      "34\n",
      "3 6\n",
      "46\n",
      "0 4\n",
      "54\n"
     ]
    },
    {
     "data": {
      "text/plain": [
       "54"
      ]
     },
     "execution_count": 261,
     "metadata": {},
     "output_type": "execute_result"
    }
   ],
   "source": [
    "solution(2,7,[1, 0, 2, 0, 1, 0, 2],[1, 2, 1, 2, 0, 2, 0])"
   ]
  },
  {
   "cell_type": "code",
   "execution_count": 284,
   "id": "114cf64f",
   "metadata": {},
   "outputs": [],
   "source": [
    "def solution(cap, o, deliveries, pickups):\n",
    "    result=0\n",
    "    q,w=-1,-1\n",
    "    k=o+1\n",
    "    n=0\n",
    "    while sum(deliveries)+sum(pickups)>0:\n",
    "        print('w',w,'q',q)\n",
    "        j,m,n=0,0,0\n",
    "        #print(\"a\")\n",
    "        if sum(deliveries)>=cap :\n",
    "            #print(\"b\")\n",
    "            c=cap\n",
    "            while c>0 :\n",
    "                #print(\"c\")\n",
    "                for i in range(w,-k-1,-1):\n",
    "                    if deliveries[i]!=0 and j==0:\n",
    "                        j=1\n",
    "                        m=(i+k)\n",
    "                        \n",
    "                        #print(1,result)\n",
    "                        if c > deliveries[i]:\n",
    "                            c-=deliveries[i]\n",
    "                            deliveries[i]=0\n",
    "                    if c > deliveries[i]:\n",
    "                        c-=deliveries[i]\n",
    "                        deliveries[i]=0\n",
    "                    else :\n",
    "                        deliveries[i]-=c\n",
    "                        c=0\n",
    "                        break\n",
    "            j=0\n",
    "            while c<cap :\n",
    "                #print(\"d\")\n",
    "                \n",
    "                for l in range(q,-k,-1):\n",
    "                    \n",
    "                    if (cap-c) > pickups[l] :\n",
    "                        if j==0 and pickups[l]!=0:\n",
    "                            n= (l+k)\n",
    "                            j=1\n",
    "                            \n",
    "                        c+=pickups[l]\n",
    "                        pickups[l]=0\n",
    "                        if c==cap:\n",
    "                            break\n",
    "                    else :\n",
    "                        if j==0 and pickups[l]!=0:\n",
    "                            n=(l+k)\n",
    "                            j=1\n",
    "                            \n",
    "                        pickups[l]-=(cap-c)\n",
    "                        break\n",
    "                \n",
    "                break\n",
    "                \n",
    "        else :\n",
    "            #print(\"e\")\n",
    "            c=sum(deliveries)\n",
    "            \n",
    "            while c>0 :\n",
    "                #print(\"f\")\n",
    "                for i in range(w,-k-1,-1):\n",
    "                    \n",
    "                    if deliveries[i]!=0 and j==0:\n",
    "                        j=1\n",
    "                        m=(i+k)\n",
    "                        \n",
    "                        #print(2,result)\n",
    "                        if c > deliveries[i]:\n",
    "                            c-=deliveries[i]\n",
    "                            deliveries[i]=0\n",
    "                    if c > deliveries[i]:\n",
    "                            c-=deliveries[i]\n",
    "                            deliveries[i]=0\n",
    "                    else :\n",
    "                        deliveries[i]-=c\n",
    "                        c=0\n",
    "                        break\n",
    "            j=0    \n",
    "            while c<cap :\n",
    "                #print(\"g\")\n",
    "                for l in range(q,-k,-1):\n",
    "                    \n",
    "                    if (cap-c) > pickups[l] :\n",
    "                        if j==0 and pickups[l]!=0:\n",
    "                            n=(l+k)\n",
    "                            j=1\n",
    "                            \n",
    "                        c+=pickups[l]\n",
    "                        pickups[l]=0\n",
    "                        if c==cap:\n",
    "                            break\n",
    "                    else :\n",
    "                        if j==0 and pickups[l]!=0:\n",
    "                            n= (l+k)\n",
    "                            j=1\n",
    "                            \n",
    "                        pickups[l]-=(cap-c)\n",
    "                        break\n",
    "                break\n",
    "        q=n-k\n",
    "        w=m-k\n",
    "        print(m,n)\n",
    "        result+=2*max(m,n)\n",
    "        \n",
    "    return result"
   ]
  },
  {
   "cell_type": "code",
   "execution_count": 285,
   "id": "ff4a198c",
   "metadata": {},
   "outputs": [
    {
     "name": "stdout",
     "output_type": "stream",
     "text": [
      "w -1 q -1\n",
      "7 6\n",
      "w -1 q -2\n",
      "5 4\n",
      "w -3 q -4\n",
      "3 3\n",
      "w -5 q -5\n",
      "0 2\n"
     ]
    },
    {
     "data": {
      "text/plain": [
       "34"
      ]
     },
     "execution_count": 285,
     "metadata": {},
     "output_type": "execute_result"
    }
   ],
   "source": [
    "solution(2,7,[1, 0, 2, 0, 1, 0, 2],[1, 2, 1, 2, 0, 2, 0])"
   ]
  },
  {
   "cell_type": "code",
   "execution_count": 287,
   "id": "ea69a00a",
   "metadata": {},
   "outputs": [
    {
     "name": "stdout",
     "output_type": "stream",
     "text": [
      "Collecting pykrx\n",
      "  Downloading pykrx-1.0.41-py3-none-any.whl (125 kB)\n",
      "     -------------------------------------- 125.5/125.5 kB 7.7 MB/s eta 0:00:00\n",
      "Collecting datetime\n",
      "  Downloading DateTime-5.1-py3-none-any.whl (52 kB)\n",
      "     ---------------------------------------- 52.1/52.1 kB ? eta 0:00:00\n",
      "Requirement already satisfied: pandas in c:\\users\\playdata\\anaconda3\\lib\\site-packages (from pykrx) (1.5.3)\n",
      "Requirement already satisfied: requests in c:\\users\\playdata\\anaconda3\\lib\\site-packages (from pykrx) (2.28.1)\n",
      "Collecting deprecated\n",
      "  Downloading Deprecated-1.2.13-py2.py3-none-any.whl (9.6 kB)\n",
      "Requirement already satisfied: numpy in c:\\users\\playdata\\anaconda3\\lib\\site-packages (from pykrx) (1.23.5)\n",
      "Collecting xlrd\n",
      "  Downloading xlrd-2.0.1-py2.py3-none-any.whl (96 kB)\n",
      "     ---------------------------------------- 96.5/96.5 kB 5.8 MB/s eta 0:00:00\n",
      "Requirement already satisfied: zope.interface in c:\\users\\playdata\\anaconda3\\lib\\site-packages (from datetime->pykrx) (5.4.0)\n",
      "Requirement already satisfied: pytz in c:\\users\\playdata\\anaconda3\\lib\\site-packages (from datetime->pykrx) (2022.7)\n",
      "Requirement already satisfied: wrapt<2,>=1.10 in c:\\users\\playdata\\anaconda3\\lib\\site-packages (from deprecated->pykrx) (1.14.1)\n",
      "Requirement already satisfied: python-dateutil>=2.8.1 in c:\\users\\playdata\\anaconda3\\lib\\site-packages (from pandas->pykrx) (2.8.2)\n",
      "Requirement already satisfied: urllib3<1.27,>=1.21.1 in c:\\users\\playdata\\anaconda3\\lib\\site-packages (from requests->pykrx) (1.26.14)\n",
      "Requirement already satisfied: idna<4,>=2.5 in c:\\users\\playdata\\anaconda3\\lib\\site-packages (from requests->pykrx) (3.4)\n",
      "Requirement already satisfied: certifi>=2017.4.17 in c:\\users\\playdata\\anaconda3\\lib\\site-packages (from requests->pykrx) (2022.12.7)\n",
      "Requirement already satisfied: charset-normalizer<3,>=2 in c:\\users\\playdata\\anaconda3\\lib\\site-packages (from requests->pykrx) (2.0.4)\n",
      "Requirement already satisfied: six>=1.5 in c:\\users\\playdata\\anaconda3\\lib\\site-packages (from python-dateutil>=2.8.1->pandas->pykrx) (1.16.0)\n",
      "Requirement already satisfied: setuptools in c:\\users\\playdata\\anaconda3\\lib\\site-packages (from zope.interface->datetime->pykrx) (65.6.3)\n",
      "Installing collected packages: xlrd, deprecated, datetime, pykrx\n",
      "Successfully installed datetime-5.1 deprecated-1.2.13 pykrx-1.0.41 xlrd-2.0.1\n",
      "Note: you may need to restart the kernel to use updated packages.\n"
     ]
    }
   ],
   "source": [
    "pip install pykrx"
   ]
  },
  {
   "cell_type": "code",
   "execution_count": 289,
   "id": "60729908",
   "metadata": {},
   "outputs": [],
   "source": [
    "from pykrx import stock\n",
    "from pykrx import bond"
   ]
  },
  {
   "cell_type": "code",
   "execution_count": 294,
   "id": "88741fdb",
   "metadata": {},
   "outputs": [
    {
     "name": "stdout",
     "output_type": "stream",
     "text": [
      "               시가     고가     저가     종가       거래량           거래대금   등락률\n",
      "날짜                                                                   \n",
      "2022-07-20  61800  62100  60500  60500  16782238  1025939109200 -0.66\n",
      "2022-07-21  61100  61900  60700  61800  12291374   754854999650  2.15\n",
      "2022-07-22  61800  62200  61200  61300  10261310   631872940300 -0.81\n",
      "2022-07-25  60900  61900  60800  61100   9193681   565540190900 -0.33\n",
      "2022-07-26  60800  61900  60800  61700   6597211   405310045900  0.98\n",
      "2022-07-27  61300  61900  61200  61800   7320997   449989960800  0.16\n",
      "2022-07-28  62300  62600  61600  61900  10745302   667085256100  0.16\n",
      "2022-07-29  62400  62600  61300  61400  15093120   932917972000 -0.81\n",
      "2022-08-01  61000  61700  60300  61300  13154816   803034710500 -0.16\n",
      "2022-08-02  61200  61900  61000  61700  13614895   837567187000  0.65\n",
      "2022-08-03  61600  61600  61000  61300  10053861   615480978400 -0.65\n",
      "2022-08-04  61700  61800  61200  61500   9125439   561835808800  0.33\n",
      "2022-08-05  61700  61900  61200  61500   9567620   588582544800  0.00\n",
      "2022-08-08  61400  61400  60600  60800  11313150   689020306900 -1.14\n",
      "2022-08-09  60600  60700  59600  60000  18251170  1094260322600 -1.32\n",
      "2022-08-10  58900  59200  58600  59100  18084349  1065592854894 -1.50\n"
     ]
    }
   ],
   "source": [
    "df = stock.get_market_ohlcv(\"20220720\", \"20220810\", \"005930\")\n",
    "print(df.head(3))"
   ]
  },
  {
   "cell_type": "code",
   "execution_count": 298,
   "id": "dc45d10e",
   "metadata": {},
   "outputs": [
    {
     "name": "stdout",
     "output_type": "stream",
     "text": [
      "Help on function get_market_ohlcv in module pykrx.stock.stock_api:\n",
      "\n",
      "get_market_ohlcv(*args, **kwargs)\n",
      "    OHLCV 조회\n",
      "    Args:\n",
      "    \n",
      "        특정 종목의 지정된 기간 OHLCV 조회\n",
      "    \n",
      "        fromdate     (str           ): 조회 시작 일자 (YYYYMMDD)\n",
      "        todate       (str           ): 조회 종료 일자 (YYYYMMDD)\n",
      "        ticker       (str,  optional): 조회할 종목의 티커\n",
      "        freq         (str,  optional): d - 일 / m - 월 / y - 년\n",
      "        adjusted     (bool, optional): 수정 종가 여부 (True/False)\n",
      "    \n",
      "        특정 일자의 전종목 OHLCV 조회\n",
      "    \n",
      "        date   (str): 조회 일자 (YYYYMMDD)\n",
      "        market (str): 조회 시장 (KOSPI/KOSDAQ/KONEX/ALL)\n",
      "    \n",
      "    Returns:\n",
      "        DataFrame:\n",
      "    \n",
      "            특정 종목의 지정된 기간 OHLCV 조회\n",
      "            >> get_market_ohlcv(\"20210118\", \"20210126\", \"005930\")\n",
      "    \n",
      "                         시가   고가   저가   종가    거래량\n",
      "            날짜\n",
      "            2021-01-18  86600  87300  84100  85000  43227951\n",
      "            2021-01-19  84500  88000  83600  87000  39895044\n",
      "            2021-01-20  89000  89000  86500  87200  25211127\n",
      "            2021-01-21  87500  88600  86500  88100  25318011\n",
      "            2021-01-22  89000  89700  86800  86800  30861661\n",
      "    \n",
      "            특정 일자의 전종목 OHLCV 조회\n",
      "            >> get_market_ohlcv(\"20210122\")\n",
      "    \n",
      "                      시가    고가    저가    종가   거래량     거래대금     등락률\n",
      "            티커\n",
      "            095570    4190    4245    4160    4210   216835    910274405   0.839844\n",
      "            006840   25750   29550   25600   29100   727088  20462325950  12.570312\n",
      "            027410    5020    5250    4955    5220  1547629   7990770515   4.191406\n",
      "            282330  156500  156500  151500  152000    62510   9555364000  -2.560547\n",
      "\n"
     ]
    }
   ],
   "source": [
    "help(stock.get_market_ohlcv)"
   ]
  },
  {
   "cell_type": "code",
   "execution_count": 6,
   "id": "aa571fe1",
   "metadata": {},
   "outputs": [],
   "source": [
    "def solution():\n",
    "    a, b = map(int, input().strip().split(' '))\n",
    "    for i in range(b):\n",
    "        if i==0:\n",
    "            print(\"\\\"\",end=\"\")\n",
    "        for _ in range(a):\n",
    "            print(\"*\",end=\"\")\n",
    "    print(\"\\\"\")\n",
    "    return True"
   ]
  },
  {
   "cell_type": "code",
   "execution_count": 11,
   "id": "5c630b6d",
   "metadata": {},
   "outputs": [
    {
     "name": "stdout",
     "output_type": "stream",
     "text": [
      "[7]\n"
     ]
    }
   ],
   "source": [
    "v=0\n",
    "n=10\n",
    "lis=[]\n",
    "lis=[v for v in range(6,n) if (v%2!=0 and v%3!=0 and v%5!=0)]\n",
    "print(lis)"
   ]
  },
  {
   "cell_type": "code",
   "execution_count": 11,
   "id": "3a0b483a",
   "metadata": {},
   "outputs": [
    {
     "name": "stdout",
     "output_type": "stream",
     "text": [
      "True\n"
     ]
    }
   ],
   "source": [
    "a=\"201711224\"\n",
    "b=\"201711225\"\n",
    "if a.endswith(\"224\"):\n",
    "    print(True)"
   ]
  },
  {
   "cell_type": "code",
   "execution_count": 13,
   "id": "9c3482b9",
   "metadata": {},
   "outputs": [
    {
     "name": "stdout",
     "output_type": "stream",
     "text": [
      "[2, 3, 4]\n"
     ]
    }
   ],
   "source": [
    "l=[1,2,3,4]\n",
    "l.remove(1)\n",
    "print(l)"
   ]
  },
  {
   "cell_type": "code",
   "execution_count": 14,
   "id": "1e1a397f",
   "metadata": {},
   "outputs": [
    {
     "ename": "TypeError",
     "evalue": "set expected at most 1 argument, got 3",
     "output_type": "error",
     "traceback": [
      "\u001b[1;31m---------------------------------------------------------------------------\u001b[0m",
      "\u001b[1;31mTypeError\u001b[0m                                 Traceback (most recent call last)",
      "Cell \u001b[1;32mIn[14], line 1\u001b[0m\n\u001b[1;32m----> 1\u001b[0m \u001b[38;5;28;43mset\u001b[39;49m\u001b[43m(\u001b[49m\u001b[38;5;241;43m1\u001b[39;49m\u001b[43m,\u001b[49m\u001b[38;5;241;43m2\u001b[39;49m\u001b[43m,\u001b[49m\u001b[38;5;241;43m3\u001b[39;49m\u001b[43m)\u001b[49m\u001b[38;5;241m-\u001b[39m\u001b[38;5;241m1\u001b[39m\n",
      "\u001b[1;31mTypeError\u001b[0m: set expected at most 1 argument, got 3"
     ]
    }
   ],
   "source": [
    "set(1,2,3)"
   ]
  },
  {
   "cell_type": "code",
   "execution_count": 26,
   "id": "8c95f295",
   "metadata": {},
   "outputs": [
    {
     "name": "stdout",
     "output_type": "stream",
     "text": [
      "{}\n"
     ]
    }
   ],
   "source": [
    "dict2={}\n",
    "print(dict2)"
   ]
  },
  {
   "cell_type": "code",
   "execution_count": 27,
   "id": "7cefe881",
   "metadata": {},
   "outputs": [
    {
     "ename": "KeyError",
     "evalue": "3",
     "output_type": "error",
     "traceback": [
      "\u001b[1;31m---------------------------------------------------------------------------\u001b[0m",
      "\u001b[1;31mKeyError\u001b[0m                                  Traceback (most recent call last)",
      "Cell \u001b[1;32mIn[27], line 1\u001b[0m\n\u001b[1;32m----> 1\u001b[0m dict2[\u001b[38;5;241m3\u001b[39m]\u001b[38;5;241m+\u001b[39m\u001b[38;5;241m=\u001b[39m\u001b[38;5;241m1\u001b[39m\n",
      "\u001b[1;31mKeyError\u001b[0m: 3"
     ]
    }
   ],
   "source": [
    "for i in range(reserve):\n",
    "    dict2[reserve[i]]=0\n"
   ]
  },
  {
   "cell_type": "code",
   "execution_count": 21,
   "id": "7ff2c276",
   "metadata": {},
   "outputs": [
    {
     "name": "stdout",
     "output_type": "stream",
     "text": [
      "1\n"
     ]
    }
   ],
   "source": [
    "print(dict2[3])"
   ]
  },
  {
   "cell_type": "code",
   "execution_count": 23,
   "id": "b7c43cf4",
   "metadata": {},
   "outputs": [],
   "source": [
    "dict2[3]+=1"
   ]
  },
  {
   "cell_type": "code",
   "execution_count": 24,
   "id": "39b1bcba",
   "metadata": {},
   "outputs": [
    {
     "name": "stdout",
     "output_type": "stream",
     "text": [
      "2\n"
     ]
    }
   ],
   "source": [
    "print(dict2[3])"
   ]
  },
  {
   "cell_type": "code",
   "execution_count": 28,
   "id": "93855378",
   "metadata": {},
   "outputs": [
    {
     "ename": "NameError",
     "evalue": "name 'b2h' is not defined",
     "output_type": "error",
     "traceback": [
      "\u001b[1;31m---------------------------------------------------------------------------\u001b[0m",
      "\u001b[1;31mNameError\u001b[0m                                 Traceback (most recent call last)",
      "Cell \u001b[1;32mIn[28], line 1\u001b[0m\n\u001b[1;32m----> 1\u001b[0m \u001b[43mb2h\u001b[49m(\u001b[38;5;241m5\u001b[39m)\n",
      "\u001b[1;31mNameError\u001b[0m: name 'b2h' is not defined"
     ]
    }
   ],
   "source": [
    "b2h(5)"
   ]
  },
  {
   "cell_type": "code",
   "execution_count": null,
   "id": "287d028b",
   "metadata": {},
   "outputs": [],
   "source": []
  },
  {
   "cell_type": "code",
   "execution_count": null,
   "id": "5034d5d5",
   "metadata": {},
   "outputs": [],
   "source": []
  },
  {
   "cell_type": "code",
   "execution_count": null,
   "id": "b8260068",
   "metadata": {},
   "outputs": [],
   "source": []
  },
  {
   "cell_type": "code",
   "execution_count": null,
   "id": "b81aee9e",
   "metadata": {},
   "outputs": [],
   "source": []
  },
  {
   "cell_type": "code",
   "execution_count": null,
   "id": "70bf32a4",
   "metadata": {},
   "outputs": [],
   "source": []
  }
 ],
 "metadata": {
  "kernelspec": {
   "display_name": "Python 3 (ipykernel)",
   "language": "python",
   "name": "python3"
  },
  "language_info": {
   "codemirror_mode": {
    "name": "ipython",
    "version": 3
   },
   "file_extension": ".py",
   "mimetype": "text/x-python",
   "name": "python",
   "nbconvert_exporter": "python",
   "pygments_lexer": "ipython3",
   "version": "3.10.9"
  }
 },
 "nbformat": 4,
 "nbformat_minor": 5
}
