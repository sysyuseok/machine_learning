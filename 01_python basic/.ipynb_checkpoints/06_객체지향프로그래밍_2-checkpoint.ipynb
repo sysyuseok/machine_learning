{
 "cells": [
  {
   "cell_type": "markdown",
   "metadata": {
    "slideshow": {
     "slide_type": "slide"
    }
   },
   "source": [
    "# 객체지향 프로그래밍 (Object Oriented Programming)\n",
    "\n",
    "프로그램을 구성하는 변수와 함수들에서 서로 연관성있는 것 끼리 묶어서 모듈화하는 개발하는 언어들을 객체지향프로그래밍 언어라고 한다."
   ]
  },
  {
   "cell_type": "markdown",
   "metadata": {
    "slideshow": {
     "slide_type": "fragment"
    }
   },
   "source": [
    "# Instance(객체)\n",
    "- 연관성 있는 값들과 그 값들을 처리하는 함수(메소드)들을 묶어서 가지고 있는 것(값).\n",
    "- 객체의 구성요소\n",
    "    - 속성(Attribute)\n",
    "        - 객체의 데이터/상태로 객체를 구성하는 값들.\n",
    "    - 메소드(method)\n",
    "        - 객체가 제공하는 기능으로 주로 Attribute들을 처리한다.\n",
    "        "
   ]
  },
  {
   "cell_type": "markdown",
   "metadata": {
    "slideshow": {
     "slide_type": "subslide"
    }
   },
   "source": [
    "## Class(클래스) 정의\n",
    "\n",
    "- class란: 객체의 설계도\n",
    "    - 동일한 형태의 객체들이 가져야 하는 Attribute와 Method들을 정의 한 것\n",
    "        - 클래스를 정의할 때 어떤 속성과 메소드를 가지는지 먼저 설계해야 한다.\n",
    "    - 클래스로 부터 객체(instance)를 생성한 뒤 사용한다.\n",
    "```python\n",
    "class 클래스이름:  #선언부\n",
    "    #클래스 구현\n",
    "    #메소드들을 정의\n",
    "```\n",
    "- 클래스 이름의 관례: 파스칼 표기법-각 단어의 첫글자는 대문자 나머진 소문자로 정의한다.\n",
    "    - ex) Person, Student, HighSchoolStudent\n",
    "    "
   ]
  },
  {
   "cell_type": "markdown",
   "metadata": {
    "slideshow": {
     "slide_type": "fragment"
    }
   },
   "source": [
    "## 클래스로부터 객체(Instance) 생성\n",
    "- 클래스는 데이터 타입 instance는 값이다.\n",
    "\n",
    "```python\n",
    "변수 = 클래스이름()\n",
    "```"
   ]
  },
  {
   "cell_type": "code",
   "execution_count": null,
   "metadata": {},
   "outputs": [],
   "source": [
    "#instance를 만들기 위해 class를 만들어주고 instance 안에 속성과 method 존재\n",
    "#속성 - instance의 data\n",
    "#method - 객체가 제공해주는 기능"
   ]
  },
  {
   "cell_type": "code",
   "execution_count": 1,
   "metadata": {},
   "outputs": [],
   "source": [
    "# Person 클래스 ==> data type\n",
    "class Person: #선언부\n",
    "    # 구현\n",
    "    pass"
   ]
  },
  {
   "cell_type": "code",
   "execution_count": 2,
   "metadata": {},
   "outputs": [],
   "source": [
    "# Person class의 instance(객체)를 생성 => 값을 생성\n",
    "p = Person()  # Person()객체를 생성해서 변수 p에 대입"
   ]
  },
  {
   "cell_type": "code",
   "execution_count": 4,
   "metadata": {},
   "outputs": [
    {
     "name": "stdout",
     "output_type": "stream",
     "text": [
      "<class '__main__.Person'>\n"
     ]
    },
    {
     "data": {
      "text/plain": [
       "__main__.Person"
      ]
     },
     "execution_count": 4,
     "metadata": {},
     "output_type": "execute_result"
    }
   ],
   "source": [
    "print(type(p))\n",
    "type(p)"
   ]
  },
  {
   "cell_type": "code",
   "execution_count": 6,
   "metadata": {},
   "outputs": [
    {
     "name": "stdout",
     "output_type": "stream",
     "text": [
      "<class 'int'> <class 'float'> <class 'bool'> <class 'str'> <class 'list'>\n"
     ]
    }
   ],
   "source": [
    "print(type(10), type(3.5), type(True), type('abc'), type([1,2,3]))"
   ]
  },
  {
   "cell_type": "code",
   "execution_count": 7,
   "metadata": {
    "slideshow": {
     "slide_type": "fragment"
    }
   },
   "outputs": [
    {
     "name": "stdout",
     "output_type": "stream",
     "text": [
      "<__main__.Person object at 0x0000021E10645FC0>\n"
     ]
    }
   ],
   "source": [
    "print(p)"
   ]
  },
  {
   "cell_type": "markdown",
   "metadata": {
    "slideshow": {
     "slide_type": "subslide"
    }
   },
   "source": [
    "## Attribute(속성) \n",
    "- attribute는 객체의 데이터, 객체가 가지는 값, 객체의 상태\n",
    "\n",
    "### 객체에 속성을 추가, 조회\n",
    "- 객체의 속성 추가(값 변경)\n",
    "    1. Initializer(생성자)를 통한 추가\n",
    "    2. 객체.속성명 = 값 (추가/변경)\n",
    "    3. 메소드를 통한 추가/변경 (set을 의미)\n",
    "    - 1(Initializer)은 초기화할 때. 2, 3은 속성값을 변경할 때 적용.\n",
    "- 속성 값 조회\n",
    "    - 객체.속성명\n",
    "- **객체.\\_\\_dict\\_\\_**\n",
    "    - 객체가 가지고 있는 Attribute들을 dictionary로 반환한다."
   ]
  },
  {
   "cell_type": "code",
   "execution_count": 16,
   "metadata": {},
   "outputs": [
    {
     "name": "stdout",
     "output_type": "stream",
     "text": [
      "{}\n"
     ]
    }
   ],
   "source": [
    "p = Person()  # Person type의 instance(객체)를 생성.\n",
    "print(p.__dict__)\n",
    "# 이름 속성을 추가\n",
    "p.name = \"홍길동\"\n",
    "# 나이\n",
    "p.age = 30"
   ]
  },
  {
   "cell_type": "code",
   "execution_count": 12,
   "metadata": {},
   "outputs": [
    {
     "name": "stdout",
     "output_type": "stream",
     "text": [
      "홍길동 30\n"
     ]
    }
   ],
   "source": [
    "print(p.name, p.age)"
   ]
  },
  {
   "cell_type": "code",
   "execution_count": null,
   "metadata": {},
   "outputs": [],
   "source": [
    "name"
   ]
  },
  {
   "cell_type": "code",
   "execution_count": 15,
   "metadata": {},
   "outputs": [
    {
     "name": "stdout",
     "output_type": "stream",
     "text": [
      "<class 'dict'>\n"
     ]
    },
    {
     "data": {
      "text/plain": [
       "{'name': '홍길동', 'age': 30}"
      ]
     },
     "execution_count": 15,
     "metadata": {},
     "output_type": "execute_result"
    }
   ],
   "source": [
    "print(type(p.__dict__))\n",
    "p.__dict__"
   ]
  },
  {
   "cell_type": "code",
   "execution_count": 18,
   "metadata": {},
   "outputs": [
    {
     "name": "stdout",
     "output_type": "stream",
     "text": [
      "{}\n",
      "{'name': '이순신', 'age': 20}\n"
     ]
    }
   ],
   "source": [
    "p2 = Person()\n",
    "print(p2.__dict__)\n",
    "p2.name = \"이순신\"\n",
    "p2.age = 20\n",
    "\n",
    "print(p2.__dict__)"
   ]
  },
  {
   "cell_type": "code",
   "execution_count": 19,
   "metadata": {},
   "outputs": [
    {
     "name": "stdout",
     "output_type": "stream",
     "text": [
      "{'name': '홍길동', 'age': 30}\n"
     ]
    }
   ],
   "source": [
    "print(p.__dict__)"
   ]
  },
  {
   "cell_type": "code",
   "execution_count": 21,
   "metadata": {},
   "outputs": [],
   "source": [
    "p3 = Person()\n",
    "p3.name = \"유관순\"\n",
    "p3.age = 25  # 초기화: 처음 변수를 만들어서 값을 대입\n",
    "p3.email = \"ryu@a.com\"\n",
    "p3.age = 30 # 변경"
   ]
  },
  {
   "cell_type": "code",
   "execution_count": 23,
   "metadata": {},
   "outputs": [
    {
     "name": "stdout",
     "output_type": "stream",
     "text": [
      "유관순 30 ryu@a.com\n"
     ]
    }
   ],
   "source": [
    "# p3의 이름, 나이, 이메일주소 출력\n",
    "print(p3.name, p3.age, p3.email)"
   ]
  },
  {
   "cell_type": "code",
   "execution_count": 25,
   "metadata": {},
   "outputs": [
    {
     "ename": "AttributeError",
     "evalue": "'Person' object has no attribute 'email'",
     "output_type": "error",
     "traceback": [
      "\u001b[1;31m---------------------------------------------------------------------------\u001b[0m",
      "\u001b[1;31mAttributeError\u001b[0m                            Traceback (most recent call last)",
      "Cell \u001b[1;32mIn[25], line 2\u001b[0m\n\u001b[0;32m      1\u001b[0m \u001b[38;5;66;03m# p2의 이름, 나이, 이메일주소 출력\u001b[39;00m\n\u001b[1;32m----> 2\u001b[0m \u001b[38;5;28mprint\u001b[39m(p2\u001b[38;5;241m.\u001b[39mname, p2\u001b[38;5;241m.\u001b[39mage, \u001b[43mp2\u001b[49m\u001b[38;5;241;43m.\u001b[39;49m\u001b[43memail\u001b[49m)\n",
      "\u001b[1;31mAttributeError\u001b[0m: 'Person' object has no attribute 'email'"
     ]
    }
   ],
   "source": [
    "# p2의 이름, 나이, 이메일주소 출력\n",
    "print(p2.name, p2.age, p2.email)"
   ]
  },
  {
   "cell_type": "markdown",
   "metadata": {
    "slideshow": {
     "slide_type": "subslide"
    }
   },
   "source": [
    "### 생성자(Initializer)\n",
    "- 객체를 생성할 때 호출되는 특수메소드로 attribute들 초기화에 하는 코드를 구현한다.\n",
    "    - Inializer를 이용해 초기화하는 Attribute들이 그 클래스의 객체들이 가져야 하는 공통 Attribute가 된다.\n",
    "- 구문\n",
    "```python\n",
    "def __init__(self [,매개변수들 선언]):  #[ ] 옵션.\n",
    "    # 구현 -> attribute(instance변수) 초기화\n",
    "    self.속성명 = 값\n",
    "```\n",
    "> 변수 초기화: 처음 변수 만들어서 처음 값 대입.    "
   ]
  },
  {
   "cell_type": "code",
   "execution_count": 5,
   "metadata": {},
   "outputs": [],
   "source": [
    "# initializer를 이용해 attribute들을 초기화하는 클래스.\n",
    "# Person class -> 생성된 객체는 반드시 name, age, email 세개의 attribute를 가져야한다.\n",
    "class Person2:\n",
    "    \n",
    "    def __init__(self):\n",
    "        print(\"Person2.__init__()\")\n",
    "        self.name = \"홍길동\"\n",
    "        self.age = 20\n",
    "        self.email = None\n",
    "###qqq - 반드시 저 3개의 attribute를 가져야한다는 것의 의미는?"
   ]
  },
  {
   "cell_type": "code",
   "execution_count": null,
   "metadata": {},
   "outputs": [],
   "source": [
    "p.name  \n"
   ]
  },
  {
   "cell_type": "code",
   "execution_count": 7,
   "metadata": {},
   "outputs": [
    {
     "name": "stdout",
     "output_type": "stream",
     "text": [
      "홍길동 20 None\n"
     ]
    }
   ],
   "source": [
    "print(p.name, p.age, p.email)"
   ]
  },
  {
   "cell_type": "code",
   "execution_count": 8,
   "metadata": {},
   "outputs": [],
   "source": [
    "p.email = \"a@a.com\""
   ]
  },
  {
   "cell_type": "code",
   "execution_count": 9,
   "metadata": {},
   "outputs": [
    {
     "name": "stdout",
     "output_type": "stream",
     "text": [
      "홍길동 20 a@a.com\n"
     ]
    }
   ],
   "source": [
    "print(p.name, p.age, p.email)"
   ]
  },
  {
   "cell_type": "code",
   "execution_count": 4,
   "metadata": {},
   "outputs": [
    {
     "name": "stdout",
     "output_type": "stream",
     "text": [
      "Person2.__init__()\n",
      "홍길동 20 None\n"
     ]
    }
   ],
   "source": [
    "p2 = Person2()\n",
    "print(p2.name, p2.age, p2.email)"
   ]
  },
  {
   "cell_type": "code",
   "execution_count": 29,
   "metadata": {},
   "outputs": [
    {
     "data": {
      "text/plain": [
       "{'name': '홍길동', 'age': 40, 'email': None}"
      ]
     },
     "execution_count": 29,
     "metadata": {},
     "output_type": "execute_result"
    }
   ],
   "source": [
    "p.age = 40\n",
    "p.__dict__"
   ]
  },
  {
   "cell_type": "code",
   "execution_count": 30,
   "metadata": {},
   "outputs": [
    {
     "data": {
      "text/plain": [
       "{'name': '홍길동', 'age': 20, 'email': None}"
      ]
     },
     "execution_count": 30,
     "metadata": {},
     "output_type": "execute_result"
    }
   ],
   "source": [
    "p2.__dict__"
   ]
  },
  {
   "cell_type": "code",
   "execution_count": 27,
   "metadata": {},
   "outputs": [],
   "source": [
    "# 객체 생성시 생성하는 곳에서 지정한 값으로 attribute를 초기화.\n",
    "class Person3:\n",
    "    \n",
    "    def __init__(self, name:str, age:int, email:str=None):\n",
    "        self.name = name\n",
    "        self.age = age\n",
    "        self.email = email\n",
    "        #이와 같이 3개는 무조건 포함되어야한다. __init_(self ~~ ) 부분에 적혀서 무조건 포함되어야하는 것인지\n",
    "        #외부에서 하는것은 변경으로만 사용할것 생성은 이부분에서만 하기!\n",
    "        ###qqq\n",
    "        \n",
    "        \n",
    "    def print_name(self):\n",
    "        print(self.name)\n",
    "        \n",
    "        # self.name: Attribute/Instance variable (self.변수)\n",
    "        # name: __init__()의 local variable(지역변수)"
   ]
  },
  {
   "cell_type": "code",
   "execution_count": 28,
   "metadata": {},
   "outputs": [
    {
     "data": {
      "text/plain": [
       "{'name': '이순신', 'age': 32, 'email': 'lee@playdata.co.kr'}"
      ]
     },
     "execution_count": 28,
     "metadata": {},
     "output_type": "execute_result"
    }
   ],
   "source": [
    "p = Person3(age=32, name=\"이순신\",  email=\"lee@playdata.co.kr\") #__init__()호출\n",
    "p.__dict__"
   ]
  },
  {
   "cell_type": "code",
   "execution_count": 29,
   "metadata": {},
   "outputs": [],
   "source": [
    " #__init__()호출\n",
    "p2 = Person3(\"홍길동\", 32, \"lee@playdata.co.kr\")\n",
    "p3 = Person3(\"유관순\", 32, \"lee@playdata.co.kr\")"
   ]
  },
  {
   "cell_type": "code",
   "execution_count": 30,
   "metadata": {},
   "outputs": [
    {
     "name": "stdout",
     "output_type": "stream",
     "text": [
      "이순신\n",
      "홍길동\n",
      "유관순\n"
     ]
    }
   ],
   "source": [
    "p.print_name()\n",
    "p2.print_name()\n",
    "p3.print_name()"
   ]
  },
  {
   "cell_type": "markdown",
   "metadata": {
    "slideshow": {
     "slide_type": "fragment"
    }
   },
   "source": [
    "### self  parameter\n",
    "- 메소드는 반드시 한개 이상의 parameter를 선언해야 하고 그 첫번째 parameter를 말한다.\n",
    "- 메소드 호출시 그 메소드를 소유한 instance가 self parameter에 할당된다.\n",
    "- Initializer의 self\n",
    "    - 현재 만들어 지고 있는 객체를 받는다.\n",
    "- 메소드의 self\n",
    "    - 메소드를 소유한 객체를 받는다.\n",
    "- Caller에서 생성자/메소드에 전달된 argument들을 받을 parameter는 두번째 변수부터 선언한다.    "
   ]
  },
  {
   "cell_type": "code",
   "execution_count": 1,
   "metadata": {},
   "outputs": [],
   "source": [
    "class Person4:\n",
    "    \n",
    "    # instance 변수(attribute)를 초기화 -> __init__()에서 한다.\n",
    "    def __init__(self, name, age, address, email=None, *args, **kwargs):\n",
    "        self.name = name\n",
    "        self.age = age\n",
    "        self.address = address\n",
    "        self.email = email\n",
    "        self.hobby = []  # instance변수를 꼭 파라미터로 받아서 정의할 필요는 없다.\n",
    "        \n",
    "    # 메소드\n",
    "    # 모든 Attribute를 출력하는 메소드\n",
    "    def print_info(self):\n",
    "        info = f\"이름: {self.name}, 나이: {self.age}, 주소: {self.address}, Email: {self.email}\"\n",
    "        # hobby가 있으면 추가\n",
    "        if self.hobby: #자료구조는 원소가 없으면 False, 한개 이상있으면 True\n",
    "            info += \", 취미: \"\n",
    "            for h in self.hobby:\n",
    "                info += (str(h)+\", \")\n",
    "        print(info)\n",
    "        # return info\n",
    "        \n",
    "    # 취미를 추가하는 메소드 => 취미는 최대 3개까지 추가 가능.\n",
    "    def add_hobby(self, hob):\n",
    "        # hob: 추가할 취미\n",
    "        if len(self.hobby) < 3:\n",
    "            self.hobby.append(hob)\n",
    "        else:\n",
    "            print(\"3개까지만 추가할 수 있습니다.\")"
   ]
  },
  {
   "cell_type": "code",
   "execution_count": 11,
   "metadata": {},
   "outputs": [],
   "source": [
    "p1 = Person4(\"홍길동\", 30, \"서울\", \"h@a.com\")\n",
    "p2 = Person4(\"이순신\", 40, \"인천\", \"lee@a.com\")"
   ]
  },
  {
   "cell_type": "code",
   "execution_count": 12,
   "metadata": {},
   "outputs": [
    {
     "name": "stdout",
     "output_type": "stream",
     "text": [
      "이름: 홍길동, 나이: 30, 주소: 서울, Email: h@a.com\n"
     ]
    }
   ],
   "source": [
    "p1.print_info()"
   ]
  },
  {
   "cell_type": "code",
   "execution_count": 13,
   "metadata": {},
   "outputs": [
    {
     "name": "stdout",
     "output_type": "stream",
     "text": [
      "이름: 이순신, 나이: 40, 주소: 인천, Email: lee@a.com\n"
     ]
    }
   ],
   "source": [
    "p2.print_info()"
   ]
  },
  {
   "cell_type": "code",
   "execution_count": 5,
   "metadata": {},
   "outputs": [],
   "source": [
    "p1.add_hobby(\"축구\")"
   ]
  },
  {
   "cell_type": "code",
   "execution_count": 6,
   "metadata": {},
   "outputs": [
    {
     "name": "stdout",
     "output_type": "stream",
     "text": [
      "이름: 홍길동, 나이: 30, 주소: 서울, Email: h@a.com, 취미: 축구, \n"
     ]
    }
   ],
   "source": [
    "p1.print_info()"
   ]
  },
  {
   "cell_type": "code",
   "execution_count": 14,
   "metadata": {},
   "outputs": [
    {
     "name": "stdout",
     "output_type": "stream",
     "text": [
      "이름: 이순신, 나이: 40, 주소: 인천, Email: lee@a.com\n"
     ]
    }
   ],
   "source": [
    "p2.print_info()"
   ]
  },
  {
   "cell_type": "code",
   "execution_count": 15,
   "metadata": {},
   "outputs": [
    {
     "name": "stdout",
     "output_type": "stream",
     "text": [
      "3개까지만 추가할 수 있습니다.\n"
     ]
    }
   ],
   "source": [
    "p2.add_hobby(\"독서\")\n",
    "p2.add_hobby(\"영화감상\")\n",
    "p2.add_hobby(\"음악감상\")\n",
    "p2.add_hobby(\"게임\")"
   ]
  },
  {
   "cell_type": "code",
   "execution_count": 16,
   "metadata": {},
   "outputs": [
    {
     "name": "stdout",
     "output_type": "stream",
     "text": [
      "이름: 이순신, 나이: 40, 주소: 인천, Email: lee@a.com, 취미: 독서, 영화감상, 음악감상, \n"
     ]
    }
   ],
   "source": [
    "p2.print_info()"
   ]
  },
  {
   "cell_type": "markdown",
   "metadata": {
    "slideshow": {
     "slide_type": "subslide"
    }
   },
   "source": [
    "### Instance 메소드(method)\n",
    "- 객체가 제공하는 기능\n",
    "- 객체의 attribute 값을 처리하는 기능을 구현한다.\n",
    "- 구문\n",
    "```python\n",
    "def 이름(self [, 매개변수들 선언]):\n",
    "    # 구현\n",
    "    # attribute 사용(조회/대입)\n",
    "    self.attribute \n",
    "```\n",
    "- self (첫번째 매개변수)\n",
    "    - 메소드를 소유한 객체를 받는 변수\n",
    "    - 호출할 때 전달하는 argument를 받는 매개변수는 두번째 부터 선언한다.\n",
    "![self](images/ch06_01.png)\n",
    "    \n",
    "- **메소드 호출**\n",
    "    - `객체.메소드이름([argument, ...])`"
   ]
  },
  {
   "cell_type": "markdown",
   "metadata": {
    "slideshow": {
     "slide_type": "slide"
    }
   },
   "source": [
    "## 정보 은닉 (Information Hiding)\n",
    "- Attribute의 값을 caller(객체 외부)가 마음대로 바꾸지 못하게 하기 위해 직접 호출을 막고 setter/getter 메소드를 통해 값을 변경/조회 하도록 한다.\n",
    "    - 데이터 보호가 주목적이다.\n",
    "    - 변경 메소드에 Attribube 변경 조건을 넣어 업무 규칙에 맞는 값들만 변경되도록 처리한다.\n",
    "    - **setter**\n",
    "        - Attribute의 값을 변경하는 메소드. 관례상 set 으로 시작\n",
    "    - **getter**\n",
    "        - Attribute의 값을 조회하는 메소드. 관례상 get 으로 시작\n",
    "- Attribute 직접 호출 막기\n",
    "    - Attribute의 이름을 \\_\\_(double underscore)로 시작한다. (\\_\\_로 끝나면 안된다.)\n",
    "    - 같은 클래스에서는 선언한 이름으로 사용가능하지만 외부에서는 그 이름으로 호출할 수 없게 된다.\n",
    "    "
   ]
  },
  {
   "cell_type": "code",
   "execution_count": null,
   "metadata": {},
   "outputs": [],
   "source": [
    "#알맞은 값을 넣도록 filtering\n",
    "\n",
    "#변수를 외부에서 사용하지 못하게 하는것 - underscore 2개 사용 or 변경(setter)과 조회(getter) method\n",
    "#빠르게 의미 파악하기 위해서 사용\n"
   ]
  },
  {
   "cell_type": "code",
   "execution_count": null,
   "metadata": {},
   "outputs": [],
   "source": []
  },
  {
   "cell_type": "code",
   "execution_count": 17,
   "metadata": {
    "scrolled": true
   },
   "outputs": [
    {
     "name": "stdout",
     "output_type": "stream",
     "text": [
      "이름: 이순신, 나이: 40, 주소: 인천, Email: lee@a.com, 취미: 독서, 영화감상, 음악감상, \n"
     ]
    }
   ],
   "source": [
    "p2.print_info()"
   ]
  },
  {
   "cell_type": "code",
   "execution_count": 18,
   "metadata": {},
   "outputs": [],
   "source": [
    "p2.hobby.extend(['게임', '십자수', '등산', '서핑'])\n",
    "#3개까지만 추가 가능하다 했는데 왜 이건 가능한지"
   ]
  },
  {
   "cell_type": "code",
   "execution_count": 20,
   "metadata": {},
   "outputs": [],
   "source": [
    "p2.hobby.extend(['배드민턴'])"
   ]
  },
  {
   "cell_type": "code",
   "execution_count": 22,
   "metadata": {},
   "outputs": [
    {
     "name": "stdout",
     "output_type": "stream",
     "text": [
      "이름: 이순신, 나이: 40, 주소: 인천, Email: lee@a.com, 취미: 독서, 영화감상, 음악감상, 게임, 십자수, 등산, 서핑, 배드민턴, \n"
     ]
    }
   ],
   "source": [
    "p2.print_info()"
   ]
  },
  {
   "cell_type": "code",
   "execution_count": 23,
   "metadata": {
    "slideshow": {
     "slide_type": "fragment"
    }
   },
   "outputs": [
    {
     "name": "stdout",
     "output_type": "stream",
     "text": [
      "이름: 이순신, 나이: -100, 주소: 인천, Email: lee@a.com, 취미: 독서, 영화감상, 음악감상, 게임, 십자수, 등산, 서핑, 배드민턴, \n"
     ]
    }
   ],
   "source": [
    "p2.age = -100\n",
    "p2.print_info()"
   ]
  },
  {
   "cell_type": "code",
   "execution_count": 24,
   "metadata": {},
   "outputs": [
    {
     "name": "stdout",
     "output_type": "stream",
     "text": [
      "이름: None, 나이: -100, 주소: 인천, Email: lee@a.com, 취미: 독서, 영화감상, 음악감상, 게임, 십자수, 등산, 서핑, 배드민턴, \n"
     ]
    }
   ],
   "source": [
    "p2.name = None\n",
    "p2.print_info()"
   ]
  },
  {
   "cell_type": "code",
   "execution_count": 25,
   "metadata": {},
   "outputs": [],
   "source": [
    "# Information Hiding을 적용해서 class 구현\n",
    "##  instance 변수에 값을 직접 변경하지 못하게 한다.\n",
    "##  setter / getter 메소드를 통해 변수의 값을 변경/조회 할 수 있게 한다.\n",
    "##### name은 두글자 이상만 변경가능.\n",
    "##### age는 양수만 가능.\n",
    "class Person5:\n",
    "    \n",
    "    def __init__(self, name, age):\n",
    "        # instance 변수 초기 -> 변수명: `__이름`\n",
    "        self.__name = None\n",
    "        self.__age = None\n",
    "        self.address = None # 주소는 특별한 설정 규칙이 없다.\n",
    "        \n",
    "        self.set_name(name)\n",
    "        self.set_age(age)\n",
    "        \n",
    "    # instance 변수의 값을 변경 하는 메소드. - setter\n",
    "    def set_name(self, name): # set_변수명  # self.name = \"홍길동\"\n",
    "        if name != None and len(name) >= 2:\n",
    "            self.__name = name  #같은 클래스안에서는 `__이름`으로 호출 가능.\n",
    "        else:\n",
    "            print(\"이름은 두글자 이상만 넣으세요.\")\n",
    "        \n",
    "    \n",
    "    def set_age(self, age): \n",
    "        if age >= 0:\n",
    "            self.__age = age\n",
    "        else:\n",
    "            print(\"나이는 양수만 가능합니다.\")\n",
    "            \n",
    "    # instance 변수의 값을 반환하는 메소드 - getter\n",
    "    def get_name(self): # get_변수명\n",
    "        return self.__name\n",
    "    \n",
    "    def get_age(self):\n",
    "        return self.__age"
   ]
  },
  {
   "cell_type": "code",
   "execution_count": 26,
   "metadata": {},
   "outputs": [],
   "source": [
    "p1 = Person5(\"홍길동\", 20)\n",
    "# p1.__name, p1.__age 홍길동은 단순하게 p1.__name으로 저장되지 않고 자동적으로 class가 표현된다\n",
    "p1.__name = None # None은 단순히 p1.name이라는 것에 추가되지 홍길동이 none으로 바뀌지 않는다."
   ]
  },
  {
   "cell_type": "code",
   "execution_count": 27,
   "metadata": {},
   "outputs": [
    {
     "data": {
      "text/plain": [
       "{'_Person5__name': '홍길동', '_Person5__age': 20, 'address': None, '__name': None}"
      ]
     },
     "execution_count": 27,
     "metadata": {},
     "output_type": "execute_result"
    }
   ],
   "source": [
    "p1.__dict__ "
   ]
  },
  {
   "cell_type": "code",
   "execution_count": 28,
   "metadata": {},
   "outputs": [
    {
     "data": {
      "text/plain": [
       "{'_Person5__name': None, '_Person5__age': 20, 'address': None, '__name': None}"
      ]
     },
     "execution_count": 28,
     "metadata": {},
     "output_type": "execute_result"
    }
   ],
   "source": [
    "p1._Person5__name = None # 이렇게 하면 바꿀 수 있지만 - 이렇게까지 해서 바꾸는 상황을 안만드는 것 추천\n",
    "p1.__dict__"
   ]
  },
  {
   "cell_type": "code",
   "execution_count": 114,
   "metadata": {},
   "outputs": [],
   "source": [
    "p2 = Person5(\"이순신\", 20) "
   ]
  },
  {
   "cell_type": "code",
   "execution_count": 117,
   "metadata": {},
   "outputs": [
    {
     "data": {
      "text/plain": [
       "{'_Person5__name': '이순신', '_Person5__age': 20}"
      ]
     },
     "execution_count": 117,
     "metadata": {},
     "output_type": "execute_result"
    }
   ],
   "source": [
    "p2.__dict__"
   ]
  },
  {
   "cell_type": "code",
   "execution_count": 118,
   "metadata": {},
   "outputs": [],
   "source": [
    "p2.set_name(\"이순\")\n",
    "p2.set_age(22)"
   ]
  },
  {
   "cell_type": "code",
   "execution_count": null,
   "metadata": {},
   "outputs": [],
   "source": [
    "p2.name = \"이순\""
   ]
  },
  {
   "cell_type": "code",
   "execution_count": 119,
   "metadata": {},
   "outputs": [
    {
     "data": {
      "text/plain": [
       "('이순', 22)"
      ]
     },
     "execution_count": 119,
     "metadata": {},
     "output_type": "execute_result"
    }
   ],
   "source": [
    "p2.get_name(), p2.get_age()\n",
    "p2.name"
   ]
  },
  {
   "cell_type": "code",
   "execution_count": null,
   "metadata": {},
   "outputs": [],
   "source": []
  },
  {
   "cell_type": "markdown",
   "metadata": {
    "slideshow": {
     "slide_type": "subslide"
    }
   },
   "source": [
    "### property함수를 사용\n",
    "- 은닉된 instance 변수의 값을 사용할 때 getter/setter대신 변수를 사용하는 방식으로 호출할 수 있도록 한다.\n",
    "- 구현\n",
    "    1. getter/setter 메소드를 만든다.\n",
    "    2. 변수 = property(getter, setter) 를 등록한다.\n",
    "    3. 호출\n",
    "        - 값조회: 변수를 사용 => getter가 호출 된다.\n",
    "        - 값변경: 변수 = 변경할 값 => setter가 호출 된다."
   ]
  },
  {
   "cell_type": "code",
   "execution_count": 29,
   "metadata": {},
   "outputs": [],
   "source": [
    "class Person6:\n",
    "    \n",
    "    def __init__(self, name, age, address):\n",
    "        # instance 변수 초기 -> 변수명: `__이름`\n",
    "        self.__name = None\n",
    "        self.__age = None\n",
    "        self.address = address# 주소는 특별한 설정 규칙이 없다.\n",
    "        \n",
    "        self.set_name(name)\n",
    "        self.set_age(age)\n",
    "        \n",
    "    # instance 변수의 값을 변경 하는 메소드. - setter\n",
    "    def set_name(self, name): # set_변수명  # self.name = \"홍길동\"\n",
    "        print(f\"Person6.set_name({name})\")\n",
    "        if name != None and len(name) >= 2:\n",
    "            self.__name = name  #같은 클래스안에서는 `__이름`으로 호출 가능.\n",
    "        else:\n",
    "            print(\"이름은 두글자 이상만 넣으세요.\")\n",
    "        \n",
    "    \n",
    "    def set_age(self, age):\n",
    "        print(f\"Person6.set_age({age})\")\n",
    "        if age >= 0:\n",
    "            self.__age = age\n",
    "        else:\n",
    "            print(\"나이는 양수만 가능합니다.\")\n",
    "            \n",
    "    # instance 변수의 값을 반환하는 메소드 - getter\n",
    "    def get_name(self): # get_변수명\n",
    "        print(\"Peron6.get_name()\")\n",
    "        return self.__name\n",
    "    \n",
    "    def get_age(self):\n",
    "        print(\"Person6.get_age()\")\n",
    "        return self.__age\n",
    "    \n",
    "    # setter/getter를 변수를 이용해서 호출할 수있다.\n",
    "    # 호출할때 사용할 변수 = property(getter, setter)\n",
    "    name = property(get_name, set_name)  #property(getter함수, setter 함수)\n",
    "    age = property(get_age, set_age)"
   ]
  },
  {
   "cell_type": "code",
   "execution_count": 32,
   "metadata": {},
   "outputs": [
    {
     "name": "stdout",
     "output_type": "stream",
     "text": [
      "Person6.set_name(yuseok)\n"
     ]
    }
   ],
   "source": [
    "#위의 name property에 따라\n",
    "p.name=\"yuseok\"#해주면 저장과 출력 진행"
   ]
  },
  {
   "cell_type": "code",
   "execution_count": 31,
   "metadata": {},
   "outputs": [
    {
     "name": "stdout",
     "output_type": "stream",
     "text": [
      "Person6.set_name(유관순)\n",
      "Person6.set_age(10)\n"
     ]
    },
    {
     "data": {
      "text/plain": [
       "{'_Person6__name': '유관순', '_Person6__age': 10, 'address': '서울'}"
      ]
     },
     "execution_count": 31,
     "metadata": {},
     "output_type": "execute_result"
    }
   ],
   "source": [
    "p = Person6(\"유관순\", 10, \"서울\")\n",
    "p.__dict__"
   ]
  },
  {
   "cell_type": "code",
   "execution_count": 122,
   "metadata": {
    "slideshow": {
     "slide_type": "fragment"
    }
   },
   "outputs": [],
   "source": [
    "p.address = \"부산\"\n",
    "# p.set_name(\"류관순\")"
   ]
  },
  {
   "cell_type": "code",
   "execution_count": 123,
   "metadata": {},
   "outputs": [
    {
     "name": "stdout",
     "output_type": "stream",
     "text": [
      "Person6.set_name(류관순)\n"
     ]
    }
   ],
   "source": [
    "p.name = \"류관순\""
   ]
  },
  {
   "cell_type": "code",
   "execution_count": 124,
   "metadata": {},
   "outputs": [
    {
     "name": "stdout",
     "output_type": "stream",
     "text": [
      "Peron6.get_name()\n",
      "류관순\n"
     ]
    }
   ],
   "source": [
    "print(p.name)"
   ]
  },
  {
   "cell_type": "code",
   "execution_count": 126,
   "metadata": {},
   "outputs": [
    {
     "name": "stdout",
     "output_type": "stream",
     "text": [
      "Person6.set_age(-20)\n",
      "나이는 양수만 가능합니다.\n",
      "Person6.get_age()\n",
      "10\n"
     ]
    }
   ],
   "source": [
    "p.age = -20\n",
    "print(p.age)"
   ]
  },
  {
   "cell_type": "code",
   "execution_count": null,
   "metadata": {},
   "outputs": [],
   "source": []
  },
  {
   "cell_type": "markdown",
   "metadata": {
    "slideshow": {
     "slide_type": "subslide"
    },
    "tags": []
   },
   "source": [
    "### 데코레이터(decorator)를 이용해 property 지정.\n",
    "- setter/getter 구현 + property()를 이용해 변수 등록 하는 것을 더 간단하게 구현하는 방식\n",
    "- setter/getter 메소드이름을 변수처럼 지정. (보통은 같은 이름으로 지정)\n",
    "- getter메소드: @property 데코레이터를 선언  \n",
    "- setter메소드: @getter메소드이름.setter  데코레이터를 선언.\n",
    "    - 반드시 getter 메소드를 먼저 정의한다.\n",
    "    - setter메소드 이름은 getter와 동일해야 한다.\n",
    "- getter/setter의 이름을 Attribute 변수처럼 사용한다.\n",
    "- 주의: getter/setter 메소드를 직접 호출 할 수 없다. 변수형식으로만 호출가능하다."
   ]
  },
  {
   "cell_type": "code",
   "execution_count": 129,
   "metadata": {
    "slideshow": {
     "slide_type": "fragment"
    }
   },
   "outputs": [],
   "source": [
    "class Person7:\n",
    "    \n",
    "    def __init__(self, name, age, address):\n",
    "        # instance 변수 초기 -> 변수명: `__이름`\n",
    "        self.__name = None\n",
    "        self.__age = None\n",
    "        #잘못된 값 입력시에 변경을 막고 초반에 일정값을 가지도록 하기 위해 None을 입력\n",
    "        \n",
    "        self.name = name  # setter name메소드(name)\n",
    "        self.age = age    # setter age메소드(age) 호출\n",
    "        self.address = address# 주소는 특별한 설정 규칙이 없다.\n",
    "    \n",
    "    @property #함수 호출해주는것\n",
    "    def name(self):\n",
    "        print(\"Peron6.get_name()\")\n",
    "        return self.__name\n",
    "    \n",
    "    @property\n",
    "    def age(self):\n",
    "        print(\"Person6.get_age()\")\n",
    "        return self.__age\n",
    "    \n",
    "    @name.setter\n",
    "    def name(self, name): \n",
    "        print(f\"Person6.set_name({name})\")\n",
    "        if name != None and len(name) >= 2:\n",
    "            self.__name = name \n",
    "        else:\n",
    "            print(\"이름은 두글자 이상만 넣으세요.\")\n",
    "        \n",
    "    @age.setter\n",
    "    def age(self, age):\n",
    "        print(f\"Person6.set_age({age})\")\n",
    "        if age >= 0:\n",
    "            self.__age = age\n",
    "        else:\n",
    "            print(\"나이는 양수만 가능합니다.\")\n",
    "            \n",
    "   "
   ]
  },
  {
   "cell_type": "code",
   "execution_count": 131,
   "metadata": {},
   "outputs": [
    {
     "name": "stdout",
     "output_type": "stream",
     "text": [
      "Person6.set_name(홍길동)\n",
      "Person6.set_age(30)\n"
     ]
    }
   ],
   "source": [
    "p = Person7(\"홍길동\", 30, \"인천\")"
   ]
  },
  {
   "cell_type": "code",
   "execution_count": 133,
   "metadata": {},
   "outputs": [
    {
     "name": "stdout",
     "output_type": "stream",
     "text": [
      "Person6.get_age()\n",
      "Peron6.get_name()\n"
     ]
    },
    {
     "data": {
      "text/plain": [
       "(30, '홍길동')"
      ]
     },
     "execution_count": 133,
     "metadata": {},
     "output_type": "execute_result"
    }
   ],
   "source": [
    "p.age, p.name"
   ]
  },
  {
   "cell_type": "code",
   "execution_count": 136,
   "metadata": {},
   "outputs": [
    {
     "name": "stdout",
     "output_type": "stream",
     "text": [
      "Person6.set_age(100)\n",
      "Person6.set_name(이)\n",
      "이름은 두글자 이상만 넣으세요.\n"
     ]
    }
   ],
   "source": [
    "p.age = 100\n",
    "p.name = \"이순신\""
   ]
  },
  {
   "cell_type": "code",
   "execution_count": 135,
   "metadata": {},
   "outputs": [
    {
     "name": "stdout",
     "output_type": "stream",
     "text": [
      "Person6.get_age()\n",
      "Peron6.get_name()\n"
     ]
    },
    {
     "data": {
      "text/plain": [
       "(100, '이순신')"
      ]
     },
     "execution_count": 135,
     "metadata": {},
     "output_type": "execute_result"
    }
   ],
   "source": [
    "p.age, p.name"
   ]
  },
  {
   "cell_type": "markdown",
   "metadata": {
    "slideshow": {
     "slide_type": "subslide"
    }
   },
   "source": [
    "## TODO\n",
    "- 제품 클래스 구현\n",
    "- 속성 : 제품ID:str 제품이름: str, 제품가격:int, 제조사이름:str\n",
    "-       정보은닉에 맞춰서 작성. 값을 대입/조회 하는 것은 변수처리 방식을 할 수 있도록 구현.\n",
    "- 메소드: 전체 정보를 출력하는 메소드\n",
    "\n",
    "메소드 : setter-4개, getter-4개. 전체정보 출력하는 메소드-1개"
   ]
  },
  {
   "cell_type": "code",
   "execution_count": 137,
   "metadata": {},
   "outputs": [],
   "source": [
    "class Item:\n",
    "    \n",
    "    def __init__(self, id, name, price, maker):\n",
    "#         self.set_id(id)\n",
    "        self.id = id       # self.set_id(id)\n",
    "        self.name = name   # self.set_name(name)\n",
    "        self.price = price # self.set_price(price)\n",
    "        self.maker = maker # self.set_maker(maker)\n",
    "    \n",
    "    # getter\n",
    "    def get_id(self):\n",
    "        return self.__id\n",
    "    \n",
    "    def get_name(self):\n",
    "        return self.__name\n",
    "    \n",
    "    def get_price(self):\n",
    "        return self.__price\n",
    "    \n",
    "    def get_maker(self):\n",
    "        return self.__maker\n",
    "    \n",
    "    # setter\n",
    "    def set_id(self, id):\n",
    "        self.__id = id\n",
    "    \n",
    "    def set_name(self, name):\n",
    "        self.__name = name\n",
    "        \n",
    "    def set_price(self, price):\n",
    "        self.__price = price\n",
    "        \n",
    "    def set_maker(self, maker):\n",
    "        self.__maker = maker\n",
    "        \n",
    "    # property로 등록\n",
    "    id = property(get_id, set_id)  # 객체.id = \"xxxx\" -> 객체.set_id  객체.id -> 객체.get_id()\n",
    "    name = property(get_name, set_name)\n",
    "    price = property(get_price, set_price)\n",
    "    maker = property(get_maker, set_maker)\n",
    "    \n",
    "    def print_item_info(self):\n",
    "        print(f\"제품 ID: {self.id}, 이름: {self.name}, 가격: {self.price}, 제조사: {self.maker}\")"
   ]
  },
  {
   "cell_type": "code",
   "execution_count": 139,
   "metadata": {},
   "outputs": [
    {
     "data": {
      "text/plain": [
       "{'_Item__id': 'tv-12345',\n",
       " '_Item__name': 'TV',\n",
       " '_Item__price': 3000000,\n",
       " '_Item__maker': 'LG'}"
      ]
     },
     "execution_count": 139,
     "metadata": {},
     "output_type": "execute_result"
    }
   ],
   "source": [
    "item = Item(\"tv-12345\", \"TV\", 3000000, \"LG\")\n",
    "item.__dict__"
   ]
  },
  {
   "cell_type": "code",
   "execution_count": 140,
   "metadata": {},
   "outputs": [
    {
     "name": "stdout",
     "output_type": "stream",
     "text": [
      "제품 ID: tv-12345, 이름: TV, 가격: 3000000, 제조사: LG\n"
     ]
    }
   ],
   "source": [
    "item.print_item_info()"
   ]
  },
  {
   "cell_type": "code",
   "execution_count": 141,
   "metadata": {},
   "outputs": [],
   "source": [
    "class Item2:\n",
    "    \n",
    "    def __init__(self, id, name, price, maker):\n",
    "        self.id = id     # self.id(id)\n",
    "        self.name = name # self.name(name)\n",
    "        self.price = price\n",
    "        self.maker = maker\n",
    "        \n",
    "    # getter\n",
    "    @property\n",
    "    def id(self):\n",
    "        return self.__id\n",
    "    \n",
    "    @property\n",
    "    def name(self):\n",
    "        return self.__name\n",
    "    \n",
    "    @property\n",
    "    def price(self):\n",
    "        return self.__price\n",
    "    \n",
    "    @property\n",
    "    def maker(self):\n",
    "        return self.__maker\n",
    "    \n",
    "    # setter\n",
    "    @id.setter\n",
    "    def id(self, id):\n",
    "        self.__id = id\n",
    "        \n",
    "    @name.setter\n",
    "    def name(self, name):\n",
    "        self.__name = name\n",
    "        \n",
    "    @price.setter\n",
    "    def price(self, price):\n",
    "        self.__price = price\n",
    "        \n",
    "    @maker.setter\n",
    "    def maker(self, maker):\n",
    "        self.__maker = maker\n",
    "        \n",
    "    def print_item_info(self):\n",
    "        print(f\"ID: {self.id}, 이름: {self.name}, 가격: {self.price}, 제조사: {self.maker}\")"
   ]
  },
  {
   "cell_type": "code",
   "execution_count": 142,
   "metadata": {},
   "outputs": [
    {
     "data": {
      "text/plain": [
       "{'_Item2__id': 'com-1111',\n",
       " '_Item2__name': '데스크탑',\n",
       " '_Item2__price': 1200000,\n",
       " '_Item2__maker': '삼성'}"
      ]
     },
     "execution_count": 142,
     "metadata": {},
     "output_type": "execute_result"
    }
   ],
   "source": [
    "item2 = Item2(\"com-1111\", \"데스크탑\", 1200000, \"삼성\")\n",
    "item2.__dict__"
   ]
  },
  {
   "cell_type": "code",
   "execution_count": 143,
   "metadata": {},
   "outputs": [
    {
     "name": "stdout",
     "output_type": "stream",
     "text": [
      "ID: com-1111, 이름: 데스크탑, 가격: 1200000, 제조사: 삼성\n"
     ]
    }
   ],
   "source": [
    "item2.print_item_info()"
   ]
  },
  {
   "cell_type": "code",
   "execution_count": 145,
   "metadata": {},
   "outputs": [
    {
     "name": "stdout",
     "output_type": "stream",
     "text": [
      "ID: com-1111, 이름: 노트북, 가격: 23000000, 제조사: 삼성\n"
     ]
    }
   ],
   "source": [
    "item2.name = \"노트북\"\n",
    "item2.price = 23000000\n",
    "\n",
    "item2.print_item_info()"
   ]
  },
  {
   "cell_type": "code",
   "execution_count": 146,
   "metadata": {},
   "outputs": [
    {
     "name": "stdout",
     "output_type": "stream",
     "text": [
      "23000000\n",
      "노트북\n"
     ]
    }
   ],
   "source": [
    "print(item2.price)\n",
    "print(item2.name)"
   ]
  },
  {
   "cell_type": "code",
   "execution_count": null,
   "metadata": {},
   "outputs": [],
   "source": []
  },
  {
   "cell_type": "code",
   "execution_count": null,
   "metadata": {
    "slideshow": {
     "slide_type": "fragment"
    }
   },
   "outputs": [],
   "source": []
  },
  {
   "cell_type": "markdown",
   "metadata": {
    "slideshow": {
     "slide_type": "slide"
    }
   },
   "source": [
    "## 상속 (Inheritance)\n",
    "\n",
    "- 기존 클래스를 확장하여 새로운 클래스를 구현한다.\n",
    "    - 생성된 객체(instance)가 기존 클래스에 정의된 Attribute나 method를 사용할 수있고 그 외의 추가적인 member들을 가질 수 있는 클래스를 구현하는 방법.\n",
    "    - \n",
    "- **기반(Base) 클래스, 상위(Super) 클래스, 부모(Parent) 클래스**\n",
    "    - 물려 주는 클래스.\n",
    "    - 상속하는 클래스에 비해 더 추상적인 클래스가 된다. \n",
    "    - 상속하는 클래스의 데이터 타입이 된다.\n",
    "- **파생(Derived) 클래스, 하위(Sub) 클래스, 자식(Child) 클래스**\n",
    "    - 상속하는 클래스.\n",
    "    - 상속을 해준 클래스 보다 좀더 구체적인 클래스가 된다.\n",
    "- 상위 클래스와 하위 클래스는 계층관계를 이룬다.\n",
    "    - 상위 클래스는 하위 클래스 객체의 타입이 된다."
   ]
  },
  {
   "cell_type": "code",
   "execution_count": null,
   "metadata": {},
   "outputs": [],
   "source": [
    "# 여러 클래스가 가지는 공통적인 attribute와 method를 지정해준다\n",
    "# 자체 클래스에 없더라도 상위클래스에 정의되어 있으면 바로 사용 가능\n",
    "# 타고 올라가서 직속 상위뿐 아니라 그 이상의 상위 class도 참조 가능"
   ]
  },
  {
   "cell_type": "code",
   "execution_count": 34,
   "metadata": {},
   "outputs": [],
   "source": [
    "class Person:\n",
    "    \n",
    "    def eat(self):\n",
    "        print(\"eat lunch\")"
   ]
  },
  {
   "cell_type": "code",
   "execution_count": null,
   "metadata": {},
   "outputs": [],
   "source": [
    "#Person을 상속한 Student/Teacher class를 정의"
   ]
  },
  {
   "cell_type": "code",
   "execution_count": 43,
   "metadata": {},
   "outputs": [],
   "source": [
    "class UniversityStudent(Student):\n",
    "    def drink(self):\n",
    "        print(\"hangover\")"
   ]
  },
  {
   "cell_type": "code",
   "execution_count": 35,
   "metadata": {},
   "outputs": [],
   "source": [
    "class Student(Person):\n",
    "    \n",
    "    def study(self):\n",
    "        print(\"공부한다.\")\n",
    "        "
   ]
  },
  {
   "cell_type": "code",
   "execution_count": 40,
   "metadata": {},
   "outputs": [],
   "source": [
    "class Teacher(Person):# () 안에 상위 클래스를 넣어준다\n",
    "    def teach(self): # self가 있어야지 돌아간다.\n",
    "        print(\"가르친다.\")\n",
    "        "
   ]
  },
  {
   "cell_type": "code",
   "execution_count": null,
   "metadata": {},
   "outputs": [],
   "source": []
  },
  {
   "cell_type": "code",
   "execution_count": null,
   "metadata": {},
   "outputs": [],
   "source": []
  },
  {
   "cell_type": "code",
   "execution_count": 38,
   "metadata": {},
   "outputs": [
    {
     "name": "stdout",
     "output_type": "stream",
     "text": [
      "공부한다.\n",
      "eat lunch\n"
     ]
    }
   ],
   "source": [
    "s=Student()\n",
    "s.study()\n",
    "s.eat()"
   ]
  },
  {
   "cell_type": "code",
   "execution_count": 42,
   "metadata": {},
   "outputs": [
    {
     "name": "stdout",
     "output_type": "stream",
     "text": [
      "가르친다.\n",
      "eat lunch\n"
     ]
    }
   ],
   "source": [
    "p=Teacher()\n",
    "p.teach()\n",
    "p.eat()"
   ]
  },
  {
   "cell_type": "code",
   "execution_count": 44,
   "metadata": {},
   "outputs": [
    {
     "name": "stdout",
     "output_type": "stream",
     "text": [
      "hangover\n",
      "공부한다.\n",
      "eat lunch\n"
     ]
    }
   ],
   "source": [
    "us=UniversityStudent()\n",
    "us.drink()\n",
    "us.study()\n",
    "us.eat()"
   ]
  },
  {
   "cell_type": "code",
   "execution_count": 45,
   "metadata": {},
   "outputs": [
    {
     "data": {
      "text/plain": [
       "[__main__.UniversityStudent, __main__.Student, __main__.Person, object]"
      ]
     },
     "execution_count": 45,
     "metadata": {},
     "output_type": "execute_result"
    }
   ],
   "source": [
    "#상위 class 보는 방법 - 이중에서 가장 상위인 Person에는 상위 class가 안적혀 있는데 그곳에 object가 있다는 뜻\n",
    "UniversityStudent.mro()"
   ]
  },
  {
   "cell_type": "code",
   "execution_count": null,
   "metadata": {},
   "outputs": [],
   "source": []
  },
  {
   "cell_type": "markdown",
   "metadata": {
    "slideshow": {
     "slide_type": "subslide"
    }
   },
   "source": [
    "### 다중상속과 단일 상속\n",
    "- 다중상속\n",
    "    - 여러 클래스로부터 상속받을 수 있다 (하위 클래스 기준)\n",
    "- 단일상속\n",
    "    - 하나의 클래스로 부터만 상속할 수 있다. (상위 클래스 기준)\n",
    "- 파이썬은 다중상속을 지원한다.\n",
    "- MRO (Method Resolution Order) - 이름 중복과 같은 문제점 해결을 위해 존재\n",
    "    - 다중상속시 메소드 호출할 때 그 메소드를 찾는 순서.\n",
    "    1. 자기자신\n",
    "    2. 상위클래스(하위에서 상위로 올라간다)\n",
    "        - 다중상속의 경우 먼저 선언한 클래스 부터 찾는다. (왼쪽->오른쪽)\n",
    "- MRO 순서 조회 \n",
    "    - Class이름.mro()"
   ]
  },
  {
   "cell_type": "code",
   "execution_count": null,
   "metadata": {},
   "outputs": [],
   "source": []
  },
  {
   "cell_type": "code",
   "execution_count": null,
   "metadata": {},
   "outputs": [],
   "source": []
  },
  {
   "cell_type": "markdown",
   "metadata": {
    "slideshow": {
     "slide_type": "subslide"
    }
   },
   "source": [
    "### Method Overriding (메소드 재정의)\n",
    "상위 클래스의 메소드의 구현부를 하위 클래스에서 다시 구현하는 것을 말한다.  \n",
    "상위 클래스는 모든 하위 클래스들에 적용할 수 있는 추상적인 구현밖에는 못한다.  \n",
    "이 경우 하위 클래스에서 그 내용을 자신에 맞게 좀더 구체적으로 재구현할 수 있게 해주는 것을 Method Overriding이라고 한다.  \n",
    "방법은 하위 클래스에서 overriding할 메소드의 선언문은 그래로 사용하고 그 구현부는 재구현하면 된다.  \n",
    "\n",
    "### super() 내장함수\n",
    "- 하위 클래스에서 상위 클래스의 instance를 반환(return) 해주는 함수\n",
    "- 구문\n",
    "```python\n",
    "super().메소드명() \n",
    "```\n",
    "- 상위 클래스의 Instance 메소드를 호출할 때 – super().메소드()\n",
    "    - 특히 method overriding을 한 클래스에서 상위 클래스의 overriding한 메소드를 호출 할 경우 반드시 `super().메소드() `형식으로 호출해야 한다.\n",
    "- 같은 클래스의 Instance 메소드를 호출할 때 – self.메소드()"
   ]
  },
  {
   "cell_type": "code",
   "execution_count": null,
   "metadata": {
    "slideshow": {
     "slide_type": "fragment"
    }
   },
   "outputs": [],
   "source": [
    "\n",
    "#class가 Person -> Student -> University student 일때 \n",
    "#                -> Worker ->\n",
    "\n",
    "\n",
    "# university student에 work를 재정의 가능하다는 의미\n",
    "# 그러면 Worker에서 work를 호출하지 않고\n",
    "\n",
    "# 추상적으로 정의된 상위 클래스의 method를 하위 클래스에서 변경가능한데 좀 더 구체화한다!!!\n",
    "\n"
   ]
  },
  {
   "cell_type": "code",
   "execution_count": 59,
   "metadata": {},
   "outputs": [],
   "source": [
    "class Person:\n",
    "    \n",
    "    def eat(self):\n",
    "        print(\"eat lunch\")\n",
    "        \n",
    "class UniversityStudent(Student,Worker): ## super().work() 했을 때 Student와 Worker에 모두 work가 있다면 먼저 적힌 순서대로 방문\n",
    "    def drink(self):\n",
    "        #self.work()\n",
    "        super().work()\n",
    "        print(\"hangover\")\n",
    "    def work(self): #method overriding\n",
    "        print(\"part time job\")\n",
    "class Teacher(Person):# () 안에 상위 클래스를 넣어준다\n",
    "    def teach(self): # self가 있어야지 돌아간다.\n",
    "        print(\"가르친다.\")\n",
    "class Student(Person):\n",
    "    def study(self):\n",
    "        print(\"공부한다.\")\n",
    "\n",
    "#여기서 Student안에 study에 eat을 넣고 싶으면\n",
    "class Student(Person):\n",
    "    def work(self):\n",
    "        print(\"work\")\n",
    "    def study(self):\n",
    "        print(\"공부한다.\")\n",
    "        super().eat()\n",
    "        #self.eat() 도 동작한다 내부에 없으므로 상위 클래스로 넘어감\n",
    "        #self로 안되는 경우는 상위 클래스의 method를 사용하고 싶은데 해당 클래스에도 동일 이름의 method가 overriding 된 경우\n"
   ]
  },
  {
   "cell_type": "code",
   "execution_count": 60,
   "metadata": {},
   "outputs": [
    {
     "name": "stdout",
     "output_type": "stream",
     "text": [
      "work\n",
      "hangover\n"
     ]
    }
   ],
   "source": [
    "s=UniversityStudent()\n",
    "s.drink()"
   ]
  },
  {
   "cell_type": "code",
   "execution_count": 64,
   "metadata": {},
   "outputs": [],
   "source": [
    "class Person:\n",
    "    \n",
    "\n",
    "#변수 생성\n",
    "    def __init__(self, name, age, address=None):\n",
    "        self.__name= self.__age=self.__address=None\n",
    "        self.name =name\n",
    "        self.age= age\n",
    "        self.address= address\n",
    "\n",
    "        \n",
    "## method\n",
    "    @property\n",
    "    def name(self):\n",
    "        return self.__name\n",
    "    \n",
    "    @property\n",
    "    def age(self):\n",
    "        return self.__age\n",
    "    \n",
    "    @property\n",
    "    def address(self):\n",
    "        return self.__address\n",
    "    \n",
    "    @name.setter\n",
    "    def name(self, name):\n",
    "        if len(name) >= 2:\n",
    "            self.__name = name\n",
    "    \n",
    "    \n",
    "    @age.setter\n",
    "    def age(self, age):\n",
    "        if 0<age<200:\n",
    "            self.__age=age\n",
    "            \n",
    "    @address.setter\n",
    "    def address(self, address):\n",
    "        if address:\n",
    "            self.__address = address\n",
    "            \n",
    "# Person 의 모든 attribute를 하나의 문자열로 반환하는 method\n",
    "\n",
    "    def get_info(self):\n",
    "        return f\"name: {self.name}, age: {self.age}, address: {self.address}\"\n",
    "    \n",
    "    \n",
    "    "
   ]
  },
  {
   "cell_type": "code",
   "execution_count": 66,
   "metadata": {},
   "outputs": [
    {
     "name": "stdout",
     "output_type": "stream",
     "text": [
      "yuseok 25 Seoul\n",
      "name: son, age: 25, address: Seoul\n"
     ]
    }
   ],
   "source": [
    "p=Person(\"yuseok\",25,\"Seoul\")\n",
    "print(p.name, p.age, p.address)\n",
    "p.name=\"son\"\n",
    "p.age=-20\n",
    "p.address=None\n",
    "info=p.get_info()\n",
    "print(info)"
   ]
  },
  {
   "cell_type": "code",
   "execution_count": 88,
   "metadata": {},
   "outputs": [],
   "source": [
    "class Student(Person):\n",
    "    def __init__(self, name, age, address, grade:\"for stu\", unit:\"for stu\"):\n",
    "        # name, age, address는 상위 클래스의 __init__()을 이용해서 초기화\n",
    "        \n",
    "        super().__init__(name,age,address)\n",
    "        \n",
    "        self.__grade=self.__unit=None\n",
    "        self.grade=grade\n",
    "        self.unit=unit\n",
    "    \n",
    "    @property\n",
    "    def grade(self):\n",
    "        return self.__grade\n",
    "    \n",
    "    @property\n",
    "    def unit(self):\n",
    "        return self.__unit\n",
    "    \n",
    "    @grade.setter\n",
    "    def grade(self, grade):\n",
    "        if grade >0:\n",
    "            self.__grade = grade\n",
    "    \n",
    "    @unit.setter\n",
    "    def unit(self, unit):\n",
    "        if unit >0 :\n",
    "            self.__unit= unit\n",
    "        \n",
    "    def get_info(self):\n",
    "        #return f\"name: {self.name}, age: {self.age}, address: {self.address}, grade: {self.grade}, unit: {self.unit}\"\n",
    "        txt=super().get_info()+f\" grade: {self.grade}, unit: {self.unit}\"\n",
    "        return txt"
   ]
  },
  {
   "cell_type": "code",
   "execution_count": 89,
   "metadata": {},
   "outputs": [],
   "source": [
    "s=Student(\"kkyuseok\",27,\"Busan\",1,4)"
   ]
  },
  {
   "cell_type": "code",
   "execution_count": 73,
   "metadata": {},
   "outputs": [
    {
     "name": "stdout",
     "output_type": "stream",
     "text": [
      "kkyuseok 27 Busan 1 4\n"
     ]
    }
   ],
   "source": [
    "print(s.name,s.age,s.address,s.grade,s.unit)"
   ]
  },
  {
   "cell_type": "code",
   "execution_count": 74,
   "metadata": {},
   "outputs": [
    {
     "name": "stdout",
     "output_type": "stream",
     "text": [
      "name: kkyuseok, age: 27, address: Busan\n"
     ]
    }
   ],
   "source": [
    "print(s.get_info()) #student 클래스 안에 get_info 만들기 전"
   ]
  },
  {
   "cell_type": "code",
   "execution_count": 81,
   "metadata": {},
   "outputs": [
    {
     "name": "stdout",
     "output_type": "stream",
     "text": [
      "name: kkyuseok, age: 27, address: Busan, grade: 1, unit: 4\n"
     ]
    }
   ],
   "source": [
    "print(s.get_info()) #student 클래스 안에 새로 만들면서 문자 추가"
   ]
  },
  {
   "cell_type": "code",
   "execution_count": 90,
   "metadata": {},
   "outputs": [
    {
     "name": "stdout",
     "output_type": "stream",
     "text": [
      "name: kkyuseok, age: 27, address: Busan grade: 1, unit: 4\n"
     ]
    }
   ],
   "source": [
    "print(s.get_info()) #super 내용에 추가하는 형식"
   ]
  },
  {
   "cell_type": "code",
   "execution_count": null,
   "metadata": {},
   "outputs": [],
   "source": []
  },
  {
   "cell_type": "markdown",
   "metadata": {
    "slideshow": {
     "slide_type": "slide"
    }
   },
   "source": [
    "## 객체 관련 유용한 내장 함수, 특수 변수\n",
    "-  **`isinstance(객체, 클래스이름-datatype)`** : bool\n",
    "    - 객체가 두번째 매개변수로 지정한 클래스의 타입이면 True, 아니면 False 반환\n",
    "    - 여러개의 타입여부를 확인할 경우 class이름(type)들을 리스트로 묶어 준다.\n",
    "    - 상위 클래스는 하위 클래스객체의 타입이 되므로 객체와 그 객체의 상위 클래스 비교시 True가 나온다.\n",
    "- **`객체.__dict__`**\n",
    "     - 객체가 가지고 있는 Attribute 변수들과 대입된 값을 dictionary에 넣어 반환\n",
    "- **`객체.__class__`**\n",
    "    - 객체의 타입을 반환"
   ]
  },
  {
   "cell_type": "code",
   "execution_count": 91,
   "metadata": {},
   "outputs": [
    {
     "data": {
      "text/plain": [
       "True"
      ]
     },
     "execution_count": 91,
     "metadata": {},
     "output_type": "execute_result"
    }
   ],
   "source": [
    "s=Student(\"student\",16,\"Busan\",3,2)\n",
    "# 객체 s가 datatype이닞 확인\n",
    "isinstance(s,Student)"
   ]
  },
  {
   "cell_type": "code",
   "execution_count": 95,
   "metadata": {},
   "outputs": [
    {
     "data": {
      "text/plain": [
       "(False, False)"
      ]
     },
     "execution_count": 95,
     "metadata": {},
     "output_type": "execute_result"
    }
   ],
   "source": [
    "isinstance(s,Teacher),type(s)==Teacher\n"
   ]
  },
  {
   "cell_type": "code",
   "execution_count": 94,
   "metadata": {},
   "outputs": [
    {
     "data": {
      "text/plain": [
       "(True, True)"
      ]
     },
     "execution_count": 94,
     "metadata": {},
     "output_type": "execute_result"
    }
   ],
   "source": [
    "isinstance(s,Student),type(s)==Student"
   ]
  },
  {
   "cell_type": "code",
   "execution_count": 96,
   "metadata": {},
   "outputs": [
    {
     "data": {
      "text/plain": [
       "True"
      ]
     },
     "execution_count": 96,
     "metadata": {},
     "output_type": "execute_result"
    }
   ],
   "source": [
    "isinstance(s,Person) #상위 클래스는 하위클래스의 datatype이 된다.\n",
    "#s는 Student인데 상위 클래스인 Person에도 해당"
   ]
  },
  {
   "cell_type": "code",
   "execution_count": 97,
   "metadata": {},
   "outputs": [
    {
     "data": {
      "text/plain": [
       "(True, False)"
      ]
     },
     "execution_count": 97,
     "metadata": {},
     "output_type": "execute_result"
    }
   ],
   "source": [
    "value=\"abc\"\n",
    "isinstance(value,str),isinstance(value,int)"
   ]
  },
  {
   "cell_type": "code",
   "execution_count": 98,
   "metadata": {},
   "outputs": [
    {
     "name": "stdout",
     "output_type": "stream",
     "text": [
      "<class 'str'>\n"
     ]
    }
   ],
   "source": [
    "print(type(\"abc\"))"
   ]
  },
  {
   "cell_type": "code",
   "execution_count": 100,
   "metadata": {},
   "outputs": [
    {
     "data": {
      "text/plain": [
       "True"
      ]
     },
     "execution_count": 100,
     "metadata": {},
     "output_type": "execute_result"
    }
   ],
   "source": [
    "#value가 str 또는 int 타입인지 확인\n",
    "isinstance(value, (str,int)) #tuple로 묶어서 or의 느낌을 내줌 - 둘중 하나에 해당되면 된다."
   ]
  },
  {
   "cell_type": "code",
   "execution_count": 99,
   "metadata": {},
   "outputs": [
    {
     "name": "stdout",
     "output_type": "stream",
     "text": [
      "<class 'str'> <class 'float'>\n"
     ]
    }
   ],
   "source": [
    "print(type(\"abc\"),type(1.5))"
   ]
  },
  {
   "cell_type": "code",
   "execution_count": 103,
   "metadata": {},
   "outputs": [],
   "source": [
    "def func(vlaue):\n",
    "    # 숫자를 받아서 10을 더하는 함수\n",
    "    if isinstance(value,(int,float)):\n",
    "        return value + 10\n",
    "    else :\n",
    "        print(\"put the number for this function\")"
   ]
  },
  {
   "cell_type": "code",
   "execution_count": 104,
   "metadata": {},
   "outputs": [
    {
     "name": "stdout",
     "output_type": "stream",
     "text": [
      "put the number for this\n"
     ]
    }
   ],
   "source": [
    "func(\"abc\")"
   ]
  },
  {
   "cell_type": "code",
   "execution_count": 114,
   "metadata": {},
   "outputs": [],
   "source": [
    "#Person 객체를 받아서 그 사람의 정보를 출력하는 메소드\n",
    "\n",
    "def print_person_info(person:Person):\n",
    "    if isinstance(person,Person): # if type(person)==Person\n",
    "        info=person.get_info()\n",
    "        print(info)\n",
    "    else :\n",
    "        print(\"  d  \")\n",
    "        \n",
    "    \n",
    "    info=person.get_info()\n",
    "    print(info)"
   ]
  },
  {
   "cell_type": "code",
   "execution_count": 106,
   "metadata": {},
   "outputs": [
    {
     "name": "stdout",
     "output_type": "stream",
     "text": [
      "name: Yuseok, age: 70, address: Busan\n"
     ]
    }
   ],
   "source": [
    "p=Person(\"Yuseok\",70,\"Busan\")\n",
    "print_person_info(p)"
   ]
  },
  {
   "cell_type": "code",
   "execution_count": 115,
   "metadata": {},
   "outputs": [
    {
     "name": "stdout",
     "output_type": "stream",
     "text": [
      "name: hmson, age: 32, address: London grade: 3, unit: 2\n",
      "name: hmson, age: 32, address: London grade: 3, unit: 2\n"
     ]
    }
   ],
   "source": [
    "s=Student(\"hmson\",32,\"London\",3,2)\n",
    "print_person_info(s)"
   ]
  },
  {
   "cell_type": "code",
   "execution_count": 116,
   "metadata": {},
   "outputs": [
    {
     "name": "stdout",
     "output_type": "stream",
     "text": [
      "  d  \n"
     ]
    },
    {
     "ename": "AttributeError",
     "evalue": "'str' object has no attribute 'get_info'",
     "output_type": "error",
     "traceback": [
      "\u001b[1;31m---------------------------------------------------------------------------\u001b[0m",
      "\u001b[1;31mAttributeError\u001b[0m                            Traceback (most recent call last)",
      "Cell \u001b[1;32mIn[116], line 1\u001b[0m\n\u001b[1;32m----> 1\u001b[0m \u001b[43mprint_person_info\u001b[49m\u001b[43m(\u001b[49m\u001b[38;5;124;43m\"\u001b[39;49m\u001b[38;5;124;43mabcde\u001b[39;49m\u001b[38;5;124;43m\"\u001b[39;49m\u001b[43m)\u001b[49m\n",
      "Cell \u001b[1;32mIn[114], line 11\u001b[0m, in \u001b[0;36mprint_person_info\u001b[1;34m(person)\u001b[0m\n\u001b[0;32m      7\u001b[0m \u001b[38;5;28;01melse\u001b[39;00m :\n\u001b[0;32m      8\u001b[0m     \u001b[38;5;28mprint\u001b[39m(\u001b[38;5;124m\"\u001b[39m\u001b[38;5;124m  d  \u001b[39m\u001b[38;5;124m\"\u001b[39m)\n\u001b[1;32m---> 11\u001b[0m info\u001b[38;5;241m=\u001b[39m\u001b[43mperson\u001b[49m\u001b[38;5;241;43m.\u001b[39;49m\u001b[43mget_info\u001b[49m()\n\u001b[0;32m     12\u001b[0m \u001b[38;5;28mprint\u001b[39m(info)\n",
      "\u001b[1;31mAttributeError\u001b[0m: 'str' object has no attribute 'get_info'"
     ]
    }
   ],
   "source": [
    "print_person_info(\"abcde\")"
   ]
  },
  {
   "cell_type": "code",
   "execution_count": null,
   "metadata": {},
   "outputs": [],
   "source": [
    "s."
   ]
  },
  {
   "cell_type": "code",
   "execution_count": null,
   "metadata": {},
   "outputs": [],
   "source": []
  },
  {
   "cell_type": "code",
   "execution_count": null,
   "metadata": {},
   "outputs": [],
   "source": []
  },
  {
   "cell_type": "code",
   "execution_count": null,
   "metadata": {},
   "outputs": [],
   "source": []
  },
  {
   "cell_type": "code",
   "execution_count": null,
   "metadata": {},
   "outputs": [],
   "source": []
  },
  {
   "cell_type": "markdown",
   "metadata": {
    "slideshow": {
     "slide_type": "slide"
    }
   },
   "source": [
    "## 특수 메소드\n",
    "\n",
    "\n",
    "### 특수 메소드란\n",
    "- 특정한 상황에서 사용될 때 자동으로 호출되도록 파이썬 실행환경에 정의된 약속된 메소드들이다. 객체에 특정 기능들을 추가할 때 사용한다.\n",
    "    - 정의한 메소드와 그것을 호출하는 함수가 다르다.\n",
    "         - ex) `__init__()` => 객체 생성할 때 호출 된다.\n",
    "- 메소드 명이 더블 언더스코어로 시작하고 끝난다. \n",
    "    - ex) `__init__(), __str__()`\n",
    "- 매직 메소드(Magic Method), 던더(DUNDER) 메소드라고도 한다. #double unederscore\n",
    "- 특수메소드 종류\n",
    "    - https://docs.python.org/ko/3/reference/datamodel.html#special-method-names"
   ]
  },
  {
   "cell_type": "code",
   "execution_count": null,
   "metadata": {},
   "outputs": [],
   "source": []
  },
  {
   "cell_type": "code",
   "execution_count": null,
   "metadata": {},
   "outputs": [],
   "source": []
  },
  {
   "cell_type": "code",
   "execution_count": null,
   "metadata": {},
   "outputs": [],
   "source": []
  },
  {
   "cell_type": "markdown",
   "metadata": {
    "slideshow": {
     "slide_type": "subslide"
    }
   },
   "source": [
    "### 주요 특수메소드\n",
    "- **`__init__(self [, …])`**\n",
    "    - Initializer\n",
    "    - 객체 생성시 호출 된다.\n",
    "    - 객체 생성시 Attribute의 값들을 초기화하는 것을 구현한다.\n",
    "    - self 변수로 받은 instance에 Attribute를 설정한다.\n",
    "- **`__call__(self [, …])`**\n",
    "- 객체를 함수처럼 호출 하면 실행되는 메소드\n",
    "    - Argument를 받을 Parameter 변수는 self 변수 다음에 필요한대로 선언한다.\n",
    "    - 처리결과를 반환하도록 구현할 경우 `return value` 구문을 넣는다. (필수는 아니다.)\n",
    "\n"
   ]
  },
  {
   "cell_type": "code",
   "execution_count": 127,
   "metadata": {
    "slideshow": {
     "slide_type": "fragment"
    }
   },
   "outputs": [],
   "source": [
    "class Plus():\n",
    "    def __init__(self, num1,num2):\n",
    "        self.num1=num1\n",
    "        self.num2=num2\n",
    "    def calc(self):\n",
    "        result=self.num1+self.num2\n",
    "        return result\n",
    "\n",
    "    def __call__(self):\n",
    "        result = self.num1+self.num2\n",
    "        return result\n",
    "\n",
    "#     def __call__(self,num):\n",
    "#         result = (self.num1+self.num2)**nym\n",
    "#         return reuslt\n",
    "# 이 와 같이 하면 error 생긴다"
   ]
  },
  {
   "cell_type": "code",
   "execution_count": 128,
   "metadata": {},
   "outputs": [
    {
     "name": "stdout",
     "output_type": "stream",
     "text": [
      "30\n"
     ]
    }
   ],
   "source": [
    "p=Plus(10,20)\n",
    "p.calc()\n",
    "v=p() #Plus.__call__()이 실행\n",
    "print(v)"
   ]
  },
  {
   "cell_type": "code",
   "execution_count": null,
   "metadata": {},
   "outputs": [],
   "source": []
  },
  {
   "cell_type": "code",
   "execution_count": null,
   "metadata": {},
   "outputs": [],
   "source": []
  },
  {
   "cell_type": "markdown",
   "metadata": {
    "slideshow": {
     "slide_type": "subslide"
    }
   },
   "source": [
    "- **`__repr__(self)`**\n",
    "    - Instance(객체) 자체를 표현할 수 있는 문자열을 반환한다.\n",
    "        - 보통 객체 생성하는 구문을 문자열로 반환한다.\n",
    "        - 반환된 문자열을 eval() 에 넣으면 동일한 attribute값들을 가진 객체를 생성할 수 있도록 정의한다.\n",
    "    - 내장함수 **repr(객체)** 호출할 때 이 메소드가 호출 된다.\n",
    "    - 대화형 IDE(REPL) 에서 객체를 참조하는 변수 출력할 때도 호출된다.\n",
    "> - eval(문자열)\n",
    ">     - 실행 가능한 구문의 문자열을 받아서 실행한다.\n",
    "\n",
    "- **`__str__(self)`**\n",
    "    - Instance(객체)의 Attribute들을 묶어서 문자열로 반환한다.\n",
    "    - 내장 함수 **str(객체)**  호출할 때 이 메소드가 호출 된다.\n",
    "        - str() 호출할 때 객체에 `__str__()`의 정의 안되 있으면 `__repr__()` 을 호출한다. `__repr__()`도 없으면 상위클래스에 정의된 `__str__()`을 호출한다.\n",
    "        - print() 함수는 값을 문자열로 변환해서 출력한다. 이때 그 값을 str() 에 넣어 문자열로 변환한다."
   ]
  },
  {
   "cell_type": "code",
   "execution_count": null,
   "metadata": {
    "slideshow": {
     "slide_type": "fragment"
    }
   },
   "outputs": [],
   "source": [
    "#repr = representation 의 약자\n",
    "#str = 객체 자체를 원하는 문자열로 변환"
   ]
  },
  {
   "cell_type": "code",
   "execution_count": 132,
   "metadata": {},
   "outputs": [],
   "source": [
    "class Person:\n",
    "    def __repr__(self):\n",
    "        return \"Person()\""
   ]
  },
  {
   "cell_type": "code",
   "execution_count": 134,
   "metadata": {},
   "outputs": [
    {
     "name": "stdout",
     "output_type": "stream",
     "text": [
      "Person()\n"
     ]
    }
   ],
   "source": [
    "p=Person()\n",
    "v=repr(p)  # p의 __repr__() 메소드를 호출\n",
    "print(v)"
   ]
  },
  {
   "cell_type": "code",
   "execution_count": null,
   "metadata": {},
   "outputs": [],
   "source": [
    "\"a\",\"aaa\""
   ]
  },
  {
   "cell_type": "code",
   "execution_count": 191,
   "metadata": {},
   "outputs": [],
   "source": [
    "class Person:\n",
    "    def __init__(self,name,age):\n",
    "        self.name=name\n",
    "        self.age=age\n",
    "    def __repr__(self): #객체 생성만\n",
    "        return f\"Person('{self.name}',{self.age})\"\n",
    "    def __str__(self): #보기 좋게 표현\n",
    "        return f\"name:{self.name},age:{self.age}\"\n",
    "    \n",
    "    #연산자 oeverriding\n",
    "    #덧셈, 뺄셈 => 정수를 받아서 age 속성의 값에 더하기/빼기 하도록 재정의\n",
    "    def __add__(self, other) :\n",
    "        return self.age + other\n",
    "    def __sub__(self, other):\n",
    "        return self.age - other\n",
    "    \n",
    "    # ==, > , <\n",
    "    # 나이와 other 비교한 결과를 반환\n",
    "    # other는 정수 또는 다른 Person 객체\n",
    "    \n",
    "    def __eq__(self,other):\n",
    "        if isinstance(other,int):\n",
    "            return self.age==other\n",
    "        elif isinstance(other, Person):\n",
    "            return self.age== other.age\n",
    "        else:\n",
    "            return False\n",
    "    \n",
    "    def __gt__(self,other):\n",
    "        if isinstance(other,int):\n",
    "            return self.age>other\n",
    "        elif isinstance(other, Person):\n",
    "            return self.age> other.age\n",
    "        else:\n",
    "            return \"Error\"\n",
    "    \n",
    "    def __lt__(self,other):\n",
    "        if isinstance(other,int):\n",
    "            return self.age<other\n",
    "        elif isinstance(other, Person):\n",
    "            return self.age< other.age\n",
    "        else:\n",
    "            return \"Error\"\n",
    "    \n",
    "    \n",
    "    \n",
    "    "
   ]
  },
  {
   "cell_type": "code",
   "execution_count": 192,
   "metadata": {},
   "outputs": [
    {
     "data": {
      "text/plain": [
       "False"
      ]
     },
     "execution_count": 192,
     "metadata": {},
     "output_type": "execute_result"
    }
   ],
   "source": [
    "p5 = Person(\"이름\",30)\n",
    "p5 + 20 # 50\n",
    "p5 - 10 # 20\n",
    "p5 > 5 # True\n",
    "p5 == 10 # False\n",
    "p5 < 10 # False"
   ]
  },
  {
   "cell_type": "code",
   "execution_count": 193,
   "metadata": {},
   "outputs": [
    {
     "data": {
      "text/plain": [
       "True"
      ]
     },
     "execution_count": 193,
     "metadata": {},
     "output_type": "execute_result"
    }
   ],
   "source": [
    "p6=Person(\"name2\",20)\n",
    "p5 > p6"
   ]
  },
  {
   "cell_type": "code",
   "execution_count": null,
   "metadata": {},
   "outputs": [],
   "source": []
  },
  {
   "cell_type": "code",
   "execution_count": 161,
   "metadata": {},
   "outputs": [],
   "source": [
    "p=Person(\"hong\",20)"
   ]
  },
  {
   "cell_type": "code",
   "execution_count": 164,
   "metadata": {},
   "outputs": [
    {
     "data": {
      "text/plain": [
       "Person('hong',20)"
      ]
     },
     "execution_count": 164,
     "metadata": {},
     "output_type": "execute_result"
    }
   ],
   "source": [
    "p"
   ]
  },
  {
   "cell_type": "code",
   "execution_count": 166,
   "metadata": {},
   "outputs": [
    {
     "name": "stdout",
     "output_type": "stream",
     "text": [
      "name:hong,age:20\n"
     ]
    },
    {
     "data": {
      "text/plain": [
       "'name:hong,age:20'"
      ]
     },
     "execution_count": 166,
     "metadata": {},
     "output_type": "execute_result"
    }
   ],
   "source": [
    "print(p)\n",
    "str(p) #객체를 str type으로 변환 --> __str__()"
   ]
  },
  {
   "cell_type": "code",
   "execution_count": 160,
   "metadata": {},
   "outputs": [
    {
     "data": {
      "text/plain": [
       "Person('유관순',20)"
      ]
     },
     "execution_count": 160,
     "metadata": {},
     "output_type": "execute_result"
    }
   ],
   "source": [
    "p2=Person(\"유관순\",20)\n",
    "p2"
   ]
  },
  {
   "cell_type": "code",
   "execution_count": 151,
   "metadata": {},
   "outputs": [
    {
     "name": "stdout",
     "output_type": "stream",
     "text": [
      "11\n",
      "15\n"
     ]
    },
    {
     "data": {
      "text/plain": [
       "(__main__.Person, '유관순', 100)"
      ]
     },
     "execution_count": 151,
     "metadata": {},
     "output_type": "execute_result"
    }
   ],
   "source": [
    "# python 실행코드를 문자열로 전달하면 실행시켜준다 - eval()\n",
    "print(eval(\"1+10\"))\n",
    "a,b=5,10\n",
    "print(eval(\"a+b\"))\n",
    "c=eval(\"Person('유관순',100)\")\n",
    "type(c),c.name,c.age"
   ]
  },
  {
   "cell_type": "code",
   "execution_count": 155,
   "metadata": {},
   "outputs": [
    {
     "name": "stdout",
     "output_type": "stream",
     "text": [
      "<class 'str'> Person('유관순',20)\n"
     ]
    },
    {
     "data": {
      "text/plain": [
       "('유관순', 20)"
      ]
     },
     "execution_count": 155,
     "metadata": {},
     "output_type": "execute_result"
    }
   ],
   "source": [
    "v=repr(p2)\n",
    "print(type(v),v)\n",
    "obj=eval(v)\n",
    "obj.name, obj.age"
   ]
  },
  {
   "cell_type": "code",
   "execution_count": 167,
   "metadata": {},
   "outputs": [
    {
     "name": "stdout",
     "output_type": "stream",
     "text": [
      "<class 'str'> Person('유관순',20)\n"
     ]
    },
    {
     "data": {
      "text/plain": [
       "('유관순', 20)"
      ]
     },
     "execution_count": 167,
     "metadata": {},
     "output_type": "execute_result"
    }
   ],
   "source": [
    "v=repr(p2)\n",
    "print(type(v),v)\n",
    "obj=eval(v)\n",
    "obj.name, obj.age"
   ]
  },
  {
   "cell_type": "code",
   "execution_count": null,
   "metadata": {},
   "outputs": [],
   "source": []
  },
  {
   "cell_type": "code",
   "execution_count": null,
   "metadata": {},
   "outputs": [],
   "source": []
  },
  {
   "cell_type": "code",
   "execution_count": null,
   "metadata": {},
   "outputs": [],
   "source": []
  },
  {
   "cell_type": "markdown",
   "metadata": {
    "slideshow": {
     "slide_type": "subslide"
    }
   },
   "source": [
    "#### 연산자 재정의(Operator overriding) 관련 특수 메소드\n",
    "- 연산자의 피연산자로 객체를 사용하면 호출되는 메소드들\n",
    "- 다항연산자일 경우 가장 왼쪽의 객체에 정의된 메소드가 호출된다.\n",
    "    - `a + b` 일경우 a의 `__add__()` 가 호출된다.\n",
    "- **비교 연산자**\n",
    "    - **`__eq__(self, other)`** : self == other\n",
    "        - == 로 객체의 내용을 비교할 때 정의 한다.\n",
    "    - **`__lt__(self, other)`** : self < other,\n",
    "    - **`__gt__(self, other)`**: self > other\n",
    "        - min()이나 max()에서 인수로 사용할 경우 정의해야 한다.\n",
    "    - **`__le__(self, other)`**: self <= other\n",
    "    - **`__ge__(self, other)`**: self >= other\n",
    "    - **`__ne__(self, other)`**: self != other"
   ]
  },
  {
   "cell_type": "markdown",
   "metadata": {
    "slideshow": {
     "slide_type": "fragment"
    }
   },
   "source": [
    "- **산술 연산자**\n",
    "    - **`__add__(self, other)`**: self + other\n",
    "    - **`__sub__(self, other)`**: self - other\n",
    "    - **`__mul__(self, other)`**: self * other\n",
    "    - **`__truediv__(self, other)`**: self / other\n",
    "    - **`__floordiv__(self, other)`**: self // other\n",
    "    - **`__mod__(self, other)`**: self % other"
   ]
  },
  {
   "cell_type": "code",
   "execution_count": 183,
   "metadata": {
    "slideshow": {
     "slide_type": "fragment"
    }
   },
   "outputs": [],
   "source": [
    "class Nums:\n",
    "    def __init__(self,num):\n",
    "        self.num=num\n",
    "    def __eq__(self,n):  # n:self == 10:n\n",
    "        return self.num == n\n",
    "    def __add__(self,other):\n",
    "        if isinstance(other,(int,float)):\n",
    "            return self.num + other\n",
    "        elif isinstance(other,Nums):\n",
    "            return self.num + other.num\n",
    "        else:\n",
    "            print(\"-----Error-----\")\n",
    "                      "
   ]
  },
  {
   "cell_type": "code",
   "execution_count": 179,
   "metadata": {},
   "outputs": [
    {
     "data": {
      "text/plain": [
       "True"
      ]
     },
     "execution_count": 179,
     "metadata": {},
     "output_type": "execute_result"
    }
   ],
   "source": [
    "n=Nums(10)\n",
    "n==10 # n.__eq__(10)\n",
    "# n.__eq__(10)"
   ]
  },
  {
   "cell_type": "code",
   "execution_count": 176,
   "metadata": {},
   "outputs": [
    {
     "ename": "TypeError",
     "evalue": "unsupported operand type(s) for +: 'Nums' and 'int'",
     "output_type": "error",
     "traceback": [
      "\u001b[1;31m---------------------------------------------------------------------------\u001b[0m",
      "\u001b[1;31mTypeError\u001b[0m                                 Traceback (most recent call last)",
      "Cell \u001b[1;32mIn[176], line 1\u001b[0m\n\u001b[1;32m----> 1\u001b[0m \u001b[43mn\u001b[49m\u001b[38;5;241;43m+\u001b[39;49m\u001b[38;5;241;43m10\u001b[39;49m\n",
      "\u001b[1;31mTypeError\u001b[0m: unsupported operand type(s) for +: 'Nums' and 'int'"
     ]
    }
   ],
   "source": [
    "n+10"
   ]
  },
  {
   "cell_type": "code",
   "execution_count": 181,
   "metadata": {},
   "outputs": [
    {
     "data": {
      "text/plain": [
       "20"
      ]
     },
     "execution_count": 181,
     "metadata": {},
     "output_type": "execute_result"
    }
   ],
   "source": [
    "n+10 # n.__add__(10)"
   ]
  },
  {
   "cell_type": "code",
   "execution_count": 184,
   "metadata": {},
   "outputs": [
    {
     "data": {
      "text/plain": [
       "300"
      ]
     },
     "execution_count": 184,
     "metadata": {},
     "output_type": "execute_result"
    }
   ],
   "source": [
    "n1=Nums(100)\n",
    "n2=Nums(200)\n",
    "n1+n2"
   ]
  },
  {
   "cell_type": "code",
   "execution_count": null,
   "metadata": {},
   "outputs": [],
   "source": []
  },
  {
   "cell_type": "markdown",
   "metadata": {
    "slideshow": {
     "slide_type": "slide"
    }
   },
   "source": [
    "# class변수, class 메소드\n",
    "- **class변수**\n",
    "    - (Intance가 아닌) 클래스 자체의 데이터\n",
    "    - Attribute가 객체별로 생성된다면, class변수는 클래스당 하나가 생성된다.\n",
    "    - 구현\n",
    "        - class 블럭에 변수 선언.\n",
    "- **class 메소드**\n",
    "    - 클래스 변수를 처리하는 메소드\n",
    "    - 구현\n",
    "        - @classmethod 데코레이터를 붙인다.\n",
    "        - 첫번째 매개변수로 클래스를 받는 변수를 선언한다. 이 변수를 이용해 클래스 변수나 다른 클래스 메소드를 호출 한다."
   ]
  },
  {
   "cell_type": "markdown",
   "metadata": {
    "slideshow": {
     "slide_type": "subslide"
    }
   },
   "source": [
    "# static 메소드\n",
    "- 클래스의 메소드로 클래스 변수와 상관없는 단순기능을 정의한다.\n",
    "    - Caller 에서 받은 argument만 가지고 일하는 메소드를 구현한다.\n",
    "- 구현\n",
    "    - @staticmethod 데코레이터를 붙인다.\n",
    "    - Parameter에 대한 규칙은 없이 필요한 변수들만 선언한다.\n",
    "    "
   ]
  },
  {
   "cell_type": "markdown",
   "metadata": {
    "slideshow": {
     "slide_type": "fragment"
    }
   },
   "source": [
    "## class 메소드/변수, static 메소드 호출\n",
    "- 클래스이름.변수\n",
    "- 클래스이름.메소드() "
   ]
  },
  {
   "cell_type": "code",
   "execution_count": null,
   "metadata": {},
   "outputs": [],
   "source": []
  },
  {
   "cell_type": "code",
   "execution_count": null,
   "metadata": {
    "slideshow": {
     "slide_type": "fragment"
    }
   },
   "outputs": [],
   "source": []
  },
  {
   "cell_type": "code",
   "execution_count": null,
   "metadata": {},
   "outputs": [],
   "source": []
  },
  {
   "cell_type": "code",
   "execution_count": null,
   "metadata": {},
   "outputs": [],
   "source": []
  },
  {
   "cell_type": "code",
   "execution_count": null,
   "metadata": {},
   "outputs": [],
   "source": []
  },
  {
   "cell_type": "code",
   "execution_count": null,
   "metadata": {},
   "outputs": [],
   "source": []
  },
  {
   "cell_type": "code",
   "execution_count": null,
   "metadata": {},
   "outputs": [],
   "source": []
  },
  {
   "cell_type": "code",
   "execution_count": null,
   "metadata": {},
   "outputs": [],
   "source": []
  }
 ],
 "metadata": {
  "kernelspec": {
   "display_name": "Python 3 (ipykernel)",
   "language": "python",
   "name": "python3"
  },
  "language_info": {
   "codemirror_mode": {
    "name": "ipython",
    "version": 3
   },
   "file_extension": ".py",
   "mimetype": "text/x-python",
   "name": "python",
   "nbconvert_exporter": "python",
   "pygments_lexer": "ipython3",
   "version": "3.10.9"
  },
  "toc": {
   "base_numbering": 1,
   "nav_menu": {},
   "number_sections": true,
   "sideBar": true,
   "skip_h1_title": false,
   "title_cell": "Table of Contents",
   "title_sidebar": "Contents",
   "toc_cell": false,
   "toc_position": {},
   "toc_section_display": true,
   "toc_window_display": false
  },
  "varInspector": {
   "cols": {
    "lenName": 16,
    "lenType": 16,
    "lenVar": 40
   },
   "kernels_config": {
    "python": {
     "delete_cmd_postfix": "",
     "delete_cmd_prefix": "del ",
     "library": "var_list.py",
     "varRefreshCmd": "print(var_dic_list())"
    },
    "r": {
     "delete_cmd_postfix": ") ",
     "delete_cmd_prefix": "rm(",
     "library": "var_list.r",
     "varRefreshCmd": "cat(var_dic_list()) "
    }
   },
   "types_to_exclude": [
    "module",
    "function",
    "builtin_function_or_method",
    "instance",
    "_Feature"
   ],
   "window_display": false
  }
 },
 "nbformat": 4,
 "nbformat_minor": 4
}
