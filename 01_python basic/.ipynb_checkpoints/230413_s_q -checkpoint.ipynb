{
 "cells": [
  {
   "cell_type": "markdown",
   "metadata": {},
   "source": [
    "# 가져갈 문제\n",
    "- 링크를 누르면 해당 문제로 이동합니다."
   ]
  },
  {
   "cell_type": "markdown",
   "metadata": {},
   "source": [
    "## 1번 문제\n",
    "\n",
    "제목 : [과제 진행하기](https://school.programmers.co.kr/learn/courses/30/lessons/176962)\n",
    "<BR>레벨 : 2"
   ]
  },
  {
   "cell_type": "code",
   "execution_count": 4,
   "metadata": {},
   "outputs": [],
   "source": [
    "def solution(plans):\n",
    "    answer = []\n",
    "    \n",
    "    return answer"
   ]
  },
  {
   "cell_type": "code",
   "execution_count": 5,
   "metadata": {},
   "outputs": [
    {
     "name": "stdout",
     "output_type": "stream",
     "text": [
      "[]\n",
      "[]\n",
      "[]\n"
     ]
    }
   ],
   "source": [
    "# 테스트 케이스\n",
    "plans1 = [[\"korean\", \"11:40\", \"30\"], [\"english\", \"12:10\", \"20\"], [\"math\", \"12:30\", \"40\"]]\n",
    "plans2 = [[\"science\", \"12:40\", \"50\"], [\"music\", \"12:20\", \"40\"], [\"history\", \"14:00\", \"30\"], [\"computer\", \"12:30\", \"100\"]]\n",
    "plans3 = [[\"aaa\", \"12:00\", \"20\"], [\"bbb\", \"12:10\", \"30\"], [\"ccc\", \"12:40\", \"10\"]]\n",
    "\n",
    "print(solution(plans1))\n",
    "print(solution(plans2))\n",
    "print(solution(plans3))"
   ]
  },
  {
   "cell_type": "markdown",
   "metadata": {},
   "source": [
    "## 2번 문제\n",
    "\n",
    "제목 : [뒤에 있는 큰 수 찾기](https://school.programmers.co.kr/learn/courses/30/lessons/154539)\n",
    "<BR>레벨 : 2"
   ]
  },
  {
   "cell_type": "code",
   "execution_count": 6,
   "metadata": {},
   "outputs": [],
   "source": [
    "def solution(numbers):\n",
    "    answer = []\n",
    "    return answer"
   ]
  },
  {
   "cell_type": "code",
   "execution_count": 7,
   "metadata": {},
   "outputs": [
    {
     "data": {
      "text/plain": [
       "[]"
      ]
     },
     "execution_count": 7,
     "metadata": {},
     "output_type": "execute_result"
    }
   ],
   "source": [
    "import random as r\n",
    "# 테스트 케이스\n",
    "numbers1 = [2, 3, 3, 5]\n",
    "numbers2 = [9, 1, 5, 3, 6, 2]\n",
    "numbers3 = [ v for v in range(10, 0, -1) ]\n",
    "numbers4 = [ r.randint(1, 100) for _ in range(10)]\n",
    "numbers5 = [ r.randint(1, 100) for _ in range(10)]\n",
    "\n",
    "solution(numbers1)\n",
    "solution(numbers2)\n",
    "solution(numbers3)\n",
    "solution(numbers4)\n",
    "solution(numbers5)"
   ]
  },
  {
   "cell_type": "code",
   "execution_count": 13,
   "metadata": {},
   "outputs": [
    {
     "name": "stdout",
     "output_type": "stream",
     "text": [
      "[10, 9, 8, 7, 6, 5, 4, 3, 2, 1]\n"
     ]
    },
    {
     "data": {
      "text/plain": [
       "[-1, -1, -1, -1, -1, -1, -1, -1, -1, -1]"
      ]
     },
     "execution_count": 13,
     "metadata": {},
     "output_type": "execute_result"
    }
   ],
   "source": []
  },
  {
   "cell_type": "markdown",
   "metadata": {},
   "source": [
    "## 3번 문제\n",
    "\n",
    "제목 : [올바른 괄호](https://school.programmers.co.kr/learn/courses/30/lessons/12909)\n",
    "<BR>레벨 : 2"
   ]
  },
  {
   "cell_type": "code",
   "execution_count": 8,
   "metadata": {},
   "outputs": [],
   "source": [
    "def solution(s):    \n",
    "    answer = True\n",
    "    return True"
   ]
  },
  {
   "cell_type": "code",
   "execution_count": 9,
   "metadata": {},
   "outputs": [
    {
     "name": "stdout",
     "output_type": "stream",
     "text": [
      "True\n",
      "True\n",
      "True\n",
      "True\n"
     ]
    }
   ],
   "source": [
    "# 테스트 케이스\n",
    "s1 = \"()()\"\n",
    "s2 = \"(())()\"\n",
    "s3 = \")()(\"\n",
    "s4 = \"(()(\"\n",
    "\n",
    "print(solution(s1))\n",
    "print(solution(s2))\n",
    "print(solution(s3))\n",
    "print(solution(s4))"
   ]
  },
  {
   "cell_type": "markdown",
   "metadata": {},
   "source": [
    "## 4번 문제\n",
    "\n",
    "제목 : [H-Index](https://school.programmers.co.kr/learn/courses/30/lessons/42747)\n",
    "<BR>레벨 : 2"
   ]
  },
  {
   "cell_type": "code",
   "execution_count": 10,
   "metadata": {},
   "outputs": [],
   "source": [
    "def solution(citations):\n",
    "    answer = 0\n",
    "    \n",
    "    return answer"
   ]
  },
  {
   "cell_type": "code",
   "execution_count": 11,
   "metadata": {},
   "outputs": [
    {
     "name": "stdout",
     "output_type": "stream",
     "text": [
      "0\n",
      "0\n",
      "0\n",
      "0\n",
      "0\n"
     ]
    }
   ],
   "source": [
    "# 테스트 케이스\n",
    "c1 = [3, 0, 6, 1, 5]\n",
    "c2 = [6, 6, 4, 6, 6]\n",
    "c3 = [1, 1, 1, 1, 1]\n",
    "c4 = [1, 1, 1, 1, 2]\n",
    "c5 = [1, 1, 1, 2, 2]\n",
    "\n",
    "print(solution(c1))\n",
    "print(solution(c2))\n",
    "print(solution(c3))\n",
    "print(solution(c4))\n",
    "print(solution(c5))"
   ]
  },
  {
   "cell_type": "code",
   "execution_count": null,
   "metadata": {},
   "outputs": [],
   "source": []
  }
 ],
 "metadata": {
  "kernelspec": {
   "display_name": "Python 3 (ipykernel)",
   "language": "python",
   "name": "python3"
  },
  "language_info": {
   "codemirror_mode": {
    "name": "ipython",
    "version": 3
   },
   "file_extension": ".py",
   "mimetype": "text/x-python",
   "name": "python",
   "nbconvert_exporter": "python",
   "pygments_lexer": "ipython3",
   "version": "3.10.9"
  }
 },
 "nbformat": 4,
 "nbformat_minor": 2
}
