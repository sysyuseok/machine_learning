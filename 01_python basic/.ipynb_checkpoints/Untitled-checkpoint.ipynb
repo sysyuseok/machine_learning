{
 "cells": [
  {
   "cell_type": "code",
   "execution_count": null,
   "id": "d73ea6bb",
   "metadata": {},
   "outputs": [],
   "source": []
  },
  {
   "cell_type": "code",
   "execution_count": 76,
   "id": "fdebb43d",
   "metadata": {},
   "outputs": [],
   "source": [
    "def solution1(char):\n",
    "    return print(char[0:6])\n",
    "def solutio2(char):\n",
    "    return print(char*10)\n",
    "def solution3(char):\n",
    "    return len(char)\n",
    "def solution4(name,price,maker):\n",
    "    #return print(\"제품명 : \",name,\", 가격 :\",price,\", 제조사 :\",maker)\n",
    "    #return print('제품명 : {} , 가격 : {}, 제조사 : {}' .format(name, price, maker))\n",
    "    return print(f'제품명 : {name} , 가격 : {price}, 제조사 : {maker}')\n",
    "name = \"TV\"\n",
    "price = \"30000\"\n",
    "maker = \"LG\"\n",
    "def solution5(char):\n",
    "    if \"수박\" in char :\n",
    "        return print(1)\n",
    "    else :\n",
    "        return print(0)\n",
    "def solution6(char):\n",
    "    return print(1) if \"수박\" in char else print(0)\n",
    "def solution7(char):\n",
    "    cnt=0\n",
    "    for i in range(len(char)):\n",
    "        if char[i]=='a':\n",
    "            cnt+=1\n",
    "    return print(cnt)\n",
    "def solution8(char):\n",
    "    return print(char.count('a'))\n",
    "def solution9():\n",
    "    n=int(input(\"숫자 입력:\"))\n",
    "    k=int(input(\"숫자 입력:\"))\n",
    "    return print(n*k)\n"
   ]
  },
  {
   "cell_type": "code",
   "execution_count": 10,
   "id": "1a81de77",
   "metadata": {},
   "outputs": [
    {
     "name": "stdout",
     "output_type": "stream",
     "text": [
      "[0, 1, 2, 3, 4, 5, -6, -5, -4, -3, -2, -1]\n",
      "[0, 1, 2, 3, 4, 5, 0, 1, 2, 3, 4, 5, 0, 1, 2, 3, 4, 5]\n",
      "18\n"
     ]
    }
   ],
   "source": [
    "list_a=[ 0, 1, 2, 3, 4, 5]\n",
    "list_b=[-6,-5,-4,-3,-2,-1]\n",
    "#index를 위와 같이 음수와 양수로 표현 가능\n",
    "\n",
    "list_c=list_a+list_b\n",
    "print(list_c)\n",
    "list_d=list_a*3\n",
    "print(list_d)\n",
    "print(len(list_d))"
   ]
  },
  {
   "cell_type": "code",
   "execution_count": 11,
   "id": "cccd14f2",
   "metadata": {},
   "outputs": [
    {
     "name": "stdout",
     "output_type": "stream",
     "text": [
      "[0, 1, 2, 3, 4, 5, 6]\n"
     ]
    }
   ],
   "source": [
    "list_a.append(6)\n",
    "print(list_a)"
   ]
  },
  {
   "cell_type": "code",
   "execution_count": 12,
   "id": "d33d9d13",
   "metadata": {},
   "outputs": [
    {
     "name": "stdout",
     "output_type": "stream",
     "text": [
      "[0, 1, 2, 3, 4, 2, 5, 6]\n"
     ]
    }
   ],
   "source": [
    "list_a.insert(5,2) # index 5의 자리에 들어간다 그리고 뒤로 밀어낸다\n",
    "print(list_a)"
   ]
  },
  {
   "cell_type": "code",
   "execution_count": 14,
   "id": "76b33a96",
   "metadata": {},
   "outputs": [
    {
     "name": "stdout",
     "output_type": "stream",
     "text": [
      "[0, 1, 2, 3, 4, 2, 5, 6, 3, 3]\n"
     ]
    }
   ],
   "source": [
    "list_a.insert(8,3)\n",
    "print(list_a)"
   ]
  },
  {
   "cell_type": "code",
   "execution_count": 15,
   "id": "eeecc00e",
   "metadata": {},
   "outputs": [
    {
     "name": "stdout",
     "output_type": "stream",
     "text": [
      "[0, 1, 2, 3, 4, 2, 5, 6, 3, 3, 7, 8, 9]\n"
     ]
    }
   ],
   "source": [
    "list_a.extend([7,8,9]) #append인데 매개변수가 list인 것\n",
    "print(list_a)"
   ]
  },
  {
   "cell_type": "code",
   "execution_count": 16,
   "id": "5043ff6b",
   "metadata": {},
   "outputs": [
    {
     "ename": "SyntaxError",
     "evalue": "invalid syntax (3897318534.py, line 1)",
     "output_type": "error",
     "traceback": [
      "\u001b[1;36m  Cell \u001b[1;32mIn[16], line 1\u001b[1;36m\u001b[0m\n\u001b[1;33m    del list_a[]\u001b[0m\n\u001b[1;37m               ^\u001b[0m\n\u001b[1;31mSyntaxError\u001b[0m\u001b[1;31m:\u001b[0m invalid syntax\n"
     ]
    }
   ],
   "source": [
    "del list_a[] #index 안넣으면 error 발생\n",
    "print(list_a)"
   ]
  },
  {
   "cell_type": "code",
   "execution_count": 17,
   "id": "225225fa",
   "metadata": {},
   "outputs": [
    {
     "name": "stdout",
     "output_type": "stream",
     "text": [
      "[0, 1, 2, 3, 4, 2, 5, 6, 3, 3, 7, 8]\n"
     ]
    }
   ],
   "source": [
    "list_a.pop() #index 안넣으면 마지막 요소 제거\n",
    "print(list_a)"
   ]
  },
  {
   "cell_type": "code",
   "execution_count": 21,
   "id": "30243569",
   "metadata": {},
   "outputs": [
    {
     "name": "stdout",
     "output_type": "stream",
     "text": [
      "52\n",
      "+52\n",
      " 52\n",
      "-52\n",
      "-52\n",
      "-52\n"
     ]
    }
   ],
   "source": [
    "output_a=\"{:d}\".format(52)\n",
    "output_b=\"{:+d}\".format(52)\n",
    "output_c=\"{: d}\".format(52)\n",
    "output_d=\"{:d}\".format(-52)\n",
    "output_e=\"{:+d}\".format(-52)\n",
    "output_f=\"{: d}\".format(-52)\n",
    "print(output_a)\n",
    "print(output_b)\n",
    "print(output_c)\n",
    "print(output_d)\n",
    "print(output_e)\n",
    "print(output_f)"
   ]
  },
  {
   "cell_type": "code",
   "execution_count": 24,
   "id": "07ba2c4a",
   "metadata": {},
   "outputs": [
    {
     "name": "stdout",
     "output_type": "stream",
     "text": [
      "  +52\n",
      "  -52\n",
      "+  52\n",
      "-  52\n",
      "+0052\n",
      "-0052\n",
      "00052\n",
      "-0052\n",
      "0000000052\n",
      "-000000052\n"
     ]
    }
   ],
   "source": [
    "op_a=\"{:+5d}\".format(52)\n",
    "op_b=\"{:+5d}\".format(-52)\n",
    "op_c=\"{:=+5d}\".format(52)\n",
    "op_d=\"{:=+5d}\".format(-52)\n",
    "op_e=\"{:+05d}\".format(52)\n",
    "op_f=\"{:+05d}\".format(-52)\n",
    "op_g=\"{:05d}\".format(52)\n",
    "op_h=\"{:05d}\".format(-52)\n",
    "op_i=\"{:010d}\".format(52)\n",
    "op_j=\"{:010d}\".format(-52)\n",
    "print(op_a)\n",
    "print(op_b)\n",
    "print(op_c)\n",
    "print(op_d)\n",
    "print(op_e)\n",
    "print(op_f)\n",
    "print(op_g)\n",
    "print(op_h)\n",
    "print(op_i)\n",
    "print(op_j)\n",
    "# +는 부호 표시를 의미\n",
    "# 숫자 사용시 총 몇칸을 자지할지 의미\n",
    "# =이 있으면 부호와 숫자를 떨어뜨림"
   ]
  },
  {
   "cell_type": "code",
   "execution_count": 26,
   "id": "ca97c7a0",
   "metadata": {},
   "outputs": [
    {
     "name": "stdout",
     "output_type": "stream",
     "text": [
      "3.2\n",
      "5\n"
     ]
    }
   ],
   "source": [
    "a=3.2\n",
    "b=5.0\n",
    "print(\"{:g}\" .format(a))\n",
    "print(\"{:g}\" .format(b))"
   ]
  },
  {
   "cell_type": "code",
   "execution_count": 35,
   "id": "5408b366",
   "metadata": {},
   "outputs": [
    {
     "name": "stdout",
     "output_type": "stream",
     "text": [
      "49\n",
      "97\n",
      "65\n",
      "12593\n",
      "44032\n",
      "44040\n",
      "45216\n",
      "False\n"
     ]
    }
   ],
   "source": [
    "print(ord('1'))\n",
    "print(ord('a'))\n",
    "print(ord('A'))\n",
    "print(ord('ㄱ'))\n",
    "print(ord('가'))\n",
    "print(ord('갈'))\n",
    "print(ord('날'))\n",
    "print('a'>'가')\n",
    "# 숫자 <대문자 < 소문자 < 한글\n",
    "# 크다는 의미가 사전순으로 나열시 뒤에 온다는 의미로 생각하면 편함"
   ]
  },
  {
   "cell_type": "code",
   "execution_count": 38,
   "id": "dbbb18bb",
   "metadata": {},
   "outputs": [
    {
     "name": "stdout",
     "output_type": "stream",
     "text": [
      "False\n"
     ]
    }
   ],
   "source": [
    "print('abc'>'abd')"
   ]
  },
  {
   "cell_type": "code",
   "execution_count": null,
   "id": "a507b2c1",
   "metadata": {},
   "outputs": [],
   "source": [
    "#연산자\n",
    "# and , or 을 사용하면 괄호가 필요없이도 동작하지만\n",
    "# & , | 사용하면 괄호로 묶어야한다"
   ]
  },
  {
   "cell_type": "code",
   "execution_count": null,
   "id": "c1301d7b",
   "metadata": {},
   "outputs": [],
   "source": [
    "str.isalnum() # 알파벳 또는 숫자로만 구성되었는지\n",
    "str.isalpha() # 알파벳으로만 구성되었는지\n",
    "str.isidentifier() # 식별자로 사용할 수 있는지\n",
    "#유효한 식별자인경우 : 영문(A~z), 숫자(0~9), _ 로만 구성.\n",
    "#유효한 식별자가 아닌 경우 : 숫자로 시작, 공백이나 특수문자 포함.\n",
    "str.isdecimal() # 정수형태인지\n",
    "str.isdigit() # 숫자로 인식될 수 있는지\n",
    "str.isspace() # 공백으로만 구성되었는지\n",
    "str.islower() # 소문자로만 구성되었는지\n",
    "str.isupper() # 대문자로만 구성되었는지"
   ]
  },
  {
   "cell_type": "code",
   "execution_count": 49,
   "id": "5fb64e4c",
   "metadata": {},
   "outputs": [
    {
     "name": "stdout",
     "output_type": "stream",
     "text": [
      "0 6\n"
     ]
    }
   ],
   "source": [
    "str1=\"helhelhel\".find(\"hel\")\n",
    "str2=\"helhelhel\".rfind(\"hel\")\n",
    "print(str1,str2)"
   ]
  },
  {
   "cell_type": "code",
   "execution_count": 53,
   "id": "8ae21348",
   "metadata": {},
   "outputs": [
    {
     "data": {
      "text/plain": [
       "False"
      ]
     },
     "execution_count": 53,
     "metadata": {},
     "output_type": "execute_result"
    }
   ],
   "source": [
    "num1=-10\n",
    "num2=11\n",
    "num1>10 ^ num2>10"
   ]
  },
  {
   "cell_type": "code",
   "execution_count": 57,
   "id": "948da02b",
   "metadata": {},
   "outputs": [
    {
     "name": "stdout",
     "output_type": "stream",
     "text": [
      "pos\n"
     ]
    }
   ],
   "source": [
    "num=10\n",
    "result= \"pos\" if num > 0 else \"neg\"\n",
    "print(result)"
   ]
  },
  {
   "cell_type": "code",
   "execution_count": 62,
   "id": "dcc11b0e",
   "metadata": {},
   "outputs": [
    {
     "name": "stdout",
     "output_type": "stream",
     "text": [
      "neg\n"
     ]
    }
   ],
   "source": [
    "num=-10\n",
    "result=\"pos\" if num >0 else \"zero\" if num==0  else \"neg\"\n",
    "result=\"pos\" if num >0 else (\"zero\" if num==0  else \"neg\")\n",
    "print(result)"
   ]
  },
  {
   "cell_type": "code",
   "execution_count": null,
   "id": "b056618f",
   "metadata": {},
   "outputs": [],
   "source": [
    "\n",
    "\\n\t엔터\n",
    "\\t\tTab\n",
    "\\b\tBackspace\n",
    "\\\\\t\\\n",
    "\\\"\t\"\n",
    "\\'\t'\n",
    "r-string (raw string)\n",
    "문자열 앞에 r 접두어를 붙인다. (raw)\n",
    "escape 문자구분자인 \\를 무시하여 escape 문자로 변환하지 않고 작성한 그대로 사용한다.\n",
    "ex) r\"c:\\test\\example\\a.txt\""
   ]
  },
  {
   "cell_type": "code",
   "execution_count": 64,
   "id": "5111a856",
   "metadata": {
    "collapsed": true
   },
   "outputs": [
    {
     "name": "stdout",
     "output_type": "stream",
     "text": [
      "a\n",
      "b\n",
      "c\n",
      "d\n",
      "e\n",
      "f\n",
      "g\n",
      "h\n",
      "i\n",
      "j\n",
      "k\n",
      "l\n",
      "m\n",
      "n\n",
      "o\n",
      "p\n",
      "q\n",
      "r\n",
      "s\n",
      "t\n",
      "u\n",
      "v\n",
      "w\n",
      "x\n",
      "y\n",
      "z\n"
     ]
    }
   ],
   "source": [
    "str=\"abcdefghijklmnopqrstuvwxyz\"\n",
    "for i in range(len(str)):\n",
    "    print(str[i])"
   ]
  },
  {
   "cell_type": "code",
   "execution_count": 65,
   "id": "14d7d910",
   "metadata": {},
   "outputs": [
    {
     "name": "stdout",
     "output_type": "stream",
     "text": [
      "abcdef\n"
     ]
    }
   ],
   "source": [
    "str1=\"abc\"\n",
    "str1+='def'\n",
    "print(str1)"
   ]
  },
  {
   "cell_type": "code",
   "execution_count": 70,
   "id": "43457dd5",
   "metadata": {},
   "outputs": [
    {
     "name": "stdout",
     "output_type": "stream",
     "text": [
      "글자수: 6\n",
      "글자수: hi\n",
      "글자수:hi\n"
     ]
    }
   ],
   "source": [
    "print(\"글자수:\",len(str1))\n",
    "#print(\"글자수:\"+len(str1)) 오류 발생\n",
    "print(\"글자수:\",\"hi\")\n",
    "print(\"글자수:\"+\"hi\")"
   ]
  },
  {
   "cell_type": "code",
   "execution_count": 77,
   "id": "de4bf9be",
   "metadata": {},
   "outputs": [
    {
     "data": {
      "text/plain": [
       "'123456'"
      ]
     },
     "execution_count": 77,
     "metadata": {},
     "output_type": "execute_result"
    }
   ],
   "source": [
    "#양수 index 음수 index 혼용 가능\n",
    "s2=\"0123456789\"\n",
    "s2[1:-3]"
   ]
  },
  {
   "cell_type": "code",
   "execution_count": null,
   "id": "1707bf9e",
   "metadata": {},
   "outputs": [],
   "source": []
  },
  {
   "cell_type": "code",
   "execution_count": 81,
   "id": "0c501891",
   "metadata": {},
   "outputs": [
    {
     "data": {
      "text/plain": [
       "'a123456789'"
      ]
     },
     "execution_count": 81,
     "metadata": {},
     "output_type": "execute_result"
    }
   ],
   "source": [
    "s2.replace('0', 'a')"
   ]
  },
  {
   "cell_type": "code",
   "execution_count": 79,
   "id": "0604e516",
   "metadata": {},
   "outputs": [
    {
     "data": {
      "text/plain": [
       "'02468'"
      ]
     },
     "execution_count": 79,
     "metadata": {},
     "output_type": "execute_result"
    }
   ],
   "source": [
    "s2[::2]"
   ]
  },
  {
   "cell_type": "code",
   "execution_count": null,
   "id": "9dd90c1f",
   "metadata": {},
   "outputs": [],
   "source": []
  },
  {
   "cell_type": "code",
   "execution_count": null,
   "id": "029f4b2c",
   "metadata": {},
   "outputs": [],
   "source": []
  },
  {
   "cell_type": "code",
   "execution_count": null,
   "id": "36dc2d83",
   "metadata": {},
   "outputs": [],
   "source": []
  },
  {
   "cell_type": "code",
   "execution_count": null,
   "id": "3c062eca",
   "metadata": {},
   "outputs": [],
   "source": []
  },
  {
   "cell_type": "code",
   "execution_count": null,
   "id": "29845505",
   "metadata": {},
   "outputs": [],
   "source": []
  },
  {
   "cell_type": "code",
   "execution_count": null,
   "id": "2de7438a",
   "metadata": {},
   "outputs": [],
   "source": []
  },
  {
   "cell_type": "code",
   "execution_count": null,
   "id": "53268c95",
   "metadata": {},
   "outputs": [],
   "source": []
  },
  {
   "cell_type": "code",
   "execution_count": null,
   "id": "c82c3b16",
   "metadata": {},
   "outputs": [],
   "source": []
  },
  {
   "cell_type": "code",
   "execution_count": null,
   "id": "043cf621",
   "metadata": {},
   "outputs": [],
   "source": []
  },
  {
   "cell_type": "code",
   "execution_count": null,
   "id": "a41a9af4",
   "metadata": {},
   "outputs": [],
   "source": []
  },
  {
   "cell_type": "code",
   "execution_count": null,
   "id": "7d2ee2c2",
   "metadata": {},
   "outputs": [],
   "source": []
  }
 ],
 "metadata": {
  "kernelspec": {
   "display_name": "Python 3 (ipykernel)",
   "language": "python",
   "name": "python3"
  },
  "language_info": {
   "codemirror_mode": {
    "name": "ipython",
    "version": 3
   },
   "file_extension": ".py",
   "mimetype": "text/x-python",
   "name": "python",
   "nbconvert_exporter": "python",
   "pygments_lexer": "ipython3",
   "version": "3.10.9"
  }
 },
 "nbformat": 4,
 "nbformat_minor": 5
}
