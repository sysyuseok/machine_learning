{
 "cells": [
  {
   "cell_type": "markdown",
   "metadata": {
    "slideshow": {
     "slide_type": "slide"
    }
   },
   "source": [
    "# 변수와 함수/연산자"
   ]
  },
  {
   "cell_type": "markdown",
   "metadata": {
    "slideshow": {
     "slide_type": "fragment"
    }
   },
   "source": [
    "<strong style='color:red;font-size:1.5em'>프로그램이 하는 일</strong>\n",
    "<p>\n",
    "<span style=\"font-size:1.2em\">- 정보(데이터)를 처리한다.</span>  \n",
    "    "
   ]
  },
  {
   "cell_type": "markdown",
   "metadata": {
    "slideshow": {
     "slide_type": "fragment"
    }
   },
   "source": [
    "- <b style='font-size:1.2em'>정보(데이터)</b>: **변수(Variable)와 값(Value)** 로 프로그램에 표현한다.\n",
    "- <b style='font-size:1.2em'>처리한다</b>: **연산자(Operator)와 함수(Function)** 으로 프로그램에 표현한다.\n",
    "    \n",
    "> 표현(Expression): 어떤 것을 코드에 작성하는 방법을 표현(Expression)이라고 한다.  \n",
    "> 예를 들어 프로그램에 숫자 십을 표현할 때 `10` 이라고 한다. 이런 것을 정수의 표현/표현식 이라고 한다."
   ]
  },
  {
   "cell_type": "markdown",
   "metadata": {
    "slideshow": {
     "slide_type": "slide"
    }
   },
   "source": [
    "# 변수 (Variable)\n",
    "- 데이터를 저장하는 메모리 공간\n",
    "- 이 메모리 공간은 이름(변수이름)으로 관리된다.\n",
    "    - 그래서 변수이름은 우리가 사용하는 값의 이름으로 사용된다.\n",
    "    \n",
    "## 변수 선언및 초기화\n",
    "- 변수명 = 값\n",
    "    - 변수는 반드시 선언하면서 값을 대입 해야 한다.\n",
    "    - 선언시 대입할 값이 없으면 None을 대입 (`name = None`)"
   ]
  },
  {
   "cell_type": "code",
   "execution_count": 3,
   "metadata": {
    "scrolled": true
   },
   "outputs": [
    {
     "name": "stdout",
     "output_type": "stream",
     "text": [
      "30\n"
     ]
    }
   ],
   "source": [
    "age = 30  # 변수 age를 생성하고 30을 대입.\n",
    "print(age) # 변수 age의 값을 출력(print) 해라.\n",
    "# 실행: shift + enter (실행후 다음 cell로 이동. 다음 cell이 없으면 생성)\n",
    "#    : control + enter (실행후 실행한 현재 cell에 머문다.)"
   ]
  },
  {
   "cell_type": "code",
   "execution_count": 4,
   "metadata": {
    "scrolled": true
   },
   "outputs": [
    {
     "name": "stdout",
     "output_type": "stream",
     "text": [
      "40\n"
     ]
    }
   ],
   "source": [
    "print(age + 10)     # 변수 age가 가진 값에 10을 더하는 처리 -> 그 결과를 출력"
   ]
  },
  {
   "cell_type": "code",
   "execution_count": 5,
   "metadata": {},
   "outputs": [
    {
     "name": "stdout",
     "output_type": "stream",
     "text": [
      "40\n",
      "50\n"
     ]
    }
   ],
   "source": [
    "age = 40\n",
    "print(age)\n",
    "print(age + 10)"
   ]
  },
  {
   "cell_type": "markdown",
   "metadata": {
    "slideshow": {
     "slide_type": "subslide"
    }
   },
   "source": [
    "  \n",
    "### 식별자 규칙과 변수이름 주는 관례\n",
    "\n",
    "#### 식별자 규칙\n",
    "- 식별자란 파이썬에서 사용하는 것들을 구분하기 위해 주는 이름을 말한다. \n",
    "- 사용할 수 있는 문자는 **일반 문자**(영어 알파벳 뿐 만 아니라 한글 한자 등 모든 일반 문자를 사용할 수 있다.), **숫자, 특수 문자는  _(underscore) 만** 가능.\n",
    "- 숫자는 **두번째 글자** 부터 사용할 수 있다.\n",
    "- **예약어(keyword, reserved word)**는 사용할 수 없다.\n",
    "- 대소문자를 구별한다.\n",
    "\n",
    "> <b style='font-size:1.2em'>파이썬 키워드</b>\n",
    "> ```python\n",
    "> False      await      else       import     pass\n",
    "> None       break      except     in         raise\n",
    "> True       class      finally    is         return\n",
    "> and        continue   for        lambda     try\n",
    "> as         def        from       nonlocal   while\n",
    "> assert     del        global     not        with\n",
    "> async      elif       if         or         yield\n",
    "> ```"
   ]
  },
  {
   "cell_type": "markdown",
   "metadata": {
    "slideshow": {
     "slide_type": "fragment"
    }
   },
   "source": [
    "#### 변수이름 관례\n",
    "- 모든 글자를 소문자로 한다.\n",
    "- 여러단어를 조합할 경우 `_` 로 구분한다.\n",
    "- 예: `name`, `age`, `customer_name`, `product_id`, `sale_price`"
   ]
  },
  {
   "cell_type": "code",
   "execution_count": 8,
   "metadata": {
    "slideshow": {
     "slide_type": "fragment"
    }
   },
   "outputs": [
    {
     "name": "stdout",
     "output_type": "stream",
     "text": [
      "홍길동\n"
     ]
    }
   ],
   "source": [
    "name = \"홍길동\"\n",
    "# print(NAME) # 소문자 변수명의 변수를 대문자로 호출\n",
    "print(name)"
   ]
  },
  {
   "cell_type": "code",
   "execution_count": 9,
   "metadata": {},
   "outputs": [],
   "source": [
    "age1 = 20\n",
    "age2 = 30\n",
    "age3 = 40"
   ]
  },
  {
   "cell_type": "code",
   "execution_count": 10,
   "metadata": {
    "collapsed": true
   },
   "outputs": [
    {
     "ename": "SyntaxError",
     "evalue": "invalid decimal literal (2257795849.py, line 1)",
     "output_type": "error",
     "traceback": [
      "\u001b[1;36m  Cell \u001b[1;32mIn[10], line 1\u001b[1;36m\u001b[0m\n\u001b[1;33m    1age = 10\u001b[0m\n\u001b[1;37m    ^\u001b[0m\n\u001b[1;31mSyntaxError\u001b[0m\u001b[1;31m:\u001b[0m invalid decimal literal\n"
     ]
    }
   ],
   "source": [
    "1age = 10 #숫자는 두번째 부터 사용가능."
   ]
  },
  {
   "cell_type": "code",
   "execution_count": 11,
   "metadata": {},
   "outputs": [],
   "source": [
    "customer_age = 30\n",
    "_ = 100\n",
    "_____ = 3000"
   ]
  },
  {
   "cell_type": "markdown",
   "metadata": {
    "slideshow": {
     "slide_type": "subslide"
    }
   },
   "source": [
    "> **print()함수**\n",
    "> - ( ) 안에 전달해주는 값(Argument)을 문자열로 변환 후 화면(Teminal)에 출력하는 함수\n",
    ">     - 값에 엔터를 붙인뒤 출력한다.\n",
    "> - 여러개의 값을 출력할 경우 나열해서 전달하면 된다.\n",
    "> - 여러개의 값을 출력할 경우 구분자는 공백을 기본값으로 한다. 다른 구분자를 사용할 경우 `sep=구분자문자열`를 전달한다.\n",
    "> - 뒤에 엔터 대신 다른 값을 붙일 경우 `end=붙일문자열` 을 전달한다."
   ]
  },
  {
   "cell_type": "code",
   "execution_count": 15,
   "metadata": {
    "slideshow": {
     "slide_type": "fragment"
    }
   },
   "outputs": [
    {
     "name": "stdout",
     "output_type": "stream",
     "text": [
      "출력할 값\n",
      "20\n",
      "30\n",
      "40\n"
     ]
    }
   ],
   "source": [
    "# 출력할 값 + 엔터\n",
    "print('출력할 값')\n",
    "print(age1)\n",
    "print(age2)\n",
    "print(age3)"
   ]
  },
  {
   "cell_type": "code",
   "execution_count": 18,
   "metadata": {},
   "outputs": [
    {
     "name": "stdout",
     "output_type": "stream",
     "text": [
      "출력할 값20\n",
      "30\n"
     ]
    }
   ],
   "source": [
    "# 엔터대신 다른 것을 뒤에 붙이고 싶을 경우\n",
    "print('출력할 값', end=\"\")\n",
    "print(age1)\n",
    "print(age2)"
   ]
  },
  {
   "cell_type": "code",
   "execution_count": 21,
   "metadata": {},
   "outputs": [
    {
     "name": "stdout",
     "output_type": "stream",
     "text": [
      "20-----30-----40-----출력할 값\n"
     ]
    }
   ],
   "source": [
    "# 한번에 여러개 값을 출력 -> , 를 구분자로 나열\n",
    "print(age1, age2, age3, \"출력할 값\", sep=\"-----\") # sep=\"공백대신 사용할 구분문자열 지정.\""
   ]
  },
  {
   "cell_type": "code",
   "execution_count": 24,
   "metadata": {},
   "outputs": [
    {
     "name": "stdout",
     "output_type": "stream",
     "text": [
      "이름: 홍길동\n",
      "나이: 20\n",
      "주소: 서울\n"
     ]
    }
   ],
   "source": [
    "name = \"홍길동\"\n",
    "age = 20\n",
    "address = \"서울\"\n",
    "\n",
    "print(\"이름:\", name)\n",
    "print(\"나이:\", age)\n",
    "print(\"주소:\", address)"
   ]
  },
  {
   "cell_type": "code",
   "execution_count": 27,
   "metadata": {},
   "outputs": [
    {
     "data": {
      "text/plain": [
       "20"
      ]
     },
     "execution_count": 27,
     "metadata": {},
     "output_type": "execute_result"
    }
   ],
   "source": [
    "# REPL 에디터 (대화형)\n",
    "# Read\n",
    "# Evaluate\n",
    "# Print\n",
    "# Loop\n",
    "age1"
   ]
  },
  {
   "cell_type": "code",
   "execution_count": 33,
   "metadata": {},
   "outputs": [
    {
     "name": "stdout",
     "output_type": "stream",
     "text": [
      "홍길동\n"
     ]
    }
   ],
   "source": [
    "print(\"홍길동\")"
   ]
  },
  {
   "cell_type": "code",
   "execution_count": null,
   "metadata": {},
   "outputs": [],
   "source": []
  },
  {
   "cell_type": "markdown",
   "metadata": {
    "slideshow": {
     "slide_type": "slide"
    }
   },
   "source": [
    "## 변수 사용\n",
    "- 변수를 사용하는 것은 변수에 값을 변경(대입)과 변수가 가진 값을 조회하는 두가지가 있다.\n",
    "\n",
    "### 변수에 값 대입/할당 (assignment)\n",
    "1. 변수명 = 값\n",
    "    - `=`을 기준으로 왼쪽은 변수, 오른쪽은 대입할 값\n",
    "    - 대입할 값으로 다음이 올 수 있다.\n",
    "        - Literal 값(값 표현식)\n",
    "        - 다른 변수\n",
    "        - 연산식\n",
    "    - 변수 초기화와 변수값 변경의 파이썬 구문은 동일하다. 변수를 처음 만들고 값을 대입하면 초기화이고 그 이후 할당하는 것들은 변경이 된다.\n",
    " "
   ]
  },
  {
   "cell_type": "markdown",
   "metadata": {
    "slideshow": {
     "slide_type": "fragment"
    }
   },
   "source": [
    "2. 여러 변수에 동일 한 값 대입\n",
    "    - a = b = c = 30"
   ]
  },
  {
   "cell_type": "markdown",
   "metadata": {
    "slideshow": {
     "slide_type": "fragment"
    }
   },
   "source": [
    "3. 여러 변수에 다른 값 대입을 한 구문으로 처리\n",
    "    - `a, b, c = 10, 20, 30`"
   ]
  },
  {
   "cell_type": "code",
   "execution_count": 35,
   "metadata": {},
   "outputs": [
    {
     "name": "stdout",
     "output_type": "stream",
     "text": [
      "홍길동\n",
      "이순신\n"
     ]
    }
   ],
   "source": [
    "print(name)\n",
    "name = \"이순신\" # 변수의 값을 변경\n",
    "print(name)"
   ]
  },
  {
   "cell_type": "code",
   "execution_count": 37,
   "metadata": {},
   "outputs": [
    {
     "name": "stdout",
     "output_type": "stream",
     "text": [
      "유관순\n"
     ]
    }
   ],
   "source": [
    "이름 = \"유관순\"  # 없는 변수에 값을 대입 ==> 변수 정의\n",
    "print(이름)"
   ]
  },
  {
   "cell_type": "code",
   "execution_count": 38,
   "metadata": {},
   "outputs": [
    {
     "name": "stdout",
     "output_type": "stream",
     "text": [
      "이순신\n"
     ]
    }
   ],
   "source": [
    "이름2 = name   #변수1 = 변수2  : 변수2의 값을 변수1에 대입\n",
    "print(이름2)"
   ]
  },
  {
   "cell_type": "code",
   "execution_count": 39,
   "metadata": {},
   "outputs": [
    {
     "name": "stdout",
     "output_type": "stream",
     "text": [
      "20 20 20\n"
     ]
    }
   ],
   "source": [
    "# 하나의 값을 여려변수에 대입\n",
    "# no1 = 20\n",
    "# no2 = 20\n",
    "# no3 = 20\n",
    "no1 = no2 = no3 = 20\n",
    "print(no1, no2, no3)"
   ]
  },
  {
   "cell_type": "code",
   "execution_count": 40,
   "metadata": {},
   "outputs": [
    {
     "name": "stdout",
     "output_type": "stream",
     "text": [
      "id-1111 1234 홍길동 30\n"
     ]
    }
   ],
   "source": [
    "# c_id = \"id-1111\"\n",
    "# c_pwd = '1234'\n",
    "# c_name = '홍길동'\n",
    "# c_age = 30\n",
    "\n",
    "\n",
    "c_id, c_pwd, c_name, c_age = \"id-1111\", \"1234\", \"홍길동\", 30\n",
    "print(c_id, c_pwd, c_name, c_age)"
   ]
  },
  {
   "cell_type": "code",
   "execution_count": null,
   "metadata": {},
   "outputs": [],
   "source": [
    "# control + /  주석 단축키"
   ]
  },
  {
   "cell_type": "code",
   "execution_count": 41,
   "metadata": {
    "scrolled": true,
    "slideshow": {
     "slide_type": "fragment"
    }
   },
   "outputs": [
    {
     "ename": "ValueError",
     "evalue": "not enough values to unpack (expected 3, got 2)",
     "output_type": "error",
     "traceback": [
      "\u001b[1;31m-------------------------------------------\u001b[0m",
      "\u001b[1;31mValueError\u001b[0mTraceback (most recent call last)",
      "Cell \u001b[1;32mIn[41], line 1\u001b[0m\n\u001b[1;32m----> 1\u001b[0m a, b, c \u001b[38;5;241m=\u001b[39m \u001b[38;5;241m10\u001b[39m, \u001b[38;5;241m20\u001b[39m\n",
      "\u001b[1;31mValueError\u001b[0m: not enough values to unpack (expected 3, got 2)"
     ]
    }
   ],
   "source": [
    "a, b, c = 10, 20  # 변수개수와 값의 개수는 동일해야 한다."
   ]
  },
  {
   "cell_type": "markdown",
   "metadata": {
    "slideshow": {
     "slide_type": "subslide"
    }
   },
   "source": [
    "4. 대입(할당) 연산자(Assignment operator)\n",
    "\n",
    "- 변수의 값을 그 변수와 다른 값을 연산한 결과로 변경한다.\n",
    "|연산자|예|동일연산|\n",
    "|:-|-|-|\n",
    "|=|x = 1||\n",
    "|+=|x += 1|x = x + 1|\t\n",
    "|-=|x -= 1|x = x - 1|\t\n",
    "|*=|x *= 1|x = x * 1|\t\n",
    "|/=|x /= 1|x = x / 1|\t\n",
    "|%=|x %= 1|x = x % 1|\t\n",
    "|//=|x //= 1|x = x // 1|\t\n",
    "|\\*\\*=|x \\*\\*= 1|x = x \\*\\* 1|"
   ]
  },
  {
   "cell_type": "code",
   "execution_count": 47,
   "metadata": {
    "slideshow": {
     "slide_type": "fragment"
    }
   },
   "outputs": [
    {
     "name": "stdout",
     "output_type": "stream",
     "text": [
      "1\n",
      "3\n",
      "-2\n"
     ]
    }
   ],
   "source": [
    "x = 1\n",
    "print(x)\n",
    "x += 2   # x = x + 2\n",
    "print(x)\n",
    "x -= 5  # x = x - 5\n",
    "print(x)"
   ]
  },
  {
   "cell_type": "code",
   "execution_count": 48,
   "metadata": {},
   "outputs": [],
   "source": [
    "x += 1  # 1씩 증가"
   ]
  },
  {
   "cell_type": "code",
   "execution_count": 50,
   "metadata": {},
   "outputs": [
    {
     "data": {
      "text/plain": [
       "1000000"
      ]
     },
     "execution_count": 50,
     "metadata": {},
     "output_type": "execute_result"
    }
   ],
   "source": [
    "y = 100\n",
    "y ** 3"
   ]
  },
  {
   "cell_type": "code",
   "execution_count": 51,
   "metadata": {},
   "outputs": [
    {
     "name": "stdout",
     "output_type": "stream",
     "text": [
      "10000\n"
     ]
    }
   ],
   "source": [
    "y **= 2  # y = y ** 2\n",
    "print(y)"
   ]
  },
  {
   "cell_type": "markdown",
   "metadata": {
    "slideshow": {
     "slide_type": "subslide"
    }
   },
   "source": [
    "### 변수값 조회\n",
    "- 값을 사용해야 하는 자리에 변수명을 표현하면된다.\n",
    "    - 변수명을 쓰면 그 변수가 가진 값을 조회해 사용한다."
   ]
  },
  {
   "cell_type": "code",
   "execution_count": 52,
   "metadata": {
    "slideshow": {
     "slide_type": "fragment"
    }
   },
   "outputs": [
    {
     "name": "stdout",
     "output_type": "stream",
     "text": [
      "30\n",
      "35\n"
     ]
    }
   ],
   "source": [
    "age = 30\n",
    "print(age)\n",
    "i = age + 5\n",
    "print(i)"
   ]
  },
  {
   "cell_type": "markdown",
   "metadata": {
    "slideshow": {
     "slide_type": "subslide"
    }
   },
   "source": [
    "## 변수를 메모리에서 제거\n",
    "\n",
    "메모리에서 변수(데이터 저장공간)을 제거할 때는 `del 변수명` 명령어를 사용한다."
   ]
  },
  {
   "cell_type": "code",
   "execution_count": 54,
   "metadata": {},
   "outputs": [
    {
     "name": "stdout",
     "output_type": "stream",
     "text": [
      "10\n",
      "None\n"
     ]
    }
   ],
   "source": [
    "age = 10\n",
    "print(age)\n",
    "age = None\n",
    "print(age)"
   ]
  },
  {
   "cell_type": "code",
   "execution_count": 55,
   "metadata": {
    "slideshow": {
     "slide_type": "fragment"
    }
   },
   "outputs": [
    {
     "ename": "NameError",
     "evalue": "name 'age' is not defined",
     "output_type": "error",
     "traceback": [
      "\u001b[1;31m-------------------------------------------\u001b[0m",
      "\u001b[1;31mNameError\u001b[0m Traceback (most recent call last)",
      "Cell \u001b[1;32mIn[55], line 2\u001b[0m\n\u001b[0;32m      1\u001b[0m \u001b[38;5;28;01mdel\u001b[39;00m age\n\u001b[1;32m----> 2\u001b[0m \u001b[38;5;28mprint\u001b[39m(\u001b[43mage\u001b[49m)\n",
      "\u001b[1;31mNameError\u001b[0m: name 'age' is not defined"
     ]
    }
   ],
   "source": [
    "del age\n",
    "print(age)"
   ]
  },
  {
   "cell_type": "markdown",
   "metadata": {
    "slideshow": {
     "slide_type": "slide"
    }
   },
   "source": [
    "# 데이터 타입 (Data Type)\n",
    "\n",
    "- 값들의 형태(type)에 따라 종류를 분류한 것\n",
    "- 데이터타입은 값을 표현하는 방식과 관련 연산자들을 익히도록 한다."
   ]
  },
  {
   "cell_type": "markdown",
   "metadata": {
    "slideshow": {
     "slide_type": "subslide"
    }
   },
   "source": [
    "## None 값\n",
    "- 아무 값도 없음을 나타내는 값"
   ]
  },
  {
   "cell_type": "code",
   "execution_count": null,
   "metadata": {
    "slideshow": {
     "slide_type": "fragment"
    }
   },
   "outputs": [],
   "source": []
  },
  {
   "cell_type": "markdown",
   "metadata": {
    "slideshow": {
     "slide_type": "slide"
    }
   },
   "source": [
    "## 숫자형(Numeric) - 정수, 실수\n",
    "\n",
    "- 정수(int)와 실수(float) 형이 있다.\n",
    "    - **정수 표현식**\n",
    "        - 10, 20, -1, -20, 0\n",
    "        - 16진수 표기\n",
    "            - 0x 로 시작 (0xAF29)\n",
    "        - 8진수 표기\n",
    "            - 0O 으로 시작 (0o71)\n",
    "    - **실수**\n",
    "        - 20.1, 0.123411, 15.2321598\n",
    "        - 지수표기법\n",
    "            - $5e7$ -> $5.0\\times10^7$\n",
    "            - $3e-7$ -> $3\\times10^{-7}$"
   ]
  },
  {
   "cell_type": "code",
   "execution_count": 3,
   "metadata": {
    "slideshow": {
     "slide_type": "fragment"
    }
   },
   "outputs": [
    {
     "name": "stdout",
     "output_type": "stream",
     "text": [
      "83\n",
      "43\n"
     ]
    }
   ],
   "source": [
    "print(0x53)\n",
    "print(0o53)"
   ]
  },
  {
   "cell_type": "code",
   "execution_count": 6,
   "metadata": {},
   "outputs": [
    {
     "name": "stdout",
     "output_type": "stream",
     "text": [
      "500.0\n",
      "0.05\n"
     ]
    }
   ],
   "source": [
    "print(5e2)\n",
    "print(5e-2)"
   ]
  },
  {
   "cell_type": "code",
   "execution_count": 8,
   "metadata": {},
   "outputs": [
    {
     "name": "stdout",
     "output_type": "stream",
     "text": [
      "3.333\n"
     ]
    }
   ],
   "source": [
    "10/3\n",
    "print(round(10/3,3))"
   ]
  },
  {
   "cell_type": "markdown",
   "metadata": {
    "slideshow": {
     "slide_type": "subslide"
    }
   },
   "source": [
    "### 연산자\n",
    "<b style='font-size:1.2em'>산술연산자</b>\n",
    "\n",
    "|Operator(연산자)|설명|예|\n",
    "|-|-|-|\n",
    "|+|덧셈|x + y|\n",
    "|-|뺄셈|x - y|\n",
    "|*|곱셈|x * y|\n",
    "|/|나눗셈|x / y|\n",
    "|%|Modulus(나머지 나누기 연산자)|x % y|\n",
    "|//|Floor division(몫 나누기 연산자)|x // y|\n",
    "|**|제곱연산|x ** y|"
   ]
  },
  {
   "cell_type": "markdown",
   "metadata": {
    "slideshow": {
     "slide_type": "slide"
    }
   },
   "source": [
    "## 논리형(bool)\n",
    "- **참(True)과 거짓(False)을** 표현하는 데이터 타입\n",
    "    - 제어문에서 많이 사용된다.\n",
    "- 값 표현식\n",
    "    - True, False\n",
    "- bool 값이 들어가야 하는 구문에 다른 타입의 값을 작성하면 자동적으로 bool 타입으로 변환된다. (묵시적 형변환이라 한다.)\n",
    "    - **0글자의 문자열, 숫자 0, None, 원소가 하나도 없는 자료구조는** False로 변환되고 그 이외는 True로 변환된다."
   ]
  },
  {
   "cell_type": "code",
   "execution_count": null,
   "metadata": {
    "slideshow": {
     "slide_type": "fragment"
    }
   },
   "outputs": [],
   "source": []
  },
  {
   "cell_type": "markdown",
   "metadata": {
    "slideshow": {
     "slide_type": "subslide"
    }
   },
   "source": [
    "- input(\\[label\\]) 함수\n",
    "    - 사용자로 부터 값을 입력받을 때 사용한다.\n",
    "    - 사용자의 입력을 기다렸다 사용자가 값을 입력하고 엔터를 치면 그 입력한 값을 읽어 반환한다.\n",
    "    - 어떤 값을 입력받을 것인지 Label을 문자열로 전달할 수 있다."
   ]
  },
  {
   "cell_type": "code",
   "execution_count": null,
   "metadata": {
    "slideshow": {
     "slide_type": "fragment"
    }
   },
   "outputs": [],
   "source": []
  },
  {
   "cell_type": "markdown",
   "metadata": {
    "slideshow": {
     "slide_type": "subslide"
    }
   },
   "source": [
    "### 논리형 관련 연산자\n",
    "<b style='font-size:1.2em'>비교 연산자</b>\n",
    "- 결과가 bool 타입\n",
    "- 기준은 왼쪽의 피연산자이다.\n",
    "|연산자|설명|예|\n",
    "|-|-|-|\n",
    "|==|같은가?|x == y|\t\n",
    "|!=|같지 않은가?|x != y|\t\n",
    "|>|x가 큰가?|x > y|\n",
    "|<|x가 작은가?|x < y|\t\n",
    "|>=|x가 크거나 같은가?|x >= y|\n",
    "|<=|x가 작거나 같은가?|x <= y|"
   ]
  },
  {
   "cell_type": "code",
   "execution_count": null,
   "metadata": {
    "slideshow": {
     "slide_type": "fragment"
    }
   },
   "outputs": [],
   "source": []
  },
  {
   "cell_type": "markdown",
   "metadata": {
    "slideshow": {
     "slide_type": "subslide"
    }
   },
   "source": [
    "<b style='font-size:1.2em'>논리 연산자</b>\n",
    "- 피연산자가 bool 타입이고 결과도 bool 타입이다.\n",
    "- &, |, ^ 기호를 연산자로 사용할 때는 피연산자를 ( )로 묶어 줘야 한다.\n",
    "|연산자|설명|예|\n",
    "|:-|-|-|\n",
    "|and, &|피연산자 모두 True이면 True를 하나라도 False이면 False를 반환.|x > 5 and  x < 10|\t\n",
    "|or, \\||피연산자 둘중 하나만 True이면 True를 둘다 False이면 False를 반환.|x > 5 or x < -4|\n",
    "|^|XOR 연산. 피연산자가 다를 경우 True, 같으면 False를 반환.|(x > 5) ^ (x < 4)|\n",
    "|not|단항연산자. 결과를 뒤바꾸어 반환. True는 False로 False는 True로 반환.|not(x < 5 and x < 10)|"
   ]
  },
  {
   "cell_type": "code",
   "execution_count": null,
   "metadata": {
    "slideshow": {
     "slide_type": "fragment"
    }
   },
   "outputs": [],
   "source": []
  },
  {
   "cell_type": "markdown",
   "metadata": {
    "slideshow": {
     "slide_type": "subslide"
    }
   },
   "source": [
    "<b style='font-size:1.2em'>조건 연산자</b>\n",
    "\n",
    "\n",
    "True일때 결과값 <b style='color:purple'>if</b> 조건식 <b style='color:purple'>else</b> False일때 결과값\n",
    "- 조건식이 True이면 앞의 값을 False이면 뒤의 값을 연산결과로 반환한다."
   ]
  },
  {
   "cell_type": "code",
   "execution_count": null,
   "metadata": {
    "slideshow": {
     "slide_type": "fragment"
    }
   },
   "outputs": [],
   "source": []
  },
  {
   "cell_type": "markdown",
   "metadata": {
    "slideshow": {
     "slide_type": "slide"
    }
   },
   "source": [
    "## 문자열 (string)\n",
    "\n",
    "- 0글자 이상의 문자열을 표현한다.\n",
    "- 파이썬 3.0 부터는 유니코드 문자열을 지원하므로 영문자 뿐 아니라 모든 나라의 철자들을 기본으로 사용할 수 있다.\n",
    "- 문자열 표현식\n",
    "    - **작은 따옴표 또는 큰 따옴표**로 감싼다.\n",
    "    - 여러줄 문자열(Multiline string)은 **3개 짜리 작은따옴표 또는 큰따옴표**로 감싼다.\n",
    "        - 문자열 데이터에 `엔터`가 들어갈 경우 편리하다.\n",
    "    - Escape 문자\n",
    "        - 키보드에는 있지만 글자로 표현할 수 없는 문자들을 표현할 때 사용한다. `예) 엔터, Tab, Back space 등`\n",
    "        - 사용하는 글자가 원래 의미에서 벗어나(escape) 다른 의미로 쓰인다고 해서 escape문자라고 한다.\n",
    "        - 파이썬 뿐 아니라 모든 프로그래밍 언어에서 사용하는 표준이다.\n",
    "        - 표현: `\\문자` \n",
    "  "
   ]
  },
  {
   "cell_type": "markdown",
   "metadata": {
    "slideshow": {
     "slide_type": "fragment"
    }
   },
   "source": [
    "      \n",
    "        \n",
    "<b style='font-size:1.2em'>주요 Escape 문자</b>\n",
    "\n",
    "|Escape문자|설명|\n",
    "|-|-|\n",
    "|\\n|엔터|\n",
    "|\\t|Tab|\n",
    "|\\b|Backspace|\n",
    "|\\\\\\\\|\\\\|\n",
    "|\\\\\\\"|\"|\n",
    "|\\\\\\'|'|\n",
    "\n",
    "\n",
    ">- r-string (raw string)\n",
    ">  - 문자열 앞에 r 접두어를 붙인다. (raw) \n",
    ">  - escape 문자구분자인 \\를 무시하여 escape 문자로 변환하지 않고 작성한 그대로 사용한다.\n",
    ">  - ex) r\"c:\\test\\example\\a.txt\"\n",
    "        "
   ]
  },
  {
   "cell_type": "code",
   "execution_count": null,
   "metadata": {
    "slideshow": {
     "slide_type": "fragment"
    }
   },
   "outputs": [],
   "source": []
  },
  {
   "cell_type": "markdown",
   "metadata": {
    "slideshow": {
     "slide_type": "subslide"
    }
   },
   "source": [
    "<b style='font-size:1.2em'>문자열 연산자</b>\n",
    "- 문자열 + 문자열\n",
    "    - 두 문자열을 합친다.\n",
    "    - 문자열은 문자열과만 `+` 연산을 할 수 있다. 다른 타입과 합칠 경우 다른 타입을 문자열로 변환한 뒤 연산해야 한다. (str() 함수이용)"
   ]
  },
  {
   "cell_type": "code",
   "execution_count": null,
   "metadata": {
    "slideshow": {
     "slide_type": "fragment"
    }
   },
   "outputs": [],
   "source": []
  },
  {
   "cell_type": "markdown",
   "metadata": {
    "slideshow": {
     "slide_type": "fragment"
    }
   },
   "source": [
    "- 문자열 * 정수\n",
    "    - 문자열을 정수번 반복해서 합친다."
   ]
  },
  {
   "cell_type": "code",
   "execution_count": null,
   "metadata": {
    "slideshow": {
     "slide_type": "fragment"
    }
   },
   "outputs": [],
   "source": []
  },
  {
   "cell_type": "markdown",
   "metadata": {
    "slideshow": {
     "slide_type": "fragment"
    }
   },
   "source": [
    "- `in`, `not in`\n",
    "    - 문자열A in 문자열B\n",
    "        - 문자열A가 문자열B에 **있**으면 True, 없으면 False를 반환\n",
    "    - 문자열A not in 문자열B\n",
    "        - 문자열A가 문자열B에 **없**으면 True, 있으면 False를 반환"
   ]
  },
  {
   "cell_type": "code",
   "execution_count": null,
   "metadata": {
    "slideshow": {
     "slide_type": "fragment"
    }
   },
   "outputs": [],
   "source": []
  },
  {
   "cell_type": "markdown",
   "metadata": {
    "slideshow": {
     "slide_type": "fragment"
    }
   },
   "source": [
    "- len(문자열)\n",
    "    - 글자수를 반환한다."
   ]
  },
  {
   "cell_type": "code",
   "execution_count": null,
   "metadata": {
    "slideshow": {
     "slide_type": "fragment"
    }
   },
   "outputs": [],
   "source": []
  },
  {
   "cell_type": "markdown",
   "metadata": {
    "slideshow": {
     "slide_type": "subslide"
    }
   },
   "source": [
    "### Indexing과 Slicing\n",
    "\n",
    "- Indexer 연산자\n",
    "    - `집합형태[식별자]`\n",
    "        - 여러개의 값이 모여있는 집합 형태의 데이터에서 그 중 일부를 조회할 때 사용하는 연산자.\n",
    "            - 문자열, 자료구조 등 다양한 데이터타입에 사용한다.\n",
    "        - 조회하고자 하는 일부를 식별할 수 있는 `식별자`를 \\[\\] 안에 넣어 조회한다.\n",
    "- indexing과 slicing\n",
    "    - **indexing**: 집합내에서 하나의 값을 조회하는 방법\n",
    "    - **slicing**: 집합내에서 여러개의 값들을 범위로 지정해 조회하는 방법"
   ]
  },
  {
   "cell_type": "markdown",
   "metadata": {
    "slideshow": {
     "slide_type": "subslide"
    }
   },
   "source": [
    "### Indexing과 Slicing을 이용해 문자열내의 일부 문자들(sub string) 조회\n",
    "- **문자열 내의 각 문자들은 식별자로 index를 가진다.**\n",
    "    - 양수 index\n",
    "        - 문자열 앞에서 부터 붙여주는 index\n",
    "        - 0부터 1씩 증가하는 값을 붙여준다.\n",
    "        - **앞에서 몇번째 글자 식**으로 조회할 때 사용한다.\n",
    "    - 음수 index\n",
    "        - 문자열 맨 뒤에서 부터 붙여주는 index\n",
    "        - -1 에서 1씩 감소하는 값을 붙여준다.\n",
    "        - **뒤에서 몇번째 글자 식**으로 조회할 때 사용한다.\n",
    "    - 모든 문자는 양수/음수 index 두개를 가진다.\n",
    "    ![index](images/ch02_01.png)"
   ]
  },
  {
   "cell_type": "markdown",
   "metadata": {
    "slideshow": {
     "slide_type": "subslide"
    }
   },
   "source": [
    "#### Indexing\n",
    "- 문자열\\[index\\]\n",
    "    - index의 문자를 조회\n",
    "    - 변경은 안된다.\n",
    "        - 문자열 값 안의 일부를 변경할 수 없다.\n",
    "        - 문자열처럼 내부의 값을 변경할 수 없는 데이터 타입을 불변(Immutable)이라고 한다. "
   ]
  },
  {
   "cell_type": "code",
   "execution_count": null,
   "metadata": {
    "slideshow": {
     "slide_type": "fragment"
    }
   },
   "outputs": [],
   "source": []
  },
  {
   "cell_type": "markdown",
   "metadata": {
    "slideshow": {
     "slide_type": "fragment"
    }
   },
   "source": [
    "#### Slicing\n",
    "- 기본구문: **문자열 \\[ 시작 index : 종료 index : 간격\\]**\n",
    "    - 시작 index ~ (종료 index – 1)\n",
    "    - 간격을 지정하면 간격만큼 index를 증/감한다. (생략 시 1이 기본 간격)\n",
    "- **0번 index 부터 조회 할 경우 시작 index는 생략가능**\n",
    "    - str_value \\[ : 5\\] => 0 ~ 4 까지 조회\n",
    "- **마지막 index까지 (끝까지) 조회 할 경우 종료 index는 생략 가능**\n",
    "    - str_value\\[2 : \\] => 2번 index 에서 끝까지\n",
    "- **명시적으로 간격을 줄 경우**\n",
    "    - str_value\\[ : : 3 \\] => 0, 3, 6, 9.. index의 값 조회\n",
    "    - str_value\\[1 : 9 : 2\\] => 1, 3, 5, 7 index의 값 조회\n",
    "- **시작 index > 종료 index, 간격을 음수로 하면 역으로 반환한다.(Reverse)**\n",
    "    - str_value\\[5: 1: -1\\] => 5, 4, 3, 2 index의 값 조회\n",
    "    - str_value\\[: : -1\\]  => 마지막 index ~ 0번 index 까지 의미. Reverse 한다."
   ]
  },
  {
   "cell_type": "code",
   "execution_count": null,
   "metadata": {
    "slideshow": {
     "slide_type": "fragment"
    }
   },
   "outputs": [],
   "source": []
  },
  {
   "cell_type": "markdown",
   "metadata": {
    "slideshow": {
     "slide_type": "slide"
    }
   },
   "source": [
    "### Format string (형식문자열) 생성\n",
    "- 문자열에 문장 형식/구성/Layout을  미리 만들어 놓고 값은 나중에 대입하는 방식으로 문자열을 만드는 것\n",
    "    - 여러 문자열이 같은 Layer에 특정 값들만 바뀌는 경우 사용한다.\n",
    "        - 이름 : XXX 나이 : XXX 성별 : XXX  \n",
    "        - 기본 형식은 같은데 XXX에 들어갈 값들은 그때 그때 다를 경우 사용\n",
    "1. format() 함수 이용\n",
    "    - 문자열을 만들 때 값을 나중에 넣을 위치 { } 로 표시하고 format() 메소드에서 { }에 들어갈 값을 순서대로 넣는다.\n",
    "\n",
    "> 값을 넣어줄 자리를 지정하는 것을 **placeholder** 라고 한다."
   ]
  },
  {
   "cell_type": "code",
   "execution_count": 11,
   "metadata": {
    "slideshow": {
     "slide_type": "fragment"
    }
   },
   "outputs": [
    {
     "name": "stdout",
     "output_type": "stream",
     "text": [
      "name : 홍길동\n",
      "age : 20\n",
      "address : SEOUL\n",
      "height : 182.76\n",
      "weight : 82.8\n"
     ]
    }
   ],
   "source": [
    "name,age,address,height,weight=\"홍길동\",20,\"SEOUL\",182.76,82.8\n",
    "layout = \"Name : {}\\nAge : {}\\nAddress : {}\\nHeight : {}\\nWeight : {}\"\n",
    "info= layout.format(name,age,address,height,weight)\n",
    "print(info)\n"
   ]
  },
  {
   "cell_type": "code",
   "execution_count": 19,
   "metadata": {},
   "outputs": [
    {
     "name": "stdout",
     "output_type": "stream",
     "text": [
      "name : SON\n",
      "age : 32\n",
      "address : LONDON\n",
      "height : 184.76\n",
      "weight : 85.888\n"
     ]
    }
   ],
   "source": [
    "name2,age2,address2,height2,weight2=\"SON\",32,\"LONDON\",184.76,85.8\n",
    "info2= layout.format(name2,age2,address2,height2,weight2)\n",
    "print(info2)"
   ]
  },
  {
   "cell_type": "markdown",
   "metadata": {
    "slideshow": {
     "slide_type": "subslide"
    }
   },
   "source": [
    "2. % value 사용\n",
    "    - 타입을 지정하는 % value를 이용해 값을 넣어줄 자리를 지정한다.\n",
    "    - format 문자열과 넣어줄 값은 % 로 구분한다.\n",
    "    \n",
    "|% value|설명|\n",
    "|-|-|\n",
    "|%s|string|\n",
    "|%d|int-정수|\n",
    "|%f|float-실수|\n",
    "|%%|%|\n",
    "\n",
    "실수는 소수점자릿수를 6자리로 맞추기 때문에 정밀도를 표현하는 표현식을 지정하는 것이 좋다. `ex) %.2f`"
   ]
  },
  {
   "cell_type": "code",
   "execution_count": 20,
   "metadata": {
    "slideshow": {
     "slide_type": "fragment"
    }
   },
   "outputs": [
    {
     "name": "stdout",
     "output_type": "stream",
     "text": [
      "Name : SON , Age : 32 , Weight :85.888\n"
     ]
    }
   ],
   "source": [
    "layout2= \"Name : %s , Age : %d , Weight :%g\" #미리 정한 type에 맞게 넣어주어야한다.\n",
    "info3=layout2 % (name2,age2,weight2)\n",
    "print(info3)"
   ]
  },
  {
   "cell_type": "markdown",
   "metadata": {
    "slideshow": {
     "slide_type": "subslide"
    }
   },
   "source": [
    "3. f-string (format string)\n",
    "    - 파이썬 3.6에서 추가된 형식\n",
    "    - 문자열 앞에 접두어 `f`를 사용한다.\n",
    "    - 값을 넣을 자리에 {변수명} 을 이용해 변수가 가진 값을 문자열에 추가한다."
   ]
  },
  {
   "cell_type": "code",
   "execution_count": 21,
   "metadata": {
    "slideshow": {
     "slide_type": "fragment"
    }
   },
   "outputs": [
    {
     "name": "stdout",
     "output_type": "stream",
     "text": [
      "Name:홍길동, Age:20, Height:182.76\n"
     ]
    }
   ],
   "source": [
    "info4=f'Name:{name}, Age:{age}, Height:{height}'\n",
    "print(info4)"
   ]
  },
  {
   "cell_type": "markdown",
   "metadata": {
    "slideshow": {
     "slide_type": "slide"
    }
   },
   "source": [
    "### string 주요 메소드\n",
    "\n",
    "|메소드|설명|\n",
    "|-|-|\n",
    "|split(구분문자열)|구분 문자열을 기준으로 나눈다.|\n",
    "|strip(), lstrip(), rstrip()|앞뒤(strip) 앞(lstrip) 뒤(rstrip) 공백 제거|\n",
    "|replace('바꿀 문자열', '새문자열')|바꿀 문자열을 새문자열로 변경|\n",
    "|count('세려는 문자열')|string안에 세려는 문자열이 몇개 있는지 반환|\n",
    "|index(문자열), find(문자열)|문자열이 몇번째 index에 있는지 반환|\n",
    "|upper(), lower()|모든 글자를 대문자(upper), 소문자(lower)로 변환|\n",
    "|capitalize()|문자열의 첫글자를 대문자로 변환|\n",
    "|islower(), isupper()|문자열이 모두 소문자(islower), 대문자(isupper)이면 True 아니면 False를 반환|\n",
    "|startswith(\"문자열\"), endswith(\"문자열\")|문자열로 시작하는지/끝나는지 여부 반환|"
   ]
  },
  {
   "cell_type": "code",
   "execution_count": 6,
   "metadata": {
    "slideshow": {
     "slide_type": "fragment"
    }
   },
   "outputs": [
    {
     "name": "stdout",
     "output_type": "stream",
     "text": [
      "['컴퓨터', '모니터', 'RAM', '키보드']\n"
     ]
    }
   ],
   "source": [
    "s= \"컴퓨터 모니터 RAM 키보드\"\n",
    "result = s.split() #공백 기준이 default 그 외 구분자는 표시 필요\n",
    "print(result)"
   ]
  },
  {
   "cell_type": "code",
   "execution_count": 9,
   "metadata": {},
   "outputs": [
    {
     "name": "stdout",
     "output_type": "stream",
     "text": [
      "10\n",
      "6\n",
      "yuseok  \n",
      "  yuseok\n"
     ]
    }
   ],
   "source": [
    "name= \"  yuseok  \"\n",
    "print(len(name))\n",
    "print(len(name.strip()))\n",
    "print(name.lstrip())\n",
    "print(name.rstrip())"
   ]
  },
  {
   "cell_type": "code",
   "execution_count": 13,
   "metadata": {},
   "outputs": [
    {
     "name": "stdout",
     "output_type": "stream",
     "text": [
      "컴퓨터,모니터,RAM,키보드\n",
      "3\n"
     ]
    }
   ],
   "source": [
    "result=s.replace(' ',',')\n",
    "print(result)\n",
    "cnt=s.count(\",\")\n",
    "print(cnt)"
   ]
  },
  {
   "cell_type": "code",
   "execution_count": 16,
   "metadata": {},
   "outputs": [
    {
     "ename": "ValueError",
     "evalue": "substring not found",
     "output_type": "error",
     "traceback": [
      "\u001b[1;31m---------------------------------------------------------------------------\u001b[0m",
      "\u001b[1;31mValueError\u001b[0m                                Traceback (most recent call last)",
      "Cell \u001b[1;32mIn[16], line 3\u001b[0m\n\u001b[0;32m      1\u001b[0m \u001b[38;5;66;03m#index는 존재 안하면 error를 return , find는 존재 안하면 none return\u001b[39;00m\n\u001b[0;32m      2\u001b[0m idx\u001b[38;5;241m=\u001b[39ms\u001b[38;5;241m.\u001b[39mindex(\u001b[38;5;124m\"\u001b[39m\u001b[38;5;124m,\u001b[39m\u001b[38;5;124m\"\u001b[39m)\n\u001b[1;32m----> 3\u001b[0m l\u001b[38;5;241m=\u001b[39m\u001b[43ms\u001b[49m\u001b[38;5;241;43m.\u001b[39;49m\u001b[43mindex\u001b[49m\u001b[43m(\u001b[49m\u001b[38;5;124;43m\"\u001b[39;49m\u001b[38;5;124;43mabc\u001b[39;49m\u001b[38;5;124;43m\"\u001b[39;49m\u001b[43m)\u001b[49m\n\u001b[0;32m      4\u001b[0m l\n\u001b[0;32m      5\u001b[0m \u001b[38;5;28mprint\u001b[39m(idx)\n",
      "\u001b[1;31mValueError\u001b[0m: substring not found"
     ]
    }
   ],
   "source": [
    "#index는 존재 안하면 error를 return , find는 존재 안하면 none return\n",
    "idx=s.index(\",\")\n",
    "l=s.index(\"abc\")\n",
    "l\n",
    "print(idx)\n",
    "fnd=s.find(\",\")\n",
    "f=s.find(\"abc\") # 없으면 -1 반환\n",
    "f\n",
    "print(fnd)"
   ]
  },
  {
   "cell_type": "code",
   "execution_count": 18,
   "metadata": {},
   "outputs": [
    {
     "name": "stdout",
     "output_type": "stream",
     "text": [
      "Hello world. seoul busan\n"
     ]
    }
   ],
   "source": [
    "s2=\"hello world. seoul busan\"\n",
    "print(s2.capitalize()) #문장의 나뉨 같은건 모르고 그냥 첫단어만 대문자로"
   ]
  },
  {
   "cell_type": "code",
   "execution_count": 22,
   "metadata": {},
   "outputs": [
    {
     "data": {
      "text/plain": [
       "True"
      ]
     },
     "execution_count": 22,
     "metadata": {},
     "output_type": "execute_result"
    }
   ],
   "source": [
    "url=\"https://www.naver.com\"\n",
    "url.startswith(\"https\")"
   ]
  },
  {
   "cell_type": "code",
   "execution_count": 23,
   "metadata": {},
   "outputs": [
    {
     "data": {
      "text/plain": [
       "True"
      ]
     },
     "execution_count": 23,
     "metadata": {},
     "output_type": "execute_result"
    }
   ],
   "source": [
    "url.endswith(\".com\")"
   ]
  },
  {
   "cell_type": "code",
   "execution_count": 24,
   "metadata": {},
   "outputs": [
    {
     "data": {
      "text/plain": [
       "False"
      ]
     },
     "execution_count": 24,
     "metadata": {},
     "output_type": "execute_result"
    }
   ],
   "source": [
    "url.endswith(\".kr\")"
   ]
  },
  {
   "cell_type": "code",
   "execution_count": null,
   "metadata": {},
   "outputs": [],
   "source": []
  },
  {
   "cell_type": "markdown",
   "metadata": {
    "slideshow": {
     "slide_type": "slide"
    }
   },
   "source": [
    "## 데이터 타입 변환 (형변환) 함수\n",
    "- 값의 데이터타입을 확인하는 함수\n",
    "    - type(값)\n",
    "- 정수로 변환\n",
    "    - int(value)\n",
    "- 실수로 변환\n",
    "    - float(value)\n",
    "- 문자열로 변환\n",
    "    - str(value)\n",
    "- 논리형으로 변환\n",
    "    - bool(value)"
   ]
  },
  {
   "cell_type": "code",
   "execution_count": null,
   "metadata": {
    "slideshow": {
     "slide_type": "fragment"
    }
   },
   "outputs": [],
   "source": []
  },
  {
   "cell_type": "markdown",
   "metadata": {
    "slideshow": {
     "slide_type": "slide"
    }
   },
   "source": [
    "## 동적타입 언어\n",
    "- 변수가 가질 수 있는 값의 타입을 고정하지 않는다. 그래서 같은 변수에 서로 다른 타입의 값을 저장할 수 있다.\n",
    "- 자유도는 높지만 프로그램의 규모가 커지면 오류의 원인이 될 수 있다. \n",
    "- 파이썬은 동적 타입 언어이다.\n",
    "\n",
    "> - **정적 타입 언어**\n",
    ">     - 변수를 선언할 때 그 변수에 저장할 수 있는 값의 타입을 고정시킨다."
   ]
  },
  {
   "cell_type": "code",
   "execution_count": null,
   "metadata": {
    "slideshow": {
     "slide_type": "fragment"
    }
   },
   "outputs": [],
   "source": []
  },
  {
   "cell_type": "markdown",
   "metadata": {
    "slideshow": {
     "slide_type": "skip"
    }
   },
   "source": [
    "# TODO"
   ]
  },
  {
   "cell_type": "code",
   "execution_count": null,
   "metadata": {
    "slideshow": {
     "slide_type": "skip"
    }
   },
   "outputs": [],
   "source": [
    "#1. 주민번호 \"901211-1027213\"의 앞 6자리만 조회해서 출력하시오.\n",
    "\n",
    "\n",
    "#2. \"안녕하세요\" 를 10번 출력하시오.\n",
    "\n",
    "\n",
    "#3. 다음 문자열의 글자수를 출력하시오.\n",
    "str_value = \"akdlclkdkdlelql39du7마구0ㅌ\" \n",
    "\n",
    "\n",
    "#4.\n",
    "name=\"TV\"\n",
    "price=300000\n",
    "maker = \"LG\"\n",
    "# 위 변수의 값을 다음과 같은 형태로 출력하시오.\n",
    "#\"제품명 : TV, 가격 : 300000, 제조사 : LG\"\n",
    "\n",
    "\n",
    "#5.\n",
    "fruits = \"사과 복숭아 귤 배\"\n",
    "# 위 fruits에 \"수박\"이 있는지 확인하는 코드를 작성하시오.\n",
    "\n",
    "\n",
    "#6.\n",
    "str_value=\"aldkjaldjfalfjlksajfladlkaalalkdjfa\"\n",
    "# str_value 문자열안에 a가 몇개 있는지 출력하시오.\n",
    "\n",
    "#7. 두개의 정수를 입력받아서 곱한 결과를 출력하는 코드를 작성하세요."
   ]
  }
 ],
 "metadata": {
  "kernelspec": {
   "display_name": "Python 3 (ipykernel)",
   "language": "python",
   "name": "python3"
  },
  "language_info": {
   "codemirror_mode": {
    "name": "ipython",
    "version": 3
   },
   "file_extension": ".py",
   "mimetype": "text/x-python",
   "name": "python",
   "nbconvert_exporter": "python",
   "pygments_lexer": "ipython3",
   "version": "3.10.9"
  },
  "toc": {
   "base_numbering": 1,
   "nav_menu": {},
   "number_sections": true,
   "sideBar": true,
   "skip_h1_title": false,
   "title_cell": "Table of Contents",
   "title_sidebar": "Contents",
   "toc_cell": false,
   "toc_position": {
    "height": "1005.33px",
    "left": "95px",
    "top": "112.233px",
    "width": "512px"
   },
   "toc_section_display": true,
   "toc_window_display": false
  },
  "varInspector": {
   "cols": {
    "lenName": 16,
    "lenType": 16,
    "lenVar": 40
   },
   "kernels_config": {
    "python": {
     "delete_cmd_postfix": "",
     "delete_cmd_prefix": "del ",
     "library": "var_list.py",
     "varRefreshCmd": "print(var_dic_list())"
    },
    "r": {
     "delete_cmd_postfix": ") ",
     "delete_cmd_prefix": "rm(",
     "library": "var_list.r",
     "varRefreshCmd": "cat(var_dic_list()) "
    }
   },
   "types_to_exclude": [
    "module",
    "function",
    "builtin_function_or_method",
    "instance",
    "_Feature"
   ],
   "window_display": false
  }
 },
 "nbformat": 4,
 "nbformat_minor": 4
}
