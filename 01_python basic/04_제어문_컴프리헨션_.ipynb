{
 "cells": [
  {
   "cell_type": "markdown",
   "id": "8c49cd8e",
   "metadata": {
    "slideshow": {
     "slide_type": "slide"
    }
   },
   "source": [
    "# 제어문(Control flow statement)\n",
    "기본적으로 프로그램은 순차구조를 가진다. 즉 작성한 순서대로 실행이 된다.  \n",
    "이런 실행흐름을 다른 순서로 제어하기 위한 구문을 만드는 문법이 제어문이다.  \n",
    "제어문은 **조건문** 과 **반복문** 두가지 문법이 있다.\n",
    "- 조건문\n",
    "    - if 문\n",
    "- 반복문\n",
    "    - while 문\n",
    "    - for in 문"
   ]
  },
  {
   "cell_type": "markdown",
   "id": "92c502ce",
   "metadata": {
    "slideshow": {
     "slide_type": "slide"
    }
   },
   "source": [
    "# 조건문/분기문 (conditional statement)\n",
    "- 프로그램이 명령문들을 실행하는 도중 특정 순서에서 **조건에 따라 흐름의 나눠져야 하는 경우 사용한다**\n",
    "- 파이썬은 조건문으로 **if문**이 있다.\n",
    "\n",
    "![조건문](images/ch03_01.png)\n",
    "\n",
    "<center>입력 받은 a 의 값이 0인지 여부에 따라 두가지 흐름으로 분기된다.</center>\n"
   ]
  },
  {
   "cell_type": "markdown",
   "id": "2a3c1835",
   "metadata": {
    "slideshow": {
     "slide_type": "subslide"
    }
   },
   "source": [
    "## 구문\n",
    "\n",
    "- 조건이 True일 경우만 특정 구문들을 실행 하는 조건문.\n",
    "```python\n",
    "if 조건:    # 조건은 bool 표현식을 기술한다. 조건선언 다음에 : 으로 선언해서 코드블록을 구분한다.\n",
    "    명령문1  # 조건이 True이면 실행할 구문들을 코드블럭에 기술한다.\n",
    "    명령문2  # 코드 블록은 들여쓰기를 이용해 묶어준다. 보통 공백 4칸으로 들여쓰기를 한다.\n",
    "    ...\n",
    "```\n",
    "> <b style='font-size:1.2em'>파이썬의 코드블록(code block)</b>  \n",
    "> 코드블록이란 여러개의 실행명령문들을 묶어놓은 것을 말한다. \n",
    "> 파이썬에서는 코드블록을 작성할 때 들여쓰기를 이용해 묶어준다. 같은 칸만큼 들여쓰기를 한 명령문들이 같은 블록으로 묶인다.\n",
    "> 들여쓰기는 관례적으로 공백 4칸을 사용한다. "
   ]
  },
  {
   "cell_type": "code",
   "execution_count": 8,
   "id": "ffab0f13",
   "metadata": {},
   "outputs": [
    {
     "name": "stdout",
     "output_type": "stream",
     "text": [
      "종료\n"
     ]
    }
   ],
   "source": [
    "if True:\n",
    "    pass  # code block을 나중에 작성할 때 pass를 넣어준다. (pass대신 `...` 사용가능)\n",
    "print('종료')"
   ]
  },
  {
   "cell_type": "code",
   "execution_count": 7,
   "id": "5e50a491",
   "metadata": {},
   "outputs": [
    {
     "ename": "IndentationError",
     "evalue": "expected an indented block after 'if' statement on line 1 (3213115414.py, line 3)",
     "output_type": "error",
     "traceback": [
      "\u001b[1;36m  Cell \u001b[1;32mIn[7], line 3\u001b[1;36m\u001b[0m\n\u001b[1;33m    elif xxxx:\u001b[0m\n\u001b[1;37m    ^\u001b[0m\n\u001b[1;31mIndentationError\u001b[0m\u001b[1;31m:\u001b[0m expected an indented block after 'if' statement on line 1\n"
     ]
    }
   ],
   "source": [
    "if xxxx:\n",
    "    pass\n",
    "elif xxxx:\n",
    "    pass\n",
    "\n",
    "elif xxxx:\n",
    "    pass\n",
    "else:\n",
    "    pass"
   ]
  },
  {
   "cell_type": "code",
   "execution_count": 11,
   "id": "9aa311a5",
   "metadata": {
    "scrolled": true,
    "slideshow": {
     "slide_type": "fragment"
    }
   },
   "outputs": [
    {
     "name": "stdout",
     "output_type": "stream",
     "text": [
      "정수:0\n",
      "영입니다.\n",
      "Zero\n"
     ]
    }
   ],
   "source": [
    "#1. 정수를 입력받는다.\n",
    "num = input(\"정수:\")\n",
    "#2. 받은 정수가 0이면 \"영입니다.\"를 출력한다.\n",
    "if num == \"0\":\n",
    "    print(\"영입니다.\")\n",
    "    print(\"Zero\")"
   ]
  },
  {
   "cell_type": "code",
   "execution_count": 12,
   "id": "510a2927",
   "metadata": {},
   "outputs": [
    {
     "name": "stdout",
     "output_type": "stream",
     "text": [
      "정수:0\n",
      "0입니다.\n"
     ]
    }
   ],
   "source": [
    "num = input(\"정수:\")\n",
    "if num == \"0\":print(\"0입니다.\")"
   ]
  },
  {
   "cell_type": "markdown",
   "id": "09c79c35",
   "metadata": {
    "slideshow": {
     "slide_type": "subslide"
    }
   },
   "source": [
    "- 조건이 True일때 실행할 구문과 False일때 실행하는 조건문.\n",
    "```python\n",
    "if 조건:     \n",
    "    명령문1_1 # 조건이 True일 경우 실행할 구문들\n",
    "    명령문1_2\n",
    "    ...\n",
    "else:\n",
    "    명령문2_1 # 조건이 False일 경우 실행할 구문들\n",
    "    명령문2_2\n",
    "    ...\n",
    "```"
   ]
  },
  {
   "cell_type": "code",
   "execution_count": 16,
   "id": "3afafa6f",
   "metadata": {},
   "outputs": [
    {
     "name": "stdout",
     "output_type": "stream",
     "text": [
      "정수:sadflaskdfl;\n",
      "영이 아닙니다.-sadflaskdfl;\n",
      "종료\n"
     ]
    }
   ],
   "source": [
    "# 1. \n",
    "num = input(\"정수:\")\n",
    "# 2.\n",
    "if num == \"0\":\n",
    "    print(\"영입니다.\")  # 2-1\n",
    "else:\n",
    "    print(f\"영이 아닙니다.-{num}\") # 2-2\n",
    "\n",
    "# 3.\n",
    "print(\"종료\")"
   ]
  },
  {
   "cell_type": "code",
   "execution_count": 21,
   "id": "823aa6d0",
   "metadata": {},
   "outputs": [
    {
     "name": "stdout",
     "output_type": "stream",
     "text": [
      "ID:\n",
      "5글자 미만은 등록 할 수 없는 ID입니다.\n"
     ]
    }
   ],
   "source": [
    "# id를 입력받아서 사용할 수있는 id면 등록처리, 사용할수 없는 id면 등록거부\n",
    "#   사용가능경우: 5글자 이상\n",
    "id = input(\"ID:\")\n",
    "if len(id) >= 5:\n",
    "    print(\"등록가능한 ID입니다.\")\n",
    "else:\n",
    "    print(\"5글자 미만은 등록 할 수 없는 ID입니다.\")"
   ]
  },
  {
   "cell_type": "code",
   "execution_count": 24,
   "id": "da44e9f3",
   "metadata": {},
   "outputs": [
    {
     "name": "stdout",
     "output_type": "stream",
     "text": [
      "a\n"
     ]
    }
   ],
   "source": [
    "# 논리값이 들어와야 하는 자리에 다른 타입값이 들어오면 자동으로(묵시적으로) bool값으로 변환한다.\n",
    "if 0:  \n",
    "    print(\"a\")\n",
    "else:\n",
    "    print(\"b\")"
   ]
  },
  {
   "cell_type": "code",
   "execution_count": 30,
   "id": "f167a6f3",
   "metadata": {},
   "outputs": [
    {
     "data": {
      "text/plain": [
       "(False, True)"
      ]
     },
     "execution_count": 30,
     "metadata": {},
     "output_type": "execute_result"
    }
   ],
   "source": [
    "bool(\"\"), bool(\"a\")"
   ]
  },
  {
   "cell_type": "code",
   "execution_count": 35,
   "id": "e928e0be",
   "metadata": {},
   "outputs": [
    {
     "data": {
      "text/plain": [
       "(True, False, False)"
      ]
     },
     "execution_count": 35,
     "metadata": {},
     "output_type": "execute_result"
    }
   ],
   "source": [
    "bool([1,2]), bool([]), bool({})"
   ]
  },
  {
   "cell_type": "code",
   "execution_count": 32,
   "id": "a9712d11",
   "metadata": {},
   "outputs": [
    {
     "name": "stdout",
     "output_type": "stream",
     "text": [
      "글을입력세요a\n",
      "입력한 글: a\n"
     ]
    }
   ],
   "source": [
    "txt = input(\"글을입력세요\")\n",
    "# txt가 0글자면 \"입력하세요\"를 출력\n",
    "# if len(txt) == 0:\n",
    "if not txt:   # 빈문자열, 0, 0.0, None, 원소가 0개인 자료구조들 => False로 변환. 나머진 True\n",
    "    print(\"글을 입력하세요\")\n",
    "else:\n",
    "    print(f\"입력한 글: {txt}\")"
   ]
  },
  {
   "cell_type": "code",
   "execution_count": null,
   "id": "87b51956",
   "metadata": {
    "slideshow": {
     "slide_type": "fragment"
    }
   },
   "outputs": [],
   "source": []
  },
  {
   "cell_type": "markdown",
   "id": "621eae9a",
   "metadata": {
    "slideshow": {
     "slide_type": "subslide"
    }
   },
   "source": [
    "- 조건이 여러개인 조건문.\n",
    "```python\n",
    "if 조건1:\n",
    "    명령문1_1  # 조건1이 True일 경우 실행할 코드블록. \n",
    "    명령문1_2\n",
    "    ...\n",
    "elif 조건2:    # 다음 조건으로 앞의 조건들이 모드 False일 경우 비교한다.\n",
    "    명령문2_1  # 조건2가 True일 경우 실행할 코드블록.\n",
    "    명령문2_2\n",
    "    ...\n",
    "elif 조건3 :\n",
    "    명령문3_1\n",
    "    명령문3_2\n",
    "    ...\n",
    "else:         # 위의 모든 조건이 False일 경우 실행하는 코드블록. 생략 가능하다.\n",
    "    명령문4\n",
    "```"
   ]
  },
  {
   "cell_type": "code",
   "execution_count": 41,
   "id": "e734f5b8",
   "metadata": {},
   "outputs": [
    {
     "name": "stdout",
     "output_type": "stream",
     "text": [
      "정수:-30\n",
      "음수입니다.\n"
     ]
    }
   ],
   "source": [
    "num = int(input(\"정수:\"))\n",
    "if num > 0:\n",
    "    print(\"양수입니다.\")\n",
    "elif num == 0:\n",
    "    print(\"영입니다.\")\n",
    "# elif num < 0:\n",
    "else:\n",
    "    print(\"음수입니다.\")"
   ]
  },
  {
   "cell_type": "code",
   "execution_count": 43,
   "id": "221dd818",
   "metadata": {},
   "outputs": [
    {
     "name": "stdout",
     "output_type": "stream",
     "text": [
      "정수:1000000\n",
      "양수\n"
     ]
    }
   ],
   "source": [
    "num = int(input(\"정수:\"))\n",
    "if num > 0:\n",
    "    print(\"양수\")\n",
    "elif num > 100:\n",
    "    print(\"100 이상\")"
   ]
  },
  {
   "cell_type": "code",
   "execution_count": 49,
   "id": "b021991d",
   "metadata": {},
   "outputs": [
    {
     "name": "stdout",
     "output_type": "stream",
     "text": [
      "정수:-30\n"
     ]
    }
   ],
   "source": [
    "num = int(input(\"정수:\"))\n",
    "if num > 0:\n",
    "    print(\"양수\")\n",
    "    if num > 100:\n",
    "        print(\"100 이상\")"
   ]
  },
  {
   "cell_type": "code",
   "execution_count": 50,
   "id": "3d8d5019",
   "metadata": {},
   "outputs": [
    {
     "name": "stdout",
     "output_type": "stream",
     "text": [
      "정수:-30\n"
     ]
    }
   ],
   "source": [
    "# 1.\n",
    "num = int(input(\"정수:\"))\n",
    "# 2.\n",
    "if num > 0:\n",
    "    print(\"양수\")\n",
    "# 3.\n",
    "if num > 100:\n",
    "    print(\"100 이상\")"
   ]
  },
  {
   "cell_type": "markdown",
   "id": "2149b728",
   "metadata": {
    "slideshow": {
     "slide_type": "slide"
    }
   },
   "source": [
    "# 반복문 (Loop statement)\n",
    "\n",
    "특정 구문들을 반복해서 실행할 때 사용한다. 동일한 코드를 여러번 반복하거나 값이 일정하게 변하는 코드를 반복할 경우 사용한다.  \n",
    "단순 반복을 처리하는 **while문**과 iterable객체가 제공하는 값들을 반복 조회하는 **for in문** 두가지 문법이 있다.\n",
    "\n",
    "![반복문](images/ch03_02.png)\n",
    "<center>count의 값이 limit의 값보다 크거나 같을때 까지 count의 값을 1증가 후 출력하는 구문을 반복한다. </center>"
   ]
  },
  {
   "cell_type": "markdown",
   "id": "b4740a36",
   "metadata": {
    "slideshow": {
     "slide_type": "subslide"
    }
   },
   "source": [
    "## while문\n",
    "- 조건이 True인 동안 구문을 반복해서 실행한다.\n",
    "\n",
    "### 구문\n",
    "```python\n",
    "while 조건:       # 조건은 bool 표현식을 기술한다. 조건선언 다음에 : 으로 선언해서 코드블록을 구분한다\n",
    "    반복할 구문1  # 반복할 구문을 코드블록으로 작성한다.  \n",
    "    반복할 구문2\n",
    "    ...\n",
    "```"
   ]
  },
  {
   "cell_type": "code",
   "execution_count": 57,
   "id": "6b11bde6",
   "metadata": {
    "slideshow": {
     "slide_type": "fragment"
    }
   },
   "outputs": [
    {
     "name": "stdout",
     "output_type": "stream",
     "text": [
      "반복할 횟수:-10\n"
     ]
    }
   ],
   "source": [
    "limit = int(input(\"반복할 횟수:\"))\n",
    "count = 0   # 몇번째 반복인지 저장할 변수.\n",
    "while count < limit:\n",
    "    count += 1\n",
    "    print(count)"
   ]
  },
  {
   "cell_type": "code",
   "execution_count": null,
   "id": "02969616",
   "metadata": {
    "collapsed": true
   },
   "outputs": [
    {
     "name": "stdout",
     "output_type": "stream",
     "text": [
      "반복할 횟수:10\n",
      "0\n",
      "0\n",
      "0\n",
      "0\n",
      "0\n",
      "0\n",
      "0\n",
      "0\n",
      "0\n",
      "0\n",
      "0\n",
      "0\n",
      "0\n",
      "0\n",
      "0\n",
      "0\n",
      "0\n",
      "0\n",
      "0\n",
      "0\n",
      "0\n",
      "0\n",
      "0\n",
      "0\n",
      "0\n",
      "0\n",
      "0\n",
      "0\n",
      "0\n",
      "0\n",
      "0\n",
      "0\n",
      "0\n",
      "0\n",
      "0\n",
      "0\n",
      "0\n",
      "0\n",
      "0\n",
      "0\n",
      "0\n",
      "0\n",
      "0\n",
      "0\n",
      "0\n",
      "0\n",
      "0\n",
      "0\n",
      "0\n",
      "0\n",
      "0\n",
      "0\n",
      "0\n",
      "0\n",
      "0\n",
      "0\n",
      "0\n",
      "0\n",
      "0\n",
      "0\n",
      "0\n",
      "0\n",
      "0\n",
      "0\n",
      "0\n",
      "0\n",
      "0\n",
      "0\n",
      "0\n",
      "0\n",
      "0\n",
      "0\n",
      "0\n",
      "0\n",
      "0\n",
      "0\n",
      "0\n",
      "0\n",
      "0\n",
      "0\n",
      "0\n",
      "0\n",
      "0\n",
      "0\n",
      "0\n",
      "0\n",
      "0\n",
      "0\n",
      "0\n",
      "0\n",
      "0\n",
      "0\n",
      "0\n",
      "0\n",
      "0\n",
      "0\n",
      "0\n",
      "0\n",
      "0\n",
      "0\n",
      "0\n",
      "0\n",
      "0\n",
      "0\n",
      "0\n",
      "0\n",
      "0\n",
      "0\n",
      "0\n",
      "0\n",
      "0\n",
      "0\n",
      "0\n",
      "0\n",
      "0\n",
      "0\n",
      "0\n",
      "0\n",
      "0\n",
      "0\n",
      "0\n",
      "0\n",
      "0\n",
      "0\n",
      "0\n",
      "0\n",
      "0\n"
     ]
    }
   ],
   "source": [
    "# limit = int(input(\"반복할 횟수:\"))\n",
    "# count = 0   \n",
    "# while count < limit:\n",
    "# #     count += 1\n",
    "#     print(count)"
   ]
  },
  {
   "cell_type": "markdown",
   "id": "04f12e55",
   "metadata": {
    "slideshow": {
     "slide_type": "subslide"
    }
   },
   "source": [
    "## for  in 문\n",
    "- Iterable 객체를 순환조회하는 구문\n",
    "    - for in문은 Iterable 타입의 객체가 가지고 있는 값들을 각각 조회하여 처리하는 구문을 작성할 때 사용한다.\n",
    "\n",
    "> - Iterable\n",
    ">    - 반복가능한 객체. 반복문(for in)을 이용해 일련의 값들을 반복적으로 각각 제공하는 객체를 말한다. \n",
    ">    - 대표적으로 List, Tuple, Dictionary, Set, 문자열 등이 있다.\n",
    "\n",
    "### 구문\n",
    "```python\n",
    "for 변수 in Iterable: # for in 선언후 : 으로 선언부와 구현부를 나눈다.\n",
    "    반복구문          # Iterable이 반복시 제공하는 값을 가지는 \"변수\"를 이용해 값들을 처리하는 구문을 코드블록으로 작성한다.\n",
    "    반복구문\n",
    "```"
   ]
  },
  {
   "cell_type": "code",
   "execution_count": 16,
   "id": "da0ce0f6",
   "metadata": {
    "slideshow": {
     "slide_type": "fragment"
    }
   },
   "outputs": [
    {
     "data": {
      "text/plain": [
       "list_iterator"
      ]
     },
     "execution_count": 16,
     "metadata": {},
     "output_type": "execute_result"
    }
   ],
   "source": [
    "l = [1, 2, 3, 4, 5]  # 리스트 => iterable 타입\n",
    "l_iter = iter(l)\n",
    "type(l_iter)"
   ]
  },
  {
   "cell_type": "code",
   "execution_count": 10,
   "id": "587f40da",
   "metadata": {},
   "outputs": [
    {
     "name": "stdout",
     "output_type": "stream",
     "text": [
      "1 11\n"
     ]
    }
   ],
   "source": [
    "# 다음값 요청\n",
    "i = next(l_iter)\n",
    "print(i, i + 10)"
   ]
  },
  {
   "cell_type": "code",
   "execution_count": 11,
   "id": "d795df59",
   "metadata": {},
   "outputs": [
    {
     "name": "stdout",
     "output_type": "stream",
     "text": [
      "2 12\n"
     ]
    }
   ],
   "source": [
    "i = next(l_iter)\n",
    "print(i, i + 10)"
   ]
  },
  {
   "cell_type": "code",
   "execution_count": 12,
   "id": "6c16de7d",
   "metadata": {},
   "outputs": [
    {
     "name": "stdout",
     "output_type": "stream",
     "text": [
      "3 13\n"
     ]
    }
   ],
   "source": [
    "i = next(l_iter)\n",
    "print(i, i + 10)"
   ]
  },
  {
   "cell_type": "code",
   "execution_count": 13,
   "id": "9358cad7",
   "metadata": {},
   "outputs": [
    {
     "name": "stdout",
     "output_type": "stream",
     "text": [
      "4 14\n"
     ]
    }
   ],
   "source": [
    "i = next(l_iter)\n",
    "print(i, i + 10)"
   ]
  },
  {
   "cell_type": "code",
   "execution_count": 14,
   "id": "935a4a65",
   "metadata": {},
   "outputs": [
    {
     "name": "stdout",
     "output_type": "stream",
     "text": [
      "5 15\n"
     ]
    }
   ],
   "source": [
    "i = next(l_iter)\n",
    "print(i, i + 10)"
   ]
  },
  {
   "cell_type": "code",
   "execution_count": 15,
   "id": "cae150f3",
   "metadata": {},
   "outputs": [
    {
     "ename": "StopIteration",
     "evalue": "",
     "output_type": "error",
     "traceback": [
      "\u001b[1;31m---------------------------------------------------------------------------\u001b[0m",
      "\u001b[1;31mStopIteration\u001b[0m                             Traceback (most recent call last)",
      "Cell \u001b[1;32mIn[15], line 1\u001b[0m\n\u001b[1;32m----> 1\u001b[0m i \u001b[38;5;241m=\u001b[39m \u001b[38;5;28;43mnext\u001b[39;49m\u001b[43m(\u001b[49m\u001b[43ml_iter\u001b[49m\u001b[43m)\u001b[49m\n\u001b[0;32m      2\u001b[0m \u001b[38;5;28mprint\u001b[39m(i, i \u001b[38;5;241m+\u001b[39m \u001b[38;5;241m10\u001b[39m)\n",
      "\u001b[1;31mStopIteration\u001b[0m: "
     ]
    }
   ],
   "source": [
    "i = next(l_iter) # StopIteration 이름의 에러가 발생=> 더줄값 없다.\n",
    "print(i, i + 10)"
   ]
  },
  {
   "cell_type": "code",
   "execution_count": 18,
   "id": "e6f47221",
   "metadata": {
    "collapsed": true
   },
   "outputs": [
    {
     "name": "stdout",
     "output_type": "stream",
     "text": [
      "1 11\n",
      "2 12\n",
      "3 13\n",
      "4 14\n",
      "5 15\n"
     ]
    },
    {
     "ename": "StopIteration",
     "evalue": "",
     "output_type": "error",
     "traceback": [
      "\u001b[1;31m---------------------------------------------------------------------------\u001b[0m",
      "\u001b[1;31mStopIteration\u001b[0m                             Traceback (most recent call last)",
      "Cell \u001b[1;32mIn[18], line 3\u001b[0m\n\u001b[0;32m      1\u001b[0m l_iter2 \u001b[38;5;241m=\u001b[39m \u001b[38;5;28miter\u001b[39m(l)\n\u001b[0;32m      2\u001b[0m \u001b[38;5;28;01mwhile\u001b[39;00m \u001b[38;5;28;01mTrue\u001b[39;00m:\n\u001b[1;32m----> 3\u001b[0m     i \u001b[38;5;241m=\u001b[39m \u001b[38;5;28;43mnext\u001b[39;49m\u001b[43m(\u001b[49m\u001b[43ml_iter2\u001b[49m\u001b[43m)\u001b[49m \u001b[38;5;66;03m#다음값 요청\u001b[39;00m\n\u001b[0;32m      4\u001b[0m     \u001b[38;5;28mprint\u001b[39m(i, i \u001b[38;5;241m+\u001b[39m \u001b[38;5;241m10\u001b[39m)\n",
      "\u001b[1;31mStopIteration\u001b[0m: "
     ]
    }
   ],
   "source": [
    "l_iter2 = iter(l)\n",
    "while True:\n",
    "    i = next(l_iter2) #다음값 요청\n",
    "    print(i, i + 10)  #다음값 처리"
   ]
  },
  {
   "cell_type": "code",
   "execution_count": 20,
   "id": "25c92a8c",
   "metadata": {
    "collapsed": true
   },
   "outputs": [
    {
     "name": "stdout",
     "output_type": "stream",
     "text": [
      "다음값: 1\n",
      "다음값 처리한 결과: 11\n",
      "==================================================\n",
      "다음값: 2\n",
      "다음값 처리한 결과: 12\n",
      "==================================================\n",
      "다음값: 3\n",
      "다음값 처리한 결과: 13\n",
      "==================================================\n",
      "다음값: 4\n",
      "다음값 처리한 결과: 14\n",
      "==================================================\n",
      "다음값: 5\n",
      "다음값 처리한 결과: 15\n",
      "==================================================\n",
      "종료\n"
     ]
    }
   ],
   "source": [
    "# 일괄처리. ==> mapping(map)\n",
    "for i in l:     # for 다음값을저장할변수 in iterable(리스트):\n",
    "    #다음값을 처리할 코드\n",
    "    print(f\"다음값: {i}\")\n",
    "    print(f\"다음값 처리한 결과: {i + 10}\")\n",
    "    print(\"=\"*50)\n",
    "\n",
    "print(\"종료\")"
   ]
  },
  {
   "cell_type": "code",
   "execution_count": 29,
   "id": "5640fe44",
   "metadata": {},
   "outputs": [
    {
     "name": "stdout",
     "output_type": "stream",
     "text": [
      "2\n",
      "4\n",
      "6\n",
      "8\n",
      "10\n"
     ]
    }
   ],
   "source": [
    "t = (1, 2, 3, 4, 5, 6, 7, 8, 9, 10)\n",
    "# 다 출력 (한번에 한 원소씩)=> for in\n",
    "#   짝수만 출력 => 만약에 v가 짝수이면 출력\n",
    "# 특정 조건의 값들을 걸러내기. =-> filtering(filter)\n",
    "for v in t:\n",
    "    if v % 2 == 0:\n",
    "        print(v)"
   ]
  },
  {
   "cell_type": "code",
   "execution_count": 32,
   "id": "86396970",
   "metadata": {},
   "outputs": [
    {
     "name": "stdout",
     "output_type": "stream",
     "text": [
      "b 2\n"
     ]
    }
   ],
   "source": [
    "d = {\"a\":1, \"b\":2, \"c\":3}\n",
    "for i in d:  # dict->key값을 제공.\n",
    "    if i == 'b':\n",
    "        print(i, d[i])"
   ]
  },
  {
   "cell_type": "code",
   "execution_count": 34,
   "id": "531b5380",
   "metadata": {},
   "outputs": [
    {
     "name": "stdout",
     "output_type": "stream",
     "text": [
      "1\n",
      "2\n",
      "3\n"
     ]
    }
   ],
   "source": [
    "#dictionary 에서 value들을 순환조회.\n",
    "for v in d.values():\n",
    "    print(v)"
   ]
  },
  {
   "cell_type": "code",
   "execution_count": 42,
   "id": "e61976b8",
   "metadata": {},
   "outputs": [
    {
     "name": "stdout",
     "output_type": "stream",
     "text": [
      "key: a, value: 1\n",
      "key: b, value: 2\n",
      "key: c, value: 3\n"
     ]
    }
   ],
   "source": [
    "# dictionary에서 key-value를 묶어서 순환조회.\n",
    "for k, v in d.items():\n",
    "#     print(type(v), v, v[0], v[1])\n",
    "    print(f\"key: {k}, value: {v}\")"
   ]
  },
  {
   "cell_type": "code",
   "execution_count": 41,
   "id": "a9e81365",
   "metadata": {},
   "outputs": [
    {
     "name": "stdout",
     "output_type": "stream",
     "text": [
      "a 1\n"
     ]
    }
   ],
   "source": [
    "k, v = ('a', '1')\n",
    "print(k, v)"
   ]
  },
  {
   "cell_type": "code",
   "execution_count": 46,
   "id": "c4d36ee3",
   "metadata": {},
   "outputs": [
    {
     "name": "stdout",
     "output_type": "stream",
     "text": [
      "1 2 3\n",
      "10 20 30\n"
     ]
    }
   ],
   "source": [
    "for i, j, k in [[1, 2, 3], [10,20,30]]:\n",
    "    print(i, j, k)"
   ]
  },
  {
   "cell_type": "code",
   "execution_count": 49,
   "id": "fed5e557",
   "metadata": {},
   "outputs": [
    {
     "name": "stdout",
     "output_type": "stream",
     "text": [
      "1\n",
      "2\n",
      "3\n"
     ]
    }
   ],
   "source": [
    "s = {1, 2, 3, 3, 3, 2, 2, 1} # set -> iterable => for in 이용해서 원소 조회.\n",
    "for v in s:\n",
    "    print(v)"
   ]
  },
  {
   "cell_type": "markdown",
   "id": "1f30cd6f",
   "metadata": {
    "slideshow": {
     "slide_type": "subslide"
    }
   },
   "source": [
    "## continue와 break를 이용한 반복문 제어\n",
    "- **continue**\n",
    "    - 현재 반복을 중단하고 다음 반복을 진행한다.\n",
    "    - 특정 조건에서 처리를 멈추고 다음 처리를 반복할 때 사용한다.\n",
    "- **break**\n",
    "    - 반복을 중단한다.\n",
    "    - 특정 조건에서 반복문을 중간에 중지할때 사용한다.\n",
    "- continue와 break는 특정 조건에서 실행되야 하는 경우가 대부분이므로 if문 안에 작성한다.    "
   ]
  },
  {
   "cell_type": "code",
   "execution_count": 60,
   "id": "c7c1790f",
   "metadata": {},
   "outputs": [
    {
     "name": "stdout",
     "output_type": "stream",
     "text": [
      "1\n"
     ]
    }
   ],
   "source": [
    "l = [1, 34, 2, 3, 5, 10, 4, 2, 32]\n",
    "# 리스트 l이 원소로 10이 있는지 여부를 확인.\n",
    "result = False # True: 10이 있다. False: 10이 없다.\n",
    "for v in l:\n",
    "    print(v)\n",
    "    if v == 10:\n",
    "        result = True\n",
    "        break  # 반복문을 멈춰라.\n",
    "        \n",
    "print(result, \"10이 있다\" if result else \"10이 없다.\")        "
   ]
  },
  {
   "cell_type": "code",
   "execution_count": 98,
   "id": "db8a1e90",
   "metadata": {},
   "outputs": [
    {
     "data": {
      "text/plain": [
       "35"
      ]
     },
     "execution_count": 98,
     "metadata": {},
     "output_type": "execute_result"
    }
   ],
   "source": [
    "import random\n",
    "random.randint(10, 50)  # 10 ~ 50 사이의 임의의 정수를 한개 생성해준다. (난수)"
   ]
  },
  {
   "cell_type": "code",
   "execution_count": 108,
   "id": "125c50a1",
   "metadata": {},
   "outputs": [],
   "source": [
    "result_list = []\n",
    "# 10 ~ 50 사이의 난수를 생성해서 result_list에 담는다. (random.randint(10, 50))\n",
    "# 만약에 난수로 30이 나오면 멈춘다.\n",
    "while True:\n",
    "    v = random.randint(10, 50) #난수 생성\n",
    "    result_list.append(v)      #리스트에 추가\n",
    "    if v == 30:\n",
    "        break\n",
    "    "
   ]
  },
  {
   "cell_type": "code",
   "execution_count": 109,
   "id": "e8477842",
   "metadata": {},
   "outputs": [
    {
     "data": {
      "text/plain": [
       "[19,\n",
       " 34,\n",
       " 22,\n",
       " 13,\n",
       " 42,\n",
       " 23,\n",
       " 34,\n",
       " 46,\n",
       " 44,\n",
       " 45,\n",
       " 45,\n",
       " 15,\n",
       " 28,\n",
       " 15,\n",
       " 48,\n",
       " 41,\n",
       " 15,\n",
       " 21,\n",
       " 17,\n",
       " 45,\n",
       " 27,\n",
       " 27,\n",
       " 33,\n",
       " 34,\n",
       " 46,\n",
       " 37,\n",
       " 32,\n",
       " 34,\n",
       " 24,\n",
       " 26,\n",
       " 19,\n",
       " 21,\n",
       " 40,\n",
       " 22]"
      ]
     },
     "execution_count": 109,
     "metadata": {},
     "output_type": "execute_result"
    }
   ],
   "source": [
    "result_list"
   ]
  },
  {
   "cell_type": "code",
   "execution_count": 105,
   "id": "ce38ea4a",
   "metadata": {
    "collapsed": true
   },
   "outputs": [
    {
     "name": "stdout",
     "output_type": "stream",
     "text": [
      "안녕하세요\n",
      ">>>> 안녕하세요\n",
      "aaaaa\n",
      ">>>> aaaaa\n",
      "333333\n",
      ">>>> 333333\n",
      "aslkdfjlkasdf\n",
      ">>>> aslkdfjlkasdf\n",
      "!q\n"
     ]
    }
   ],
   "source": [
    "# 사용자로부터 글을 입력받아서 !q(종료 signal)를 입력받기 전까지  출력 \n",
    "while True:\n",
    "    txt = input()\n",
    "    if txt == \"!q\":\n",
    "        break\n",
    "    print(\">>>>\", txt)"
   ]
  },
  {
   "cell_type": "code",
   "execution_count": 113,
   "id": "ea188488",
   "metadata": {},
   "outputs": [
    {
     "name": "stdout",
     "output_type": "stream",
     "text": [
      "1\n"
     ]
    }
   ],
   "source": [
    "# 한개의 값들을 각각 출력\n",
    "#    만약에 값이 20 이라면 전체 반복을 멈춤\n",
    "# break: 현재 반복을 빠져나온다(멈춘다.) => break 구문을 포함한 반복문만 빠져 나온다.\n",
    "l = [\n",
    "    [1, 2, 3], \n",
    "    [10, 20, 30], \n",
    "    [100, 200, 300, 400]\n",
    "]\n",
    "is_finish = False  # True가 되면 전체 반복문을 빠져나옴.\n",
    "for v in l:\n",
    "    for i in v:\n",
    "        if i == 20:\n",
    "            is_finish = True\n",
    "            break\n",
    "        print(i)    \n",
    "    if is_finish:\n",
    "        break"
   ]
  },
  {
   "cell_type": "code",
   "execution_count": 115,
   "id": "88649988",
   "metadata": {},
   "outputs": [
    {
     "name": "stdout",
     "output_type": "stream",
     "text": [
      "3\n",
      "6\n",
      "9\n"
     ]
    }
   ],
   "source": [
    "l = [1, 2, 3, 4, 5, 6, 7, 8, 9]\n",
    "# 3의 배수만 출력\n",
    "for v in l:\n",
    "    if v % 3 == 0:  #  3의 배수이면 출력\n",
    "        print(v)"
   ]
  },
  {
   "cell_type": "code",
   "execution_count": 116,
   "id": "1994a49f",
   "metadata": {},
   "outputs": [
    {
     "name": "stdout",
     "output_type": "stream",
     "text": [
      "3\n",
      "6\n",
      "9\n"
     ]
    }
   ],
   "source": [
    "l = [1, 2, 3, 4, 5, 6, 7, 8, 9]\n",
    "for v in l:\n",
    "    if v % 3 != 0: # 3의 배수가 아니라면 다음 원소를 처리해라.\n",
    "        continue\n",
    "    print(v)"
   ]
  },
  {
   "cell_type": "markdown",
   "id": "dc6099c5",
   "metadata": {
    "slideshow": {
     "slide_type": "slide"
    }
   },
   "source": [
    "## for in 문 연관 내장 함수\n",
    "\n",
    "### range()\n",
    "- 일정한 간격의 연속된 정수를 제공하는 반복가능 객체 생성한다.\n",
    "- 구문\n",
    "    - `range([시작값], 멈춤값, [증감값])`\n",
    "        - 시작값, 멈춤값, 증감값 모두 정수만 가능하다.\n",
    "        - 시작값 > 멈춤값 이고 증감값이 음수이면 내림차순으로 값을 제공한다.\n",
    "        1. 전달값이 **1개: 멈춤값**. \n",
    "            - 0 ~ (멈춤값-1)까지 1씩 증가하는 정수를 제공\n",
    "        2. 전달값이 **2개: 시작값, 멈춤값**. \n",
    "            - 시작값 ~ (멈춤값-1) 까지 1씩 증가하는 정수 제공\n",
    "        3. 전달값이 **3개: 시작값, 멈춤값, 증감값(간격)**. \n",
    "            - 시작값 ~ (멈춤값-1)까지 증감값만큼 증가하는 정수를 제공.\n"
   ]
  },
  {
   "cell_type": "code",
   "execution_count": 119,
   "id": "352d937b",
   "metadata": {
    "collapsed": true,
    "slideshow": {
     "slide_type": "fragment"
    }
   },
   "outputs": [
    {
     "name": "stdout",
     "output_type": "stream",
     "text": [
      "0\n",
      "1\n",
      "2\n",
      "3\n",
      "4\n",
      "5\n",
      "6\n",
      "7\n",
      "8\n",
      "9\n"
     ]
    }
   ],
   "source": [
    "for i in range(10):  # 0(시작) ~ 10-1 1씩 증가하는 정수를 제공.\n",
    "    print(i)"
   ]
  },
  {
   "cell_type": "code",
   "execution_count": 120,
   "id": "f1b5b70a",
   "metadata": {
    "collapsed": true
   },
   "outputs": [
    {
     "name": "stdout",
     "output_type": "stream",
     "text": [
      "10\n",
      "11\n",
      "12\n",
      "13\n",
      "14\n",
      "15\n",
      "16\n",
      "17\n",
      "18\n",
      "19\n"
     ]
    }
   ],
   "source": [
    "for i in range(10, 20):  # 10 ~ 20-1 범위에서 1씩 증가하는 정수를 제공\n",
    "    print(i)"
   ]
  },
  {
   "cell_type": "code",
   "execution_count": 121,
   "id": "08f79db4",
   "metadata": {
    "collapsed": true
   },
   "outputs": [
    {
     "name": "stdout",
     "output_type": "stream",
     "text": [
      "10\n",
      "20\n",
      "30\n",
      "40\n",
      "50\n",
      "60\n",
      "70\n",
      "80\n",
      "90\n",
      "100\n",
      "110\n",
      "120\n",
      "130\n",
      "140\n",
      "150\n",
      "160\n",
      "170\n",
      "180\n",
      "190\n"
     ]
    }
   ],
   "source": [
    "for i in range(10, 200, 10): # 10 ~ 200-1 범위에서 10씩 증가하는 정수를 제공\n",
    "    print(i)"
   ]
  },
  {
   "cell_type": "code",
   "execution_count": 122,
   "id": "ef224ac9",
   "metadata": {
    "collapsed": true
   },
   "outputs": [
    {
     "name": "stdout",
     "output_type": "stream",
     "text": [
      "100\n",
      "80\n",
      "60\n",
      "40\n",
      "20\n",
      "0\n",
      "-20\n",
      "-40\n",
      "-60\n",
      "-80\n"
     ]
    }
   ],
   "source": [
    "for i in range(100, -100, -20): #100 ~ -100+1 범위에서 -20씩 증가(감소)하는 정수를 제공\n",
    "    print(i)"
   ]
  },
  {
   "cell_type": "code",
   "execution_count": 123,
   "id": "948ff478",
   "metadata": {
    "collapsed": true
   },
   "outputs": [
    {
     "ename": "SyntaxError",
     "evalue": "invalid syntax (3341702665.py, line 1)",
     "output_type": "error",
     "traceback": [
      "\u001b[1;36m  Cell \u001b[1;32mIn[123], line 1\u001b[1;36m\u001b[0m\n\u001b[1;33m    range(, , 10)\u001b[0m\n\u001b[1;37m          ^\u001b[0m\n\u001b[1;31mSyntaxError\u001b[0m\u001b[1;31m:\u001b[0m invalid syntax\n"
     ]
    }
   ],
   "source": [
    "# range(, , 10)"
   ]
  },
  {
   "cell_type": "code",
   "execution_count": 124,
   "id": "3576e71a",
   "metadata": {
    "collapsed": true
   },
   "outputs": [
    {
     "name": "stdout",
     "output_type": "stream",
     "text": [
      "안녕\n",
      "안녕\n",
      "안녕\n",
      "안녕\n",
      "안녕\n",
      "안녕\n",
      "안녕\n",
      "안녕\n",
      "안녕\n",
      "안녕\n"
     ]
    }
   ],
   "source": [
    "# 안녕을 10번 출력\n",
    "i = 0\n",
    "while i < 10:\n",
    "    print(\"안녕\")\n",
    "    i += 1"
   ]
  },
  {
   "cell_type": "code",
   "execution_count": 127,
   "id": "6d3cff33",
   "metadata": {
    "collapsed": true
   },
   "outputs": [
    {
     "name": "stdout",
     "output_type": "stream",
     "text": [
      "안녕\n",
      "안녕\n",
      "안녕\n",
      "안녕\n",
      "안녕\n",
      "안녕\n",
      "안녕\n",
      "안녕\n",
      "안녕\n",
      "안녕\n"
     ]
    }
   ],
   "source": [
    "for i in range(10):\n",
    "    print('안녕')"
   ]
  },
  {
   "cell_type": "code",
   "execution_count": null,
   "id": "3577e23b",
   "metadata": {},
   "outputs": [],
   "source": [
    "for _ in range(10):  #변수명 `_` : 관례적으로 \"이 변수는 사용하지 않겠다.\"\n",
    "    print('안녕')"
   ]
  },
  {
   "cell_type": "code",
   "execution_count": 128,
   "id": "e4ba3d89",
   "metadata": {},
   "outputs": [
    {
     "data": {
      "text/plain": [
       "range(0, 10)"
      ]
     },
     "execution_count": 128,
     "metadata": {},
     "output_type": "execute_result"
    }
   ],
   "source": [
    "range(10)#iterable"
   ]
  },
  {
   "cell_type": "code",
   "execution_count": 131,
   "id": "a0ddcd76",
   "metadata": {
    "collapsed": true
   },
   "outputs": [
    {
     "data": {
      "text/plain": [
       "{-100,\n",
       " -90,\n",
       " -80,\n",
       " -70,\n",
       " -60,\n",
       " -50,\n",
       " -40,\n",
       " -30,\n",
       " -20,\n",
       " -10,\n",
       " 0,\n",
       " 10,\n",
       " 20,\n",
       " 30,\n",
       " 40,\n",
       " 50,\n",
       " 60,\n",
       " 70,\n",
       " 80,\n",
       " 90,\n",
       " 100}"
      ]
     },
     "execution_count": 131,
     "metadata": {},
     "output_type": "execute_result"
    }
   ],
   "source": [
    "list(range(10))\n",
    "tuple(range(0, 1001, 100))\n",
    "set(range(100, -101, -10))"
   ]
  },
  {
   "cell_type": "code",
   "execution_count": 132,
   "id": "51991f32",
   "metadata": {
    "collapsed": true
   },
   "outputs": [
    {
     "ename": "TypeError",
     "evalue": "'float' object cannot be interpreted as an integer",
     "output_type": "error",
     "traceback": [
      "\u001b[1;31m---------------------------------------------------------------------------\u001b[0m",
      "\u001b[1;31mTypeError\u001b[0m                                 Traceback (most recent call last)",
      "Cell \u001b[1;32mIn[132], line 1\u001b[0m\n\u001b[1;32m----> 1\u001b[0m \u001b[38;5;28;43mrange\u001b[39;49m\u001b[43m(\u001b[49m\u001b[38;5;241;43m0\u001b[39;49m\u001b[43m,\u001b[49m\u001b[43m \u001b[49m\u001b[38;5;241;43m1.1\u001b[39;49m\u001b[43m,\u001b[49m\u001b[43m \u001b[49m\u001b[38;5;241;43m0.1\u001b[39;49m\u001b[43m)\u001b[49m\n",
      "\u001b[1;31mTypeError\u001b[0m: 'float' object cannot be interpreted as an integer"
     ]
    }
   ],
   "source": [
    "range(0, 1.1, 0.1)  #range()는 정수만 사용."
   ]
  },
  {
   "cell_type": "code",
   "execution_count": 133,
   "id": "fc362ee5",
   "metadata": {},
   "outputs": [
    {
     "data": {
      "text/plain": [
       "array([0. , 0.1, 0.2, 0.3, 0.4, 0.5, 0.6, 0.7, 0.8, 0.9, 1. ])"
      ]
     },
     "execution_count": 133,
     "metadata": {},
     "output_type": "execute_result"
    }
   ],
   "source": [
    "import numpy as np\n",
    "\n",
    "np.arange(0, 1.1, 0.1)"
   ]
  },
  {
   "cell_type": "markdown",
   "id": "5de9d74e",
   "metadata": {
    "slideshow": {
     "slide_type": "subslide"
    }
   },
   "source": [
    "## enumerate()\n",
    "\n",
    "- 구문\n",
    "    - `enumerate(Iterable,  [, start=정수])`\n",
    "        - 현재 몇번째 값을 제공하는 지(현재 몇번째 반복인지)를 나타내는 **index**와 제공하는 **원소**를 tuple로 묶어서 반환\n",
    "        - Iterable\n",
    "            - 값을 제공할 Iterable객체\n",
    "        - start: 정수\n",
    "            - index 시작 값. 생략하면 0부터 시작한다."
   ]
  },
  {
   "cell_type": "code",
   "execution_count": 136,
   "id": "db28d2c4",
   "metadata": {},
   "outputs": [
    {
     "name": "stdout",
     "output_type": "stream",
     "text": [
      "(0, 'a') 0 a\n",
      "(1, 'b') 1 b\n",
      "(2, 'c') 2 c\n",
      "(3, 'd') 3 d\n"
     ]
    }
   ],
   "source": [
    "l = [\"a\", \"b\", \"c\", \"d\"]\n",
    "for v in enumerate(l):\n",
    "    print(v, v[0], v[1])"
   ]
  },
  {
   "cell_type": "code",
   "execution_count": 137,
   "id": "e21324fe",
   "metadata": {},
   "outputs": [
    {
     "name": "stdout",
     "output_type": "stream",
     "text": [
      "0 a\n",
      "1 b\n",
      "2 c\n",
      "3 d\n"
     ]
    }
   ],
   "source": [
    "for i, v in enumerate(l):\n",
    "    print(i, v)"
   ]
  },
  {
   "cell_type": "code",
   "execution_count": 156,
   "id": "67d85cbd",
   "metadata": {},
   "outputs": [
    {
     "name": "stdout",
     "output_type": "stream",
     "text": [
      "0번째 중간결과: 0\n",
      "1,000,000번째 중간결과: 500_000_500_000\n",
      "2,000,000번째 중간결과: 2_000_001_000_000\n",
      "3,000,000번째 중간결과: 4_500_001_500_000\n",
      "4,000,000번째 중간결과: 8_000_002_000_000\n",
      "5,000,000번째 중간결과: 12_500_002_500_000\n",
      "6,000,000번째 중간결과: 18_000_003_000_000\n",
      "7,000,000번째 중간결과: 24_500_003_500_000\n",
      "8,000,000번째 중간결과: 32_000_004_000_000\n",
      "9,000,000번째 중간결과: 40_500_004_500_000\n"
     ]
    }
   ],
   "source": [
    "# 0 ~ 10000000 누적 합계\n",
    "# 1,000,000번에 한번씩 중간 결과를 확인\n",
    "result = 0  #누적합계를 저장할 변수\n",
    "for idx, v in enumerate(range(10_000_000)):\n",
    "#     result = result + i\n",
    "    result += v\n",
    "    if idx % 1000000 == 0:\n",
    "        print(f\"{format(idx, ',')}번째 중간결과: {format(result, ',')}\")\n",
    "    "
   ]
  },
  {
   "cell_type": "code",
   "execution_count": 142,
   "id": "2d7b028a",
   "metadata": {},
   "outputs": [
    {
     "data": {
      "text/plain": [
       "49999995000000"
      ]
     },
     "execution_count": 142,
     "metadata": {},
     "output_type": "execute_result"
    }
   ],
   "source": [
    "result"
   ]
  },
  {
   "cell_type": "markdown",
   "id": "f5a5540f",
   "metadata": {
    "slideshow": {
     "slide_type": "subslide"
    }
   },
   "source": [
    "## zip()\n",
    "- 여러 개의 Iterable 객체를 받아 반복시 같은 index의 값끼리 튜플로 묶어 반환한다.\n",
    "- 구문\n",
    "    - `zip(Iterable1, Iterable2, Iterable3 [, .......])`\n",
    "        - Iterable 2개이상.전달한다.\n",
    "- 각 자료구조 객체의 크기가 다를 경우 크기가 작은 것의 개수에 맞춰 반복한다."
   ]
  },
  {
   "cell_type": "code",
   "execution_count": 1,
   "id": "971b455b",
   "metadata": {},
   "outputs": [],
   "source": [
    "# 네명의 정보를 이름, 나이, 주소별로 따로 저장.\n",
    "names =     [\"홍길동\",\"이순신\", \"유관순\", \"강감찬\"] # 4\n",
    "ages =      [35,      55,      65,       25]      # 4\n",
    "addresses = [\"서울\",  \"부산\",   \"광주\",   \"대구\", \"인천\", \"경기도\"] # 6"
   ]
  },
  {
   "cell_type": "code",
   "execution_count": 2,
   "id": "96a9c84f",
   "metadata": {},
   "outputs": [
    {
     "name": "stdout",
     "output_type": "stream",
     "text": [
      "홍길동 35 서울\n",
      "이순신 55 부산\n"
     ]
    }
   ],
   "source": [
    "print(names[0], ages[0], addresses[0])\n",
    "print(names[1], ages[1], addresses[1])"
   ]
  },
  {
   "cell_type": "code",
   "execution_count": 3,
   "id": "e3826af7",
   "metadata": {},
   "outputs": [
    {
     "name": "stdout",
     "output_type": "stream",
     "text": [
      "('홍길동', 35, '서울')\n",
      "('이순신', 55, '부산')\n",
      "('유관순', 65, '광주')\n",
      "('강감찬', 25, '대구')\n"
     ]
    }
   ],
   "source": [
    "for values in zip(names, ages, addresses):\n",
    "    print(values)"
   ]
  },
  {
   "cell_type": "code",
   "execution_count": 4,
   "id": "5e9858e7",
   "metadata": {},
   "outputs": [
    {
     "name": "stdout",
     "output_type": "stream",
     "text": [
      "홍길동 - 35 - 서울\n",
      "이순신 - 55 - 부산\n",
      "유관순 - 65 - 광주\n",
      "강감찬 - 25 - 대구\n"
     ]
    }
   ],
   "source": [
    "for name, age, address in zip(names, ages, addresses):\n",
    "    print(name, age, address, sep=' - ')"
   ]
  },
  {
   "cell_type": "code",
   "execution_count": null,
   "id": "484fac4e",
   "metadata": {},
   "outputs": [],
   "source": []
  },
  {
   "cell_type": "code",
   "execution_count": null,
   "id": "1b99057f",
   "metadata": {
    "slideshow": {
     "slide_type": "fragment"
    }
   },
   "outputs": [],
   "source": []
  },
  {
   "cell_type": "markdown",
   "id": "2df89dae",
   "metadata": {
    "slideshow": {
     "slide_type": "subslide"
    }
   },
   "source": [
    "# 컴프리헨션(Comprehension)\n",
    "\n",
    "- 기존 Iterable의 원소들을 이용해서 새로운 자료구조(List, Dictionary, Set)를 생성하는 구문.\n",
    "    - 기존 Iterable의 **원소들을 처리한 결과**나  **특정 조건이 True인 값들을** 새로운 자료구조에 넣을때 사용.\n",
    "    - 결과를 넣을 새로운 자료구조에 따라 다음 세가지 구문이 있다.\n",
    "        - 리스트 컴프리헨션\n",
    "        - 딕셔너리  컴프리헨션\n",
    "        - 셋  컴프리헨션\n",
    "- 튜플 컴프리헨션은 없다.\n",
    "- 딕셔너리 컴프리헨션과 셋 컴프리헨션은 파이썬 3 에 새로 추가되었다."
   ]
  },
  {
   "cell_type": "code",
   "execution_count": 159,
   "id": "0988e056",
   "metadata": {},
   "outputs": [
    {
     "name": "stdout",
     "output_type": "stream",
     "text": [
      "결과: [10, 20, 30, 40, 50, 60, 70, 80, 90, 100]\n"
     ]
    }
   ],
   "source": [
    "l = list(range(1, 11))\n",
    "# l이 가지는 원소들을 10배한 결과를 모아놓은 리스트를 생성.\n",
    "result = [] #10배한 결과를 담을 리스트\n",
    "for v in l:\n",
    "    result.append(v * 10)\n",
    "    \n",
    "print(\"결과:\", result)"
   ]
  },
  {
   "cell_type": "code",
   "execution_count": 162,
   "id": "d02ad2e7",
   "metadata": {},
   "outputs": [
    {
     "data": {
      "text/plain": [
       "[10, 20, 30, 40, 50, 60, 70, 80, 90, 100]"
      ]
     },
     "execution_count": 162,
     "metadata": {},
     "output_type": "execute_result"
    }
   ],
   "source": [
    "# 리스트 컴프리헨션\n",
    "result2 = [v * 10 for v in l]\n",
    "result2"
   ]
  },
  {
   "cell_type": "code",
   "execution_count": 166,
   "id": "7c37dc7e",
   "metadata": {},
   "outputs": [
    {
     "data": {
      "text/plain": [
       "{10, 20, 30}"
      ]
     },
     "execution_count": 166,
     "metadata": {},
     "output_type": "execute_result"
    }
   ],
   "source": [
    "# 셋 컴프리헨션\n",
    "l = [1, 1, 2, 2, 3, 3]\n",
    "result3 = {v * 10 for v in l}\n",
    "result3"
   ]
  },
  {
   "cell_type": "code",
   "execution_count": 171,
   "id": "83fe6352",
   "metadata": {},
   "outputs": [
    {
     "name": "stdout",
     "output_type": "stream",
     "text": [
      "{'aaaa': 4, 'ddd': 3, 'vcdcd': 5, 'aa': 2, '가나다라마바': 6}\n"
     ]
    }
   ],
   "source": [
    "#\n",
    "t = \"aaaa\", \"ddd\", \"vcdcd\", \"aa\", \"가나다라마바\"\n",
    "result3 = {}\n",
    "for s in t:\n",
    "#     print(s, len(s))\n",
    "    result3[s] = len(s)\n",
    "    \n",
    "print(result3)"
   ]
  },
  {
   "cell_type": "code",
   "execution_count": 174,
   "id": "0358edee",
   "metadata": {},
   "outputs": [
    {
     "data": {
      "text/plain": [
       "{'aaaa': 4, 'ddd': 3, 'vcdcd': 5, 'aa': 2, '가나다라마바': 6}"
      ]
     },
     "execution_count": 174,
     "metadata": {},
     "output_type": "execute_result"
    }
   ],
   "source": [
    "# 딕셔너리 컴프리헨션\n",
    "result4 = {s:len(s)  for s in t }\n",
    "result4"
   ]
  },
  {
   "cell_type": "code",
   "execution_count": 180,
   "id": "1ff80744",
   "metadata": {},
   "outputs": [
    {
     "data": {
      "text/plain": [
       "[10, 20, 30, 40, 50, 60, 70, 80, 90]"
      ]
     },
     "execution_count": 180,
     "metadata": {},
     "output_type": "execute_result"
    }
   ],
   "source": [
    "l = list(range(1, 100))\n",
    "# l의 원소중 10의 배수만 가지는 리스트를 생성. - filter\n",
    "result10 = []\n",
    "for v in l:\n",
    "    if v % 10 == 0: #10의 배수\n",
    "        result10.append(v)\n",
    "        \n",
    "result10        "
   ]
  },
  {
   "cell_type": "code",
   "execution_count": 183,
   "id": "0b9d376b",
   "metadata": {},
   "outputs": [
    {
     "data": {
      "text/plain": [
       "[10, 20, 30, 40, 50, 60, 70, 80, 90]"
      ]
     },
     "execution_count": 183,
     "metadata": {},
     "output_type": "execute_result"
    }
   ],
   "source": [
    "result11 = [v for v in l if v % 10 == 0]\n",
    "result11"
   ]
  },
  {
   "cell_type": "code",
   "execution_count": 184,
   "id": "ae5cf06e",
   "metadata": {},
   "outputs": [
    {
     "data": {
      "text/plain": [
       "[5, 15, 25, 35, 45, 55, 65, 75, 85]"
      ]
     },
     "execution_count": 184,
     "metadata": {},
     "output_type": "execute_result"
    }
   ],
   "source": [
    "result12 = [v-5 for v in l if v % 10 == 0]  # filter + map\n",
    "result12"
   ]
  },
  {
   "cell_type": "code",
   "execution_count": 193,
   "id": "b5a8b7a1",
   "metadata": {},
   "outputs": [
    {
     "data": {
      "text/plain": [
       "[0, 100, 200, 300]"
      ]
     },
     "execution_count": 193,
     "metadata": {},
     "output_type": "execute_result"
    }
   ],
   "source": [
    "l2 = [ [1, 2, 3], \n",
    "       [10,20], \n",
    "       [100, 200, 300, 400]\n",
    "     ]\n",
    "# l2의 모든 값들에서(중에서 50이상인 값들에서) 100을 뺀 결과를 가지는 리스트\n",
    "result20 = []\n",
    "for l in l2:\n",
    "    for v in l:\n",
    "        if v >= 50:\n",
    "            result20.append(v - 100)\n",
    "        \n",
    "result20"
   ]
  },
  {
   "cell_type": "code",
   "execution_count": 194,
   "id": "0006a9a3",
   "metadata": {},
   "outputs": [
    {
     "data": {
      "text/plain": [
       "[0, 100, 200, 300]"
      ]
     },
     "execution_count": 194,
     "metadata": {},
     "output_type": "execute_result"
    }
   ],
   "source": [
    "result21 = [v - 100  for l in l2 for v in l if v >= 50]\n",
    "result21"
   ]
  },
  {
   "cell_type": "code",
   "execution_count": null,
   "id": "e04827d9",
   "metadata": {
    "slideshow": {
     "slide_type": "fragment"
    }
   },
   "outputs": [],
   "source": []
  },
  {
   "cell_type": "markdown",
   "id": "092288d7",
   "metadata": {
    "slideshow": {
     "slide_type": "skip"
    }
   },
   "source": [
    "# TODO"
   ]
  },
  {
   "cell_type": "code",
   "execution_count": null,
   "id": "f7644412",
   "metadata": {},
   "outputs": [],
   "source": [
    "# control + shift + -"
   ]
  },
  {
   "cell_type": "code",
   "execution_count": null,
   "id": "1008c36d",
   "metadata": {
    "slideshow": {
     "slide_type": "skip"
    }
   },
   "outputs": [],
   "source": [
    "#(1) 다음 점수 구간에 맞게 학점을 출력하세요.\n",
    "# 91 ~ 100 : A학점\n",
    "# 81 ~ 90 :  B학점\n",
    "# 71 ~ 80 :  C학점\n",
    "# 61 ~ 70 :  D학점\n",
    "# 60이하  :  F학점"
   ]
  },
  {
   "cell_type": "code",
   "execution_count": 199,
   "id": "86c70eef",
   "metadata": {},
   "outputs": [
    {
     "name": "stdout",
     "output_type": "stream",
     "text": [
      "잘못된 점수입니다.\n"
     ]
    }
   ],
   "source": [
    "jumsu = -35#int(input(\"점수\"))\n",
    "if jumsu <= 100 and jumsu >=91:\n",
    "    print(\"A학점\")\n",
    "elif jumsu <=90 and jumsu >=81:\n",
    "    print(\"B학점\")\n",
    "elif jumsu <= 80 and jumsu >=71:\n",
    "    print(\"C학점\")\n",
    "elif jumsu <=70 and jumsu >=61:\n",
    "    print(\"D학점\")\n",
    "elif jumsu <=60 and jumsu >=0:\n",
    "    print('F학점')\n",
    "else:\n",
    "    print(\"잘못된 점수입니다.\")"
   ]
  },
  {
   "cell_type": "code",
   "execution_count": 206,
   "id": "24bc60e0",
   "metadata": {},
   "outputs": [
    {
     "name": "stdout",
     "output_type": "stream",
     "text": [
      "점수22\n",
      "F학점\n"
     ]
    }
   ],
   "source": [
    "jumsu = int(input(\"점수\"))\n",
    "if jumsu < 0 or jumsu > 100:\n",
    "    print(f\"{jumsu}는 잘못된 점수입니다.\")\n",
    "elif jumsu >= 91:\n",
    "    print(\"A학점\")\n",
    "elif jumsu >= 81:\n",
    "    print(\"B학점\")\n",
    "elif jumsu >= 71:\n",
    "    print(\"C학점\")\n",
    "elif jumsu >= 61:\n",
    "    print(\"D학점\")\n",
    "else:\n",
    "    print(\"F학점\")"
   ]
  },
  {
   "cell_type": "code",
   "execution_count": 208,
   "id": "b9332c95",
   "metadata": {
    "slideshow": {
     "slide_type": "skip"
    }
   },
   "outputs": [
    {
     "name": "stdout",
     "output_type": "stream",
     "text": [
      "등록할 ID:aaaaaaaa\n",
      "aaaaaaaa는 사용할 수 있습니다.\n"
     ]
    }
   ],
   "source": [
    "#(2) 사용자로 부터 ID를 입력 받은 뒤 입력받은 ID가 5글자 이상이면 \"사용할 수 있습니다.\"를 \n",
    "#    5글자 미만이면 \"사용할 수 없는 ID입니다.\"를 출력하세요.\n",
    "\n",
    "ID = input(\"등록할 ID:\")\n",
    "if len(ID) >= 5:\n",
    "    print(f\"{ID}는 사용할 수 있습니다.\")\n",
    "else:\n",
    "    print(f\"{ID}는 사용할 수 없는 ID입니다. 5글자 이상 입력하세요.\")"
   ]
  },
  {
   "cell_type": "code",
   "execution_count": 213,
   "id": "e96ac60f",
   "metadata": {
    "slideshow": {
     "slide_type": "skip"
    }
   },
   "outputs": [
    {
     "name": "stdout",
     "output_type": "stream",
     "text": [
      "도시명:순천\n",
      "순천는/은 특별시나 광역시가 아닙니다.\n"
     ]
    }
   ],
   "source": [
    "#(3) 사용자로부터 우리나라 도시명을 입력 받은 뒤 입력받은 도시명이 세종, 서울이면 \"특별시\"를 \n",
    "#    인천,부산,광주,대구,대전,울산 이면 \"광역시\"를 나머지는 \"특별시나 광역시가 아닙니다.\"를 출력하세요.\n",
    "city = input(\"도시명:\")\n",
    "if city in ['서울', '세종']:\n",
    "    print(f\"{city}: 특별시\")\n",
    "elif city in [\"인천\", \"부산\", \"광주\", \"대전\", \"울산\", \"대구\"]:\n",
    "    print(f\"{city}: 광역시\")\n",
    "else:\n",
    "    print(f\"{city}는/은 특별시나 광역시가 아닙니다.\")"
   ]
  },
  {
   "cell_type": "code",
   "execution_count": 215,
   "id": "7cdb70b8",
   "metadata": {
    "slideshow": {
     "slide_type": "skip"
    }
   },
   "outputs": [
    {
     "name": "stdout",
     "output_type": "stream",
     "text": [
      "890\n",
      "89.0\n"
     ]
    }
   ],
   "source": [
    "#(4) 아래 리스트의 평균을 구하시오. \n",
    "jumsu = [100, 90, 100, 80, 70, 100, 80, 90, 95, 85]\n",
    "sum_result = 0\n",
    "for v in jumsu:\n",
    "    sum_result += v # sum_result = sum_result + v\n",
    "    \n",
    "print(sum_result)\n",
    "avg = sum_result / len(jumsu)\n",
    "print(avg)"
   ]
  },
  {
   "cell_type": "code",
   "execution_count": 217,
   "id": "c09542b0",
   "metadata": {},
   "outputs": [
    {
     "data": {
      "text/plain": [
       "(890, 89.0)"
      ]
     },
     "execution_count": 217,
     "metadata": {},
     "output_type": "execute_result"
    }
   ],
   "source": [
    "# iterable의 숫자들의 합계를 구하는 함수\n",
    "sum(jumsu), sum(jumsu)/len(jumsu)"
   ]
  },
  {
   "cell_type": "code",
   "execution_count": 221,
   "id": "49b86f36",
   "metadata": {
    "collapsed": true,
    "slideshow": {
     "slide_type": "skip"
    }
   },
   "outputs": [
    {
     "name": "stdout",
     "output_type": "stream",
     "text": [
      "1 - Pass\n",
      "2 - Pass\n",
      "3 - Pass\n",
      "4 - Fail\n",
      "5 - Fail\n",
      "6 - Pass\n",
      "7 - Fail\n",
      "8 - Pass\n",
      "9 - Pass\n",
      "10 - Fail\n"
     ]
    }
   ],
   "source": [
    "#(5) 위 jumsu리스트에서 평균점수이상은 pass, 미만은 fail을 index번호와 함께 출력하시오. (ex: 0-pass, 1-pass, 2-fail)\n",
    "\n",
    "for idx, value in enumerate(jumsu, start=1):\n",
    "    if value >= avg:\n",
    "        print(f\"{idx} - Pass\")\n",
    "    else:\n",
    "        print(f\"{idx} - Fail\")"
   ]
  },
  {
   "cell_type": "code",
   "execution_count": 222,
   "id": "963dac91",
   "metadata": {
    "slideshow": {
     "slide_type": "skip"
    }
   },
   "outputs": [
    {
     "name": "stdout",
     "output_type": "stream",
     "text": [
      "95\n"
     ]
    }
   ],
   "source": [
    "#(6) 아래 리스트 값들 중 최대값을 조회해 출력\n",
    "jumsu = [60, 90, 80, 80, 70, 55, 80, 90, 95, 85]\n",
    "max_value = -1000 # 최대값을 저장할 변수\n",
    "for v in jumsu:\n",
    "    if v > max_value:\n",
    "        max_value = v\n",
    "        \n",
    "print(max_value)        "
   ]
  },
  {
   "cell_type": "code",
   "execution_count": 224,
   "id": "c737563b",
   "metadata": {},
   "outputs": [
    {
     "data": {
      "text/plain": [
       "95"
      ]
     },
     "execution_count": 224,
     "metadata": {},
     "output_type": "execute_result"
    }
   ],
   "source": [
    "jumsu.sort()\n",
    "jumsu[-1]"
   ]
  },
  {
   "cell_type": "code",
   "execution_count": 226,
   "id": "6eef25a5",
   "metadata": {},
   "outputs": [
    {
     "data": {
      "text/plain": [
       "(55, 95)"
      ]
     },
     "execution_count": 226,
     "metadata": {},
     "output_type": "execute_result"
    }
   ],
   "source": [
    "min(jumsu), max(jumsu)"
   ]
  },
  {
   "cell_type": "code",
   "execution_count": 229,
   "id": "e9bca569",
   "metadata": {
    "collapsed": true,
    "slideshow": {
     "slide_type": "skip"
    }
   },
   "outputs": [
    {
     "name": "stdout",
     "output_type": "stream",
     "text": [
      "소\n",
      "호랑이\n",
      "용\n",
      "뱀\n"
     ]
    }
   ],
   "source": [
    "#(7) 다음 리스트 중에서 \"쥐\"와 \"토끼\" 제외한 나머지를 출력하세요.\n",
    "str_list = [\"쥐\", \"소\", \"호랑이\", \"토끼\", \"용\", \"뱀\"]\n",
    "for s in str_list:\n",
    "#     if s != \"쥐\" and s != \"토끼\":\n",
    "    if s not in ['쥐', '토끼']:\n",
    "        print(s)"
   ]
  },
  {
   "cell_type": "code",
   "execution_count": 230,
   "id": "c0f95690",
   "metadata": {
    "collapsed": true
   },
   "outputs": [
    {
     "name": "stdout",
     "output_type": "stream",
     "text": [
      "소\n",
      "호랑이\n",
      "용\n",
      "뱀\n"
     ]
    }
   ],
   "source": [
    "for s in str_list:\n",
    "    if s in ['쥐', '토끼']:\n",
    "        continue\n",
    "    print(s)"
   ]
  },
  {
   "cell_type": "code",
   "execution_count": 233,
   "id": "27a1026e",
   "metadata": {
    "collapsed": true,
    "slideshow": {
     "slide_type": "skip"
    }
   },
   "outputs": [
    {
     "name": "stdout",
     "output_type": "stream",
     "text": [
      "단:17\n",
      "17 X 1 = 17\n",
      "17 X 2 = 34\n",
      "17 X 3 = 51\n",
      "17 X 4 = 68\n",
      "17 X 5 = 85\n",
      "17 X 6 = 102\n",
      "17 X 7 = 119\n",
      "17 X 8 = 136\n",
      "17 X 9 = 153\n"
     ]
    }
   ],
   "source": [
    "#(8) 사용자로부터 정수를 입력받아 그 단의 구구단을 출력하시오. \n",
    "# ex) 단을 입력하시오 : 2  \n",
    "# 2 x 1 = 2\n",
    "# 2 x 2 = 4\n",
    "#..\n",
    "# 2 x 9 = 18\n",
    "dan = int(input(\"단:\"))\n",
    "for i in range(1, 10):\n",
    "    print(f\"{dan} X {i} = {dan * i}\")"
   ]
  },
  {
   "cell_type": "code",
   "execution_count": 235,
   "id": "de42de18",
   "metadata": {
    "slideshow": {
     "slide_type": "skip"
    }
   },
   "outputs": [
    {
     "data": {
      "text/plain": [
       "[20, 60, 140, 10, 240, 1400, 2, 70]"
      ]
     },
     "execution_count": 235,
     "metadata": {},
     "output_type": "execute_result"
    }
   ],
   "source": [
    "#컴프리헨션\n",
    "\n",
    "#(9) 다음 리스트가 가진 값에 두배(* 2)를 가지는 새로운 리스트를 만드시오. (리스트 컴프리헨션 이용)\n",
    "lst = [10, 30, 70, 5, 120, 700, 1, 35]\n",
    "\n",
    "result = [v*2  for v in lst]\n",
    "result"
   ]
  },
  {
   "cell_type": "code",
   "execution_count": 238,
   "id": "0d29aad0",
   "metadata": {
    "slideshow": {
     "slide_type": "skip"
    }
   },
   "outputs": [
    {
     "data": {
      "text/plain": [
       "[(10, 100, 3),\n",
       " (30, 300, 10),\n",
       " (70, 700, 23),\n",
       " (5, 50, 1),\n",
       " (5, 50, 1),\n",
       " (120, 1200, 40),\n",
       " (700, 7000, 233),\n",
       " (1, 10, 0),\n",
       " (35, 350, 11),\n",
       " (35, 350, 11)]"
      ]
     },
     "execution_count": 238,
     "metadata": {},
     "output_type": "execute_result"
    }
   ],
   "source": [
    "#(10) 다음 리스트가 가진 값에 10배의 값을 가지는 값을 (원래값, 10배값) 의 튜플 묶음으로 가지는 리스트를 만드시오 (리스트 컴프리헨션 이용)\n",
    "# Ex) [(10,100), (30,300), .., (35, 350)]\n",
    "lst = [10, 30, 70, 5, 5, 120, 700, 1, 35, 35]\n",
    "result = [(v, v * 10, v//3 ) for v in lst]\n",
    "result "
   ]
  },
  {
   "cell_type": "code",
   "execution_count": 241,
   "id": "59b3bc11",
   "metadata": {
    "slideshow": {
     "slide_type": "skip"
    }
   },
   "outputs": [
    {
     "data": {
      "text/plain": [
       "([3, 33, 21, 33, 60, 120], {3, 21, 33, 60, 120})"
      ]
     },
     "execution_count": 241,
     "metadata": {},
     "output_type": "execute_result"
    }
   ],
   "source": [
    "#(11) 다음 리스트가 가진 값들 중 3의 배수만 가지는 리스트를 만드시오. (리스트 컴프리헨션 이용)\n",
    "lst2 = [ 3, 20, 33, 21, 33, 8, 11, 10, 7, 17, 60, 120, 2]\n",
    "[v for v in lst2 if v % 3 == 0], {v for v in lst2 if v % 3 == 0}"
   ]
  },
  {
   "cell_type": "code",
   "execution_count": 243,
   "id": "07b1eb06",
   "metadata": {
    "slideshow": {
     "slide_type": "skip"
    }
   },
   "outputs": [
    {
     "data": {
      "text/plain": [
       "['a.exe', 'function.exe', 'b.exe', 'run.exe']"
      ]
     },
     "execution_count": 243,
     "metadata": {},
     "output_type": "execute_result"
    }
   ],
   "source": [
    "#(12) 다음 파일이름들을 담은 리스트에서 확장자가 exe인 파일만 골라서 새로운 리스트에 담으시오.(string의 endswith()함수 이용)\n",
    "file_name=[\"test.txt\", \"a.exe\", \"jupyter.bat\", \"function.exe\", \"b.exe\", \n",
    "           \"cat.jpg\", \"dog.png\", \"run.exe\", \"i.dll\"]\n",
    "[fn for fn in file_name if fn.endswith('.exe')]"
   ]
  },
  {
   "cell_type": "code",
   "execution_count": 245,
   "id": "44dad20f",
   "metadata": {
    "slideshow": {
     "slide_type": "skip"
    }
   },
   "outputs": [
    {
     "data": {
      "text/plain": [
       "{'mystroy.txt': 11, 'jupyter.bat': 11, 'function.exe': 12}"
      ]
     },
     "execution_count": 245,
     "metadata": {},
     "output_type": "execute_result"
    }
   ],
   "source": [
    "#(13) 다음 중 10글자 이상인 파일명(확장자포함)만 가지는 리스트를 만드시오.\n",
    "file_name=[\"mystroy.txt\", \"a.exe\", \"jupyter.bat\", \"function.exe\", \n",
    "           \"b.exe\", \"cat.jpg\", \"dog.png\", \"run.exe\", \"i.dll\"]\n",
    "\n",
    "[fn for fn in file_name if len(fn) >= 10]\n",
    "{fn:len(fn) for fn in file_name if len(fn) >= 10}"
   ]
  },
  {
   "cell_type": "code",
   "execution_count": 247,
   "id": "a0cc04fa",
   "metadata": {
    "slideshow": {
     "slide_type": "skip"
    }
   },
   "outputs": [
    {
     "data": {
      "text/plain": [
       "['c', 'g', 'h', 'k']"
      ]
     },
     "execution_count": 247,
     "metadata": {},
     "output_type": "execute_result"
    }
   ],
   "source": [
    "#(14) 다음 리스트에서 소문자만 가지는 새로운 리스트를 만드시오.\n",
    "str_list = [\"A\", \"B\", \"c\", \"D\", \"E\", \"F\", \"g\", \"h\", \"I\", \"J\", \"k\"]\n",
    "[s for s in str_list if s.islower()]"
   ]
  },
  {
   "cell_type": "code",
   "execution_count": null,
   "id": "d23a5f48",
   "metadata": {},
   "outputs": [],
   "source": []
  },
  {
   "cell_type": "code",
   "execution_count": null,
   "id": "33d722fa",
   "metadata": {},
   "outputs": [],
   "source": []
  },
  {
   "cell_type": "code",
   "execution_count": null,
   "id": "6f3da3bc",
   "metadata": {},
   "outputs": [],
   "source": []
  },
  {
   "cell_type": "code",
   "execution_count": null,
   "id": "639d356c",
   "metadata": {},
   "outputs": [],
   "source": []
  },
  {
   "cell_type": "code",
   "execution_count": null,
   "id": "2579247c",
   "metadata": {},
   "outputs": [],
   "source": []
  },
  {
   "cell_type": "code",
   "execution_count": null,
   "id": "9c8e77a4",
   "metadata": {},
   "outputs": [],
   "source": []
  },
  {
   "cell_type": "code",
   "execution_count": null,
   "id": "c7a2ca2d",
   "metadata": {},
   "outputs": [],
   "source": []
  }
 ],
 "metadata": {
  "kernelspec": {
   "display_name": "Python 3 (ipykernel)",
   "language": "python",
   "name": "python3"
  },
  "language_info": {
   "codemirror_mode": {
    "name": "ipython",
    "version": 3
   },
   "file_extension": ".py",
   "mimetype": "text/x-python",
   "name": "python",
   "nbconvert_exporter": "python",
   "pygments_lexer": "ipython3",
   "version": "3.10.9"
  },
  "toc": {
   "base_numbering": 1,
   "nav_menu": {},
   "number_sections": true,
   "sideBar": true,
   "skip_h1_title": false,
   "title_cell": "Table of Contents",
   "title_sidebar": "Contents",
   "toc_cell": false,
   "toc_position": {},
   "toc_section_display": true,
   "toc_window_display": false
  },
  "varInspector": {
   "cols": {
    "lenName": 16,
    "lenType": 16,
    "lenVar": 40
   },
   "kernels_config": {
    "python": {
     "delete_cmd_postfix": "",
     "delete_cmd_prefix": "del ",
     "library": "var_list.py",
     "varRefreshCmd": "print(var_dic_list())"
    },
    "r": {
     "delete_cmd_postfix": ") ",
     "delete_cmd_prefix": "rm(",
     "library": "var_list.r",
     "varRefreshCmd": "cat(var_dic_list()) "
    }
   },
   "types_to_exclude": [
    "module",
    "function",
    "builtin_function_or_method",
    "instance",
    "_Feature"
   ],
   "window_display": false
  }
 },
 "nbformat": 4,
 "nbformat_minor": 5
}
