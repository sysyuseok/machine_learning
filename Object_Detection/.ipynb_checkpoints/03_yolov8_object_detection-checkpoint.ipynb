{
 "cells": [
  {
   "cell_type": "markdown",
   "id": "c408c92e",
   "metadata": {},
   "source": [
    "# [YOLOv8](https://docs.ultralytics.com/)\n",
    "\n",
    "## 설치\n",
    "\n",
    "1. 파이토치 설치\n",
    "2. YOLOv8 설치\n",
    "    - `pip install ultralytics`\n",
    "3. 주피터노트북에서 실행할 경우 프로그래스바를 실행하기 위해서 다음을 설치한다. (필수는 아님)\n",
    "    - `conda install -y -c conda-forge ipywidgets`"
   ]
  },
  {
   "cell_type": "markdown",
   "id": "01f3d95a",
   "metadata": {},
   "source": [
    "## 사용\n",
    "- CLI (command line interface)에서 터미널 명령어로 추론/평가/학습을 진행할 수 있다.\n",
    "- Python lib 를 이용해 코드상에 원하는 추론/평가/학습을 진행할 수 있다."
   ]
  },
  {
   "cell_type": "markdown",
   "id": "5bbfe070",
   "metadata": {},
   "source": [
    "# CLI 기본 명령어 구조\n",
    "\n",
    "- 구문\n",
    "    - <span style='font-size:1.3em'>**yolo**  **task**=detect|classify|segment  **mode**=train|val|predict  **model**=yolov8n.yaml|yolov8n.pt|..  **args**</span>\n",
    "    - <b style='font-size:1.2em'>task:</b> \\[detect, classify, segment\\] 중 하나를 지정한다. \\[optional\\]로 생략하면 model을 보고 추측해서 task를 정한다.\n",
    "        - **detect:** Object detection\n",
    "        - **classify:** Image classification\n",
    "        - **segment:** Instance segmentation\n",
    "    - <b style='font-size:1.2em'>mode:</b> \\[train, val, predict, export\\] 중 하나를 지정한다. \\[필수\\]로 입력해야 한다.\n",
    "        - **train:** custom dataset을 train 시킨다.\n",
    "        - **val:** 모델 성능을 평가한다.\n",
    "        - **predict:** 입력 이미지에 대한 추론을 한다.\n",
    "        - **export:** 모델을 다른 형식으로 변환한다.\n",
    "    - <b style='font-size:1.2em'>model:</b> **pretrained 모델**이나 **모델 설정 yaml 파일**의 경로를 설정한다. \\[필수\\]로 입력해야 한다.\n",
    "        - pretrained 모델 파일경로\n",
    "            - task에 맞는 pretrained 모델파일의 저장 경로를 지정한다.\n",
    "            - transfer learnging을 하거나 fine tuning 시 방법\n",
    "        - 모델 구조 설정 yaml 파일 경로\n",
    "            - task에 맞는 pretrained 모델 설정파일(yaml파일)의 경로를 지정한다.\n",
    "            - train mode에서 지정하며 모델을 새로 생성해서 처음부터 학습 시킬 경우 지정한다.\n",
    "        - Ultralytics에서 제공하는 Pretrained 모델\n",
    "            - 모델 크기에 따라 5개의 모델을 제공하며 큰 모델은 작은 모델에 비해 추론 성능이 좋은대신 속도는 느리다.\n",
    "            - 모델은 처음 추론또는 학습할때 local 컴퓨터에 없으면 download 받는다.\n",
    "            - https://github.com/ultralytics/ultralytics#models\n",
    "            - ### 제공 모델\n",
    "            \n",
    "            | **task\\모델크기**           | **nano** | **small_** | **medium** | **large** | **xlarge** |\n",
    "            |:--------------------|----------|-------------|------------|-----------|----------|\n",
    "            | **detection**      | yolov8n  | yolov8s     | yolov8m    | yolov8l   | yolov8x    |\n",
    "            | **segmentation**   | yolov8n-seg  | yolov8s-seg     | yolov8m-seg    | yolov8l-seg   | yolov8x-seg    |\n",
    "            | **classification** | yolov8n-cls  | yolov8s-cls     | yolov8m-cls    | yolov8l-cls   | yolov8x-cls    |         \n",
    "            | **pose estimation** | yolov8n-pose  | yolov8s-pose     | yolov8m-pose    | yolov8l-pose   | yolov8x-pose    |\n",
    "            \n",
    "            - 확장자가 `pt`이면 pretrained 된 모델을, `yaml`이면 모델 구조 설정파일을 download하여 실행한다.\n",
    "                - pretrained model은 fine tuning이나 추론할 때, yaml설정파일은 처음부터 학습할 경우 설정하여 받는다.\n",
    "    - <b style='font-size:1.2em'>args:</b> task와 mode과 관련한 추가 설정값들을 지정한다.\n",
    "        - https://docs.ultralytics.com/cfg/"
   ]
  },
  {
   "cell_type": "markdown",
   "id": "fb7e10cd",
   "metadata": {},
   "source": [
    "# [Object Detection](https://docs.ultralytics.com/tasks/detection/)"
   ]
  },
  {
   "cell_type": "markdown",
   "id": "7ca360a0",
   "metadata": {},
   "source": [
    "##  Predict (추론)\n",
    "\n",
    "### 모델로딩\n",
    "- Ultralytics에서 제공하는 Pretrained Model이나 직접 학습시킨 모델을 이용해 추론한다.\n",
    "- Ultralytics는 Object Detection을 위한 [Pretrained 모델](#제공-모델)을 제공한다.\n",
    "    - Object Detection 모델은 COCO dataset으로 학습되었다.\n",
    "    - 모델 명을 지정하면 자동으로 다운로드를 받는다."
   ]
  },
  {
   "cell_type": "markdown",
   "id": "8235d4bc",
   "metadata": {},
   "source": [
    "### CLI\n",
    "`yolo task=detect mode=predict model=model_path source=추론할_image_path`\n",
    "- 추가 설정 (configuration)\n",
    "    - https://docs.ultralytics.com/cfg\n",
    "    "
   ]
  },
  {
   "cell_type": "code",
   "execution_count": null,
   "id": "631c8155",
   "metadata": {},
   "outputs": [],
   "source": [
    "!pip install ultralytics --upgrade"
   ]
  },
  {
   "cell_type": "code",
   "execution_count": null,
   "id": "5d91578f",
   "metadata": {
    "ExecuteTime": {
     "end_time": "2023-03-09T07:29:55.783401Z",
     "start_time": "2023-03-09T07:29:46.404535Z"
    },
    "scrolled": false
   },
   "outputs": [],
   "source": [
    "!yolo  task=detect  mode=predict   model=models/yolov8s.pt   source=test_image/3.jpg  save=True  save_txt=True  line_width=1"
   ]
  },
  {
   "cell_type": "markdown",
   "id": "7b0f28a7",
   "metadata": {},
   "source": [
    "### Python"
   ]
  },
  {
   "cell_type": "code",
   "execution_count": null,
   "id": "64f37008",
   "metadata": {
    "ExecuteTime": {
     "end_time": "2023-03-09T07:38:46.694238Z",
     "start_time": "2023-03-09T07:38:42.088027Z"
    }
   },
   "outputs": [],
   "source": [
    "from ultralytics import YOLO"
   ]
  },
  {
   "cell_type": "code",
   "execution_count": null,
   "id": "522e29bd",
   "metadata": {
    "ExecuteTime": {
     "end_time": "2023-03-09T07:40:51.237815Z",
     "start_time": "2023-03-09T07:40:25.206490Z"
    }
   },
   "outputs": [],
   "source": [
    "model = YOLO(\"models/yolov8m.pt\")  # YOLO 클래스 객체 생성하면서 사용할 pretrained model의 경로를 지정."
   ]
  },
  {
   "cell_type": "code",
   "execution_count": null,
   "id": "2881ee4a",
   "metadata": {
    "ExecuteTime": {
     "end_time": "2023-03-09T07:48:11.948615Z",
     "start_time": "2023-03-09T07:48:09.261815Z"
    }
   },
   "outputs": [],
   "source": [
    "image_path = 'test_image/2.jpg'\n",
    "result_list = model(image_path, save=True, save_txt=True, line_width=1)"
   ]
  },
  {
   "cell_type": "code",
   "execution_count": null,
   "id": "6e271a9f",
   "metadata": {
    "ExecuteTime": {
     "end_time": "2023-03-09T08:08:59.743991Z",
     "start_time": "2023-03-09T08:08:59.729442Z"
    }
   },
   "outputs": [],
   "source": [
    "type(result_list), len(result_list)\n",
    "# 리스트에 추론한 결과를 추론한 이미지별로 저장해서 반환."
   ]
  },
  {
   "cell_type": "code",
   "execution_count": null,
   "id": "bb48e01f",
   "metadata": {
    "ExecuteTime": {
     "end_time": "2023-03-09T08:10:01.164886Z",
     "start_time": "2023-03-09T08:10:01.155305Z"
    }
   },
   "outputs": [],
   "source": [
    "type(result_list[0])"
   ]
  },
  {
   "cell_type": "markdown",
   "id": "f33daef5",
   "metadata": {},
   "source": [
    "### 한번에 여러장 추론\n",
    "- 추론할 파일경로를 리스트로 묶어서 추론한다."
   ]
  },
  {
   "cell_type": "code",
   "execution_count": null,
   "id": "17a4ca18",
   "metadata": {
    "ExecuteTime": {
     "end_time": "2023-03-09T08:12:43.479144Z",
     "start_time": "2023-03-09T08:12:43.459754Z"
    }
   },
   "outputs": [],
   "source": [
    "from glob import glob\n",
    "file_path = glob('test_image/*.jpg')\n",
    "file_path"
   ]
  },
  {
   "cell_type": "code",
   "execution_count": null,
   "id": "9373630b",
   "metadata": {
    "ExecuteTime": {
     "end_time": "2023-03-09T08:14:18.181503Z",
     "start_time": "2023-03-09T08:14:09.443734Z"
    }
   },
   "outputs": [],
   "source": [
    "model = YOLO('models/yolov8m.pt')\n",
    "result_list = model(file_path, save=True, save_txt=True, line_width=1)"
   ]
  },
  {
   "cell_type": "code",
   "execution_count": null,
   "id": "ca45b257",
   "metadata": {
    "ExecuteTime": {
     "end_time": "2023-03-09T08:19:58.998534Z",
     "start_time": "2023-03-09T08:19:58.979069Z"
    }
   },
   "outputs": [],
   "source": [
    "len(result_list), type(result_list[0])"
   ]
  },
  {
   "cell_type": "markdown",
   "id": "471f3231",
   "metadata": {},
   "source": [
    "### web 상의 이미지 추론"
   ]
  },
  {
   "cell_type": "code",
   "execution_count": null,
   "id": "a6c7a79d",
   "metadata": {
    "ExecuteTime": {
     "end_time": "2023-03-09T08:22:05.173435Z",
     "start_time": "2023-03-09T08:22:02.111740Z"
    }
   },
   "outputs": [],
   "source": [
    "result_list = model(\"https://ultralytics.com/images/bus.jpg\", save=True)"
   ]
  },
  {
   "cell_type": "code",
   "execution_count": null,
   "id": "c4fe0fb2",
   "metadata": {
    "ExecuteTime": {
     "end_time": "2023-03-09T08:24:59.228076Z",
     "start_time": "2023-03-09T08:24:57.908118Z"
    }
   },
   "outputs": [],
   "source": [
    "result_list = model('https://storage3.ilyo.co.kr/contents/article/images/2015/0601/1433148424953500.jpg', save=True)"
   ]
  },
  {
   "cell_type": "markdown",
   "id": "fcd00d48",
   "metadata": {},
   "source": [
    "## 추론결과"
   ]
  },
  {
   "cell_type": "markdown",
   "id": "49ea25ad",
   "metadata": {},
   "source": [
    "### ultralytics.yolo.engine.results.Results\n",
    "- 모델의 추론 결과는 list에 이미지별 예측결과를 Results에 담아 반환한다.\n",
    "- **Results** : 한개 이미지에 대한 추론결과를 담는 객체\n",
    "- 추론 종류에 따라 다음 속성을 이용해 결과를 조회한다.\n",
    "    - Detection: `result.boxes` - Boxes type\n",
    "    - Segmentation: `result.masks` - Masks type\n",
    "    - Classification: `result.probs` - torch.Tensor type\n",
    "    - Pose: `result.keypoints` - Keypoints type\n",
    "- 추가 정보\n",
    "    - Results.orig_img: 추론한 원본 이미지\n",
    "    - Results.orig_shape: 추론한 원본 이미지의 크기 (height, width)\n",
    "    - Results.path: 추론한 원본이미지의 경로"
   ]
  },
  {
   "cell_type": "code",
   "execution_count": null,
   "id": "1163e3a5",
   "metadata": {
    "ExecuteTime": {
     "end_time": "2023-03-10T02:37:27.849021Z",
     "start_time": "2023-03-10T02:37:25.757658Z"
    }
   },
   "outputs": [],
   "source": [
    "from ultralytics import YOLO\n",
    "\n",
    "model = YOLO('models/yolov8m.pt')\n",
    "result_list = model('bus.jpg', save=True)"
   ]
  },
  {
   "cell_type": "code",
   "execution_count": null,
   "id": "decff4f0",
   "metadata": {
    "ExecuteTime": {
     "end_time": "2023-03-10T00:47:22.201958Z",
     "start_time": "2023-03-10T00:47:22.181626Z"
    }
   },
   "outputs": [],
   "source": [
    "type(result_list), len(result_list), type(result_list[0])"
   ]
  },
  {
   "cell_type": "code",
   "execution_count": null,
   "id": "18ae20f7",
   "metadata": {
    "ExecuteTime": {
     "end_time": "2023-03-10T01:18:30.976636Z",
     "start_time": "2023-03-10T01:18:30.946843Z"
    }
   },
   "outputs": [],
   "source": [
    "# 추론한 원본 이미지에 대한 정보\n",
    "result = result_list[0]\n",
    "print('원본 이미지 경로:', result.path)\n",
    "print('원본 이미지 크기:', result.orig_shape)\n",
    "print('원본 이미지:', result.orig_img.shape)"
   ]
  },
  {
   "cell_type": "markdown",
   "id": "2825ee77",
   "metadata": {},
   "source": [
    "### Object Detection 결과값 조회\n",
    "\n",
    "- ultralytics.yolo.engine.results.**Boxes**에 추론 결과를 담아 반환\n",
    "    - Results.boxes로 조회\n",
    "- 주요 속성\n",
    "    - shape: 결과 shape. (찾은 물체개수, 6)\n",
    "    - boxes\n",
    "        - 6: 좌상단 x, 좌상단 y, 우하단 x, 우하단 y, confidence score, label\n",
    "    - xyxy\n",
    "        - bounding box의 `좌상단 x, 좌상단 y, 우하단 x, 우하단 y` 좌표 반환\n",
    "    - xyxyn\n",
    "        - xyxy를 이미지 대비 비율로 반환\n",
    "    - xywh\n",
    "        - bounding box의 `center x, center y, 너비, 높이` 를 반환\n",
    "    - xywhn\n",
    "        - xywh를 이미지 대비 비율로 반환\n",
    "    - cls: 찾은 물체의 label\n",
    "    - conf: cls에 대한 confidence score (그 물체일 확률)\n",
    "    - boxes\n",
    "        - `x, y, x, y, conf, cls` tensor를 반환"
   ]
  },
  {
   "cell_type": "code",
   "execution_count": null,
   "id": "6487f920",
   "metadata": {
    "ExecuteTime": {
     "end_time": "2023-03-10T01:27:01.037555Z",
     "start_time": "2023-03-10T01:27:01.020187Z"
    }
   },
   "outputs": [],
   "source": [
    "boxes = result.boxes  # detection한 결과를 조회 (Boxes 객체)\n",
    "print(type(boxes))"
   ]
  },
  {
   "cell_type": "code",
   "execution_count": null,
   "id": "2f364174",
   "metadata": {
    "ExecuteTime": {
     "end_time": "2023-03-10T01:27:30.413278Z",
     "start_time": "2023-03-10T01:27:30.389162Z"
    }
   },
   "outputs": [],
   "source": [
    "boxes.shape\n",
    "# [n, 6] : n-찾은 bbox(object) 개수,  6-x y x y label conf  (x y x y : 좌상단 우하단 좌표)"
   ]
  },
  {
   "cell_type": "code",
   "execution_count": null,
   "id": "66c40a74",
   "metadata": {
    "ExecuteTime": {
     "end_time": "2023-03-10T01:31:12.123370Z",
     "start_time": "2023-03-10T01:31:12.101794Z"
    }
   },
   "outputs": [],
   "source": [
    "# 찾은 bbox들에 대한 classification 정보\n",
    "print(boxes.cls)  # 찾은 n개 bbox에 대한 class 들을 반환.\n",
    "print(boxes.conf) # 찾은 n개 bbox에대한 confidence score(확률) 들을 반환"
   ]
  },
  {
   "cell_type": "code",
   "execution_count": null,
   "id": "647c242e",
   "metadata": {
    "ExecuteTime": {
     "end_time": "2023-03-10T01:37:16.938027Z",
     "start_time": "2023-03-10T01:37:16.918682Z"
    }
   },
   "outputs": [],
   "source": [
    "# bbox의 위치정보\n",
    "print(boxes.xyxy)  # 좌상단 우하단 x/y좌표\n",
    "print(boxes.xyxyn) #이미지크기 대비 비율"
   ]
  },
  {
   "cell_type": "code",
   "execution_count": null,
   "id": "0bd37164",
   "metadata": {
    "ExecuteTime": {
     "end_time": "2023-03-10T01:38:38.165810Z",
     "start_time": "2023-03-10T01:38:38.146348Z"
    }
   },
   "outputs": [],
   "source": [
    "print(boxes.xywh)  # center x, y좌표, bbox width, height\n",
    "print(boxes.xywhn)  # center x, y좌표, bbox width, height 이미지크기 대비 비율"
   ]
  },
  {
   "cell_type": "code",
   "execution_count": null,
   "id": "c782961a",
   "metadata": {
    "ExecuteTime": {
     "end_time": "2023-03-10T01:45:00.968554Z",
     "start_time": "2023-03-10T01:45:00.949314Z"
    }
   },
   "outputs": [],
   "source": [
    "from module import util\n",
    "\n",
    "print(util.get_color(0))\n",
    "print(util.get_coco80_classname(0))\n",
    "print(util.get_imagenet_classname(1))"
   ]
  },
  {
   "cell_type": "code",
   "execution_count": null,
   "id": "753dfe79",
   "metadata": {
    "ExecuteTime": {
     "end_time": "2023-03-10T01:49:19.595145Z",
     "start_time": "2023-03-10T01:49:19.585693Z"
    }
   },
   "outputs": [],
   "source": [
    "idx = boxes.cls[0]\n",
    "\n",
    "util.get_coco80_classname(int(idx.item()))"
   ]
  },
  {
   "cell_type": "code",
   "execution_count": null,
   "id": "55a13893",
   "metadata": {
    "ExecuteTime": {
     "end_time": "2023-03-10T02:39:36.686733Z",
     "start_time": "2023-03-10T02:39:34.470549Z"
    }
   },
   "outputs": [],
   "source": [
    "# 원본 이미지에 추론 결과를 출력\n",
    "import cv2\n",
    "from ultralytics import YOLO\n",
    "\n",
    "model = YOLO('models/yolov8m.pt')\n",
    "path = 'bus.jpg'\n",
    "path = 'test_image/1.jpg'\n",
    "result_list = model(path, save=True)\n",
    "result = result_list[0]\n",
    "\n",
    "org_img = result.orig_img  #BGR\n",
    "img = org_img.copy()\n",
    "\n",
    "boxes = result.boxes\n",
    "xyxy_list = boxes.xyxy  #좌상단/우하단 좌표\n",
    "cls_list = boxes.cls    #label\n",
    "conf_list = boxes.conf  #label  확률.\n",
    "for xyxy, cls, conf in zip(xyxy_list, cls_list, conf_list):\n",
    "#     print(xyxy, conf, cls)\n",
    "    xyxy_arr = xyxy.to('cpu').numpy().astype('int32')\n",
    "    pt1 = xyxy_arr[:2]\n",
    "    pt2 = xyxy_arr[2:]\n",
    "    \n",
    "    label_name = util.get_coco80_classname(int(cls.item()))\n",
    "    txt = f\"{label_name}-{conf.item()*100:.2f}\"\n",
    "    \n",
    "    color = util.get_color(int(cls.item()) % 10)\n",
    "    # bbox\n",
    "    cv2.rectangle(img, pt1=pt1, pt2=pt2, color=color, thickness=2)\n",
    "    # label\n",
    "    cv2.putText(img, text=txt, org=pt1-5, fontFace=cv2.FONT_HERSHEY_SIMPLEX, fontScale=0.5, \n",
    "                color=color, thickness=1, lineType=cv2.LINE_AA)\n"
   ]
  },
  {
   "cell_type": "code",
   "execution_count": null,
   "id": "f4d39f28",
   "metadata": {
    "ExecuteTime": {
     "end_time": "2023-03-10T02:47:26.274458Z",
     "start_time": "2023-03-10T02:47:08.973212Z"
    }
   },
   "outputs": [],
   "source": [
    "cv2.imshow('frame', img)\n",
    "cv2.waitKey(0)\n",
    "cv2.destroyAllWindows()"
   ]
  },
  {
   "cell_type": "markdown",
   "id": "59ff3703",
   "metadata": {},
   "source": [
    "## 실시간 Detection\n"
   ]
  },
  {
   "cell_type": "code",
   "execution_count": null,
   "id": "88d0397a",
   "metadata": {
    "ExecuteTime": {
     "end_time": "2023-03-10T05:27:33.119152Z",
     "start_time": "2023-03-10T05:27:05.214673Z"
    }
   },
   "outputs": [],
   "source": [
    "import cv2\n",
    "from module import util\n",
    "from ultralytics import YOLO\n",
    "\n",
    "# 웹캠 연동\n",
    "cap = cv2.VideoCapture(0)\n",
    "# 모델 생성\n",
    "model = YOLO('models/yolov8n.pt')\n",
    "while True:\n",
    "    # 한 Frame 읽기\n",
    "    success, frame = cap.read()\n",
    "    if not success:\n",
    "        print('프레임을 읽지 못함')\n",
    "        break\n",
    "        \n",
    "    frame = cv2.cvtColor(cv2.flip(frame, 1), cv2.COLOR_BGR2RGB)\n",
    "    \n",
    "    result = model(frame)[0]\n",
    "    xyxy_list = result.boxes.xyxy.to('cpu').numpy().astype('int32')\n",
    "    cls_list = result.boxes.cls.to('cpu').numpy().astype('int32')\n",
    "    conf_list = result.boxes.conf.to('cpu').numpy()\n",
    "    \n",
    "    for xyxy, cls, conf in zip(xyxy_list, cls_list, conf_list):\n",
    "        pt1, pt2 = xyxy[:2], xyxy[2:]\n",
    "        txt = f\"{util.get_coco80_classname(cls)}-{conf*100:.2f}%\"\n",
    "        color = util.get_color(cls % 10)\n",
    "        cv2.rectangle(frame, pt1, pt2, color=color)\n",
    "        cv2.putText(frame, txt, org=pt1, fontFace=cv2.FONT_HERSHEY_SIMPLEX, fontScale=1,\n",
    "                    color=color, thickness=2, lineType=cv2.LINE_AA)\n",
    "        \n",
    "    # 화면에 출력\n",
    "    cv2.imshow('frame', cv2.cvtColor(frame, cv2.COLOR_BGR2RGB))\n",
    "    if cv2.waitKey(1) == 27: # esc \n",
    "        break\n",
    "        \n",
    "cv2.destroyAllWindows()\n",
    "cap.release()"
   ]
  }
 ],
 "metadata": {
  "kernelspec": {
   "display_name": "Python 3 (ipykernel)",
   "language": "python",
   "name": "python3"
  },
  "language_info": {
   "codemirror_mode": {
    "name": "ipython",
    "version": 3
   },
   "file_extension": ".py",
   "mimetype": "text/x-python",
   "name": "python",
   "nbconvert_exporter": "python",
   "pygments_lexer": "ipython3",
   "version": "3.8.5"
  },
  "toc": {
   "base_numbering": 1,
   "nav_menu": {},
   "number_sections": false,
   "sideBar": true,
   "skip_h1_title": false,
   "title_cell": "Table of Contents",
   "title_sidebar": "Contents",
   "toc_cell": false,
   "toc_position": {
    "height": "calc(100% - 180px)",
    "left": "10px",
    "top": "150px",
    "width": "307.2px"
   },
   "toc_section_display": true,
   "toc_window_display": false
  },
  "varInspector": {
   "cols": {
    "lenName": 16,
    "lenType": 16,
    "lenVar": 40
   },
   "kernels_config": {
    "python": {
     "delete_cmd_postfix": "",
     "delete_cmd_prefix": "del ",
     "library": "var_list.py",
     "varRefreshCmd": "print(var_dic_list())"
    },
    "r": {
     "delete_cmd_postfix": ") ",
     "delete_cmd_prefix": "rm(",
     "library": "var_list.r",
     "varRefreshCmd": "cat(var_dic_list()) "
    }
   },
   "types_to_exclude": [
    "module",
    "function",
    "builtin_function_or_method",
    "instance",
    "_Feature"
   ],
   "window_display": false
  },
  "vscode": {
   "interpreter": {
    "hash": "d6bb26803bcea62f49e4c67963aa289be587a14c784102c9499967ce94407a08"
   }
  }
 },
 "nbformat": 4,
 "nbformat_minor": 5
}
