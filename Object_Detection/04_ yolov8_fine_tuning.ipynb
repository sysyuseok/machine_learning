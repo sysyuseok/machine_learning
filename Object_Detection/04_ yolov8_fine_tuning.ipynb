{
 "cells": [
  {
   "cell_type": "markdown",
   "id": "0261426e",
   "metadata": {
    "id": "0261426e"
   },
   "source": [
    "# Custom data training\n",
    "\n",
    "## 학습데이터 디렉토리 구조\n",
    "\n",
    "- train/validation/test 데이터셋 디렉토리를 각각 생성한다.\n",
    "- images 폴더에 이미지 파일을, labels 폴더에 annotation 파일들을 저장한다.\n",
    "    - annotation 파일은 대상 image 파일과 이름이 같아야 하고 확장자는 txt로 한다."
   ]
  },
  {
   "cell_type": "markdown",
   "id": "fabff423",
   "metadata": {},
   "source": [
    "![img](figures/img.png)"
   ]
  },
  {
   "cell_type": "markdown",
   "id": "6ce054b9",
   "metadata": {
    "id": "6ce054b9"
   },
   "source": [
    "- YOLO object detection annotation 파일 형식\n",
    "    - 공백을 구분자로 하는 csv 파일 형식\n",
    "    - 한줄에 한개 object의 정보를 작성한다.\n",
    "    - `label center_x, center_y, bbox_width, bbox_height`\n",
    "        - bbox 위치정보는 image의 size 에 대한 비율로 정의한다.\n",
    "        - 예)\n",
    "            ```\n",
    "            0.0    0.329934450147929     0.5672360751315789    0.25200291331360947   0.15803108815789477\n",
    "            0.0    0.8026219956360947    0.5186609456578948    0.0975965039940829    0.08419689131578946\n",
    "            ```\n"
   ]
  },
  {
   "cell_type": "markdown",
   "id": "df4c3706",
   "metadata": {
    "id": "df4c3706"
   },
   "source": [
    "## 학습 설정 yaml 파일 작성\n",
    "- 다음 항목들을 작성한다.\n",
    "    - train: train dataset 저장경로\n",
    "    - test: test dataset 저장경로\n",
    "    - val: validation dataset 저장경로\n",
    "        - train/test/validation 저장경로는 절대경로로 작성한다.\n",
    "    - nc: class 개수\n",
    "    - names: class name\n",
    "        ```yaml\n",
    "        train: C:\\datasets\\train\n",
    "        test: C:\\datasets\\test\n",
    "        val: C:\\datasets\\val\n",
    "        nc: 2\n",
    "        names: [\"car\", \"bus\"]\n",
    "        ```\n",
    "\n",
    "> yaml: https://yaml.org/"
   ]
  },
  {
   "cell_type": "markdown",
   "id": "defbc4fd",
   "metadata": {
    "id": "defbc4fd"
   },
   "source": [
    "## Training 하기\n",
    "### CLI\n",
    "\n",
    "<b style='font-size:1.3em'>1.  학습시작</b>\n",
    "```bash\n",
    "yolo detect train data=custom_data.yaml model=yolov8n.pt epochs=100 imgsz=640\n",
    "```\n",
    "- model: train 지정\n",
    "- data: 학습관련 설정 파일 경로로 다음을 설정한다.\n",
    "    - train/test/validation dataset 저장경로\n",
    "    - class 개수\n",
    "    - class name\n",
    "- model: fine tuning 시 시작 Pretrained Model 파일 경로\n",
    "- args\n",
    "    - epochs: 반복횟수\n",
    "    - imgsz: input image size\n",
    "    - https://docs.ultralytics.com/cfg/\n",
    "\n",
    "<b style='font-size:1.3em'>2. 이어서 학습하기</b>\n",
    "```bash\n",
    "yolo detect train resume model=last.pt\n",
    "```\n",
    "- model: 마지막으로 저장된 파일 경로"
   ]
  },
  {
   "cell_type": "markdown",
   "id": "a06af4eb",
   "metadata": {
    "id": "a06af4eb"
   },
   "source": [
    "### Python\n",
    "\n",
    "1. YOLO객체 생성\n",
    "    - Fine tuning할 경우 pretrained 모델파일 저장 경로를 지정한다.\n",
    "    - 새로 학습할 경우 모델구조를 정의한 yaml 설정파일 저장 경로를 지정한다.\n",
    "2. train\n",
    "    - train 설정 yaml 파일의 위치와 train을 위한 정보들을 매개변수로 전달한다."
   ]
  },
  {
   "cell_type": "code",
   "execution_count": null,
   "id": "XcgLzwpPPkJ0",
   "metadata": {
    "colab": {
     "base_uri": "https://localhost:8080/"
    },
    "executionInfo": {
     "elapsed": 18281,
     "status": "ok",
     "timestamp": 1686743148112,
     "user": {
      "displayName": "김성환",
      "userId": "02802166581970122576"
     },
     "user_tz": -540
    },
    "id": "XcgLzwpPPkJ0",
    "outputId": "9b470966-3c4b-4976-9fcc-8858ec6342fd"
   },
   "outputs": [],
   "source": [
    "from google.colab import drive\n",
    "drive.mount('/content/drive')"
   ]
  },
  {
   "cell_type": "code",
   "execution_count": null,
   "id": "Az7zqQ7-P0u-",
   "metadata": {
    "executionInfo": {
     "elapsed": 328,
     "status": "ok",
     "timestamp": 1686744118723,
     "user": {
      "displayName": "김성환",
      "userId": "02802166581970122576"
     },
     "user_tz": -540
    },
    "id": "Az7zqQ7-P0u-"
   },
   "outputs": [],
   "source": [
    "# 디렉토리, 파일 경로 변수\n",
    "import os\n",
    "DATA_TARGET_DIR_PATH = 'data'\n",
    "\n",
    "os.makedirs(DATA_TARGET_DIR_PATH, exist_ok=True)"
   ]
  },
  {
   "cell_type": "markdown",
   "id": "b6c64635",
   "metadata": {
    "id": "b6c64635"
   },
   "source": [
    "## Dataset 다운 및 복사\n",
    "\n",
    "- https://universe.roboflow.com/bohni-tech/fruits-and-vegi/"
   ]
  },
  {
   "cell_type": "code",
   "execution_count": null,
   "id": "VWuvsuCMvMdL",
   "metadata": {
    "colab": {
     "base_uri": "https://localhost:8080/",
     "height": 72
    },
    "executionInfo": {
     "elapsed": 10282,
     "status": "ok",
     "timestamp": 1686744131839,
     "user": {
      "displayName": "김성환",
      "userId": "02802166581970122576"
     },
     "user_tz": -540
    },
    "id": "VWuvsuCMvMdL",
    "outputId": "77a9e950-2e99-4ff6-8880-6e771886101a"
   },
   "outputs": [],
   "source": [
    "!pip install wget --upgrade\n",
    "import wget\n",
    "\n",
    "DATA_SOURCE_FILE_PATH = wget.download(\"https://universe.roboflow.com/ds/zeboj2RMLi?key=8NoMSoXc2m\", out=DATA_TARGET_DIR_PATH)\n",
    "DATA_SOURCE_FILE_PATH"
   ]
  },
  {
   "cell_type": "code",
   "execution_count": null,
   "id": "WvVGf9cURTb2",
   "metadata": {
    "executionInfo": {
     "elapsed": 6275,
     "status": "ok",
     "timestamp": 1686744141776,
     "user": {
      "displayName": "김성환",
      "userId": "02802166581970122576"
     },
     "user_tz": -540
    },
    "id": "WvVGf9cURTb2"
   },
   "outputs": [],
   "source": [
    "from zipfile import ZipFile\n",
    "\n",
    "with ZipFile(DATA_SOURCE_FILE_PATH) as zipFile:\n",
    "    zipFile.extractall(DATA_TARGET_DIR_PATH)"
   ]
  },
  {
   "cell_type": "markdown",
   "id": "637df3d5",
   "metadata": {
    "id": "637df3d5"
   },
   "source": [
    "# 과일, 야채 image detection"
   ]
  },
  {
   "cell_type": "code",
   "execution_count": null,
   "id": "b3d22782",
   "metadata": {
    "executionInfo": {
     "elapsed": 327,
     "status": "ok",
     "timestamp": 1686744170501,
     "user": {
      "displayName": "김성환",
      "userId": "02802166581970122576"
     },
     "user_tz": -540
    },
    "id": "b3d22782"
   },
   "outputs": [],
   "source": [
    "fruits = ['Apple', 'Banana', 'Beetroot', 'Bitter_Gourd', 'Bottle_Gourd', 'Cabbage', 'Capsicum', 'Carrot', 'Cauliflower', 'Cherry', 'Chilli', 'Coconut', 'Cucumber',\n",
    "          'EggPlant', 'Ginger', 'Grape', 'Green_Orange', 'Kiwi', 'Maize', 'Mango', 'Melon', 'Okra', 'Onion', 'Orange', 'Peach', 'Pear', 'Peas',\n",
    "          'Pineapple', 'Pomegranate', 'Potato', 'Radish', 'Strawberry', 'Tomato', 'Turnip', 'Watermelon']"
   ]
  },
  {
   "cell_type": "markdown",
   "id": "b0e2f195",
   "metadata": {
    "id": "b0e2f195"
   },
   "source": [
    "## yaml 설정파일 작성"
   ]
  },
  {
   "cell_type": "code",
   "execution_count": null,
   "id": "638d7b6c",
   "metadata": {
    "colab": {
     "base_uri": "https://localhost:8080/"
    },
    "executionInfo": {
     "elapsed": 4587,
     "status": "ok",
     "timestamp": 1686744176565,
     "user": {
      "displayName": "김성환",
      "userId": "02802166581970122576"
     },
     "user_tz": -540
    },
    "id": "638d7b6c",
    "outputId": "226a8a50-dcb6-4702-8450-1b139bfe0ca7"
   },
   "outputs": [],
   "source": [
    "!pip install pyyaml"
   ]
  },
  {
   "cell_type": "code",
   "execution_count": null,
   "id": "d3af3048",
   "metadata": {
    "executionInfo": {
     "elapsed": 3,
     "status": "ok",
     "timestamp": 1686744176565,
     "user": {
      "displayName": "김성환",
      "userId": "02802166581970122576"
     },
     "user_tz": -540
    },
    "id": "d3af3048"
   },
   "outputs": [],
   "source": [
    "# python: dictionary <-----> yaml\n",
    "# 출력할 데이터를 dictionary로 구성\n",
    "import yaml\n",
    "import os\n",
    "\n",
    "data = {\n",
    "    \"train\":r\"/content/data/train\",\n",
    "    \"val\":r\"/content/data/valid\",\n",
    "    \"test\":r\"/content/data/test\",\n",
    "    \"nc\":35,\n",
    "    \"names\":fruits\n",
    "}\n",
    "# os.makedirs(\"data\", exist_ok=True)# 저장할 디렉토리 생성\n",
    "\n",
    "with open('data/custom_data.yaml', 'wt') as fw:\n",
    "    yaml.dump(data, fw) #dump() 는 쓰고 load()는 읽는 것"
   ]
  },
  {
   "cell_type": "code",
   "execution_count": null,
   "id": "03b3770b",
   "metadata": {
    "colab": {
     "base_uri": "https://localhost:8080/"
    },
    "executionInfo": {
     "elapsed": 2,
     "status": "ok",
     "timestamp": 1686744176565,
     "user": {
      "displayName": "김성환",
      "userId": "02802166581970122576"
     },
     "user_tz": -540
    },
    "id": "03b3770b",
    "outputId": "2746b0d8-d101-45dc-eb0f-dea7088bd42e"
   },
   "outputs": [],
   "source": [
    "with open('data/custom_data.yaml', 'rt') as fr:\n",
    "    d = yaml.safe_load(fr)\n",
    "    print(type(d))\n",
    "    print(d)"
   ]
  },
  {
   "cell_type": "markdown",
   "id": "c99a24e9",
   "metadata": {
    "id": "c99a24e9"
   },
   "source": [
    "## 학습"
   ]
  },
  {
   "cell_type": "code",
   "execution_count": null,
   "id": "fi6gmA8mUJYh",
   "metadata": {
    "colab": {
     "base_uri": "https://localhost:8080/"
    },
    "executionInfo": {
     "elapsed": 4860,
     "status": "ok",
     "timestamp": 1686744184301,
     "user": {
      "displayName": "김성환",
      "userId": "02802166581970122576"
     },
     "user_tz": -540
    },
    "id": "fi6gmA8mUJYh",
    "outputId": "ac7aad67-09c5-49e3-cc66-8fbbaaa5f305"
   },
   "outputs": [],
   "source": [
    "# yolov8 설치\n",
    "!pip install ultralytics --upgrade"
   ]
  },
  {
   "cell_type": "code",
   "execution_count": null,
   "id": "7e9Mf2M8UJVd",
   "metadata": {
    "colab": {
     "base_uri": "https://localhost:8080/",
     "height": 1000
    },
    "executionInfo": {
     "elapsed": 40272,
     "status": "error",
     "timestamp": 1686744320835,
     "user": {
      "displayName": "김성환",
      "userId": "02802166581970122576"
     },
     "user_tz": -540
    },
    "id": "7e9Mf2M8UJVd",
    "outputId": "4c2e18c4-6c46-4aac-e918-dccfdae8e72d"
   },
   "outputs": [],
   "source": [
    "from ultralytics import YOLO\n",
    "\n",
    "model = YOLO('yolov8n.pt')\n",
    "# 학습 - train()메소드 호출\n",
    "model.train(data='data/custom_data.yaml',\n",
    "            epochs=1,\n",
    "            patience=20, # 지정한 epoch만큼 성능이 개선이 안되면 조기종료.\n",
    "            batch=64, #batch size\n",
    "            imgsz=640, #input image size\n",
    "            optimizer='Adam'\n",
    "            )"
   ]
  },
  {
   "cell_type": "code",
   "execution_count": null,
   "id": "siY_DPHOUJIf",
   "metadata": {
    "id": "siY_DPHOUJIf"
   },
   "outputs": [],
   "source": []
  },
  {
   "cell_type": "markdown",
   "id": "ae1f38a6",
   "metadata": {
    "id": "ae1f38a6"
   },
   "source": [
    "- <b style='font-size:1.5em'>결과</b>\n",
    "```bash\n",
    "Epoch    GPU_mem   box_loss   cls_loss   dfl_loss  Instances       Size\n",
    "    100/100      39.5G     0.7396     0.5254      1.153         98        640: 100%|██████████| 137/137 [01:04<00:00,  2.12it/s]\n",
    "                 Class     Images  Instances      Box(P          R      mAP50  mAP50-95): 100%|██████████| 2/2 [00:06<00:00,  3.05s/it]\n",
    "                   all        147        613      0.768      0.846      0.877      0.652\n",
    "\n",
    "100 epochs completed in 3.049 hours.\n",
    "Optimizer stripped from runs/detect/train3/weights/last.pt, 52.0MB\n",
    "Optimizer stripped from runs/detect/train3/weights/best.pt, 52.0MB\n",
    "\n",
    "Validating runs/detect/train3/weights/best.pt...\n",
    "Ultralytics YOLOv8.0.50 🚀 Python-3.8.10 torch-1.13.1+cu116 CUDA:0 (NVIDIA A100-SXM4-40GB, 40514MiB)\n",
    "Model summary (fused): 218 layers, 25860025 parameters, 0 gradients, 78.8 GFLOPs\n",
    "                 Class     Images  Instances      Box(P          R      mAP50  mAP50-95): 100%|██████████| 2/2 [00:05<00:00,  3.00s/it]\n",
    "                   all        147        613      0.803      0.826      0.876      0.652\n",
    "                 Apple        147         22      0.806      0.864      0.897      0.772\n",
    "                Banana        147          7      0.777      0.857      0.917      0.582\n",
    "          Bitter_Gourd        147          4      0.683       0.25      0.351      0.125\n",
    "               Cabbage        147         38       0.85      0.896      0.953      0.731\n",
    "                Carrot        147          9          1      0.967      0.995      0.531\n",
    "                Cherry        147          2      0.814          1      0.995      0.895\n",
    "               Coconut        147          1      0.379          1      0.995      0.995\n",
    "              Cucumber        147         13      0.901      0.846       0.86      0.648\n",
    "                Ginger        147         14      0.902      0.929      0.952      0.592\n",
    "                 Grape        147          6       0.85          1      0.995      0.752\n",
    "          Green_Orange        147         12      0.894          1      0.995      0.913\n",
    "                  Kiwi        147         13      0.681      0.988      0.936      0.702\n",
    "                 Mango        147         33      0.966      0.879      0.964      0.749\n",
    "                 Melon        147         31      0.845      0.529      0.709      0.394\n",
    "                  Okra        147          2      0.921        0.5      0.502      0.301\n",
    "                 Onion        147         15      0.798      0.867      0.938      0.618\n",
    "                Orange        147         14      0.933      0.857      0.932      0.805\n",
    "                 Peach        147         16      0.941      0.688      0.904      0.748\n",
    "                  Pear        147          9       0.93          1      0.995      0.798\n",
    "                  Peas        147          1      0.408          1      0.995      0.895\n",
    "             Pineapple        147         30      0.844      0.733      0.812      0.463\n",
    "           Pomegranate        147         18      0.928          1      0.995      0.836\n",
    "                Potato        147        208      0.767      0.659      0.764      0.419\n",
    "            Strawberry        147         19      0.937          1      0.995      0.807\n",
    "                Tomato        147         50      0.796       0.74       0.88      0.583\n",
    "                Turnip        147          3      0.297      0.333       0.45      0.203\n",
    "            Watermelon        147         23      0.829      0.913      0.973      0.738\n",
    "Speed: 1.3ms preprocess, 1.7ms inference, 0.0ms loss, 0.9ms postprocess per image\n",
    "Results saved to runs/detect/train3\n",
    "```\n"
   ]
  },
  {
   "cell_type": "code",
   "execution_count": null,
   "id": "6563f688",
   "metadata": {
    "id": "6563f688"
   },
   "outputs": [],
   "source": []
  },
  {
   "cell_type": "markdown",
   "id": "bfbf9771",
   "metadata": {
    "id": "bfbf9771"
   },
   "source": [
    "## 평가\n",
    "- YOLO객체 생성시 저장된 모델파일 경로를 넣어 생성한다.\n",
    "    - 학습할때 사용한 yaml파일 학습때와 동일한 경로에 있어야 한다.\n",
    "    - train/validation/test 데이터셋이 yaml에 등록된 경로에 있어야 한다.\n",
    "- `YOLO.val()` 이용\n",
    "    - DetMetrics 타입 객체에 결과를 담아 반환"
   ]
  },
  {
   "cell_type": "code",
   "execution_count": null,
   "id": "8b03f064",
   "metadata": {
    "colab": {
     "base_uri": "https://localhost:8080/"
    },
    "executionInfo": {
     "elapsed": 13011,
     "status": "ok",
     "timestamp": 1678433318070,
     "user": {
      "displayName": "encore엔코아",
      "userId": "03488190351334320755"
     },
     "user_tz": -540
    },
    "id": "8b03f064",
    "outputId": "d976d29c-ec7d-4fe8-c78d-104a1a6f4a50"
   },
   "outputs": [],
   "source": [
    "best_model_path = '/content/runs/detect/train/weights/best.pt'\n",
    "\n",
    "best_model = YOLO(best_model_path)\n",
    "\n",
    "metrics = best_model.val()"
   ]
  },
  {
   "cell_type": "code",
   "execution_count": null,
   "id": "6WCFBMV7bRGR",
   "metadata": {
    "colab": {
     "base_uri": "https://localhost:8080/"
    },
    "executionInfo": {
     "elapsed": 499,
     "status": "ok",
     "timestamp": 1678433410659,
     "user": {
      "displayName": "encore엔코아",
      "userId": "03488190351334320755"
     },
     "user_tz": -540
    },
    "id": "6WCFBMV7bRGR",
    "outputId": "03f3a9b0-327c-4cb3-da21-63a62dc50518"
   },
   "outputs": [],
   "source": [
    "print(metrics.box.map)  # map50-95"
   ]
  },
  {
   "cell_type": "code",
   "execution_count": null,
   "id": "pXeQPP98bQ-4",
   "metadata": {
    "colab": {
     "base_uri": "https://localhost:8080/"
    },
    "executionInfo": {
     "elapsed": 468,
     "status": "ok",
     "timestamp": 1678433431357,
     "user": {
      "displayName": "encore엔코아",
      "userId": "03488190351334320755"
     },
     "user_tz": -540
    },
    "id": "pXeQPP98bQ-4",
    "outputId": "73049038-fffe-4301-ef30-7f28364f11cc"
   },
   "outputs": [],
   "source": [
    "print(metrics.box.map50)"
   ]
  },
  {
   "cell_type": "code",
   "execution_count": null,
   "id": "L9OQRB2GbQ54",
   "metadata": {
    "colab": {
     "base_uri": "https://localhost:8080/"
    },
    "executionInfo": {
     "elapsed": 349,
     "status": "ok",
     "timestamp": 1678433442348,
     "user": {
      "displayName": "encore엔코아",
      "userId": "03488190351334320755"
     },
     "user_tz": -540
    },
    "id": "L9OQRB2GbQ54",
    "outputId": "42ef9239-8b41-4092-d863-49c4ed9c2262"
   },
   "outputs": [],
   "source": [
    "print(metrics.box.map75)"
   ]
  },
  {
   "cell_type": "code",
   "execution_count": null,
   "id": "7g5BxysLbQ0z",
   "metadata": {
    "colab": {
     "base_uri": "https://localhost:8080/"
    },
    "executionInfo": {
     "elapsed": 309,
     "status": "ok",
     "timestamp": 1678433468239,
     "user": {
      "displayName": "encore엔코아",
      "userId": "03488190351334320755"
     },
     "user_tz": -540
    },
    "id": "7g5BxysLbQ0z",
    "outputId": "30b05b47-356e-4157-8f29-2275a6bfe2e5"
   },
   "outputs": [],
   "source": [
    "print(metrics.box.maps) # 클래스별 ap score를 확인"
   ]
  },
  {
   "cell_type": "code",
   "execution_count": null,
   "id": "YH_uJfOBbnIi",
   "metadata": {
    "colab": {
     "base_uri": "https://localhost:8080/"
    },
    "executionInfo": {
     "elapsed": 451,
     "status": "ok",
     "timestamp": 1678433512149,
     "user": {
      "displayName": "encore엔코아",
      "userId": "03488190351334320755"
     },
     "user_tz": -540
    },
    "id": "YH_uJfOBbnIi",
    "outputId": "2d14a43d-dc39-4fcc-d295-6de171e41ae5"
   },
   "outputs": [],
   "source": [
    "for label, ap in zip(fruits, metrics.box.maps):\n",
    "    print(label, \":\", ap)"
   ]
  },
  {
   "cell_type": "markdown",
   "id": "4324ba11",
   "metadata": {
    "id": "4324ba11"
   },
   "source": [
    "# 추론"
   ]
  },
  {
   "cell_type": "code",
   "execution_count": 5,
   "id": "84fb03da",
   "metadata": {
    "id": "84fb03da"
   },
   "outputs": [],
   "source": [
    "from ultralytics import YOLO\n",
    "from glob import glob\n",
    "\n",
    "model = YOLO('best.pt')"
   ]
  },
  {
   "cell_type": "code",
   "execution_count": 6,
   "id": "4dc1e1d4",
   "metadata": {},
   "outputs": [
    {
     "data": {
      "text/plain": [
       "['test_image\\\\fruits_veg\\\\apple.jpg',\n",
       " 'test_image\\\\fruits_veg\\\\banana.jpg',\n",
       " 'test_image\\\\fruits_veg\\\\banana2.jpg',\n",
       " 'test_image\\\\fruits_veg\\\\capsicum1.jpg',\n",
       " 'test_image\\\\fruits_veg\\\\capsicum2.jpg',\n",
       " 'test_image\\\\fruits_veg\\\\eggplant.jpg',\n",
       " 'test_image\\\\fruits_veg\\\\grape.jpg',\n",
       " 'test_image\\\\fruits_veg\\\\melon1.jpg',\n",
       " 'test_image\\\\fruits_veg\\\\melon2.jpg',\n",
       " 'test_image\\\\fruits_veg\\\\pineapple.jpg',\n",
       " 'test_image\\\\fruits_veg\\\\pineapple2.jpg',\n",
       " 'test_image\\\\fruits_veg\\\\pomegranate.jpg']"
      ]
     },
     "execution_count": 6,
     "metadata": {},
     "output_type": "execute_result"
    }
   ],
   "source": [
    "file_list = glob(r\"test_image\\fruits_veg\\*.jpg\")\n",
    "file_list"
   ]
  },
  {
   "cell_type": "code",
   "execution_count": 7,
   "id": "9d4a19dc",
   "metadata": {
    "scrolled": true
   },
   "outputs": [
    {
     "name": "stderr",
     "output_type": "stream",
     "text": [
      "\n",
      "0: 640x640 7 Apples, 1: 640x640 1 Banana, 2: 640x640 1 Banana, 3: 640x640 4 Capsicums, 4: 640x640 2 Capsicums, 5: 640x640 1 EggPlant, 1 Watermelon, 6: 640x640 3 Grapes, 7: 640x640 1 Melon, 8: 640x640 1 Melon, 9: 640x640 1 Pineapple, 10: 640x640 7 Pineapples, 11: 640x640 2 Pomegranates, 8232.5ms\n",
      "Speed: 7.7ms preprocess, 686.0ms inference, 1.7ms postprocess per image at shape (1, 3, 640, 640)\n",
      "Results saved to \u001b[1mruns\\detect\\predict16\u001b[0m\n"
     ]
    }
   ],
   "source": [
    "result = model(file_list, save=True)"
   ]
  },
  {
   "cell_type": "code",
   "execution_count": null,
   "id": "887a60b6",
   "metadata": {},
   "outputs": [],
   "source": []
  }
 ],
 "metadata": {
  "accelerator": "GPU",
  "colab": {
   "provenance": []
  },
  "gpuClass": "standard",
  "kernelspec": {
   "display_name": "Python 3 (ipykernel)",
   "language": "python",
   "name": "python3"
  },
  "language_info": {
   "codemirror_mode": {
    "name": "ipython",
    "version": 3
   },
   "file_extension": ".py",
   "mimetype": "text/x-python",
   "name": "python",
   "nbconvert_exporter": "python",
   "pygments_lexer": "ipython3",
   "version": "3.8.5"
  },
  "toc": {
   "base_numbering": 1,
   "nav_menu": {},
   "number_sections": true,
   "sideBar": true,
   "skip_h1_title": false,
   "title_cell": "Table of Contents",
   "title_sidebar": "Contents",
   "toc_cell": false,
   "toc_position": {},
   "toc_section_display": true,
   "toc_window_display": false
  },
  "varInspector": {
   "cols": {
    "lenName": 16,
    "lenType": 16,
    "lenVar": 40
   },
   "kernels_config": {
    "python": {
     "delete_cmd_postfix": "",
     "delete_cmd_prefix": "del ",
     "library": "var_list.py",
     "varRefreshCmd": "print(var_dic_list())"
    },
    "r": {
     "delete_cmd_postfix": ") ",
     "delete_cmd_prefix": "rm(",
     "library": "var_list.r",
     "varRefreshCmd": "cat(var_dic_list()) "
    }
   },
   "types_to_exclude": [
    "module",
    "function",
    "builtin_function_or_method",
    "instance",
    "_Feature"
   ],
   "window_display": false
  }
 },
 "nbformat": 4,
 "nbformat_minor": 5
}
