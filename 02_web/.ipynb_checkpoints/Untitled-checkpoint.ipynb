{
 "cells": [
  {
   "cell_type": "code",
   "execution_count": 5,
   "id": "36b2ca3a",
   "metadata": {},
   "outputs": [],
   "source": [
    "import re\n",
    "def solution(new_id):\n",
    "    answer=''\n",
    "    ans=[]\n",
    "    answer=new_id.lower()\n",
    "    answer=re.sub(r'[^0-9a-z-_.]','',answer)\n",
    "    answer=list(answer)\n",
    "    for i in range(1,len(answer)):\n",
    "        if answer[i]=='.' and answer[i-1]=='.':\n",
    "            ans.append(i)\n",
    "    for i in range(len(ans)):\n",
    "        answer.pop(ans[i]-i)\n",
    "    if answer[0]=='.':\n",
    "        answer.pop(0)\n",
    "    try:\n",
    "        if answer[-1]=='.':\n",
    "            answer.pop(-1)\n",
    "    except:\n",
    "        pass\n",
    "    if not answer:\n",
    "        answer.append('a')\n",
    "    if len(answer)>15:\n",
    "        answer=answer[:15]\n",
    "        if answer[-1]=='.':\n",
    "            answer.pop(-1)\n",
    "    elif len(answer)<3:\n",
    "        while len(answer)<3:\n",
    "            answer.append(answer[-1])\n",
    "    return ''.join(answer)"
   ]
  },
  {
   "cell_type": "code",
   "execution_count": 6,
   "id": "0834be0a",
   "metadata": {},
   "outputs": [
    {
     "data": {
      "text/plain": [
       "'abcdefghijklmn'"
      ]
     },
     "execution_count": 6,
     "metadata": {},
     "output_type": "execute_result"
    }
   ],
   "source": [
    "solution(\"...!@BaT#*..y.abcdefghijklm\")\n",
    "solution(\"z-+.^.\")\n",
    "solution(\"=.=\")\n",
    "solution(\"123_.def\")\n",
    "solution(\"abcdefghijklmn.p\")"
   ]
  },
  {
   "cell_type": "code",
   "execution_count": 5,
   "id": "953aa4ab",
   "metadata": {},
   "outputs": [
    {
     "name": "stdout",
     "output_type": "stream",
     "text": [
      "string1\n"
     ]
    }
   ],
   "source": [
    "a=1\n",
    "b='string'\n",
    "b+=str(a)\n",
    "print(b)"
   ]
  },
  {
   "cell_type": "code",
   "execution_count": 7,
   "id": "59ddde63",
   "metadata": {},
   "outputs": [],
   "source": [
    "def solution(name):\n",
    "    s=1\n",
    "    ans1=0\n",
    "    li1,li2=[],[] #li1에는 시작 index, li2에는 연속된 개수\n",
    "    for i in range(1,len(name)):\n",
    "        if name[i]=='A' and name[i-1]=='A':\n",
    "            if s==1:\n",
    "                li1.append(i-1)\n",
    "            s+=1\n",
    "        else :\n",
    "            li2.append(s)\n",
    "            s=1\n",
    "    naf=['A' for _ in name]\n",
    "    for i in range(li1[li2.index(max(li2))]-1,-len(name),-1):\n",
    "        if ord(name[i])-65>13:\n",
    "            ans1+=(92-ord(name[i]))\n",
    "            naf[i]=name[i]\n",
    "        else:\n",
    "            ans1+=(ord(name[i])-64)\n",
    "            naf[i]=name[i]\n",
    "        print(naf,'1',ans1)\n",
    "        if ''.join(naf)==name:\n",
    "            break\n",
    "    return ans1-1\n",
    "        "
   ]
  },
  {
   "cell_type": "code",
   "execution_count": null,
   "id": "6d072144",
   "metadata": {},
   "outputs": [],
   "source": []
  }
 ],
 "metadata": {
  "kernelspec": {
   "display_name": "Python 3 (ipykernel)",
   "language": "python",
   "name": "python3"
  },
  "language_info": {
   "codemirror_mode": {
    "name": "ipython",
    "version": 3
   },
   "file_extension": ".py",
   "mimetype": "text/x-python",
   "name": "python",
   "nbconvert_exporter": "python",
   "pygments_lexer": "ipython3",
   "version": "3.10.9"
  }
 },
 "nbformat": 4,
 "nbformat_minor": 5
}
