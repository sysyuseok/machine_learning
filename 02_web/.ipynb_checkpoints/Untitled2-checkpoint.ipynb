{
 "cells": [
  {
   "cell_type": "code",
   "execution_count": 3,
   "id": "d3372499",
   "metadata": {},
   "outputs": [],
   "source": [
    "def solution(progresses, speeds):\n",
    "    answer = [0 for _ in progresses] #0으로 초기화\n",
    "    k=0;l=0\n",
    "    #k - check할 progreeses의 index\n",
    "    #l - answer에 넣을 index\n",
    "    for _ in range(100) :\n",
    "        print(k)\n",
    "        if k==len(progresses) : #불필요한 검사하지 않도록\n",
    "            break\n",
    "        for j in range(len(progresses)):\n",
    "            progresses[j]+=speeds[j] #주어진 진행도 update\n",
    "        while progresses[k]>=100 : # 100이상의 진행를 가지면\n",
    "            answer[l]+=1 # 한명 추가\n",
    "            k+=1 #index 상승\n",
    "        l+=1\n",
    "        print(answer)\n",
    "    print(answer)\n",
    "    while 0 in answer :\n",
    "        answer.remove(0)\n",
    "    \n",
    "    #remove_set = {3, 5}\n",
    "    #li = [i for i in li if i not in remove_set]\n",
    "    return answer\n"
   ]
  },
  {
   "cell_type": "code",
   "execution_count": 4,
   "id": "ca8aca98",
   "metadata": {},
   "outputs": [
    {
     "name": "stdout",
     "output_type": "stream",
     "text": [
      "0\n",
      "[0, 0, 0, 0, 0, 0]\n",
      "0\n",
      "[0, 0, 0, 0, 0, 0]\n",
      "0\n",
      "[0, 0, 0, 0, 0, 0]\n",
      "0\n",
      "[0, 0, 0, 0, 0, 0]\n",
      "0\n",
      "[0, 0, 0, 0, 1, 0]\n",
      "1\n",
      "[0, 0, 0, 0, 1, 0]\n",
      "1\n",
      "[0, 0, 0, 0, 1, 0]\n",
      "1\n",
      "[0, 0, 0, 0, 1, 0]\n",
      "1\n",
      "[0, 0, 0, 0, 1, 0]\n",
      "1\n"
     ]
    },
    {
     "ename": "IndexError",
     "evalue": "list index out of range",
     "output_type": "error",
     "traceback": [
      "\u001b[1;31m---------------------------------------------------------------------------\u001b[0m",
      "\u001b[1;31mIndexError\u001b[0m                                Traceback (most recent call last)",
      "Cell \u001b[1;32mIn[4], line 1\u001b[0m\n\u001b[1;32m----> 1\u001b[0m \u001b[43msolution\u001b[49m\u001b[43m(\u001b[49m\u001b[43m[\u001b[49m\u001b[38;5;241;43m95\u001b[39;49m\u001b[43m,\u001b[49m\u001b[43m \u001b[49m\u001b[38;5;241;43m90\u001b[39;49m\u001b[43m,\u001b[49m\u001b[43m \u001b[49m\u001b[38;5;241;43m99\u001b[39;49m\u001b[43m,\u001b[49m\u001b[43m \u001b[49m\u001b[38;5;241;43m99\u001b[39;49m\u001b[43m,\u001b[49m\u001b[43m \u001b[49m\u001b[38;5;241;43m80\u001b[39;49m\u001b[43m,\u001b[49m\u001b[43m \u001b[49m\u001b[38;5;241;43m99\u001b[39;49m\u001b[43m]\u001b[49m\u001b[43m,\u001b[49m\u001b[43m[\u001b[49m\u001b[38;5;241;43m1\u001b[39;49m\u001b[43m,\u001b[49m\u001b[43m \u001b[49m\u001b[38;5;241;43m1\u001b[39;49m\u001b[43m,\u001b[49m\u001b[43m \u001b[49m\u001b[38;5;241;43m1\u001b[39;49m\u001b[43m,\u001b[49m\u001b[43m \u001b[49m\u001b[38;5;241;43m1\u001b[39;49m\u001b[43m,\u001b[49m\u001b[43m \u001b[49m\u001b[38;5;241;43m1\u001b[39;49m\u001b[43m,\u001b[49m\u001b[43m \u001b[49m\u001b[38;5;241;43m1\u001b[39;49m\u001b[43m]\u001b[49m\u001b[43m)\u001b[49m\n",
      "Cell \u001b[1;32mIn[3], line 13\u001b[0m, in \u001b[0;36msolution\u001b[1;34m(progresses, speeds)\u001b[0m\n\u001b[0;32m     11\u001b[0m     progresses[j]\u001b[38;5;241m+\u001b[39m\u001b[38;5;241m=\u001b[39mspeeds[j] \u001b[38;5;66;03m#주어진 진행도 update\u001b[39;00m\n\u001b[0;32m     12\u001b[0m \u001b[38;5;28;01mwhile\u001b[39;00m progresses[k]\u001b[38;5;241m>\u001b[39m\u001b[38;5;241m=\u001b[39m\u001b[38;5;241m100\u001b[39m : \u001b[38;5;66;03m# 100이상의 진행를 가지면\u001b[39;00m\n\u001b[1;32m---> 13\u001b[0m     answer[l]\u001b[38;5;241m+\u001b[39m\u001b[38;5;241m=\u001b[39m\u001b[38;5;241m1\u001b[39m \u001b[38;5;66;03m# 한명 추가\u001b[39;00m\n\u001b[0;32m     14\u001b[0m     k\u001b[38;5;241m+\u001b[39m\u001b[38;5;241m=\u001b[39m\u001b[38;5;241m1\u001b[39m \u001b[38;5;66;03m#index 상승\u001b[39;00m\n\u001b[0;32m     15\u001b[0m l\u001b[38;5;241m+\u001b[39m\u001b[38;5;241m=\u001b[39m\u001b[38;5;241m1\u001b[39m\n",
      "\u001b[1;31mIndexError\u001b[0m: list index out of range"
     ]
    }
   ],
   "source": [
    "solution([95, 90, 99, 99, 80, 99],[1, 1, 1, 1, 1, 1])"
   ]
  },
  {
   "cell_type": "code",
   "execution_count": null,
   "id": "a623ce81",
   "metadata": {},
   "outputs": [],
   "source": []
  }
 ],
 "metadata": {
  "kernelspec": {
   "display_name": "Python 3 (ipykernel)",
   "language": "python",
   "name": "python3"
  },
  "language_info": {
   "codemirror_mode": {
    "name": "ipython",
    "version": 3
   },
   "file_extension": ".py",
   "mimetype": "text/x-python",
   "name": "python",
   "nbconvert_exporter": "python",
   "pygments_lexer": "ipython3",
   "version": "3.10.11"
  }
 },
 "nbformat": 4,
 "nbformat_minor": 5
}
