{
 "cells": [
  {
   "cell_type": "code",
   "execution_count": 5,
   "id": "36b2ca3a",
   "metadata": {},
   "outputs": [],
   "source": [
    "import re\n",
    "def solution(new_id):\n",
    "    answer=''\n",
    "    ans=[]\n",
    "    answer=new_id.lower()\n",
    "    answer=re.sub(r'[^0-9a-z-_.]','',answer)\n",
    "    answer=list(answer)\n",
    "    for i in range(1,len(answer)):\n",
    "        if answer[i]=='.' and answer[i-1]=='.':\n",
    "            ans.append(i)\n",
    "    for i in range(len(ans)):\n",
    "        answer.pop(ans[i]-i)\n",
    "    if answer[0]=='.':\n",
    "        answer.pop(0)\n",
    "    try:\n",
    "        if answer[-1]=='.':\n",
    "            answer.pop(-1)\n",
    "    except:\n",
    "        pass\n",
    "    if not answer:\n",
    "        answer.append('a')\n",
    "    if len(answer)>15:\n",
    "        answer=answer[:15]\n",
    "        if answer[-1]=='.':\n",
    "            answer.pop(-1)\n",
    "    elif len(answer)<3:\n",
    "        while len(answer)<3:\n",
    "            answer.append(answer[-1])\n",
    "    return ''.join(answer)"
   ]
  },
  {
   "cell_type": "code",
   "execution_count": 6,
   "id": "0834be0a",
   "metadata": {},
   "outputs": [
    {
     "data": {
      "text/plain": [
       "'abcdefghijklmn'"
      ]
     },
     "execution_count": 6,
     "metadata": {},
     "output_type": "execute_result"
    }
   ],
   "source": [
    "solution(\"...!@BaT#*..y.abcdefghijklm\")\n",
    "solution(\"z-+.^.\")\n",
    "solution(\"=.=\")\n",
    "solution(\"123_.def\")\n",
    "solution(\"abcdefghijklmn.p\")"
   ]
  },
  {
   "cell_type": "code",
   "execution_count": 5,
   "id": "953aa4ab",
   "metadata": {},
   "outputs": [
    {
     "name": "stdout",
     "output_type": "stream",
     "text": [
      "string1\n"
     ]
    }
   ],
   "source": [
    "a=1\n",
    "b='string'\n",
    "b+=str(a)\n",
    "print(b)"
   ]
  },
  {
   "cell_type": "code",
   "execution_count": 15,
   "id": "59ddde63",
   "metadata": {},
   "outputs": [],
   "source": [
    "def solution(name):\n",
    "    s=1\n",
    "    ans1=0\n",
    "    k=0\n",
    "    li1,li2=[],[] #li1에는 시작 index, li2에는 연속된 개수\n",
    "    for i in range(1,len(name)):\n",
    "        if name[i]=='A' and name[i-1]=='A':\n",
    "            if s==1:\n",
    "                li1.append(i-1)\n",
    "            s+=1\n",
    "        elif name[i-1]=='A' and name[i]!='A':\n",
    "            li2.append(s)\n",
    "            s=1\n",
    "    print(len(li1),li1)\n",
    "    print(len(li2),li2)\n",
    "    naf=['A' for _ in name]\n",
    "    if not li1:\n",
    "        k=0\n",
    "    else:\n",
    "        k=li1[li2.index(max(li2))]-1\n",
    "    for i in range(k,-len(name)-1,-1):\n",
    "        if ord(name[i])-65>13:\n",
    "            ans1+=(92-ord(name[i]))\n",
    "            naf[i]=name[i]\n",
    "        else:\n",
    "            ans1+=(ord(name[i])-64)\n",
    "            naf[i]=name[i]\n",
    "        print(naf,'1',ans1)\n",
    "        if ''.join(naf)==name:\n",
    "            break\n",
    "    return ans1-1\n",
    "        "
   ]
  },
  {
   "cell_type": "code",
   "execution_count": 16,
   "id": "64d17e02",
   "metadata": {},
   "outputs": [
    {
     "name": "stdout",
     "output_type": "stream",
     "text": [
      "0 []\n",
      "0 []\n",
      "['J', 'A', 'A', 'A', 'A', 'A'] 1 10\n",
      "['J', 'A', 'A', 'A', 'A', 'N'] 1 24\n",
      "['J', 'A', 'A', 'A', 'E', 'N'] 1 29\n",
      "['J', 'A', 'A', 'O', 'E', 'N'] 1 42\n",
      "['J', 'A', 'R', 'O', 'E', 'N'] 1 52\n",
      "['J', 'E', 'R', 'O', 'E', 'N'] 1 57\n"
     ]
    },
    {
     "data": {
      "text/plain": [
       "56"
      ]
     },
     "execution_count": 16,
     "metadata": {},
     "output_type": "execute_result"
    }
   ],
   "source": [
    "solution(\"JEROEN\")"
   ]
  }
 ],
 "metadata": {
  "kernelspec": {
   "display_name": "Python 3 (ipykernel)",
   "language": "python",
   "name": "python3"
  },
  "language_info": {
   "codemirror_mode": {
    "name": "ipython",
    "version": 3
   },
   "file_extension": ".py",
   "mimetype": "text/x-python",
   "name": "python",
   "nbconvert_exporter": "python",
   "pygments_lexer": "ipython3",
   "version": "3.10.9"
  }
 },
 "nbformat": 4,
 "nbformat_minor": 5
}
