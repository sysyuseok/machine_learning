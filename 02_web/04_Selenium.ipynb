{
 "cells": [
  {
   "cell_type": "markdown",
   "metadata": {},
   "source": [
    "# [Selenium](https://www.selenium.dev/)\n",
    "\n",
    "- **웹 브라우저 제어 도구**\n",
    "    - 원래는 웹 어플리케이션 자동 테스트를 위한 목적으로 만들어진 프레임워크.\n",
    "    - 웹브라우저를 프로그램을 이용해 제어할 수 있다.\n",
    "- **requests 모듈의 한계**   \n",
    "    - Javascript를 이용한 AJAX 기법의 비동기적 요청 처리 페이지 크롤링이 힘들다.\n",
    "    - 로그인 후 요청이 가능한 페이지들에 대한 크롤링이 번거롭다.\n",
    "    - Selenium을 활용하면 이 두가지 모두 쉽게 처리할 수 있다.\n",
    "    \n",
    "- **Selenium 단점** \n",
    "    - 속도가 느림\n",
    "- **설치**\n",
    "    - `conda install selenium`\n",
    "    - `pip install selenium`\n",
    "- [튜토리얼](https://selenium-python.readthedocs.io/)\n",
    "> - 주의: selenium은 3에서 4버전으로 업그레이드 되면서 드라이버 설정과 element 조회 메서드등이 많이 바뀜."
   ]
  },
  {
   "cell_type": "code",
   "execution_count": null,
   "metadata": {},
   "outputs": [],
   "source": []
  },
  {
   "cell_type": "code",
   "execution_count": 4,
   "metadata": {
    "collapsed": true
   },
   "outputs": [
    {
     "name": "stdout",
     "output_type": "stream",
     "text": [
      "Requirement already satisfied: selenium in c:\\users\\playdata\\anaconda3\\lib\\site-packages (4.8.3)\n",
      "Requirement already satisfied: trio-websocket~=0.9 in c:\\users\\playdata\\anaconda3\\lib\\site-packages (from selenium) (0.10.2)\n",
      "Requirement already satisfied: certifi>=2021.10.8 in c:\\users\\playdata\\anaconda3\\lib\\site-packages (from selenium) (2022.12.7)\n",
      "Requirement already satisfied: urllib3[socks]~=1.26 in c:\\users\\playdata\\anaconda3\\lib\\site-packages (from selenium) (1.26.14)\n",
      "Requirement already satisfied: trio~=0.17 in c:\\users\\playdata\\anaconda3\\lib\\site-packages (from selenium) (0.22.0)\n",
      "Requirement already satisfied: cffi>=1.14 in c:\\users\\playdata\\anaconda3\\lib\\site-packages (from trio~=0.17->selenium) (1.15.1)\n",
      "Requirement already satisfied: async-generator>=1.9 in c:\\users\\playdata\\anaconda3\\lib\\site-packages (from trio~=0.17->selenium) (1.10)\n",
      "Requirement already satisfied: sniffio in c:\\users\\playdata\\anaconda3\\lib\\site-packages (from trio~=0.17->selenium) (1.2.0)\n",
      "Requirement already satisfied: outcome in c:\\users\\playdata\\anaconda3\\lib\\site-packages (from trio~=0.17->selenium) (1.2.0)\n",
      "Requirement already satisfied: attrs>=19.2.0 in c:\\users\\playdata\\anaconda3\\lib\\site-packages (from trio~=0.17->selenium) (22.1.0)\n",
      "Requirement already satisfied: idna in c:\\users\\playdata\\anaconda3\\lib\\site-packages (from trio~=0.17->selenium) (3.4)\n",
      "Requirement already satisfied: sortedcontainers in c:\\users\\playdata\\anaconda3\\lib\\site-packages (from trio~=0.17->selenium) (2.4.0)\n",
      "Requirement already satisfied: exceptiongroup>=1.0.0rc9 in c:\\users\\playdata\\anaconda3\\lib\\site-packages (from trio~=0.17->selenium) (1.1.1)\n",
      "Requirement already satisfied: wsproto>=0.14 in c:\\users\\playdata\\anaconda3\\lib\\site-packages (from trio-websocket~=0.9->selenium) (1.2.0)\n",
      "Requirement already satisfied: PySocks!=1.5.7,<2.0,>=1.5.6 in c:\\users\\playdata\\anaconda3\\lib\\site-packages (from urllib3[socks]~=1.26->selenium) (1.7.1)\n",
      "Requirement already satisfied: pycparser in c:\\users\\playdata\\anaconda3\\lib\\site-packages (from cffi>=1.14->trio~=0.17->selenium) (2.21)\n",
      "Requirement already satisfied: h11<1,>=0.9.0 in c:\\users\\playdata\\anaconda3\\lib\\site-packages (from wsproto>=0.14->trio-websocket~=0.9->selenium) (0.14.0)\n"
     ]
    }
   ],
   "source": [
    "!pip install selenium --upgrade"
   ]
  },
  {
   "cell_type": "code",
   "execution_count": 3,
   "metadata": {
    "collapsed": true
   },
   "outputs": [
    {
     "name": "stdout",
     "output_type": "stream",
     "text": [
      "Collecting webdriver-manager\n",
      "  Downloading webdriver_manager-3.8.6-py2.py3-none-any.whl (27 kB)\n",
      "Requirement already satisfied: tqdm in c:\\users\\playdata\\anaconda3\\lib\\site-packages (from webdriver-manager) (4.64.1)\n",
      "Requirement already satisfied: requests in c:\\users\\playdata\\anaconda3\\lib\\site-packages (from webdriver-manager) (2.28.1)\n",
      "Requirement already satisfied: packaging in c:\\users\\playdata\\anaconda3\\lib\\site-packages (from webdriver-manager) (22.0)\n",
      "Collecting python-dotenv\n",
      "  Downloading python_dotenv-1.0.0-py3-none-any.whl (19 kB)\n",
      "Requirement already satisfied: certifi>=2017.4.17 in c:\\users\\playdata\\anaconda3\\lib\\site-packages (from requests->webdriver-manager) (2022.12.7)\n",
      "Requirement already satisfied: charset-normalizer<3,>=2 in c:\\users\\playdata\\anaconda3\\lib\\site-packages (from requests->webdriver-manager) (2.0.4)\n",
      "Requirement already satisfied: idna<4,>=2.5 in c:\\users\\playdata\\anaconda3\\lib\\site-packages (from requests->webdriver-manager) (3.4)\n",
      "Requirement already satisfied: urllib3<1.27,>=1.21.1 in c:\\users\\playdata\\anaconda3\\lib\\site-packages (from requests->webdriver-manager) (1.26.14)\n",
      "Requirement already satisfied: colorama in c:\\users\\playdata\\anaconda3\\lib\\site-packages (from tqdm->webdriver-manager) (0.4.6)\n",
      "Installing collected packages: python-dotenv, webdriver-manager\n",
      "Successfully installed python-dotenv-1.0.0 webdriver-manager-3.8.6\n"
     ]
    }
   ],
   "source": [
    "!pip install webdriver-manager"
   ]
  },
  {
   "cell_type": "code",
   "execution_count": 1,
   "metadata": {},
   "outputs": [],
   "source": [
    "import selenium\n",
    "from selenium.webdriver.chrome.service import Service\n",
    "from selenium import webdriver"
   ]
  },
  {
   "cell_type": "code",
   "execution_count": 3,
   "metadata": {},
   "outputs": [
    {
     "data": {
      "text/plain": [
       "'4.8.3'"
      ]
     },
     "execution_count": 3,
     "metadata": {},
     "output_type": "execute_result"
    }
   ],
   "source": [
    "selenium.__version__"
   ]
  },
  {
   "cell_type": "code",
   "execution_count": 7,
   "metadata": {},
   "outputs": [],
   "source": [
    "service = Service(executable_path=\"./02_web/chromedriver.exe\")\n",
    "browser=webdriver.Chrome(service=service) #chrome으로 창 띄우기"
   ]
  },
  {
   "cell_type": "code",
   "execution_count": 7,
   "metadata": {},
   "outputs": [],
   "source": [
    "browser.set_window_size(600,500) # resize"
   ]
  },
  {
   "cell_type": "code",
   "execution_count": 6,
   "metadata": {},
   "outputs": [],
   "source": [
    "browser.get(\"https://www.naver.com\") # url로 들어가는거"
   ]
  },
  {
   "cell_type": "code",
   "execution_count": 9,
   "metadata": {},
   "outputs": [
    {
     "data": {
      "text/plain": [
       "True"
      ]
     },
     "execution_count": 9,
     "metadata": {},
     "output_type": "execute_result"
    }
   ],
   "source": [
    "browser.get_screenshot_as_file(\"naver_main.png\") #지금 창 크기 그대로 캡쳐"
   ]
  },
  {
   "cell_type": "code",
   "execution_count": 10,
   "metadata": {},
   "outputs": [],
   "source": [
    "browser.maximize_window() #최대화"
   ]
  },
  {
   "cell_type": "code",
   "execution_count": 11,
   "metadata": {},
   "outputs": [
    {
     "data": {
      "text/plain": [
       "{'width': 1552, 'height': 840}"
      ]
     },
     "execution_count": 11,
     "metadata": {},
     "output_type": "execute_result"
    }
   ],
   "source": [
    "browser.get_window_size() # 지금 창 크기"
   ]
  },
  {
   "cell_type": "code",
   "execution_count": 14,
   "metadata": {},
   "outputs": [],
   "source": [
    "browser.execute_script(\"alert(100)\") # 내용으로 100 출력"
   ]
  },
  {
   "cell_type": "code",
   "execution_count": 15,
   "metadata": {},
   "outputs": [],
   "source": [
    "alert=browser.switch_to.alert\n",
    "alert.accept() # 버튼 확인 누르는것"
   ]
  },
  {
   "cell_type": "code",
   "execution_count": 16,
   "metadata": {},
   "outputs": [],
   "source": [
    "from selenium.webdriver.common.by import By\n",
    "browser.find_element(By.ID,\"query\").send_keys(\"파이썬\") #검색창에 '파이썬' 입력"
   ]
  },
  {
   "cell_type": "code",
   "execution_count": 21,
   "metadata": {},
   "outputs": [],
   "source": [
    "browser.find_element(By.ID, 'search_btn').click() # 검색 버튼 누르기"
   ]
  },
  {
   "cell_type": "code",
   "execution_count": 22,
   "metadata": {},
   "outputs": [],
   "source": [
    "browser.close()"
   ]
  },
  {
   "cell_type": "code",
   "execution_count": null,
   "metadata": {},
   "outputs": [],
   "source": []
  },
  {
   "cell_type": "code",
   "execution_count": null,
   "metadata": {},
   "outputs": [],
   "source": []
  },
  {
   "cell_type": "code",
   "execution_count": null,
   "metadata": {},
   "outputs": [],
   "source": []
  },
  {
   "cell_type": "markdown",
   "metadata": {},
   "source": [
    "# Driver\n",
    "\n",
    "- Driver \n",
    "    - 웹브라우저를 제어하는 프로그램으로 웹 브라우저별로 제공된다.\n",
    "    - Selenium 패키지의 Driver객체를 이용해 제어하게 된다.\n",
    "    \n",
    "## 설치\n",
    "1. **DriverManager 이용**\n",
    "    - `pip install webdriver-manager` "
   ]
  },
  {
   "cell_type": "code",
   "execution_count": null,
   "metadata": {},
   "outputs": [],
   "source": [
    "# 필요 이유 : driver는 다양한 언어와 다양한 브라우저에 맞게 사용가능하다.\n",
    "#"
   ]
  },
  {
   "cell_type": "markdown",
   "metadata": {},
   "source": [
    "2. **Hard coding**\n",
    "    1. 브라우져별로 드라이버를 다운로드 받는다.\n",
    "        - https://www.selenium.dev/documentation/webdriver/getting_started/install_drivers/#quick-reference\n",
    "    2. Local 컴퓨터에 설치된 크롬브라우져 버전에 맞는 드라이버 선택\n"
   ]
  },
  {
   "cell_type": "code",
   "execution_count": 5,
   "metadata": {},
   "outputs": [],
   "source": [
    "from webdriver_manager.chrome import ChromeDriverManager\n",
    "from selenium.webdriver.chrome.service import Service\n",
    "from selenium import webdriver"
   ]
  },
  {
   "cell_type": "code",
   "execution_count": null,
   "metadata": {},
   "outputs": [],
   "source": []
  },
  {
   "cell_type": "code",
   "execution_count": null,
   "metadata": {},
   "outputs": [],
   "source": []
  },
  {
   "cell_type": "markdown",
   "metadata": {},
   "source": [
    "### DriverManager를 이용해 WebDriver 생성"
   ]
  },
  {
   "cell_type": "code",
   "execution_count": 6,
   "metadata": {},
   "outputs": [
    {
     "name": "stderr",
     "output_type": "stream",
     "text": [
      "[WDM] - Downloading: 100%|████████████████████████████████████████████████████████| 6.80M/6.80M [00:00<00:00, 26.8MB/s]\n"
     ]
    },
    {
     "name": "stdout",
     "output_type": "stream",
     "text": [
      "<class 'str'>\n"
     ]
    },
    {
     "data": {
      "text/plain": [
       "'C:\\\\Users\\\\Playdata\\\\.wdm\\\\drivers\\\\chromedriver\\\\win32\\\\112.0.5615.49\\\\chromedriver.exe'"
      ]
     },
     "execution_count": 6,
     "metadata": {},
     "output_type": "execute_result"
    }
   ],
   "source": [
    "#\n",
    "driver = ChromeDriverManager().install()\n",
    "print(type(driver))\n",
    "driver"
   ]
  },
  {
   "cell_type": "markdown",
   "metadata": {},
   "source": [
    "### 다운 받은 Driver이용해 WebDriver생성"
   ]
  },
  {
   "cell_type": "code",
   "execution_count": null,
   "metadata": {},
   "outputs": [],
   "source": [
    "# 다운 받고 그 경로를 문자열로 저장\n",
    "driver = \"chromedriver.exe\"\n"
   ]
  },
  {
   "cell_type": "code",
   "execution_count": 12,
   "metadata": {},
   "outputs": [],
   "source": [
    "service = Service(executable_path=driver) #driver 경로를 넣어서 생성\n",
    "browser = webdriver.Chrome(service=service) # service 객체를 넣어서 web browser 실행\n"
   ]
  },
  {
   "cell_type": "code",
   "execution_count": 13,
   "metadata": {},
   "outputs": [],
   "source": [
    "# 특정 url로 이동\n",
    "browser.get(\"http://www.naver.com\")"
   ]
  },
  {
   "cell_type": "code",
   "execution_count": 14,
   "metadata": {},
   "outputs": [],
   "source": [
    "browser.close()"
   ]
  },
  {
   "cell_type": "code",
   "execution_count": null,
   "metadata": {},
   "outputs": [],
   "source": []
  },
  {
   "cell_type": "code",
   "execution_count": null,
   "metadata": {},
   "outputs": [],
   "source": []
  },
  {
   "cell_type": "code",
   "execution_count": null,
   "metadata": {},
   "outputs": [],
   "source": []
  },
  {
   "cell_type": "markdown",
   "metadata": {
    "heading_collapsed": true
   },
   "source": [
    "## WebDriver 주요 속성/메소드\n",
    "\n",
    "- **page_source** : 현재 페이지의 html 소스를 반환\n",
    "    - page_source로 html을 받아서 BeautifulSoup으로 크롤링할 원소를 찾을 수 있다.\n",
    "- **get_screenshot_as_file(파일경로)**\n",
    "    - 현재 웹브라우저 화면을 지정한 캡처해서 지정한 파일 경로에 저장한다.\n",
    "- **set_window_size(width, height)**\n",
    "    - 웹브라우저 윈도우 크기 조정\n",
    "- **maximize_window()**\n",
    "    - 웹브라우저 화면 최대 크기로 만들기.\n",
    "- **get_window_size()**\n",
    "    - 웹브라우저 윈도우 크기 조회. (width, height)\n",
    "- **execute_script(\"자바스크립트코드\")**\n",
    "    - 문자열로 전달한 **javascript 코드**를 실행시킨다.\n",
    "- **quit()**, **close()**\n",
    "    - 웹브라우저를 종료한다.\n",
    "    "
   ]
  },
  {
   "cell_type": "markdown",
   "metadata": {
    "heading_collapsed": true
   },
   "source": [
    "## Page의 Element 조회 메소드\n",
    "- BeautifulSoup을 이용하지 않고 셀레늄 자체 parser를 이용할 수 있다.\n",
    "- **find_element()**: 조건을 만족하는 첫번째 요소를 반환한다.\n",
    "    - 매개변수\n",
    "        - **by**: 검색방식\n",
    "            - **By.ID**\n",
    "            - **By.CLASS_NAME**\n",
    "            - **By.TAG_NAME**\n",
    "            - **By.CSS_SELECTOR**\n",
    "            - **By.XPATH**\n",
    "            - **By.LINK_TEXT**\n",
    "            - **By.PARTIAL_LINK_TEXT**\n",
    "        - **value**: str - 검색조건\n",
    "    - 반환타입: **WebElement**\n",
    "- **find_elements()**: 조건을 만족하는 모든 요소를 찾는다.\n",
    "    - 매개변수: find_element()와 동일\n",
    "    - 반환타입\n",
    "        - **list of WebElement**       "
   ]
  },
  {
   "cell_type": "markdown",
   "metadata": {
    "heading_collapsed": true
   },
   "source": [
    "### WebElement (조회결과) 메소드 / 속성\n",
    "- 메소드\n",
    "    - **get_attribute('속성명')**: 태그의 속성값 조회\n",
    "    - **send_keys(\"문자열\")**: 입력폼에 문자열 값을 입력.\n",
    "    - **click()**: element를 클릭\n",
    "    - **submit()**: element가 Form인 경우 폼 전송\n",
    "    - **clear()**: element가 입력폼인 경우 텍스트를 지운다.\n",
    "    - 위 조회 메소드들 : 하위의 elements들 조회\n",
    "- 속성\n",
    "    - **text**: 태그내의 텍스트\n",
    "    - **tag_name**: 태그이름 "
   ]
  },
  {
   "cell_type": "code",
   "execution_count": 16,
   "metadata": {},
   "outputs": [],
   "source": [
    "from webdriver_manager.chrome import ChromeDriverManager\n",
    "from selenium.webdriver.chrome.service import Service\n",
    "from selenium import webdriver\n",
    "from selenium.webdriver.common.by import By\n",
    "from selenium.webdriver.common.keys import Keys"
   ]
  },
  {
   "cell_type": "code",
   "execution_count": 50,
   "metadata": {},
   "outputs": [],
   "source": [
    "# browser execute\n",
    "#service = Service(executable_path=\"chromedriver.exe\") #chrome driver를 다운받아서 service로 연결해두고\n",
    "service = Service(executable_path = ChromeDriverManager().install())\n",
    "browser = webdriver.Chrome(service=service) #chrome driver를 연결\n",
    "\n",
    "# naver로 이동\n",
    "browser.get(\"https://naver.com\")"
   ]
  },
  {
   "cell_type": "code",
   "execution_count": 19,
   "metadata": {},
   "outputs": [
    {
     "name": "stdout",
     "output_type": "stream",
     "text": [
      "<html lang=\"ko\" data-dark=\"false\" data-useragent=\"Mozilla/5.0 (Windows NT 10.0; Win64; x64) AppleWebKit/537.36 (KHTML, like Gecko) Chrome/112.0.0.0 Safari/537.36\"><head><script async=\"\" type=\"text/javascript\" src=\"https://ssl.pstatic.net/tveta/libs/ndpsdk/prod/ndp-core.js\"></script> <meta charset=\"utf-8\"> <title>NAVER</title> <meta http-equiv=\"X-UA-Compatible\" content=\"IE=edge\"> <meta name=\"viewport\" content=\"width=1190\"> <meta name=\"apple-mobile-web-app-title\" content=\"NAVER\"> <meta name=\"robot\n",
      "<class 'str'>\n"
     ]
    }
   ],
   "source": [
    "#html page -> BeautifulSoup을 이용해서 크롤링할 경우\n",
    "html=browser.page_source\n",
    "print(html[:500])\n",
    "print(type(html))"
   ]
  },
  {
   "cell_type": "code",
   "execution_count": 20,
   "metadata": {},
   "outputs": [
    {
     "data": {
      "text/plain": [
       "True"
      ]
     },
     "execution_count": 20,
     "metadata": {},
     "output_type": "execute_result"
    }
   ],
   "source": [
    "#화면 크기 최대화\n",
    "browser.maximize_window()\n",
    "#스크린 샷\n",
    "browser.get_screenshot_as_file(\"naver_main_page.png\")"
   ]
  },
  {
   "cell_type": "code",
   "execution_count": 52,
   "metadata": {},
   "outputs": [
    {
     "name": "stdout",
     "output_type": "stream",
     "text": [
      "<class 'selenium.webdriver.remote.webelement.WebElement'>\n",
      "input\n",
      "input query\n"
     ]
    }
   ],
   "source": [
    "# element 조회\n",
    "query_textfield = browser.find_element(By.ID, \"query\") # 1개 조회할때 ID로 조회\n",
    "print(type(query_textfield))\n",
    "print(query_textfield.tag_name)\n",
    "print(query_textfield.tag_name, query_textfield.get_attribute('id'))\n",
    "# keyboard 입력\n",
    "query_textfield.send_keys(\"미세먼지\")\n",
    "#query_textfield.send_keys(Keys.ENTER)"
   ]
  },
  {
   "cell_type": "code",
   "execution_count": 48,
   "metadata": {},
   "outputs": [],
   "source": [
    "# 검색결과 페이지로 이동 후 검색키워드 입력 element 조회\n",
    "query_textfield2= browser.find_element(By.ID, \"nx_query\")\n",
    "query_textfield2.send_keys(\"날씨\")\n",
    "#query_textfield2.clear()"
   ]
  },
  {
   "attachments": {
    "image.png": {
     "image/png": "[encoded data removed]"
    }
   },
   "cell_type": "markdown",
   "metadata": {},
   "source": [
    "![image.png](attachment:image.png)"
   ]
  },
  {
   "cell_type": "code",
   "execution_count": null,
   "metadata": {},
   "outputs": [],
   "source": [
    "query_btn = browser.find_element(By.CLASS_NAME, \"bt_search\")\n",
    "query_textfield2.sendkeys(\"미세먼지\")\n",
    "query_btn.click()"
   ]
  },
  {
   "cell_type": "code",
   "execution_count": null,
   "metadata": {},
   "outputs": [],
   "source": [
    "browser.quit()\n",
    "#browser.close()"
   ]
  },
  {
   "cell_type": "code",
   "execution_count": null,
   "metadata": {},
   "outputs": [],
   "source": []
  },
  {
   "cell_type": "code",
   "execution_count": null,
   "metadata": {},
   "outputs": [],
   "source": []
  },
  {
   "cell_type": "markdown",
   "metadata": {},
   "source": [
    "## TODO: 구글 검색\n",
    "1. https://www.google.co.kr 페이지로 이동\n",
    "2. 파이썬을 검색한다.\n",
    "3. 검색결과 title들을 출력한다."
   ]
  },
  {
   "cell_type": "code",
   "execution_count": 69,
   "metadata": {},
   "outputs": [
    {
     "name": "stdout",
     "output_type": "stream",
     "text": [
      "<class 'list'>\n",
      "파이썬 자습서 — Python 3.11.3 문서\n",
      "Python - 나무위키\n",
      "1. 파이썬 시작하기 - 왕초보를 위한 Python\n",
      "01-4 파이썬 설치하기\n",
      "파이썬 - 위키백과, 우리 모두의 백과사전\n",
      "Python란 무엇인가요? - Python 언어 설명 - AWS\n",
      "1 장 파이썬(Python) 입문 | 파이썬 프로그래밍 기초\n",
      "\n",
      "\n",
      "\n",
      "파이썬 코딩을 시작하기 좋은 쉬운 아이디어들 - freeCodeCamp\n",
      "이미지\n",
      "설명\n"
     ]
    }
   ],
   "source": [
    "# browser execute\n",
    "#service = Service(executable_path=\"chromedriver.exe\")\n",
    "service = Service(executable_path = ChromeDriverManager().install())\n",
    "browser = webdriver.Chrome(service=service)\n",
    "\n",
    "# naver로 이동\n",
    "browser.get(\"https://www.google.co.kr \")\n",
    "\n",
    "query_textfield = browser.find_element(By.ID, \"APjFqb\")\n",
    "query_textfield.send_keys(\"파이썬\")\n",
    "query_textfield.send_keys(Keys.ENTER)\n",
    "# for i in range(1,10):\n",
    "#     query_textfield.send_keys(By.CSS_SELECTOR,f\"#rso > div:nth-child({i}) div.Z26q7c.UK95Uc.jGGQ5e > div > a > h3\")\n",
    "#     print(query_textfield)\n",
    "text=browser.find_elements(By.TAG_NAME,\"h3\")\n",
    "print(type(text))\n",
    "#print(text)\n",
    "for i in text:\n",
    "    print(i.text)\n"
   ]
  },
  {
   "cell_type": "code",
   "execution_count": null,
   "metadata": {},
   "outputs": [],
   "source": [
    "#web browser execute\n",
    "service = Service(executable_path=\"chromedriver.exe\")\n",
    "browser = webdriver.Chrome(service=service)\n"
   ]
  },
  {
   "cell_type": "code",
   "execution_count": null,
   "metadata": {},
   "outputs": [],
   "source": [
    "#turn page to google\n",
    "browser.get('https://www.google.co.kr')\n"
   ]
  },
  {
   "cell_type": "code",
   "execution_count": null,
   "metadata": {},
   "outputs": [],
   "source": [
    "#id='APjFqb'\n",
    "#이름 양식 태그의 name체,\n",
    "\n",
    "#<태그 name=\"xxxx\"> 입력 양식 태그의 name속성값으로 찾기\n",
    "query_tf = browser.find_element(By.NAME, \"q\")\n"
   ]
  },
  {
   "cell_type": "code",
   "execution_count": null,
   "metadata": {},
   "outputs": [],
   "source": [
    "# 제목 리스트\n",
    "# TAGNAME = H3\n",
    "# class=\"LC20lb MBeuO DKV0Md\"\n",
    "title_list = browser.find_elements(By.TAG_NAME, \"h3\")\n",
    "print(len(title_list))\n",
    "\n",
    "title_list2 = browser.find_elements(By.CSS_SELECTOR, '.LC20lb.MBeuO.DKV0Md')\n",
    "print(len(title_list2))\n",
    "\n",
    "for title_tag in title_list2:\n",
    "    # 태그사이의 값(text-content)를 조회\n",
    "    print(title_tag.text)\n",
    "    print(\"----------------\")"
   ]
  },
  {
   "cell_type": "code",
   "execution_count": 71,
   "metadata": {},
   "outputs": [
    {
     "name": "stdout",
     "output_type": "stream",
     "text": [
      "{'width': 800, 'height': 600}\n"
     ]
    },
    {
     "ename": "NameError",
     "evalue": "name 'time' is not defined",
     "output_type": "error",
     "traceback": [
      "\u001b[1;31m---------------------------------------------------------------------------\u001b[0m",
      "\u001b[1;31mNameError\u001b[0m                                 Traceback (most recent call last)",
      "Cell \u001b[1;32mIn[71], line 13\u001b[0m\n\u001b[0;32m     10\u001b[0m \u001b[38;5;28mprint\u001b[39m(browser\u001b[38;5;241m.\u001b[39mget_window_size())\n\u001b[0;32m     12\u001b[0m browser\u001b[38;5;241m.\u001b[39mget(\u001b[38;5;124m\"\u001b[39m\u001b[38;5;124mhttps://www.daum.net\u001b[39m\u001b[38;5;124m\"\u001b[39m)\n\u001b[1;32m---> 13\u001b[0m \u001b[43mtime\u001b[49m\u001b[38;5;241m.\u001b[39msleep()\n\u001b[0;32m     14\u001b[0m browser\u001b[38;5;241m.\u001b[39mget_screenshot_as_file(\u001b[38;5;124m'\u001b[39m\u001b[38;5;124mdaum_mainpage.png\u001b[39m\u001b[38;5;124m'\u001b[39m)\n\u001b[0;32m     15\u001b[0m browser\u001b[38;5;241m.\u001b[39mclose()\n",
      "\u001b[1;31mNameError\u001b[0m: name 'time' is not defined"
     ]
    }
   ],
   "source": [
    "from selenium import webdriver\n",
    "\n",
    "option= webdriver.ChromeOptions()\n",
    "option.add_argument(\"--headless\")\n",
    "\n",
    "service = Service(executable_path=\"chromedriver.exe\")\n",
    "browser = webdriver.Chrome(service=service, options= option)\n",
    "\n",
    "browser.maximize_window()\n",
    "print(browser.get_window_size())\n",
    "\n",
    "browser.get(\"https://www.daum.net\")\n",
    "time.sleep()\n",
    "browser.get_screenshot_as_file('daum_mainpage.png')\n",
    "browser.close()"
   ]
  },
  {
   "cell_type": "code",
   "execution_count": null,
   "metadata": {},
   "outputs": [],
   "source": []
  },
  {
   "cell_type": "markdown",
   "metadata": {},
   "source": [
    "## 브라우저의 headless 모드를 이용.\n",
    "- Headless 브라우저 \n",
    "    - 브라우저의 창을 띄우지 않고 실제 브라우저와 동일하게 동작하도록 하는 방식\n",
    "    - CLI 기반의 OS (리눅스 서버)를 지원하기 위한 브라우저\n",
    "    - 크롬은 버전 60부터 headless 모드 지원\n",
    "- selenium에서 headless 모드\n",
    "    - webdriver options에 headless 설정"
   ]
  },
  {
   "cell_type": "code",
   "execution_count": null,
   "metadata": {},
   "outputs": [],
   "source": [
    "\n"
   ]
  },
  {
   "cell_type": "code",
   "execution_count": null,
   "metadata": {},
   "outputs": [],
   "source": []
  },
  {
   "cell_type": "code",
   "execution_count": null,
   "metadata": {},
   "outputs": [],
   "source": []
  },
  {
   "cell_type": "code",
   "execution_count": null,
   "metadata": {},
   "outputs": [],
   "source": []
  },
  {
   "cell_type": "code",
   "execution_count": null,
   "metadata": {},
   "outputs": [],
   "source": []
  },
  {
   "cell_type": "markdown",
   "metadata": {
    "hidden": true
   },
   "source": [
    "# 대기 하기\n",
    "\n",
    "## Explicit Wait\n",
    "- 특정 조건/상황을 만족할 때 까지 대기\n",
    "- `WebDriverWait(driver, 초).until(expected_contition)` 구문 사용\n",
    "- expected_condition 함수\n",
    "     - selenium.webdriver.support.expected_conditions 모듈에 정의된 함수 사용.\n",
    "         - https://selenium-python.readthedocs.io/api.html#module-selenium.webdriver.support.expected_conditions\n",
    "     \n",
    "## Implicit Wait\n",
    "- 현재 페이지에 없는 element나 elememt들이 loading 되기를 설정한 시간만큼 기다린다. \n",
    "- 설정한 시간 이내에 elements가 loading되면 대기가 종료된다.\n",
    "- `implicit_wait(초)` 구문 사용\n",
    "- 한번 설정하면 설정된 WebDriver가 close될때 까지 그 설정이 유지된다.\n",
    "- https://selenium-python.readthedocs.io/waits.html\n",
    "\n",
    "### 예)\n",
    "```python\n",
    "driver.implicitly_wait(5) \n",
    "# 페이지 로딩(dom tree완성)될 때까지 최대 5초간 기다린다. (로딩이 되면 5초가 되지 않아도 대기를 끝낸다.)\n",
    "```\n",
    "<hr>\n",
    "\n",
    "```python\n",
    "from selenium.webdriver.support import expected_conditions as EC\n",
    "\n",
    "...\n",
    "\n",
    "try:\n",
    "    # element가 반환될 때 까지 최대 10초 기다린다.\n",
    "    element = WebDriverWait(driver, 10).until(\n",
    "        EC.presence_of_element_located((By.ID, \"myDynamicElement\"))\n",
    "    )\n",
    "finally:\n",
    "    driver.quit()\n",
    "```"
   ]
  },
  {
   "cell_type": "code",
   "execution_count": null,
   "metadata": {},
   "outputs": [],
   "source": []
  },
  {
   "cell_type": "code",
   "execution_count": null,
   "metadata": {},
   "outputs": [],
   "source": []
  },
  {
   "cell_type": "code",
   "execution_count": null,
   "metadata": {},
   "outputs": [],
   "source": []
  },
  {
   "cell_type": "code",
   "execution_count": null,
   "metadata": {},
   "outputs": [],
   "source": []
  },
  {
   "cell_type": "code",
   "execution_count": null,
   "metadata": {},
   "outputs": [],
   "source": []
  }
 ],
 "metadata": {
  "kernelspec": {
   "display_name": "Python 3 (ipykernel)",
   "language": "python",
   "name": "python3"
  },
  "language_info": {
   "codemirror_mode": {
    "name": "ipython",
    "version": 3
   },
   "file_extension": ".py",
   "mimetype": "text/x-python",
   "name": "python",
   "nbconvert_exporter": "python",
   "pygments_lexer": "ipython3",
   "version": "3.10.9"
  },
  "toc": {
   "base_numbering": 1,
   "nav_menu": {},
   "number_sections": false,
   "sideBar": false,
   "skip_h1_title": false,
   "title_cell": "Table of Contents",
   "title_sidebar": "Contents",
   "toc_cell": false,
   "toc_position": {},
   "toc_section_display": true,
   "toc_window_display": false
  },
  "varInspector": {
   "cols": {
    "lenName": 16,
    "lenType": 16,
    "lenVar": 40
   },
   "kernels_config": {
    "python": {
     "delete_cmd_postfix": "",
     "delete_cmd_prefix": "del ",
     "library": "var_list.py",
     "varRefreshCmd": "print(var_dic_list())"
    },
    "r": {
     "delete_cmd_postfix": ") ",
     "delete_cmd_prefix": "rm(",
     "library": "var_list.r",
     "varRefreshCmd": "cat(var_dic_list()) "
    }
   },
   "types_to_exclude": [
    "module",
    "function",
    "builtin_function_or_method",
    "instance",
    "_Feature"
   ],
   "window_display": false
  }
 },
 "nbformat": 4,
 "nbformat_minor": 2
}
