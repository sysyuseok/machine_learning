{
 "cells": [
  {
   "cell_type": "code",
   "execution_count": 18,
   "id": "d3372499",
   "metadata": {},
   "outputs": [],
   "source": [
    "def solution(progresses, speeds):\n",
    "    answer = [0 for _ in progresses] #0으로 초기화\n",
    "    k=0;l=0\n",
    "    #k - check할 progreeses의 index\n",
    "    #l - answer에 넣을 index\n",
    "    for _ in range(100) :\n",
    "        print(k)\n",
    "        if k==(len(progresses)) : #불필요한 검사하지 않도록\n",
    "            break\n",
    "        for j in range(len(progresses)):\n",
    "            progresses[j]+=speeds[j] #주어진 진행도 update\n",
    "        while progresses[k]>=100 : # 100이상의 진행를 가지면\n",
    "            answer[l]+=1 # 한명 추가\n",
    "            k+=1 #index 상승\n",
    "            try:\n",
    "                if progresses[k]<100 :\n",
    "                    l+=1\n",
    "            except:\n",
    "                break\n",
    "        print(answer,progresses)\n",
    "    while 0 in answer :\n",
    "        answer.remove(0)\n",
    "    \n",
    "    #remove_set = {3, 5}\n",
    "    #li = [i for i in li if i not in remove_set]\n",
    "    return answer\n"
   ]
  },
  {
   "cell_type": "code",
   "execution_count": 19,
   "id": "ca8aca98",
   "metadata": {},
   "outputs": [
    {
     "name": "stdout",
     "output_type": "stream",
     "text": [
      "0\n",
      "[0, 0, 0, 0, 0, 0] [96, 91, 100, 100, 81, 100]\n",
      "0\n",
      "[0, 0, 0, 0, 0, 0] [97, 92, 101, 101, 82, 101]\n",
      "0\n",
      "[0, 0, 0, 0, 0, 0] [98, 93, 102, 102, 83, 102]\n",
      "0\n",
      "[0, 0, 0, 0, 0, 0] [99, 94, 103, 103, 84, 103]\n",
      "0\n",
      "[1, 0, 0, 0, 0, 0] [100, 95, 104, 104, 85, 104]\n",
      "1\n",
      "[1, 0, 0, 0, 0, 0] [101, 96, 105, 105, 86, 105]\n",
      "1\n",
      "[1, 0, 0, 0, 0, 0] [102, 97, 106, 106, 87, 106]\n",
      "1\n",
      "[1, 0, 0, 0, 0, 0] [103, 98, 107, 107, 88, 107]\n",
      "1\n",
      "[1, 0, 0, 0, 0, 0] [104, 99, 108, 108, 89, 108]\n",
      "1\n",
      "[1, 3, 0, 0, 0, 0] [105, 100, 109, 109, 90, 109]\n",
      "4\n",
      "[1, 3, 0, 0, 0, 0] [106, 101, 110, 110, 91, 110]\n",
      "4\n",
      "[1, 3, 0, 0, 0, 0] [107, 102, 111, 111, 92, 111]\n",
      "4\n",
      "[1, 3, 0, 0, 0, 0] [108, 103, 112, 112, 93, 112]\n",
      "4\n",
      "[1, 3, 0, 0, 0, 0] [109, 104, 113, 113, 94, 113]\n",
      "4\n",
      "[1, 3, 0, 0, 0, 0] [110, 105, 114, 114, 95, 114]\n",
      "4\n",
      "[1, 3, 0, 0, 0, 0] [111, 106, 115, 115, 96, 115]\n",
      "4\n",
      "[1, 3, 0, 0, 0, 0] [112, 107, 116, 116, 97, 116]\n",
      "4\n",
      "[1, 3, 0, 0, 0, 0] [113, 108, 117, 117, 98, 117]\n",
      "4\n",
      "[1, 3, 0, 0, 0, 0] [114, 109, 118, 118, 99, 118]\n",
      "4\n",
      "[1, 3, 2, 0, 0, 0] [115, 110, 119, 119, 100, 119]\n",
      "6\n"
     ]
    },
    {
     "data": {
      "text/plain": [
       "[1, 3, 2]"
      ]
     },
     "execution_count": 19,
     "metadata": {},
     "output_type": "execute_result"
    }
   ],
   "source": [
    "solution([95, 90, 99, 99, 80, 99],[1, 1, 1, 1, 1, 1])"
   ]
  },
  {
   "cell_type": "code",
   "execution_count": null,
   "id": "a623ce81",
   "metadata": {},
   "outputs": [],
   "source": []
  }
 ],
 "metadata": {
  "kernelspec": {
   "display_name": "Python 3 (ipykernel)",
   "language": "python",
   "name": "python3"
  },
  "language_info": {
   "codemirror_mode": {
    "name": "ipython",
    "version": 3
   },
   "file_extension": ".py",
   "mimetype": "text/x-python",
   "name": "python",
   "nbconvert_exporter": "python",
   "pygments_lexer": "ipython3",
   "version": "3.10.11"
  }
 },
 "nbformat": 4,
 "nbformat_minor": 5
}
