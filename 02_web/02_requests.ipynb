{
 "cells": [
  {
   "cell_type": "markdown",
   "metadata": {
    "slideshow": {
     "slide_type": "slide"
    }
   },
   "source": [
    "# requests 모듈을 이용한 웹 요청\n",
    "- [Requests 홈페이지](https://requests.kennethreitz.org/en/master/)\n",
    "- **HTTP 요청을 처리하는 파이썬 패키지**\n",
    "- get/post 방식 모두를 지원하며 쿠키, 헤더정보등을 HTTP의 다양한 요청처리를 지원한다.\n",
    "- 설치\n",
    "    - `pip install requests`\n",
    "    - `conda install -c conda-forge requests`"
   ]
  },
  {
   "cell_type": "code",
   "execution_count": null,
   "metadata": {},
   "outputs": [],
   "source": [
    "#http : hyper text transfer protocol - protocol은 통신규약을 의미"
   ]
  },
  {
   "cell_type": "markdown",
   "metadata": {},
   "source": [
    "## Crawling을 위한 requests 코딩 패턴\n",
    "1. requests의 get()/post() 함수를 이용해 url을 넣어 서버 요청한다.\n",
    "3. 응답받은 내용을 처리.\n",
    "    - text(HTML)은 BeautifulSoup에 넣어 parsing\n",
    "    - binary 파일의 경우 파일출력을 이용해 local에 저장"
   ]
  },
  {
   "cell_type": "markdown",
   "metadata": {
    "slideshow": {
     "slide_type": "slide"
    }
   },
   "source": [
    "## 요청 함수\n",
    "- get(): GET방식 요청\n",
    "- post(): POST방식 요청"
   ]
  },
  {
   "cell_type": "markdown",
   "metadata": {
    "slideshow": {
     "slide_type": "slide"
    }
   },
   "source": [
    "### requests.get(URL)\n",
    "- **GET 방식 요청**\n",
    "- **주요 매개변수**\n",
    "    - params: 요청파라미터를 dictionary로 전달\n",
    "    - headers: HTTP 요청 header를 dictionary로 전달\n",
    "        - 'User-Agent', 'Referer' 등 헤더 설정\n",
    "    - cookies: 쿠키정보를 전달\n",
    "- **반환값(Return Value)**\n",
    "    - [Response](#Response객체): 응답결과"
   ]
  },
  {
   "cell_type": "code",
   "execution_count": null,
   "metadata": {},
   "outputs": [],
   "source": [
    "# header 정보는 자신의 정보를 의미\n",
    "# http 요청 line(url, protocol)\n",
    "# 크롤링을 차단되기도 하는데 그것을 방지하기 위해 'User-Agent' 사용\n",
    "# server가 client에게 응답한 결과가 return 된다."
   ]
  },
  {
   "cell_type": "markdown",
   "metadata": {},
   "source": [
    "### requests.post(URL)\n",
    "- **POST 방식 요청**\n",
    "- **주요 매개변수**\n",
    "    - datas : 요청파라미터를 dictionary로 전달\n",
    "    - files : 업로드할 파일을 dictionary로 전달\n",
    "        - key: 이름, value: 파일과 연결된 InputStream(TextIOWrapper)\n",
    "    - headers: HTTP 요청 header를 dictionary로 전달\n",
    "        - 'User-Agent', 'Referer' 등 헤더 설정\n",
    "    - cookies: 쿠키정보를 전달\n",
    "- **반환값(Return Value)**\n",
    "    - [Response](#Response객체): 응답결과"
   ]
  },
  {
   "cell_type": "code",
   "execution_count": null,
   "metadata": {},
   "outputs": [],
   "source": []
  },
  {
   "cell_type": "markdown",
   "metadata": {
    "slideshow": {
     "slide_type": "subslide"
    }
   },
   "source": [
    "> ### 요청파라미터(Request Parameter)\n",
    "> - 요청파라미터란?\n",
    ">     - 서버가 일하기 위해 클라이언트로 부터 받아야하는 값들\n",
    ">     - `name=value` 형태이며 여러개일 경우 `&`로 연결해서 전송됨\n",
    "> - Get 요청시 queryString 으로 전달\n",
    ">     - querystring : URL 뒤에 붙여서 전송한다.\n",
    ">     - ex) https://search.naver.com/search.naver?sm=top_hty&fbm=1&ie=utf8&query=python\n",
    ">     - requests.get() 요청시 \n",
    ">         1. url 뒤에 querystring으로 붙여서 전송\n",
    ">         2. dictionary 에 name=value 형태로 만들어 매개변수 params에 전달\n",
    "> - Post 요청시 요청정보의 body에 넣어 전달"
   ]
  },
  {
   "cell_type": "markdown",
   "metadata": {},
   "source": [
    "> ### HTTP 요청 헤더(Request Header)\n",
    "> HTTP 요청시 웹브라우저가 client의 여러 부가적인 정보들을 Key-Value 쌍 형식으로 전달한다.\n",
    "> - accept: 클라이언트가 처리가능한 content 타입 (Mime-type 형식으로 전달)\n",
    "> - accept-language: 클라이언트가 지원하는 언어(ex: ko, en-US)\n",
    "> - host: 요청한 host \n",
    "> - user-agent: 웹브라우저 종류"
   ]
  },
  {
   "cell_type": "markdown",
   "metadata": {
    "slideshow": {
     "slide_type": "slide"
    }
   },
   "source": [
    "## Response객체 -  응답데이터\n",
    "- get()/post() 의 요청에 대한 서버의 응답 결과를 Response에 담아 반환\n",
    "    - Response의 속성을 이용해 응답결과를 조회\n",
    "- 주요 속성(Attribut)\n",
    "    - **url**\n",
    "        - 응답 받은(요청한) url \n",
    "    - **status_code**\n",
    "        - HTTP 응답 상태코드\n",
    "    - **headers**\n",
    "        - 응답 header 정보를 dictionary로 반환\n",
    "- **응답 결과 조회**\n",
    "    - **text**\n",
    "        - 응답내용(html을 str로 반환)\n",
    "    - **content**\n",
    "        - 응답내용(응답결과가 binary-image, 동영상등- 일 경우사용하며 bytes로 반환)\n",
    "    - **json()**\n",
    "        - 응답 결과가 JSON 인 경우 dictionary로 변환해서 반환"
   ]
  },
  {
   "cell_type": "markdown",
   "metadata": {},
   "source": [
    "> ### JSON(JavaScript Object Notation)\n",
    "> key-value 형태 또는 배열 형태의 text이며 이 기종간 데이터 교환에 많이 사용된다. 자바스크립트 언어에서 Object와 array를 생성하는 문법을 이용해 만듬. \n",
    "- [JSON 공식사이트](http://json.org)\n",
    ">\n",
    "> ### json 모듈\n",
    "> JSON 형식 문자열을 다루는 모듈\n",
    "> - json.loads(json문자열)\n",
    ">    - JSON 형식 문자열을 dictionary로 변환\n",
    "> - json.dumps(dictionary)\n",
    ">    - dictionary를 JSON 형식 문자열로 변환"
   ]
  },
  {
   "cell_type": "markdown",
   "metadata": {},
   "source": [
    "> ### HTTP 응답 상태코드\n",
    "> - https://developer.mozilla.org/ko/docs/Web/HTTP/Status \n",
    "- 2XX: 성공\n",
    "    - 200: OK\n",
    "- 3XX: 다른 주소로 이동 (이사)\n",
    "    - 300번대이면 자동으로 이동해 준다. 크롤링시는 볼일이 별로 없다.\n",
    "- 4XX: 클라이언트 오류 (사용자가 잘못한 것)\n",
    "  - 404: 존재하지 않는 주소\n",
    "- 5XX: 서버 오류 (서버에서 문제생긴 것)\n",
    "  - 500: 서버가 처리방법을 모르는 오류\n",
    "  - 503: 서버가 다운 등의 문제로 서비스 불가 상태"
   ]
  },
  {
   "cell_type": "code",
   "execution_count": 8,
   "metadata": {},
   "outputs": [
    {
     "name": "stdout",
     "output_type": "stream",
     "text": [
      "<class 'str'>\n"
     ]
    },
    {
     "data": {
      "text/plain": [
       "<!DOCTYPE html PUBLIC \"-//W3C//DTD XHTML 1.0 Transitional//EN\" \"http://www.w3.org/TR/xhtml1/DTD/xhtml1-transitional.dtd\">\n",
       "<html xmlns=\"http://www.w3.org/1999/xhtml\">\n",
       "<head>\n",
       "<meta content=\"text/html; charset=utf-8\" http-equiv=\"Content-Type\"/>\n",
       "<title>네이버 :: 페이지를 찾을 수 없습니다.</title>\n",
       "<link href=\"/dist/css/err_170424.css?1017\" rel=\"stylesheet\" type=\"text/css\"/>\n",
       "<script type=\"text/javascript\">\n",
       "var defaultCharset = document.charset ;\n",
       "function isIE(){ return /msie/i.test(navigator.userAgent) && !/opera/i.test(navigator.userAgent); }\n",
       "function setDefaultCharset() { document.charset = defaultCharset ; }\n",
       "function emulAcceptCharset(form) { if (isIE) { var defCharset = document.charset ; document.charset = form.acceptCharset ; window.onbeforeunload = setDefaultCharset ; } return true; }\n",
       "</script>\n",
       "</head>\n",
       "<body>\n",
       "<style>\n",
       "a { cursor: pointer; }\n",
       "</style>\n",
       "<div id=\"wrap\">\n",
       "<div id=\"header\">\n",
       "<h1><a href=\"http://www.naver.com/\"><img alt=\"NAVER\" height=\"33\" src=\"https://s.pstatic.net/static/w8/err/lg_naver.gif\" width=\"145\"/></a></h1>\n",
       "<p class=\"menu\"><a href=\"http://www.naver.com/\">네이버홈</a> | <a onclick=\"window.open('https://help.naver.com/support/alias/contents2/naverhome/notfound.naver', 'help_naver', 'left=40,top=60,width=650,height=800,toolbar=1,resizable=0'); return false;\">네이버 고객센터</a></p>\n",
       "</div>\n",
       "<div id=\"container\">\n",
       "<h2>죄송합니다.<br/>요청하신 페이지를 찾을 수 없습니다.</h2>\n",
       "<div class=\"content\">\n",
       "<p>방문하시려는 페이지의 주소가 잘못 입력되었거나,<br/>페이지의 주소가 변경 혹은 삭제되어 요청하신 페이지를 찾을 수 없습니다.</p>\n",
       "<p>입력하신 주소가 정확한지 다시 한번 확인해 주시기 바랍니다.</p>\n",
       "<p>관련 문의사항은 <a onclick=\"window.open('https://m.help.naver.com/support/alias/contents2/naverhome/notfoundm.naver', 'help_naver', 'left=40,top=60,width=650,height=800,toolbar=1,resizable=0'); return false;\">네이버 고객센터</a>에 알려주시면 친절하게 안내해 드리겠습니다.</p>\n",
       "<p>감사합니다.</p>\n",
       "</div>\n",
       "<form accept-charset=\"ks_c_5601-1987\" action=\"https://search.naver.com/search.naver\" class=\"search\" method=\"get\" name=\"search\" onsubmit=\"emulAcceptCharset(this);\" style=\"margin-top:50px;\">\n",
       "<input name=\"sm\" type=\"hidden\" value=\"nnf_hty\"/>\n",
       "<fieldset class=\"window02\">\n",
       "<legend>검색</legend>\n",
       "<input accesskey=\"s\" class=\"box_window\" maxlength=\"255\" name=\"query\" title=\"검색\" type=\"text\" value=\"\"/>\n",
       "<input alt=\"검색\" class=\"btn_window\" onmouseout=\"this.src='https://s.pstatic.net/static/w8/err/btn_sch.gif'\" onmouseover=\"this.src='https://s.pstatic.net/static/w8/err/btn_sch_over.gif'\" src=\"https://s.pstatic.net/static/w8/err/btn_sch.gif\" type=\"image\"/>\n",
       "</fieldset>\n",
       "<p class=\"sch_desc\">네이버 검색으로 원하시는 페이지를 찾으실 수 있습니다.</p>\n",
       "</form>\n",
       "</div>\n",
       "<div id=\"footer\">\n",
       "<address>\n",
       "<a class=\"logo\" href=\"https://www.naver.com/\" target=\"_blank\"><img alt=\"NAVER\" height=\"15\" src=\"https://s.pstatic.net/static/common/footer/logo_naver.gif\" width=\"63\"/></a>\n",
       "<em>Copyright ©</em>\n",
       "<a href=\"https://www.navercorp.com/\" target=\"_blank\">NAVER Corp.</a>\n",
       "<span>All Rights Reserved.</span>\n",
       "</address>\n",
       "</div>\n",
       "</div>\n",
       "</body>\n",
       "</html>"
      ]
     },
     "execution_count": 8,
     "metadata": {},
     "output_type": "execute_result"
    }
   ],
   "source": [
    "import requests\n",
    "from bs4 import BeautifulSoup\n",
    "url=\"https://www.naver.com/a;slkdjf;al\"\n",
    "\n",
    "res=requests.get(url) # 요청 ~ 응답까지의 과정\n",
    "print(type(res.text))\n",
    "soup=BeautifulSoup(res.text)\n",
    "soup\n",
    "\n"
   ]
  },
  {
   "cell_type": "code",
   "execution_count": 6,
   "metadata": {},
   "outputs": [
    {
     "data": {
      "text/plain": [
       "requests.models.Response"
      ]
     },
     "execution_count": 6,
     "metadata": {},
     "output_type": "execute_result"
    }
   ],
   "source": [
    "type(res)"
   ]
  },
  {
   "cell_type": "code",
   "execution_count": 9,
   "metadata": {},
   "outputs": [
    {
     "name": "stdout",
     "output_type": "stream",
     "text": [
      "404\n"
     ]
    }
   ],
   "source": [
    "print(res.status_code)\n",
    "==> 200을 성공값 404를 실패 값으로 if문에 사용한다."
   ]
  },
  {
   "cell_type": "code",
   "execution_count": null,
   "metadata": {},
   "outputs": [],
   "source": []
  },
  {
   "cell_type": "code",
   "execution_count": null,
   "metadata": {},
   "outputs": [],
   "source": []
  },
  {
   "cell_type": "markdown",
   "metadata": {},
   "source": [
    "### Get 방식 요청 예제"
   ]
  },
  {
   "cell_type": "code",
   "execution_count": 22,
   "metadata": {},
   "outputs": [
    {
     "name": "stdout",
     "output_type": "stream",
     "text": [
      "https://httpbin.org/get\n",
      "200\n",
      "<class 'dict'>\n",
      "*/*\n",
      "{'args': {'address': '서울', 'age': ['20', '30', '40'], 'name': '홍길동'}, 'headers': {'Accept': '*/*', 'Accept-Encoding': 'gzip, deflate, br', 'Host': 'httpbin.org', 'User-Agent': 'python-requests/2.28.1', 'X-Amzn-Trace-Id': 'Root=1-643ce586-3c0685301ee9eb2878238b19'}, 'origin': '222.112.208.66', 'url': 'https://httpbin.org/get?name=홍길동&age=20&age=30&age=40&address=서울'}\n"
     ]
    }
   ],
   "source": [
    "import requests\n",
    "\n",
    "base_url=\"https://httpbin.org/{}\"\n",
    "\n",
    "url=base_url.format(\"get\")\n",
    "print(url)\n",
    "#url=\"https://httpbin.org/get?name=홍길동&age=30&address=부산\"\n",
    "#요청 파라미터 -> dictionary로 name:value 형식을 저장. 같은 이름으로 여러개 값을 보내면\n",
    "# name=[value1, value2, vlaue3, ,,, vlauen]\n",
    "req_param = {\n",
    "    \"name\":\"홍길동\",\n",
    "    \"age\":[20,30,40],\n",
    "    \"address\":\"서울\"\n",
    "}\n",
    "\n",
    "response=requests.get(url,params=req_param)\n",
    "\n",
    "\n",
    "print(response.status_code)\n",
    "if response.status_code == 200: #정상응답\n",
    "    #응답 데이터 출력\n",
    "    #txt=response.text\n",
    "    txt=response.json() #dictionary로 변환해준다.\n",
    "    print(type(txt))\n",
    "    print(txt[\"headers\"]['Accept'])\n",
    "    print(txt)"
   ]
  },
  {
   "cell_type": "markdown",
   "metadata": {
    "heading_collapsed": true
   },
   "source": [
    "### Post 요청 예"
   ]
  },
  {
   "cell_type": "code",
   "execution_count": null,
   "metadata": {},
   "outputs": [],
   "source": []
  },
  {
   "cell_type": "markdown",
   "metadata": {
    "slideshow": {
     "slide_type": "slide"
    }
   },
   "source": [
    "### 응답결과(Response) 조회"
   ]
  },
  {
   "cell_type": "code",
   "execution_count": null,
   "metadata": {},
   "outputs": [],
   "source": [
    "import requests\n",
    "from bs4 import BeautifulSoup\n",
    "strftime() 날짜 시간을 웒는 형태의 \n",
    "\n",
    "url = 'http://www.pythonscraping.com/pages/warandpeace.html'\n",
    "user_agent='Mozilla/5.0 (Windows NT 10.0; Win64; x64) AppleWebKit/537.36 (KHTML, like Gecko) Ch'\n",
    "#요청\n",
    "response = requests.get(url, headers={\"User-Agent\":user_agent})\n",
    "if response.status_code == 200 : #정상응답이 왔다면\n",
    "    result_green=[]"
   ]
  },
  {
   "cell_type": "code",
   "execution_count": null,
   "metadata": {},
   "outputs": [],
   "source": []
  }
 ],
 "metadata": {
  "kernelspec": {
   "display_name": "Python 3 (ipykernel)",
   "language": "python",
   "name": "python3"
  },
  "language_info": {
   "codemirror_mode": {
    "name": "ipython",
    "version": 3
   },
   "file_extension": ".py",
   "mimetype": "text/x-python",
   "name": "python",
   "nbconvert_exporter": "python",
   "pygments_lexer": "ipython3",
   "version": "3.10.9"
  },
  "toc": {
   "base_numbering": 1,
   "nav_menu": {},
   "number_sections": true,
   "sideBar": false,
   "skip_h1_title": false,
   "title_cell": "Table of Contents",
   "title_sidebar": "Contents",
   "toc_cell": false,
   "toc_position": {},
   "toc_section_display": false,
   "toc_window_display": false
  },
  "varInspector": {
   "cols": {
    "lenName": 16,
    "lenType": 16,
    "lenVar": 40
   },
   "kernels_config": {
    "python": {
     "delete_cmd_postfix": "",
     "delete_cmd_prefix": "del ",
     "library": "var_list.py",
     "varRefreshCmd": "print(var_dic_list())"
    },
    "r": {
     "delete_cmd_postfix": ") ",
     "delete_cmd_prefix": "rm(",
     "library": "var_list.r",
     "varRefreshCmd": "cat(var_dic_list()) "
    }
   },
   "types_to_exclude": [
    "module",
    "function",
    "builtin_function_or_method",
    "instance",
    "_Feature"
   ],
   "window_display": false
  }
 },
 "nbformat": 4,
 "nbformat_minor": 2
}
