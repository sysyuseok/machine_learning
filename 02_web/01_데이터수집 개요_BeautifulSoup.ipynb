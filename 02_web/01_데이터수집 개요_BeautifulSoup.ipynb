{
 "cells": [
  {
   "cell_type": "markdown",
   "metadata": {},
   "source": [
    "# 데이터 수집개요\n",
    "\n",
    "## 데이터 선정\n",
    "\n",
    "- 요구사항 분석을 통해 분석목표가 정해졌다면 어떤 데이터를 수집할지 선정해야 한다.\n",
    "    - 수집 대상 데이터는 그 목적과 직접적 관련이 있는 데이터과 간접적 관련이 있는 데이터가 있다.\n",
    "    - 예: 축구 승리에 미치는 영향을 주는 요인들\n",
    "        - **축구와 직접 관련된 데이터(요인)**\n",
    "            - 축구 기록 관련: 골, 득점 기대수치, 볼 점유율, 패스 성공율, 슈팅 시도, 태클 시도 및 성공등\n",
    "            - 선수 관련: 연봉, 나이, 경력, 최근 경기 성적등\n",
    "            - 기타: 홈 원정 여부, 경기 시작 시간, 최근 5경기 결과, 직전 경기 결과 등\n",
    "        - **간접 관련된 데이터(요인)**\n",
    "            - 경기 당일 날씨\n",
    "            - 관중수, 응원단 수\n",
    "            "
   ]
  },
  {
   "cell_type": "markdown",
   "metadata": {},
   "source": [
    "## 데이터 수집 방법 선정\n",
    "- 수집할 데이터를 선정했다면 그 다음은 어떻게 데이터를 수집할지 그 방법을 정해야 한다.\n",
    "- **어디서 구할 것인가?**\n",
    "    - 사내 데이터베이스\n",
    "    - 외부 데이터\n",
    "        - 외부 데이터일 경우 어디서 구할 수 있는지 조사해야한다.\n",
    "            - 공개 데이터셋\n",
    "            - 유료 데이터셋\n",
    "            - 데이터 크롤링(crawling)\n",
    "                - 크롤링시 법적 문제는 없는지 확인해야 한다.\n",
    "- **수집할 데이터의 양은 충분한지 확인**\n",
    "    - 의미 있는 결과를 얻으려면 다양한 패턴의 데이터를 의미 있는 양만큼 수집해야 한다.\n",
    "    - 수집 데이터가 한쪽에 편향 되지 않아야 한다. \n",
    "        - 스팸메일을 분석하기 위한 데이터를 수집할 때 정상메일이 스팸메일보다 훨씬 만다면?\n",
    "        - 지하철 호선별 평균이용량을 수집하는데 1호선은 7월, 2호선은 2월, 3호선은 12월 같이 다른 기준으로 데이터를 수집한다면?\n",
    "- **수집할 데이터가 신뢰할만 한 데이터인지 확인 필요**\n",
    "    - 4차산업혁명, 인터넷, SNS 발달로 데이터의 양이 급증가하여 데이터 수집이 쉬워짐.\n",
    "    - 쉬어진 만큼 신뢰하기 힘든 데이터들도 급증함. 그래서 **수집한 데이터가 신뢰할 만한 데이터인지 구별하는 것이 중요해졌다.**\n",
    "        - 특히 출처가 불분명한 데이터 (커뮤니티 글, 유튜브 영상, 지식IN 등)일 경우 확인이 필요함."
   ]
  },
  {
   "cell_type": "markdown",
   "metadata": {},
   "source": [
    "## 데이터 수집 주기\n",
    "- 일회성인지 주기적으로 수집해야 하는 데이터인지에 따라 방법과 도구가 달라질 수 있다.\n",
    "- **일회성 데이터**\n",
    "    - 수집한 데이터를 csv, txt등의 파일형식으로 저장하여 활용한다.\n",
    "    - 변하지 않는 데이터셋으로 국가나 도시정보등이 있다.\n",
    "- **주기적으로 수집이 필요한 데이터**\n",
    "    - 자동화 시스템 구축을 하여 데이터베이스에 데이터를 주기적으로 수집, 저장한다.\n",
    "    - 변하는 데이터로 대부분이 여기에 속한다."
   ]
  },
  {
   "cell_type": "markdown",
   "metadata": {},
   "source": [
    "## 데이터 수집에 도움이 되는 사이트\n",
    "\n",
    "- **국가 통계포털**\n",
    "    - https://kosis.kr\n",
    "    - 통계청에서 관리하는 공공데이터 포털로 다양한 카테고리의 국가 통계데이터를 제공한다.\n",
    "\n",
    "- **공공데이터 포털**\n",
    "    - https://www.data.go.kr\n",
    "    - 행정 안전부에서 제공하는 정부 데이터 포털\n",
    "- **Kaggle**\n",
    "    - https://kaggle.com\n",
    "    - 데이터과학 관련 경진대회 플랫폼\n",
    "    - 다양한 데이터들을 제공한다.\n",
    "- **구글 데이터셋 서치**\n",
    "    - https://datasetsearch.research.google.com\n",
    "    - 구글에서 제공하는 데이터셋 검색 사이트\n",
    "    - 키워드를 이용해 다양한 데이터셋을 검색하고 다운로드 받을 수 있다.\n",
    "- **AI Hub**\n",
    "    - https://aihub.or.kr\n",
    "    - 국내외 기관/기업에서 추진한 지능정보산업 인프라 조성사업에서 공개한 AI 학습용 데이터셋들을 제공한다.\n",
    "- **Roboflow Universe**\n",
    "    - https://universe.roboflow.com/\n",
    "    - Roboflow 라는 인공지능 회사에서 운영하는 데이터 저장소 사이트로 컴퓨터비전 관련 데이터셋을 주로 제공한다.\n",
    "- 기타\n",
    "    - **지자체**: 서울시 열린 데이터광장, 경기 데이터 드림\n",
    "    - **금융관련**: 한국거래소, 금융통계정보시스템등\n",
    "    - **영화관련**: 영화진흥위원회\n",
    "    - **대중교통**: 국가교통데이터베이스, 교통카드 빅데이터 통합정보시스템등    \n",
    "    - **관광관련**: 한국 관광 데이터랩등\n",
    "    - **날씨정보**: 기상청 기상자료 개방포털, 네이버 날씨"
   ]
  },
  {
   "cell_type": "markdown",
   "metadata": {},
   "source": [
    "## [크롬개발자 도구](https://developers.google.com/web/tools/chrome-devtools/)"
   ]
  },
  {
   "cell_type": "markdown",
   "metadata": {},
   "source": [
    "# BeautifulSoup\n",
    "- Markup 언어 parsing 라이브러리\n",
    "    - HTML이나 XML 문서 내에서 원하는 정보를 가져오기 위한 파이썬 라이브러리.\n",
    "- https://www.crummy.com/software/BeautifulSoup/\n",
    "- https://www.crummy.com/software/BeautifulSoup/bs4/doc/\n",
    "- 설치\n",
    "    - conda install beautifulsoup4\n",
    "    - pip install beautifulsoup4\n"
   ]
  },
  {
   "cell_type": "code",
   "execution_count": 3,
   "metadata": {},
   "outputs": [],
   "source": [
    "from bs4 import BeautifulSoup"
   ]
  },
  {
   "cell_type": "code",
   "execution_count": 2,
   "metadata": {},
   "outputs": [],
   "source": [
    "import bs4"
   ]
  },
  {
   "cell_type": "code",
   "execution_count": 3,
   "metadata": {},
   "outputs": [
    {
     "data": {
      "text/plain": [
       "'4.11.1'"
      ]
     },
     "execution_count": 3,
     "metadata": {},
     "output_type": "execute_result"
    }
   ],
   "source": [
    "bs4.__version__"
   ]
  },
  {
   "cell_type": "markdown",
   "metadata": {},
   "source": [
    "## 코딩 패턴\n",
    "1. 조회할 HTML내용을 전달하여 BeautifulSoup 객체 생성 \n",
    "1. BeautifulSoup객체의 메소드들을 이용해 문서내에서 필요한 정보 조회\n",
    "    - 태그이름과 태그 속성으로 조회\n",
    "    - css selector를 이용해 조회\n",
    "    - . 표기법을 이용한 탐색(Tree 구조 순서대로 탐색)"
   ]
  },
  {
   "cell_type": "markdown",
   "metadata": {},
   "source": [
    "## BeautifulSoup 객체 생성\n",
    "- BeautifulSoup(html str [, 파서])\n",
    "    - 매개변수\n",
    "        1. 정보를 조회할 html을 string으로 전달\n",
    "        2. 파서\n",
    "            - html.parser(기본파서)\n",
    "            - lxml : 매우 빠르다. html, xml 파싱 가능(xml 파싱은 lxml만 가능)\n",
    "                - 사용시 install 필요 \n",
    "                - `conda install lxml`\n",
    "                - `pip install lxml`\n",
    "                - install 후 커널 restart 시킨다."
   ]
  },
  {
   "cell_type": "code",
   "execution_count": 5,
   "metadata": {},
   "outputs": [
    {
     "name": "stdout",
     "output_type": "stream",
     "text": [
      "<!--주석: html태그:문서의시작과 끝 표시-->\n",
      "<!--head:문서의 설명을 작성하는 태그-->\n",
      "<!--body:문서의 내용을 작성하는 태그-->\n",
      "<html> # 문서의 시작\n",
      "\t<head>\n",
      "\t<title>example_test.html </title>\n",
      "\t<meta charset='utf-8'>\t\n",
      "\t<style>\n",
      "\t\tspan{color:red} \n",
      "\t</style>\n",
      "\t</head>\n",
      "\t\t\n",
      "\t<body>\n",
      "\t\t<h1>animal list</h1>\n",
      "\t\t<div id= \"animal1\">\n",
      "\t\t\t<div class=\"animal\">lion</div>\n",
      "\t\t\t<div class=\"count\">3</div>\n",
      "\t\t</div>\n",
      "\t\t<div id= \"animal2\">\n",
      "\t\t\t<div class=\"animal\">tiger</div>\n",
      "\t\t\t<div class=\"count\">5</div>\n",
      "\t\t</div>\n",
      "\t\t<div id= \"animal3\">\n",
      "\t\t\t<div class=\"animal\">kangaroo</div>\n",
      "\t\t\t<div class=\"count\">3</div>\n",
      "\t\t</div>\n",
      "\t\t<div id= \"animal4\">\n",
      "\t\t\t<div class=\"animal\">bear</div>\n",
      "\t\t\t<div class=\"count\">7</div>\n",
      "\t\t</div>\n",
      "\t\t<div id=\"content\">\n",
      "\t\t\twe also have <span class=\"animal\"> giraffe</span> and <b class=\"count\">30</b>\n",
      "\t\t</div>\n",
      "\t\t<h1>\n",
      "\t\tother zoo\n",
      "\t\t\n",
      "\t\t</h1>\n",
      "\t\t<!--ul 태그: 순서가 없는 목록, ol : 순서가 있는 목록 -->\n",
      "\t\t<!--li 태그 : ul/ol의 하위태그 - 목록을 구성하는 item을 쟉성--> \n",
      "\t\t<ul>\n",
      "\t\t\t<li><a href=\"https://english.visitkorea.or.kr/enu/ATR/SI_EN_3_1_1_1.jsp?cid=1051832\">seoul children's grand park</a></li>\t\t\t\n",
      "\t\t\t<li><a href=\"https://www.river-park.com//\">han river park</li>\n",
      "\t\t\t<li>lotteworld</li>\n",
      "\t\t\t<li><a href=\"https://www.coexaqua.com\">coex aquarium</a></li>\n",
      "\t\t</ul>\n",
      "\t\t<a href=\"https://www.google.co.kr\">google</a><br>\n",
      "\t\t<a href=\"https://www.w3schools.com\">HTML study</a>\n",
      "\t</body>\n",
      "</html> # 문서의 끝\n",
      "\n"
     ]
    }
   ],
   "source": [
    "#example_test.html로 부터 내용 조회\n",
    "with open(\"example_test.html\",\"rt\",encoding='utf-8') as fr:\n",
    "    docs = fr.read()\n",
    "print(docs)"
   ]
  },
  {
   "cell_type": "code",
   "execution_count": null,
   "metadata": {},
   "outputs": [],
   "source": [
    "html.parser(기본파서)\n",
    "soup=BeautifulParser(docs)도 가능하고 ..Parser(docs,\"lxml\")도 가능"
   ]
  },
  {
   "cell_type": "code",
   "execution_count": 7,
   "metadata": {},
   "outputs": [],
   "source": [
    "import lxml"
   ]
  },
  {
   "cell_type": "code",
   "execution_count": 6,
   "metadata": {},
   "outputs": [],
   "source": [
    "soup=BeautifulSoup(docs,\"lxml\")"
   ]
  },
  {
   "cell_type": "code",
   "execution_count": null,
   "metadata": {},
   "outputs": [],
   "source": [
    "soup.find()"
   ]
  },
  {
   "cell_type": "code",
   "execution_count": null,
   "metadata": {},
   "outputs": [],
   "source": []
  },
  {
   "cell_type": "markdown",
   "metadata": {},
   "source": [
    "## 문서내에서 원하는 정보 검색\n",
    "\n",
    "### Tag 객체\n",
    "- 하나의 태그(element)에 대한 정보를 다루는 객체.\n",
    "    - BeautifulSoup 조회 메소드들의 **조회결과의 반환타입.**\n",
    "    - 조회 함수들이 찾은 Element가 하나일 경우 **Tag 객체를, 여러개일 경우 Tag 객체들을 담은 List(ResultSet)**를 반환한다.\n",
    "    - Tag 객체는 찾은 정보를 제공하는 메소드와 Attribute를 가지고 있다. 또 찾은 Tag가 하위 element를 가질 경우 찾을 수 있는 조회 메소드를 제공한다.\n",
    "- 주요 속성/메소드\n",
    "    - **태그의 속성값 조회**\n",
    "        - tag객체.get('속성명') \n",
    "        - tag객체\\['속성명'\\]\n",
    "        - ex) tag.get('href') 또는 tag\\['href'\\]\n",
    "    - **태그내 text값 조회**\n",
    "        - tag객체.get_text()\n",
    "        - tag객체.text\n",
    "        - ex) tag.get_text() 또는 tag.text\n",
    "    - **contents 속성**\n",
    "        - 조회한 태그의 모든 자식 요소들을 리스트로 반환\n",
    "        - ex) child_list = tag.contents"
   ]
  },
  {
   "cell_type": "code",
   "execution_count": null,
   "metadata": {},
   "outputs": [],
   "source": [
    "#element - start(begin) tag + content + stop(end) tag\n",
    "#<div id= \"animal1\">\n",
    "#    <div class=\"animal\">lion</div>\n",
    "#    <div class=\"count\">3</div>\n",
    "#</div>\n",
    "#-> element 예시 상위 하위 element 계층관계도 존재\n",
    "# lion과 3이 묶여서 하나의 정보를 의미\n",
    "\n",
    "# 이름=\"값\"의 형태로 속성을 정해줘야한다\n",
    "# 여러개가 존재할때에도 ,를 사용하지 않는다 공백구분\n"
   ]
  },
  {
   "cell_type": "markdown",
   "metadata": {},
   "source": [
    "## 조회 함수\n",
    "- **태그의 이름으로 조회**\n",
    "    - find_all()\n",
    "    - find()\n",
    "- **css selector를 이용해 조회**\n",
    "    - select(), select_one()\n",
    "- **`.` 표기법(dot notation)**\n",
    "    - dom tree 구조의 계층 순서대로 조회\n",
    "    - 위의 두방식으로 찾은 tag를 기준으로 그 주위의 element 들을 찾을 때 사용"
   ]
  },
  {
   "cell_type": "code",
   "execution_count": null,
   "metadata": {},
   "outputs": [],
   "source": [
    "# find()와 select_one()은 1개만 찾는다\n",
    "# find와 select는 조회방법이 다름"
   ]
  },
  {
   "cell_type": "markdown",
   "metadata": {},
   "source": [
    "### 태그의 이름으로 조회\n",
    "- **find_all**(name=태그명, attrs={속성명:속성값, ..})\n",
    "   - 이름의 모든 태그 element들을 리스트에 담아 반환.\n",
    "   - 여러 이름의 태그를 조회할 경우 List에 태그명들을 묶어서 전달한다.\n",
    "   - 태그의 attribute 조건으로만 조회할 경우 name을 생략한다. \n",
    "- **find**(name=태그명, attrs={속성명:속성값})\n",
    "    - 이름의 태그중 첫번째 태그 element를 반환."
   ]
  },
  {
   "cell_type": "code",
   "execution_count": 8,
   "metadata": {},
   "outputs": [
    {
     "name": "stdout",
     "output_type": "stream",
     "text": [
      "[<a href=\"https://english.visitkorea.or.kr/enu/ATR/SI_EN_3_1_1_1.jsp?cid=1051832\">seoul children's grand park</a>, <a href=\"https://www.river-park.com//\">han river park</a>, <a href=\"https://www.coexaqua.com\">coex aquarium</a>, <a href=\"https://www.google.co.kr\">google</a>, <a href=\"https://www.w3schools.com\">HTML study</a>]\n",
      "--------------------------------------------------\n",
      "[<span class=\"animal\"> giraffe</span>, <a href=\"https://english.visitkorea.or.kr/enu/ATR/SI_EN_3_1_1_1.jsp?cid=1051832\">seoul children's grand park</a>, <a href=\"https://www.river-park.com//\">han river park</a>, <a href=\"https://www.coexaqua.com\">coex aquarium</a>, <a href=\"https://www.google.co.kr\">google</a>, <a href=\"https://www.w3schools.com\">HTML study</a>]\n",
      "--------------------------------------------------\n",
      "[<div class=\"animal\">lion</div>, <div class=\"animal\">tiger</div>, <div class=\"animal\">kangaroo</div>, <div class=\"animal\">bear</div>]\n",
      "--------------------------------------------------\n",
      "[<div class=\"animal\">lion</div>, <div class=\"animal\">tiger</div>, <div class=\"animal\">kangaroo</div>, <div class=\"animal\">bear</div>, <span class=\"animal\"> giraffe</span>]\n",
      "--------------------------------------------------\n",
      "[<a href=\"https://www.coexaqua.com\">coex aquarium</a>]\n",
      "--------------------------------------------------\n",
      "[<a href=\"https://www.coexaqua.com\">coex aquarium</a>, <a href=\"https://www.w3schools.com\">HTML study</a>]\n",
      "--------------------------------------------------\n",
      "[<a href=\"https://www.river-park.com//\">han river park</a>, <a href=\"https://www.coexaqua.com\">coex aquarium</a>, <a href=\"https://www.w3schools.com\">HTML study</a>]\n",
      "--------------------------------------------------\n",
      "<class 'bs4.element.Tag'> <a href=\"https://www.river-park.com//\">han river park</a>\n"
     ]
    }
   ],
   "source": [
    "import re\n",
    "# list로 묶인 태그 이름을 이용해서 조회\n",
    "result1 = soup.find_all(\"a\") #문서 내에서 <a>를 다 찾아라.\n",
    "result2 = soup.find_all([\"a\",\"span\"]) # <a>와 <span>을 찾아라\n",
    "result3 = soup.find_all(\"div\",attrs={\"class\":\"animal\"}) # <div class=\"animal\">\n",
    "result4=soup.find_all(attrs={\"class\":\"animal\"}) # 모든 태그들 중 class=\"animal\"\n",
    "result5=soup.find_all(\"a\",{\"href\":\"https://www.coexaqua.com\"})\n",
    "result6=soup.find_all(\"a\",{\"href\":re.compile(r\".com$\")}) #.com으로 끝나는 경우\n",
    "result7=soup.find_all(attrs={\"href\":re.compile(r\"com\")}) #.com을 포함하는 경우\n",
    "print(result1)\n",
    "print(\"-\"*50)\n",
    "print(result2)\n",
    "print(\"-\"*50)\n",
    "print(result3)\n",
    "print(\"-\"*50)\n",
    "print(result4)\n",
    "print(\"-\"*50)\n",
    "print(result5)\n",
    "print(\"-\"*50)\n",
    "print(result6)\n",
    "print(\"-\"*50)\n",
    "print(result7)\n",
    "print(\"-\"*50)\n",
    "print(type(result7[0]),result7[0])"
   ]
  },
  {
   "cell_type": "code",
   "execution_count": 9,
   "metadata": {
    "scrolled": true
   },
   "outputs": [
    {
     "name": "stdout",
     "output_type": "stream",
     "text": [
      "<class 'bs4.element.ResultSet'>\n",
      "[<div id=\"animal1\">\n",
      "<div class=\"animal\">lion</div>\n",
      "<div class=\"count\">3</div>\n",
      "</div>]\n"
     ]
    },
    {
     "ename": "AttributeError",
     "evalue": "ResultSet object has no attribute 'get'. You're probably treating a list of elements like a single element. Did you call find_all() when you meant to call find()?",
     "output_type": "error",
     "traceback": [
      "\u001b[1;31m---------------------------------------------------------------------------\u001b[0m",
      "\u001b[1;31mAttributeError\u001b[0m                            Traceback (most recent call last)",
      "Cell \u001b[1;32mIn[9], line 6\u001b[0m\n\u001b[0;32m      4\u001b[0m \u001b[38;5;28mprint\u001b[39m(result)\n\u001b[0;32m      5\u001b[0m \u001b[38;5;66;03m# tag 속성\u001b[39;00m\n\u001b[1;32m----> 6\u001b[0m \u001b[38;5;28mprint\u001b[39m(\u001b[43mresult\u001b[49m\u001b[38;5;241;43m.\u001b[39;49m\u001b[43mget\u001b[49m(\u001b[38;5;124m\"\u001b[39m\u001b[38;5;124mid\u001b[39m\u001b[38;5;124m\"\u001b[39m),result[\u001b[38;5;124m\"\u001b[39m\u001b[38;5;124mid\u001b[39m\u001b[38;5;124m\"\u001b[39m])\n\u001b[0;32m      7\u001b[0m \u001b[38;5;66;03m# 하위 element\u001b[39;00m\n\u001b[0;32m      8\u001b[0m result\u001b[38;5;241m.\u001b[39mfind(attrs\u001b[38;5;241m=\u001b[39m{\u001b[38;5;124m\"\u001b[39m\u001b[38;5;124mclass\u001b[39m\u001b[38;5;124m\"\u001b[39m:\u001b[38;5;124m\"\u001b[39m\u001b[38;5;124manimal\u001b[39m\u001b[38;5;124m\"\u001b[39m})\n",
      "File \u001b[1;32m~\\anaconda3\\lib\\site-packages\\bs4\\element.py:2289\u001b[0m, in \u001b[0;36mResultSet.__getattr__\u001b[1;34m(self, key)\u001b[0m\n\u001b[0;32m   2287\u001b[0m \u001b[38;5;28;01mdef\u001b[39;00m \u001b[38;5;21m__getattr__\u001b[39m(\u001b[38;5;28mself\u001b[39m, key):\n\u001b[0;32m   2288\u001b[0m     \u001b[38;5;124;03m\"\"\"Raise a helpful exception to explain a common code fix.\"\"\"\u001b[39;00m\n\u001b[1;32m-> 2289\u001b[0m     \u001b[38;5;28;01mraise\u001b[39;00m \u001b[38;5;167;01mAttributeError\u001b[39;00m(\n\u001b[0;32m   2290\u001b[0m         \u001b[38;5;124m\"\u001b[39m\u001b[38;5;124mResultSet object has no attribute \u001b[39m\u001b[38;5;124m'\u001b[39m\u001b[38;5;132;01m%s\u001b[39;00m\u001b[38;5;124m'\u001b[39m\u001b[38;5;124m. You\u001b[39m\u001b[38;5;124m'\u001b[39m\u001b[38;5;124mre probably treating a list of elements like a single element. Did you call find_all() when you meant to call find()?\u001b[39m\u001b[38;5;124m\"\u001b[39m \u001b[38;5;241m%\u001b[39m key\n\u001b[0;32m   2291\u001b[0m     )\n",
      "\u001b[1;31mAttributeError\u001b[0m: ResultSet object has no attribute 'get'. You're probably treating a list of elements like a single element. Did you call find_all() when you meant to call find()?"
     ]
    }
   ],
   "source": [
    "result=soup.find(\"div\",attrs={\"id\":\"animal1\"}) #find는 하나만 찾는다. #find():tag\n",
    "#result=soup.find_all(\"div\",attrs={\"id\":\"animal1\"})\n",
    "print(type(result))\n",
    "print(result)\n",
    "# tag 속성\n",
    "print(result.get(\"id\"),result[\"id\"])\n",
    "#print(result[0].get(\"id\"),result[\"id\"]) find_all 이면 index지정으로 특정해줘야한다.\n",
    "# 하위 element\n",
    "result.find(attrs={\"class\":\"animal\"})\n",
    "result.div\n",
    "# content() - text 조회\n",
    "result.text, result.get_text()\n",
    "result.contents"
   ]
  },
  {
   "cell_type": "code",
   "execution_count": 49,
   "metadata": {},
   "outputs": [
    {
     "name": "stdout",
     "output_type": "stream",
     "text": [
      "<class 'bs4.element.Tag'>\n",
      "<class 'bs4.element.Tag'>\n"
     ]
    }
   ],
   "source": [
    "for t in result.contents:\n",
    "    #print(t)\n",
    "    #print(type(t))\n",
    "    if isinstance(t,bs4.element.Tag):\n",
    "        print(type(t))"
   ]
  },
  {
   "cell_type": "markdown",
   "metadata": {},
   "source": [
    "### CSS Selector를 이용해 조회\n",
    "- **select(selector='css셀렉터')**\n",
    "    - css 셀렉터와 일치하는 tag들을 반환한다.\n",
    "- **select_one(selector='css셀렉터')**\n",
    "    - css 셀렉터와 일치하는 tag를 반환한다.\n",
    "    - 일치하는 것이 여러개일 경우 첫번째 것 하나만 반환한다."
   ]
  },
  {
   "cell_type": "code",
   "execution_count": null,
   "metadata": {},
   "outputs": [],
   "source": [
    "# html에 3가지 입력 가능\n",
    "# html, css, javascript 까지 3가지를 통해서 html 문서 작성 가능\n",
    "# html을 이용해서는 문서의 구조를 정의 - tag를 이용한 구조 설정\n",
    "# css를 이용해서는 문서를 꾸며주는 역할 - style 정의\n",
    "# javascript를 이용해서는 동적 처리의 역할 - 일반적인 프로그램언어 역할"
   ]
  },
  {
   "cell_type": "code",
   "execution_count": null,
   "metadata": {},
   "outputs": [],
   "source": [
    "#style 지정부 #여러개 할때는 ;으로 구분\n",
    "#어떤 부분에 적용할지 정하는 것이 css selector 문법"
   ]
  },
  {
   "cell_type": "code",
   "execution_count": 7,
   "metadata": {},
   "outputs": [
    {
     "data": {
      "text/plain": [
       "<!--주석: html태그:문서의시작과 끝 표시--><!--head:문서의 설명을 작성하는 태그--><!--body:문서의 내용을 작성하는 태그--><html><body><p> # 문서의 시작\n",
       "\t</p>\n",
       "<title>example_test.html </title>\n",
       "<meta charset=\"utf-8\"/>\n",
       "<style>\n",
       "\t\tspan{color:red} \n",
       "\t</style>\n",
       "<h1>animal list</h1>\n",
       "<div id=\"animal1\">\n",
       "<div class=\"animal\">lion</div>\n",
       "<div class=\"count\">3</div>\n",
       "</div>\n",
       "<div id=\"animal2\">\n",
       "<div class=\"animal\">tiger</div>\n",
       "<div class=\"count\">5</div>\n",
       "</div>\n",
       "<div id=\"animal3\">\n",
       "<div class=\"animal\">kangaroo</div>\n",
       "<div class=\"count\">3</div>\n",
       "</div>\n",
       "<div id=\"animal4\">\n",
       "<div class=\"animal\">bear</div>\n",
       "<div class=\"count\">7</div>\n",
       "</div>\n",
       "<div id=\"content\">\n",
       "\t\t\twe also have <span class=\"animal\"> giraffe</span> and <b class=\"count\">30</b>\n",
       "</div>\n",
       "<h1>\n",
       "\t\tother zoo\n",
       "\t\t\n",
       "\t\t</h1>\n",
       "<!--ul 태그: 순서가 없는 목록, ol : 순서가 있는 목록 -->\n",
       "<!--li 태그 : ul/ol의 하위태그 - 목록을 구성하는 item을 쟉성-->\n",
       "<ul>\n",
       "<li><a href=\"https://english.visitkorea.or.kr/enu/ATR/SI_EN_3_1_1_1.jsp?cid=1051832\">seoul children's grand park</a></li>\n",
       "<li><a href=\"https://www.river-park.com//\">han river park</a></li>\n",
       "<li>lotteworld</li>\n",
       "<li><a href=\"https://www.coexaqua.com\">coex aquarium</a></li>\n",
       "</ul>\n",
       "<a href=\"https://www.google.co.kr\">google</a><br/>\n",
       "<a href=\"https://www.w3schools.com\">HTML study</a>\n",
       "</body></html><html><p> # 문서의 끝\n",
       "</p></html>"
      ]
     },
     "execution_count": 7,
     "metadata": {},
     "output_type": "execute_result"
    }
   ],
   "source": [
    "soup"
   ]
  },
  {
   "cell_type": "code",
   "execution_count": 10,
   "metadata": {},
   "outputs": [
    {
     "name": "stdout",
     "output_type": "stream",
     "text": [
      "개수: 5\n"
     ]
    },
    {
     "data": {
      "text/plain": [
       "[<span class=\"animal\"> giraffe</span>,\n",
       " <a href=\"https://english.visitkorea.or.kr/enu/ATR/SI_EN_3_1_1_1.jsp?cid=1051832\">seoul children's grand park</a>,\n",
       " <a href=\"https://www.river-park.com//\">han river park</a>,\n",
       " <a href=\"https://www.coexaqua.com\">coex aquarium</a>,\n",
       " <a href=\"https://www.google.co.kr\">google</a>,\n",
       " <a href=\"https://www.w3schools.com\">HTML study</a>]"
      ]
     },
     "execution_count": 10,
     "metadata": {},
     "output_type": "execute_result"
    }
   ],
   "source": [
    "#태그명으로 조회\n",
    "result1= soup.select(\"a\") #a태그들\n",
    "result2=soup.select(\"span,a\") #여러 태그들을 ,로 연결 가능\n",
    "print(\"개수:\",len(result1))\n",
    "result2"
   ]
  },
  {
   "cell_type": "code",
   "execution_count": 15,
   "metadata": {},
   "outputs": [
    {
     "data": {
      "text/plain": [
       "[<b class=\"count\">30</b>]"
      ]
     },
     "execution_count": 15,
     "metadata": {},
     "output_type": "execute_result"
    }
   ],
   "source": [
    "# class 속성으로 조회 => .클래스속성값\n",
    "# 태그명.클래스속성값\n",
    "result = soup.select(\"b.count\")\n",
    "# ex) result = soup.select(\".count\") 모든 태그들 중에 class=\"count\"를 찾는다는 의미\n",
    "# result = soup.select(\"b.count\") b태그 들 중에서 class=\"count\"를 찾는다\n",
    "result\n"
   ]
  },
  {
   "cell_type": "code",
   "execution_count": 17,
   "metadata": {},
   "outputs": [
    {
     "data": {
      "text/plain": [
       "<div id=\"animal1\">\n",
       "<div class=\"animal\">lion</div>\n",
       "<div class=\"count\">3</div>\n",
       "</div>"
      ]
     },
     "execution_count": 17,
     "metadata": {},
     "output_type": "execute_result"
    }
   ],
   "source": [
    "# id 속성으로 조회 => id 속성값\n",
    "# 태그명 #id 속성값\n",
    "result=soup.select(\"#animal1\") # list로 1개가 나온것이다.\n",
    "result=soup.select_one(\"#animal1\") # list가 아닌 tag로 반환된다.\n",
    "result"
   ]
  },
  {
   "cell_type": "code",
   "execution_count": 20,
   "metadata": {},
   "outputs": [
    {
     "name": "stdout",
     "output_type": "stream",
     "text": [
      "[<div class=\"animal\">tiger</div>]\n"
     ]
    }
   ],
   "source": [
    "# 자식 태그(노드) 표현\n",
    "# parent > child ==> 찾는 대상 : child이므로 parent 하위에 존재해야한다.\n",
    "result = soup.select(\"#animal2 > .animal\") #class가 animal이고 id가 animal2인것 >가 부모자식의 관계 표현\n",
    "print(result)\n",
    "#하위 관계가 2개 이상으로 늘어나면 조상, 자손의 관계라고 한다. 형제관계도 존재 previous sibling, next sibling\n",
    "\n"
   ]
  },
  {
   "cell_type": "code",
   "execution_count": 25,
   "metadata": {},
   "outputs": [
    {
     "name": "stdout",
     "output_type": "stream",
     "text": [
      "[<a href=\"https://english.visitkorea.or.kr/enu/ATR/SI_EN_3_1_1_1.jsp?cid=1051832\">seoul children's grand park</a>, <a href=\"https://www.river-park.com//\">han river park</a>, <a href=\"https://www.coexaqua.com\">coex aquarium</a>]\n"
     ]
    }
   ],
   "source": [
    "#result=soup.select(\"li>a\")\n",
    "result=soup.select(\"ul a\") # ul -> li -> a 이므로 조상 자손 관계라 > 표시 하지 않고 그냥 공백으로 표시\n",
    "# 자손은 자식을 포함한 관계이다.\n",
    "print(result)\n",
    "# \t\t<ul>\n",
    "# \t\t\t<li><a href=\"https://english.visitkorea.or.kr/enu/ATR/SI_EN_3_1_1_1.jsp?cid=1051832\">seoul children's grand park</a></li>\t\t\t\n",
    "# \t\t\t<li><a href=\"https://www.river-park.com//\">han river park</li>\n",
    "# \t\t\t<li>lotteworld</li>\n",
    "# \t\t\t<li><a href=\"https://www.coexaqua.com\">coex aquarium</a></li>\n",
    "# \t\t</ul>"
   ]
  },
  {
   "cell_type": "code",
   "execution_count": 26,
   "metadata": {},
   "outputs": [
    {
     "name": "stdout",
     "output_type": "stream",
     "text": [
      "seoul children's grand park seoul children's grand park https://english.visitkorea.or.kr/enu/ATR/SI_EN_3_1_1_1.jsp?cid=1051832 https://english.visitkorea.or.kr/enu/ATR/SI_EN_3_1_1_1.jsp?cid=1051832\n",
      "han river park han river park https://www.river-park.com// https://www.river-park.com//\n",
      "coex aquarium coex aquarium https://www.coexaqua.com https://www.coexaqua.com\n"
     ]
    }
   ],
   "source": [
    "for tag in result:\n",
    "    print(tag.text, tag.get_text(), tag['href'], tag.get('href'))"
   ]
  },
  {
   "cell_type": "code",
   "execution_count": 30,
   "metadata": {},
   "outputs": [
    {
     "data": {
      "text/plain": [
       "(4,\n",
       " [<div class=\"count\">3</div>,\n",
       "  <div class=\"count\">5</div>,\n",
       "  <div class=\"count\">3</div>,\n",
       "  <div class=\"count\">7</div>])"
      ]
     },
     "execution_count": 30,
     "metadata": {},
     "output_type": "execute_result"
    }
   ],
   "source": [
    "result=soup.select(\"div:nth-child(2)\") # div 중에서 2번째 자식 tag를 조회\n",
    "len(result),result"
   ]
  },
  {
   "cell_type": "code",
   "execution_count": null,
   "metadata": {},
   "outputs": [],
   "source": [
    "#개발자 도구(f12)의 도움을 받아 원하는 내용을 얻을 수 있다."
   ]
  },
  {
   "cell_type": "code",
   "execution_count": null,
   "metadata": {},
   "outputs": [],
   "source": []
  },
  {
   "cell_type": "code",
   "execution_count": null,
   "metadata": {},
   "outputs": [],
   "source": []
  },
  {
   "cell_type": "code",
   "execution_count": null,
   "metadata": {},
   "outputs": [],
   "source": []
  }
 ],
 "metadata": {
  "kernelspec": {
   "display_name": "Python 3 (ipykernel)",
   "language": "python",
   "name": "python3"
  },
  "language_info": {
   "codemirror_mode": {
    "name": "ipython",
    "version": 3
   },
   "file_extension": ".py",
   "mimetype": "text/x-python",
   "name": "python",
   "nbconvert_exporter": "python",
   "pygments_lexer": "ipython3",
   "version": "3.10.9"
  },
  "toc": {
   "base_numbering": 1,
   "nav_menu": {},
   "number_sections": false,
   "sideBar": false,
   "skip_h1_title": false,
   "title_cell": "Table of Contents",
   "title_sidebar": "Contents",
   "toc_cell": false,
   "toc_position": {},
   "toc_section_display": true,
   "toc_window_display": false
  },
  "varInspector": {
   "cols": {
    "lenName": 16,
    "lenType": 16,
    "lenVar": 40
   },
   "kernels_config": {
    "python": {
     "delete_cmd_postfix": "",
     "delete_cmd_prefix": "del ",
     "library": "var_list.py",
     "varRefreshCmd": "print(var_dic_list())"
    },
    "r": {
     "delete_cmd_postfix": ") ",
     "delete_cmd_prefix": "rm(",
     "library": "var_list.r",
     "varRefreshCmd": "cat(var_dic_list()) "
    }
   },
   "types_to_exclude": [
    "module",
    "function",
    "builtin_function_or_method",
    "instance",
    "_Feature"
   ],
   "window_display": false
  }
 },
 "nbformat": 4,
 "nbformat_minor": 2
}
