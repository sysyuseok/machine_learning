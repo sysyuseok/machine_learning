{
 "cells": [
  {
   "cell_type": "markdown",
   "metadata": {},
   "source": [
    "# Seoul_report.csv 읽기\n",
    "+ 서울시 주민등록인구 (구별) 통계 - [서울열린데이터광장 ](http://data.seoul.go.kr/dataList/datasetView.do?serviceKind=2&infId=419&stcSrl=419&srvType=S) "
   ]
  },
  {
   "cell_type": "markdown",
   "metadata": {},
   "source": [
    "## CSV 파일 읽기\n",
    "- Seoul_report.csv 파일의 내용을 DataFrame으로 읽고 변수에 대입"
   ]
  },
  {
   "cell_type": "code",
   "execution_count": null,
   "metadata": {
    "ExecuteTime": {
     "end_time": "2022-08-24T01:31:01.573852Z",
     "start_time": "2022-08-24T01:31:01.084049Z"
    }
   },
   "outputs": [],
   "source": [
    "import pandas as pd"
   ]
  },
  {
   "cell_type": "code",
   "execution_count": null,
   "metadata": {
    "ExecuteTime": {
     "end_time": "2022-08-24T01:31:02.008865Z",
     "start_time": "2022-08-24T01:31:01.954245Z"
    }
   },
   "outputs": [],
   "source": [
    "df_raw = pd.read_csv('data/Seoul_report.csv')\n",
    "df_raw.shape"
   ]
  },
  {
   "cell_type": "markdown",
   "metadata": {},
   "source": [
    "# 열명 변경\n",
    "- 읽은 DataFrame에 어떤 컬럼이 있는지 확인하고 열명을 아래와 같이 바꾼다. (이외 열이름은 그대로 유지)    \n",
    "    - '총합계' : '총인구' \n",
    "    - '한국인합계': '한국인'\n",
    "    - '외국인합계' : '외국인'\n",
    "    - '65세이상고령자' : '고령자'"
   ]
  },
  {
   "cell_type": "code",
   "execution_count": null,
   "metadata": {
    "ExecuteTime": {
     "end_time": "2022-08-24T01:31:03.483125Z",
     "start_time": "2022-08-24T01:31:03.466166Z"
    }
   },
   "outputs": [],
   "source": [
    "# df_raw.columns = [] #전체 컬럼명 변경\n",
    "# 일부 컬럼명만 변경시 : rename({\"기존이름\":\"새이름\", ...}, axis=1)\n",
    "dic = {\n",
    "    '총합계' : '총인구',\n",
    "    '한국인합계': '한국인',\n",
    "    '외국인합계' : '외국인',\n",
    "    '65세이상고령자' : '고령자'\n",
    "}\n",
    "df_raw.rename(dic, axis=1, inplace=True)"
   ]
  },
  {
   "cell_type": "code",
   "execution_count": null,
   "metadata": {
    "ExecuteTime": {
     "end_time": "2022-08-24T01:31:05.020345Z",
     "start_time": "2022-08-24T01:31:05.003099Z"
    }
   },
   "outputs": [],
   "source": [
    "df_raw.head()"
   ]
  },
  {
   "cell_type": "markdown",
   "metadata": {},
   "source": [
    "# 사용할 열들만 추출\n",
    "- 자치구, 총인구, 한국인, 외국인, 고령자 열만 가지는 dataframe 생성\n",
    "    - shape이 (n, 5) 이 되도록"
   ]
  },
  {
   "cell_type": "code",
   "execution_count": null,
   "metadata": {
    "ExecuteTime": {
     "end_time": "2022-08-24T01:31:18.878463Z",
     "start_time": "2022-08-24T01:31:18.859067Z"
    }
   },
   "outputs": [],
   "source": [
    "df = df_raw[['자치구', '총인구', '한국인', '외국인', '고령자']]\n",
    "df.columns"
   ]
  },
  {
   "cell_type": "markdown",
   "metadata": {},
   "source": [
    "# DataFrame 개괄 정보 조회\n",
    "1. 몇행/몇열인지 조회\n",
    "1. 결측치가 있는지 조회\n",
    "1. DataFrame에 대한 정보(index, columns) 확인\n",
    "1. 상위 5개 행만 조회\n",
    "1. 하위 5개 행만 조회\n",
    "1. 컬럼별 통계량 요약 조회"
   ]
  },
  {
   "cell_type": "code",
   "execution_count": null,
   "metadata": {
    "ExecuteTime": {
     "end_time": "2022-08-24T01:31:46.627832Z",
     "start_time": "2022-08-24T01:31:46.611544Z"
    }
   },
   "outputs": [],
   "source": [
    "# 몇행/몇열인지 조회\n",
    "df.shape"
   ]
  },
  {
   "cell_type": "code",
   "execution_count": null,
   "metadata": {
    "ExecuteTime": {
     "end_time": "2022-08-24T01:31:51.703759Z",
     "start_time": "2022-08-24T01:31:51.683496Z"
    }
   },
   "outputs": [],
   "source": [
    "# 결측치가 있는지 조회\n",
    "df.isna().sum()"
   ]
  },
  {
   "cell_type": "code",
   "execution_count": null,
   "metadata": {
    "ExecuteTime": {
     "end_time": "2022-08-24T01:31:56.906510Z",
     "start_time": "2022-08-24T01:31:56.882506Z"
    }
   },
   "outputs": [],
   "source": [
    "# DataFrame에 대한 정보(index, columns) 확인\n",
    "df.info()"
   ]
  },
  {
   "cell_type": "code",
   "execution_count": null,
   "metadata": {
    "ExecuteTime": {
     "end_time": "2022-08-24T01:32:00.261675Z",
     "start_time": "2022-08-24T01:32:00.250182Z"
    }
   },
   "outputs": [],
   "source": [
    "# 상위 5개 행만 조회\n",
    "# 하위 5개 행만 조회\n",
    "df.head()"
   ]
  },
  {
   "cell_type": "code",
   "execution_count": null,
   "metadata": {
    "ExecuteTime": {
     "end_time": "2022-08-24T01:32:01.410938Z",
     "start_time": "2022-08-24T01:32:01.394763Z"
    }
   },
   "outputs": [],
   "source": [
    "df.tail()"
   ]
  },
  {
   "cell_type": "code",
   "execution_count": null,
   "metadata": {
    "ExecuteTime": {
     "end_time": "2022-08-24T01:32:04.555805Z",
     "start_time": "2022-08-24T01:32:04.522854Z"
    }
   },
   "outputs": [],
   "source": [
    "# 컬럼별 통계량 요약 조회\n",
    "df.describe()"
   ]
  },
  {
   "cell_type": "markdown",
   "metadata": {},
   "source": [
    "# 열이름으로 조회\n",
    "1. 총인구 열의 모든 값들을 조회\n",
    "1. 한국인, 외국인 열의 모든 값들을 조회"
   ]
  },
  {
   "cell_type": "code",
   "execution_count": null,
   "metadata": {
    "ExecuteTime": {
     "end_time": "2022-08-24T01:32:21.119891Z",
     "start_time": "2022-08-24T01:32:21.099613Z"
    }
   },
   "outputs": [],
   "source": [
    "# 총인구 열의 모든 값들을 조회\n",
    "df['총인구']"
   ]
  },
  {
   "cell_type": "code",
   "execution_count": null,
   "metadata": {
    "ExecuteTime": {
     "end_time": "2022-06-14T06:46:44.992942Z",
     "start_time": "2022-06-14T06:46:44.969009Z"
    }
   },
   "outputs": [],
   "source": [
    "df.총인구"
   ]
  },
  {
   "cell_type": "code",
   "execution_count": null,
   "metadata": {
    "ExecuteTime": {
     "end_time": "2022-08-24T01:32:35.175243Z",
     "start_time": "2022-08-24T01:32:35.155357Z"
    }
   },
   "outputs": [],
   "source": [
    "# 한국인, 외국인 열의 모든 값들을 조회\n",
    "df[['한국인', '총인구']]"
   ]
  },
  {
   "cell_type": "markdown",
   "metadata": {},
   "source": [
    "# 행기준 조회\n",
    "1. 5번째 행의 데이터를 조회.\n",
    "1. 1, 5, 7, 10 번째 행의 데이터를 조회\n",
    "1. 15 ~ 20 번째 행의 데이터를 조회\n",
    "1. 10~15 행에서 자치구, 총인구, 한국인 열의 값을 조회\n",
    "1. 6, 7, 8 번째 행의 한국인, 외국인 열의 값을 조회"
   ]
  },
  {
   "cell_type": "code",
   "execution_count": null,
   "metadata": {
    "ExecuteTime": {
     "end_time": "2022-08-24T01:32:42.276999Z",
     "start_time": "2022-08-24T01:32:42.256473Z"
    }
   },
   "outputs": [],
   "source": [
    "# 5번째 행의 데이터를 조회.\n",
    "df.iloc[4]"
   ]
  },
  {
   "cell_type": "code",
   "execution_count": null,
   "metadata": {
    "ExecuteTime": {
     "end_time": "2022-08-24T01:32:42.915167Z",
     "start_time": "2022-08-24T01:32:42.889745Z"
    },
    "scrolled": true
   },
   "outputs": [],
   "source": [
    "# 1, 5, 7, 10 번째 행의 데이터를 조회\n",
    "df.iloc[[0, 4, 6, 9]]"
   ]
  },
  {
   "cell_type": "code",
   "execution_count": null,
   "metadata": {
    "ExecuteTime": {
     "end_time": "2022-08-24T01:32:47.752424Z",
     "start_time": "2022-08-24T01:32:47.730740Z"
    },
    "scrolled": true
   },
   "outputs": [],
   "source": [
    "# 15 ~ 20 번째 행의 데이터를 조회\n",
    "df.iloc[14:20]"
   ]
  },
  {
   "cell_type": "code",
   "execution_count": null,
   "metadata": {
    "ExecuteTime": {
     "end_time": "2022-08-24T01:32:56.547290Z",
     "start_time": "2022-08-24T01:32:56.531826Z"
    }
   },
   "outputs": [],
   "source": [
    "# 10~15 행에서 자치구, 총인구, 한국인 열의 값을 조회\n",
    "df.iloc[14:20, [0,1,2]]\n",
    "df.iloc[14:20, 0:3]"
   ]
  },
  {
   "cell_type": "code",
   "execution_count": null,
   "metadata": {
    "ExecuteTime": {
     "end_time": "2022-08-24T01:33:02.925609Z",
     "start_time": "2022-08-24T01:33:02.915468Z"
    }
   },
   "outputs": [],
   "source": [
    "# 6, 7, 8 번째 행의 한국인, 외국인 열의 값을 조회\n",
    "df.iloc[[5,6,7], [2,3]]"
   ]
  },
  {
   "cell_type": "markdown",
   "metadata": {},
   "source": [
    "# index 이름 지정\n",
    "1. '자치구' 열을 index로 설정\n",
    "1. 데이터 프레임의 index이름 조회\n",
    "1. 강남구 행 조회\n",
    "1. 종로구, 성동구, 서대문구 행 조회\n",
    "1. 노원구 ~ 금천구 조회\n",
    "1. 종로구의 한국인,외국인 열의 값 조회\n",
    "1. 도봉구, 노원구, 송파구의 총인구와 고령자 열의 값 조회"
   ]
  },
  {
   "cell_type": "code",
   "execution_count": null,
   "metadata": {
    "ExecuteTime": {
     "end_time": "2022-08-24T01:33:12.009495Z",
     "start_time": "2022-08-24T01:33:11.993985Z"
    }
   },
   "outputs": [],
   "source": [
    "# '자치구' 열을 index로 설정\n",
    "df.set_index('자치구', inplace=True)"
   ]
  },
  {
   "cell_type": "code",
   "execution_count": null,
   "metadata": {
    "ExecuteTime": {
     "end_time": "2022-08-24T01:33:12.443061Z",
     "start_time": "2022-08-24T01:33:12.424741Z"
    }
   },
   "outputs": [],
   "source": [
    "df.head()"
   ]
  },
  {
   "cell_type": "code",
   "execution_count": null,
   "metadata": {
    "ExecuteTime": {
     "end_time": "2022-08-24T01:33:17.815464Z",
     "start_time": "2022-08-24T01:33:17.803025Z"
    }
   },
   "outputs": [],
   "source": [
    "# 데이터 프레임의 index이름 조회\n",
    "df.index"
   ]
  },
  {
   "cell_type": "code",
   "execution_count": null,
   "metadata": {
    "ExecuteTime": {
     "end_time": "2022-08-24T01:33:24.979716Z",
     "start_time": "2022-08-24T01:33:24.969616Z"
    }
   },
   "outputs": [],
   "source": [
    "# 강남구 행 조회\n",
    "df.loc['강남구']"
   ]
  },
  {
   "cell_type": "code",
   "execution_count": null,
   "metadata": {
    "ExecuteTime": {
     "end_time": "2022-08-24T01:33:26.602717Z",
     "start_time": "2022-08-24T01:33:26.578634Z"
    }
   },
   "outputs": [],
   "source": [
    "# 종로구, 성동구, 서대문구 행 조회\n",
    "df.loc[['종로구','성동구','서대문구']]"
   ]
  },
  {
   "cell_type": "code",
   "execution_count": null,
   "metadata": {
    "ExecuteTime": {
     "end_time": "2022-08-24T01:33:29.413753Z",
     "start_time": "2022-08-24T01:33:29.386963Z"
    }
   },
   "outputs": [],
   "source": [
    "# 노원구 ~ 금천구 조회\n",
    "df.loc['노원구':'금천구']  #금천구(stop)을 포함"
   ]
  },
  {
   "cell_type": "code",
   "execution_count": null,
   "metadata": {
    "ExecuteTime": {
     "end_time": "2022-08-24T01:33:30.134281Z",
     "start_time": "2022-08-24T01:33:30.121577Z"
    }
   },
   "outputs": [],
   "source": [
    "# 종로구의 한국인,외국인 열의 값 조회\n",
    "df.loc['종로구', ['한국인','외국인']]"
   ]
  },
  {
   "cell_type": "code",
   "execution_count": null,
   "metadata": {
    "ExecuteTime": {
     "end_time": "2022-08-24T01:33:35.430987Z",
     "start_time": "2022-08-24T01:33:35.418584Z"
    }
   },
   "outputs": [],
   "source": [
    "# 도봉구, 노원구, 송파구의 총인구와 고령자 열의 값 조회\n",
    "df.loc[['도봉구','노원구','송파구'], ['총인구','고령자']]"
   ]
  },
  {
   "cell_type": "markdown",
   "metadata": {},
   "source": [
    "# Boolean 인덱싱 - 조건으로 조회\n",
    "1. 총인구가 500,000 이상인 행 조회\n",
    "1. 외국인이 15,000 이상인 행의 한국인, 외국인 열 조회\n",
    "1. 외국인이 고령자보다 많은 행을 조회 (없으므로 아무 행도 안나오는게 정상임)\n",
    "1. 고령자수가 60,000 ~ 70,000 인 행 조회\n",
    "1. 외국인이 15,000 이상이고 고령자가 50,000 이상인 행을 조회"
   ]
  },
  {
   "cell_type": "code",
   "execution_count": null,
   "metadata": {
    "ExecuteTime": {
     "end_time": "2022-08-24T01:33:49.993945Z",
     "start_time": "2022-08-24T01:33:49.971032Z"
    }
   },
   "outputs": [],
   "source": [
    "# 총인구가 500,000 이상인 행 조회\n",
    "df[df['총인구']>=500000]\n",
    "# df.loc[df['총인구']>=500000]"
   ]
  },
  {
   "cell_type": "code",
   "execution_count": null,
   "metadata": {
    "ExecuteTime": {
     "end_time": "2022-08-24T01:33:54.329273Z",
     "start_time": "2022-08-24T01:33:54.315557Z"
    }
   },
   "outputs": [],
   "source": [
    "# 외국인이 15,000 이상인 행의 한국인, 외국인 열 조회\n",
    "df.loc[df['외국인']>15000, ['한국인', '외국인']]"
   ]
  },
  {
   "cell_type": "code",
   "execution_count": null,
   "metadata": {
    "ExecuteTime": {
     "end_time": "2022-08-24T01:34:04.452030Z",
     "start_time": "2022-08-24T01:34:04.443509Z"
    }
   },
   "outputs": [],
   "source": [
    "# 외국인이 고령자보다 많은 행을 조회 (없으므로 아무 행도 안나오는게 정상임)\n",
    "# df['외국인'] > df['고령자']\n",
    "df.loc[df['외국인'] > df['고령자']]"
   ]
  },
  {
   "cell_type": "code",
   "execution_count": null,
   "metadata": {
    "ExecuteTime": {
     "end_time": "2022-08-24T01:34:05.459309Z",
     "start_time": "2022-08-24T01:34:05.441636Z"
    }
   },
   "outputs": [],
   "source": [
    "# 고령자수가 60,000 ~ 70,000 인 행 조회\n",
    "df.loc[(df['고령자']>= 60000) & (df['고령자']<=70000)]"
   ]
  },
  {
   "cell_type": "code",
   "execution_count": null,
   "metadata": {
    "ExecuteTime": {
     "end_time": "2022-08-24T01:34:07.555263Z",
     "start_time": "2022-08-24T01:34:07.538818Z"
    }
   },
   "outputs": [],
   "source": [
    "# 시리즈.between(a, b)  # between a and b\n",
    "df.loc[df['고령자'].between(60000, 70000)] #고령자가 60000 ~ 70000 ?"
   ]
  },
  {
   "cell_type": "code",
   "execution_count": null,
   "metadata": {
    "ExecuteTime": {
     "end_time": "2022-08-24T01:34:23.377874Z",
     "start_time": "2022-08-24T01:34:23.361254Z"
    }
   },
   "outputs": [],
   "source": [
    "# 외국인이 15,000 이상이고 고령자가 50,000 이상인 행을 조회\n",
    "df.loc[(df['외국인']>15000) & (df['고령자']>=50000)]"
   ]
  },
  {
   "cell_type": "markdown",
   "metadata": {},
   "source": [
    "# 정렬\n",
    "1. 자치구컬럼 기준 오름차순 순으로 정렬\n",
    "1. 자치구컬럼 기준 내림차순 순으로 정렬\n",
    "1. 외국인이 많이 있는 순으로 정렬\n",
    "1. 한국인이 많이 있는 순서로 정렬하고 혹시 같으면 고령자가 적은 순으로 2차 정렬\n",
    "1. 합계를 지우고 총인구 내림차순으로 정렬"
   ]
  },
  {
   "cell_type": "code",
   "execution_count": null,
   "metadata": {
    "ExecuteTime": {
     "end_time": "2022-08-24T01:34:45.878338Z",
     "start_time": "2022-08-24T01:34:45.866406Z"
    }
   },
   "outputs": [],
   "source": [
    "# 자치구컬럼 기준 오름차순 순으로 정렬 - index기준 정렬\n",
    "df2 = df.sort_index()\n",
    "df2"
   ]
  },
  {
   "cell_type": "code",
   "execution_count": null,
   "metadata": {
    "ExecuteTime": {
     "end_time": "2022-06-14T06:46:45.689081Z",
     "start_time": "2022-06-14T06:46:45.660158Z"
    },
    "scrolled": true
   },
   "outputs": [],
   "source": [
    "# 자치구컬럼 기준 내림차순 순으로 정렬\n",
    "df.sort_index(ascending=False)"
   ]
  },
  {
   "cell_type": "code",
   "execution_count": null,
   "metadata": {
    "ExecuteTime": {
     "end_time": "2022-08-24T01:35:32.791264Z",
     "start_time": "2022-08-24T01:35:32.770843Z"
    },
    "scrolled": true
   },
   "outputs": [],
   "source": [
    "# 외국인이 많이 있는 순으로 정렬\n",
    "df.sort_values('외국인', ascending=False)"
   ]
  },
  {
   "cell_type": "code",
   "execution_count": null,
   "metadata": {
    "ExecuteTime": {
     "end_time": "2022-08-24T01:35:36.962934Z",
     "start_time": "2022-08-24T01:35:36.937649Z"
    },
    "scrolled": true
   },
   "outputs": [],
   "source": [
    "# 한국인이 많이 있는 순서로 정렬하고 혹시 같으면 고령자가 적은 순으로 2차 정렬\n",
    "df.sort_values(['한국인', '고령자'], ascending=[False, True])"
   ]
  },
  {
   "cell_type": "code",
   "execution_count": null,
   "metadata": {
    "ExecuteTime": {
     "end_time": "2022-08-24T01:35:55.469279Z",
     "start_time": "2022-08-24T01:35:55.450118Z"
    },
    "scrolled": true
   },
   "outputs": [],
   "source": [
    "# 합계를 지우고 총인구 내림차순으로 정렬\n",
    "df.drop(index='합계').sort_values('총인구', ascending=False)"
   ]
  },
  {
   "cell_type": "markdown",
   "metadata": {},
   "source": [
    "# 열 추가 - 파생변수\n",
    "1. 총인구 대비 외국인의 비율을 계산한 값을 **외국인비율** 컬럼을 만들어 넣기 (외국인/총인구 * 100)\n",
    "1. 총인구 대비 고령자의 비율을 계산한 값을 **고령자비율** 컬럼을 만들어 넣기"
   ]
  },
  {
   "cell_type": "code",
   "execution_count": null,
   "metadata": {
    "ExecuteTime": {
     "end_time": "2022-08-24T01:36:08.117305Z",
     "start_time": "2022-08-24T01:36:08.098931Z"
    }
   },
   "outputs": [],
   "source": [
    "# 총인구 대비 외국인의 비율을 계산한 값을 외국인비율 컬럼을 만들어 넣기\n",
    "import numpy as np\n",
    "df['외국인비율'] = np.round(df['외국인']/df['총인구']*100, 2)"
   ]
  },
  {
   "cell_type": "code",
   "execution_count": null,
   "metadata": {
    "ExecuteTime": {
     "end_time": "2022-08-24T01:36:41.114212Z",
     "start_time": "2022-08-24T01:36:41.101255Z"
    },
    "scrolled": true
   },
   "outputs": [],
   "source": [
    "df"
   ]
  },
  {
   "cell_type": "code",
   "execution_count": null,
   "metadata": {
    "ExecuteTime": {
     "end_time": "2022-08-24T01:37:38.344126Z",
     "start_time": "2022-08-24T01:37:38.337065Z"
    },
    "scrolled": true
   },
   "outputs": [],
   "source": [
    "# 총인구 대비 고령자의 비율을 계산한 값을 고령자비율 컬럼을 만들어 넣기\n",
    "df['고령자비율'] = np.round(df['고령자']/df['총인구']*100, 2)"
   ]
  },
  {
   "cell_type": "code",
   "execution_count": null,
   "metadata": {
    "ExecuteTime": {
     "end_time": "2022-08-24T01:37:10.336907Z",
     "start_time": "2022-08-24T01:37:10.314969Z"
    }
   },
   "outputs": [],
   "source": [
    "df"
   ]
  },
  {
   "cell_type": "markdown",
   "metadata": {},
   "source": [
    "# 기술 통계정보\n",
    "- 아래를 조회하는데 합계 행은 빼고 계산한다.\n",
    "1. 총인구 컬럼의 평균, 합계, 중위값, 표준편차, 분산, 데이터개수\n",
    "1. 외국인과 고령자의 평균, 표준편차 조회\n",
    "1. 외국인이 가장 적은 행을 조회"
   ]
  },
  {
   "cell_type": "code",
   "execution_count": null,
   "metadata": {
    "ExecuteTime": {
     "end_time": "2022-08-24T01:37:57.388061Z",
     "start_time": "2022-08-24T01:37:57.379026Z"
    }
   },
   "outputs": [],
   "source": [
    "# 아래를 조회하는데 합계 행은 빼고 계산한다.\n",
    "df2 = df.drop(index='합계') #df.drop('합계', axis=0)"
   ]
  },
  {
   "cell_type": "code",
   "execution_count": null,
   "metadata": {
    "ExecuteTime": {
     "end_time": "2022-08-24T01:37:57.668760Z",
     "start_time": "2022-08-24T01:37:57.657533Z"
    }
   },
   "outputs": [],
   "source": [
    "# 총인구 컬럼의 평균, 합계, 중위값, 표준편차, 분산, 데이터개수\n",
    "# df['총인구'].describe()\n",
    "df2['총인구'].agg(['mean','sum', 'median','std', 'var', 'count'])"
   ]
  },
  {
   "cell_type": "code",
   "execution_count": null,
   "metadata": {
    "ExecuteTime": {
     "end_time": "2022-08-24T01:37:58.209843Z",
     "start_time": "2022-08-24T01:37:58.186113Z"
    }
   },
   "outputs": [],
   "source": [
    "# 외국인과 고령자의 평균, 표준편차 조회\n",
    "df2[['외국인','고령자']].agg(['mean', 'std'])"
   ]
  },
  {
   "cell_type": "code",
   "execution_count": null,
   "metadata": {
    "ExecuteTime": {
     "end_time": "2022-08-24T01:38:03.655382Z",
     "start_time": "2022-08-24T01:38:03.625642Z"
    }
   },
   "outputs": [],
   "source": [
    "# 외국인이 가장 적은 행을 조회\n",
    "df2.loc[df2['외국인'].idxmin()]"
   ]
  },
  {
   "cell_type": "markdown",
   "metadata": {},
   "source": [
    "# DataFrame 병합하기\n",
    "### Seoul_cctv.csv 파일\n",
    "- 서울 자치구 연도별 CCTV 데이터 셋 [서울열린데이터광장](http://data.seoul.go.kr/dataList/OA-2734/C/1/datasetView.do)    \n",
    "\n",
    "\n",
    "1. seoul_cctv.csv 파일을 DataFrame으로 읽기\n",
    "2. 서울시 자치구별 인구 DataFrame과 서울시 자치구 CCTV 데이터 셋을 **구 이름을 기준으로** 결합하여 하나의 DataFrame으로 만드시오."
   ]
  },
  {
   "cell_type": "code",
   "execution_count": null,
   "metadata": {
    "ExecuteTime": {
     "end_time": "2022-08-24T01:39:46.181842Z",
     "start_time": "2022-08-24T01:39:46.169883Z"
    }
   },
   "outputs": [],
   "source": [
    "# seoul_cctv.csv 파일을 DataFrame으로 읽기\n",
    "cctv_df = pd.read_csv('data/Seoul_cctv.csv')\n",
    "cctv_df.shape"
   ]
  },
  {
   "cell_type": "code",
   "execution_count": null,
   "metadata": {
    "ExecuteTime": {
     "end_time": "2022-08-24T01:43:41.464202Z",
     "start_time": "2022-08-24T01:43:41.432769Z"
    }
   },
   "outputs": [],
   "source": [
    "# 서울시 자치구별 인구 DataFrame과 서울시 자치구 CCTV 데이터 셋을 구 이름을 기준으로 결합하여 하나의 DataFrame으로 만드시오.\n",
    "\n",
    "df_cctv_join1 = df.drop(index='합계').join(cctv_df.set_index('기관명'))\n",
    "df_cctv_join1"
   ]
  },
  {
   "cell_type": "code",
   "execution_count": null,
   "metadata": {
    "ExecuteTime": {
     "end_time": "2022-08-24T01:43:02.531703Z",
     "start_time": "2022-08-24T01:43:02.505607Z"
    }
   },
   "outputs": [],
   "source": [
    "df_cctv_join2 = df.drop(index='합계').merge(cctv_df, left_index=True, right_on='기관명').set_index('기관명')\n",
    "df_cctv_join2"
   ]
  },
  {
   "cell_type": "markdown",
   "metadata": {},
   "source": [
    "# Groupby와 집계\n",
    "## forestfire.csv 파일\n",
    "- 포르투칼 북서부 산림 산불관련 데이터 셋 [UCI Machine learning repository](https://archive.ics.uci.edu/ml/datasets/forest+fires)    \n",
    "\n",
    "\n",
    "1. forestfire.csv 파일을 DataFrame으로 읽기\n",
    "1. 어떤 컬럼들이 범주형 컬럼인지 확인.\n",
    "1. 월(month)과 요일(day) 의 고유한(unique) 값들과 각각의 행수 조회\n",
    "1. 요일(day) 별 wind의 평균을 조회\n",
    "1. 요일(day) 별 wind, rain의 평균을 조회\n",
    "1. 요일(day) 별 wind, rain의 평균과 합계과 개수 조회\n",
    "1. 요일(day) 별로 wind는 평균을 rain은 합계와 최대값을 조회\n",
    "1. 월(month) 그리고 요일별(day) temp의 최대값과 최소값을 조회\n",
    "1. X좌표(X), Y좌표(Y)별 temp의 평균울 pivot table로 조회\n"
   ]
  },
  {
   "cell_type": "code",
   "execution_count": null,
   "metadata": {
    "ExecuteTime": {
     "end_time": "2022-08-24T01:43:53.936493Z",
     "start_time": "2022-08-24T01:43:53.912635Z"
    }
   },
   "outputs": [],
   "source": [
    "# forestfire.csv 파일을 DataFrame으로 읽기\n",
    "fire_df = pd.read_csv('forestfire.csv')\n",
    "fire_df.shape"
   ]
  },
  {
   "cell_type": "code",
   "execution_count": null,
   "metadata": {
    "ExecuteTime": {
     "end_time": "2022-08-24T01:43:56.894330Z",
     "start_time": "2022-08-24T01:43:56.882291Z"
    }
   },
   "outputs": [],
   "source": [
    "fire_df.info()"
   ]
  },
  {
   "cell_type": "code",
   "execution_count": null,
   "metadata": {},
   "outputs": [],
   "source": [
    "fire_df.head()"
   ]
  },
  {
   "cell_type": "code",
   "execution_count": null,
   "metadata": {
    "ExecuteTime": {
     "end_time": "2022-08-24T01:44:23.313077Z",
     "start_time": "2022-08-24T01:44:23.291183Z"
    }
   },
   "outputs": [],
   "source": [
    "# 어떤 컬럼들이 범주형 컬럼인지 확인.\n",
    "fire_df['X'].unique()"
   ]
  },
  {
   "cell_type": "code",
   "execution_count": null,
   "metadata": {
    "ExecuteTime": {
     "end_time": "2022-08-24T01:44:23.889120Z",
     "start_time": "2022-08-24T01:44:23.880674Z"
    }
   },
   "outputs": [],
   "source": [
    "fire_df['Y'].unique()"
   ]
  },
  {
   "cell_type": "code",
   "execution_count": null,
   "metadata": {
    "ExecuteTime": {
     "end_time": "2022-08-24T01:44:24.306980Z",
     "start_time": "2022-08-24T01:44:24.298840Z"
    }
   },
   "outputs": [],
   "source": [
    "fire_df['month'].unique()"
   ]
  },
  {
   "cell_type": "code",
   "execution_count": null,
   "metadata": {
    "ExecuteTime": {
     "end_time": "2022-08-24T01:44:26.833800Z",
     "start_time": "2022-08-24T01:44:26.818841Z"
    }
   },
   "outputs": [],
   "source": [
    "fire_df['DMC'].unique()"
   ]
  },
  {
   "cell_type": "code",
   "execution_count": null,
   "metadata": {
    "ExecuteTime": {
     "end_time": "2022-08-24T01:44:50.415519Z",
     "start_time": "2022-08-24T01:44:50.393837Z"
    }
   },
   "outputs": [],
   "source": [
    "# 월(month)과 요일(day) 의 고유한(unique) 값들과 각각의 행수 조회 \n",
    "fire_df['month'].value_counts()"
   ]
  },
  {
   "cell_type": "code",
   "execution_count": null,
   "metadata": {
    "ExecuteTime": {
     "end_time": "2022-08-24T01:44:59.665352Z",
     "start_time": "2022-08-24T01:44:59.656740Z"
    }
   },
   "outputs": [],
   "source": [
    "fire_df['day'].value_counts()"
   ]
  },
  {
   "cell_type": "code",
   "execution_count": null,
   "metadata": {
    "ExecuteTime": {
     "end_time": "2022-08-24T01:45:11.594972Z",
     "start_time": "2022-08-24T01:45:11.577962Z"
    }
   },
   "outputs": [],
   "source": [
    "# 요일(day) 별 wind의 평균을 조회\n",
    "# fire_df['wind'].mean()\n",
    "fire_df.groupby('day')['wind'].mean()"
   ]
  },
  {
   "cell_type": "code",
   "execution_count": null,
   "metadata": {
    "ExecuteTime": {
     "end_time": "2022-08-24T01:45:17.839149Z",
     "start_time": "2022-08-24T01:45:17.811599Z"
    }
   },
   "outputs": [],
   "source": [
    "# 요일(day) 별 wind, rain의 평균을 조회\n",
    "fire_df.groupby('day')[['wind', 'rain']].mean()"
   ]
  },
  {
   "cell_type": "code",
   "execution_count": null,
   "metadata": {
    "ExecuteTime": {
     "end_time": "2022-08-24T01:45:21.519298Z",
     "start_time": "2022-08-24T01:45:21.492230Z"
    }
   },
   "outputs": [],
   "source": [
    "# 요일(day) 별 wind, rain의 평균과 합계과 개수 조회\n",
    "fire_df.groupby('day')[['wind','rain']].agg(['mean','sum','count'])"
   ]
  },
  {
   "cell_type": "code",
   "execution_count": null,
   "metadata": {
    "ExecuteTime": {
     "end_time": "2022-08-24T01:45:26.547608Z",
     "start_time": "2022-08-24T01:45:26.506600Z"
    }
   },
   "outputs": [],
   "source": [
    "# 요일(day) 별로 wind는 평균을 rain은 합계와 최대값을 조회\n",
    "fire_df.groupby('day').agg({'wind':'mean', 'rain':['sum','max']})"
   ]
  },
  {
   "cell_type": "code",
   "execution_count": null,
   "metadata": {
    "ExecuteTime": {
     "end_time": "2022-08-24T01:45:27.979137Z",
     "start_time": "2022-08-24T01:45:27.945842Z"
    }
   },
   "outputs": [],
   "source": [
    "# 월(month) 그리고 요일별(day) temp의 최대값과 최소값을 조회\n",
    "s_df = fire_df.groupby(['month','day'])['temp'].agg(['max','min'])\n",
    "s_df"
   ]
  },
  {
   "cell_type": "code",
   "execution_count": null,
   "metadata": {},
   "outputs": [],
   "source": [
    "# X좌표(X), Y좌표(Y)별 temp의 평균을 pivot table로 조회"
   ]
  },
  {
   "cell_type": "code",
   "execution_count": null,
   "metadata": {
    "ExecuteTime": {
     "end_time": "2022-08-24T01:46:03.831259Z",
     "start_time": "2022-08-24T01:46:03.796243Z"
    }
   },
   "outputs": [],
   "source": [
    "fire_df.pivot_table(values='temp', index='Y', columns='X', aggfunc='mean')"
   ]
  },
  {
   "cell_type": "code",
   "execution_count": null,
   "metadata": {},
   "outputs": [],
   "source": []
  },
  {
   "cell_type": "code",
   "execution_count": null,
   "metadata": {},
   "outputs": [],
   "source": []
  },
  {
   "cell_type": "code",
   "execution_count": null,
   "metadata": {},
   "outputs": [],
   "source": []
  }
 ],
 "metadata": {
  "kernelspec": {
   "display_name": "Python 3 (ipykernel)",
   "language": "python",
   "name": "python3"
  },
  "language_info": {
   "codemirror_mode": {
    "name": "ipython",
    "version": 3
   },
   "file_extension": ".py",
   "mimetype": "text/x-python",
   "name": "python",
   "nbconvert_exporter": "python",
   "pygments_lexer": "ipython3",
   "version": "3.10.11"
  },
  "toc": {
   "base_numbering": 1,
   "nav_menu": {},
   "number_sections": false,
   "sideBar": false,
   "skip_h1_title": false,
   "title_cell": "Table of Contents",
   "title_sidebar": "Contents",
   "toc_cell": false,
   "toc_position": {},
   "toc_section_display": true,
   "toc_window_display": false
  },
  "varInspector": {
   "cols": {
    "lenName": 16,
    "lenType": 16,
    "lenVar": 40
   },
   "kernels_config": {
    "python": {
     "delete_cmd_postfix": "",
     "delete_cmd_prefix": "del ",
     "library": "var_list.py",
     "varRefreshCmd": "print(var_dic_list())"
    },
    "r": {
     "delete_cmd_postfix": ") ",
     "delete_cmd_prefix": "rm(",
     "library": "var_list.r",
     "varRefreshCmd": "cat(var_dic_list()) "
    }
   },
   "types_to_exclude": [
    "module",
    "function",
    "builtin_function_or_method",
    "instance",
    "_Feature"
   ],
   "window_display": false
  }
 },
 "nbformat": 4,
 "nbformat_minor": 2
}
