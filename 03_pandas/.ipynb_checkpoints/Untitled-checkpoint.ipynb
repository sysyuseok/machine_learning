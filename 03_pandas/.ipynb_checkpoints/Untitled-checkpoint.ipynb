{
 "cells": [
  {
   "cell_type": "code",
   "execution_count": 11,
   "id": "b8cf54b3",
   "metadata": {},
   "outputs": [
    {
     "name": "stdout",
     "output_type": "stream",
     "text": [
      "8\n",
      "[2, 4, 6, 8]\n",
      "[4, 8]\n",
      "[8]\n",
      "8\n"
     ]
    }
   ],
   "source": [
    "n=int(input())\n",
    "stack=[i+1 for i in range(n)]\n",
    "while len(stack)>=2:\n",
    "    stack=stack[1::2]\n",
    "    print(stack)\n",
    "print(stack[0])"
   ]
  },
  {
   "cell_type": "code",
   "execution_count": 6,
   "id": "886c1e0b",
   "metadata": {},
   "outputs": [
    {
     "name": "stdout",
     "output_type": "stream",
     "text": [
      "24\n",
      "16\n"
     ]
    }
   ],
   "source": [
    "n=int(input())\n",
    "for i in range(20):\n",
    "    if pow(2,i)<=n<pow(2,i+1):\n",
    "        print(pow(2,i))"
   ]
  },
  {
   "cell_type": "code",
   "execution_count": 10,
   "id": "163dc6b0",
   "metadata": {},
   "outputs": [
    {
     "name": "stdout",
     "output_type": "stream",
     "text": [
      "[2, 4, 6, 8, 10]\n"
     ]
    }
   ],
   "source": [
    "n=[i+1 for i in range(10)]\n",
    "n=n[1::2]\n",
    "print(n)"
   ]
  },
  {
   "cell_type": "code",
   "execution_count": 42,
   "id": "77fab493",
   "metadata": {},
   "outputs": [
    {
     "name": "stdout",
     "output_type": "stream",
     "text": [
      "9\n",
      "[1, 2, 3, 4, 5, 6, 7, 8, 9]\n",
      "[2, 4, 6, 8]\n",
      "[2, 6]\n",
      "0\n",
      "[2]\n",
      "0\n",
      "[2]\n"
     ]
    }
   ],
   "source": [
    "n=int(input())\n",
    "k=1\n",
    "que=[i for i in range(1,n+1)] # 1~n\n",
    "while len(que)>1:\n",
    "    if len(que)%2==1:\n",
    "        que=que[k::2]\n",
    "        k=(k+1)%2\n",
    "    else :\n",
    "        que=que[k::2]\n",
    "print(que[0])"
   ]
  },
  {
   "cell_type": "code",
   "execution_count": 12,
   "id": "5e74e665",
   "metadata": {},
   "outputs": [
    {
     "name": "stdout",
     "output_type": "stream",
     "text": [
      "10\n",
      "6 3 2 10 10 10 -10 -10 7 3\n",
      "8\n",
      "10 9 -5 2 3 4 5 -10\n"
     ]
    },
    {
     "name": "stderr",
     "output_type": "stream",
     "text": [
      "\n",
      "KeyboardInterrupt\n",
      "\n"
     ]
    }
   ],
   "source": [
    "input()\n",
    "numl1=list(map(int,input().split()))\n",
    "input()\n",
    "numl2=list(map(int,input().split()))\n",
    "numl1.sort()\n",
    "ans=[]\n",
    "a=0\n",
    "left =0\n",
    "right = len(numl1)-1\n",
    "for i in numl2:\n",
    "    while(left<=right):\n",
    "        mid=(left+right)//2\n",
    "        if numl1[mid]==i:\n",
    "            a=0\n",
    "            try:\n",
    "                while numl1[mid]==i:\n",
    "                    a+=1\n",
    "                    mid+=1\n",
    "            except:\n",
    "                ans.append(a)\n",
    "        elif numl1[mid]<i:\n",
    "            left=mid+1\n",
    "        elif numl1[mid]>i:\n",
    "            right=mid-1\n",
    "print(ans)"
   ]
  },
  {
   "cell_type": "code",
   "execution_count": 2,
   "id": "4e1a6b09",
   "metadata": {},
   "outputs": [
    {
     "name": "stdout",
     "output_type": "stream",
     "text": [
      "1 2 3 4 5\n"
     ]
    },
    {
     "ename": "ValueError",
     "evalue": "invalid literal for int() with base 10: ' '",
     "output_type": "error",
     "traceback": [
      "\u001b[1;31m---------------------------------------------------------------------------\u001b[0m",
      "\u001b[1;31mValueError\u001b[0m                                Traceback (most recent call last)",
      "Cell \u001b[1;32mIn[2], line 1\u001b[0m\n\u001b[1;32m----> 1\u001b[0m numl1\u001b[38;5;241m=\u001b[39m\u001b[38;5;28;43mlist\u001b[39;49m\u001b[43m(\u001b[49m\u001b[38;5;28;43mmap\u001b[39;49m\u001b[43m(\u001b[49m\u001b[38;5;28;43mint\u001b[39;49m\u001b[43m,\u001b[49m\u001b[38;5;28;43minput\u001b[39;49m\u001b[43m(\u001b[49m\u001b[43m)\u001b[49m\u001b[43m)\u001b[49m\u001b[43m)\u001b[49m\n",
      "\u001b[1;31mValueError\u001b[0m: invalid literal for int() with base 10: ' '"
     ]
    }
   ],
   "source": [
    "numl1=list(map(int,input()))"
   ]
  },
  {
   "cell_type": "code",
   "execution_count": 54,
   "id": "7100ec2b",
   "metadata": {},
   "outputs": [
    {
     "name": "stdout",
     "output_type": "stream",
     "text": [
      "10 13\n",
      "BBBBBBBBWBWBW\n",
      "BBBBBBBBBWBWB\n",
      "BBBBBBBBWBWBW\n",
      "BBBBBBBBBWBWB\n",
      "BBBBBBBBWBWBW\n",
      "BBBBBBBBBWBWB\n",
      "BBBBBBBBWBWBW\n",
      "BBBBBBBBBWBWB\n",
      "WWWWWWWWWWBWB\n",
      "WWWWWWWWWWBWB\n",
      "W B 0 1\n",
      "W B 1 0\n",
      "W B 1 2\n",
      "W B 2 1\n",
      "W B 3 0\n",
      "W B 3 2\n",
      "W B 4 1\n",
      "W B 5 0\n",
      "W B 5 2\n",
      "W B 6 1\n",
      "W B 7 0\n",
      "W B 7 2\n",
      "12\n"
     ]
    }
   ],
   "source": [
    "bf=[\n",
    "\"BWBWBWBW\",\n",
    "\"WBWBWBWB\",\n",
    "\"BWBWBWBW\",\n",
    "\"WBWBWBWB\",\n",
    "\"BWBWBWBW\",\n",
    "\"WBWBWBWB\",\n",
    "\"BWBWBWBW\",\n",
    "\"WBWBWBWB\",\n",
    "]\n",
    "\n",
    "wf=[\n",
    "    \"WBWBWBWB\",\n",
    "    \"BWBWBWBW\",\n",
    "    \"WBWBWBWB\",\n",
    "    \"BWBWBWBW\",\n",
    "    \"WBWBWBWB\",\n",
    "    \"BWBWBWBW\",\n",
    "    \"WBWBWBWB\",\n",
    "    \"BWBWBWBW\",\n",
    "]\n",
    "ans=[]\n",
    "n,k=map(int,input().split())\n",
    "# board=[\n",
    "#     \"BBBBBBBBWBWBW\",\n",
    "#     \"BBBBBBBBBWBWB\",\n",
    "#     \"BBBBBBBBWBWBW\",\n",
    "#     \"BBBBBBBBBWBWB\",\n",
    "#     \"BBBBBBBBWBWBW\",\n",
    "#     \"BBBBBBBBBWBWB\",\n",
    "#     \"BBBBBBBBWBWBW\",\n",
    "#     \"BBBBBBBBBWBWB\",\n",
    "#     \"WWWWWWWWWWBWB\",\n",
    "#     \"WWWWWWWWWWBWB\"\n",
    "# ]\n",
    "for _ in range(n):\n",
    "    board.append(input())\n",
    "\n",
    "for i in range(n-7):\n",
    "    for j in range(k-7):\n",
    "        b=0\n",
    "        w=0\n",
    "        for l in range(8):\n",
    "            for m in range(8):\n",
    "                if bf[l][m]!=board[i+l][j+m]:\n",
    "                    b+=1\n",
    "                if wf[l][m]!=board[i+l][j+m]:\n",
    "                    w+=1\n",
    "        ans.extend([b,w])\n",
    "ans.sort()\n",
    "print(ans[0])"
   ]
  },
  {
   "cell_type": "code",
   "execution_count": 23,
   "id": "6ab16f70",
   "metadata": {},
   "outputs": [
    {
     "name": "stdout",
     "output_type": "stream",
     "text": [
      "BBBBBBBBWBWBW\n",
      "BBBBBBBBBWBWB\n",
      "BBBBBBBBWBWBW\n",
      "BBBBBBBBBWBWB\n",
      "BBBBBBBBWBWBW\n",
      "BBBBBBBBBWBWB\n",
      "BBBBBBBBWBWBW\n",
      "BBBBBBBBBWBWB\n",
      "WWWWWWWWWWBWB\n",
      "WWWWWWWWWWBWB\n",
      "['BBBBBBBBWBWBW', 'BBBBBBBBBWBWB', 'BBBBBBBBWBWBW', 'BBBBBBBBBWBWB', 'BBBBBBBBWBWBW', 'BBBBBBBBBWBWB', 'BBBBBBBBWBWBW', 'BBBBBBBBBWBWB', 'WWWWWWWWWWBWB', 'WWWWWWWWWWBWB']\n"
     ]
    }
   ],
   "source": [
    "board=[]\n",
    "for _ in range(n):\n",
    "    board.append(input())\n",
    "print(board)"
   ]
  },
  {
   "cell_type": "code",
   "execution_count": 31,
   "id": "1cc8eb80",
   "metadata": {},
   "outputs": [
    {
     "name": "stdout",
     "output_type": "stream",
     "text": [
      "[1, 2, 3, 5, 6, 8]\n"
     ]
    }
   ],
   "source": [
    "h=[]\n",
    "h.extend([8,2])\n",
    "h.extend([1,5])\n",
    "h.extend([3,6])\n",
    "h.sort()\n",
    "print(h)"
   ]
  },
  {
   "cell_type": "code",
   "execution_count": 30,
   "id": "02b38148",
   "metadata": {},
   "outputs": [
    {
     "name": "stdout",
     "output_type": "stream",
     "text": [
      "[1, 2, 4, 7, 8, 9, 20]\n"
     ]
    }
   ],
   "source": [
    "h=[1,2,4,8,9,20,7]\n",
    "h.sort()\n",
    "print(h)"
   ]
  },
  {
   "cell_type": "code",
   "execution_count": null,
   "id": "98f9548b",
   "metadata": {},
   "outputs": [],
   "source": [
    "B1BWBWBW\",\n",
    "1B1BWBWB\",\n",
    "B1BWBWBW\"\n",
    "1B1BWBWB\",\n",
    "B1BWBWBW\",\n",
    "1B1BWBWB\",\n",
    "B1BWBWBW\",\n",
    "1B1BWBWB\","
   ]
  },
  {
   "cell_type": "code",
   "execution_count": 45,
   "id": "d09609d7",
   "metadata": {},
   "outputs": [],
   "source": [
    "bf=[\n",
    "\"BWBWBWBW\",\n",
    "\"BWBWBWBW\",\n",
    "\"BWBWBWBW\",\n",
    "\"BWBWBWBW\",\n",
    "\"BWBWBWBW\",\n",
    "\"BWBWBWBW\",\n",
    "\"BWBWBWBW\",\n",
    "\"BWBWBWBW\"\n",
    "]\n",
    "\n",
    "wf=[\n",
    "    \"WBWBWBWB\",\n",
    "    \"WBWBWBWB\",\n",
    "    \"WBWBWBWB\",\n",
    "    \"WBWBWBWB\",\n",
    "    \"WBWBWBWB\",\n",
    "    \"WBWBWBWB\",\n",
    "    \"WBWBWBWB\",\n",
    "    \"WBWBWBWB\"\n",
    "]"
   ]
  },
  {
   "cell_type": "code",
   "execution_count": 47,
   "id": "00b1deeb",
   "metadata": {},
   "outputs": [
    {
     "data": {
      "text/plain": [
       "'W'"
      ]
     },
     "execution_count": 47,
     "metadata": {},
     "output_type": "execute_result"
    }
   ],
   "source": [
    "wf[0][0]"
   ]
  },
  {
   "cell_type": "code",
   "execution_count": null,
   "id": "7faab88e",
   "metadata": {},
   "outputs": [],
   "source": [
    "n=int(input())\n",
    "numli=list(map(int,input().split()))\n",
    "poli=list(map(int,input().split()))\n",
    "ans=numli[0]\n",
    "ans1=numli[0]\n",
    "i=1\n",
    "j=1\n",
    "for _ in range(poli[3]):\n",
    "    ans=ans//numli[i]\n",
    "    i+=1\n",
    "for _ in range(poli[1]):\n",
    "    ans-=num[i]\n",
    "    i+=1\n",
    "for _ in range(poli[0]):\n",
    "    ans+=num[i]\n",
    "    i+=1\n",
    "for _ in range(poli[2]):\n",
    "    ans*=num[i]\n",
    "    ans1*=num[j]\n",
    "    i+=1\n",
    "    j+=1\n",
    "for _ in range(poli[0]):\n",
    "    ans1+=num[j]\n",
    "    j+=1\n",
    "for _ in range(poli[1]):\n",
    "    ans1-=num[j]\n",
    "    j+=1\n",
    "for _ in range(poli[3]):\n",
    "    ans1=ans//numli[j]\n",
    "    j+=1\n",
    "print(ans)\n",
    "print(ans1)"
   ]
  },
  {
   "cell_type": "code",
   "execution_count": 2,
   "id": "a7e82abf",
   "metadata": {
    "collapsed": true
   },
   "outputs": [
    {
     "name": "stdout",
     "output_type": "stream",
     "text": [
      "10 13\n",
      "BBBBBBBBWBWBW\n",
      "['BBBBBBBBWBWBW'] 0\n",
      "BBBBBBBBBWBWB\n",
      "['BBBBBBBBWBWBW', 'BBBBBBBBBWBWB'] 1\n",
      "BBBBBBBBWBWBW\n",
      "['BBBBBBBBWBWBW', 'BBBBBBBBBWBWB', 'BBBBBBBBWBWBW'] 2\n",
      "BBBBBBBBBWBWB\n",
      "['BBBBBBBBWBWBW', 'BBBBBBBBBWBWB', 'BBBBBBBBWBWBW', 'BBBBBBBBBWBWB'] 3\n",
      "BBBBBBBBWBWBW\n",
      "['BBBBBBBBWBWBW', 'BBBBBBBBBWBWB', 'BBBBBBBBWBWBW', 'BBBBBBBBBWBWB', 'BBBBBBBBWBWBW'] 4\n",
      "BBBBBBBBBWBWB\n",
      "['BBBBBBBBWBWBW', 'BBBBBBBBBWBWB', 'BBBBBBBBWBWBW', 'BBBBBBBBBWBWB', 'BBBBBBBBWBWBW', 'BBBBBBBBBWBWB'] 5\n",
      "BBBBBBBBWBWBW\n",
      "['BBBBBBBBWBWBW', 'BBBBBBBBBWBWB', 'BBBBBBBBWBWBW', 'BBBBBBBBBWBWB', 'BBBBBBBBWBWBW', 'BBBBBBBBBWBWB', 'BBBBBBBBWBWBW'] 6\n",
      "BBBBBBBBBWBWB\n",
      "['BBBBBBBBWBWBW', 'BBBBBBBBBWBWB', 'BBBBBBBBWBWBW', 'BBBBBBBBBWBWB', 'BBBBBBBBWBWBW', 'BBBBBBBBBWBWB', 'BBBBBBBBWBWBW', 'BBBBBBBBBWBWB'] 7\n",
      "WWWWWWWWWWBWB\n",
      "['BBBBBBBBWBWBW', 'BBBBBBBBBWBWB', 'BBBBBBBBWBWBW', 'BBBBBBBBBWBWB', 'BBBBBBBBWBWBW', 'BBBBBBBBBWBWB', 'BBBBBBBBWBWBW', 'BBBBBBBBBWBWB', 'WWWWWWWWWWBWB'] 8\n",
      "WWWWWWWWWWBWB\n",
      "['BBBBBBBBWBWBW', 'BBBBBBBBBWBWB', 'BBBBBBBBWBWBW', 'BBBBBBBBBWBWB', 'BBBBBBBBWBWBW', 'BBBBBBBBBWBWB', 'BBBBBBBBWBWBW', 'BBBBBBBBBWBWB', 'WWWWWWWWWWBWB', 'WWWWWWWWWWBWB'] 9\n",
      "['BBBBBBBBWBWBW', 'BBBBBBBBBWBWB', 'BBBBBBBBWBWBW', 'BBBBBBBBBWBWB', 'BBBBBBBBWBWBW', 'BBBBBBBBBWBWB', 'BBBBBBBBWBWBW', 'BBBBBBBBBWBWB', 'WWWWWWWWWWBWB', 'WWWWWWWWWWBWB']\n",
      "12\n"
     ]
    }
   ],
   "source": [
    "bf=[\n",
    "    \"BWBWBWBW\",\n",
    "    \"WBWBWBWB\",\n",
    "    \"BWBWBWBW\",\n",
    "    \"WBWBWBWB\",\n",
    "    \"BWBWBWBW\",\n",
    "    \"WBWBWBWB\",\n",
    "    \"BWBWBWBW\",\n",
    "    \"WBWBWBWB\",\n",
    "]\n",
    "\n",
    "wf=[\n",
    "    \"WBWBWBWB\",\n",
    "    \"BWBWBWBW\",\n",
    "    \"WBWBWBWB\",\n",
    "    \"BWBWBWBW\",\n",
    "    \"WBWBWBWB\",\n",
    "    \"BWBWBWBW\",\n",
    "    \"WBWBWBWB\",\n",
    "    \"BWBWBWBW\",\n",
    "]\n",
    "ans=[]\n",
    "n,k=map(int,input().split())\n",
    "board=[]\n",
    "for i in range(n):\n",
    "    board.append(input())\n",
    "    print(board,i)\n",
    "print(board)\n",
    "for i in range(n-7):\n",
    "    for j in range(k-7):\n",
    "        b=0\n",
    "        w=0\n",
    "        for l in range(8):\n",
    "            for m in range(8):\n",
    "                if bf[l][m]!=board[i+l][j+m]:\n",
    "                    b+=1\n",
    "                if wf[l][m]!=board[i+l][j+m]:\n",
    "                    w+=1\n",
    "        ans.extend([b,w])\n",
    "ans.sort()\n",
    "print(ans[0])"
   ]
  },
  {
   "cell_type": "code",
   "execution_count": 10,
   "id": "03e15827",
   "metadata": {},
   "outputs": [
    {
     "name": "stdout",
     "output_type": "stream",
     "text": [
      "6\n",
      "1 2 3 4 5 6\n",
      "2 1 1 1\n",
      "0\n",
      "-3\n",
      "1\n",
      "6\n",
      "36\n",
      "2 1\n",
      "5 1\n",
      "9 1\n",
      "7 1\n",
      "1 1\n",
      "\n",
      "\n",
      "36\n",
      "1\n"
     ]
    }
   ],
   "source": [
    "from itertools import combinations\n",
    "\n",
    "# n,ans,ans1=0,0,0\n",
    "# numli=[]\n",
    "# poli=[]\n",
    "n=int(input())\n",
    "poli2=[]\n",
    "numli=list(map(int,input().split()))\n",
    "poli=list(map(int,input().split()))\n",
    "for i in range(len(poli)):\n",
    "    for _ in poli[i]:\n",
    "        poli2.append(i)\n",
    "ans=numli[0]\n",
    "ans1=numli[0]\n",
    "i=1\n",
    "j=1\n",
    "# for _ in range(poli[3]):\n",
    "#     ans=ans//numli[i]\n",
    "#     print(ans)\n",
    "#     i+=1\n",
    "# for _ in range(poli[1]):\n",
    "#     ans-=numli[i]\n",
    "#     print(ans)\n",
    "#     i+=1\n",
    "# for _ in range(poli[0]):\n",
    "#     ans+=numli[i]\n",
    "#     print(ans)\n",
    "#     i+=1\n",
    "# for _ in range(poli[2]):\n",
    "#     ans*=numli[i]\n",
    "#     ans1*=numli[j]\n",
    "#     print(ans)\n",
    "#     print(ans1,1)\n",
    "#     i+=1\n",
    "#     j+=1\n",
    "# for _ in range(poli[0]):\n",
    "#     ans1+=numli[j]\n",
    "#     print(ans1,1)\n",
    "#     j+=1\n",
    "# for _ in range(poli[3]):\n",
    "#     ans1=ans//numli[j]\n",
    "#     print(ans1,1)\n",
    "#     j+=1\n",
    "# for _ in range(poli[1]):\n",
    "#     ans1-=numli[j]\n",
    "#     print(ans1,1)\n",
    "#     j+=1\n",
    "\n",
    "\n",
    "print(\"\\n\")\n",
    "print(ans)\n",
    "print(ans1)"
   ]
  },
  {
   "cell_type": "code",
   "execution_count": null,
   "id": "2abc6b7f",
   "metadata": {},
   "outputs": [],
   "source": []
  }
 ],
 "metadata": {
  "kernelspec": {
   "display_name": "Python 3 (ipykernel)",
   "language": "python",
   "name": "python3"
  },
  "language_info": {
   "codemirror_mode": {
    "name": "ipython",
    "version": 3
   },
   "file_extension": ".py",
   "mimetype": "text/x-python",
   "name": "python",
   "nbconvert_exporter": "python",
   "pygments_lexer": "ipython3",
   "version": "3.10.11"
  }
 },
 "nbformat": 4,
 "nbformat_minor": 5
}
