{
 "cells": [
  {
   "cell_type": "markdown",
   "metadata": {},
   "source": [
    "kgmyh@naver.com 으로 `이름_주유소가격 데이터 분석.html` 로 제출\n",
    "- html 파일로 변환\n",
    "    - File > Download as > HTML (.html) 선택"
   ]
  },
  {
   "cell_type": "markdown",
   "metadata": {},
   "source": [
    "# 데이터 불러오기"
   ]
  },
  {
   "cell_type": "markdown",
   "metadata": {
    "ExecuteTime": {
     "end_time": "2021-03-12T05:10:15.329775Z",
     "start_time": "2021-03-12T05:10:15.314775Z"
    }
   },
   "source": [
    "- 2022년 주유소들의 일자별 가격 데이터\n",
    "- https://www.opinet.co.kr/user/opdown/opDownload.do"
   ]
  },
  {
   "cell_type": "code",
   "execution_count": null,
   "metadata": {
    "ExecuteTime": {
     "end_time": "2022-06-17T04:38:27.371953Z",
     "start_time": "2022-06-17T04:38:27.353003Z"
    }
   },
   "outputs": [],
   "source": [
    "# 상반기, 하반기 주유소 가격 데이터 파일로 부터 읽기\n"
   ]
  },
  {
   "cell_type": "code",
   "execution_count": null,
   "metadata": {
    "ExecuteTime": {
     "end_time": "2022-06-17T04:38:27.387910Z",
     "start_time": "2022-06-17T04:38:27.374908Z"
    }
   },
   "outputs": [],
   "source": [
    "# 상반기, 하반기 DataFrame 합치기\n"
   ]
  },
  {
   "cell_type": "code",
   "execution_count": null,
   "metadata": {
    "ExecuteTime": {
     "end_time": "2022-06-17T04:38:27.403867Z",
     "start_time": "2022-06-17T04:38:27.390875Z"
    }
   },
   "outputs": [],
   "source": [
    "# DataFrame 기본 정보 조회\n"
   ]
  },
  {
   "cell_type": "code",
   "execution_count": null,
   "metadata": {
    "ExecuteTime": {
     "end_time": "2022-06-17T04:38:27.419791Z",
     "start_time": "2022-06-17T04:38:27.407821Z"
    }
   },
   "outputs": [],
   "source": [
    "# 상표 컬럼의 고유값 조회\n"
   ]
  },
  {
   "cell_type": "code",
   "execution_count": null,
   "metadata": {
    "ExecuteTime": {
     "end_time": "2022-06-17T04:38:27.435783Z",
     "start_time": "2022-06-17T04:38:27.422780Z"
    }
   },
   "outputs": [],
   "source": [
    "# 지역 컬럼의 고유값 조회\n"
   ]
  },
  {
   "cell_type": "markdown",
   "metadata": {},
   "source": [
    "> ### str accessor\n",
    "> - `Series.str.String메소드()`\n",
    "> - 문자열 타입 Series에 String 메소드들을 사용하여 일괄처리 할 수 있도록 한다.\n",
    "> - str accessor 메소드 : https://pandas.pydata.org/pandas-docs/stable/reference/series.html#api-series-str\n",
    "\n",
    "> ### datetime으로 변환\n",
    "> - `pd.to_datetime(변환할 Series, format=\"날짜형식\")`\n",
    "> - x 또는 y 축이 날짜 일 경우 datetime 타입으로 처리하는 것이 좋다.\n",
    "> - format: 년월일의 형식을 strftime 형식문자열로 지정한다. \n",
    ">      - [strftime 형식](https://docs.python.org/3/library/datetime.html#strftime-and-strptime-format-codes)  \n",
    "> - datetime을 변환하면 날짜만의 기능을 다룰 수 있다.\n",
    ">     - dt accessor를 이용해 datetime의 속성값들을(년, 월, 일 등) 추출할 수 있다.\n",
    ">     - https://pandas.pydata.org/pandas-docs/stable/reference/api/pandas.Series.dt.html\n"
   ]
  },
  {
   "cell_type": "code",
   "execution_count": null,
   "metadata": {
    "ExecuteTime": {
     "end_time": "2022-06-17T04:38:27.451702Z",
     "start_time": "2022-06-17T04:38:27.438737Z"
    }
   },
   "outputs": [],
   "source": [
    "# 지역 컬럼의 값을 이용하여 \"구\" 컬럼 생성 (지역에서 구만 추출해서 파생변수컬럼 생성)\n"
   ]
  },
  {
   "cell_type": "code",
   "execution_count": null,
   "metadata": {
    "ExecuteTime": {
     "end_time": "2022-06-17T04:38:27.467660Z",
     "start_time": "2022-06-17T04:38:27.454702Z"
    }
   },
   "outputs": [],
   "source": [
    "# 기간 컬럼을 datetime 타입으로 변경\n"
   ]
  },
  {
   "cell_type": "code",
   "execution_count": null,
   "metadata": {
    "ExecuteTime": {
     "end_time": "2022-06-17T04:38:27.483617Z",
     "start_time": "2022-06-17T04:38:27.470653Z"
    }
   },
   "outputs": [],
   "source": [
    "# 기간 컬럼을 이용해 \"월\", \"일\", \"요일\" 컬럼 생성 (dt accessor 이용)\n"
   ]
  },
  {
   "cell_type": "code",
   "execution_count": null,
   "metadata": {
    "ExecuteTime": {
     "end_time": "2022-06-17T04:38:27.499576Z",
     "start_time": "2022-06-17T04:38:27.486611Z"
    }
   },
   "outputs": [],
   "source": [
    "# 요일 - 0:월, 1:화, 2:수, 3:목, 4:금, 5:토, 6:일 로 변경\n"
   ]
  },
  {
   "cell_type": "code",
   "execution_count": null,
   "metadata": {
    "ExecuteTime": {
     "end_time": "2022-06-17T04:38:27.515547Z",
     "start_time": "2022-06-17T04:38:27.505561Z"
    }
   },
   "outputs": [],
   "source": [
    "# 휘발유 가격이 가장 비싼 5개 행 조회\n"
   ]
  },
  {
   "cell_type": "code",
   "execution_count": null,
   "metadata": {
    "ExecuteTime": {
     "end_time": "2022-06-17T04:38:27.531491Z",
     "start_time": "2022-06-17T04:38:27.520519Z"
    }
   },
   "outputs": [],
   "source": [
    "# 휘발유 가격이 가장 저렴한 5개 행 조회 (단 0원인 주유소 제외)\n"
   ]
  },
  {
   "cell_type": "code",
   "execution_count": null,
   "metadata": {
    "ExecuteTime": {
     "end_time": "2022-06-17T04:38:27.547464Z",
     "start_time": "2022-06-17T04:38:27.535482Z"
    }
   },
   "outputs": [],
   "source": [
    "# 고급휘발유 가격이 가장 비싼 5개 행 조회\n"
   ]
  },
  {
   "cell_type": "code",
   "execution_count": null,
   "metadata": {
    "ExecuteTime": {
     "end_time": "2022-06-17T04:38:27.563404Z",
     "start_time": "2022-06-17T04:38:27.557420Z"
    }
   },
   "outputs": [],
   "source": [
    "# 고급휘발유 가격이 가장 저렴한 5개 행 조회 (단 0원인 주유소 제외)\n"
   ]
  },
  {
   "cell_type": "code",
   "execution_count": null,
   "metadata": {
    "ExecuteTime": {
     "end_time": "2022-06-17T04:38:27.579370Z",
     "start_time": "2022-06-17T04:38:27.566396Z"
    }
   },
   "outputs": [],
   "source": [
    "# 경유 가격이 가장 비싼 5개 행 조회\n"
   ]
  },
  {
   "cell_type": "code",
   "execution_count": null,
   "metadata": {
    "ExecuteTime": {
     "end_time": "2022-06-17T04:38:27.595319Z",
     "start_time": "2022-06-17T04:38:27.582353Z"
    }
   },
   "outputs": [],
   "source": [
    "# 경유 가격이 가장 저렴한 5개 행 조회 (단 0원인 주유소 제외)\n"
   ]
  },
  {
   "cell_type": "code",
   "execution_count": null,
   "metadata": {
    "ExecuteTime": {
     "end_time": "2022-06-17T04:38:27.611277Z",
     "start_time": "2022-06-17T04:38:27.598311Z"
    }
   },
   "outputs": [],
   "source": [
    "# 상표별 휘발유 평균가격 조회\n"
   ]
  },
  {
   "cell_type": "code",
   "execution_count": null,
   "metadata": {
    "ExecuteTime": {
     "end_time": "2022-06-17T04:38:27.628231Z",
     "start_time": "2022-06-17T04:38:27.614268Z"
    }
   },
   "outputs": [],
   "source": [
    "# 상표별 휘발유 평균가격 시각화\n"
   ]
  },
  {
   "cell_type": "code",
   "execution_count": null,
   "metadata": {
    "ExecuteTime": {
     "end_time": "2022-06-17T04:38:27.643201Z",
     "start_time": "2022-06-17T04:38:27.632220Z"
    }
   },
   "outputs": [],
   "source": [
    "# 셀프주유소와 일반주유소 개수 확인\n"
   ]
  },
  {
   "cell_type": "code",
   "execution_count": null,
   "metadata": {
    "ExecuteTime": {
     "end_time": "2022-06-17T04:38:27.659148Z",
     "start_time": "2022-06-17T04:38:27.647180Z"
    }
   },
   "outputs": [],
   "source": [
    "# 셀프 여부에 따른 휘발유 평균 가격 비교 \n"
   ]
  },
  {
   "cell_type": "code",
   "execution_count": null,
   "metadata": {
    "ExecuteTime": {
     "end_time": "2022-06-17T04:38:27.675104Z",
     "start_time": "2022-06-17T04:38:27.664136Z"
    }
   },
   "outputs": [],
   "source": [
    "# 상표별 일반/셀프 주유소의 휘발유 가격 평균 비교\n"
   ]
  },
  {
   "cell_type": "code",
   "execution_count": null,
   "metadata": {
    "ExecuteTime": {
     "end_time": "2022-06-17T04:38:27.691062Z",
     "start_time": "2022-06-17T04:38:27.678097Z"
    }
   },
   "outputs": [],
   "source": [
    "# 상표별 일반/셀프 주유소의 휘발유 가격 평균 비교 시각화\n"
   ]
  },
  {
   "cell_type": "code",
   "execution_count": null,
   "metadata": {
    "ExecuteTime": {
     "end_time": "2022-06-17T04:38:27.707023Z",
     "start_time": "2022-06-17T04:38:27.694054Z"
    }
   },
   "outputs": [],
   "source": [
    "# 상표별 휘발유 가격의 분포를 boxplot으로 시각화\n"
   ]
  },
  {
   "cell_type": "code",
   "execution_count": null,
   "metadata": {
    "ExecuteTime": {
     "end_time": "2022-06-17T04:38:27.722976Z",
     "start_time": "2022-06-17T04:38:27.710012Z"
    }
   },
   "outputs": [],
   "source": [
    "# 상표별 일반/셀프 주유소의 휘발유 가격에 대한 분포 확인 - boxplot으로 시각화\n"
   ]
  },
  {
   "cell_type": "code",
   "execution_count": null,
   "metadata": {
    "ExecuteTime": {
     "end_time": "2022-06-17T04:38:27.738935Z",
     "start_time": "2022-06-17T04:38:27.725970Z"
    }
   },
   "outputs": [],
   "source": [
    "# 구별 휘발유 가격의 평균\n"
   ]
  },
  {
   "cell_type": "code",
   "execution_count": null,
   "metadata": {
    "ExecuteTime": {
     "end_time": "2022-06-17T04:38:27.753894Z",
     "start_time": "2022-06-17T04:38:27.740929Z"
    },
    "scrolled": true
   },
   "outputs": [],
   "source": [
    "# 평균 가격이 가장 높은 구의 상표별 휘발유 평균가격\n"
   ]
  },
  {
   "cell_type": "code",
   "execution_count": null,
   "metadata": {
    "ExecuteTime": {
     "end_time": "2022-06-17T04:38:27.768853Z",
     "start_time": "2022-06-17T04:38:27.756886Z"
    }
   },
   "outputs": [],
   "source": [
    "# 월 평균 휘발유 가격\n"
   ]
  },
  {
   "cell_type": "code",
   "execution_count": null,
   "metadata": {
    "ExecuteTime": {
     "end_time": "2022-06-17T04:38:27.784812Z",
     "start_time": "2022-06-17T04:38:27.771846Z"
    }
   },
   "outputs": [],
   "source": [
    "# 각 구의 월별 평균 휘발유 가격 \n"
   ]
  },
  {
   "cell_type": "code",
   "execution_count": null,
   "metadata": {
    "ExecuteTime": {
     "end_time": "2022-06-17T04:38:27.800771Z",
     "start_time": "2022-06-17T04:38:27.790796Z"
    }
   },
   "outputs": [],
   "source": [
    "# 각 구의 월별 평균가격의 변화추이 시각화\n"
   ]
  },
  {
   "cell_type": "code",
   "execution_count": null,
   "metadata": {
    "ExecuteTime": {
     "end_time": "2022-06-17T04:38:27.815729Z",
     "start_time": "2022-06-17T04:38:27.803762Z"
    },
    "scrolled": true
   },
   "outputs": [],
   "source": [
    "# 가장 휘발유가격이 비싼 주유소 상위 5 - (같은 주유소가 여러개 나오므로 가장 비싼 가격을 기준으로 집계)\n"
   ]
  },
  {
   "cell_type": "code",
   "execution_count": null,
   "metadata": {
    "ExecuteTime": {
     "end_time": "2022-06-17T04:38:27.830866Z",
     "start_time": "2022-06-17T04:38:27.818721Z"
    },
    "scrolled": true
   },
   "outputs": [],
   "source": [
    "# 가장 휘발유가격이 저렴한 주유소 상위 5 - (같은 주유소가 여러개 나오므로 가장 비싼 가격을 기준으로 집계)\n"
   ]
  },
  {
   "cell_type": "code",
   "execution_count": null,
   "metadata": {
    "ExecuteTime": {
     "end_time": "2022-06-17T04:38:27.847021Z",
     "start_time": "2022-06-17T04:38:27.834852Z"
    }
   },
   "outputs": [],
   "source": [
    "# 휘발유 비싼 주유소의 상위 5개의 상호, 주소, 상표, 셀프여부,  조회 - 위에서 조회한 결과에 추가 정보(상표, 셀프여부 등) 조회 (중복제거-drop_duplicates)\n"
   ]
  },
  {
   "cell_type": "code",
   "execution_count": null,
   "metadata": {
    "ExecuteTime": {
     "end_time": "2022-06-17T04:38:27.877936Z",
     "start_time": "2022-06-17T04:38:27.858987Z"
    }
   },
   "outputs": [],
   "source": [
    "# 휘발유 저렴한 주유소의 상위 5개의 상호, 주소, 상표, 셀프여부,  조회 - 위에서 조회한 결과에 추가 정보(상표, 셀프여부 등) 조회 (중복제거-drop_duplicates)\n"
   ]
  },
  {
   "cell_type": "code",
   "execution_count": null,
   "metadata": {
    "ExecuteTime": {
     "end_time": "2021-03-15T00:08:33.086454Z",
     "start_time": "2021-03-15T00:08:33.041006Z"
    }
   },
   "outputs": [],
   "source": [
    "# 고급 휘발유를 가장 많이 파는 구 조회\n"
   ]
  },
  {
   "cell_type": "code",
   "execution_count": null,
   "metadata": {},
   "outputs": [],
   "source": []
  },
  {
   "cell_type": "code",
   "execution_count": null,
   "metadata": {},
   "outputs": [],
   "source": [
    "###############################################################################\n",
    "# 주유소 가격 데이터를 이용해서 알고 싶은 정보들을 추가 분석해 보세요.\n",
    "###############################################################################\n"
   ]
  },
  {
   "cell_type": "code",
   "execution_count": null,
   "metadata": {},
   "outputs": [],
   "source": []
  },
  {
   "cell_type": "code",
   "execution_count": null,
   "metadata": {},
   "outputs": [],
   "source": []
  },
  {
   "cell_type": "code",
   "execution_count": null,
   "metadata": {},
   "outputs": [],
   "source": []
  },
  {
   "cell_type": "code",
   "execution_count": null,
   "metadata": {},
   "outputs": [],
   "source": []
  }
 ],
 "metadata": {
  "kernelspec": {
   "display_name": "Python 3 (ipykernel)",
   "language": "python",
   "name": "python3"
  },
  "language_info": {
   "codemirror_mode": {
    "name": "ipython",
    "version": 3
   },
   "file_extension": ".py",
   "mimetype": "text/x-python",
   "name": "python",
   "nbconvert_exporter": "python",
   "pygments_lexer": "ipython3",
   "version": "3.10.9"
  },
  "toc": {
   "base_numbering": 1,
   "nav_menu": {},
   "number_sections": true,
   "sideBar": true,
   "skip_h1_title": false,
   "title_cell": "Table of Contents",
   "title_sidebar": "Contents",
   "toc_cell": false,
   "toc_position": {},
   "toc_section_display": true,
   "toc_window_display": false
  },
  "varInspector": {
   "cols": {
    "lenName": 16,
    "lenType": 16,
    "lenVar": 40
   },
   "kernels_config": {
    "python": {
     "delete_cmd_postfix": "",
     "delete_cmd_prefix": "del ",
     "library": "var_list.py",
     "varRefreshCmd": "print(var_dic_list())"
    },
    "r": {
     "delete_cmd_postfix": ") ",
     "delete_cmd_prefix": "rm(",
     "library": "var_list.r",
     "varRefreshCmd": "cat(var_dic_list()) "
    }
   },
   "types_to_exclude": [
    "module",
    "function",
    "builtin_function_or_method",
    "instance",
    "_Feature"
   ],
   "window_display": false
  }
 },
 "nbformat": 4,
 "nbformat_minor": 4
}
