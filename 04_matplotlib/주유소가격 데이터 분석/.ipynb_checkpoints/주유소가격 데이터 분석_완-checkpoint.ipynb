{
 "cells": [
  {
   "cell_type": "markdown",
   "metadata": {},
   "source": [
    "kgmyh@naver.com 으로 `이름_주유소가격 데이터 분석.html` 로 제출\n",
    "- html 파일로 변환\n",
    "    - File > Download as > HTML (.html) 선택"
   ]
  },
  {
   "cell_type": "markdown",
   "metadata": {},
   "source": [
    "# 데이터 불러오기"
   ]
  },
  {
   "cell_type": "markdown",
   "metadata": {
    "ExecuteTime": {
     "end_time": "2021-03-12T05:10:15.329775Z",
     "start_time": "2021-03-12T05:10:15.314775Z"
    }
   },
   "source": [
    "- 2022년 주유소들의 일자별 가격 데이터\n",
    "- https://www.opinet.co.kr/user/opdown/opDownload.do"
   ]
  },
  {
   "cell_type": "code",
   "execution_count": null,
   "metadata": {
    "ExecuteTime": {
     "end_time": "2023-01-19T00:10:41.636404Z",
     "start_time": "2023-01-19T00:10:39.533144Z"
    }
   },
   "outputs": [],
   "source": [
    "import pandas as pd\n",
    "import numpy as np\n",
    "import matplotlib.pyplot as plt\n",
    "import seaborn as sns"
   ]
  },
  {
   "cell_type": "code",
   "execution_count": null,
   "metadata": {
    "ExecuteTime": {
     "end_time": "2023-01-18T07:13:33.471496Z",
     "start_time": "2023-01-18T07:13:33.095686Z"
    }
   },
   "outputs": [],
   "source": [
    "# 상반기, 하반기 주유소 가격 데이터 조회\n",
    "d1 = pd.read_csv('data/2022년_서울_상반기_일별_가격.csv', encoding='cp949')\n",
    "d2 = pd.read_csv('data/2022년_서울_하반기_일별_가격.csv', encoding='cp949')\n",
    "d1.shape, d2.shape"
   ]
  },
  {
   "cell_type": "code",
   "execution_count": null,
   "metadata": {
    "ExecuteTime": {
     "end_time": "2023-01-18T07:16:51.364565Z",
     "start_time": "2023-01-18T07:16:51.313937Z"
    }
   },
   "outputs": [],
   "source": [
    "# 상반기, 하반기 DataFrame 합치기\n",
    "df = pd.concat([d1, d2], ignore_index=True)\n",
    "df.shape"
   ]
  },
  {
   "cell_type": "code",
   "execution_count": null,
   "metadata": {
    "ExecuteTime": {
     "end_time": "2023-01-18T07:17:33.536682Z",
     "start_time": "2023-01-18T07:17:33.413996Z"
    }
   },
   "outputs": [],
   "source": [
    "# DataFrame 기본 정보 조회\n",
    "df.info()"
   ]
  },
  {
   "cell_type": "code",
   "execution_count": null,
   "metadata": {
    "ExecuteTime": {
     "end_time": "2023-01-18T07:21:15.247840Z",
     "start_time": "2023-01-18T07:21:15.226184Z"
    }
   },
   "outputs": [],
   "source": [
    "df.head()"
   ]
  },
  {
   "cell_type": "code",
   "execution_count": null,
   "metadata": {
    "ExecuteTime": {
     "end_time": "2023-01-18T07:25:51.225702Z",
     "start_time": "2023-01-18T07:25:51.204377Z"
    }
   },
   "outputs": [],
   "source": [
    "df.tail()"
   ]
  },
  {
   "cell_type": "code",
   "execution_count": null,
   "metadata": {
    "ExecuteTime": {
     "end_time": "2023-01-18T07:26:30.429090Z",
     "start_time": "2023-01-18T07:26:30.302670Z"
    }
   },
   "outputs": [],
   "source": [
    "df.isnull().sum()"
   ]
  },
  {
   "cell_type": "code",
   "execution_count": null,
   "metadata": {
    "ExecuteTime": {
     "end_time": "2023-01-18T07:26:59.107925Z",
     "start_time": "2023-01-18T07:26:59.047069Z"
    }
   },
   "outputs": [],
   "source": [
    "df.describe()  #  정수/실수 타입 컬럼"
   ]
  },
  {
   "cell_type": "code",
   "execution_count": null,
   "metadata": {
    "ExecuteTime": {
     "end_time": "2023-01-18T07:30:09.127426Z",
     "start_time": "2023-01-18T07:30:09.012434Z"
    }
   },
   "outputs": [],
   "source": [
    "df.describe(include='object') # 문자열(object) "
   ]
  },
  {
   "cell_type": "code",
   "execution_count": null,
   "metadata": {
    "ExecuteTime": {
     "end_time": "2023-01-18T07:32:50.508887Z",
     "start_time": "2023-01-18T07:32:50.472721Z"
    }
   },
   "outputs": [],
   "source": [
    "# 상표 컬럼의 고유값 조회\n",
    "df['상표'].unique()\n",
    "df['상표'].value_counts()\n",
    "df['상표'].value_counts(normalize=True)"
   ]
  },
  {
   "cell_type": "code",
   "execution_count": null,
   "metadata": {
    "ExecuteTime": {
     "end_time": "2023-01-18T07:34:40.669465Z",
     "start_time": "2023-01-18T07:34:40.626167Z"
    }
   },
   "outputs": [],
   "source": [
    "# 지역 컬럼의 고유값 조회\n",
    "df['지역'].unique()\n",
    "df['지역'].value_counts()\n",
    "df['지역'].value_counts(normalize=True)"
   ]
  },
  {
   "cell_type": "code",
   "execution_count": null,
   "metadata": {
    "ExecuteTime": {
     "end_time": "2023-01-18T07:34:57.824571Z",
     "start_time": "2023-01-18T07:34:57.803263Z"
    }
   },
   "outputs": [],
   "source": [
    "df['셀프여부'].value_counts()"
   ]
  },
  {
   "cell_type": "markdown",
   "metadata": {},
   "source": [
    "> ### str accessor\n",
    "> - `Series.str.String메소드()`\n",
    "> - 문자열 타입 Series에 String 메소드들을 사용하여 일괄처리 할 수 있도록 한다.\n",
    "> - str accessor 메소드 : https://pandas.pydata.org/pandas-docs/stable/reference/series.html#api-series-str\n",
    "\n",
    "> ### datetime으로 변환\n",
    "> - `pd.to_datetime(변환할 Series, format=\"날짜형식\")`\n",
    "> - x 또는 y 축이 날짜 일 경우 datetime 타입으로 처리하는 것이 좋다.\n",
    "> - format: 년월일의 형식을 strftime 형식문자열로 지정한다. \n",
    ">      - [strftime 형식](https://docs.python.org/3/library/datetime.html#strftime-and-strptime-format-codes)  \n",
    "> - datetime을 변환하면 날짜만의 기능을 다룰 수 있다.\n",
    ">     - dt accessor를 이용해 datetime의 속성값들을(년, 월, 일 등) 추출할 수 있다.\n",
    ">     - https://pandas.pydata.org/pandas-docs/stable/reference/api/pandas.Series.dt.html\n"
   ]
  },
  {
   "cell_type": "code",
   "execution_count": null,
   "metadata": {
    "ExecuteTime": {
     "end_time": "2023-01-18T07:41:50.497952Z",
     "start_time": "2023-01-18T07:41:50.478775Z"
    }
   },
   "outputs": [],
   "source": [
    "'서울 강남구'.split()[1]\n",
    "# '서울 강남구'.slice(3) => str accessor 이용\n",
    "'서울 강남구'[3:]"
   ]
  },
  {
   "cell_type": "code",
   "execution_count": null,
   "metadata": {
    "ExecuteTime": {
     "end_time": "2023-01-18T07:46:10.055125Z",
     "start_time": "2023-01-18T07:46:09.965435Z"
    }
   },
   "outputs": [],
   "source": [
    "# 지역 컬럼의 값을 이용하여 \"구\" 컬럼 생성 (지역에서 구만 추출해서 파생변수컬럼 생성)\n",
    "df['구'] = df['지역'].apply(lambda x : x.split()[1])\n",
    "df.head()"
   ]
  },
  {
   "cell_type": "code",
   "execution_count": null,
   "metadata": {
    "ExecuteTime": {
     "end_time": "2023-01-18T07:45:27.925842Z",
     "start_time": "2023-01-18T07:45:27.843944Z"
    }
   },
   "outputs": [],
   "source": [
    "df['지역'].str.slice(3)"
   ]
  },
  {
   "cell_type": "code",
   "execution_count": null,
   "metadata": {
    "ExecuteTime": {
     "end_time": "2023-01-18T07:49:59.296529Z",
     "start_time": "2023-01-18T07:49:59.278618Z"
    }
   },
   "outputs": [],
   "source": [
    "# 기간 컬럼을 datetime 타입으로 변경\n",
    "df['기간'] = pd.to_datetime(df['기간'], format=\"%Y%m%d\")  #Y:년, m:월(2자리), d:일,  H: 시간, M:분, S: 초"
   ]
  },
  {
   "cell_type": "code",
   "execution_count": null,
   "metadata": {
    "ExecuteTime": {
     "end_time": "2023-01-18T07:50:04.094636Z",
     "start_time": "2023-01-18T07:50:03.959852Z"
    }
   },
   "outputs": [],
   "source": [
    "df.info()"
   ]
  },
  {
   "cell_type": "code",
   "execution_count": null,
   "metadata": {
    "ExecuteTime": {
     "end_time": "2023-01-18T08:10:03.429684Z",
     "start_time": "2023-01-18T08:10:03.380523Z"
    }
   },
   "outputs": [],
   "source": [
    "# 기간 컬럼을 이용해 \"월\", \"일\", \"요일\" 컬럼 생성 (dt accessor 이용)\n",
    "df['월'] = df['기간'].dt.month\n",
    "df['일'] = df['기간'].dt.day\n",
    "df['요일'] = df['기간'].dt.weekday"
   ]
  },
  {
   "cell_type": "code",
   "execution_count": null,
   "metadata": {
    "ExecuteTime": {
     "end_time": "2023-01-18T08:10:09.270338Z",
     "start_time": "2023-01-18T08:10:09.251480Z"
    },
    "scrolled": true
   },
   "outputs": [],
   "source": [
    "df.head()"
   ]
  },
  {
   "cell_type": "code",
   "execution_count": null,
   "metadata": {
    "ExecuteTime": {
     "end_time": "2023-01-18T08:14:57.679846Z",
     "start_time": "2023-01-18T08:14:57.641810Z"
    }
   },
   "outputs": [],
   "source": [
    "# 요일 - 0:월, 1:화, 2:수, 3:목, 4:금, 5:토, 6:일 로 변경\n",
    "df['요일'] = df['요일'].apply(lambda x : \"월화수목금토일\"[x])# +\"요일\")"
   ]
  },
  {
   "cell_type": "code",
   "execution_count": null,
   "metadata": {
    "ExecuteTime": {
     "end_time": "2023-01-18T08:15:03.665776Z",
     "start_time": "2023-01-18T08:15:03.636626Z"
    }
   },
   "outputs": [],
   "source": [
    "df.head()"
   ]
  },
  {
   "cell_type": "code",
   "execution_count": null,
   "metadata": {
    "ExecuteTime": {
     "end_time": "2023-01-18T08:17:29.465876Z",
     "start_time": "2023-01-18T08:17:26.594341Z"
    }
   },
   "outputs": [],
   "source": [
    "# 전처리를 완료 -> 파일로 저장\n",
    "df.to_csv('data/2022년_주유소_가격_데이터_preprocessing.csv', index=False)"
   ]
  },
  {
   "cell_type": "code",
   "execution_count": null,
   "metadata": {
    "ExecuteTime": {
     "end_time": "2023-01-19T00:22:13.041780Z",
     "start_time": "2023-01-19T00:22:12.646195Z"
    }
   },
   "outputs": [],
   "source": [
    "df = pd.read_csv('data/2022년_주유소_가격_데이터_preprocessing.csv')\n",
    "df.head()"
   ]
  },
  {
   "cell_type": "code",
   "execution_count": null,
   "metadata": {
    "ExecuteTime": {
     "end_time": "2023-01-18T08:22:31.442274Z",
     "start_time": "2023-01-18T08:22:31.343508Z"
    }
   },
   "outputs": [],
   "source": [
    "# 휘발유 가격이 가장 비싼 5개 행 조회\n",
    "# df.sort_values('휘발유', ascending=False).head()\n",
    "df.sort_values(['휘발유', '기간'], ascending=[False, True]).head()"
   ]
  },
  {
   "cell_type": "code",
   "execution_count": null,
   "metadata": {
    "ExecuteTime": {
     "end_time": "2023-01-18T08:26:39.630788Z",
     "start_time": "2023-01-18T08:26:39.487530Z"
    },
    "scrolled": true
   },
   "outputs": [],
   "source": [
    "# 휘발유 가격이 가장 저렴한 5개 행 조회 (단 0원인 주유소 제외)\n",
    "# df[df['휘발유']!=0].sort_values(['휘발유', '기간']).head(5)\n",
    "df.query('휘발유 != 0').sort_values(['휘발유', '기간']).head(5)"
   ]
  },
  {
   "cell_type": "code",
   "execution_count": null,
   "metadata": {
    "ExecuteTime": {
     "end_time": "2023-01-18T08:28:20.673057Z",
     "start_time": "2023-01-18T08:28:20.561879Z"
    }
   },
   "outputs": [],
   "source": [
    "# 고급휘발유 가격이 가장 비싼 5개 행 조회\n",
    "df.sort_values(['고급휘발유', '기간'], ascending=[False, True]).head()"
   ]
  },
  {
   "cell_type": "code",
   "execution_count": null,
   "metadata": {
    "ExecuteTime": {
     "end_time": "2023-01-18T08:29:52.663229Z",
     "start_time": "2023-01-18T08:29:52.564250Z"
    }
   },
   "outputs": [],
   "source": [
    "# 고급휘발유 가격이 가장 저렴한 5개 행 조회 (단 0원인 주유소 제외)\n",
    "df.query('고급휘발유 != 0').sort_values(['고급휘발유', '기간']).head()"
   ]
  },
  {
   "cell_type": "code",
   "execution_count": null,
   "metadata": {
    "ExecuteTime": {
     "end_time": "2023-01-18T08:30:42.330595Z",
     "start_time": "2023-01-18T08:30:42.222714Z"
    }
   },
   "outputs": [],
   "source": [
    "# 경유 가격이 가장 비싼 5개 행 조회\n",
    "df.sort_values(['경유', '기간'], ascending=[False, True]).head()"
   ]
  },
  {
   "cell_type": "code",
   "execution_count": null,
   "metadata": {
    "ExecuteTime": {
     "end_time": "2023-01-18T08:31:29.381768Z",
     "start_time": "2023-01-18T08:31:29.249645Z"
    }
   },
   "outputs": [],
   "source": [
    "# 경유 가격이 가장 저렴한 5개 행 조회 (단 0원인 주유소 제외)\n",
    "df.query('경유 != 0').sort_values(['경유', '기간']).head()"
   ]
  },
  {
   "cell_type": "code",
   "execution_count": null,
   "metadata": {
    "ExecuteTime": {
     "end_time": "2023-01-18T08:34:29.958878Z",
     "start_time": "2023-01-18T08:34:29.940693Z"
    }
   },
   "outputs": [],
   "source": [
    "# 상표별 휘발유 평균가격 조회\n",
    "상표별_휘발유_평균가격 = df.groupby('상표')['휘발유'].mean().sort_values()\n",
    "상표별_휘발유_평균가격 "
   ]
  },
  {
   "cell_type": "code",
   "execution_count": null,
   "metadata": {
    "ExecuteTime": {
     "end_time": "2023-01-18T08:37:13.680481Z",
     "start_time": "2023-01-18T08:37:13.599078Z"
    }
   },
   "outputs": [],
   "source": [
    "# 0원인 주유소는 빼고 계산\n",
    "df.query('휘발유!=0').groupby('상표')['휘발유'].mean().sort_values()"
   ]
  },
  {
   "cell_type": "code",
   "execution_count": null,
   "metadata": {
    "ExecuteTime": {
     "end_time": "2023-01-18T08:43:53.603171Z",
     "start_time": "2023-01-18T08:43:53.588075Z"
    }
   },
   "outputs": [],
   "source": [
    "range(상표별_휘발유_평균가격.size)"
   ]
  },
  {
   "cell_type": "code",
   "execution_count": null,
   "metadata": {
    "ExecuteTime": {
     "end_time": "2023-01-18T08:47:59.354683Z",
     "start_time": "2023-01-18T08:47:59.169673Z"
    }
   },
   "outputs": [],
   "source": [
    "# 상표별 휘발유 평균가격 시각화\n",
    "휘발유_전체_평균 = np.round(df['휘발유'].mean(), 2)\n",
    "\n",
    "상표별_휘발유_평균가격.plot(kind='bar', rot=45)\n",
    "\n",
    "plt.axhline(휘발유_전체_평균, color='red', linestyle=':', label=f'전체평균:{휘발유_전체_평균}')\n",
    "\n",
    "for i in range(상표별_휘발유_평균가격.size):\n",
    "    txt = str(np.round(상표별_휘발유_평균가격[i]))\n",
    "    plt.text(i-0.3, 상표별_휘발유_평균가격[i]+10, txt)\n",
    "\n",
    "plt.title('상표별 휘발유 평균가격')\n",
    "plt.ylim(1000, 2050)\n",
    "plt.legend(bbox_to_anchor=(1,1), loc='upper left')\n",
    "plt.show()"
   ]
  },
  {
   "cell_type": "code",
   "execution_count": null,
   "metadata": {
    "ExecuteTime": {
     "end_time": "2023-01-19T00:27:28.806517Z",
     "start_time": "2023-01-19T00:27:28.782950Z"
    }
   },
   "outputs": [],
   "source": [
    "# 셀프주유소와 일반주유소 개수 확인\n",
    "df['셀프여부'].value_counts()\n",
    "df['셀프여부'].value_counts(normalize=True)"
   ]
  },
  {
   "cell_type": "code",
   "execution_count": null,
   "metadata": {
    "ExecuteTime": {
     "end_time": "2023-01-19T00:29:37.249018Z",
     "start_time": "2023-01-19T00:29:37.171056Z"
    }
   },
   "outputs": [],
   "source": [
    "# 셀프 여부에 따른 휘발유 평균 가격 비교 \n",
    "df.groupby('셀프여부')['휘발유'].mean()\n",
    "df.query(\"휘발유 != 0\").groupby('셀프여부')['휘발유'].mean()"
   ]
  },
  {
   "cell_type": "code",
   "execution_count": null,
   "metadata": {
    "ExecuteTime": {
     "end_time": "2023-01-19T00:39:24.861444Z",
     "start_time": "2023-01-19T00:39:24.818719Z"
    }
   },
   "outputs": [],
   "source": [
    "# 상표별 일반/셀프 주유소의 휘발유 가격 평균 비교\n",
    "# df.groupby(['상표', '셀프여부'])['휘발유'].mean().to_frame()\n",
    "df.groupby(['상표', '셀프여부'])['휘발유'].mean().unstack() #    level=0)"
   ]
  },
  {
   "cell_type": "code",
   "execution_count": null,
   "metadata": {
    "ExecuteTime": {
     "end_time": "2023-01-19T00:41:35.637376Z",
     "start_time": "2023-01-19T00:41:35.469108Z"
    },
    "scrolled": true
   },
   "outputs": [],
   "source": [
    "상표_셀프여부별_휘발유_평균 = df.pivot_table(index='상표', columns='셀프여부', values='휘발유', aggfunc='mean', margins=True)\n",
    "상표_셀프여부별_휘발유_평균"
   ]
  },
  {
   "cell_type": "code",
   "execution_count": null,
   "metadata": {
    "ExecuteTime": {
     "end_time": "2023-01-19T01:05:29.704153Z",
     "start_time": "2023-01-19T01:05:29.496384Z"
    },
    "scrolled": false
   },
   "outputs": [],
   "source": [
    "# 상표별 일반/셀프 주유소의 휘발유 가격 평균 비교 시각화\n",
    "상표_셀프여부별_휘발유_평균[['셀프', '일반']].iloc[:-1].plot(kind='bar', \n",
    "                                                title='상표, 셀프여부별 휘발유 평균가격 비교', \n",
    "                                                ylim=(1200, 2100), \n",
    "                                                figsize=(10,7))\n",
    "\n",
    "plt.show()"
   ]
  },
  {
   "cell_type": "code",
   "execution_count": null,
   "metadata": {
    "ExecuteTime": {
     "end_time": "2023-01-19T01:08:42.097646Z",
     "start_time": "2023-01-19T01:08:41.943720Z"
    },
    "scrolled": true
   },
   "outputs": [],
   "source": [
    "#  휘발유 가격 boxplot\n",
    "# plt.boxplot(df.query('휘발유!=0')['휘발유'])\n",
    "df.query('휘발유!=0')['휘발유'].plot(kind='box')\n",
    "plt.show()"
   ]
  },
  {
   "cell_type": "code",
   "execution_count": null,
   "metadata": {
    "ExecuteTime": {
     "end_time": "2023-01-19T01:22:08.700327Z",
     "start_time": "2023-01-19T01:22:07.731338Z"
    }
   },
   "outputs": [],
   "source": [
    "# 상표별 휘발유 가격의 분포를 boxplot으로 시각화\n",
    "# df.query('휘발유 != 0').groupby('상표')['휘발유'].mean()\n",
    "plt.figure(figsize=(10,5))\n",
    "sns.boxplot(data=df.query('휘발유!=0'), y='휘발유', x='상표')  # y: 연속형 -> 4분위, 정상범위 등을 계산,  x: 범주형 - 나누는 대상\n",
    "# sns.violinplot(data=df.query('휘발유!=0'), y='휘발유', x='상표')\n",
    "plt.title('상표별 휘발유 가격 분포')\n",
    "plt.show()"
   ]
  },
  {
   "cell_type": "code",
   "execution_count": null,
   "metadata": {
    "ExecuteTime": {
     "end_time": "2023-01-19T01:20:01.529145Z",
     "start_time": "2023-01-19T01:20:00.035890Z"
    }
   },
   "outputs": [],
   "source": [
    "# 상표별 일반/셀프 주유소의 휘발유 가격에 대한 분포 확인 - boxplot으로 시각화\n",
    "plt.figure(figsize=(10,7))\n",
    "# sns.boxplot(data=df.query('휘발유 != 0'), y='휘발유', x='상표', hue='셀프여부') # hue: 범주형 -> 범주값에 따라 다른 색으로 구분해서 그린다. (따로 그린다.)\n",
    "sns.violinplot(data=df.query('휘발유 != 0'), y='휘발유', x='상표', hue='셀프여부')\n",
    "plt.show()"
   ]
  },
  {
   "cell_type": "code",
   "execution_count": null,
   "metadata": {
    "ExecuteTime": {
     "end_time": "2023-01-19T01:30:49.312808Z",
     "start_time": "2023-01-19T01:30:49.250852Z"
    },
    "scrolled": true
   },
   "outputs": [],
   "source": [
    "# 구별 휘발유 가격의 평균\n",
    "result = df.query('휘발유 != 0').groupby('구')['휘발유'].mean().sort_values(ascending=False)\n",
    "result"
   ]
  },
  {
   "cell_type": "code",
   "execution_count": null,
   "metadata": {
    "ExecuteTime": {
     "end_time": "2023-01-19T01:35:43.547625Z",
     "start_time": "2023-01-19T01:35:43.521798Z"
    },
    "scrolled": true
   },
   "outputs": [],
   "source": [
    "#boolean indexing - df[bool연산-행] [컬럼명],  df.loc[bool연산-행 , 컬럼]\n",
    "\n",
    "# 평균 가격이 가장 높은 구의 상표별 휘발유 평균가격\n",
    "df.loc[df['구']==result.index[0]].groupby('상표')['휘발유'].mean()"
   ]
  },
  {
   "cell_type": "code",
   "execution_count": null,
   "metadata": {
    "ExecuteTime": {
     "end_time": "2023-01-19T01:39:42.071653Z",
     "start_time": "2023-01-19T01:39:42.030031Z"
    }
   },
   "outputs": [],
   "source": [
    "# 월 평균 휘발유 가격\n",
    "월별_평균_휘발유_가격 = df.query('휘발유!=0').groupby('월')['휘발유'].mean()\n",
    "월별_평균_휘발유_가격"
   ]
  },
  {
   "cell_type": "code",
   "execution_count": null,
   "metadata": {
    "ExecuteTime": {
     "end_time": "2023-01-19T01:44:02.438134Z",
     "start_time": "2023-01-19T01:44:02.271082Z"
    }
   },
   "outputs": [],
   "source": [
    "# 월 평균 휘발유 가격  변화추이를 시각화\n",
    "월별_평균_휘발유_가격.plot(figsize=(15, 4))\n",
    "plt.xticks(range(1, 13), labels=[str(i)+'월' for i in range(1,13)]) \n",
    "plt.grid(True)\n",
    "plt.show()"
   ]
  },
  {
   "cell_type": "code",
   "execution_count": null,
   "metadata": {
    "ExecuteTime": {
     "end_time": "2023-01-19T01:47:22.863985Z",
     "start_time": "2023-01-19T01:47:22.856113Z"
    }
   },
   "outputs": [],
   "source": [
    "pd.options.display.max_columns = 30"
   ]
  },
  {
   "cell_type": "code",
   "execution_count": null,
   "metadata": {
    "ExecuteTime": {
     "end_time": "2023-01-19T01:47:23.451853Z",
     "start_time": "2023-01-19T01:47:23.379349Z"
    }
   },
   "outputs": [],
   "source": [
    "# 각 구의 월별 평균 휘발유 가격 \n",
    "구_월별_휘발류_평균가격 = np.round(df.pivot_table(index='월', columns='구', values='휘발유', aggfunc='mean'), 2)   # 반올림\n",
    "구_월별_휘발류_평균가격"
   ]
  },
  {
   "cell_type": "code",
   "execution_count": null,
   "metadata": {
    "ExecuteTime": {
     "end_time": "2023-01-19T01:51:42.511438Z",
     "start_time": "2023-01-19T01:51:42.201751Z"
    }
   },
   "outputs": [],
   "source": [
    "# 각 구의 월별 평균가격의 변화추이 시각화\n",
    "구_월별_휘발류_평균가격.plot(figsize=(15, 5), title='각 구의 월별 평균가격의 변화추이', \n",
    "                           ylabel='평균가격')\n",
    "plt.legend(bbox_to_anchor=(1,1), loc='upper left', ncol=2, title='구')\n",
    "plt.show()"
   ]
  },
  {
   "cell_type": "code",
   "execution_count": null,
   "metadata": {
    "ExecuteTime": {
     "end_time": "2023-01-19T02:23:00.960875Z",
     "start_time": "2023-01-19T02:23:00.896809Z"
    },
    "scrolled": false
   },
   "outputs": [],
   "source": [
    "# 가장 휘발유가격이 비싼 주유소 상위 5 - (같은 주유소가 여러개 나오므로 가장 비싼 가격을 기준으로 집계)\n",
    "# df.loc[df['휘발유'].sort_values(ascending=False).head(5).index]\n",
    "# 상호, 주소 나눔.=>주소: 상호가 같은 주유소가 있을 경우를 대비\n",
    "비싼주유소 = df.groupby(['상호', '주소'])['휘발유'].max().sort_values(ascending=False).head(5)\n",
    "비싼주유소"
   ]
  },
  {
   "cell_type": "code",
   "execution_count": null,
   "metadata": {
    "ExecuteTime": {
     "end_time": "2023-01-19T02:27:28.189804Z",
     "start_time": "2023-01-19T02:27:28.099212Z"
    },
    "scrolled": true
   },
   "outputs": [],
   "source": [
    "# 가장 휘발유가격이 저렴한 주유소 상위 5 - (같은 주유소가 여러개 나오므로 가장 비싼 가격을 기준으로 집계)\n",
    "저렴한주유소 = df.query('휘발유!=0').groupby(['상호', '주소'])['휘발유'].max().sort_values().head(5)\n",
    "저렴한주유소"
   ]
  },
  {
   "cell_type": "code",
   "execution_count": null,
   "metadata": {
    "ExecuteTime": {
     "end_time": "2023-01-19T02:32:09.363417Z",
     "start_time": "2023-01-19T02:32:09.331507Z"
    }
   },
   "outputs": [],
   "source": [
    "df.query('상호 == \"서남주유소\"')[['상호', '주소', '지역', '상표', '경유']].drop_duplicates() # 중복 행을 제거"
   ]
  },
  {
   "cell_type": "code",
   "execution_count": null,
   "metadata": {
    "ExecuteTime": {
     "end_time": "2023-01-19T02:37:57.273355Z",
     "start_time": "2023-01-19T02:37:57.255206Z"
    }
   },
   "outputs": [],
   "source": [
    "# index나 컬럼명이 여러개 => Multi-Index\n",
    "# 특정 level의 index를 조회 (level-> 밖에서 안쪽으로 0 ~ N 1씩 증가. (음수 index도 있다.))\n",
    "저렴한주유소.index.get_level_values(0)  # level 0 index값들을 조회\n",
    "저렴한주유소.index.get_level_values(-1)  # 맨 안쪽 index"
   ]
  },
  {
   "cell_type": "code",
   "execution_count": null,
   "metadata": {
    "ExecuteTime": {
     "end_time": "2023-01-19T02:41:31.671076Z",
     "start_time": "2023-01-19T02:41:31.653291Z"
    }
   },
   "outputs": [],
   "source": [
    "비싼주유소.index.get_level_values(1)"
   ]
  },
  {
   "cell_type": "code",
   "execution_count": null,
   "metadata": {},
   "outputs": [],
   "source": [
    "비싼주유소"
   ]
  },
  {
   "cell_type": "code",
   "execution_count": null,
   "metadata": {
    "ExecuteTime": {
     "end_time": "2023-01-19T02:43:39.723170Z",
     "start_time": "2023-01-19T02:43:39.694493Z"
    }
   },
   "outputs": [],
   "source": [
    "# 휘발유 비싼 주유소의 상위 5개의 상호, 지역, 주소 조회(중복제거-drop_duplicates)\n",
    "#                                                          ==> 비싼 주유소 조회결과에 추가정보를 확인\n",
    "df.loc[df['상호'].isin(비싼주유소.index.get_level_values(0)) &  \n",
    "       df['주소'].isin(비싼주유소.index.get_level_values(1)), ['상호', '지역', '주소']].drop_duplicates()"
   ]
  },
  {
   "cell_type": "code",
   "execution_count": null,
   "metadata": {
    "ExecuteTime": {
     "end_time": "2023-01-19T02:48:49.019010Z",
     "start_time": "2023-01-19T02:48:48.984147Z"
    }
   },
   "outputs": [],
   "source": [
    "# 휘발유 저렴한 주유소의 상위 5개의 상호, 지역, 주소 조회(중복제거)\n",
    "df.query(\"상호 in @저렴한주유소.index.get_level_values(0) and 주소 in @저렴한주유소.index.get_level_values(1)\")\\\n",
    "[['상호', '지역', '주소']].drop_duplicates()"
   ]
  },
  {
   "cell_type": "code",
   "execution_count": null,
   "metadata": {
    "ExecuteTime": {
     "end_time": "2023-01-19T02:56:50.227528Z",
     "start_time": "2023-01-19T02:56:50.170368Z"
    }
   },
   "outputs": [],
   "source": [
    "# 고급 휘발유를 가장 많이 파는 구 조회\n",
    "df.query('고급휘발유!=0').groupby('구')['고급휘발유'].count().sort_values(ascending=False)  #동일한 주유소가 같이 count가 됨."
   ]
  },
  {
   "cell_type": "code",
   "execution_count": null,
   "metadata": {
    "ExecuteTime": {
     "end_time": "2023-01-19T02:55:30.894404Z",
     "start_time": "2023-01-19T02:55:30.820063Z"
    }
   },
   "outputs": [],
   "source": [
    "df.query('고급휘발유!=0')[['구','상호','주소']].drop_duplicates().groupby('구').count()['상호']\\\n",
    ".sort_values(ascending=False)"
   ]
  },
  {
   "cell_type": "code",
   "execution_count": null,
   "metadata": {},
   "outputs": [],
   "source": [
    "###############################################################################\n",
    "# 주유소 가격 데이터를 이용해서 알고 싶은 정보들을 추가 분석해 보세요.\n",
    "###############################################################################\n"
   ]
  },
  {
   "cell_type": "code",
   "execution_count": null,
   "metadata": {},
   "outputs": [],
   "source": []
  },
  {
   "cell_type": "code",
   "execution_count": null,
   "metadata": {},
   "outputs": [],
   "source": []
  },
  {
   "cell_type": "code",
   "execution_count": null,
   "metadata": {},
   "outputs": [],
   "source": []
  },
  {
   "cell_type": "code",
   "execution_count": null,
   "metadata": {},
   "outputs": [],
   "source": []
  }
 ],
 "metadata": {
  "kernelspec": {
   "display_name": "Python 3 (ipykernel)",
   "language": "python",
   "name": "python3"
  },
  "language_info": {
   "codemirror_mode": {
    "name": "ipython",
    "version": 3
   },
   "file_extension": ".py",
   "mimetype": "text/x-python",
   "name": "python",
   "nbconvert_exporter": "python",
   "pygments_lexer": "ipython3",
   "version": "3.10.11"
  },
  "toc": {
   "base_numbering": 1,
   "nav_menu": {},
   "number_sections": true,
   "sideBar": true,
   "skip_h1_title": false,
   "title_cell": "Table of Contents",
   "title_sidebar": "Contents",
   "toc_cell": false,
   "toc_position": {},
   "toc_section_display": true,
   "toc_window_display": false
  },
  "varInspector": {
   "cols": {
    "lenName": 16,
    "lenType": 16,
    "lenVar": 40
   },
   "kernels_config": {
    "python": {
     "delete_cmd_postfix": "",
     "delete_cmd_prefix": "del ",
     "library": "var_list.py",
     "varRefreshCmd": "print(var_dic_list())"
    },
    "r": {
     "delete_cmd_postfix": ") ",
     "delete_cmd_prefix": "rm(",
     "library": "var_list.r",
     "varRefreshCmd": "cat(var_dic_list()) "
    }
   },
   "types_to_exclude": [
    "module",
    "function",
    "builtin_function_or_method",
    "instance",
    "_Feature"
   ],
   "window_display": false
  }
 },
 "nbformat": 4,
 "nbformat_minor": 4
}
