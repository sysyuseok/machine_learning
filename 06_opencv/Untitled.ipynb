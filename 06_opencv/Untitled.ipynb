{
 "cells": [
  {
   "cell_type": "code",
   "execution_count": 9,
   "id": "d5ab0dcc",
   "metadata": {},
   "outputs": [
    {
     "name": "stdout",
     "output_type": "stream",
     "text": [
      "10 8\n",
      "3\n",
      "0 3\n",
      "1 4\n",
      "0 2\n",
      "[0, 2, 3, 8] [0, 4, 10]\n",
      "[2, 1, 5] [4, 6]\n",
      "30\n"
     ]
    }
   ],
   "source": [
    "n,k=map(int,input().split())\n",
    "m=int(input())\n",
    "L=[]\n",
    "for _ in range(m):\n",
    "    l,num=map(int,input().split())\n",
    "    L.append([l,num])\n",
    "L.sort()\n",
    "r=[0]\n",
    "c=[0]\n",
    "for i in L:\n",
    "    if i[0]==0:\n",
    "        r.append(i[1])\n",
    "    elif i[0]==1:\n",
    "        c.append(i[1])\n",
    "r.append(k)\n",
    "c.append(n)\n",
    "# print(r,c)\n",
    "new_r=[]\n",
    "new_c=[]\n",
    "for i in range(len(r)-1):\n",
    "    new_r.append(r[i+1]-r[i])\n",
    "for i in range(len(c)-1):\n",
    "    new_c.append(c[i+1]-c[i])\n",
    "# print(new_r,new_c)\n",
    "k=0\n",
    "for i in new_r:\n",
    "    for j in new_c:\n",
    "        if i*j>k:\n",
    "            k=i*j\n",
    "print(k)"
   ]
  },
  {
   "cell_type": "code",
   "execution_count": 8,
   "id": "2c9b0883",
   "metadata": {},
   "outputs": [
    {
     "name": "stdout",
     "output_type": "stream",
     "text": [
      "4\n",
      "2 3 3 3\n",
      "3\n",
      "1 4 10\n",
      "Y N N\n"
     ]
    }
   ],
   "source": [
    "n=int(input())\n",
    "ans=[]\n",
    "li=list(map(int,input().split()))\n",
    "li_set=set([0])\n",
    "for i in range(len(li)):\n",
    "    for j in range(len(li)):\n",
    "        if i!=j:\n",
    "            if li[i]>li[j]:\n",
    "                li_set.add(li[i]-li[j])\n",
    "            else :\n",
    "                li_set.add(li[j]-li[i])\n",
    "            li_set.add(li[i]+li[j])\n",
    "m=int(input())\n",
    "li_a=list(map(int,input().split()))\n",
    "for i in li_a:\n",
    "    if i in li_set:\n",
    "        ans.append('Y')\n",
    "    else:\n",
    "        ans.append('N')\n",
    "print(' '.join(ans))\n"
   ]
  },
  {
   "cell_type": "code",
   "execution_count": 10,
   "id": "376c12db",
   "metadata": {},
   "outputs": [
    {
     "data": {
      "text/plain": [
       "[1, 2, -1, 2, -3]"
      ]
     },
     "execution_count": 10,
     "metadata": {},
     "output_type": "execute_result"
    }
   ],
   "source": [
    "a=[1,2,-1,2,-3]"
   ]
  },
  {
   "cell_type": "code",
   "execution_count": 11,
   "id": "ea6c7313",
   "metadata": {},
   "outputs": [
    {
     "ename": "TypeError",
     "evalue": "bad operand type for abs(): 'list'",
     "output_type": "error",
     "traceback": [
      "\u001b[1;31m---------------------------------------------------------------------------\u001b[0m",
      "\u001b[1;31mTypeError\u001b[0m                                 Traceback (most recent call last)",
      "Cell \u001b[1;32mIn[11], line 1\u001b[0m\n\u001b[1;32m----> 1\u001b[0m \u001b[38;5;28;43mabs\u001b[39;49m\u001b[43m(\u001b[49m\u001b[43ma\u001b[49m\u001b[43m)\u001b[49m\n",
      "\u001b[1;31mTypeError\u001b[0m: bad operand type for abs(): 'list'"
     ]
    }
   ],
   "source": [
    "abs(a)"
   ]
  }
 ],
 "metadata": {
  "kernelspec": {
   "display_name": "Python 3 (ipykernel)",
   "language": "python",
   "name": "python3"
  },
  "language_info": {
   "codemirror_mode": {
    "name": "ipython",
    "version": 3
   },
   "file_extension": ".py",
   "mimetype": "text/x-python",
   "name": "python",
   "nbconvert_exporter": "python",
   "pygments_lexer": "ipython3",
   "version": "3.10.11"
  }
 },
 "nbformat": 4,
 "nbformat_minor": 5
}
