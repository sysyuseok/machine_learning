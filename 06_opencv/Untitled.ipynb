{
 "cells": [
  {
   "cell_type": "code",
   "execution_count": 9,
   "id": "d5ab0dcc",
   "metadata": {},
   "outputs": [
    {
     "name": "stdout",
     "output_type": "stream",
     "text": [
      "10 8\n",
      "3\n",
      "0 3\n",
      "1 4\n",
      "0 2\n",
      "[0, 2, 3, 8] [0, 4, 10]\n",
      "[2, 1, 5] [4, 6]\n",
      "30\n"
     ]
    }
   ],
   "source": [
    "n,k=map(int,input().split())\n",
    "m=int(input())\n",
    "L=[]\n",
    "for _ in range(m):\n",
    "    l,num=map(int,input().split())\n",
    "    L.append([l,num])\n",
    "L.sort()\n",
    "r=[0]\n",
    "c=[0]\n",
    "for i in L:\n",
    "    if i[0]==0:\n",
    "        r.append(i[1])\n",
    "    elif i[0]==1:\n",
    "        c.append(i[1])\n",
    "r.append(k)\n",
    "c.append(n)\n",
    "# print(r,c)\n",
    "new_r=[]\n",
    "new_c=[]\n",
    "for i in range(len(r)-1):\n",
    "    new_r.append(r[i+1]-r[i])\n",
    "for i in range(len(c)-1):\n",
    "    new_c.append(c[i+1]-c[i])\n",
    "# print(new_r,new_c)\n",
    "k=0\n",
    "for i in new_r:\n",
    "    for j in new_c:\n",
    "        if i*j>k:\n",
    "            k=i*j\n",
    "print(k)"
   ]
  },
  {
   "cell_type": "code",
   "execution_count": 8,
   "id": "2c9b0883",
   "metadata": {},
   "outputs": [
    {
     "name": "stdout",
     "output_type": "stream",
     "text": [
      "4\n",
      "2 3 3 3\n",
      "3\n",
      "1 4 10\n",
      "Y N N\n"
     ]
    }
   ],
   "source": [
    "n=int(input())\n",
    "ans=[]\n",
    "li=list(map(int,input().split()))\n",
    "li_set=set([0])\n",
    "for i in range(len(li)):\n",
    "    for j in range(len(li)):\n",
    "        if i!=j:\n",
    "            if li[i]>li[j]:\n",
    "                li_set.add(li[i]-li[j])\n",
    "            else :\n",
    "                li_set.add(li[j]-li[i])\n",
    "            li_set.add(li[i]+li[j])\n",
    "m=int(input())\n",
    "li_a=list(map(int,input().split()))\n",
    "for i in li_a:\n",
    "    if i in li_set:\n",
    "        ans.append('Y')\n",
    "    else:\n",
    "        ans.append('N')\n",
    "print(' '.join(ans))\n"
   ]
  },
  {
   "cell_type": "code",
   "execution_count": 10,
   "id": "376c12db",
   "metadata": {},
   "outputs": [
    {
     "data": {
      "text/plain": [
       "[1, 2, -1, 2, -3]"
      ]
     },
     "execution_count": 10,
     "metadata": {},
     "output_type": "execute_result"
    }
   ],
   "source": [
    "a=[1,2,-1,2,-3]"
   ]
  },
  {
   "cell_type": "code",
   "execution_count": 11,
   "id": "ea6c7313",
   "metadata": {},
   "outputs": [
    {
     "ename": "TypeError",
     "evalue": "bad operand type for abs(): 'list'",
     "output_type": "error",
     "traceback": [
      "\u001b[1;31m---------------------------------------------------------------------------\u001b[0m",
      "\u001b[1;31mTypeError\u001b[0m                                 Traceback (most recent call last)",
      "Cell \u001b[1;32mIn[11], line 1\u001b[0m\n\u001b[1;32m----> 1\u001b[0m \u001b[38;5;28;43mabs\u001b[39;49m\u001b[43m(\u001b[49m\u001b[43ma\u001b[49m\u001b[43m)\u001b[49m\n",
      "\u001b[1;31mTypeError\u001b[0m: bad operand type for abs(): 'list'"
     ]
    }
   ],
   "source": [
    "abs(a)"
   ]
  },
  {
   "cell_type": "code",
   "execution_count": null,
   "id": "f30a28af",
   "metadata": {},
   "outputs": [],
   "source": [
    "n=int(input())\n",
    "if n%4==0:\n",
    "    print(5**(n//4))\n",
    "elif n%4==1:\n",
    "    print((5**(n//4))*2-1)\n",
    "elif n%4==2:\n",
    "    print((5**(n//4))*4-1)\n",
    "elif n%4==3:\n",
    "    pass"
   ]
  },
  {
   "cell_type": "code",
   "execution_count": 12,
   "id": "d7e8496d",
   "metadata": {},
   "outputs": [],
   "source": [
    "result_dic={}\n",
    "def recur(n):\n",
    "    if n in result_dic:\n",
    "        return result_dic[n]\n",
    "    if n==1:\n",
    "        result_dic[1]=1\n",
    "        return 1\n",
    "    elif n==2:\n",
    "        result_dic[2]=2\n",
    "        return 2\n",
    "    result=recur(n-1)+recur(n-2)%15746\n",
    "    result_dic[n]=result\n",
    "    return result\n",
    "\n",
    "result_dic = {}\n",
    "\n",
    "def recur(n):\n",
    "    if n in result_dic:\n",
    "        return result_dic[n]\n",
    "    if n == 1:\n",
    "        result_dic[1] = 1\n",
    "        return 1\n",
    "    elif n == 2:\n",
    "        result_dic[2] = 2\n",
    "        return 2\n",
    "    else:\n",
    "        result = (recur(n - 1) + recur(n - 2)) % 15746\n",
    "        result_dic[n] = result\n",
    "        return result\n"
   ]
  },
  {
   "cell_type": "code",
   "execution_count": 14,
   "id": "0d809dd7",
   "metadata": {},
   "outputs": [
    {
     "data": {
      "text/plain": [
       "5"
      ]
     },
     "execution_count": 14,
     "metadata": {},
     "output_type": "execute_result"
    }
   ],
   "source": [
    "recur(4)"
   ]
  },
  {
   "cell_type": "code",
   "execution_count": 41,
   "id": "7cdc76d7",
   "metadata": {},
   "outputs": [
    {
     "name": "stdout",
     "output_type": "stream",
     "text": [
      "22\n",
      "28657\n"
     ]
    }
   ],
   "source": [
    "result_dic={}\n",
    "def recur(n):\n",
    "    if n in result_dic:\n",
    "        return result_dic[n]\n",
    "    if n==1:\n",
    "        result_dic[1]=1\n",
    "        return 1\n",
    "    elif n==2:\n",
    "        result_dic[2]=2\n",
    "        return 2\n",
    "    result=(recur(n-1)+recur(n-2))%15746\n",
    "    result_dic[n]=result\n",
    "    return result\n",
    "k=int(input())\n",
    "print(recur(k))"
   ]
  },
  {
   "cell_type": "code",
   "execution_count": 54,
   "id": "51d4f10c",
   "metadata": {},
   "outputs": [
    {
     "name": "stdout",
     "output_type": "stream",
     "text": [
      "5\n",
      "14\n",
      "[1, 1, 1, 2, 2, 3, 4, 5, 7, 9, 12]\n",
      "[1, 1, 1, 2, 2, 3, 4, 5, 7, 9, 12, 16]\n",
      "[1, 1, 1, 2, 2, 3, 4, 5, 7, 9, 12, 16, 21]\n",
      "[1, 1, 1, 2, 2, 3, 4, 5, 7, 9, 12, 16, 21, 28]\n",
      "[1, 1, 1, 2, 2, 3, 4, 5, 7, 9, 12, 16, 21, 28, 37]\n",
      "[1, 1, 1, 2, 2, 3, 4, 5, 7, 9, 12, 16, 21, 28, 37, 49]\n",
      "15\n",
      "[1, 1, 1, 2, 2, 3, 4, 5, 7, 9, 12]\n",
      "[1, 1, 1, 2, 2, 3, 4, 5, 7, 9, 12, 16]\n",
      "[1, 1, 1, 2, 2, 3, 4, 5, 7, 9, 12, 16, 21]\n",
      "[1, 1, 1, 2, 2, 3, 4, 5, 7, 9, 12, 16, 21, 28]\n",
      "[1, 1, 1, 2, 2, 3, 4, 5, 7, 9, 12, 16, 21, 28, 37]\n",
      "[1, 1, 1, 2, 2, 3, 4, 5, 7, 9, 12, 16, 21, 28, 37, 49]\n",
      "[1, 1, 1, 2, 2, 3, 4, 5, 7, 9, 12, 16, 21, 28, 37, 49, 65]\n"
     ]
    },
    {
     "ename": "KeyboardInterrupt",
     "evalue": "Interrupted by user",
     "output_type": "error",
     "traceback": [
      "\u001b[1;31m---------------------------------------------------------------------------\u001b[0m",
      "\u001b[1;31mKeyboardInterrupt\u001b[0m                         Traceback (most recent call last)",
      "Cell \u001b[1;32mIn[54], line 3\u001b[0m\n\u001b[0;32m      1\u001b[0m \u001b[38;5;28;01mfor\u001b[39;00m _ \u001b[38;5;129;01min\u001b[39;00m \u001b[38;5;28mrange\u001b[39m(\u001b[38;5;28mint\u001b[39m(\u001b[38;5;28minput\u001b[39m())):\n\u001b[0;32m      2\u001b[0m     ans\u001b[38;5;241m=\u001b[39m[\u001b[38;5;241m1\u001b[39m, \u001b[38;5;241m1\u001b[39m, \u001b[38;5;241m1\u001b[39m, \u001b[38;5;241m2\u001b[39m, \u001b[38;5;241m2\u001b[39m, \u001b[38;5;241m3\u001b[39m, \u001b[38;5;241m4\u001b[39m, \u001b[38;5;241m5\u001b[39m, \u001b[38;5;241m7\u001b[39m, \u001b[38;5;241m9\u001b[39m]\n\u001b[1;32m----> 3\u001b[0m     n\u001b[38;5;241m=\u001b[39m\u001b[38;5;28mint\u001b[39m(\u001b[38;5;28;43minput\u001b[39;49m\u001b[43m(\u001b[49m\u001b[43m)\u001b[49m)\n\u001b[0;32m      4\u001b[0m     \u001b[38;5;28;01mif\u001b[39;00m n\u001b[38;5;241m<\u001b[39m\u001b[38;5;241m=\u001b[39m\u001b[38;5;241m10\u001b[39m:\n\u001b[0;32m      5\u001b[0m         \u001b[38;5;28mprint\u001b[39m(ans[n\u001b[38;5;241m-\u001b[39m\u001b[38;5;241m1\u001b[39m])\n",
      "File \u001b[1;32m~\\anaconda3\\envs\\ml\\lib\\site-packages\\ipykernel\\kernelbase.py:1191\u001b[0m, in \u001b[0;36mKernel.raw_input\u001b[1;34m(self, prompt)\u001b[0m\n\u001b[0;32m   1189\u001b[0m     msg \u001b[38;5;241m=\u001b[39m \u001b[38;5;124m\"\u001b[39m\u001b[38;5;124mraw_input was called, but this frontend does not support input requests.\u001b[39m\u001b[38;5;124m\"\u001b[39m\n\u001b[0;32m   1190\u001b[0m     \u001b[38;5;28;01mraise\u001b[39;00m StdinNotImplementedError(msg)\n\u001b[1;32m-> 1191\u001b[0m \u001b[38;5;28;01mreturn\u001b[39;00m \u001b[38;5;28;43mself\u001b[39;49m\u001b[38;5;241;43m.\u001b[39;49m\u001b[43m_input_request\u001b[49m\u001b[43m(\u001b[49m\n\u001b[0;32m   1192\u001b[0m \u001b[43m    \u001b[49m\u001b[38;5;28;43mstr\u001b[39;49m\u001b[43m(\u001b[49m\u001b[43mprompt\u001b[49m\u001b[43m)\u001b[49m\u001b[43m,\u001b[49m\n\u001b[0;32m   1193\u001b[0m \u001b[43m    \u001b[49m\u001b[38;5;28;43mself\u001b[39;49m\u001b[38;5;241;43m.\u001b[39;49m\u001b[43m_parent_ident\u001b[49m\u001b[43m[\u001b[49m\u001b[38;5;124;43m\"\u001b[39;49m\u001b[38;5;124;43mshell\u001b[39;49m\u001b[38;5;124;43m\"\u001b[39;49m\u001b[43m]\u001b[49m\u001b[43m,\u001b[49m\n\u001b[0;32m   1194\u001b[0m \u001b[43m    \u001b[49m\u001b[38;5;28;43mself\u001b[39;49m\u001b[38;5;241;43m.\u001b[39;49m\u001b[43mget_parent\u001b[49m\u001b[43m(\u001b[49m\u001b[38;5;124;43m\"\u001b[39;49m\u001b[38;5;124;43mshell\u001b[39;49m\u001b[38;5;124;43m\"\u001b[39;49m\u001b[43m)\u001b[49m\u001b[43m,\u001b[49m\n\u001b[0;32m   1195\u001b[0m \u001b[43m    \u001b[49m\u001b[43mpassword\u001b[49m\u001b[38;5;241;43m=\u001b[39;49m\u001b[38;5;28;43;01mFalse\u001b[39;49;00m\u001b[43m,\u001b[49m\n\u001b[0;32m   1196\u001b[0m \u001b[43m\u001b[49m\u001b[43m)\u001b[49m\n",
      "File \u001b[1;32m~\\anaconda3\\envs\\ml\\lib\\site-packages\\ipykernel\\kernelbase.py:1234\u001b[0m, in \u001b[0;36mKernel._input_request\u001b[1;34m(self, prompt, ident, parent, password)\u001b[0m\n\u001b[0;32m   1231\u001b[0m \u001b[38;5;28;01mexcept\u001b[39;00m \u001b[38;5;167;01mKeyboardInterrupt\u001b[39;00m:\n\u001b[0;32m   1232\u001b[0m     \u001b[38;5;66;03m# re-raise KeyboardInterrupt, to truncate traceback\u001b[39;00m\n\u001b[0;32m   1233\u001b[0m     msg \u001b[38;5;241m=\u001b[39m \u001b[38;5;124m\"\u001b[39m\u001b[38;5;124mInterrupted by user\u001b[39m\u001b[38;5;124m\"\u001b[39m\n\u001b[1;32m-> 1234\u001b[0m     \u001b[38;5;28;01mraise\u001b[39;00m \u001b[38;5;167;01mKeyboardInterrupt\u001b[39;00m(msg) \u001b[38;5;28;01mfrom\u001b[39;00m \u001b[38;5;28;01mNone\u001b[39;00m\n\u001b[0;32m   1235\u001b[0m \u001b[38;5;28;01mexcept\u001b[39;00m \u001b[38;5;167;01mException\u001b[39;00m:\n\u001b[0;32m   1236\u001b[0m     \u001b[38;5;28mself\u001b[39m\u001b[38;5;241m.\u001b[39mlog\u001b[38;5;241m.\u001b[39mwarning(\u001b[38;5;124m\"\u001b[39m\u001b[38;5;124mInvalid Message:\u001b[39m\u001b[38;5;124m\"\u001b[39m, exc_info\u001b[38;5;241m=\u001b[39m\u001b[38;5;28;01mTrue\u001b[39;00m)\n",
      "\u001b[1;31mKeyboardInterrupt\u001b[0m: Interrupted by user"
     ]
    }
   ],
   "source": [
    "\n",
    "for _ in range(int(input())):\n",
    "    ans=[1, 1, 1, 2, 2, 3, 4, 5, 7, 9]\n",
    "    n=int(input())\n",
    "    if n<=10:\n",
    "        print(ans[n-1])\n",
    "    else:\n",
    "        for i in range(9,n+1):\n",
    "            ans.append(ans[i]+ans[i-4])\n",
    "            print(ans)"
   ]
  },
  {
   "cell_type": "code",
   "execution_count": 58,
   "id": "5b0dac12",
   "metadata": {},
   "outputs": [
    {
     "name": "stdout",
     "output_type": "stream",
     "text": [
      "10\n"
     ]
    }
   ],
   "source": [
    "from itertools import combinations\n",
    "a=[1,2,3,4]\n",
    "max=0\n",
    "for i in range(2,len(a)+1):\n",
    "    for j in (combinations(a,i)):\n",
    "        if sum(j)>max:\n",
    "            max=sum(j)\n",
    "print(max)"
   ]
  },
  {
   "cell_type": "code",
   "execution_count": 4,
   "id": "4b65407a",
   "metadata": {},
   "outputs": [
    {
     "data": {
      "text/plain": [
       "(97, 122)"
      ]
     },
     "execution_count": 4,
     "metadata": {},
     "output_type": "execute_result"
    }
   ],
   "source": [
    "ord('a'),ord('z')"
   ]
  },
  {
   "cell_type": "code",
   "execution_count": 10,
   "id": "d4a3497b",
   "metadata": {},
   "outputs": [
    {
     "data": {
      "text/plain": [
       "(65, 87)"
      ]
     },
     "execution_count": 10,
     "metadata": {},
     "output_type": "execute_result"
    }
   ],
   "source": [
    "ord('A'),ord('W')"
   ]
  },
  {
   "cell_type": "code",
   "execution_count": 5,
   "id": "dfb1f97f",
   "metadata": {},
   "outputs": [
    {
     "data": {
      "text/plain": [
       "32"
      ]
     },
     "execution_count": 5,
     "metadata": {},
     "output_type": "execute_result"
    }
   ],
   "source": [
    "ord(' ')"
   ]
  },
  {
   "cell_type": "code",
   "execution_count": 19,
   "id": "734e5170",
   "metadata": {},
   "outputs": [
    {
     "name": "stdout",
     "output_type": "stream",
     "text": [
      "Hello World\n",
      "1 0 1\n",
      "1 1 1\n",
      "1 1 2\n",
      "1 1 3\n",
      "1 1 4\n",
      "2 1 4\n",
      "3 2 4\n",
      "3 2 5\n",
      "3 3 5\n",
      "3 3 6\n",
      "3 4 6\n",
      "7 6\n"
     ]
    }
   ],
   "source": [
    "string=input()\n",
    "left='qwertyasdfgzxcvb'\n",
    "right='uiophjklnm'\n",
    "l,r=0,0\n",
    "s=0\n",
    "for i in string:\n",
    "    if ord(i)>91:\n",
    "        if i in left:\n",
    "            l+=1\n",
    "        else:\n",
    "            r+=1\n",
    "    elif ord(i)>60:\n",
    "        if i.lower() in left:\n",
    "            l+=1\n",
    "            s+=1\n",
    "        else:\n",
    "            r+=1\n",
    "            s+=1\n",
    "    else:\n",
    "        s+=1\n",
    "#     print(s,l,r)\n",
    "while s!=0:\n",
    "    if l>r:\n",
    "        r+=1\n",
    "        s-=1\n",
    "    else:\n",
    "        l+=1\n",
    "        s-=1\n",
    "print(l,r)\n",
    "    \n",
    "        "
   ]
  },
  {
   "cell_type": "code",
   "execution_count": 13,
   "id": "33b2c73e",
   "metadata": {},
   "outputs": [
    {
     "data": {
      "text/plain": [
       "(10, 16)"
      ]
     },
     "execution_count": 13,
     "metadata": {},
     "output_type": "execute_result"
    }
   ],
   "source": [
    "len(right),len(left)"
   ]
  },
  {
   "cell_type": "code",
   "execution_count": 16,
   "id": "aa40dcda",
   "metadata": {},
   "outputs": [
    {
     "data": {
      "text/plain": [
       "'w'"
      ]
     },
     "execution_count": 16,
     "metadata": {},
     "output_type": "execute_result"
    }
   ],
   "source": [
    "'W'.lower()"
   ]
  },
  {
   "cell_type": "code",
   "execution_count": null,
   "id": "b9ff6df2",
   "metadata": {},
   "outputs": [],
   "source": []
  }
 ],
 "metadata": {
  "kernelspec": {
   "display_name": "Python 3 (ipykernel)",
   "language": "python",
   "name": "python3"
  },
  "language_info": {
   "codemirror_mode": {
    "name": "ipython",
    "version": 3
   },
   "file_extension": ".py",
   "mimetype": "text/x-python",
   "name": "python",
   "nbconvert_exporter": "python",
   "pygments_lexer": "ipython3",
   "version": "3.10.11"
  }
 },
 "nbformat": 4,
 "nbformat_minor": 5
}
