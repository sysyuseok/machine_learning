{
 "cells": [
  {
   "cell_type": "markdown",
   "metadata": {},
   "source": [
    "MLP - Multi Layer Perceptron"
   ]
  },
  {
   "cell_type": "markdown",
   "metadata": {
    "slideshow": {
     "slide_type": "slide"
    }
   },
   "source": [
    "# Pytorch 개발 Process"
   ]
  },
  {
   "cell_type": "markdown",
   "metadata": {
    "slideshow": {
     "slide_type": "fragment"
    }
   },
   "source": [
    "1. **데이터 준비**\n",
    "    - Dataset 준비\n",
    "    - Dataloader 생성"
   ]
  },
  {
   "cell_type": "markdown",
   "metadata": {
    "slideshow": {
     "slide_type": "fragment"
    }
   },
   "source": [
    "2. **입력과 출력을 연결하는 Layer(층)으로 이뤄진 네트워크(모델)을 정의**\n",
    "    - **Sequential 방식**: 순서대로 쌓아올린 네트워크로 이뤄진 모델을 생성하는 방식\n",
    "        - layer를 순서대로 쌓은 모델을 구현할때 간단히 모델을 정의할 수 있다.\n",
    "        - layer block을 정의하는데 사용할 수 있다.\n",
    "    - **Subclass 방식**: 네트워크를 정의하는 클래스를 구현.\n",
    "        - 다양한 구조의 모델을 정의할 수 있다.\n",
    "        - inializer에서 필요한 layer들을 생성한다.\n",
    "        - forward(self, X) 메소드에 forward propagation 계산을 구현한다.\n",
    "    "
   ]
  },
  {
   "cell_type": "markdown",
   "metadata": {
    "slideshow": {
     "slide_type": "fragment"
    }
   },
   "source": [
    "3. **train**\n",
    "    - train 함수, test 함수 정의"
   ]
  },
  {
   "cell_type": "markdown",
   "metadata": {
    "slideshow": {
     "slide_type": "fragment"
    }
   },
   "source": [
    "4. test set 최종평가"
   ]
  },
  {
   "cell_type": "markdown",
   "metadata": {
    "slideshow": {
     "slide_type": "slide"
    }
   },
   "source": [
    "# MNIST 이미지 분류 \n",
    "- **[MNIST](https://ko.wikipedia.org/wiki/MNIST_%EB%8D%B0%EC%9D%B4%ED%84%B0%EB%B2%A0%EC%9D%B4%EC%8A%A4) (Modified National Institute of Standards and Technology) database**\n",
    "- 흑백 손글씨 숫자 0-9까지 10개의 범주로 구분해놓은 데이터셋\n",
    "- 하나의 이미지는 28 * 28 pixel 의 크기\n",
    "- 6만개의 Train 이미지와 1만개의 Test 이미지로 구성됨."
   ]
  },
  {
   "cell_type": "markdown",
   "metadata": {},
   "source": [
    "## import"
   ]
  },
  {
   "cell_type": "code",
   "execution_count": 1,
   "metadata": {},
   "outputs": [
    {
     "name": "stdout",
     "output_type": "stream",
     "text": [
      "파이토치 버전: 2.0.1+cpu\n"
     ]
    }
   ],
   "source": [
    "import torch\n",
    "import torch.nn as nn\n",
    "from torch.utils.data import DataLoader, Dataset\n",
    "from torchvision import datasets, transforms\n",
    "\n",
    "import os\n",
    "import matplotlib.pyplot as plt\n",
    "\n",
    "print(f\"파이토치 버전:\", torch.__version__)"
   ]
  },
  {
   "cell_type": "markdown",
   "metadata": {},
   "source": [
    "### device 설정"
   ]
  },
  {
   "cell_type": "code",
   "execution_count": 4,
   "metadata": {},
   "outputs": [
    {
     "data": {
      "text/plain": [
       "(False, False)"
      ]
     },
     "execution_count": 4,
     "metadata": {},
     "output_type": "execute_result"
    }
   ],
   "source": [
    "torch.cuda.is_available(), torch.backends.mps.is_available()"
   ]
  },
  {
   "cell_type": "code",
   "execution_count": 5,
   "metadata": {},
   "outputs": [
    {
     "data": {
      "text/plain": [
       "'cpu'"
      ]
     },
     "execution_count": 5,
     "metadata": {},
     "output_type": "execute_result"
    }
   ],
   "source": [
    "device = \"cuda\" if torch.cuda.is_available() else \"cpu\"\n",
    "# device = \"mps\" if torch.backends.mps.is_available() else \"cpu\"  #mac\n",
    "device"
   ]
  },
  {
   "cell_type": "markdown",
   "metadata": {},
   "source": [
    "### 변수 설정"
   ]
  },
  {
   "cell_type": "code",
   "execution_count": 6,
   "metadata": {},
   "outputs": [],
   "source": [
    "BATCH_SIZE = 256 # 학습/검증할 때 한번에 몇개의 데이터를 가지고 할지 개수.\n",
    "N_EPOCH = 20     # 전체 Train set을 한번 학습 시키는 것-> 1 epoch.  epoch 수. 크게 잡아준다.\n",
    "LR = 0.001       # 학습률. (파라미터 업데이트할 때 지정할 학습률. gradient의 어느 정도를 파라미터 업데이트할 때 사용할 것인지 비율.)\n",
    "\n",
    "DATASET_SAVE_PATH = 'datasets' # 데이셋을 저장할 디렉토리.\n",
    "MODEL_SAVE_PATH = 'models'     # 학습된 모델을 저장할 디렉토리.\n",
    "\n",
    "os.makedirs(DATASET_SAVE_PATH, exist_ok=True)\n",
    "os.makedirs(MODEL_SAVE_PATH, exist_ok=True)"
   ]
  },
  {
   "cell_type": "markdown",
   "metadata": {
    "ExecuteTime": {
     "end_time": "2021-08-30T05:02:52.852140Z",
     "start_time": "2021-08-30T05:02:52.563117Z"
    },
    "slideshow": {
     "slide_type": "slide"
    }
   },
   "source": [
    "## MNIST dataset Loading\n",
    "\n",
    "### Dataset"
   ]
  },
  {
   "cell_type": "code",
   "execution_count": null,
   "metadata": {},
   "outputs": [],
   "source": [
    "# ToTensor() -> ndarray, PIL.Image객체 ==> Tensor 변환, 정규화.(0. ~ 1.)"
   ]
  },
  {
   "cell_type": "code",
   "execution_count": 7,
   "metadata": {},
   "outputs": [
    {
     "name": "stderr",
     "output_type": "stream",
     "text": [
      "\r",
      "0.3%"
     ]
    },
    {
     "name": "stdout",
     "output_type": "stream",
     "text": [
      "Downloading http://yann.lecun.com/exdb/mnist/train-images-idx3-ubyte.gz\n",
      "Downloading http://yann.lecun.com/exdb/mnist/train-images-idx3-ubyte.gz to datasets\\MNIST\\raw\\train-images-idx3-ubyte.gz\n"
     ]
    },
    {
     "name": "stderr",
     "output_type": "stream",
     "text": [
      "100.0%\n"
     ]
    },
    {
     "name": "stdout",
     "output_type": "stream",
     "text": [
      "Extracting datasets\\MNIST\\raw\\train-images-idx3-ubyte.gz to datasets\\MNIST\\raw\n"
     ]
    },
    {
     "name": "stderr",
     "output_type": "stream",
     "text": [
      "\r",
      "100.0%"
     ]
    },
    {
     "name": "stdout",
     "output_type": "stream",
     "text": [
      "\n",
      "Downloading http://yann.lecun.com/exdb/mnist/train-labels-idx1-ubyte.gz\n",
      "Downloading http://yann.lecun.com/exdb/mnist/train-labels-idx1-ubyte.gz to datasets\\MNIST\\raw\\train-labels-idx1-ubyte.gz\n",
      "Extracting datasets\\MNIST\\raw\\train-labels-idx1-ubyte.gz to datasets\\MNIST\\raw\n",
      "\n",
      "Downloading http://yann.lecun.com/exdb/mnist/t10k-images-idx3-ubyte.gz\n"
     ]
    },
    {
     "name": "stderr",
     "output_type": "stream",
     "text": [
      "\n",
      "27.8%"
     ]
    },
    {
     "name": "stdout",
     "output_type": "stream",
     "text": [
      "Downloading http://yann.lecun.com/exdb/mnist/t10k-images-idx3-ubyte.gz to datasets\\MNIST\\raw\\t10k-images-idx3-ubyte.gz\n"
     ]
    },
    {
     "name": "stderr",
     "output_type": "stream",
     "text": [
      "100.0%\n"
     ]
    },
    {
     "name": "stdout",
     "output_type": "stream",
     "text": [
      "Extracting datasets\\MNIST\\raw\\t10k-images-idx3-ubyte.gz to datasets\\MNIST\\raw\n",
      "\n",
      "Downloading http://yann.lecun.com/exdb/mnist/t10k-labels-idx1-ubyte.gz\n",
      "Downloading http://yann.lecun.com/exdb/mnist/t10k-labels-idx1-ubyte.gz to datasets\\MNIST\\raw\\t10k-labels-idx1-ubyte.gz\n"
     ]
    },
    {
     "name": "stderr",
     "output_type": "stream",
     "text": [
      "\r",
      "100.0%"
     ]
    },
    {
     "name": "stdout",
     "output_type": "stream",
     "text": [
      "Extracting datasets\\MNIST\\raw\\t10k-labels-idx1-ubyte.gz to datasets\\MNIST\\raw\n",
      "\n"
     ]
    },
    {
     "name": "stderr",
     "output_type": "stream",
     "text": [
      "\n"
     ]
    }
   ],
   "source": [
    "## data set 생성\n",
    "train_set = datasets.MNIST(root=DATASET_SAVE_PATH,   # 데이터셋 저장할 디렉토리.\n",
    "                           train=True, # trainset(True) | testset(False) 중 어떤 것 받을 것인지.\n",
    "                           download=True, #root에 데이터셋이 없으면 다운받을지 여부.\n",
    "                           transform=transforms.ToTensor() # 데이터 전처리 하는 객체\n",
    "                          )\n",
    "\n",
    "\n",
    "test_set = datasets.MNIST(root=DATASET_SAVE_PATH, train=False, download=True,\n",
    "                          transform=transforms.ToTensor())"
   ]
  },
  {
   "cell_type": "code",
   "execution_count": 10,
   "metadata": {},
   "outputs": [
    {
     "name": "stdout",
     "output_type": "stream",
     "text": [
      "<class 'torchvision.datasets.mnist.MNIST'>\n",
      "Dataset MNIST\n",
      "    Number of datapoints: 60000\n",
      "    Root location: datasets\n",
      "    Split: Train\n",
      "    StandardTransform\n",
      "Transform: ToTensor()\n",
      "Dataset MNIST\n",
      "    Number of datapoints: 10000\n",
      "    Root location: datasets\n",
      "    Split: Test\n",
      "    StandardTransform\n",
      "Transform: ToTensor()\n"
     ]
    }
   ],
   "source": [
    "print(type(train_set))\n",
    "print(train_set)\n",
    "print(test_set)"
   ]
  },
  {
   "cell_type": "code",
   "execution_count": 11,
   "metadata": {},
   "outputs": [
    {
     "data": {
      "text/plain": [
       "(60000, 10000)"
      ]
     },
     "execution_count": 11,
     "metadata": {},
     "output_type": "execute_result"
    }
   ],
   "source": [
    "len(train_set), len(test_set)"
   ]
  },
  {
   "cell_type": "markdown",
   "metadata": {},
   "source": [
    "### DataLoader"
   ]
  },
  {
   "cell_type": "code",
   "execution_count": 19,
   "metadata": {},
   "outputs": [],
   "source": [
    "## dataset 바탕으로 dataloader 생성\n",
    "train_loader = DataLoader(train_set, # Dataset \n",
    "                          batch_size=BATCH_SIZE, \n",
    "                          shuffle=True, # 학습시 1에폭이 끝나면 데이터를 섞어줄지 여부.(기본: False)\n",
    "                          drop_last=True# 마지막 배치의 개수가 batch_size보다 적으면 버린다.\n",
    "                         )\n",
    "test_loader = DataLoader(test_set, batch_size=BATCH_SIZE)"
   ]
  },
  {
   "cell_type": "code",
   "execution_count": 20,
   "metadata": {},
   "outputs": [
    {
     "name": "stdout",
     "output_type": "stream",
     "text": [
      "trainset의 1 에폭당 step 수: 234\n",
      "testset의 1 에폭당 step 수: 40\n"
     ]
    }
   ],
   "source": [
    "print(f\"trainset의 1 에폭당 step 수: {len(train_loader)}\")\n",
    "print(f\"testset의 1 에폭당 step 수: {len(test_loader)}\")\n",
    "# step: 모델(파라미터) 업데이트 단위.\n",
    "# 1 에폭당 step수: trainset데이터수 / batch_size"
   ]
  },
  {
   "cell_type": "markdown",
   "metadata": {
    "slideshow": {
     "slide_type": "slide"
    }
   },
   "source": [
    "## 네트워크(모델) 정의\n",
    "- Network : 전체 모델 구조"
   ]
  },
  {
   "cell_type": "code",
   "execution_count": 2,
   "metadata": {
    "collapsed": true
   },
   "outputs": [
    {
     "ename": "NameError",
     "evalue": "name 'nn' is not defined",
     "output_type": "error",
     "traceback": [
      "\u001b[1;31m---------------------------------------------------------------------------\u001b[0m",
      "\u001b[1;31mNameError\u001b[0m                                 Traceback (most recent call last)",
      "Cell \u001b[1;32mIn[2], line 4\u001b[0m\n\u001b[0;32m      1\u001b[0m \u001b[38;5;66;03m## 모델을 만드는 방법은 class를 기반으로 만든다.\u001b[39;00m\n\u001b[0;32m      2\u001b[0m \n\u001b[0;32m      3\u001b[0m \u001b[38;5;66;03m# nn.Module을 상속 \u001b[39;00m\n\u001b[1;32m----> 4\u001b[0m \u001b[38;5;28;01mclass\u001b[39;00m \u001b[38;5;21;01mMNISTModel\u001b[39;00m(\u001b[43mnn\u001b[49m\u001b[38;5;241m.\u001b[39mModule):\n\u001b[0;32m      6\u001b[0m     \u001b[38;5;28;01mdef\u001b[39;00m \u001b[38;5;21m__init__\u001b[39m(\u001b[38;5;28mself\u001b[39m): \u001b[38;5;66;03m## 반드시 해야하는 것\u001b[39;00m\n\u001b[0;32m      7\u001b[0m \u001b[38;5;250m        \u001b[39m\u001b[38;5;124;03m\"\"\"\u001b[39;00m\n\u001b[0;32m      8\u001b[0m \u001b[38;5;124;03m        모델객체 생성시 모델을 구현할 때 필요한 것들을 초기화.\u001b[39;00m\n\u001b[0;32m      9\u001b[0m \u001b[38;5;124;03m        필요한것:  Layer들\u001b[39;00m\n\u001b[0;32m     10\u001b[0m \u001b[38;5;124;03m        \"\"\"\u001b[39;00m\n",
      "\u001b[1;31mNameError\u001b[0m: name 'nn' is not defined"
     ]
    }
   ],
   "source": [
    "## 모델을 만드는 방법은 class를 기반으로 만든다.\n",
    "\n",
    "# nn.Module을 상속 \n",
    "class MNISTModel(nn.Module):\n",
    "    \n",
    "    def __init__(self): ## 반드시 해야하는 것\n",
    "        \"\"\"\n",
    "        모델객체 생성시 모델을 구현할 때 필요한 것들을 초기화.\n",
    "        필요한것:  Layer들\n",
    "        \"\"\"\n",
    "        super().__init__()   #1. 부모클래스의 __init__()을 호출해서 초기화.\n",
    "        ## Linear(input feature개수:파라미터 개수(weight개수), output 개수:유닛 개수(Layer- 유닛의 묶음))\n",
    "        self.lr1 = nn.Linear(28*28, 128) ## Linear는 z=w*x+b (선형회귀 계산)로 생각할 수 있다. feature만큼 weight 필요\n",
    "        self.lr2 = nn.Linear(128, 64) \n",
    "        self.lr3 = nn.Linear(64, 10)\n",
    "        ## 유닛이란 : Linear(10,5) 이면 (w1*x1+b ~~ w10*x10+b) 묶음을 의미하고 5개 만든다. 유닛별로 weight은 다 다르다\n",
    "        ## layer 수와 unit수는 만드는 사람 마음대로 하는 것이다.(실험적이다 - 해보면서 체득해야한다.)\n",
    "        \n",
    "    def forward(self, X): ## 반드시 해야하는 것\n",
    "        \"\"\"\n",
    "        입력을 받아서 최종 출력할 때 까지의 계산 흐름을 구현하는 메소드.\n",
    "        ===> 순전파(forward propagation)\n",
    "        파라미터 X: 입력값. - batch\n",
    "        \"\"\"\n",
    "        #3차원인 이미지를 1차원으로 변환. \n",
    "        # (데이터개수-batch, channel, height, width) -> (batch, c*h*w)\n",
    "        ## pipeline처럼 여러 함수를 거쳐서 결과를 얻는다.\n",
    "        \n",
    "        X = torch.flatten(X, start_dim=1) # axis 1 이후를 flatten - 내적하려면 차원이 같아야해서\n",
    "        X = self.lr1(X)  #WX + b\n",
    "        X = nn.ReLU()(X) #활성함수(activation function) => 비선형함수.\n",
    "        \n",
    "        X = self.lr2(X)\n",
    "        X = nn.ReLU()(X)\n",
    "        \n",
    "        X = self.lr3(X)\n",
    "        return X"
   ]
  },
  {
   "cell_type": "code",
   "execution_count": 52,
   "metadata": {},
   "outputs": [],
   "source": [
    "# 정의한 모델클래스로부터 모델객체를 생성\n",
    "model = MNISTModel()"
   ]
  },
  {
   "cell_type": "code",
   "execution_count": 24,
   "metadata": {},
   "outputs": [
    {
     "name": "stdout",
     "output_type": "stream",
     "text": [
      "MNISTModel(\n",
      "  (lr1): Linear(in_features=784, out_features=128, bias=True)\n",
      "  (lr2): Linear(in_features=128, out_features=64, bias=True)\n",
      "  (lr3): Linear(in_features=64, out_features=10, bias=True)\n",
      ")\n"
     ]
    }
   ],
   "source": [
    "# 모델의 구조를 확인\n",
    "print(model)"
   ]
  },
  {
   "cell_type": "code",
   "execution_count": 25,
   "metadata": {},
   "outputs": [
    {
     "name": "stdout",
     "output_type": "stream",
     "text": [
      "Collecting torchinfo\n",
      "  Downloading torchinfo-1.8.0-py3-none-any.whl (23 kB)\n",
      "Installing collected packages: torchinfo\n",
      "Successfully installed torchinfo-1.8.0\n"
     ]
    }
   ],
   "source": [
    "# 모델의 구조를 확인하는 라이브러리 -> torchinfo\n",
    "!pip install torchinfo"
   ]
  },
  {
   "cell_type": "code",
   "execution_count": 26,
   "metadata": {},
   "outputs": [
    {
     "data": {
      "text/plain": [
       "==========================================================================================\n",
       "Layer (type:depth-idx)                   Output Shape              Param #\n",
       "==========================================================================================\n",
       "MNISTModel                               [256, 10]                 --\n",
       "├─Linear: 1-1                            [256, 128]                100,480\n",
       "├─Linear: 1-2                            [256, 64]                 8,256\n",
       "├─Linear: 1-3                            [256, 10]                 650\n",
       "==========================================================================================\n",
       "Total params: 109,386\n",
       "Trainable params: 109,386\n",
       "Non-trainable params: 0\n",
       "Total mult-adds (M): 28.00\n",
       "==========================================================================================\n",
       "Input size (MB): 0.80\n",
       "Forward/backward pass size (MB): 0.41\n",
       "Params size (MB): 0.44\n",
       "Estimated Total Size (MB): 1.65\n",
       "=========================================================================================="
      ]
     },
     "execution_count": 26,
     "metadata": {},
     "output_type": "execute_result"
    }
   ],
   "source": [
    "from torchinfo import summary\n",
    "summary(model, (BATCH_SIZE, 784))  # (모델객체, input데이터의 shae) (100: batchsize, 784:feature수)\n",
    "\n",
    "self.lr1 = nn.Linear(28*28, 128)\n",
    "self.lr2 = nn.Linear(128, 64)\n",
    "self.lr3 = nn.Linear(64, 10)"
   ]
  },
  {
   "cell_type": "markdown",
   "metadata": {},
   "source": [
    "## train"
   ]
  },
  {
   "cell_type": "markdown",
   "metadata": {},
   "source": [
    "### 모델, loss function, optimizer 생성"
   ]
  },
  {
   "cell_type": "code",
   "execution_count": 53,
   "metadata": {},
   "outputs": [],
   "source": [
    "model = model.to(device) # 실제 추론을 담당할 device로 옮긴다. -> 모델, X, y\n",
    "# loss를 계산하는 함수. 다중분류=>cross entropy\n",
    "## CrossEntropyLoss() ==> 모델추정결과 -> Softmax 적용 -> log ==> log_softmax()\n",
    "#                      label로 받은 정답 -> one hot encoding\n",
    "#                      log_softmax() 적용한 추정값과 * one hot encoding 변환해서 loss를 계산--> nll_loss\n",
    "# softmax 적용전 model 출력값(logfit)과 labelencoding 형태의 정답을 받아서 위의 과정을 처리해 loss를 계산한다.\n",
    "loss_fn = nn.CrossEntropyLoss()  #nn.functional.cross_entropy()\n",
    "\n",
    "#optimizer=>최적화(경사하강법)\n",
    "optimizer = torch.optim.Adam(model.parameters(), lr=LR) #모델의 파라미터(최적화대상), 학습률"
   ]
  },
  {
   "cell_type": "code",
   "execution_count": 31,
   "metadata": {
    "collapsed": true
   },
   "outputs": [
    {
     "data": {
      "text/plain": [
       "Parameter containing:\n",
       "tensor([[-8.0302e-03, -2.5880e-03,  9.9503e-04,  ..., -8.2329e-03,\n",
       "         -7.0579e-03, -2.5364e-02],\n",
       "        [-9.3776e-03, -7.9880e-03, -2.0210e-02,  ..., -2.0367e-02,\n",
       "          3.3021e-02,  2.5915e-02],\n",
       "        [ 1.0241e-02, -1.5803e-02,  3.3363e-02,  ...,  1.6890e-02,\n",
       "          1.3219e-02,  1.2652e-03],\n",
       "        ...,\n",
       "        [-2.2946e-02,  3.0481e-02, -3.0266e-02,  ...,  2.9296e-02,\n",
       "          9.7373e-03,  1.3778e-02],\n",
       "        [-3.3561e-02, -2.5485e-02, -8.4647e-03,  ..., -1.5761e-02,\n",
       "         -1.9318e-02, -1.3452e-02],\n",
       "        [-2.4390e-02,  2.2660e-02,  2.2121e-02,  ..., -9.1460e-05,\n",
       "         -3.1259e-02,  3.5677e-03]], requires_grad=True)"
      ]
     },
     "execution_count": 31,
     "metadata": {},
     "output_type": "execute_result"
    }
   ],
   "source": [
    "next(model.parameters())"
   ]
  },
  {
   "cell_type": "code",
   "execution_count": 54,
   "metadata": {},
   "outputs": [
    {
     "name": "stdout",
     "output_type": "stream",
     "text": [
      "[ 0/20] train loss: 0.5364154574708042,         val_loss: 0.2451614886522293, val_accuracy: 0.9266\n",
      "[ 1/20] train loss: 0.22005870027674568,         val_loss: 0.1745038777589798, val_accuracy: 0.9474\n",
      "[ 2/20] train loss: 0.16279521141933578,         val_loss: 0.13967326283454895, val_accuracy: 0.9582\n",
      "[ 3/20] train loss: 0.12731138648640397,         val_loss: 0.12011511623859406, val_accuracy: 0.9652\n",
      "[ 4/20] train loss: 0.10312062750260036,         val_loss: 0.104461170732975, val_accuracy: 0.9678\n",
      "[ 5/20] train loss: 0.08641090603847788,         val_loss: 0.09199827909469604, val_accuracy: 0.9701\n",
      "[ 6/20] train loss: 0.0713428732755984,         val_loss: 0.08435015380382538, val_accuracy: 0.9738\n",
      "[ 7/20] train loss: 0.062234709532851845,         val_loss: 0.08079943060874939, val_accuracy: 0.9739\n",
      "[ 8/20] train loss: 0.05250157525317154,         val_loss: 0.08456502854824066, val_accuracy: 0.9723\n",
      "[ 9/20] train loss: 0.045715510765584104,         val_loss: 0.07653572410345078, val_accuracy: 0.9755\n",
      "[10/20] train loss: 0.0405664633676951,         val_loss: 0.0770900771021843, val_accuracy: 0.9763\n",
      "[11/20] train loss: 0.034804775355718076,         val_loss: 0.06994550675153732, val_accuracy: 0.9782\n",
      "[12/20] train loss: 0.02970082015117519,         val_loss: 0.07268435508012772, val_accuracy: 0.9772\n",
      "[13/20] train loss: 0.02503705603114337,         val_loss: 0.07174359261989594, val_accuracy: 0.9776\n",
      "[14/20] train loss: 0.021662108530489426,         val_loss: 0.07239820063114166, val_accuracy: 0.9773\n",
      "[15/20] train loss: 0.018534768373769127,         val_loss: 0.07686063647270203, val_accuracy: 0.9764\n",
      "[16/20] train loss: 0.016355203225826606,         val_loss: 0.07740118354558945, val_accuracy: 0.9783\n",
      "[17/20] train loss: 0.014192958084297262,         val_loss: 0.08112133294343948, val_accuracy: 0.9766\n",
      "[18/20] train loss: 0.011844641460368458,         val_loss: 0.07573483884334564, val_accuracy: 0.9794\n",
      "[19/20] train loss: 0.011852833593630383,         val_loss: 0.08270736038684845, val_accuracy: 0.977\n",
      "133.84036564826965 초\n"
     ]
    }
   ],
   "source": [
    "import time\n",
    "\n",
    "### train => train + validation\n",
    "#epcoch별 학습결과를 저장할 list\n",
    "train_loss_list = []\n",
    "val_loss_list = []\n",
    "val_acc_list = []\n",
    "s = time.time()\n",
    "for epoch in range(N_EPOCH):\n",
    "    ###############################################\n",
    "    # train (학습)\n",
    "    ###############################################\n",
    "    model.train() # 모델을 학습 모드로 변경.\n",
    "    train_loss = 0.0 #현재 epoch의 학습 결과 loss를 저장.\n",
    "    for X_train, y_train in train_loader: ## batch 단위로 진행\n",
    "        # X, y를 device로 옮긴다.\n",
    "        X_train, y_train = X_train.to(device), y_train.to(device) ## 같은 곳으로 옮긴다. 다르면 exception 발생\n",
    "        # 모델 추정\n",
    "        pred = model(X_train)\n",
    "        # 오차(loss) 계산\n",
    "        loss = loss_fn(pred, y_train)  # 매개변수 순서: (모델추정값, 정답)\n",
    "        # 모델의 파라미터 업데이트\n",
    "        ## 1. 파라미터에 저장된 gradient값들 초기화\n",
    "        optimizer.zero_grad() # optimizer에 설정한 parameter들 초기화(0으로 설정) ### 현재 gradient만 확인하기 위해\n",
    "        ## 2. gradient 계산 -> 계산 결과는 parameter들의 grad 속성에 저장.\n",
    "        loss.backward() # 모든 param에 대한 grad 구한다.\n",
    "        ## 3. 파라미터 업데이트 \n",
    "        optimizer.step() \n",
    "        ## optimizer = torch.optim.Adam(model.parameters(), lr=LR) 에서 파라미터 업데이트\n",
    "        \n",
    "        # train loss를 누적\n",
    "        train_loss += loss.item() # tensor에서 값을 추출\n",
    "    \n",
    "    ### W에 grad가 들어가고 W_new = W - alpha * grad\n",
    "    \n",
    "    #step별로 누적한 loss를 step수로 나눠서 epoch의 평균 loss로 저장\n",
    "    train_loss /= len(train_loader)\n",
    "    \n",
    "    ###############################################\n",
    "    # validate (검증)\n",
    "    ###############################################\n",
    "    model.eval() #모델을 검증(평가) 모드. -> 특정 layer의 경우 학습단계와 검증(추정) 단계에서 다르게 처리하는 것들이 있다. \n",
    "    # 현재 epoch의 검증 결과를 저장할 변수\n",
    "    val_loss = 0.0\n",
    "    val_acc = 0.0\n",
    "    with torch.no_grad():\n",
    "        # 검증시에는 backward를 하지 않으므로 gradient를 구할 필요가 없으므로 no_grad() \n",
    "        #   context manager를 이용해 검증 코드를 작성.\n",
    "        for X_val, y_val in test_loader:\n",
    "            X_val, y_val = X_val.to(device), y_val.to(device)\n",
    "            pred_val = model(X_val) #클래스별 확률\n",
    "            # loss 계산\n",
    "            val_loss += loss_fn(pred_val, y_val)\n",
    "            # 정확도 계산\n",
    "            ## 추정한 클래스를 조회\n",
    "            pred_label = pred_val.argmax(axis=-1)\n",
    "            val_acc += torch.sum(pred_label == y_val).item()\n",
    "        # val_loss, val_acc의 평균\n",
    "        val_loss /= len(test_loader)   #step으로 나눔.\n",
    "        val_acc /= len(test_loader.dataset)   #전체 데이터수\n",
    "        # 현재 epoch 결과를 출력\n",
    "    print(f\"[{epoch+1:2d}/{N_EPOCH:2d}] train loss: {train_loss}, val_loss: {val_loss}, val_accuracy: {val_acc}\")\n",
    "    # 리스트에 현재 epoch의 결과를 추가\n",
    "    train_loss_list.append(train_loss)\n",
    "    val_loss_list.append(val_loss)\n",
    "    val_acc_list.append(val_acc)\n",
    "    \n",
    "e = time.time()\n",
    "print(e-s, \"초\")"
   ]
  },
  {
   "cell_type": "code",
   "execution_count": 47,
   "metadata": {},
   "outputs": [
    {
     "data": {
      "text/plain": [
       "(10000, 10000)"
      ]
     },
     "execution_count": 47,
     "metadata": {},
     "output_type": "execute_result"
    }
   ],
   "source": [
    "len(test_set) , len(test_loader.dataset)"
   ]
  },
  {
   "cell_type": "code",
   "execution_count": 39,
   "metadata": {},
   "outputs": [],
   "source": [
    "#label : 0, 1, 2\n",
    "정답 = torch.tensor([1, 1, 0])\n",
    "추정 = torch.tensor([[0.1, 0.1, 0.8], \n",
    "                     [0.2, 0.7, 0.1], \n",
    "                     [1.0, 0,     0]\n",
    "                    ])"
   ]
  },
  {
   "cell_type": "code",
   "execution_count": 40,
   "metadata": {},
   "outputs": [
    {
     "data": {
      "text/plain": [
       "tensor([2, 1, 0])"
      ]
     },
     "execution_count": 40,
     "metadata": {},
     "output_type": "execute_result"
    }
   ],
   "source": [
    "추정_label = 추정.argmax(axis=-1)\n",
    "추정_label"
   ]
  },
  {
   "cell_type": "code",
   "execution_count": 44,
   "metadata": {},
   "outputs": [
    {
     "data": {
      "text/plain": [
       "2"
      ]
     },
     "execution_count": 44,
     "metadata": {},
     "output_type": "execute_result"
    }
   ],
   "source": [
    "torch.sum(추정_label == 정답).item()"
   ]
  },
  {
   "cell_type": "code",
   "execution_count": null,
   "metadata": {},
   "outputs": [],
   "source": []
  },
  {
   "cell_type": "code",
   "execution_count": null,
   "metadata": {},
   "outputs": [],
   "source": []
  },
  {
   "cell_type": "code",
   "execution_count": 34,
   "metadata": {},
   "outputs": [],
   "source": [
    "# dataloader -> iterable\n",
    "v = next(iter(test_loader))"
   ]
  },
  {
   "cell_type": "code",
   "execution_count": 38,
   "metadata": {},
   "outputs": [
    {
     "data": {
      "text/plain": [
       "(torch.Size([256, 1, 28, 28]), torch.Size([256]))"
      ]
     },
     "execution_count": 38,
     "metadata": {},
     "output_type": "execute_result"
    }
   ],
   "source": [
    "len(v)\n",
    "v[0].shape, v[1].shape   # [X, y] => X와 y를 리스트로 묶어서 반환 -> batch 단위로 제공."
   ]
  },
  {
   "cell_type": "markdown",
   "metadata": {},
   "source": [
    "### 학습 및 검증"
   ]
  },
  {
   "cell_type": "code",
   "execution_count": null,
   "metadata": {},
   "outputs": [],
   "source": []
  },
  {
   "cell_type": "markdown",
   "metadata": {},
   "source": [
    "### 학습 로그 시각화"
   ]
  },
  {
   "cell_type": "code",
   "execution_count": 56,
   "metadata": {},
   "outputs": [
    {
     "data": {
      "image/png": "[encoded data removed]",
      "text/plain": [
       "<Figure size 640x480 with 1 Axes>"
      ]
     },
     "metadata": {},
     "output_type": "display_data"
    }
   ],
   "source": [
    "plt.plot(range(N_EPOCH), train_loss_list, label=\"train\")\n",
    "plt.plot(range(N_EPOCH), val_loss_list, label='val')\n",
    "plt.legend()\n",
    "plt.show()"
   ]
  },
  {
   "cell_type": "code",
   "execution_count": 57,
   "metadata": {},
   "outputs": [
    {
     "data": {
      "image/png": "[encoded data removed]",
      "text/plain": [
       "<Figure size 640x480 with 1 Axes>"
      ]
     },
     "metadata": {},
     "output_type": "display_data"
    }
   ],
   "source": [
    "plt.plot(range(N_EPOCH), val_acc_list)\n",
    "plt.show()"
   ]
  },
  {
   "cell_type": "code",
   "execution_count": null,
   "metadata": {},
   "outputs": [],
   "source": []
  },
  {
   "cell_type": "markdown",
   "metadata": {},
   "source": [
    "## 학습된 모델 저장 및 불러오기"
   ]
  },
  {
   "cell_type": "code",
   "execution_count": 61,
   "metadata": {},
   "outputs": [
    {
     "data": {
      "text/plain": [
       "'models\\\\MNIST\\\\mnist_mlp.pth'"
      ]
     },
     "execution_count": 61,
     "metadata": {},
     "output_type": "execute_result"
    }
   ],
   "source": [
    "save_path = os.path.join(MODEL_SAVE_PATH, \"MNIST\", \"mnist_mlp.pth\")\n",
    "os.makedirs(os.path.join(MODEL_SAVE_PATH, \"MNIST\"), exist_ok=True)\n",
    "save_path"
   ]
  },
  {
   "cell_type": "code",
   "execution_count": 62,
   "metadata": {},
   "outputs": [],
   "source": [
    "torch.save(model, save_path)"
   ]
  },
  {
   "cell_type": "code",
   "execution_count": 63,
   "metadata": {},
   "outputs": [],
   "source": [
    "# 불러오기\n",
    "load_model = torch.load(save_path)"
   ]
  },
  {
   "cell_type": "code",
   "execution_count": 65,
   "metadata": {
    "scrolled": true
   },
   "outputs": [
    {
     "data": {
      "text/plain": [
       "==========================================================================================\n",
       "Layer (type:depth-idx)                   Output Shape              Param #\n",
       "==========================================================================================\n",
       "MNISTModel                               [256, 10]                 --\n",
       "├─Linear: 1-1                            [256, 128]                100,480\n",
       "├─Linear: 1-2                            [256, 64]                 8,256\n",
       "├─Linear: 1-3                            [256, 10]                 650\n",
       "==========================================================================================\n",
       "Total params: 109,386\n",
       "Trainable params: 109,386\n",
       "Non-trainable params: 0\n",
       "Total mult-adds (M): 28.00\n",
       "==========================================================================================\n",
       "Input size (MB): 0.80\n",
       "Forward/backward pass size (MB): 0.41\n",
       "Params size (MB): 0.44\n",
       "Estimated Total Size (MB): 1.65\n",
       "=========================================================================================="
      ]
     },
     "execution_count": 65,
     "metadata": {},
     "output_type": "execute_result"
    }
   ],
   "source": [
    "summary(load_model, (256, 784))"
   ]
  },
  {
   "cell_type": "markdown",
   "metadata": {},
   "source": [
    "## 모델 평가"
   ]
  },
  {
   "cell_type": "code",
   "execution_count": 66,
   "metadata": {},
   "outputs": [
    {
     "name": "stdout",
     "output_type": "stream",
     "text": [
      "test loss: 0.08270736038684845, test accuracy: 0.977\n"
     ]
    }
   ],
   "source": [
    "load_model = load_model.to(device)\n",
    "load_model.eval()\n",
    "\n",
    "test_loss, test_acc = 0.0, 0.0\n",
    "with torch.no_grad():\n",
    "    for X, y in test_loader:\n",
    "        X, y = X.to(device), y.to(device)\n",
    "        # 추정\n",
    "        pred_proba = load_model(X)\n",
    "        # 평가 - loss, accuracy\n",
    "        test_loss += loss_fn(pred_proba, y)\n",
    "        pred_label = pred_proba.argmax(dim=-1)\n",
    "        test_acc += torch.sum(pred_label == y).item()\n",
    "    \n",
    "    #평균\n",
    "    test_loss /= len(test_loader)  # step수\n",
    "    test_acc /= len(test_loader.dataset) # 데이터수\n",
    "print(f\"test loss: {test_loss}, test accuracy: {test_acc}\")    "
   ]
  },
  {
   "cell_type": "markdown",
   "metadata": {
    "slideshow": {
     "slide_type": "slide"
    }
   },
   "source": [
    "## 새로운 데이터 추론"
   ]
  },
  {
   "cell_type": "code",
   "execution_count": 68,
   "metadata": {
    "collapsed": true
   },
   "outputs": [
    {
     "data": {
      "text/plain": [
       "['test_img/num\\\\eight.png',\n",
       " 'test_img/num\\\\eight2.png',\n",
       " 'test_img/num\\\\five.png',\n",
       " 'test_img/num\\\\four.png',\n",
       " 'test_img/num\\\\one.png',\n",
       " 'test_img/num\\\\seven.png',\n",
       " 'test_img/num\\\\seven2.png',\n",
       " 'test_img/num\\\\three.png',\n",
       " 'test_img/num\\\\three2.png',\n",
       " 'test_img/num\\\\two.png']"
      ]
     },
     "execution_count": 68,
     "metadata": {},
     "output_type": "execute_result"
    }
   ],
   "source": [
    "from glob import glob\n",
    "\n",
    "file_list = glob('test_img/num/*.png')\n",
    "file_list"
   ]
  },
  {
   "cell_type": "code",
   "execution_count": 70,
   "metadata": {},
   "outputs": [
    {
     "data": {
      "text/plain": [
       "(torch.Size([10, 28, 28]), tensor(0.), tensor(1.))"
      ]
     },
     "execution_count": 70,
     "metadata": {},
     "output_type": "execute_result"
    }
   ],
   "source": [
    "import cv2\n",
    "\n",
    "file_cnt = len(file_list) #test할 이미지 개수.\n",
    "input_tensor = torch.zeros((file_cnt, 28, 28)) #입력데이터(이미지들)을 저장할 tensor\n",
    "# input_tensor.shape\n",
    "for i in range(file_cnt):\n",
    "    test_img = cv2.imread(file_list[i], cv2.IMREAD_GRAYSCALE)\n",
    "    test_img = cv2.resize(test_img, (28, 28))\n",
    "    input_tensor[i] = transforms.ToTensor()(test_img) \n",
    "    # train set에 적용된 전처리를 적용. 개별 데이터별로 처리.\n",
    "\n",
    "input_tensor.shape, input_tensor.min(), input_tensor.max()"
   ]
  },
  {
   "cell_type": "code",
   "execution_count": 72,
   "metadata": {},
   "outputs": [],
   "source": [
    "# 추론\n",
    "load_model.to(device)\n",
    "load_model.eval()\n",
    "input_tensor = input_tensor.to(device)\n",
    "\n",
    "pred_proba = load_model(input_tensor)\n",
    "# 확률\n",
    "pred_proba = nn.Softmax(dim=-1)(pred_proba)"
   ]
  },
  {
   "cell_type": "code",
   "execution_count": 76,
   "metadata": {
    "scrolled": true
   },
   "outputs": [
    {
     "name": "stdout",
     "output_type": "stream",
     "text": [
      "torch.Size([10, 10])\n"
     ]
    },
    {
     "data": {
      "text/plain": [
       "tensor([[1.5946e-04, 1.5915e-02, 8.8240e-01, 6.7186e-04, 6.9953e-07, 9.5296e-04,\n",
       "         8.2028e-03, 1.2161e-07, 9.1697e-02, 6.3000e-10],\n",
       "        [8.3260e-08, 5.1763e-08, 3.8123e-10, 9.9991e-01, 1.3883e-23, 9.1500e-05,\n",
       "         7.0147e-12, 6.4018e-13, 1.4727e-06, 4.1539e-11],\n",
       "        [6.3789e-09, 1.0228e-08, 7.2196e-07, 3.4050e-06, 3.0921e-08, 9.9946e-01,\n",
       "         2.9865e-06, 2.1595e-10, 5.2169e-04, 1.0704e-05],\n",
       "        [1.4756e-04, 2.2524e-06, 5.2641e-02, 4.0431e-06, 7.8658e-01, 3.4972e-04,\n",
       "         7.3432e-06, 2.5982e-03, 1.6446e-04, 1.5751e-01],\n",
       "        [1.6989e-01, 1.3781e-01, 5.0756e-02, 1.7847e-05, 1.6120e-01, 1.4752e-02,\n",
       "         2.6597e-01, 1.8034e-02, 1.8146e-01, 1.0975e-04],\n",
       "        [5.3307e-07, 1.1613e-03, 7.0471e-05, 3.1179e-05, 1.5757e-07, 6.5434e-08,\n",
       "         8.1346e-10, 9.9873e-01, 8.4905e-06, 2.5545e-06],\n",
       "        [2.1678e-12, 5.3607e-03, 7.4016e-01, 1.8132e-01, 1.7023e-16, 7.8024e-11,\n",
       "         1.2106e-17, 7.3147e-02, 1.4603e-05, 1.4404e-15],\n",
       "        [1.9697e-04, 1.1934e-06, 7.4380e-04, 9.9613e-01, 8.9879e-06, 2.6819e-03,\n",
       "         7.4256e-07, 1.5733e-05, 1.0058e-04, 1.2111e-04],\n",
       "        [3.0642e-06, 2.2321e-06, 1.2109e-05, 9.9750e-01, 4.3303e-08, 8.9655e-04,\n",
       "         1.9358e-07, 2.7148e-08, 1.5795e-03, 9.2952e-06],\n",
       "        [4.7558e-11, 2.2425e-08, 9.9997e-01, 1.3535e-05, 5.9022e-16, 4.6056e-09,\n",
       "         1.3690e-16, 9.4805e-10, 1.2347e-05, 1.4139e-10]],\n",
       "       grad_fn=<SoftmaxBackward0>)"
      ]
     },
     "execution_count": 76,
     "metadata": {},
     "output_type": "execute_result"
    }
   ],
   "source": [
    "print(pred_proba.shape)\n",
    "pred_proba#.sum(dim=-1)"
   ]
  },
  {
   "cell_type": "code",
   "execution_count": 81,
   "metadata": {},
   "outputs": [],
   "source": [
    "# 정답 확률\n",
    "proba = pred_proba.max(dim=-1).values\n",
    "label = pred_proba.argmax(dim=-1)"
   ]
  },
  {
   "cell_type": "code",
   "execution_count": 83,
   "metadata": {},
   "outputs": [
    {
     "data": {
      "text/plain": [
       "(tensor(0.8824, grad_fn=<SelectBackward0>), tensor(2))"
      ]
     },
     "execution_count": 83,
     "metadata": {},
     "output_type": "execute_result"
    }
   ],
   "source": [
    "# 1번의 추정정답\n",
    "proba[0], label[0]"
   ]
  },
  {
   "cell_type": "code",
   "execution_count": 97,
   "metadata": {},
   "outputs": [],
   "source": [
    "proba = torch.round(proba, decimals=2)"
   ]
  },
  {
   "cell_type": "code",
   "execution_count": 101,
   "metadata": {},
   "outputs": [
    {
     "data": {
      "text/plain": [
       "tensor(0.8800)"
      ]
     },
     "execution_count": 101,
     "metadata": {},
     "output_type": "execute_result"
    }
   ],
   "source": [
    "proba[0].detach()"
   ]
  },
  {
   "cell_type": "code",
   "execution_count": 102,
   "metadata": {
    "scrolled": false
   },
   "outputs": [
    {
     "data": {
      "image/png": "[encoded data removed]",
      "text/plain": [
       "<Figure size 1500x700 with 10 Axes>"
      ]
     },
     "metadata": {},
     "output_type": "display_data"
    }
   ],
   "source": [
    "plt.figure(figsize=(15,7))\n",
    "for i in range(file_cnt):\n",
    "    plt.subplot(2, 5, i+1)\n",
    "    plt.imshow(input_tensor[i].to('cpu'), cmap='gray')\n",
    "    plt.title(f\"{proba[i].detach()}-{label[i]}\")\n",
    "plt.tight_layout()\n",
    "plt.show()"
   ]
  },
  {
   "cell_type": "code",
   "execution_count": null,
   "metadata": {},
   "outputs": [],
   "source": []
  },
  {
   "cell_type": "code",
   "execution_count": null,
   "metadata": {},
   "outputs": [],
   "source": []
  },
  {
   "cell_type": "code",
   "execution_count": null,
   "metadata": {},
   "outputs": [],
   "source": []
  },
  {
   "cell_type": "code",
   "execution_count": null,
   "metadata": {},
   "outputs": [],
   "source": []
  }
 ],
 "metadata": {
  "kernelspec": {
   "display_name": "Python 3 (ipykernel)",
   "language": "python",
   "name": "python3"
  },
  "language_info": {
   "codemirror_mode": {
    "name": "ipython",
    "version": 3
   },
   "file_extension": ".py",
   "mimetype": "text/x-python",
   "name": "python",
   "nbconvert_exporter": "python",
   "pygments_lexer": "ipython3",
   "version": "3.8.5"
  },
  "toc": {
   "base_numbering": 1,
   "nav_menu": {},
   "number_sections": false,
   "sideBar": true,
   "skip_h1_title": false,
   "title_cell": "Table of Contents",
   "title_sidebar": "Contents",
   "toc_cell": false,
   "toc_position": {},
   "toc_section_display": true,
   "toc_window_display": false
  },
  "varInspector": {
   "cols": {
    "lenName": 16,
    "lenType": 16,
    "lenVar": 40
   },
   "kernels_config": {
    "python": {
     "delete_cmd_postfix": "",
     "delete_cmd_prefix": "del ",
     "library": "var_list.py",
     "varRefreshCmd": "print(var_dic_list())"
    },
    "r": {
     "delete_cmd_postfix": ") ",
     "delete_cmd_prefix": "rm(",
     "library": "var_list.r",
     "varRefreshCmd": "cat(var_dic_list()) "
    }
   },
   "position": {
    "height": "347.844px",
    "left": "1891px",
    "right": "20px",
    "top": "361px",
    "width": "486px"
   },
   "types_to_exclude": [
    "module",
    "function",
    "builtin_function_or_method",
    "instance",
    "_Feature"
   ],
   "window_display": false
  }
 },
 "nbformat": 4,
 "nbformat_minor": 2
}
