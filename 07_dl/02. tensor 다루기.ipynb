{
 "cells": [
  {
   "cell_type": "markdown",
   "id": "84c0614b",
   "metadata": {},
   "source": [
    "# Tensor 생성"
   ]
  },
  {
   "cell_type": "markdown",
   "id": "06d118ec",
   "metadata": {},
   "source": [
    "##  원하는 형태(shape) 텐서 생성\n",
    "- **torch.tensor(자료구조)**\n",
    "## 특정 타입의 Tensor 생성\n",
    "- **torch.FloatTensor(자료구조)**\n",
    "    - float 타입 텐서 생성\n",
    "- **torch.longTensor(자료구조)** \n",
    "    - int 타입 텐서생성\n",
    "    \n",
    "## tensor 상태 조회\n",
    "- **tensor.shape, tensor.size()**: tensor의 shape조회\n",
    "- **tensor.dtype, tensor.type()**: tensor 원소들의 데이터타입 조회\n",
    "- **tensor.ndim, tensor.dim()**  : tensor 차원\n",
    "- **tensor.numel()**: 전체 원소 개수\n"
   ]
  },
  {
   "cell_type": "code",
   "execution_count": null,
   "id": "8f81163c",
   "metadata": {},
   "outputs": [],
   "source": [
    "import torch"
   ]
  },
  {
   "cell_type": "code",
   "execution_count": null,
   "id": "9869060a",
   "metadata": {},
   "outputs": [],
   "source": [
    "a = torch.tensor([[1,2],[3,4]], dtype=torch.float32)\n",
    "print(\"shape:\", a.shape, a.size())\n",
    "print(\"축별 크기:\", a.shape[0], a.size(0))\n",
    "print(\"type:\", a.type(), a.dtype)\n",
    "print('차원크기:', a.dim(), a.ndim)\n",
    "print('원소개수:', a.numel())"
   ]
  },
  {
   "cell_type": "code",
   "execution_count": null,
   "id": "27f077a1",
   "metadata": {},
   "outputs": [],
   "source": [
    "torch.tensor(range(10))"
   ]
  },
  {
   "cell_type": "code",
   "execution_count": null,
   "id": "e40a7f96",
   "metadata": {},
   "outputs": [],
   "source": [
    "#Float/Long(실수, 정수) type Tensor\n",
    "b = torch.FloatTensor([1,3,7])  #float32\n",
    "print(b.dtype)\n",
    "c = torch.LongTensor([10,20,30]) # int64\n",
    "print(c.dtype)"
   ]
  },
  {
   "cell_type": "markdown",
   "id": "b57bc602",
   "metadata": {},
   "source": [
    "## 특정 값으로 구성된 Tensor 생성\n",
    "- **torch.zeros(), zeros_like()**: 0으로 구성된 tensor 생성\n",
    "- **torch.ones(), ones_like()**: 1로 구성된 tensor생성\n",
    "- **torch.full(), full_like**: 지정한 값으로 구성된 tensor생성\n",
    "    "
   ]
  },
  {
   "cell_type": "code",
   "execution_count": null,
   "id": "801e4ffc",
   "metadata": {
    "scrolled": true
   },
   "outputs": [],
   "source": [
    "torch.zeros(3,2,3)\n",
    "# torch.ones(2,3)\n",
    "# torch.full((3,2), fill_value=100)\n"
   ]
  },
  {
   "cell_type": "code",
   "execution_count": null,
   "id": "1697cfd6",
   "metadata": {},
   "outputs": [],
   "source": [
    "a = torch.tensor([[1, 2],[3,4]])\n",
    "print(a.shape)\n",
    "b = torch.zeros_like(a)\n",
    "# b = torch.ones_like(a)\n",
    "# b = torch.full_like(a, 20)\n",
    "b.shape"
   ]
  },
  {
   "cell_type": "markdown",
   "id": "01301e5c",
   "metadata": {},
   "source": [
    "## 동일한 간격으로 떨어진 값들로 구성된 배열생성\n",
    "- **torch.linspace()**\n",
    "- **torch.arange()**"
   ]
  },
  {
   "cell_type": "code",
   "execution_count": null,
   "id": "f9b9fd1b",
   "metadata": {},
   "outputs": [],
   "source": [
    "torch.arange(10)\n",
    "# torch.arange(0, 1, 0.1)\n",
    "# torch.arange(10, 1, -1)"
   ]
  },
  {
   "cell_type": "code",
   "execution_count": null,
   "id": "afa883dd",
   "metadata": {},
   "outputs": [],
   "source": [
    "torch.linspace(0, 10, 5)\n",
    "# torch.linspace(0, 1, 11)\n"
   ]
  },
  {
   "cell_type": "markdown",
   "id": "f2bd2a03",
   "metadata": {},
   "source": [
    "## 빈 tensor 생성\n",
    "- **torch.empty()**"
   ]
  },
  {
   "cell_type": "code",
   "execution_count": null,
   "id": "f9a865f4",
   "metadata": {},
   "outputs": [],
   "source": [
    "torch.empty((3,2))"
   ]
  },
  {
   "cell_type": "markdown",
   "id": "6ec59585",
   "metadata": {},
   "source": [
    "## 난수를 이용한 생성\n",
    "\n",
    "- **torch.rand()**: 0 ~ 1사이 실수로 구성된 배열을 생성. 각 값은 균등분포를 따른다.\n",
    "- **torch.randn()**: 표준정규분포(평균:0, 표준편차:1)를 따르는 실수로 구성된 배열 생성\n",
    "- **torch.randint()**: 지정한 범위의 정수로 구성된 배열 생성\n",
    "- **torch.randperm(n)**: 0 ~ n 사이의 정수를 섞은 값을 원소로 가지는 배열 생성"
   ]
  },
  {
   "cell_type": "code",
   "execution_count": null,
   "id": "def1448b",
   "metadata": {},
   "outputs": [],
   "source": [
    "# torch.manual_seed(1004)  # seed 설정\n",
    "torch.rand(100)\n",
    "# torch.randn(3,3)\n",
    "# torch.randint(1, 10, (3,3))  \n",
    "# torch.randperm(5)"
   ]
  },
  {
   "cell_type": "markdown",
   "id": "eb9df51a",
   "metadata": {},
   "source": [
    "## tensor를 상수로 변환\n",
    "- tensor.item()\n",
    "    - 상수 tensor를 python 상수로 변환"
   ]
  },
  {
   "cell_type": "code",
   "execution_count": null,
   "id": "9e24dc70",
   "metadata": {
    "scrolled": true
   },
   "outputs": [],
   "source": [
    "a = torch.tensor(10)\n",
    "print(a)\n",
    "print(a.item())"
   ]
  },
  {
   "cell_type": "code",
   "execution_count": null,
   "id": "d62c3168",
   "metadata": {},
   "outputs": [],
   "source": [
    "b = torch.tensor([20])\n",
    "print(b)\n",
    "print(b.item()) #원소가 하나인 배열 변환 가능"
   ]
  },
  {
   "cell_type": "code",
   "execution_count": null,
   "id": "cefb6f7b",
   "metadata": {
    "scrolled": true
   },
   "outputs": [],
   "source": [
    "c = torch.tensor([1, 10, 100])\n",
    "print(c)\n",
    "# print(c.item()) #원소가 여러개일 경우 Exception발생"
   ]
  },
  {
   "cell_type": "code",
   "execution_count": null,
   "id": "06f1ae95",
   "metadata": {},
   "outputs": [],
   "source": [
    "d = torch.tensor([10], device='cuda')\n",
    "print(d)\n",
    "print(d.item())"
   ]
  },
  {
   "cell_type": "markdown",
   "id": "a8709f0b",
   "metadata": {},
   "source": [
    "## ndarray 호환\n",
    "\n",
    "- ndarray를 tensor로 생성\n",
    "    - **torch.tensor(ndarray)**\n",
    "    - **torch.from_numpy(ndarray)**\n",
    "- tensor를 ndarray로 변환\n",
    "    - **ndarray.numpy()**\n",
    "    - tensor가 gpu에 있을 경우 cpu로 옮긴 뒤 변환해야 한다."
   ]
  },
  {
   "cell_type": "code",
   "execution_count": null,
   "id": "ff396b21",
   "metadata": {},
   "outputs": [],
   "source": [
    "import numpy as np\n",
    "import torch"
   ]
  },
  {
   "cell_type": "code",
   "execution_count": null,
   "id": "2c1d1b90",
   "metadata": {},
   "outputs": [],
   "source": [
    "# ndarray -> tensor\n",
    "arr = np.arange(1,10)\n",
    "\n",
    "torch.tensor(arr)\n",
    "torch.from_numpy(arr)"
   ]
  },
  {
   "cell_type": "code",
   "execution_count": null,
   "id": "4a5fa181",
   "metadata": {},
   "outputs": [],
   "source": [
    "# tensor -> ndarray\n",
    "t = torch.randn(3,3)\n",
    "print(t)\n",
    "t.numpy()"
   ]
  },
  {
   "cell_type": "code",
   "execution_count": null,
   "id": "d85bf50c",
   "metadata": {},
   "outputs": [],
   "source": [
    "t2 = torch.randn(2,2, device=\"cuda\")\n",
    "t2"
   ]
  },
  {
   "cell_type": "code",
   "execution_count": null,
   "id": "28c9d47a",
   "metadata": {
    "scrolled": true
   },
   "outputs": [],
   "source": [
    "t2.numpy() \n",
    "# t2.to(\"cpu\").numpy()"
   ]
  },
  {
   "cell_type": "markdown",
   "id": "d8494a6a",
   "metadata": {},
   "source": [
    "## Tensor gpu/cpu 메모리로 옮기기\n",
    "\n",
    "- pytorch는 데이터셋인 tensor를 cpu메모리와 gpu 메모리로 옮길 수 있다.\n",
    "    - 데이터에 대한 연산처리를 어디서 하느냐에 따라 메모리를 선택한다.\n",
    "    - 장치는 문자열로 설정한다.\n",
    "        - CPU 사용: \"cpu\"\n",
    "        - nvida GPU: \"cuda\"\n",
    "        - Apple m1: \"mps\"\n",
    "            - pytorch 1.12 부터 지원\n",
    "- 옮기기\n",
    "    - tensor 생성시 `device` 파라미터를 이용해 설정\n",
    "    - `tensor.to(device)`를 이용해 설정\n",
    "- 현재 실행환경에서 어떤 장비를 사용할 수 있는지 확인\n",
    "    - nvidia gpu 사용가능확인\n",
    "        - `torch.cuda.is_available()` - nvida gpu 사용가능 여부\n",
    "        - `torch.backends.mps.is_available()` - M1 사용가능 여부"
   ]
  },
  {
   "cell_type": "code",
   "execution_count": null,
   "id": "9bf69bd8",
   "metadata": {},
   "outputs": [],
   "source": [
    "device = 'cuda' if torch.cuda.is_available() else 'mps' if torch.backends.mps.is_available() else 'cpu'\n",
    "device"
   ]
  },
  {
   "cell_type": "code",
   "execution_count": null,
   "id": "92ffadca",
   "metadata": {},
   "outputs": [],
   "source": [
    "t = torch.tensor([1, 2, 3], dtype=torch.float32, device=device)\n",
    "t\n",
    "\n",
    "# t2 = t.to(\"cpu\")\n",
    "# t2"
   ]
  },
  {
   "cell_type": "markdown",
   "id": "f10f4911",
   "metadata": {},
   "source": [
    "# 원소 조회및 변경 - indexing/slicing\n",
    "\n",
    "- 대부분 Numpy 와 동일\n",
    "    - slicing에서 step을 음수로 지정할 수 없다.\n"
   ]
  },
  {
   "cell_type": "code",
   "execution_count": null,
   "id": "2300078c",
   "metadata": {},
   "outputs": [],
   "source": [
    "t = torch.randint(-10, 10, (100, ))\n",
    "t"
   ]
  },
  {
   "cell_type": "code",
   "execution_count": null,
   "id": "a28537ed",
   "metadata": {},
   "outputs": [],
   "source": [
    "t[0], t[[1, 5, -1]]"
   ]
  },
  {
   "cell_type": "code",
   "execution_count": null,
   "id": "73763041",
   "metadata": {},
   "outputs": [],
   "source": [
    "t[:5]\n",
    "t[10:15]\n",
    "t[90:]\n",
    "t[3:30:3]\n",
    "# t[10:1:-2]  #에러\n",
    "t[1:10:2].flip(dims=(0,))#reverse"
   ]
  },
  {
   "cell_type": "code",
   "execution_count": null,
   "id": "81965586",
   "metadata": {},
   "outputs": [],
   "source": [
    "# boolean index\n",
    "t[t > 0]"
   ]
  },
  {
   "cell_type": "code",
   "execution_count": null,
   "id": "03a01027",
   "metadata": {},
   "outputs": [],
   "source": [
    "# 변경\n",
    "t[0] = 100\n",
    "t"
   ]
  },
  {
   "cell_type": "code",
   "execution_count": null,
   "id": "49419f63",
   "metadata": {},
   "outputs": [],
   "source": [
    "t = torch.arange(1, 10).reshape(3,3)\n",
    "t"
   ]
  },
  {
   "cell_type": "code",
   "execution_count": null,
   "id": "15855bcf",
   "metadata": {},
   "outputs": [],
   "source": [
    "t[[1,0], [2,2]]  #(1,2), (0,2)"
   ]
  },
  {
   "cell_type": "code",
   "execution_count": null,
   "id": "e3b3d582",
   "metadata": {},
   "outputs": [],
   "source": []
  },
  {
   "cell_type": "markdown",
   "id": "a02f14d8",
   "metadata": {},
   "source": [
    "# Reshape"
   ]
  },
  {
   "cell_type": "markdown",
   "id": "221e70f8",
   "metadata": {},
   "source": [
    "## shape 변경\n",
    "- reshape() / view() 이용\n",
    "    - 변환 후 값을 변경하면 원본 배열의 값도 같이 바뀐다.\n",
    " > tensor.clone(): tensor를 복제한다."
   ]
  },
  {
   "cell_type": "code",
   "execution_count": null,
   "id": "71f88268",
   "metadata": {},
   "outputs": [],
   "source": [
    "a=torch.rand(12)\n",
    "a2 = a.reshape(3,4)\n",
    "a3 = a.reshape((3,2,2))\n",
    "a4 = a.reshape((3,2,-1))  #한개 axis는 -1로 설정가능\n",
    "print(a.shape, a2.size(), a3.shape, a4.shape)\n",
    "               "
   ]
  },
  {
   "cell_type": "code",
   "execution_count": null,
   "id": "6744974f",
   "metadata": {},
   "outputs": [],
   "source": [
    "a5 = a.view(3,4)\n",
    "a6 = a.view((3,2,2))\n",
    "a7 = a.view((3,2,-1))  #한개 axis는 -1로 설정가능\n",
    "print(a.shape, a5.size(), a6.shape, a7.shape)"
   ]
  },
  {
   "cell_type": "code",
   "execution_count": null,
   "id": "82f850ef",
   "metadata": {},
   "outputs": [],
   "source": [
    "a"
   ]
  },
  {
   "cell_type": "code",
   "execution_count": null,
   "id": "8ace33cf",
   "metadata": {},
   "outputs": [],
   "source": [
    "a5[0, 0] = 12.1\n",
    "a2[0, 1] = 15.1\n",
    "\n",
    "print(a)"
   ]
  },
  {
   "cell_type": "code",
   "execution_count": null,
   "id": "88561ee6",
   "metadata": {
    "scrolled": false
   },
   "outputs": [],
   "source": [
    "# tensor복사: clone() 메소드\n",
    "r = a.clone().reshape(3,4)\n",
    "r[0,0] = 100.1\n",
    "print(a)"
   ]
  },
  {
   "cell_type": "markdown",
   "id": "fa8c2fa4",
   "metadata": {},
   "source": [
    "## dummy 축 늘리기\n",
    "\n",
    "- None을 이용\n",
    "- unsqueeze()"
   ]
  },
  {
   "cell_type": "code",
   "execution_count": null,
   "id": "356a078c",
   "metadata": {},
   "outputs": [],
   "source": [
    "import torch\n",
    "a = torch.tensor([[10,20],[10,20]])\n",
    "print(a.shape)\n",
    "\n",
    "# a1, a2 = a[None, :], torch.unsqueeze(a, dim=0)\n",
    "# print(a1.shape, a2.shape)\n",
    "\n",
    "# a3, a4 = a[:, :, None], torch.unsqueeze(a, dim=-1)  #None 사용시 모든 축에 :를 붙인다.\n",
    "# print(a3.shape, a4.shape)\n",
    "\n",
    "# a5, a6 = a3[:,None,:,:], torch.unsqueeze(a3, dim=1)\n",
    "# print(a5.shape, a6.shape)"
   ]
  },
  {
   "cell_type": "markdown",
   "id": "9947b6ac",
   "metadata": {},
   "source": [
    "## dummy 축 제거\n",
    "- `squeeze()` 이용"
   ]
  },
  {
   "cell_type": "code",
   "execution_count": null,
   "id": "4e40b9cf",
   "metadata": {},
   "outputs": [],
   "source": [
    "t = torch.rand(3, 1, 3, 1)\n",
    "print(t.shape)\n",
    "\n",
    "# r1 = t.squeeze()  #모두 제거\n",
    "# print(r1.shape)\n",
    "\n",
    "# r2 = t.squeeze(dim=1) # 특정 axis 제거\n",
    "# print(r2.shape)\n",
    "\n",
    "# r3 = t.squeeze(dim=[1,3]) # 여러 axis의 dummy 축 제거\n",
    "# print(r3.shape)"
   ]
  },
  {
   "cell_type": "markdown",
   "id": "b3018717",
   "metadata": {},
   "source": [
    "## tensor 합치기\n",
    "torch.cat([tensorA, tensorB, ...], dim=0)"
   ]
  },
  {
   "cell_type": "code",
   "execution_count": null,
   "id": "7564c2b5",
   "metadata": {},
   "outputs": [],
   "source": [
    "a = torch.arange(10).reshape(2,5)\n",
    "b = torch.arange(10,20).reshape(2,5)\n",
    "c = torch.arange(20,30).reshape(2,5)\n",
    "d = torch.arange(10,19).reshape(3,3)\n",
    "print(a)\n",
    "print(b)\n",
    "print(c)\n",
    "print(d)"
   ]
  },
  {
   "cell_type": "code",
   "execution_count": null,
   "id": "a633d695",
   "metadata": {},
   "outputs": [],
   "source": [
    "torch.cat([a, b], dim=0) # dim 대신 axis사용가능"
   ]
  },
  {
   "cell_type": "code",
   "execution_count": null,
   "id": "6ee08217",
   "metadata": {},
   "outputs": [],
   "source": [
    "torch.cat([a, b, c], dim=0)"
   ]
  },
  {
   "cell_type": "code",
   "execution_count": null,
   "id": "edb2f33a",
   "metadata": {},
   "outputs": [],
   "source": [
    "torch.cat([a, b], axis=1) # dim 대신 axis사용가능"
   ]
  },
  {
   "cell_type": "code",
   "execution_count": null,
   "id": "25f7277a",
   "metadata": {},
   "outputs": [],
   "source": [
    "torch.cat([a, b, c], axis=1)"
   ]
  },
  {
   "cell_type": "code",
   "execution_count": null,
   "id": "82477d9e",
   "metadata": {},
   "outputs": [],
   "source": [
    "torch.cat([a, b], axis=-1)"
   ]
  },
  {
   "cell_type": "code",
   "execution_count": null,
   "id": "f441999c",
   "metadata": {},
   "outputs": [],
   "source": [
    "# torch.cat([a, d])  #Error"
   ]
  },
  {
   "cell_type": "markdown",
   "id": "c1aaa81f",
   "metadata": {},
   "source": [
    "## 축변경\n",
    "- tensor.transpose(axis1, axis2) \n",
    "    - tensor의 두 축의 자리를 변경한다. \n",
    "- tensor.permute(axis1, axis2, axis3, ..)\n",
    "    - tensor의 두개 이상의 축의 자리를 변경한다."
   ]
  },
  {
   "cell_type": "code",
   "execution_count": null,
   "id": "c621ab2d",
   "metadata": {},
   "outputs": [],
   "source": [
    "X = torch.arange(24).reshape(2, 3, 4)\n",
    "print(X.shape)\n",
    "\n",
    "# y = X.transpose(1, 2)\n",
    "# print(y.shape)\n",
    "\n",
    "# z = X.permute(2, 0, 1)\n",
    "# print(z.shape)"
   ]
  },
  {
   "cell_type": "markdown",
   "id": "2bfe8a88",
   "metadata": {},
   "source": [
    "# tensor 연산 및 주요 함수\n",
    "\n",
    "## element-wise 연산\n",
    "- tensor와 상수 연산시, tensor와 tensor간 연산시 원소별로 처리한다.\n",
    "- 행렬곱 연산을 제외하고 tensor간 연산시 피연산지 tensor간에 shape이 같아야 한다.\n",
    "    - shape이 다를 경우 조건이 맞으면 broadcasting을 한 뒤에 연산한다. (size가 다른 축의 경우 한개의 피연산자 size가 1일 경우 복사하여 shape을 맞춘다.)\n",
    "    "
   ]
  },
  {
   "cell_type": "code",
   "execution_count": null,
   "id": "85d3d7a3",
   "metadata": {},
   "outputs": [],
   "source": [
    "import torch\n",
    "\n",
    "a = torch.arange(10).reshape(2,5)\n",
    "b = torch.arange(10,20).reshape(2,5)\n",
    "c = torch.arange(50, 55)\n",
    "\n",
    "print(a)\n",
    "print(b)\n",
    "print(c)"
   ]
  },
  {
   "cell_type": "code",
   "execution_count": null,
   "id": "24f4f435",
   "metadata": {},
   "outputs": [],
   "source": [
    "print(a + 100)\n",
    "# print(a - 100)\n",
    "# print(a < 5)"
   ]
  },
  {
   "cell_type": "code",
   "execution_count": null,
   "id": "1a5ed369",
   "metadata": {},
   "outputs": [],
   "source": [
    "print(a + b)\n",
    "# print(a == b)"
   ]
  },
  {
   "cell_type": "code",
   "execution_count": null,
   "id": "15256a5e",
   "metadata": {},
   "outputs": [],
   "source": [
    "# broadcasting\n",
    "print(a + c)"
   ]
  },
  {
   "cell_type": "markdown",
   "id": "729874b2",
   "metadata": {},
   "source": [
    "## 주요 연산자"
   ]
  },
  {
   "cell_type": "code",
   "execution_count": null,
   "id": "6fc6ac19",
   "metadata": {},
   "outputs": [],
   "source": [
    "x=torch.arange(-4, 5).reshape(3,3)\n",
    "y = x + torch.randn((3,3))\n",
    "print(x)\n",
    "print(torch.abs(x))\n",
    "# print(torch.sqrt(torch.abs(x)))\n",
    "# print(torch.exp(x))  # torch.e**x\n",
    "# print(torch.log(torch.abs(x)))\n",
    "# print(torch.log(torch.exp(torch.tensor(1)))) # torch.log() 밑이 e인 로그계산\n",
    "# print(torch.log10(torch.tensor(10)))         # torch.log10() 밑이 10인 로그계산\n",
    "# print(torch.log2(torch.tensor(2)))           # torch.log2() 밑이 2인 로그계산\n",
    "# print(\"=====================\")\n",
    "# print(y)\n",
    "# print(torch.round(y)) # 반올림\n",
    "# print(torch.round(y, decimals=2)) # 소수점 둘째자리까지\n",
    "# print(torch.floor(y)) # 내림\n",
    "# print(torch.ceil(y)) # 올림"
   ]
  },
  {
   "cell_type": "markdown",
   "id": "1c85a8b6",
   "metadata": {},
   "source": [
    "## torch.nan, torch.inf\n",
    "- nan: Not a Number, 주로 결측치를 표현한다.\n",
    "- inf: infinit 무한. \n",
    "    - torch.inf: 양의 무한\n",
    "    - -torch.inf: 음의 무한\n",
    "- torch.isnan(tensor)\n",
    "    - 원소별 결측치 확인\n",
    "- torch.isinf(tensor)    \n",
    "    - 원소별 inf 확인"
   ]
  },
  {
   "cell_type": "code",
   "execution_count": null,
   "id": "7a051744",
   "metadata": {},
   "outputs": [],
   "source": [
    "print(torch.inf > 10, torch.inf < 10)\n",
    "print(-torch.inf < 10, -torch.inf > 10)"
   ]
  },
  {
   "cell_type": "code",
   "execution_count": null,
   "id": "d722e6c4",
   "metadata": {},
   "outputs": [],
   "source": [
    "print(torch.log(torch.tensor(-1))) # nan \n",
    "# print(torch.isnan(torch.tensor([1,2,torch.nan,3,4])))  # nan 여부 확인\n",
    "# print(torch.isinf(torch.tensor([1,2,3,4,torch.inf])))  # inf 여부 확인"
   ]
  },
  {
   "cell_type": "markdown",
   "id": "2214bd73",
   "metadata": {},
   "source": [
    "## 기술통계함수"
   ]
  },
  {
   "cell_type": "code",
   "execution_count": null,
   "id": "11a0d448",
   "metadata": {},
   "outputs": [],
   "source": [
    "X=torch.randn(3,4)\n",
    "print(X)"
   ]
  },
  {
   "cell_type": "code",
   "execution_count": null,
   "id": "7b696371",
   "metadata": {},
   "outputs": [],
   "source": [
    "print(torch.sum(X))\n",
    "# print(torch.sum(X, dim=1))\n",
    "# print(torch.sum(X, dim=1,keepdims=True))\n",
    "\n",
    "# print(torch.mean(X))\n",
    "# print(torch.mean(X, dim=1))\n",
    "# print(torch.mean(X, dim=1,keepdims=True))\n",
    "\n",
    "# print(torch.std(X)) # standard deviation 표준 편차\n",
    "# print(torch.var(X)) # variance\n",
    "# print(torch.var(X, dim=0))\n",
    "\n",
    "# print(X.sum(dim=1, keepdims=True))\n",
    "# print(X.mean(dim=1, keepdims=True))\n",
    "# print(X.std())"
   ]
  },
  {
   "cell_type": "code",
   "execution_count": null,
   "id": "afe123ff",
   "metadata": {},
   "outputs": [],
   "source": [
    "# print(torch.max(X))\n",
    "# print(torch.max(X, dim=0))  # return_types.max 타입객체로 반환. max값과 max값의 index를 묶어서 반환\n",
    "# print(torch.max(X, dim=1))\n",
    "# print(torch.max(X, dim=1).values, torch.max(X, dim=1).indices, sep=\" || \")\n",
    "# print(torch.max(X, dim=0, keepdims=True))  #keepdims=True : 차원(rank)를 유지\n",
    "# # print(torch.max(X, dim=1, keepdims=True))\n",
    "\n",
    "# print(torch.min(X))\n",
    "# print(torch.min(X, dim=0))\n",
    "# print(torch.min(X, dim=1))\n",
    "\n",
    "# print(torch.argmax(X))\n",
    "# print(torch.argmax(X, dim=0)) # 각 열에서 가장 큰 애가 존재하는 인덱스\n",
    "# print(torch.argmax(X, dim=1)) # 각 행에서 가장 큰 애가 존재하는 인덱스"
   ]
  },
  {
   "cell_type": "markdown",
   "id": "4a1141fc",
   "metadata": {},
   "source": [
    "## 선형회귀"
   ]
  },
  {
   "cell_type": "markdown",
   "id": "358832d4",
   "metadata": {},
   "source": [
    "### 행렬곱\n",
    "- `@` 연산자 또는 `torch.matmul(tensor1, tensor2)` 함수 이용"
   ]
  },
  {
   "cell_type": "code",
   "execution_count": null,
   "id": "ac6cfff6",
   "metadata": {},
   "outputs": [],
   "source": [
    "import torch"
   ]
  },
  {
   "cell_type": "code",
   "execution_count": null,
   "id": "eb349ca8",
   "metadata": {},
   "outputs": [],
   "source": [
    "x = torch.FloatTensor([[1, 2],\n",
    "                       [3, 4],\n",
    "                       [5, 6]\n",
    "                      ])\n",
    "\n",
    "y = torch.FloatTensor([[1, 2],\n",
    "                       [1, 2],\n",
    "                      ])\n",
    "x.size(), y.shape"
   ]
  },
  {
   "cell_type": "code",
   "execution_count": null,
   "id": "4283adae",
   "metadata": {},
   "outputs": [],
   "source": [
    "z1 = x @ y\n",
    "z2 = torch.matmul(x, y)\n",
    "print(z1.shape, z2.shape)\n",
    "print(z1)\n",
    "print(z2)"
   ]
  },
  {
   "cell_type": "code",
   "execution_count": null,
   "id": "004d5f21",
   "metadata": {},
   "outputs": [],
   "source": [
    "# Batch 행렬곱(Batch matrix muliplication)\n",
    "# x, y가 가지는 3개의 2차원 배열 간에 행렬곱을 처리한다.\n",
    "x = torch.FloatTensor(3,4,2)\n",
    "y = torch.FloatTensor(3,2,5)\n",
    "z = torch.bmm(x, y)\n",
    "z.shape"
   ]
  },
  {
   "cell_type": "markdown",
   "id": "a02bf59a",
   "metadata": {},
   "source": [
    "# autograd(자동미분)\n",
    "- 자동 미분을 이용해 gradient를 계산하는 pytorch system.\n",
    "- 딥러닝 모델에서 weight와 bias tensor들은 backpropagation(역전파)를 이용해 gradient를 구해서 loss가 줄어드는 방향으로 update를 하게된다.\n",
    "- pytorch는 이런 미분 수행을 자동으로 처리해 준다.\n",
    "    - gradient(기울기)를 구한다는 것은 미분을 한다는 것을 말한다.\n",
    "- tensor가 미분 가능하려면 `requires_grad=True` 로 설정되 있어야 한다. (default: False)\n",
    "    "
   ]
  },
  {
   "cell_type": "code",
   "execution_count": null,
   "id": "8baff6a3",
   "metadata": {},
   "outputs": [],
   "source": [
    "x = torch.tensor([1.], requires_grad=True)\n",
    "# x = torch.tensor([1.])\n",
    "# x.requires_grad = True\n",
    "print(x)\n",
    "print(x.requires_grad)"
   ]
  },
  {
   "cell_type": "code",
   "execution_count": null,
   "id": "e7cb2702",
   "metadata": {},
   "outputs": [],
   "source": [
    "y = x ** 2\n",
    "print(y)\n",
    "# 계산 결과를 담은 tensor인 y는 계산 결과와 grad_fn에 어떤 계산을 했는지 정보를 담고 있다. (PowBackward0)\n",
    "# 이는 y 계산에 사용된 x가 requires_grad=True이기 때문이다."
   ]
  },
  {
   "cell_type": "code",
   "execution_count": null,
   "id": "1b68cf45",
   "metadata": {},
   "outputs": [],
   "source": [
    "# 미분 - tensor.backward() 호출\n",
    "y.backward()   # dy/dx  gradient 계산 후 결과를 x의 grad attribute에 저장한다."
   ]
  },
  {
   "cell_type": "code",
   "execution_count": null,
   "id": "e7977be9",
   "metadata": {},
   "outputs": [],
   "source": [
    "x.grad\n",
    "# 도함수: y` = 2x 이고 x가 1이었으므로 grad는 2"
   ]
  },
  {
   "cell_type": "code",
   "execution_count": null,
   "id": "4eb57a8f",
   "metadata": {},
   "outputs": [],
   "source": [
    "# requires_grad가 True로 설정되 있느 않은 경우\n",
    "# x = torch.tensor([1.])\n",
    "# y = x ** 2\n",
    "# y.backward()"
   ]
  },
  {
   "cell_type": "code",
   "execution_count": null,
   "id": "94cc4fbf",
   "metadata": {},
   "outputs": [],
   "source": [
    "x = torch.tensor([1.], requires_grad=True)\n",
    "y = x ** 2   # 미분: 2x\n",
    "z = y * 10   # 미분: 10  ===> 2x * 10\n",
    "\n",
    "z.backward()\n",
    "print(x.grad)"
   ]
  },
  {
   "cell_type": "code",
   "execution_count": null,
   "id": "6ad085db",
   "metadata": {},
   "outputs": [],
   "source": [
    "## 편미분\n",
    "x=torch.tensor([1.],requires_grad=True)\n",
    "y=torch.tensor([1.],requires_grad=True)\n",
    "z= 2*x**2 + y**2\n",
    "print(z)\n",
    "z.backward() \n",
    "print(x.grad)  #dz/dx\n",
    "print(y.grad)  #dz/dy"
   ]
  },
  {
   "cell_type": "code",
   "execution_count": null,
   "id": "f565af37",
   "metadata": {},
   "outputs": [],
   "source": [
    "x=torch.tensor([1., 2., 3.] ,requires_grad=True)\n",
    "y=torch.sum(x**2) # [x1**2 + x2**2 + x3**2]  \n",
    "y.backward() #[dy/dx1, dy/dx2, dy/dx3] = [2x1, 2x2, 2x3]\n",
    "\n",
    "print(y)\n",
    "print(x.grad) # 스칼라를 벡터로 미분"
   ]
  },
  {
   "cell_type": "markdown",
   "id": "a304c280",
   "metadata": {},
   "source": [
    "## torch.no_grad() \n",
    "- no_grad() 구문에서 연산을 할 겨우 requires_grad=True로 설정되었다 하더라도 gradient를 update하지 않는다.\n",
    "- 딥러닝 모델 학습이 끝나고 평가할 때는 gradient를 계산할 필요가 없기 때문에 no_grad 구문을 사용한다.\n"
   ]
  },
  {
   "cell_type": "code",
   "execution_count": null,
   "id": "d3b29ea8",
   "metadata": {},
   "outputs": [],
   "source": [
    "x = torch.tensor(1.0, requires_grad = True)\n",
    "print(x.requires_grad)\n",
    "\n",
    "\n",
    "print(x.requires_grad)\n",
    "y = x**2\n",
    "print(y.requires_grad)  # 연산이 결과 requires_grad도 True -> 그래야 미분이 가능하므로.\n",
    "\n",
    "print(x.requires_grad)\n",
    "y.backward()\n",
    "print(x.grad)\n"
   ]
  },
  {
   "cell_type": "code",
   "execution_count": null,
   "id": "8616db37",
   "metadata": {},
   "outputs": [],
   "source": [
    "x = torch.tensor(1.0, requires_grad = True)\n",
    "print(x.requires_grad)\n",
    "\n",
    "with torch.no_grad():\n",
    "    print(x.requires_grad)\n",
    "    y = x**2\n",
    "    print(y.requires_grad)# 연산이 적용될 때 requires_grad가 False가 된다.\n",
    "print(x.requires_grad)\n",
    "# y.backward()\n"
   ]
  },
  {
   "cell_type": "markdown",
   "id": "b3811c4b",
   "metadata": {},
   "source": [
    "## gradient 값 초기화"
   ]
  },
  {
   "cell_type": "code",
   "execution_count": null,
   "id": "dff76eb5",
   "metadata": {},
   "outputs": [],
   "source": [
    "x = torch.tensor(1., requires_grad=True)\n",
    "y = x**2\n",
    "y.backward()\n",
    "print(\"x의 gradient값:\", x.grad )"
   ]
  },
  {
   "cell_type": "code",
   "execution_count": null,
   "id": "8af26a6c",
   "metadata": {},
   "outputs": [],
   "source": [
    "x"
   ]
  },
  {
   "cell_type": "code",
   "execution_count": null,
   "id": "8170c9ef",
   "metadata": {},
   "outputs": [],
   "source": [
    "z = x **2\n",
    "z.backward()\n",
    "print(\"x의 gradient값:\", x.grad )\n"
   ]
  },
  {
   "cell_type": "code",
   "execution_count": null,
   "id": "b607fca2",
   "metadata": {},
   "outputs": [],
   "source": [
    "x = torch.tensor(1., requires_grad=True)\n",
    "y = x**2\n",
    "y.backward()\n",
    "x.grad"
   ]
  },
  {
   "cell_type": "code",
   "execution_count": null,
   "id": "332ec8eb",
   "metadata": {},
   "outputs": [],
   "source": [
    "# gradient초기화\n",
    "x.grad = torch.tensor(0.)   \n",
    "z = x**2\n",
    "z.backward()\n",
    "x.grad"
   ]
  },
  {
   "cell_type": "code",
   "execution_count": null,
   "id": "ba648ffa",
   "metadata": {},
   "outputs": [],
   "source": []
  }
 ],
 "metadata": {
  "kernelspec": {
   "display_name": "Python 3 (ipykernel)",
   "language": "python",
   "name": "python3"
  },
  "language_info": {
   "codemirror_mode": {
    "name": "ipython",
    "version": 3
   },
   "file_extension": ".py",
   "mimetype": "text/x-python",
   "name": "python",
   "nbconvert_exporter": "python",
   "pygments_lexer": "ipython3",
   "version": "3.10.11"
  },
  "toc": {
   "base_numbering": 1,
   "nav_menu": {},
   "number_sections": true,
   "sideBar": true,
   "skip_h1_title": false,
   "title_cell": "Table of Contents",
   "title_sidebar": "Contents",
   "toc_cell": false,
   "toc_position": {},
   "toc_section_display": true,
   "toc_window_display": false
  },
  "varInspector": {
   "cols": {
    "lenName": 16,
    "lenType": 16,
    "lenVar": 40
   },
   "kernels_config": {
    "python": {
     "delete_cmd_postfix": "",
     "delete_cmd_prefix": "del ",
     "library": "var_list.py",
     "varRefreshCmd": "print(var_dic_list())"
    },
    "r": {
     "delete_cmd_postfix": ") ",
     "delete_cmd_prefix": "rm(",
     "library": "var_list.r",
     "varRefreshCmd": "cat(var_dic_list()) "
    }
   },
   "types_to_exclude": [
    "module",
    "function",
    "builtin_function_or_method",
    "instance",
    "_Feature"
   ],
   "window_display": false
  }
 },
 "nbformat": 4,
 "nbformat_minor": 5
}
