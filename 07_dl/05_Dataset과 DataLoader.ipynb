{
 "cells": [
  {
   "cell_type": "markdown",
   "metadata": {
    "jp-MarkdownHeadingCollapsed": true
   },
   "source": [
    "# Dataset 과 DataLoader\n",
    "\n",
    "- 딥러닝 모델을 학습시키고 평가할때 사용할 데이터를 제공하기 위한 객체\n",
    "- **torch.utils.data.Dataset** \n",
    "    - input/output dataset을 저장한다.\n",
    "        - data augmentation 등을 처리할 수 있다.\n",
    "    - subscriptable, iterable 타입. \n",
    "    > subscriptable타입: indexing을 이용해 원소 조회가 가능한 타입)\n",
    "    --> 사용자 정의 dataset이나 pytorch제공 dataset도 있다. 또한 bu\n",
    "- **torch.utils.data.DataLoader**\n",
    "    - Dataset의 데이터를 제공하는 Iterable 객체.\n",
    "    - Dataset이 가지고 있는 데이터를 어떻게 제공할 지 설정한다.\n",
    "        - batch size 등을 설정한다."
   ]
  },
  {
   "cell_type": "markdown",
   "metadata": {},
   "source": [
    "# Built-in Dataset\n",
    "\n",
    "- 파이토치는 분야별 공개 데이터셋을 종류별로 torchvision, torchtext, torchaudio 모듈을 통해 제공한다.\n",
    "- 모든 built-in dataset은 [`torch.utils.data.Datase`](https://pytorch.org/docs/stable/data.html#torch.utils.data.Dataset)의 하위클래스로 구현되있다.\n",
    "    - [computer vision dataset](https://pytorch.org/vision/stable/datasets.html)\n",
    "    - [text dataset](https://pytorch.org/text/stable/datasets.html)\n",
    "    - [audio dataset](https://pytorch.org/audio/stable/datasets.html)"
   ]
  },
  {
   "cell_type": "markdown",
   "metadata": {},
   "source": [
    "## Image  Built-in dataset Loading\n",
    "torchvision 모듈을 통해 다양한 오픈소스 이미지 데이터셋을 loading할 수 있는 Dataset 클래스를 제공한다.\n",
    "\n",
    "- 각 Dataset 클래스의 주요 매개변수\n",
    "    - **root**: str\n",
    "        - Raw data를 저장할 디렉토리 경로\n",
    "    - **train**: bool\n",
    "        - True일경우 Train set을 False일 경우 Test set을 load\n",
    "    - **download**: bool\n",
    "        - True이면 root에 지정된 경로에 raw 데이터를 인터셋에서 download할지 여부. 이미 저장되 있는 경우 download하지 않는다.\n",
    "        - default값이 False이고 download하지 않는것을 의미\n",
    "    - **transform**: function\n",
    "        - Loading한 이미지를 변환하는 function.\n",
    "            - Normalization이나 data Agumentation 처리를 한다."
   ]
  },
  {
   "cell_type": "code",
   "execution_count": 2,
   "metadata": {},
   "outputs": [],
   "source": [
    "import torch\n",
    "import torch.nn as nn\n",
    "from torchvision import datasets\n",
    "import numpy as np"
   ]
  },
  {
   "cell_type": "code",
   "execution_count": 3,
   "metadata": {},
   "outputs": [],
   "source": [
    "# data 저장할 directory 경로 변수\n",
    "## MNIST용 사용자 정의 dataset\n",
    "DATASET_PATH='datasets' # 상대경로, 절대경로 상관없다.\n",
    "mnist_trainset=datasets.MNIST(root=DATASET_PATH, # 원본데이터가 위치한 디렉토리\n",
    "                              train=True, # True :Trainset, False : Testset\n",
    "                              download=True, # root 경로에 dataset이 없을 경우 dwonload 받을지 여부(default : False), transfrom = 데이터 변환함수\n",
    "                             )\n",
    "mnist_testset=datasets.MNIST(root=DATASET_PATH,\n",
    "                             train=False,\n",
    "                             download=True\n",
    "                            )"
   ]
  },
  {
   "cell_type": "code",
   "execution_count": 4,
   "metadata": {},
   "outputs": [
    {
     "data": {
      "text/plain": [
       "(torchvision.datasets.mnist.MNIST, True)"
      ]
     },
     "execution_count": 4,
     "metadata": {},
     "output_type": "execute_result"
    }
   ],
   "source": [
    "# 타입확인\n",
    "type(mnist_trainset),isinstance(mnist_trainset, torch.utils.data.Dataset) #상속관계"
   ]
  },
  {
   "cell_type": "code",
   "execution_count": 5,
   "metadata": {},
   "outputs": [
    {
     "name": "stdout",
     "output_type": "stream",
     "text": [
      "Dataset MNIST\n",
      "    Number of datapoints: 60000\n",
      "    Root location: datasets\n",
      "    Split: Train\n",
      "Dataset MNIST\n",
      "    Number of datapoints: 10000\n",
      "    Root location: datasets\n",
      "    Split: Test\n"
     ]
    }
   ],
   "source": [
    "## built-in dataset 정보 확인\n",
    "print(mnist_trainset)\n",
    "print(mnist_testset)"
   ]
  },
  {
   "cell_type": "code",
   "execution_count": 6,
   "metadata": {},
   "outputs": [
    {
     "name": "stdout",
     "output_type": "stream",
     "text": [
      "trainset 데이터 개수: 60000\n",
      "testset 데이터 개수: 10000\n",
      "<class 'tuple'> 2\n",
      "<class 'PIL.Image.Image'> <class 'int'>\n",
      "1\n"
     ]
    },
    {
     "data": {
      "image/png": "[encoded data removed]",
      "text/plain": [
       "<PIL.Image.Image image mode=L size=28x28>"
      ]
     },
     "execution_count": 6,
     "metadata": {},
     "output_type": "execute_result"
    }
   ],
   "source": [
    "# MNIST Dataset 정보확인\n",
    "print('trainset 데이터 개수:',len(mnist_trainset))\n",
    "print('testset 데이터 개수:',len(mnist_testset))\n",
    "# dataset -> subscriptable -> indexing\n",
    "# 1개의 데이터를 조회\n",
    "data_1=mnist_trainset[10500] # 타입: tuple, (X,y)\n",
    "print(type(data_1),len(data_1))\n",
    "\n",
    "# input data type\n",
    "print(type(data_1[0]),type(data_1[1]))\n",
    "\n",
    "print(data_1[1])\n",
    "data_1[0] # image"
   ]
  },
  {
   "cell_type": "code",
   "execution_count": 7,
   "metadata": {
    "scrolled": true
   },
   "outputs": [
    {
     "name": "stdout",
     "output_type": "stream",
     "text": [
      "(28, 28)\n"
     ]
    },
    {
     "data": {
      "text/plain": [
       "<matplotlib.image.AxesImage at 0x281b298c580>"
      ]
     },
     "execution_count": 7,
     "metadata": {},
     "output_type": "execute_result"
    },
    {
     "data": {
      "image/png": "[encoded data removed]",
      "text/plain": [
       "<Figure size 640x480 with 1 Axes>"
      ]
     },
     "metadata": {},
     "output_type": "display_data"
    }
   ],
   "source": [
    "# PIL.Image ==> ndarray\n",
    "import matplotlib.pyplot as plt\n",
    "img_arr=np.array(data_1[0])\n",
    "print(img_arr.shape)\n",
    "plt.imshow(img_arr,cmap='gray')"
   ]
  },
  {
   "cell_type": "code",
   "execution_count": 8,
   "metadata": {},
   "outputs": [
    {
     "data": {
      "text/plain": [
       "(<PIL.Image.Image image mode=L size=28x28>, 5)"
      ]
     },
     "execution_count": 8,
     "metadata": {},
     "output_type": "execute_result"
    }
   ],
   "source": [
    "## built-in dataset은 slicing은 안된다.\n",
    "mnist_trainset[0]\n",
    "# mnist_trainset[:5] ## error 발생\n"
   ]
  },
  {
   "cell_type": "code",
   "execution_count": 9,
   "metadata": {},
   "outputs": [
    {
     "data": {
      "text/plain": [
       "['0 - zero',\n",
       " '1 - one',\n",
       " '2 - two',\n",
       " '3 - three',\n",
       " '4 - four',\n",
       " '5 - five',\n",
       " '6 - six',\n",
       " '7 - seven',\n",
       " '8 - eight',\n",
       " '9 - nine']"
      ]
     },
     "execution_count": 9,
     "metadata": {},
     "output_type": "execute_result"
    }
   ],
   "source": [
    "# 분류 -> Y의 class확인\n",
    "mnist_trainset.classes\n",
    "# list : index-class, value-class name"
   ]
  },
  {
   "cell_type": "code",
   "execution_count": 10,
   "metadata": {},
   "outputs": [
    {
     "data": {
      "text/plain": [
       "'3 - three'"
      ]
     },
     "execution_count": 10,
     "metadata": {},
     "output_type": "execute_result"
    }
   ],
   "source": [
    "mnist_trainset.classes[3]"
   ]
  },
  {
   "cell_type": "code",
   "execution_count": 11,
   "metadata": {},
   "outputs": [
    {
     "data": {
      "text/plain": [
       "{'0 - zero': 0,\n",
       " '1 - one': 1,\n",
       " '2 - two': 2,\n",
       " '3 - three': 3,\n",
       " '4 - four': 4,\n",
       " '5 - five': 5,\n",
       " '6 - six': 6,\n",
       " '7 - seven': 7,\n",
       " '8 - eight': 8,\n",
       " '9 - nine': 9}"
      ]
     },
     "execution_count": 11,
     "metadata": {},
     "output_type": "execute_result"
    }
   ],
   "source": [
    "mnist_trainset.class_to_idx\n",
    "# dictionary: key-class name, vlaue-class"
   ]
  },
  {
   "cell_type": "code",
   "execution_count": 12,
   "metadata": {},
   "outputs": [
    {
     "data": {
      "text/plain": [
       "5"
      ]
     },
     "execution_count": 12,
     "metadata": {},
     "output_type": "execute_result"
    }
   ],
   "source": [
    "mnist_trainset.class_to_idx['5 - five']"
   ]
  },
  {
   "cell_type": "code",
   "execution_count": 13,
   "metadata": {},
   "outputs": [
    {
     "data": {
      "image/png": "[encoded data removed]",
      "text/plain": [
       "<PIL.Image.Image image mode=L size=28x28>"
      ]
     },
     "execution_count": 13,
     "metadata": {},
     "output_type": "execute_result"
    }
   ],
   "source": [
    "data_1[0]"
   ]
  },
  {
   "cell_type": "code",
   "execution_count": 14,
   "metadata": {},
   "outputs": [
    {
     "data": {
      "text/plain": [
       "(28, 28)"
      ]
     },
     "execution_count": 14,
     "metadata": {},
     "output_type": "execute_result"
    }
   ],
   "source": [
    "np.array(data_1[0]).shape"
   ]
  },
  {
   "cell_type": "code",
   "execution_count": 15,
   "metadata": {},
   "outputs": [
    {
     "data": {
      "text/plain": [
       "(28, 28)"
      ]
     },
     "execution_count": 15,
     "metadata": {},
     "output_type": "execute_result"
    }
   ],
   "source": [
    "data_1[0].size # width, hegiht만 알려준다. channel에 대해서는 알려주지 않는다.\n",
    "#### 제대로된 형태는 위와 같이 변환하고 봐야한다.####"
   ]
  },
  {
   "cell_type": "code",
   "execution_count": 16,
   "metadata": {},
   "outputs": [
    {
     "data": {
      "text/plain": [
       "torch.Size([60000, 28, 28])"
      ]
     },
     "execution_count": 16,
     "metadata": {},
     "output_type": "execute_result"
    }
   ],
   "source": [
    "mnist_trainset.data # 전체 input data가 저장된 속성\n",
    "mnist_trainset.data.shape"
   ]
  },
  {
   "cell_type": "code",
   "execution_count": 17,
   "metadata": {},
   "outputs": [
    {
     "data": {
      "text/plain": [
       "torch.Size([60000])"
      ]
     },
     "execution_count": 17,
     "metadata": {},
     "output_type": "execute_result"
    }
   ],
   "source": [
    "mnist_trainset.targets # 전체 output data가 저장된 속성\n",
    "mnist_trainset.targets.shape"
   ]
  },
  {
   "cell_type": "markdown",
   "metadata": {},
   "source": [
    "### TODO\n",
    "\n",
    "- CIFAR10 Built-in dataset 을 LOADING 후 다음을 확인하시오.\n",
    "    1. Dataset loading\n",
    "    1. train, test dataset의 데이터 개수\n",
    "    1. train set 과 test set의 input data의  shape\n",
    "    1. train set 과 test set의 output data의  shape\n",
    "    1. class index - class name\n",
    "    1. train set의 이미지 5장을 출력. label의 이름을 title로 출력.\n",
    "    \n",
    "    "
   ]
  },
  {
   "cell_type": "code",
   "execution_count": 18,
   "metadata": {},
   "outputs": [
    {
     "name": "stdout",
     "output_type": "stream",
     "text": [
      "Files already downloaded and verified\n",
      "Files already downloaded and verified\n"
     ]
    }
   ],
   "source": [
    "DATASET_PATH='data' # 상대경로, 절대경로 상관없다.\n",
    "CIFAR10_trainset=datasets.CIFAR10(root=DATASET_PATH, # 원본데이터가 위치한 디렉토리\n",
    "                              train=True, # True :Trainset, False : Testset\n",
    "                              download=True, # root 경로에 dataset이 없을 경우 dwonload 받을지 여부(default : False), transfrom = 데이터 변환함수\n",
    "                             )\n",
    "CIFAR10_testset=datasets.CIFAR10(root=DATASET_PATH,\n",
    "                             train=False,\n",
    "                             download=True\n",
    "                            )"
   ]
  },
  {
   "cell_type": "code",
   "execution_count": 19,
   "metadata": {},
   "outputs": [
    {
     "name": "stdout",
     "output_type": "stream",
     "text": [
      "trainset 개수: 50000\n",
      "testset 개수: 10000\n"
     ]
    }
   ],
   "source": [
    "print(\"trainset 개수:\",len(CIFAR10_trainset))\n",
    "print(\"testset 개수:\",len(CIFAR10_testset))"
   ]
  },
  {
   "cell_type": "code",
   "execution_count": 20,
   "metadata": {},
   "outputs": [],
   "source": [
    "data_2=CIFAR10_trainset[0]"
   ]
  },
  {
   "cell_type": "code",
   "execution_count": 21,
   "metadata": {},
   "outputs": [
    {
     "name": "stdout",
     "output_type": "stream",
     "text": [
      "(50000, 32, 32, 3)\n",
      "(10000, 32, 32, 3)\n"
     ]
    }
   ],
   "source": [
    "print(CIFAR10_trainset.data.shape)\n",
    "print(CIFAR10_testset.data.shape)"
   ]
  },
  {
   "cell_type": "code",
   "execution_count": 22,
   "metadata": {},
   "outputs": [
    {
     "name": "stdout",
     "output_type": "stream",
     "text": [
      "<class 'tuple'> 2\n"
     ]
    }
   ],
   "source": [
    "print(type(data_2),len(data_2))"
   ]
  },
  {
   "cell_type": "code",
   "execution_count": 23,
   "metadata": {},
   "outputs": [
    {
     "name": "stdout",
     "output_type": "stream",
     "text": [
      "<class 'list'> 50000\n",
      "<class 'list'> 10000\n"
     ]
    }
   ],
   "source": [
    "print(type(CIFAR10_trainset.targets),len(CIFAR10_trainset.targets))\n",
    "print(type(CIFAR10_testset.targets),len(CIFAR10_testset.targets))"
   ]
  },
  {
   "cell_type": "code",
   "execution_count": 24,
   "metadata": {},
   "outputs": [
    {
     "data": {
      "image/png": "[encoded data removed]",
      "text/plain": [
       "<PIL.Image.Image image mode=RGB size=32x32>"
      ]
     },
     "execution_count": 24,
     "metadata": {},
     "output_type": "execute_result"
    }
   ],
   "source": [
    "CIFAR10_trainset[0][0]\n",
    "CIFAR10_trainset[1][0]\n",
    "CIFAR10_trainset[2][0]"
   ]
  },
  {
   "cell_type": "markdown",
   "metadata": {},
   "source": [
    "## 정답"
   ]
  },
  {
   "cell_type": "code",
   "execution_count": 25,
   "metadata": {},
   "outputs": [
    {
     "name": "stdout",
     "output_type": "stream",
     "text": [
      "Dataset CIFAR10\n",
      "    Number of datapoints: 10000\n",
      "    Root location: data\n",
      "    Split: Test\n",
      "Dataset CIFAR10\n",
      "    Number of datapoints: 50000\n",
      "    Root location: data\n",
      "    Split: Train\n",
      "50000 10000\n"
     ]
    }
   ],
   "source": [
    "#train, test dataset의 데이터 개수\n",
    "print(CIFAR10_testset)\n",
    "print(CIFAR10_trainset)\n",
    "print(len(CIFAR10_trainset),len(CIFAR10_testset))"
   ]
  },
  {
   "cell_type": "code",
   "execution_count": 26,
   "metadata": {},
   "outputs": [
    {
     "name": "stdout",
     "output_type": "stream",
     "text": [
      "(50000, 32, 32, 3)\n",
      "(10000, 32, 32, 3)\n"
     ]
    }
   ],
   "source": [
    "# train set 과 test set의 input data의  shape\n",
    "print(CIFAR10_trainset.data.shape)\n",
    "print(CIFAR10_testset.data.shape)\n",
    "\n",
    "#print(type(CIFAR10_trainset.data))"
   ]
  },
  {
   "cell_type": "code",
   "execution_count": 27,
   "metadata": {},
   "outputs": [
    {
     "name": "stdout",
     "output_type": "stream",
     "text": [
      "<class 'list'> 50000\n",
      "<class 'list'> 10000\n",
      "<class 'list'> (50000,)\n",
      "<class 'list'> (10000,)\n"
     ]
    }
   ],
   "source": [
    "# train set 과 test set의 output data의  shape\n",
    "# print(CIFAR10_testset.targets)\n",
    "print(type(CIFAR10_trainset.targets),len(CIFAR10_trainset.targets))\n",
    "print(type(CIFAR10_testset.targets),len(CIFAR10_testset.targets))\n",
    "\n",
    "print(type(CIFAR10_trainset.targets),np.shape(CIFAR10_trainset.targets))\n",
    "print(type(CIFAR10_testset.targets),np.shape(CIFAR10_testset.targets))\n",
    "## np.shpae을 쓰려면 안에 list의 길이가 일정해야한다. [[2,3],[1,2,3]] 이런식이면 안된다."
   ]
  },
  {
   "cell_type": "code",
   "execution_count": 28,
   "metadata": {},
   "outputs": [
    {
     "data": {
      "text/plain": [
       "['airplane',\n",
       " 'automobile',\n",
       " 'bird',\n",
       " 'cat',\n",
       " 'deer',\n",
       " 'dog',\n",
       " 'frog',\n",
       " 'horse',\n",
       " 'ship',\n",
       " 'truck']"
      ]
     },
     "execution_count": 28,
     "metadata": {},
     "output_type": "execute_result"
    }
   ],
   "source": [
    "# class index - class name\n",
    "CIFAR10_trainset.classes"
   ]
  },
  {
   "cell_type": "code",
   "execution_count": 29,
   "metadata": {},
   "outputs": [
    {
     "data": {
      "text/plain": [
       "'automobile'"
      ]
     },
     "execution_count": 29,
     "metadata": {},
     "output_type": "execute_result"
    }
   ],
   "source": [
    "CIFAR10_testset.classes[1]"
   ]
  },
  {
   "cell_type": "code",
   "execution_count": 30,
   "metadata": {},
   "outputs": [
    {
     "data": {
      "text/plain": [
       "{'airplane': 0,\n",
       " 'automobile': 1,\n",
       " 'bird': 2,\n",
       " 'cat': 3,\n",
       " 'deer': 4,\n",
       " 'dog': 5,\n",
       " 'frog': 6,\n",
       " 'horse': 7,\n",
       " 'ship': 8,\n",
       " 'truck': 9}"
      ]
     },
     "execution_count": 30,
     "metadata": {},
     "output_type": "execute_result"
    }
   ],
   "source": [
    "CIFAR10_trainset.class_to_idx"
   ]
  },
  {
   "cell_type": "code",
   "execution_count": 31,
   "metadata": {},
   "outputs": [
    {
     "data": {
      "text/plain": [
       "2"
      ]
     },
     "execution_count": 31,
     "metadata": {},
     "output_type": "execute_result"
    }
   ],
   "source": [
    "CIFAR10_trainset.class_to_idx['bird']"
   ]
  },
  {
   "cell_type": "code",
   "execution_count": 32,
   "metadata": {},
   "outputs": [
    {
     "name": "stdout",
     "output_type": "stream",
     "text": [
      "<class 'PIL.Image.Image'>\n",
      "<PIL.Image.Image image mode=RGB size=32x32 at 0x281B2A56230> frog\n"
     ]
    },
    {
     "data": {
      "image/png": "[encoded data removed]",
      "text/plain": [
       "<PIL.Image.Image image mode=RGB size=32x32>"
      ]
     },
     "execution_count": 32,
     "metadata": {},
     "output_type": "execute_result"
    }
   ],
   "source": [
    "# train set의 이미지 5장을 출력. label의 이름을 title로 출력.\n",
    "idx=0\n",
    "data = CIFAR10_trainset[idx]\n",
    "print(type(data[0]))\n",
    "print(data[0],CIFAR10_trainset.classes[data[1]])\n",
    "data[0]"
   ]
  },
  {
   "cell_type": "code",
   "execution_count": 33,
   "metadata": {},
   "outputs": [
    {
     "name": "stdout",
     "output_type": "stream",
     "text": [
      "<PIL.Image.Image image mode=RGB size=32x32 at 0x281B2A551B0> 6\n",
      "6 frog\n",
      "<PIL.Image.Image image mode=RGB size=32x32 at 0x281B2A326B0> 9\n",
      "9 truck\n",
      "<PIL.Image.Image image mode=RGB size=32x32 at 0x281B2A33C70> 9\n",
      "9 truck\n",
      "<PIL.Image.Image image mode=RGB size=32x32 at 0x281B2A305B0> 4\n",
      "4 deer\n",
      "<PIL.Image.Image image mode=RGB size=32x32 at 0x281B2A326B0> 1\n",
      "1 automobile\n"
     ]
    }
   ],
   "source": [
    "for i in range(5):\n",
    "    x,y=CIFAR10_trainset[i]\n",
    "    print(x,y)\n",
    "    print(y,CIFAR10_trainset.classes[y])"
   ]
  },
  {
   "cell_type": "code",
   "execution_count": 34,
   "metadata": {},
   "outputs": [
    {
     "name": "stdout",
     "output_type": "stream",
     "text": [
      "6 frog\n"
     ]
    },
    {
     "data": {
      "image/png": "[encoded data removed]",
      "text/plain": [
       "<PIL.Image.Image image mode=RGB size=32x32>"
      ]
     },
     "metadata": {},
     "output_type": "display_data"
    },
    {
     "name": "stdout",
     "output_type": "stream",
     "text": [
      "9 truck\n"
     ]
    },
    {
     "data": {
      "image/png": "[encoded data removed]",
      "text/plain": [
       "<PIL.Image.Image image mode=RGB size=32x32>"
      ]
     },
     "metadata": {},
     "output_type": "display_data"
    },
    {
     "name": "stdout",
     "output_type": "stream",
     "text": [
      "9 truck\n"
     ]
    },
    {
     "data": {
      "image/png": "[encoded data removed]",
      "text/plain": [
       "<PIL.Image.Image image mode=RGB size=32x32>"
      ]
     },
     "metadata": {},
     "output_type": "display_data"
    },
    {
     "name": "stdout",
     "output_type": "stream",
     "text": [
      "4 deer\n"
     ]
    },
    {
     "data": {
      "image/png": "[encoded data removed]",
      "text/plain": [
       "<PIL.Image.Image image mode=RGB size=32x32>"
      ]
     },
     "metadata": {},
     "output_type": "display_data"
    },
    {
     "name": "stdout",
     "output_type": "stream",
     "text": [
      "1 automobile\n"
     ]
    },
    {
     "data": {
      "image/png": "[encoded data removed]",
      "text/plain": [
       "<PIL.Image.Image image mode=RGB size=32x32>"
      ]
     },
     "metadata": {},
     "output_type": "display_data"
    }
   ],
   "source": [
    "for i in range(5):\n",
    "    x,y=CIFAR10_trainset[i] # tuple 대입\n",
    "    print(y,CIFAR10_trainset.classes[y])\n",
    "    display(x)"
   ]
  },
  {
   "cell_type": "code",
   "execution_count": 35,
   "metadata": {},
   "outputs": [
    {
     "data": {
      "image/png": "[encoded data removed]",
      "text/plain": [
       "<Figure size 640x480 with 15 Axes>"
      ]
     },
     "metadata": {},
     "output_type": "display_data"
    }
   ],
   "source": [
    "# matplotlib\n",
    "m,n=3,5\n",
    "for i in range(m*n):\n",
    "    x,y=CIFAR10_testset[i]\n",
    "    # x : PIL.Image -> ndarray\n",
    "    img= np.array(x)\n",
    "#     print(img.shape)\n",
    "    plt.subplot(m,n,i+1)\n",
    "    plt.title(f\"{y} = {CIFAR10_testset.classes[y]}\")\n",
    "    plt.imshow(img)\n",
    "plt.tight_layout()\n",
    "plt.show()"
   ]
  },
  {
   "cell_type": "code",
   "execution_count": null,
   "metadata": {},
   "outputs": [],
   "source": []
  },
  {
   "cell_type": "markdown",
   "metadata": {},
   "source": [
    "### transform 매개변수를 이용한 정규화\n",
    "\n",
    "- Feature scaling과 동일한 목적으로 image의 전체 pixel의 값들이 유사한 scale을 가지도록 처리한다.\n",
    "- transform 매개변수에 전처리 함수를 넣으면 데이터에 대한 전처리를 할 수 있다."
   ]
  },
  {
   "cell_type": "code",
   "execution_count": 36,
   "metadata": {},
   "outputs": [
    {
     "name": "stdout",
     "output_type": "stream",
     "text": [
      "<class 'PIL.Image.Image'>\n",
      "(28, 28) 255 0 uint8\n"
     ]
    }
   ],
   "source": [
    "d_1=mnist_trainset[0][0]\n",
    "print(type(d_1))\n",
    "img_1=np.array(d_1)\n",
    "print(img_1.shape, img_1.max(),img_1.min(), img_1.dtype)"
   ]
  },
  {
   "cell_type": "markdown",
   "metadata": {},
   "source": [
    "class로 만들고 attribute에 min,max 저장하고 method를 만드는데 개별 data 처럼 만든다.\n",
    "class로 만들어서 실제로는 객체를 넣는다."
   ]
  },
  {
   "cell_type": "markdown",
   "metadata": {
    "ExecuteTime": {
     "end_time": "2023-05-24T10:48:13.851346Z",
     "start_time": "2023-05-24T10:48:13.831036Z"
    }
   },
   "source": [
    "#### ToTensor\n",
    " -  PIL Image나 NumPy ndarray 를 FloatTensor 로 변환하고, 이미지의 픽셀의 크기(intensity) 값을 \\[0., 1.\\] 범위로 비례하여 조정한다.\n",
    " -  color 이미지의 경우 channel 축을 0번째 축으로 설정 (height, width, channel) -> (channel, height, width)로 변경을 의미\n",
    " - https://pytorch.org/vision/stable/transforms.html"
   ]
  },
  {
   "cell_type": "code",
   "execution_count": 38,
   "metadata": {
    "scrolled": true
   },
   "outputs": [
    {
     "name": "stdout",
     "output_type": "stream",
     "text": [
      "Downloading http://yann.lecun.com/exdb/mnist/train-images-idx3-ubyte.gz\n",
      "Downloading http://yann.lecun.com/exdb/mnist/train-images-idx3-ubyte.gz to data\\MNIST\\raw\\train-images-idx3-ubyte.gz\n"
     ]
    },
    {
     "name": "stderr",
     "output_type": "stream",
     "text": [
      "100%|██████████████████████████████████████████████████████████████████| 9912422/9912422 [00:00<00:00, 28216899.75it/s]\n"
     ]
    },
    {
     "name": "stdout",
     "output_type": "stream",
     "text": [
      "Extracting data\\MNIST\\raw\\train-images-idx3-ubyte.gz to data\\MNIST\\raw\n",
      "\n",
      "Downloading http://yann.lecun.com/exdb/mnist/train-labels-idx1-ubyte.gz\n",
      "Downloading http://yann.lecun.com/exdb/mnist/train-labels-idx1-ubyte.gz to data\\MNIST\\raw\\train-labels-idx1-ubyte.gz\n"
     ]
    },
    {
     "name": "stderr",
     "output_type": "stream",
     "text": [
      "100%|██████████████████████████████████████████████████████████████████████| 28881/28881 [00:00<00:00, 29000644.92it/s]"
     ]
    },
    {
     "name": "stdout",
     "output_type": "stream",
     "text": [
      "Extracting data\\MNIST\\raw\\train-labels-idx1-ubyte.gz to data\\MNIST\\raw\n",
      "\n",
      "Downloading http://yann.lecun.com/exdb/mnist/t10k-images-idx3-ubyte.gz\n"
     ]
    },
    {
     "name": "stderr",
     "output_type": "stream",
     "text": [
      "\n"
     ]
    },
    {
     "name": "stdout",
     "output_type": "stream",
     "text": [
      "Downloading http://yann.lecun.com/exdb/mnist/t10k-images-idx3-ubyte.gz to data\\MNIST\\raw\\t10k-images-idx3-ubyte.gz\n"
     ]
    },
    {
     "name": "stderr",
     "output_type": "stream",
     "text": [
      "100%|███████████████████████████████████████████████████████████████████| 1648877/1648877 [00:00<00:00, 7718241.16it/s]\n"
     ]
    },
    {
     "name": "stdout",
     "output_type": "stream",
     "text": [
      "Extracting data\\MNIST\\raw\\t10k-images-idx3-ubyte.gz to data\\MNIST\\raw\n",
      "\n",
      "Downloading http://yann.lecun.com/exdb/mnist/t10k-labels-idx1-ubyte.gz\n",
      "Downloading http://yann.lecun.com/exdb/mnist/t10k-labels-idx1-ubyte.gz to data\\MNIST\\raw\\t10k-labels-idx1-ubyte.gz\n"
     ]
    },
    {
     "name": "stderr",
     "output_type": "stream",
     "text": [
      "100%|██████████████████████████████████████████████████████████████████████████████████████| 4542/4542 [00:00<?, ?it/s]"
     ]
    },
    {
     "name": "stdout",
     "output_type": "stream",
     "text": [
      "Extracting data\\MNIST\\raw\\t10k-labels-idx1-ubyte.gz to data\\MNIST\\raw\n",
      "\n"
     ]
    },
    {
     "name": "stderr",
     "output_type": "stream",
     "text": [
      "\n"
     ]
    }
   ],
   "source": [
    "from torchvision import transforms # 영상 데이터 전처리를 위한 transforms들을 제공하는 모듈\n",
    "mnist_trainset_2=datasets.MNIST(root=DATASET_PATH,train=True, download=True,transform=transforms.ToTensor())\n",
    "# ToTensor : 클래스 - 객체 생성한 것을 넣어주는 것이다."
   ]
  },
  {
   "cell_type": "code",
   "execution_count": 39,
   "metadata": {},
   "outputs": [],
   "source": [
    "x,y=mnist_trainset_2[0]"
   ]
  },
  {
   "cell_type": "code",
   "execution_count": 40,
   "metadata": {},
   "outputs": [
    {
     "name": "stdout",
     "output_type": "stream",
     "text": [
      "<class 'torch.Tensor'> <class 'int'>\n"
     ]
    }
   ],
   "source": [
    "print(type(x),type(y))"
   ]
  },
  {
   "cell_type": "code",
   "execution_count": 43,
   "metadata": {},
   "outputs": [
    {
     "name": "stdout",
     "output_type": "stream",
     "text": [
      "torch.Size([1, 28, 28])\n",
      "tensor(1.) tensor(0.) torch.float32\n"
     ]
    }
   ],
   "source": [
    "print(x.shape) # channel 축이 생성 앞에 1이 생김, shape이 (channel, height, width)로 변경\n",
    "print(x.max(),x.min(), x.dtype) ## max: 255->1, min : 0 ->0. dtype : uint8->float32"
   ]
  },
  {
   "cell_type": "code",
   "execution_count": null,
   "metadata": {},
   "outputs": [],
   "source": []
  },
  {
   "cell_type": "code",
   "execution_count": null,
   "metadata": {},
   "outputs": [],
   "source": []
  },
  {
   "cell_type": "code",
   "execution_count": null,
   "metadata": {},
   "outputs": [],
   "source": []
  },
  {
   "cell_type": "markdown",
   "metadata": {},
   "source": [
    "### transform.Normalize\n",
    "- 채널별로 지정한 평균을 뺀 뒤 지정한 표준편차로 나워서 정규화를 진행한다.\n",
    "- ToTensor()로 변환된 데이터를 받아서 추가 변환\n",
    "        - 여려 변환을 할 경우 `torchvision.transforms.Compose` 클래스를 이용한다.\n",
    "\n",
    "- z score -> standard scaling할때 계산할것( x- avg / std) 평균을 빼서 평균이 0인것처럼 만들고 표준편차로 나눈다."
   ]
  },
  {
   "cell_type": "code",
   "execution_count": 44,
   "metadata": {},
   "outputs": [
    {
     "data": {
      "text/plain": [
       "(-1.0, 1.0)"
      ]
     },
     "execution_count": 44,
     "metadata": {},
     "output_type": "execute_result"
    }
   ],
   "source": [
    "# 평균 : 0.5, 표준편차 : 0.5 -> 0 ~ 1 값을 변환\n",
    "(0-0.5)/0.5,(1-0.5)/0.5"
   ]
  },
  {
   "cell_type": "code",
   "execution_count": 45,
   "metadata": {},
   "outputs": [],
   "source": [
    "# 0 ~ 1 변환\n",
    "# 채널별(RGB)로 평균 : (0.485,0.456,0.406), 표준편차( 0.229,0.224,0.225)"
   ]
  },
  {
   "cell_type": "code",
   "execution_count": 48,
   "metadata": {
    "collapsed": true
   },
   "outputs": [
    {
     "name": "stdout",
     "output_type": "stream",
     "text": [
      "Downloading http://yann.lecun.com/exdb/mnist/train-images-idx3-ubyte.gz\n",
      "Downloading http://yann.lecun.com/exdb/mnist/train-images-idx3-ubyte.gz to data\\MNIST\\raw\\train-images-idx3-ubyte.gz\n"
     ]
    },
    {
     "name": "stderr",
     "output_type": "stream",
     "text": [
      "100%|██████████████████████████████████████████████████████████████████| 9912422/9912422 [00:00<00:00, 18879934.41it/s]\n"
     ]
    },
    {
     "name": "stdout",
     "output_type": "stream",
     "text": [
      "Extracting data\\MNIST\\raw\\train-images-idx3-ubyte.gz to data\\MNIST\\raw\n",
      "\n",
      "Downloading http://yann.lecun.com/exdb/mnist/train-labels-idx1-ubyte.gz\n",
      "Downloading http://yann.lecun.com/exdb/mnist/train-labels-idx1-ubyte.gz to data\\MNIST\\raw\\train-labels-idx1-ubyte.gz\n"
     ]
    },
    {
     "name": "stderr",
     "output_type": "stream",
     "text": [
      "100%|███████████████████████████████████████████████████████████████████████| 28881/28881 [00:00<00:00, 3088305.47it/s]"
     ]
    },
    {
     "name": "stdout",
     "output_type": "stream",
     "text": [
      "Extracting data\\MNIST\\raw\\train-labels-idx1-ubyte.gz to data\\MNIST\\raw\n",
      "\n",
      "Downloading http://yann.lecun.com/exdb/mnist/t10k-images-idx3-ubyte.gz\n"
     ]
    },
    {
     "name": "stderr",
     "output_type": "stream",
     "text": [
      "\n"
     ]
    },
    {
     "name": "stdout",
     "output_type": "stream",
     "text": [
      "Downloading http://yann.lecun.com/exdb/mnist/t10k-images-idx3-ubyte.gz to data\\MNIST\\raw\\t10k-images-idx3-ubyte.gz\n"
     ]
    },
    {
     "name": "stderr",
     "output_type": "stream",
     "text": [
      "100%|███████████████████████████████████████████████████████████████████| 1648877/1648877 [00:00<00:00, 7818656.99it/s]\n"
     ]
    },
    {
     "name": "stdout",
     "output_type": "stream",
     "text": [
      "Extracting data\\MNIST\\raw\\t10k-images-idx3-ubyte.gz to data\\MNIST\\raw\n",
      "\n",
      "Downloading http://yann.lecun.com/exdb/mnist/t10k-labels-idx1-ubyte.gz\n",
      "Downloading http://yann.lecun.com/exdb/mnist/t10k-labels-idx1-ubyte.gz to data\\MNIST\\raw\\t10k-labels-idx1-ubyte.gz\n"
     ]
    },
    {
     "name": "stderr",
     "output_type": "stream",
     "text": [
      "100%|██████████████████████████████████████████████████████████████████████████████████████| 4542/4542 [00:00<?, ?it/s]"
     ]
    },
    {
     "name": "stdout",
     "output_type": "stream",
     "text": [
      "Extracting data\\MNIST\\raw\\t10k-labels-idx1-ubyte.gz to data\\MNIST\\raw\n",
      "\n"
     ]
    },
    {
     "name": "stderr",
     "output_type": "stream",
     "text": [
      "\n"
     ]
    }
   ],
   "source": [
    "# Compose() : 여러 transform들을 묶어서 등록한 순서대로 실행시켜준다.\n",
    "\n",
    "transform = transforms.Compose([transforms.ToTensor(), # 0 ~ 1 로 정규화 (+torch.Tensor()변환, channel first\n",
    "                                transforms.Normalize(mean=(0.5, ), std=(0.5, )) # 평균, 표준편차는 채널별로 설정\n",
    "                               ])\n",
    "\n",
    "mnist_trainset_3=datasets.MNIST(root=DATASET_PATH,train=True, download=True,transform=transform)\n",
    "mnist_testset_3=datasets.MNIST(root=DATASET_PATH,train=False, download=True,transform=transform)"
   ]
  },
  {
   "cell_type": "code",
   "execution_count": 49,
   "metadata": {
    "collapsed": true
   },
   "outputs": [
    {
     "data": {
      "text/plain": [
       "tensor([[[100, 100, 100, 100, 100, 100, 100, 100, 100, 100, 100, 100, 100, 100,\n",
       "          100, 100, 100, 100, 100, 100, 100, 100, 100, 100, 100, 100, 100, 100],\n",
       "         [100, 100, 100, 100, 100, 100, 100, 100, 100, 100, 100, 100, 100, 100,\n",
       "          100, 100, 100, 100, 100, 100, 100, 100, 100, 100, 100, 100, 100, 100],\n",
       "         [100, 100, 100, 100, 100, 100, 100, 100, 100, 100, 100, 100, 100, 100,\n",
       "          100, 100, 100, 100, 100, 100, 100, 100, 100, 100, 100, 100, 100, 100],\n",
       "         [100, 100, 100, 100, 100, 100, 100, 100, 100, 100, 100, 100, 100, 100,\n",
       "          100, 100, 100, 100, 100, 100, 100, 100, 100, 100, 100, 100, 100, 100],\n",
       "         [100, 100, 100, 100, 100, 100, 100, 100, 100, 100, 100, 100, 100, 100,\n",
       "          100, 100, 100, 100, 100, 100, 100, 100, 100, 100, 100, 100, 100, 100],\n",
       "         [100, 100, 100, 100, 100, 100, 100, 100, 100, 100, 100, 100, 100, 100,\n",
       "          100, 100, 100, 100, 100, 100, 100, 100, 100, 100, 100, 100, 100, 100],\n",
       "         [100, 100, 100, 100, 100, 100, 100, 100, 100, 100, 100, 100, 100, 100,\n",
       "          100, 100, 100, 100, 100, 100, 100, 100, 100, 100, 100, 100, 100, 100],\n",
       "         [100, 100, 100, 100, 100, 100, 100, 100, 100, 100, 100, 100, 100, 100,\n",
       "          100, 100, 100, 100, 100, 100, 100, 100, 100, 100, 100, 100, 100, 100],\n",
       "         [100, 100, 100, 100, 100, 100, 100, 100, 100, 100, 100, 100, 100, 100,\n",
       "          100, 100, 100, 100, 100, 100, 100, 100, 100, 100, 100, 100, 100, 100],\n",
       "         [100, 100, 100, 100, 100, 100, 100, 100, 100, 100, 100, 100, 100, 100,\n",
       "          100, 100, 100, 100, 100, 100, 100, 100, 100, 100, 100, 100, 100, 100],\n",
       "         [100, 100, 100, 100, 100, 100, 100, 100, 100, 100, 100, 100, 100, 100,\n",
       "          100, 100, 100, 100, 100, 100, 100, 100, 100, 100, 100, 100, 100, 100],\n",
       "         [100, 100, 100, 100, 100, 100, 100, 100, 100, 100, 100, 100, 100, 100,\n",
       "          100, 100, 100, 100, 100, 100, 100, 100, 100, 100, 100, 100, 100, 100],\n",
       "         [100, 100, 100, 100, 100, 100, 100, 100, 100, 100, 100, 100, 100, 100,\n",
       "          100, 100, 100, 100, 100, 100, 100, 100, 100, 100, 100, 100, 100, 100],\n",
       "         [100, 100, 100, 100, 100, 100, 100, 100, 100, 100, 100, 100, 100, 100,\n",
       "          100, 100, 100, 100, 100, 100, 100, 100, 100, 100, 100, 100, 100, 100],\n",
       "         [100, 100, 100, 100, 100, 100, 100, 100, 100, 100, 100, 100, 100, 100,\n",
       "          100, 100, 100, 100, 100, 100, 100, 100, 100, 100, 100, 100, 100, 100],\n",
       "         [100, 100, 100, 100, 100, 100, 100, 100, 100, 100, 100, 100, 100, 100,\n",
       "          100, 100, 100, 100, 100, 100, 100, 100, 100, 100, 100, 100, 100, 100],\n",
       "         [100, 100, 100, 100, 100, 100, 100, 100, 100, 100, 100, 100, 100, 100,\n",
       "          100, 100, 100, 100, 100, 100, 100, 100, 100, 100, 100, 100, 100, 100],\n",
       "         [100, 100, 100, 100, 100, 100, 100, 100, 100, 100, 100, 100, 100, 100,\n",
       "          100, 100, 100, 100, 100, 100, 100, 100, 100, 100, 100, 100, 100, 100],\n",
       "         [100, 100, 100, 100, 100, 100, 100, 100, 100, 100, 100, 100, 100, 100,\n",
       "          100, 100, 100, 100, 100, 100, 100, 100, 100, 100, 100, 100, 100, 100],\n",
       "         [100, 100, 100, 100, 100, 100, 100, 100, 100, 100, 100, 100, 100, 100,\n",
       "          100, 100, 100, 100, 100, 100, 100, 100, 100, 100, 100, 100, 100, 100],\n",
       "         [100, 100, 100, 100, 100, 100, 100, 100, 100, 100, 100, 100, 100, 100,\n",
       "          100, 100, 100, 100, 100, 100, 100, 100, 100, 100, 100, 100, 100, 100],\n",
       "         [100, 100, 100, 100, 100, 100, 100, 100, 100, 100, 100, 100, 100, 100,\n",
       "          100, 100, 100, 100, 100, 100, 100, 100, 100, 100, 100, 100, 100, 100],\n",
       "         [100, 100, 100, 100, 100, 100, 100, 100, 100, 100, 100, 100, 100, 100,\n",
       "          100, 100, 100, 100, 100, 100, 100, 100, 100, 100, 100, 100, 100, 100],\n",
       "         [100, 100, 100, 100, 100, 100, 100, 100, 100, 100, 100, 100, 100, 100,\n",
       "          100, 100, 100, 100, 100, 100, 100, 100, 100, 100, 100, 100, 100, 100],\n",
       "         [100, 100, 100, 100, 100, 100, 100, 100, 100, 100, 100, 100, 100, 100,\n",
       "          100, 100, 100, 100, 100, 100, 100, 100, 100, 100, 100, 100, 100, 100],\n",
       "         [100, 100, 100, 100, 100, 100, 100, 100, 100, 100, 100, 100, 100, 100,\n",
       "          100, 100, 100, 100, 100, 100, 100, 100, 100, 100, 100, 100, 100, 100],\n",
       "         [100, 100, 100, 100, 100, 100, 100, 100, 100, 100, 100, 100, 100, 100,\n",
       "          100, 100, 100, 100, 100, 100, 100, 100, 100, 100, 100, 100, 100, 100],\n",
       "         [100, 100, 100, 100, 100, 100, 100, 100, 100, 100, 100, 100, 100, 100,\n",
       "          100, 100, 100, 100, 100, 100, 100, 100, 100, 100, 100, 100, 100, 100]]])"
      ]
     },
     "execution_count": 49,
     "metadata": {},
     "output_type": "execute_result"
    }
   ],
   "source": [
    "a=torch.full((1,28,28),fill_value=100)\n",
    "a"
   ]
  },
  {
   "cell_type": "code",
   "execution_count": 50,
   "metadata": {},
   "outputs": [
    {
     "name": "stdout",
     "output_type": "stream",
     "text": [
      "(28, 28, 1)\n"
     ]
    },
    {
     "data": {
      "text/plain": [
       "tensor([[[-0.2157, -0.2157, -0.2157, -0.2157, -0.2157, -0.2157, -0.2157,\n",
       "          -0.2157, -0.2157, -0.2157, -0.2157, -0.2157, -0.2157, -0.2157,\n",
       "          -0.2157, -0.2157, -0.2157, -0.2157, -0.2157, -0.2157, -0.2157,\n",
       "          -0.2157, -0.2157, -0.2157, -0.2157, -0.2157, -0.2157, -0.2157],\n",
       "         [-0.2157, -0.2157, -0.2157, -0.2157, -0.2157, -0.2157, -0.2157,\n",
       "          -0.2157, -0.2157, -0.2157, -0.2157, -0.2157, -0.2157, -0.2157,\n",
       "          -0.2157, -0.2157, -0.2157, -0.2157, -0.2157, -0.2157, -0.2157,\n",
       "          -0.2157, -0.2157, -0.2157, -0.2157, -0.2157, -0.2157, -0.2157],\n",
       "         [-0.2157, -0.2157, -0.2157, -0.2157, -0.2157, -0.2157, -0.2157,\n",
       "          -0.2157, -0.2157, -0.2157, -0.2157, -0.2157, -0.2157, -0.2157,\n",
       "          -0.2157, -0.2157, -0.2157, -0.2157, -0.2157, -0.2157, -0.2157,\n",
       "          -0.2157, -0.2157, -0.2157, -0.2157, -0.2157, -0.2157, -0.2157],\n",
       "         [-0.2157, -0.2157, -0.2157, -0.2157, -0.2157, -0.2157, -0.2157,\n",
       "          -0.2157, -0.2157, -0.2157, -0.2157, -0.2157, -0.2157, -0.2157,\n",
       "          -0.2157, -0.2157, -0.2157, -0.2157, -0.2157, -0.2157, -0.2157,\n",
       "          -0.2157, -0.2157, -0.2157, -0.2157, -0.2157, -0.2157, -0.2157],\n",
       "         [-0.2157, -0.2157, -0.2157, -0.2157, -0.2157, -0.2157, -0.2157,\n",
       "          -0.2157, -0.2157, -0.2157, -0.2157, -0.2157, -0.2157, -0.2157,\n",
       "          -0.2157, -0.2157, -0.2157, -0.2157, -0.2157, -0.2157, -0.2157,\n",
       "          -0.2157, -0.2157, -0.2157, -0.2157, -0.2157, -0.2157, -0.2157],\n",
       "         [-0.2157, -0.2157, -0.2157, -0.2157, -0.2157, -0.2157, -0.2157,\n",
       "          -0.2157, -0.2157, -0.2157, -0.2157, -0.2157, -0.2157, -0.2157,\n",
       "          -0.2157, -0.2157, -0.2157, -0.2157, -0.2157, -0.2157, -0.2157,\n",
       "          -0.2157, -0.2157, -0.2157, -0.2157, -0.2157, -0.2157, -0.2157],\n",
       "         [-0.2157, -0.2157, -0.2157, -0.2157, -0.2157, -0.2157, -0.2157,\n",
       "          -0.2157, -0.2157, -0.2157, -0.2157, -0.2157, -0.2157, -0.2157,\n",
       "          -0.2157, -0.2157, -0.2157, -0.2157, -0.2157, -0.2157, -0.2157,\n",
       "          -0.2157, -0.2157, -0.2157, -0.2157, -0.2157, -0.2157, -0.2157],\n",
       "         [-0.2157, -0.2157, -0.2157, -0.2157, -0.2157, -0.2157, -0.2157,\n",
       "          -0.2157, -0.2157, -0.2157, -0.2157, -0.2157, -0.2157, -0.2157,\n",
       "          -0.2157, -0.2157, -0.2157, -0.2157, -0.2157, -0.2157, -0.2157,\n",
       "          -0.2157, -0.2157, -0.2157, -0.2157, -0.2157, -0.2157, -0.2157],\n",
       "         [-0.2157, -0.2157, -0.2157, -0.2157, -0.2157, -0.2157, -0.2157,\n",
       "          -0.2157, -0.2157, -0.2157, -0.2157, -0.2157, -0.2157, -0.2157,\n",
       "          -0.2157, -0.2157, -0.2157, -0.2157, -0.2157, -0.2157, -0.2157,\n",
       "          -0.2157, -0.2157, -0.2157, -0.2157, -0.2157, -0.2157, -0.2157],\n",
       "         [-0.2157, -0.2157, -0.2157, -0.2157, -0.2157, -0.2157, -0.2157,\n",
       "          -0.2157, -0.2157, -0.2157, -0.2157, -0.2157, -0.2157, -0.2157,\n",
       "          -0.2157, -0.2157, -0.2157, -0.2157, -0.2157, -0.2157, -0.2157,\n",
       "          -0.2157, -0.2157, -0.2157, -0.2157, -0.2157, -0.2157, -0.2157],\n",
       "         [-0.2157, -0.2157, -0.2157, -0.2157, -0.2157, -0.2157, -0.2157,\n",
       "          -0.2157, -0.2157, -0.2157, -0.2157, -0.2157, -0.2157, -0.2157,\n",
       "          -0.2157, -0.2157, -0.2157, -0.2157, -0.2157, -0.2157, -0.2157,\n",
       "          -0.2157, -0.2157, -0.2157, -0.2157, -0.2157, -0.2157, -0.2157],\n",
       "         [-0.2157, -0.2157, -0.2157, -0.2157, -0.2157, -0.2157, -0.2157,\n",
       "          -0.2157, -0.2157, -0.2157, -0.2157, -0.2157, -0.2157, -0.2157,\n",
       "          -0.2157, -0.2157, -0.2157, -0.2157, -0.2157, -0.2157, -0.2157,\n",
       "          -0.2157, -0.2157, -0.2157, -0.2157, -0.2157, -0.2157, -0.2157],\n",
       "         [-0.2157, -0.2157, -0.2157, -0.2157, -0.2157, -0.2157, -0.2157,\n",
       "          -0.2157, -0.2157, -0.2157, -0.2157, -0.2157, -0.2157, -0.2157,\n",
       "          -0.2157, -0.2157, -0.2157, -0.2157, -0.2157, -0.2157, -0.2157,\n",
       "          -0.2157, -0.2157, -0.2157, -0.2157, -0.2157, -0.2157, -0.2157],\n",
       "         [-0.2157, -0.2157, -0.2157, -0.2157, -0.2157, -0.2157, -0.2157,\n",
       "          -0.2157, -0.2157, -0.2157, -0.2157, -0.2157, -0.2157, -0.2157,\n",
       "          -0.2157, -0.2157, -0.2157, -0.2157, -0.2157, -0.2157, -0.2157,\n",
       "          -0.2157, -0.2157, -0.2157, -0.2157, -0.2157, -0.2157, -0.2157],\n",
       "         [-0.2157, -0.2157, -0.2157, -0.2157, -0.2157, -0.2157, -0.2157,\n",
       "          -0.2157, -0.2157, -0.2157, -0.2157, -0.2157, -0.2157, -0.2157,\n",
       "          -0.2157, -0.2157, -0.2157, -0.2157, -0.2157, -0.2157, -0.2157,\n",
       "          -0.2157, -0.2157, -0.2157, -0.2157, -0.2157, -0.2157, -0.2157],\n",
       "         [-0.2157, -0.2157, -0.2157, -0.2157, -0.2157, -0.2157, -0.2157,\n",
       "          -0.2157, -0.2157, -0.2157, -0.2157, -0.2157, -0.2157, -0.2157,\n",
       "          -0.2157, -0.2157, -0.2157, -0.2157, -0.2157, -0.2157, -0.2157,\n",
       "          -0.2157, -0.2157, -0.2157, -0.2157, -0.2157, -0.2157, -0.2157],\n",
       "         [-0.2157, -0.2157, -0.2157, -0.2157, -0.2157, -0.2157, -0.2157,\n",
       "          -0.2157, -0.2157, -0.2157, -0.2157, -0.2157, -0.2157, -0.2157,\n",
       "          -0.2157, -0.2157, -0.2157, -0.2157, -0.2157, -0.2157, -0.2157,\n",
       "          -0.2157, -0.2157, -0.2157, -0.2157, -0.2157, -0.2157, -0.2157],\n",
       "         [-0.2157, -0.2157, -0.2157, -0.2157, -0.2157, -0.2157, -0.2157,\n",
       "          -0.2157, -0.2157, -0.2157, -0.2157, -0.2157, -0.2157, -0.2157,\n",
       "          -0.2157, -0.2157, -0.2157, -0.2157, -0.2157, -0.2157, -0.2157,\n",
       "          -0.2157, -0.2157, -0.2157, -0.2157, -0.2157, -0.2157, -0.2157],\n",
       "         [-0.2157, -0.2157, -0.2157, -0.2157, -0.2157, -0.2157, -0.2157,\n",
       "          -0.2157, -0.2157, -0.2157, -0.2157, -0.2157, -0.2157, -0.2157,\n",
       "          -0.2157, -0.2157, -0.2157, -0.2157, -0.2157, -0.2157, -0.2157,\n",
       "          -0.2157, -0.2157, -0.2157, -0.2157, -0.2157, -0.2157, -0.2157],\n",
       "         [-0.2157, -0.2157, -0.2157, -0.2157, -0.2157, -0.2157, -0.2157,\n",
       "          -0.2157, -0.2157, -0.2157, -0.2157, -0.2157, -0.2157, -0.2157,\n",
       "          -0.2157, -0.2157, -0.2157, -0.2157, -0.2157, -0.2157, -0.2157,\n",
       "          -0.2157, -0.2157, -0.2157, -0.2157, -0.2157, -0.2157, -0.2157],\n",
       "         [-0.2157, -0.2157, -0.2157, -0.2157, -0.2157, -0.2157, -0.2157,\n",
       "          -0.2157, -0.2157, -0.2157, -0.2157, -0.2157, -0.2157, -0.2157,\n",
       "          -0.2157, -0.2157, -0.2157, -0.2157, -0.2157, -0.2157, -0.2157,\n",
       "          -0.2157, -0.2157, -0.2157, -0.2157, -0.2157, -0.2157, -0.2157],\n",
       "         [-0.2157, -0.2157, -0.2157, -0.2157, -0.2157, -0.2157, -0.2157,\n",
       "          -0.2157, -0.2157, -0.2157, -0.2157, -0.2157, -0.2157, -0.2157,\n",
       "          -0.2157, -0.2157, -0.2157, -0.2157, -0.2157, -0.2157, -0.2157,\n",
       "          -0.2157, -0.2157, -0.2157, -0.2157, -0.2157, -0.2157, -0.2157],\n",
       "         [-0.2157, -0.2157, -0.2157, -0.2157, -0.2157, -0.2157, -0.2157,\n",
       "          -0.2157, -0.2157, -0.2157, -0.2157, -0.2157, -0.2157, -0.2157,\n",
       "          -0.2157, -0.2157, -0.2157, -0.2157, -0.2157, -0.2157, -0.2157,\n",
       "          -0.2157, -0.2157, -0.2157, -0.2157, -0.2157, -0.2157, -0.2157],\n",
       "         [-0.2157, -0.2157, -0.2157, -0.2157, -0.2157, -0.2157, -0.2157,\n",
       "          -0.2157, -0.2157, -0.2157, -0.2157, -0.2157, -0.2157, -0.2157,\n",
       "          -0.2157, -0.2157, -0.2157, -0.2157, -0.2157, -0.2157, -0.2157,\n",
       "          -0.2157, -0.2157, -0.2157, -0.2157, -0.2157, -0.2157, -0.2157],\n",
       "         [-0.2157, -0.2157, -0.2157, -0.2157, -0.2157, -0.2157, -0.2157,\n",
       "          -0.2157, -0.2157, -0.2157, -0.2157, -0.2157, -0.2157, -0.2157,\n",
       "          -0.2157, -0.2157, -0.2157, -0.2157, -0.2157, -0.2157, -0.2157,\n",
       "          -0.2157, -0.2157, -0.2157, -0.2157, -0.2157, -0.2157, -0.2157],\n",
       "         [-0.2157, -0.2157, -0.2157, -0.2157, -0.2157, -0.2157, -0.2157,\n",
       "          -0.2157, -0.2157, -0.2157, -0.2157, -0.2157, -0.2157, -0.2157,\n",
       "          -0.2157, -0.2157, -0.2157, -0.2157, -0.2157, -0.2157, -0.2157,\n",
       "          -0.2157, -0.2157, -0.2157, -0.2157, -0.2157, -0.2157, -0.2157],\n",
       "         [-0.2157, -0.2157, -0.2157, -0.2157, -0.2157, -0.2157, -0.2157,\n",
       "          -0.2157, -0.2157, -0.2157, -0.2157, -0.2157, -0.2157, -0.2157,\n",
       "          -0.2157, -0.2157, -0.2157, -0.2157, -0.2157, -0.2157, -0.2157,\n",
       "          -0.2157, -0.2157, -0.2157, -0.2157, -0.2157, -0.2157, -0.2157],\n",
       "         [-0.2157, -0.2157, -0.2157, -0.2157, -0.2157, -0.2157, -0.2157,\n",
       "          -0.2157, -0.2157, -0.2157, -0.2157, -0.2157, -0.2157, -0.2157,\n",
       "          -0.2157, -0.2157, -0.2157, -0.2157, -0.2157, -0.2157, -0.2157,\n",
       "          -0.2157, -0.2157, -0.2157, -0.2157, -0.2157, -0.2157, -0.2157]]])"
      ]
     },
     "execution_count": 50,
     "metadata": {},
     "output_type": "execute_result"
    }
   ],
   "source": [
    "a=np.full((28,28,1),fill_value=100,dtype='uint8')\n",
    "print(a.shape)\n",
    "b=transform(a)\n",
    "b"
   ]
  },
  {
   "cell_type": "code",
   "execution_count": 51,
   "metadata": {},
   "outputs": [
    {
     "data": {
      "text/plain": [
       "-0.2157"
      ]
     },
     "execution_count": 51,
     "metadata": {},
     "output_type": "execute_result"
    }
   ],
   "source": [
    "# pixcel : 100 -> 0 ~ 1(pixcel/255) -> (p - 평균)/표준편차\n",
    "np.round(((100/255)-0.5)/0.5,4)"
   ]
  },
  {
   "cell_type": "code",
   "execution_count": 52,
   "metadata": {},
   "outputs": [
    {
     "data": {
      "text/plain": [
       "torch.Size([1, 28, 28])"
      ]
     },
     "execution_count": 52,
     "metadata": {},
     "output_type": "execute_result"
    }
   ],
   "source": [
    "b.shape"
   ]
  },
  {
   "cell_type": "code",
   "execution_count": 53,
   "metadata": {},
   "outputs": [
    {
     "data": {
      "text/plain": [
       "(tensor(-1.), tensor(1.))"
      ]
     },
     "execution_count": 53,
     "metadata": {},
     "output_type": "execute_result"
    }
   ],
   "source": [
    "x,y=mnist_trainset_3[0]\n",
    "x.min(),x.max()"
   ]
  },
  {
   "cell_type": "code",
   "execution_count": 57,
   "metadata": {
    "scrolled": true
   },
   "outputs": [
    {
     "name": "stdout",
     "output_type": "stream",
     "text": [
      "Files already downloaded and verified\n"
     ]
    }
   ],
   "source": [
    "# Normalize의 평균, 표준편차 설정:\n",
    "# 모든 채널에 동일한 값을 지정할 경우 -> 값 하나만 설정\n",
    "# 채널별로 다른값 지정할 경우 -> 튜플에 채널별로 각각의 값을 설정\n",
    "transform = transforms.Compose([transforms.ToTensor(), # 0 ~ 1 로 정규화 (+torch.Tensor()변환, channel first\n",
    "                                transforms.Normalize(mean=(0.5, ), std=(0.5, )) # 평균, 표준편차는 채널별로 설정\n",
    "                               ])\n",
    "\n",
    "cifar10_trainset_2=datasets.CIFAR10(root=DATASET_PATH,train=True, download=True,\n",
    "                                    transform=transform)\n",
    "#                                     transform=transforms.ToTensor())"
   ]
  },
  {
   "cell_type": "code",
   "execution_count": 58,
   "metadata": {},
   "outputs": [
    {
     "data": {
      "text/plain": [
       "(torch.Size([3, 32, 32]), tensor(-1.), tensor(1.), torch.float32)"
      ]
     },
     "execution_count": 58,
     "metadata": {},
     "output_type": "execute_result"
    }
   ],
   "source": [
    "x,y=cifar10_trainset_2[0]\n",
    "x.shape, x.min(), x.max(), x.dtype"
   ]
  },
  {
   "cell_type": "code",
   "execution_count": 59,
   "metadata": {},
   "outputs": [
    {
     "data": {
      "text/plain": [
       "(tensor(-1.), tensor(0.8431))"
      ]
     },
     "execution_count": 59,
     "metadata": {},
     "output_type": "execute_result"
    }
   ],
   "source": [
    "x[0].min(),x[0].max()\n",
    "x[1].min(),x[1].max()\n",
    "x[2].min(),x[2].max()"
   ]
  },
  {
   "cell_type": "markdown",
   "metadata": {},
   "source": [
    "## DataLoader 생성\n",
    "\n",
    "- DataLoader\n",
    "    - 모델이 학습하거나 추론할 때 Dataset의 데이터를 모델에 제공해준다. (feeding)\n",
    "    - initalizer속성\n",
    "        - dataset: 값을 제공하는 Dataset 타입 객체\n",
    "        - batch_size: 한번에 값을 제공할 batch 크기\n",
    "        - shuffle: 에폭마다 데이터셋을 섞을 지 여부 (default: False)\n",
    "        - drop_last: 마지막 배치의 데이터개수가 batch_size 설정보다 적을 경우 모델에 제공하지 않는다.\n"
   ]
  },
  {
   "cell_type": "code",
   "execution_count": 60,
   "metadata": {},
   "outputs": [],
   "source": [
    "from torch.utils.data import DataLoader\n",
    "mnist_train_loader=DataLoader(dataset=mnist_trainset_3,\n",
    "                              batch_size=512,\n",
    "                              shuffle=True,\n",
    "                             )"
   ]
  },
  {
   "cell_type": "code",
   "execution_count": 61,
   "metadata": {},
   "outputs": [
    {
     "name": "stdout",
     "output_type": "stream",
     "text": [
      "118.0 1171.875\n",
      "118\n"
     ]
    }
   ],
   "source": [
    "# 에폭당 step 수 : 1에폭당 몇번 파라미터들을 update하는지\n",
    "## 전체 data개수 / batch 크기 -> 올림\n",
    "print(np.ceil(60000/512),600000/512)\n",
    "print(len(mnist_train_loader))"
   ]
  },
  {
   "cell_type": "code",
   "execution_count": 63,
   "metadata": {},
   "outputs": [
    {
     "name": "stdout",
     "output_type": "stream",
     "text": [
      "<class 'torchvision.datasets.mnist.MNIST'>\n"
     ]
    },
    {
     "data": {
      "text/plain": [
       "Dataset MNIST\n",
       "    Number of datapoints: 60000\n",
       "    Root location: data\n",
       "    Split: Train\n",
       "    StandardTransform\n",
       "Transform: Compose(\n",
       "               ToTensor()\n",
       "               Normalize(mean=(0.5,), std=(0.5,))\n",
       "           )"
      ]
     },
     "execution_count": 63,
     "metadata": {},
     "output_type": "execute_result"
    }
   ],
   "source": [
    "# DataLoader에서 Dataset 조회\n",
    "print(type(mnist_train_loader.dataset))\n",
    "mnist_train_loader.dataset"
   ]
  },
  {
   "cell_type": "code",
   "execution_count": 64,
   "metadata": {},
   "outputs": [],
   "source": [
    "# DataLoader -> Iterable\n",
    "batch_one = next(iter(mnist_train_loader))"
   ]
  },
  {
   "cell_type": "code",
   "execution_count": 66,
   "metadata": {},
   "outputs": [
    {
     "data": {
      "text/plain": [
       "list"
      ]
     },
     "execution_count": 66,
     "metadata": {},
     "output_type": "execute_result"
    }
   ],
   "source": [
    "type(batch_one) # list [ X,y ]"
   ]
  },
  {
   "cell_type": "code",
   "execution_count": 69,
   "metadata": {},
   "outputs": [],
   "source": [
    "X=batch_one[0]\n",
    "y=batch_one[1]"
   ]
  },
  {
   "cell_type": "code",
   "execution_count": 68,
   "metadata": {},
   "outputs": [
    {
     "data": {
      "text/plain": [
       "torch.Size([512, 1, 28, 28])"
      ]
     },
     "execution_count": 68,
     "metadata": {},
     "output_type": "execute_result"
    }
   ],
   "source": [
    "X.shape  # batch_size, channel, height, width"
   ]
  },
  {
   "cell_type": "code",
   "execution_count": 70,
   "metadata": {},
   "outputs": [
    {
     "data": {
      "text/plain": [
       "torch.Size([512])"
      ]
     },
     "execution_count": 70,
     "metadata": {},
     "output_type": "execute_result"
    }
   ],
   "source": [
    "y.shape"
   ]
  },
  {
   "cell_type": "markdown",
   "metadata": {},
   "source": [
    "## Custom Dataset 구현\n",
    "\n",
    "1. `torch.utils.data.DataSet` 클래스를 상속한 클래스를 정의한다.\n",
    "2. `__init__(self, ...)` \n",
    "    - DataSet객체 생성시 필요한 설정들을 초기화 한다. \n",
    "    - ex) Data저장 경로, transform 설정 여부 등\n",
    "3. `__len__(self)`\n",
    "    - 총 데이터 수를 반환하도록 구현한다.\n",
    "    - DataLoader가 Batch 생성할 때 사용한다.\n",
    "4. `__getitem__(self, index)`\n",
    "    - index의 Data point를 반환한다.\n",
    "    - input(X), output(y) 를 튜플로 반환한다.\n",
    "    - transform이 있을 경우 변환처리한 input을 반환한다."
   ]
  },
  {
   "cell_type": "code",
   "execution_count": 94,
   "metadata": {},
   "outputs": [],
   "source": [
    "# subscriptable type 의 클래스\n",
    "class Test:\n",
    "    def __len__(self):\n",
    "        return 13\n",
    "    def __getitem__(self,idx):\n",
    "        \n",
    "        if idx=='가':\n",
    "            return 'A'\n",
    "        elif 0<=idx <=2 :\n",
    "            return chr(ord('A')+idx)\n",
    "        else :\n",
    "            raise IndexError(self.__len__())"
   ]
  },
  {
   "cell_type": "code",
   "execution_count": 95,
   "metadata": {},
   "outputs": [
    {
     "name": "stdout",
     "output_type": "stream",
     "text": [
      "13\n",
      "A A\n"
     ]
    }
   ],
   "source": [
    "t=Test()\n",
    "print(len(t))\n",
    "# print(t[3])\n",
    "print(t[0],t['가'])"
   ]
  },
  {
   "cell_type": "code",
   "execution_count": 96,
   "metadata": {},
   "outputs": [
    {
     "name": "stdout",
     "output_type": "stream",
     "text": [
      "A\n",
      "B\n",
      "C\n"
     ]
    }
   ],
   "source": [
    "for i in t:\n",
    "    print(i)"
   ]
  },
  {
   "cell_type": "markdown",
   "metadata": {},
   "source": [
    "# OxfordPet Dataset 생성\n",
    "- https://www.robots.ox.ac.uk/~vgg/data/pets/\n",
    "- 개,고양이 37가지 품종\n",
    "- 품종별로 200장 정도씩 구성됨. (품종별로 이미지 개수는 다르다)\n",
    "\n",
    "- 목표\n",
    "    - train: 70%, validation: 20%, test: 10%"
   ]
  },
  {
   "cell_type": "code",
   "execution_count": 97,
   "metadata": {},
   "outputs": [
    {
     "name": "stdout",
     "output_type": "stream",
     "text": [
      "train: 140.0 valid: 40.0 test:나머지\n"
     ]
    }
   ],
   "source": [
    "# 품종별 데이터 200wkd\n",
    "print(\"train:\",200*0.7,\"valid:\",200*0.2,\"test:나머지\")"
   ]
  },
  {
   "cell_type": "code",
   "execution_count": 98,
   "metadata": {},
   "outputs": [],
   "source": [
    "import os\n",
    "import re\n",
    "from glob import glob\n",
    "import tarfile\n",
    "from PIL import Image"
   ]
  },
  {
   "cell_type": "code",
   "execution_count": 133,
   "metadata": {},
   "outputs": [],
   "source": [
    "tar_file_path='images.tar.gz'\n",
    "data_root_path='datasets/oxfordpet' # 압축 풀 directory 경로\n",
    "os.makedirs(data_root_path,exist_ok=True)"
   ]
  },
  {
   "cell_type": "code",
   "execution_count": 134,
   "metadata": {},
   "outputs": [],
   "source": [
    "# 압축풀기\n",
    "with tarfile.open(tar_file_path,'r:gz') as tar:\n",
    "    tar.extractall(data_root_path) # data_root_path 경로에 압축을 푼다. (생략하면 현재디렉토리에 품)"
   ]
  },
  {
   "cell_type": "code",
   "execution_count": null,
   "metadata": {},
   "outputs": [],
   "source": [
    "# tar = tarfile.open()\n",
    "# tar.extractall()\n",
    "# tar.close()"
   ]
  },
  {
   "cell_type": "code",
   "execution_count": 103,
   "metadata": {},
   "outputs": [
    {
     "data": {
      "text/plain": [
       "'datasets/oxfordpet\\\\images'"
      ]
     },
     "execution_count": 103,
     "metadata": {},
     "output_type": "execute_result"
    }
   ],
   "source": [
    "## 이미지들이 저장되어 있는 경로\n",
    "data_path=os.path.join(data_root_path,'images')\n",
    "\n",
    "# 각 이미지의 경로를 list로 저장\n",
    "data_path"
   ]
  },
  {
   "cell_type": "code",
   "execution_count": 107,
   "metadata": {},
   "outputs": [
    {
     "data": {
      "text/plain": [
       "['images']"
      ]
     },
     "execution_count": 107,
     "metadata": {},
     "output_type": "execute_result"
    }
   ],
   "source": [
    "os.listdir('datasets/oxfordpet')"
   ]
  },
  {
   "cell_type": "code",
   "execution_count": 108,
   "metadata": {
    "collapsed": true
   },
   "outputs": [
    {
     "data": {
      "text/plain": [
       "['Abyssinian_1.jpg',\n",
       " 'Abyssinian_10.jpg',\n",
       " 'Abyssinian_100.jpg',\n",
       " 'Abyssinian_100.mat',\n",
       " 'Abyssinian_101.jpg',\n",
       " 'Abyssinian_101.mat',\n",
       " 'Abyssinian_102.jpg',\n",
       " 'Abyssinian_102.mat',\n",
       " 'Abyssinian_103.jpg',\n",
       " 'Abyssinian_104.jpg',\n",
       " 'Abyssinian_105.jpg',\n",
       " 'Abyssinian_106.jpg',\n",
       " 'Abyssinian_107.jpg',\n",
       " 'Abyssinian_108.jpg',\n",
       " 'Abyssinian_109.jpg',\n",
       " 'Abyssinian_11.jpg',\n",
       " 'Abyssinian_110.jpg',\n",
       " 'Abyssinian_111.jpg',\n",
       " 'Abyssinian_112.jpg',\n",
       " 'Abyssinian_113.jpg',\n",
       " 'Abyssinian_114.jpg',\n",
       " 'Abyssinian_115.jpg',\n",
       " 'Abyssinian_116.jpg',\n",
       " 'Abyssinian_117.jpg',\n",
       " 'Abyssinian_118.jpg',\n",
       " 'Abyssinian_119.jpg',\n",
       " 'Abyssinian_12.jpg',\n",
       " 'Abyssinian_120.jpg',\n",
       " 'Abyssinian_121.jpg',\n",
       " 'Abyssinian_122.jpg',\n",
       " 'Abyssinian_123.jpg',\n",
       " 'Abyssinian_124.jpg',\n",
       " 'Abyssinian_125.jpg',\n",
       " 'Abyssinian_126.jpg',\n",
       " 'Abyssinian_127.jpg',\n",
       " 'Abyssinian_128.jpg',\n",
       " 'Abyssinian_129.jpg',\n",
       " 'Abyssinian_13.jpg',\n",
       " 'Abyssinian_130.jpg',\n",
       " 'Abyssinian_131.jpg',\n",
       " 'Abyssinian_132.jpg',\n",
       " 'Abyssinian_133.jpg',\n",
       " 'Abyssinian_134.jpg',\n",
       " 'Abyssinian_135.jpg',\n",
       " 'Abyssinian_136.jpg',\n",
       " 'Abyssinian_137.jpg',\n",
       " 'Abyssinian_138.jpg',\n",
       " 'Abyssinian_139.jpg',\n",
       " 'Abyssinian_14.jpg',\n",
       " 'Abyssinian_140.jpg',\n",
       " 'Abyssinian_141.jpg',\n",
       " 'Abyssinian_142.jpg',\n",
       " 'Abyssinian_143.jpg',\n",
       " 'Abyssinian_144.jpg',\n",
       " 'Abyssinian_145.jpg',\n",
       " 'Abyssinian_146.jpg',\n",
       " 'Abyssinian_148.jpg',\n",
       " 'Abyssinian_149.jpg',\n",
       " 'Abyssinian_15.jpg',\n",
       " 'Abyssinian_150.jpg',\n",
       " 'Abyssinian_151.jpg',\n",
       " 'Abyssinian_152.jpg',\n",
       " 'Abyssinian_153.jpg',\n",
       " 'Abyssinian_154.jpg',\n",
       " 'Abyssinian_155.jpg',\n",
       " 'Abyssinian_156.jpg',\n",
       " 'Abyssinian_157.jpg',\n",
       " 'Abyssinian_158.jpg',\n",
       " 'Abyssinian_159.jpg',\n",
       " 'Abyssinian_16.jpg',\n",
       " 'Abyssinian_160.jpg',\n",
       " 'Abyssinian_161.jpg',\n",
       " 'Abyssinian_164.jpg',\n",
       " 'Abyssinian_165.jpg',\n",
       " 'Abyssinian_166.jpg',\n",
       " 'Abyssinian_167.jpg',\n",
       " 'Abyssinian_168.jpg',\n",
       " 'Abyssinian_169.jpg',\n",
       " 'Abyssinian_17.jpg',\n",
       " 'Abyssinian_170.jpg',\n",
       " 'Abyssinian_172.jpg',\n",
       " 'Abyssinian_173.jpg',\n",
       " 'Abyssinian_174.jpg',\n",
       " 'Abyssinian_175.jpg',\n",
       " 'Abyssinian_176.jpg',\n",
       " 'Abyssinian_177.jpg',\n",
       " 'Abyssinian_178.jpg',\n",
       " 'Abyssinian_179.jpg',\n",
       " 'Abyssinian_18.jpg',\n",
       " 'Abyssinian_180.jpg',\n",
       " 'Abyssinian_181.jpg',\n",
       " 'Abyssinian_182.jpg',\n",
       " 'Abyssinian_183.jpg',\n",
       " 'Abyssinian_184.jpg',\n",
       " 'Abyssinian_185.jpg',\n",
       " 'Abyssinian_19.jpg',\n",
       " 'Abyssinian_190.jpg',\n",
       " 'Abyssinian_191.jpg',\n",
       " 'Abyssinian_192.jpg',\n",
       " 'Abyssinian_193.jpg',\n",
       " 'Abyssinian_195.jpg',\n",
       " 'Abyssinian_196.jpg',\n",
       " 'Abyssinian_197.jpg',\n",
       " 'Abyssinian_2.jpg',\n",
       " 'Abyssinian_20.jpg',\n",
       " 'Abyssinian_201.jpg',\n",
       " 'Abyssinian_202.jpg',\n",
       " 'Abyssinian_204.jpg',\n",
       " 'Abyssinian_205.jpg',\n",
       " 'Abyssinian_206.jpg',\n",
       " 'Abyssinian_207.jpg',\n",
       " 'Abyssinian_21.jpg',\n",
       " 'Abyssinian_210.jpg',\n",
       " 'Abyssinian_212.jpg',\n",
       " 'Abyssinian_213.jpg',\n",
       " 'Abyssinian_215.jpg',\n",
       " 'Abyssinian_216.jpg',\n",
       " 'Abyssinian_217.jpg',\n",
       " 'Abyssinian_219.jpg',\n",
       " 'Abyssinian_22.jpg',\n",
       " 'Abyssinian_220.jpg',\n",
       " 'Abyssinian_221.jpg',\n",
       " 'Abyssinian_223.jpg',\n",
       " 'Abyssinian_224.jpg',\n",
       " 'Abyssinian_225.jpg',\n",
       " 'Abyssinian_226.jpg',\n",
       " 'Abyssinian_228.jpg',\n",
       " 'Abyssinian_230.jpg',\n",
       " 'Abyssinian_232.jpg',\n",
       " 'Abyssinian_24.jpg',\n",
       " 'Abyssinian_25.jpg',\n",
       " 'Abyssinian_26.jpg',\n",
       " 'Abyssinian_27.jpg',\n",
       " 'Abyssinian_29.jpg',\n",
       " 'Abyssinian_3.jpg',\n",
       " 'Abyssinian_30.jpg',\n",
       " 'Abyssinian_31.jpg',\n",
       " 'Abyssinian_32.jpg',\n",
       " 'Abyssinian_33.jpg',\n",
       " 'Abyssinian_34.jpg',\n",
       " 'Abyssinian_36.jpg',\n",
       " 'Abyssinian_37.jpg',\n",
       " 'Abyssinian_4.jpg',\n",
       " 'Abyssinian_40.jpg',\n",
       " 'Abyssinian_43.jpg',\n",
       " 'Abyssinian_44.jpg',\n",
       " 'Abyssinian_45.jpg',\n",
       " 'Abyssinian_46.jpg',\n",
       " 'Abyssinian_47.jpg',\n",
       " 'Abyssinian_48.jpg',\n",
       " 'Abyssinian_49.jpg',\n",
       " 'Abyssinian_5.jpg',\n",
       " 'Abyssinian_50.jpg',\n",
       " 'Abyssinian_51.jpg',\n",
       " 'Abyssinian_52.jpg',\n",
       " 'Abyssinian_54.jpg',\n",
       " 'Abyssinian_55.jpg',\n",
       " 'Abyssinian_56.jpg',\n",
       " 'Abyssinian_57.jpg',\n",
       " 'Abyssinian_58.jpg',\n",
       " 'Abyssinian_6.jpg',\n",
       " 'Abyssinian_60.jpg',\n",
       " 'Abyssinian_61.jpg',\n",
       " 'Abyssinian_62.jpg',\n",
       " 'Abyssinian_63.jpg',\n",
       " 'Abyssinian_65.jpg',\n",
       " 'Abyssinian_66.jpg',\n",
       " 'Abyssinian_67.jpg',\n",
       " 'Abyssinian_68.jpg',\n",
       " 'Abyssinian_69.jpg',\n",
       " 'Abyssinian_7.jpg',\n",
       " 'Abyssinian_70.jpg',\n",
       " 'Abyssinian_71.jpg',\n",
       " 'Abyssinian_72.jpg',\n",
       " 'Abyssinian_73.jpg',\n",
       " 'Abyssinian_74.jpg',\n",
       " 'Abyssinian_75.jpg',\n",
       " 'Abyssinian_76.jpg',\n",
       " 'Abyssinian_77.jpg',\n",
       " 'Abyssinian_78.jpg',\n",
       " 'Abyssinian_79.jpg',\n",
       " 'Abyssinian_8.jpg',\n",
       " 'Abyssinian_80.jpg',\n",
       " 'Abyssinian_81.jpg',\n",
       " 'Abyssinian_82.jpg',\n",
       " 'Abyssinian_83.jpg',\n",
       " 'Abyssinian_84.jpg',\n",
       " 'Abyssinian_85.jpg',\n",
       " 'Abyssinian_86.jpg',\n",
       " 'Abyssinian_87.jpg',\n",
       " 'Abyssinian_88.jpg',\n",
       " 'Abyssinian_89.jpg',\n",
       " 'Abyssinian_9.jpg',\n",
       " 'Abyssinian_90.jpg',\n",
       " 'Abyssinian_91.jpg',\n",
       " 'Abyssinian_92.jpg',\n",
       " 'Abyssinian_93.jpg',\n",
       " 'Abyssinian_94.jpg',\n",
       " 'Abyssinian_95.jpg',\n",
       " 'Abyssinian_96.jpg',\n",
       " 'Abyssinian_97.jpg',\n",
       " 'Abyssinian_98.jpg',\n",
       " 'Abyssinian_99.jpg',\n",
       " 'american_bulldog_10.jpg',\n",
       " 'american_bulldog_100.jpg',\n",
       " 'american_bulldog_101.jpg',\n",
       " 'american_bulldog_102.jpg',\n",
       " 'american_bulldog_103.jpg',\n",
       " 'american_bulldog_104.jpg',\n",
       " 'american_bulldog_105.jpg',\n",
       " 'american_bulldog_106.jpg',\n",
       " 'american_bulldog_107.jpg',\n",
       " 'american_bulldog_108.jpg',\n",
       " 'american_bulldog_109.jpg',\n",
       " 'american_bulldog_11.jpg',\n",
       " 'american_bulldog_110.jpg',\n",
       " 'american_bulldog_111.jpg',\n",
       " 'american_bulldog_112.jpg',\n",
       " 'american_bulldog_113.jpg',\n",
       " 'american_bulldog_114.jpg',\n",
       " 'american_bulldog_115.jpg',\n",
       " 'american_bulldog_116.jpg',\n",
       " 'american_bulldog_117.jpg',\n",
       " 'american_bulldog_118.jpg',\n",
       " 'american_bulldog_119.jpg',\n",
       " 'american_bulldog_12.jpg',\n",
       " 'american_bulldog_120.jpg',\n",
       " 'american_bulldog_121.jpg',\n",
       " 'american_bulldog_122.jpg',\n",
       " 'american_bulldog_123.jpg',\n",
       " 'american_bulldog_124.jpg',\n",
       " 'american_bulldog_125.jpg',\n",
       " 'american_bulldog_126.jpg',\n",
       " 'american_bulldog_127.jpg',\n",
       " 'american_bulldog_128.jpg',\n",
       " 'american_bulldog_129.jpg',\n",
       " 'american_bulldog_13.jpg',\n",
       " 'american_bulldog_130.jpg',\n",
       " 'american_bulldog_131.jpg',\n",
       " 'american_bulldog_132.jpg',\n",
       " 'american_bulldog_133.jpg',\n",
       " 'american_bulldog_134.jpg',\n",
       " 'american_bulldog_135.jpg',\n",
       " 'american_bulldog_136.jpg',\n",
       " 'american_bulldog_137.jpg',\n",
       " 'american_bulldog_138.jpg',\n",
       " 'american_bulldog_139.jpg',\n",
       " 'american_bulldog_14.jpg',\n",
       " 'american_bulldog_140.jpg',\n",
       " 'american_bulldog_141.jpg',\n",
       " 'american_bulldog_142.jpg',\n",
       " 'american_bulldog_143.jpg',\n",
       " 'american_bulldog_144.jpg',\n",
       " 'american_bulldog_146.jpg',\n",
       " 'american_bulldog_147.jpg',\n",
       " 'american_bulldog_148.jpg',\n",
       " 'american_bulldog_149.jpg',\n",
       " 'american_bulldog_15.jpg',\n",
       " 'american_bulldog_150.jpg',\n",
       " 'american_bulldog_151.jpg',\n",
       " 'american_bulldog_152.jpg',\n",
       " 'american_bulldog_153.jpg',\n",
       " 'american_bulldog_158.jpg',\n",
       " 'american_bulldog_16.jpg',\n",
       " 'american_bulldog_161.jpg',\n",
       " 'american_bulldog_164.jpg',\n",
       " 'american_bulldog_166.jpg',\n",
       " 'american_bulldog_167.jpg',\n",
       " 'american_bulldog_168.jpg',\n",
       " 'american_bulldog_169.jpg',\n",
       " 'american_bulldog_171.jpg',\n",
       " 'american_bulldog_172.jpg',\n",
       " 'american_bulldog_173.jpg',\n",
       " 'american_bulldog_174.jpg',\n",
       " 'american_bulldog_175.jpg',\n",
       " 'american_bulldog_176.jpg',\n",
       " 'american_bulldog_177.jpg',\n",
       " 'american_bulldog_178.jpg',\n",
       " 'american_bulldog_179.jpg',\n",
       " 'american_bulldog_18.jpg',\n",
       " 'american_bulldog_180.jpg',\n",
       " 'american_bulldog_181.jpg',\n",
       " 'american_bulldog_182.jpg',\n",
       " 'american_bulldog_183.jpg',\n",
       " 'american_bulldog_184.jpg',\n",
       " 'american_bulldog_185.jpg',\n",
       " 'american_bulldog_186.jpg',\n",
       " 'american_bulldog_187.jpg',\n",
       " 'american_bulldog_188.jpg',\n",
       " 'american_bulldog_189.jpg',\n",
       " 'american_bulldog_19.jpg',\n",
       " 'american_bulldog_190.jpg',\n",
       " 'american_bulldog_191.jpg',\n",
       " 'american_bulldog_192.jpg',\n",
       " 'american_bulldog_193.jpg',\n",
       " 'american_bulldog_194.jpg',\n",
       " 'american_bulldog_196.jpg',\n",
       " 'american_bulldog_197.jpg',\n",
       " 'american_bulldog_198.jpg',\n",
       " 'american_bulldog_199.jpg',\n",
       " 'american_bulldog_2.jpg',\n",
       " 'american_bulldog_20.jpg',\n",
       " 'american_bulldog_200.jpg',\n",
       " 'american_bulldog_201.jpg',\n",
       " 'american_bulldog_202.jpg',\n",
       " 'american_bulldog_203.jpg',\n",
       " 'american_bulldog_205.jpg',\n",
       " 'american_bulldog_207.jpg',\n",
       " 'american_bulldog_208.jpg',\n",
       " 'american_bulldog_209.jpg',\n",
       " 'american_bulldog_21.jpg',\n",
       " 'american_bulldog_211.jpg',\n",
       " 'american_bulldog_212.jpg',\n",
       " 'american_bulldog_214.jpg',\n",
       " 'american_bulldog_216.jpg',\n",
       " 'american_bulldog_217.jpg',\n",
       " 'american_bulldog_218.jpg',\n",
       " 'american_bulldog_22.jpg',\n",
       " 'american_bulldog_220.jpg',\n",
       " 'american_bulldog_221.jpg',\n",
       " 'american_bulldog_224.jpg',\n",
       " 'american_bulldog_23.jpg',\n",
       " 'american_bulldog_24.jpg',\n",
       " 'american_bulldog_25.jpg',\n",
       " 'american_bulldog_26.jpg',\n",
       " 'american_bulldog_27.jpg',\n",
       " 'american_bulldog_28.jpg',\n",
       " 'american_bulldog_29.jpg',\n",
       " 'american_bulldog_3.jpg',\n",
       " 'american_bulldog_30.jpg',\n",
       " 'american_bulldog_31.jpg',\n",
       " 'american_bulldog_32.jpg',\n",
       " 'american_bulldog_33.jpg',\n",
       " 'american_bulldog_34.jpg',\n",
       " 'american_bulldog_35.jpg',\n",
       " 'american_bulldog_36.jpg',\n",
       " 'american_bulldog_37.jpg',\n",
       " 'american_bulldog_38.jpg',\n",
       " 'american_bulldog_39.jpg',\n",
       " 'american_bulldog_40.jpg',\n",
       " 'american_bulldog_41.jpg',\n",
       " 'american_bulldog_42.jpg',\n",
       " 'american_bulldog_43.jpg',\n",
       " 'american_bulldog_44.jpg',\n",
       " 'american_bulldog_45.jpg',\n",
       " 'american_bulldog_46.jpg',\n",
       " 'american_bulldog_47.jpg',\n",
       " 'american_bulldog_48.jpg',\n",
       " 'american_bulldog_49.jpg',\n",
       " 'american_bulldog_5.jpg',\n",
       " 'american_bulldog_50.jpg',\n",
       " 'american_bulldog_51.jpg',\n",
       " 'american_bulldog_52.jpg',\n",
       " 'american_bulldog_53.jpg',\n",
       " 'american_bulldog_54.jpg',\n",
       " 'american_bulldog_55.jpg',\n",
       " 'american_bulldog_56.jpg',\n",
       " 'american_bulldog_57.jpg',\n",
       " 'american_bulldog_58.jpg',\n",
       " 'american_bulldog_59.jpg',\n",
       " 'american_bulldog_6.jpg',\n",
       " 'american_bulldog_60.jpg',\n",
       " 'american_bulldog_61.jpg',\n",
       " 'american_bulldog_62.jpg',\n",
       " 'american_bulldog_63.jpg',\n",
       " 'american_bulldog_64.jpg',\n",
       " 'american_bulldog_65.jpg',\n",
       " 'american_bulldog_66.jpg',\n",
       " 'american_bulldog_67.jpg',\n",
       " 'american_bulldog_68.jpg',\n",
       " 'american_bulldog_69.jpg',\n",
       " 'american_bulldog_7.jpg',\n",
       " 'american_bulldog_70.jpg',\n",
       " 'american_bulldog_71.jpg',\n",
       " 'american_bulldog_72.jpg',\n",
       " 'american_bulldog_73.jpg',\n",
       " 'american_bulldog_74.jpg',\n",
       " 'american_bulldog_75.jpg',\n",
       " 'american_bulldog_76.jpg',\n",
       " 'american_bulldog_77.jpg',\n",
       " 'american_bulldog_78.jpg',\n",
       " 'american_bulldog_79.jpg',\n",
       " 'american_bulldog_8.jpg',\n",
       " 'american_bulldog_80.jpg',\n",
       " 'american_bulldog_81.jpg',\n",
       " 'american_bulldog_82.jpg',\n",
       " 'american_bulldog_83.jpg',\n",
       " 'american_bulldog_84.jpg',\n",
       " 'american_bulldog_85.jpg',\n",
       " 'american_bulldog_86.jpg',\n",
       " 'american_bulldog_87.jpg',\n",
       " 'american_bulldog_89.jpg',\n",
       " 'american_bulldog_9.jpg',\n",
       " 'american_bulldog_90.jpg',\n",
       " 'american_bulldog_91.jpg',\n",
       " 'american_bulldog_92.jpg',\n",
       " 'american_bulldog_93.jpg',\n",
       " 'american_bulldog_94.jpg',\n",
       " 'american_bulldog_95.jpg',\n",
       " 'american_bulldog_96.jpg',\n",
       " 'american_bulldog_97.jpg',\n",
       " 'american_bulldog_98.jpg',\n",
       " 'american_bulldog_99.jpg',\n",
       " 'american_pit_bull_terrier_1.jpg',\n",
       " 'american_pit_bull_terrier_10.jpg',\n",
       " 'american_pit_bull_terrier_100.jpg',\n",
       " 'american_pit_bull_terrier_101.jpg',\n",
       " 'american_pit_bull_terrier_102.jpg',\n",
       " 'american_pit_bull_terrier_103.jpg',\n",
       " 'american_pit_bull_terrier_104.jpg',\n",
       " 'american_pit_bull_terrier_105.jpg',\n",
       " 'american_pit_bull_terrier_106.jpg',\n",
       " 'american_pit_bull_terrier_107.jpg',\n",
       " 'american_pit_bull_terrier_108.jpg',\n",
       " 'american_pit_bull_terrier_109.jpg',\n",
       " 'american_pit_bull_terrier_11.jpg',\n",
       " 'american_pit_bull_terrier_110.jpg',\n",
       " 'american_pit_bull_terrier_111.jpg',\n",
       " 'american_pit_bull_terrier_112.jpg',\n",
       " 'american_pit_bull_terrier_113.jpg',\n",
       " 'american_pit_bull_terrier_114.jpg',\n",
       " 'american_pit_bull_terrier_115.jpg',\n",
       " 'american_pit_bull_terrier_116.jpg',\n",
       " 'american_pit_bull_terrier_117.jpg',\n",
       " 'american_pit_bull_terrier_118.jpg',\n",
       " 'american_pit_bull_terrier_119.jpg',\n",
       " 'american_pit_bull_terrier_12.jpg',\n",
       " 'american_pit_bull_terrier_120.jpg',\n",
       " 'american_pit_bull_terrier_121.jpg',\n",
       " 'american_pit_bull_terrier_122.jpg',\n",
       " 'american_pit_bull_terrier_123.jpg',\n",
       " 'american_pit_bull_terrier_124.jpg',\n",
       " 'american_pit_bull_terrier_125.jpg',\n",
       " 'american_pit_bull_terrier_126.jpg',\n",
       " 'american_pit_bull_terrier_127.jpg',\n",
       " 'american_pit_bull_terrier_128.jpg',\n",
       " 'american_pit_bull_terrier_129.jpg',\n",
       " 'american_pit_bull_terrier_13.jpg',\n",
       " 'american_pit_bull_terrier_130.jpg',\n",
       " 'american_pit_bull_terrier_131.jpg',\n",
       " 'american_pit_bull_terrier_132.jpg',\n",
       " 'american_pit_bull_terrier_133.jpg',\n",
       " 'american_pit_bull_terrier_134.jpg',\n",
       " 'american_pit_bull_terrier_135.jpg',\n",
       " 'american_pit_bull_terrier_136.jpg',\n",
       " 'american_pit_bull_terrier_137.jpg',\n",
       " 'american_pit_bull_terrier_138.jpg',\n",
       " 'american_pit_bull_terrier_139.jpg',\n",
       " 'american_pit_bull_terrier_14.jpg',\n",
       " 'american_pit_bull_terrier_140.jpg',\n",
       " 'american_pit_bull_terrier_141.jpg',\n",
       " 'american_pit_bull_terrier_142.jpg',\n",
       " 'american_pit_bull_terrier_143.jpg',\n",
       " 'american_pit_bull_terrier_144.jpg',\n",
       " 'american_pit_bull_terrier_145.jpg',\n",
       " 'american_pit_bull_terrier_146.jpg',\n",
       " 'american_pit_bull_terrier_147.jpg',\n",
       " 'american_pit_bull_terrier_148.jpg',\n",
       " 'american_pit_bull_terrier_149.jpg',\n",
       " 'american_pit_bull_terrier_15.jpg',\n",
       " 'american_pit_bull_terrier_150.jpg',\n",
       " 'american_pit_bull_terrier_151.jpg',\n",
       " 'american_pit_bull_terrier_152.jpg',\n",
       " 'american_pit_bull_terrier_153.jpg',\n",
       " 'american_pit_bull_terrier_154.jpg',\n",
       " 'american_pit_bull_terrier_155.jpg',\n",
       " 'american_pit_bull_terrier_156.jpg',\n",
       " 'american_pit_bull_terrier_157.jpg',\n",
       " 'american_pit_bull_terrier_158.jpg',\n",
       " 'american_pit_bull_terrier_159.jpg',\n",
       " 'american_pit_bull_terrier_16.jpg',\n",
       " 'american_pit_bull_terrier_160.jpg',\n",
       " 'american_pit_bull_terrier_161.jpg',\n",
       " 'american_pit_bull_terrier_162.jpg',\n",
       " 'american_pit_bull_terrier_163.jpg',\n",
       " 'american_pit_bull_terrier_164.jpg',\n",
       " 'american_pit_bull_terrier_165.jpg',\n",
       " 'american_pit_bull_terrier_166.jpg',\n",
       " 'american_pit_bull_terrier_167.jpg',\n",
       " 'american_pit_bull_terrier_168.jpg',\n",
       " 'american_pit_bull_terrier_169.jpg',\n",
       " 'american_pit_bull_terrier_17.jpg',\n",
       " 'american_pit_bull_terrier_170.jpg',\n",
       " 'american_pit_bull_terrier_171.jpg',\n",
       " 'american_pit_bull_terrier_172.jpg',\n",
       " 'american_pit_bull_terrier_173.jpg',\n",
       " 'american_pit_bull_terrier_174.jpg',\n",
       " 'american_pit_bull_terrier_175.jpg',\n",
       " 'american_pit_bull_terrier_176.jpg',\n",
       " 'american_pit_bull_terrier_177.jpg',\n",
       " 'american_pit_bull_terrier_178.jpg',\n",
       " 'american_pit_bull_terrier_179.jpg',\n",
       " 'american_pit_bull_terrier_18.jpg',\n",
       " 'american_pit_bull_terrier_180.jpg',\n",
       " 'american_pit_bull_terrier_181.jpg',\n",
       " 'american_pit_bull_terrier_182.jpg',\n",
       " 'american_pit_bull_terrier_183.jpg',\n",
       " 'american_pit_bull_terrier_184.jpg',\n",
       " 'american_pit_bull_terrier_185.jpg',\n",
       " 'american_pit_bull_terrier_186.jpg',\n",
       " 'american_pit_bull_terrier_187.jpg',\n",
       " 'american_pit_bull_terrier_188.jpg',\n",
       " 'american_pit_bull_terrier_189.jpg',\n",
       " 'american_pit_bull_terrier_19.jpg',\n",
       " 'american_pit_bull_terrier_190.jpg',\n",
       " 'american_pit_bull_terrier_191.jpg',\n",
       " 'american_pit_bull_terrier_192.jpg',\n",
       " 'american_pit_bull_terrier_193.jpg',\n",
       " 'american_pit_bull_terrier_194.jpg',\n",
       " 'american_pit_bull_terrier_195.jpg',\n",
       " 'american_pit_bull_terrier_196.jpg',\n",
       " 'american_pit_bull_terrier_197.jpg',\n",
       " 'american_pit_bull_terrier_198.jpg',\n",
       " 'american_pit_bull_terrier_199.jpg',\n",
       " 'american_pit_bull_terrier_2.jpg',\n",
       " 'american_pit_bull_terrier_20.jpg',\n",
       " 'american_pit_bull_terrier_200.jpg',\n",
       " 'american_pit_bull_terrier_201.jpg',\n",
       " 'american_pit_bull_terrier_202.jpg',\n",
       " 'american_pit_bull_terrier_203.jpg',\n",
       " 'american_pit_bull_terrier_204.jpg',\n",
       " 'american_pit_bull_terrier_21.jpg',\n",
       " 'american_pit_bull_terrier_22.jpg',\n",
       " 'american_pit_bull_terrier_23.jpg',\n",
       " 'american_pit_bull_terrier_24.jpg',\n",
       " 'american_pit_bull_terrier_25.jpg',\n",
       " 'american_pit_bull_terrier_26.jpg',\n",
       " 'american_pit_bull_terrier_27.jpg',\n",
       " 'american_pit_bull_terrier_28.jpg',\n",
       " 'american_pit_bull_terrier_29.jpg',\n",
       " 'american_pit_bull_terrier_30.jpg',\n",
       " 'american_pit_bull_terrier_31.jpg',\n",
       " 'american_pit_bull_terrier_32.jpg',\n",
       " 'american_pit_bull_terrier_33.jpg',\n",
       " 'american_pit_bull_terrier_35.jpg',\n",
       " 'american_pit_bull_terrier_36.jpg',\n",
       " 'american_pit_bull_terrier_37.jpg',\n",
       " 'american_pit_bull_terrier_38.jpg',\n",
       " 'american_pit_bull_terrier_39.jpg',\n",
       " 'american_pit_bull_terrier_4.jpg',\n",
       " 'american_pit_bull_terrier_40.jpg',\n",
       " 'american_pit_bull_terrier_41.jpg',\n",
       " 'american_pit_bull_terrier_42.jpg',\n",
       " 'american_pit_bull_terrier_43.jpg',\n",
       " 'american_pit_bull_terrier_44.jpg',\n",
       " 'american_pit_bull_terrier_45.jpg',\n",
       " 'american_pit_bull_terrier_46.jpg',\n",
       " 'american_pit_bull_terrier_47.jpg',\n",
       " 'american_pit_bull_terrier_48.jpg',\n",
       " 'american_pit_bull_terrier_49.jpg',\n",
       " 'american_pit_bull_terrier_5.jpg',\n",
       " 'american_pit_bull_terrier_50.jpg',\n",
       " 'american_pit_bull_terrier_51.jpg',\n",
       " 'american_pit_bull_terrier_52.jpg',\n",
       " 'american_pit_bull_terrier_53.jpg',\n",
       " 'american_pit_bull_terrier_54.jpg',\n",
       " 'american_pit_bull_terrier_55.jpg',\n",
       " 'american_pit_bull_terrier_56.jpg',\n",
       " 'american_pit_bull_terrier_57.jpg',\n",
       " 'american_pit_bull_terrier_58.jpg',\n",
       " 'american_pit_bull_terrier_59.jpg',\n",
       " 'american_pit_bull_terrier_6.jpg',\n",
       " 'american_pit_bull_terrier_60.jpg',\n",
       " 'american_pit_bull_terrier_61.jpg',\n",
       " 'american_pit_bull_terrier_62.jpg',\n",
       " 'american_pit_bull_terrier_63.jpg',\n",
       " 'american_pit_bull_terrier_64.jpg',\n",
       " 'american_pit_bull_terrier_65.jpg',\n",
       " 'american_pit_bull_terrier_66.jpg',\n",
       " 'american_pit_bull_terrier_67.jpg',\n",
       " 'american_pit_bull_terrier_68.jpg',\n",
       " 'american_pit_bull_terrier_69.jpg',\n",
       " 'american_pit_bull_terrier_7.jpg',\n",
       " 'american_pit_bull_terrier_70.jpg',\n",
       " 'american_pit_bull_terrier_71.jpg',\n",
       " 'american_pit_bull_terrier_72.jpg',\n",
       " 'american_pit_bull_terrier_73.jpg',\n",
       " 'american_pit_bull_terrier_74.jpg',\n",
       " 'american_pit_bull_terrier_75.jpg',\n",
       " 'american_pit_bull_terrier_76.jpg',\n",
       " 'american_pit_bull_terrier_77.jpg',\n",
       " 'american_pit_bull_terrier_78.jpg',\n",
       " 'american_pit_bull_terrier_79.jpg',\n",
       " 'american_pit_bull_terrier_8.jpg',\n",
       " 'american_pit_bull_terrier_80.jpg',\n",
       " 'american_pit_bull_terrier_81.jpg',\n",
       " 'american_pit_bull_terrier_82.jpg',\n",
       " 'american_pit_bull_terrier_84.jpg',\n",
       " 'american_pit_bull_terrier_86.jpg',\n",
       " 'american_pit_bull_terrier_87.jpg',\n",
       " 'american_pit_bull_terrier_88.jpg',\n",
       " 'american_pit_bull_terrier_89.jpg',\n",
       " 'american_pit_bull_terrier_9.jpg',\n",
       " 'american_pit_bull_terrier_90.jpg',\n",
       " 'american_pit_bull_terrier_91.jpg',\n",
       " 'american_pit_bull_terrier_92.jpg',\n",
       " 'american_pit_bull_terrier_93.jpg',\n",
       " 'american_pit_bull_terrier_94.jpg',\n",
       " 'american_pit_bull_terrier_95.jpg',\n",
       " 'american_pit_bull_terrier_96.jpg',\n",
       " 'american_pit_bull_terrier_97.jpg',\n",
       " 'american_pit_bull_terrier_98.jpg',\n",
       " 'american_pit_bull_terrier_99.jpg',\n",
       " 'basset_hound_1.jpg',\n",
       " 'basset_hound_10.jpg',\n",
       " 'basset_hound_100.jpg',\n",
       " 'basset_hound_101.jpg',\n",
       " 'basset_hound_102.jpg',\n",
       " 'basset_hound_103.jpg',\n",
       " 'basset_hound_104.jpg',\n",
       " 'basset_hound_105.jpg',\n",
       " 'basset_hound_106.jpg',\n",
       " 'basset_hound_107.jpg',\n",
       " 'basset_hound_108.jpg',\n",
       " 'basset_hound_109.jpg',\n",
       " 'basset_hound_11.jpg',\n",
       " 'basset_hound_110.jpg',\n",
       " 'basset_hound_111.jpg',\n",
       " 'basset_hound_112.jpg',\n",
       " 'basset_hound_113.jpg',\n",
       " 'basset_hound_114.jpg',\n",
       " 'basset_hound_115.jpg',\n",
       " 'basset_hound_116.jpg',\n",
       " 'basset_hound_117.jpg',\n",
       " 'basset_hound_118.jpg',\n",
       " 'basset_hound_119.jpg',\n",
       " 'basset_hound_12.jpg',\n",
       " 'basset_hound_120.jpg',\n",
       " 'basset_hound_121.jpg',\n",
       " 'basset_hound_122.jpg',\n",
       " 'basset_hound_123.jpg',\n",
       " 'basset_hound_124.jpg',\n",
       " 'basset_hound_125.jpg',\n",
       " 'basset_hound_126.jpg',\n",
       " 'basset_hound_127.jpg',\n",
       " 'basset_hound_128.jpg',\n",
       " 'basset_hound_129.jpg',\n",
       " 'basset_hound_13.jpg',\n",
       " 'basset_hound_130.jpg',\n",
       " 'basset_hound_131.jpg',\n",
       " 'basset_hound_132.jpg',\n",
       " 'basset_hound_133.jpg',\n",
       " 'basset_hound_134.jpg',\n",
       " 'basset_hound_135.jpg',\n",
       " 'basset_hound_136.jpg',\n",
       " 'basset_hound_137.jpg',\n",
       " 'basset_hound_138.jpg',\n",
       " 'basset_hound_139.jpg',\n",
       " 'basset_hound_14.jpg',\n",
       " 'basset_hound_140.jpg',\n",
       " 'basset_hound_141.jpg',\n",
       " 'basset_hound_142.jpg',\n",
       " 'basset_hound_143.jpg',\n",
       " 'basset_hound_144.jpg',\n",
       " 'basset_hound_145.jpg',\n",
       " 'basset_hound_146.jpg',\n",
       " 'basset_hound_147.jpg',\n",
       " 'basset_hound_148.jpg',\n",
       " 'basset_hound_149.jpg',\n",
       " 'basset_hound_15.jpg',\n",
       " 'basset_hound_150.jpg',\n",
       " 'basset_hound_151.jpg',\n",
       " 'basset_hound_152.jpg',\n",
       " 'basset_hound_153.jpg',\n",
       " 'basset_hound_154.jpg',\n",
       " 'basset_hound_155.jpg',\n",
       " 'basset_hound_156.jpg',\n",
       " 'basset_hound_157.jpg',\n",
       " 'basset_hound_158.jpg',\n",
       " 'basset_hound_159.jpg',\n",
       " 'basset_hound_16.jpg',\n",
       " 'basset_hound_160.jpg',\n",
       " 'basset_hound_161.jpg',\n",
       " 'basset_hound_162.jpg',\n",
       " 'basset_hound_163.jpg',\n",
       " 'basset_hound_164.jpg',\n",
       " 'basset_hound_165.jpg',\n",
       " 'basset_hound_166.jpg',\n",
       " 'basset_hound_167.jpg',\n",
       " 'basset_hound_168.jpg',\n",
       " 'basset_hound_169.jpg',\n",
       " 'basset_hound_17.jpg',\n",
       " 'basset_hound_170.jpg',\n",
       " 'basset_hound_171.jpg',\n",
       " 'basset_hound_172.jpg',\n",
       " 'basset_hound_173.jpg',\n",
       " 'basset_hound_174.jpg',\n",
       " 'basset_hound_175.jpg',\n",
       " 'basset_hound_176.jpg',\n",
       " 'basset_hound_177.jpg',\n",
       " 'basset_hound_178.jpg',\n",
       " 'basset_hound_179.jpg',\n",
       " 'basset_hound_18.jpg',\n",
       " 'basset_hound_180.jpg',\n",
       " 'basset_hound_181.jpg',\n",
       " 'basset_hound_182.jpg',\n",
       " 'basset_hound_183.jpg',\n",
       " 'basset_hound_184.jpg',\n",
       " 'basset_hound_185.jpg',\n",
       " 'basset_hound_186.jpg',\n",
       " 'basset_hound_187.jpg',\n",
       " 'basset_hound_188.jpg',\n",
       " 'basset_hound_189.jpg',\n",
       " 'basset_hound_19.jpg',\n",
       " 'basset_hound_190.jpg',\n",
       " 'basset_hound_191.jpg',\n",
       " 'basset_hound_192.jpg',\n",
       " 'basset_hound_193.jpg',\n",
       " 'basset_hound_194.jpg',\n",
       " 'basset_hound_195.jpg',\n",
       " 'basset_hound_196.jpg',\n",
       " 'basset_hound_197.jpg',\n",
       " 'basset_hound_198.jpg',\n",
       " 'basset_hound_199.jpg',\n",
       " 'basset_hound_2.jpg',\n",
       " 'basset_hound_20.jpg',\n",
       " 'basset_hound_200.jpg',\n",
       " 'basset_hound_21.jpg',\n",
       " 'basset_hound_22.jpg',\n",
       " 'basset_hound_23.jpg',\n",
       " 'basset_hound_24.jpg',\n",
       " 'basset_hound_25.jpg',\n",
       " 'basset_hound_26.jpg',\n",
       " 'basset_hound_27.jpg',\n",
       " 'basset_hound_28.jpg',\n",
       " 'basset_hound_29.jpg',\n",
       " 'basset_hound_3.jpg',\n",
       " 'basset_hound_30.jpg',\n",
       " 'basset_hound_31.jpg',\n",
       " 'basset_hound_32.jpg',\n",
       " 'basset_hound_33.jpg',\n",
       " 'basset_hound_34.jpg',\n",
       " 'basset_hound_35.jpg',\n",
       " 'basset_hound_36.jpg',\n",
       " 'basset_hound_37.jpg',\n",
       " 'basset_hound_38.jpg',\n",
       " 'basset_hound_39.jpg',\n",
       " 'basset_hound_4.jpg',\n",
       " 'basset_hound_40.jpg',\n",
       " 'basset_hound_41.jpg',\n",
       " 'basset_hound_42.jpg',\n",
       " 'basset_hound_43.jpg',\n",
       " 'basset_hound_44.jpg',\n",
       " 'basset_hound_45.jpg',\n",
       " 'basset_hound_46.jpg',\n",
       " 'basset_hound_47.jpg',\n",
       " 'basset_hound_48.jpg',\n",
       " 'basset_hound_49.jpg',\n",
       " 'basset_hound_5.jpg',\n",
       " 'basset_hound_50.jpg',\n",
       " 'basset_hound_51.jpg',\n",
       " 'basset_hound_52.jpg',\n",
       " 'basset_hound_53.jpg',\n",
       " 'basset_hound_54.jpg',\n",
       " 'basset_hound_55.jpg',\n",
       " 'basset_hound_56.jpg',\n",
       " 'basset_hound_57.jpg',\n",
       " 'basset_hound_58.jpg',\n",
       " 'basset_hound_59.jpg',\n",
       " 'basset_hound_6.jpg',\n",
       " 'basset_hound_60.jpg',\n",
       " 'basset_hound_61.jpg',\n",
       " 'basset_hound_62.jpg',\n",
       " 'basset_hound_63.jpg',\n",
       " 'basset_hound_64.jpg',\n",
       " 'basset_hound_65.jpg',\n",
       " 'basset_hound_66.jpg',\n",
       " 'basset_hound_67.jpg',\n",
       " 'basset_hound_68.jpg',\n",
       " 'basset_hound_69.jpg',\n",
       " 'basset_hound_7.jpg',\n",
       " 'basset_hound_70.jpg',\n",
       " 'basset_hound_71.jpg',\n",
       " 'basset_hound_72.jpg',\n",
       " 'basset_hound_73.jpg',\n",
       " 'basset_hound_74.jpg',\n",
       " 'basset_hound_75.jpg',\n",
       " 'basset_hound_76.jpg',\n",
       " 'basset_hound_77.jpg',\n",
       " 'basset_hound_78.jpg',\n",
       " 'basset_hound_79.jpg',\n",
       " 'basset_hound_8.jpg',\n",
       " 'basset_hound_80.jpg',\n",
       " 'basset_hound_81.jpg',\n",
       " 'basset_hound_82.jpg',\n",
       " 'basset_hound_83.jpg',\n",
       " 'basset_hound_84.jpg',\n",
       " 'basset_hound_85.jpg',\n",
       " 'basset_hound_86.jpg',\n",
       " 'basset_hound_87.jpg',\n",
       " 'basset_hound_88.jpg',\n",
       " 'basset_hound_89.jpg',\n",
       " 'basset_hound_9.jpg',\n",
       " 'basset_hound_90.jpg',\n",
       " 'basset_hound_91.jpg',\n",
       " 'basset_hound_92.jpg',\n",
       " 'basset_hound_93.jpg',\n",
       " 'basset_hound_94.jpg',\n",
       " 'basset_hound_95.jpg',\n",
       " 'basset_hound_96.jpg',\n",
       " 'basset_hound_97.jpg',\n",
       " 'basset_hound_98.jpg',\n",
       " 'basset_hound_99.jpg',\n",
       " 'beagle_1.jpg',\n",
       " 'beagle_10.jpg',\n",
       " 'beagle_100.jpg',\n",
       " 'beagle_101.jpg',\n",
       " 'beagle_102.jpg',\n",
       " 'beagle_103.jpg',\n",
       " 'beagle_104.jpg',\n",
       " 'beagle_105.jpg',\n",
       " 'beagle_107.jpg',\n",
       " 'beagle_108.jpg',\n",
       " 'beagle_109.jpg',\n",
       " 'beagle_110.jpg',\n",
       " 'beagle_111.jpg',\n",
       " 'beagle_112.jpg',\n",
       " 'beagle_113.jpg',\n",
       " 'beagle_114.jpg',\n",
       " 'beagle_115.jpg',\n",
       " 'beagle_116.jpg',\n",
       " 'beagle_117.jpg',\n",
       " 'beagle_118.jpg',\n",
       " 'beagle_119.jpg',\n",
       " 'beagle_12.jpg',\n",
       " 'beagle_120.jpg',\n",
       " 'beagle_121.jpg',\n",
       " 'beagle_122.jpg',\n",
       " 'beagle_123.jpg',\n",
       " 'beagle_124.jpg',\n",
       " 'beagle_125.jpg',\n",
       " 'beagle_126.jpg',\n",
       " 'beagle_127.jpg',\n",
       " 'beagle_128.jpg',\n",
       " 'beagle_129.jpg',\n",
       " 'beagle_13.jpg',\n",
       " 'beagle_130.jpg',\n",
       " 'beagle_131.jpg',\n",
       " 'beagle_133.jpg',\n",
       " 'beagle_134.jpg',\n",
       " 'beagle_135.jpg',\n",
       " 'beagle_136.jpg',\n",
       " 'beagle_137.jpg',\n",
       " 'beagle_138.jpg',\n",
       " 'beagle_139.jpg',\n",
       " 'beagle_14.jpg',\n",
       " 'beagle_140.jpg',\n",
       " 'beagle_141.jpg',\n",
       " 'beagle_142.jpg',\n",
       " 'beagle_143.jpg',\n",
       " 'beagle_144.jpg',\n",
       " 'beagle_145.jpg',\n",
       " 'beagle_146.jpg',\n",
       " 'beagle_147.jpg',\n",
       " 'beagle_148.jpg',\n",
       " 'beagle_149.jpg',\n",
       " 'beagle_15.jpg',\n",
       " 'beagle_150.jpg',\n",
       " 'beagle_151.jpg',\n",
       " 'beagle_152.jpg',\n",
       " 'beagle_153.jpg',\n",
       " 'beagle_154.jpg',\n",
       " 'beagle_155.jpg',\n",
       " 'beagle_156.jpg',\n",
       " 'beagle_157.jpg',\n",
       " 'beagle_158.jpg',\n",
       " 'beagle_16.jpg',\n",
       " 'beagle_160.jpg',\n",
       " 'beagle_161.jpg',\n",
       " 'beagle_162.jpg',\n",
       " 'beagle_163.jpg',\n",
       " 'beagle_164.jpg',\n",
       " 'beagle_165.jpg',\n",
       " 'beagle_166.jpg',\n",
       " 'beagle_167.jpg',\n",
       " 'beagle_168.jpg',\n",
       " 'beagle_169.jpg',\n",
       " 'beagle_17.jpg',\n",
       " 'beagle_170.jpg',\n",
       " 'beagle_171.jpg',\n",
       " 'beagle_172.jpg',\n",
       " 'beagle_173.jpg',\n",
       " 'beagle_174.jpg',\n",
       " 'beagle_175.jpg',\n",
       " 'beagle_176.jpg',\n",
       " 'beagle_177.jpg',\n",
       " 'beagle_178.jpg',\n",
       " 'beagle_179.jpg',\n",
       " 'beagle_18.jpg',\n",
       " 'beagle_180.jpg',\n",
       " 'beagle_181.jpg',\n",
       " 'beagle_182.jpg',\n",
       " 'beagle_183.jpg',\n",
       " 'beagle_184.jpg',\n",
       " 'beagle_185.jpg',\n",
       " 'beagle_186.jpg',\n",
       " 'beagle_187.jpg',\n",
       " 'beagle_188.jpg',\n",
       " 'beagle_189.jpg',\n",
       " 'beagle_19.jpg',\n",
       " 'beagle_190.jpg',\n",
       " 'beagle_191.jpg',\n",
       " 'beagle_192.jpg',\n",
       " 'beagle_193.jpg',\n",
       " 'beagle_194.jpg',\n",
       " 'beagle_195.jpg',\n",
       " 'beagle_196.jpg',\n",
       " 'beagle_197.jpg',\n",
       " 'beagle_198.jpg',\n",
       " 'beagle_199.jpg',\n",
       " 'beagle_2.jpg',\n",
       " 'beagle_20.jpg',\n",
       " 'beagle_200.jpg',\n",
       " 'beagle_201.jpg',\n",
       " 'beagle_202.jpg',\n",
       " 'beagle_203.jpg',\n",
       " 'beagle_204.jpg',\n",
       " 'beagle_21.jpg',\n",
       " 'beagle_22.jpg',\n",
       " 'beagle_23.jpg',\n",
       " 'beagle_24.jpg',\n",
       " 'beagle_25.jpg',\n",
       " 'beagle_26.jpg',\n",
       " 'beagle_27.jpg',\n",
       " 'beagle_28.jpg',\n",
       " 'beagle_29.jpg',\n",
       " 'beagle_3.jpg',\n",
       " 'beagle_30.jpg',\n",
       " 'beagle_31.jpg',\n",
       " 'beagle_32.jpg',\n",
       " 'beagle_33.jpg',\n",
       " 'beagle_34.jpg',\n",
       " 'beagle_35.jpg',\n",
       " 'beagle_36.jpg',\n",
       " 'beagle_37.jpg',\n",
       " 'beagle_38.jpg',\n",
       " 'beagle_39.jpg',\n",
       " 'beagle_4.jpg',\n",
       " 'beagle_40.jpg',\n",
       " 'beagle_41.jpg',\n",
       " 'beagle_42.jpg',\n",
       " 'beagle_43.jpg',\n",
       " 'beagle_44.jpg',\n",
       " 'beagle_45.jpg',\n",
       " 'beagle_46.jpg',\n",
       " 'beagle_47.jpg',\n",
       " 'beagle_48.jpg',\n",
       " 'beagle_49.jpg',\n",
       " 'beagle_5.jpg',\n",
       " 'beagle_50.jpg',\n",
       " 'beagle_51.jpg',\n",
       " 'beagle_52.jpg',\n",
       " 'beagle_53.jpg',\n",
       " 'beagle_54.jpg',\n",
       " 'beagle_55.jpg',\n",
       " 'beagle_56.jpg',\n",
       " 'beagle_57.jpg',\n",
       " 'beagle_58.jpg',\n",
       " 'beagle_59.jpg',\n",
       " 'beagle_6.jpg',\n",
       " 'beagle_60.jpg',\n",
       " 'beagle_61.jpg',\n",
       " 'beagle_62.jpg',\n",
       " 'beagle_63.jpg',\n",
       " 'beagle_64.jpg',\n",
       " 'beagle_65.jpg',\n",
       " 'beagle_66.jpg',\n",
       " 'beagle_67.jpg',\n",
       " 'beagle_68.jpg',\n",
       " 'beagle_69.jpg',\n",
       " 'beagle_7.jpg',\n",
       " 'beagle_70.jpg',\n",
       " 'beagle_71.jpg',\n",
       " 'beagle_72.jpg',\n",
       " 'beagle_73.jpg',\n",
       " 'beagle_74.jpg',\n",
       " 'beagle_75.jpg',\n",
       " 'beagle_76.jpg',\n",
       " 'beagle_77.jpg',\n",
       " 'beagle_78.jpg',\n",
       " 'beagle_79.jpg',\n",
       " 'beagle_8.jpg',\n",
       " 'beagle_80.jpg',\n",
       " 'beagle_81.jpg',\n",
       " 'beagle_82.jpg',\n",
       " 'beagle_83.jpg',\n",
       " 'beagle_84.jpg',\n",
       " 'beagle_85.jpg',\n",
       " 'beagle_86.jpg',\n",
       " 'beagle_87.jpg',\n",
       " 'beagle_88.jpg',\n",
       " 'beagle_89.jpg',\n",
       " 'beagle_9.jpg',\n",
       " 'beagle_90.jpg',\n",
       " 'beagle_91.jpg',\n",
       " 'beagle_92.jpg',\n",
       " 'beagle_93.jpg',\n",
       " 'beagle_94.jpg',\n",
       " 'beagle_95.jpg',\n",
       " 'beagle_96.jpg',\n",
       " ...]"
      ]
     },
     "execution_count": 108,
     "metadata": {},
     "output_type": "execute_result"
    }
   ],
   "source": [
    "os.listdir('datasets/oxfordpet/images')"
   ]
  },
  {
   "cell_type": "code",
   "execution_count": 109,
   "metadata": {},
   "outputs": [
    {
     "data": {
      "text/plain": [
       "['datasets/oxfordpet']"
      ]
     },
     "execution_count": 109,
     "metadata": {},
     "output_type": "execute_result"
    }
   ],
   "source": [
    "glob('datasets/oxfordpet')"
   ]
  },
  {
   "cell_type": "code",
   "execution_count": 114,
   "metadata": {},
   "outputs": [
    {
     "data": {
      "text/plain": [
       "['datasets/oxfordpet/images/Abyssinian_1.jpg']"
      ]
     },
     "execution_count": 114,
     "metadata": {},
     "output_type": "execute_result"
    }
   ],
   "source": [
    "glob('datasets/oxfordpet/images/Abyssinian_1.jpg')"
   ]
  },
  {
   "cell_type": "code",
   "execution_count": 118,
   "metadata": {},
   "outputs": [
    {
     "data": {
      "text/plain": [
       "7390"
      ]
     },
     "execution_count": 118,
     "metadata": {},
     "output_type": "execute_result"
    }
   ],
   "source": [
    "glob('datasets/oxfordpet/**/*.jpg')\n",
    "# ** : 모든 하위 디렉토리 (디렉토리 경로에 넣어준다.)\n",
    "# * : 모든 글자\n",
    "### 모든 이미지파일들의 개별 경로\n",
    "file_list=glob('datasets/oxfordpet/**/*.jpg')\n",
    "len(file_list)"
   ]
  },
  {
   "cell_type": "code",
   "execution_count": 122,
   "metadata": {},
   "outputs": [
    {
     "name": "stdout",
     "output_type": "stream",
     "text": [
      "datasets/oxfordpet\\images\\Abyssinian_1.jpg\n",
      "파일경로에서 확장자 분리: ('datasets/oxfordpet\\\\images\\\\Abyssinian_1', '.jpg')\n",
      "파일경로에서 파일명 분리: Abyssinian_1.jpg\n",
      "파일경로에서 디렉토리 경로 분리: datasets/oxfordpet\\images\n"
     ]
    }
   ],
   "source": [
    "f=file_list[0]\n",
    "print(f)\n",
    "print(\"파일경로에서 확장자 분리:\",os.path.splitext(f))\n",
    "print(\"파일경로에서 파일명 분리:\",os.path.basename(f))\n",
    "print(\"파일경로에서 디렉토리 경로 분리:\",os.path.dirname(f))"
   ]
  },
  {
   "cell_type": "code",
   "execution_count": 135,
   "metadata": {},
   "outputs": [],
   "source": [
    "# 이미지들에서 RGB 컬러 이미지를 제외한 나머지 색모드 파일들을 제거\n",
    "remove_cnt=0 # 몇장 삭제했는지 count\n",
    "for idx,image_path in enumerate(file_list):\n",
    "    # 이미지 읽기 -> PIL.Image 사용\n",
    "    with Image.open(image_path) as image:\n",
    "        image_mode=image.mode # str: L - grayscale, RGB - RGB\n",
    "    if image_mode!= 'RGB':\n",
    "        # 삭제\n",
    "        os.remove(image_path)\n",
    "        remove_cnt+=1\n",
    "        print(f'{idx}번째 이미지 삭제 {os.path.basename(image_path)},mode:{image_mode}')"
   ]
  },
  {
   "cell_type": "code",
   "execution_count": 125,
   "metadata": {},
   "outputs": [
    {
     "data": {
      "image/png": "[encoded data removed]",
      "text/plain": [
       "<PIL.JpegImagePlugin.JpegImageFile image mode=RGB size=600x400>"
      ]
     },
     "execution_count": 125,
     "metadata": {},
     "output_type": "execute_result"
    }
   ],
   "source": [
    "img=Image.open(r'datasets/oxfordpet/images/Abyssinian_1.jpg')\n",
    "img.mode"
   ]
  },
  {
   "cell_type": "code",
   "execution_count": 132,
   "metadata": {},
   "outputs": [
    {
     "data": {
      "text/plain": [
       "7378"
      ]
     },
     "execution_count": 132,
     "metadata": {},
     "output_type": "execute_result"
    }
   ],
   "source": [
    "file_list=glob('datasets/oxfordpet/**/*.jpg')\n",
    "len(file_list)"
   ]
  },
  {
   "cell_type": "markdown",
   "metadata": {},
   "source": [
    "### index_to_class, class_to_index 생성\n",
    "- index_to_class : class들을 가지는 리스트. index(0, 1, ..)로 class 조회\n",
    "- class_to_index : key: 클래스이름, value: index -> class이름 넣으면 index 반환\n",
    "- 파일명이 class"
   ]
  },
  {
   "cell_type": "code",
   "execution_count": 145,
   "metadata": {},
   "outputs": [],
   "source": [
    "class_name_set=set()\n",
    "# file_list 에서 파일명을 추출한 뒤에 class_name_set에 추가\n",
    "for path in file_list:\n",
    "    filename=os.path.basename(path) #'datasets\\\\oxfordpet\\\\images\\\\Abyssinian_1.jpg'  ==> Abyssinian_1.jpg\n",
    "    filename2=os.path.splitext(filename)[0] # Abyssinian_1.jpg ==>  ( Abyssinian_1,  .jpg)\n",
    "    class_name=re.sub(r\"_\\d+\",\"\",filename2) #( Abyssinian_1,  .jpg) ->  Abyssinian_1\n",
    "    class_name_set.add(class_name)"
   ]
  },
  {
   "cell_type": "code",
   "execution_count": 146,
   "metadata": {},
   "outputs": [],
   "source": [
    "index_to_class=list(class_name_set)\n",
    "index_to_class.sort()"
   ]
  },
  {
   "cell_type": "code",
   "execution_count": 147,
   "metadata": {
    "collapsed": true
   },
   "outputs": [
    {
     "data": {
      "text/plain": [
       "['Abyssinian',\n",
       " 'Bengal',\n",
       " 'Birman',\n",
       " 'Bombay',\n",
       " 'British_Shorthair',\n",
       " 'Egyptian_Mau',\n",
       " 'Maine_Coon',\n",
       " 'Persian',\n",
       " 'Ragdoll',\n",
       " 'Russian_Blue',\n",
       " 'Siamese',\n",
       " 'Sphynx',\n",
       " 'american_bulldog',\n",
       " 'american_pit_bull_terrier',\n",
       " 'basset_hound',\n",
       " 'beagle',\n",
       " 'boxer',\n",
       " 'chihuahua',\n",
       " 'english_cocker_spaniel',\n",
       " 'english_setter',\n",
       " 'german_shorthaired',\n",
       " 'great_pyrenees',\n",
       " 'havanese',\n",
       " 'japanese_chin',\n",
       " 'keeshond',\n",
       " 'leonberger',\n",
       " 'miniature_pinscher',\n",
       " 'newfoundland',\n",
       " 'pomeranian',\n",
       " 'pug',\n",
       " 'saint_bernard',\n",
       " 'samoyed',\n",
       " 'scottish_terrier',\n",
       " 'shiba_inu',\n",
       " 'staffordshire_bull_terrier',\n",
       " 'wheaten_terrier',\n",
       " 'yorkshire_terrier']"
      ]
     },
     "execution_count": 147,
     "metadata": {},
     "output_type": "execute_result"
    }
   ],
   "source": [
    "index_to_class"
   ]
  },
  {
   "cell_type": "code",
   "execution_count": 150,
   "metadata": {
    "collapsed": true
   },
   "outputs": [
    {
     "data": {
      "text/plain": [
       "{'Abyssinian': 0,\n",
       " 'Bengal': 1,\n",
       " 'Birman': 2,\n",
       " 'Bombay': 3,\n",
       " 'British_Shorthair': 4,\n",
       " 'Egyptian_Mau': 5,\n",
       " 'Maine_Coon': 6,\n",
       " 'Persian': 7,\n",
       " 'Ragdoll': 8,\n",
       " 'Russian_Blue': 9,\n",
       " 'Siamese': 10,\n",
       " 'Sphynx': 11,\n",
       " 'american_bulldog': 12,\n",
       " 'american_pit_bull_terrier': 13,\n",
       " 'basset_hound': 14,\n",
       " 'beagle': 15,\n",
       " 'boxer': 16,\n",
       " 'chihuahua': 17,\n",
       " 'english_cocker_spaniel': 18,\n",
       " 'english_setter': 19,\n",
       " 'german_shorthaired': 20,\n",
       " 'great_pyrenees': 21,\n",
       " 'havanese': 22,\n",
       " 'japanese_chin': 23,\n",
       " 'keeshond': 24,\n",
       " 'leonberger': 25,\n",
       " 'miniature_pinscher': 26,\n",
       " 'newfoundland': 27,\n",
       " 'pomeranian': 28,\n",
       " 'pug': 29,\n",
       " 'saint_bernard': 30,\n",
       " 'samoyed': 31,\n",
       " 'scottish_terrier': 32,\n",
       " 'shiba_inu': 33,\n",
       " 'staffordshire_bull_terrier': 34,\n",
       " 'wheaten_terrier': 35,\n",
       " 'yorkshire_terrier': 36}"
      ]
     },
     "execution_count": 150,
     "metadata": {},
     "output_type": "execute_result"
    }
   ],
   "source": [
    "# class name => class(숫자) ===> dictionary\n",
    "class_to_index={name:idx for idx, name in enumerate(index_to_class)}\n",
    "class_to_index"
   ]
  },
  {
   "cell_type": "code",
   "execution_count": 152,
   "metadata": {},
   "outputs": [
    {
     "data": {
      "text/plain": [
       "('Bombay', 3)"
      ]
     },
     "execution_count": 152,
     "metadata": {},
     "output_type": "execute_result"
    }
   ],
   "source": [
    "index_to_class[3],class_to_index['Bombay']"
   ]
  },
  {
   "cell_type": "code",
   "execution_count": 153,
   "metadata": {},
   "outputs": [
    {
     "name": "stdout",
     "output_type": "stream",
     "text": [
      "140 180\n",
      "train_set:[0:140]\n",
      "valid_set:[140:180]\n",
      "test_set:[180:]\n"
     ]
    }
   ],
   "source": [
    "# 분리\n",
    "train_index=int(200*0.7) # trainset 개수\n",
    "valid_index=train_index + int(200*0.2)\n",
    "print(train_index,valid_index)\n",
    "print(f\"train_set:[0:{train_index}]\")\n",
    "print(f\"valid_set:[{train_index}:{valid_index}]\")\n",
    "print(f\"test_set:[{valid_index}:]\")"
   ]
  },
  {
   "cell_type": "code",
   "execution_count": 161,
   "metadata": {},
   "outputs": [],
   "source": [
    "# train_set, valid_set, test_set 분리\n",
    "### 각 dataset에 들어갈 파일들의 경로를 저장할 리스트\n",
    "train_path_list, valid_path_list, test_path_list=[],[],[]\n",
    "\n",
    "cnt=0 # class별 현재 몇번째 데이터인지\n",
    "previous_class= '' # 현재 class의 이름\n",
    "\n",
    "for path in file_list:\n",
    "    # 경로에서 파일명만 추출\n",
    "    file_name=os.path.splitext(os.path.basename(path))[0]\n",
    "    class_name=re.sub(r'_\\d+','',file_name)\n",
    "    \n",
    "    if previous_class==class_name: #작업중인 class\n",
    "        cnt+=1\n",
    "    else : # 새로운 class 생성 및 작업 시작의미\n",
    "        cnt=1\n",
    "    \n",
    "    if cnt <= train_index: # 현재 작업하는 cnt가 train index보다 작다면 train set에 들어갈 이미지\n",
    "        train_path_list.append(path)\n",
    "    elif train_index < cnt and valid_index >= cnt: # validation set 에 들어갈 이미지\n",
    "        valid_path_list.append(path)\n",
    "    else:\n",
    "        test_path_list.append(path)\n",
    "    \n",
    "    previous_class=class_name # 처리한 파일의 class이름을 previous_class로 설정"
   ]
  },
  {
   "cell_type": "code",
   "execution_count": 162,
   "metadata": {},
   "outputs": [
    {
     "data": {
      "text/plain": [
       "(5180, 1480, 718)"
      ]
     },
     "execution_count": 162,
     "metadata": {},
     "output_type": "execute_result"
    }
   ],
   "source": [
    "len(train_path_list), len(valid_path_list),len(test_path_list)"
   ]
  },
  {
   "cell_type": "code",
   "execution_count": 139,
   "metadata": {
    "collapsed": true
   },
   "outputs": [
    {
     "ename": "NameError",
     "evalue": "name 'yorkshire_terrier_161' is not defined",
     "output_type": "error",
     "traceback": [
      "\u001b[1;31m---------------------------------------------------------------------------\u001b[0m",
      "\u001b[1;31mNameError\u001b[0m                                 Traceback (most recent call last)",
      "Cell \u001b[1;32mIn[139], line 1\u001b[0m\n\u001b[1;32m----> 1\u001b[0m \u001b[43myorkshire_terrier_161\u001b[49m\u001b[38;5;241m.\u001b[39mjpg\n",
      "\u001b[1;31mNameError\u001b[0m: name 'yorkshire_terrier_161' is not defined"
     ]
    }
   ],
   "source": [
    "yorkshire_terrier_161.jpg"
   ]
  },
  {
   "cell_type": "code",
   "execution_count": null,
   "metadata": {},
   "outputs": [],
   "source": []
  },
  {
   "cell_type": "code",
   "execution_count": 154,
   "metadata": {
    "collapsed": true
   },
   "outputs": [
    {
     "data": {
      "text/plain": [
       "['datasets/oxfordpet\\\\images\\\\Abyssinian_1.jpg',\n",
       " 'datasets/oxfordpet\\\\images\\\\Abyssinian_10.jpg',\n",
       " 'datasets/oxfordpet\\\\images\\\\Abyssinian_100.jpg',\n",
       " 'datasets/oxfordpet\\\\images\\\\Abyssinian_101.jpg',\n",
       " 'datasets/oxfordpet\\\\images\\\\Abyssinian_102.jpg',\n",
       " 'datasets/oxfordpet\\\\images\\\\Abyssinian_103.jpg',\n",
       " 'datasets/oxfordpet\\\\images\\\\Abyssinian_104.jpg',\n",
       " 'datasets/oxfordpet\\\\images\\\\Abyssinian_105.jpg',\n",
       " 'datasets/oxfordpet\\\\images\\\\Abyssinian_106.jpg',\n",
       " 'datasets/oxfordpet\\\\images\\\\Abyssinian_107.jpg',\n",
       " 'datasets/oxfordpet\\\\images\\\\Abyssinian_108.jpg',\n",
       " 'datasets/oxfordpet\\\\images\\\\Abyssinian_109.jpg',\n",
       " 'datasets/oxfordpet\\\\images\\\\Abyssinian_11.jpg',\n",
       " 'datasets/oxfordpet\\\\images\\\\Abyssinian_110.jpg',\n",
       " 'datasets/oxfordpet\\\\images\\\\Abyssinian_111.jpg',\n",
       " 'datasets/oxfordpet\\\\images\\\\Abyssinian_112.jpg',\n",
       " 'datasets/oxfordpet\\\\images\\\\Abyssinian_113.jpg',\n",
       " 'datasets/oxfordpet\\\\images\\\\Abyssinian_114.jpg',\n",
       " 'datasets/oxfordpet\\\\images\\\\Abyssinian_115.jpg',\n",
       " 'datasets/oxfordpet\\\\images\\\\Abyssinian_116.jpg',\n",
       " 'datasets/oxfordpet\\\\images\\\\Abyssinian_117.jpg',\n",
       " 'datasets/oxfordpet\\\\images\\\\Abyssinian_118.jpg',\n",
       " 'datasets/oxfordpet\\\\images\\\\Abyssinian_119.jpg',\n",
       " 'datasets/oxfordpet\\\\images\\\\Abyssinian_12.jpg',\n",
       " 'datasets/oxfordpet\\\\images\\\\Abyssinian_120.jpg',\n",
       " 'datasets/oxfordpet\\\\images\\\\Abyssinian_121.jpg',\n",
       " 'datasets/oxfordpet\\\\images\\\\Abyssinian_122.jpg',\n",
       " 'datasets/oxfordpet\\\\images\\\\Abyssinian_123.jpg',\n",
       " 'datasets/oxfordpet\\\\images\\\\Abyssinian_124.jpg',\n",
       " 'datasets/oxfordpet\\\\images\\\\Abyssinian_125.jpg',\n",
       " 'datasets/oxfordpet\\\\images\\\\Abyssinian_126.jpg',\n",
       " 'datasets/oxfordpet\\\\images\\\\Abyssinian_127.jpg',\n",
       " 'datasets/oxfordpet\\\\images\\\\Abyssinian_128.jpg',\n",
       " 'datasets/oxfordpet\\\\images\\\\Abyssinian_129.jpg',\n",
       " 'datasets/oxfordpet\\\\images\\\\Abyssinian_13.jpg',\n",
       " 'datasets/oxfordpet\\\\images\\\\Abyssinian_130.jpg',\n",
       " 'datasets/oxfordpet\\\\images\\\\Abyssinian_131.jpg',\n",
       " 'datasets/oxfordpet\\\\images\\\\Abyssinian_132.jpg',\n",
       " 'datasets/oxfordpet\\\\images\\\\Abyssinian_133.jpg',\n",
       " 'datasets/oxfordpet\\\\images\\\\Abyssinian_134.jpg',\n",
       " 'datasets/oxfordpet\\\\images\\\\Abyssinian_135.jpg',\n",
       " 'datasets/oxfordpet\\\\images\\\\Abyssinian_136.jpg',\n",
       " 'datasets/oxfordpet\\\\images\\\\Abyssinian_137.jpg',\n",
       " 'datasets/oxfordpet\\\\images\\\\Abyssinian_138.jpg',\n",
       " 'datasets/oxfordpet\\\\images\\\\Abyssinian_139.jpg',\n",
       " 'datasets/oxfordpet\\\\images\\\\Abyssinian_14.jpg',\n",
       " 'datasets/oxfordpet\\\\images\\\\Abyssinian_140.jpg',\n",
       " 'datasets/oxfordpet\\\\images\\\\Abyssinian_141.jpg',\n",
       " 'datasets/oxfordpet\\\\images\\\\Abyssinian_142.jpg',\n",
       " 'datasets/oxfordpet\\\\images\\\\Abyssinian_143.jpg',\n",
       " 'datasets/oxfordpet\\\\images\\\\Abyssinian_144.jpg',\n",
       " 'datasets/oxfordpet\\\\images\\\\Abyssinian_145.jpg',\n",
       " 'datasets/oxfordpet\\\\images\\\\Abyssinian_146.jpg',\n",
       " 'datasets/oxfordpet\\\\images\\\\Abyssinian_148.jpg',\n",
       " 'datasets/oxfordpet\\\\images\\\\Abyssinian_149.jpg',\n",
       " 'datasets/oxfordpet\\\\images\\\\Abyssinian_15.jpg',\n",
       " 'datasets/oxfordpet\\\\images\\\\Abyssinian_150.jpg',\n",
       " 'datasets/oxfordpet\\\\images\\\\Abyssinian_151.jpg',\n",
       " 'datasets/oxfordpet\\\\images\\\\Abyssinian_152.jpg',\n",
       " 'datasets/oxfordpet\\\\images\\\\Abyssinian_153.jpg',\n",
       " 'datasets/oxfordpet\\\\images\\\\Abyssinian_154.jpg',\n",
       " 'datasets/oxfordpet\\\\images\\\\Abyssinian_155.jpg',\n",
       " 'datasets/oxfordpet\\\\images\\\\Abyssinian_156.jpg',\n",
       " 'datasets/oxfordpet\\\\images\\\\Abyssinian_157.jpg',\n",
       " 'datasets/oxfordpet\\\\images\\\\Abyssinian_158.jpg',\n",
       " 'datasets/oxfordpet\\\\images\\\\Abyssinian_159.jpg',\n",
       " 'datasets/oxfordpet\\\\images\\\\Abyssinian_16.jpg',\n",
       " 'datasets/oxfordpet\\\\images\\\\Abyssinian_160.jpg',\n",
       " 'datasets/oxfordpet\\\\images\\\\Abyssinian_161.jpg',\n",
       " 'datasets/oxfordpet\\\\images\\\\Abyssinian_164.jpg',\n",
       " 'datasets/oxfordpet\\\\images\\\\Abyssinian_165.jpg',\n",
       " 'datasets/oxfordpet\\\\images\\\\Abyssinian_166.jpg',\n",
       " 'datasets/oxfordpet\\\\images\\\\Abyssinian_167.jpg',\n",
       " 'datasets/oxfordpet\\\\images\\\\Abyssinian_168.jpg',\n",
       " 'datasets/oxfordpet\\\\images\\\\Abyssinian_169.jpg',\n",
       " 'datasets/oxfordpet\\\\images\\\\Abyssinian_17.jpg',\n",
       " 'datasets/oxfordpet\\\\images\\\\Abyssinian_170.jpg',\n",
       " 'datasets/oxfordpet\\\\images\\\\Abyssinian_172.jpg',\n",
       " 'datasets/oxfordpet\\\\images\\\\Abyssinian_173.jpg',\n",
       " 'datasets/oxfordpet\\\\images\\\\Abyssinian_174.jpg',\n",
       " 'datasets/oxfordpet\\\\images\\\\Abyssinian_175.jpg',\n",
       " 'datasets/oxfordpet\\\\images\\\\Abyssinian_176.jpg',\n",
       " 'datasets/oxfordpet\\\\images\\\\Abyssinian_177.jpg',\n",
       " 'datasets/oxfordpet\\\\images\\\\Abyssinian_178.jpg',\n",
       " 'datasets/oxfordpet\\\\images\\\\Abyssinian_179.jpg',\n",
       " 'datasets/oxfordpet\\\\images\\\\Abyssinian_18.jpg',\n",
       " 'datasets/oxfordpet\\\\images\\\\Abyssinian_180.jpg',\n",
       " 'datasets/oxfordpet\\\\images\\\\Abyssinian_181.jpg',\n",
       " 'datasets/oxfordpet\\\\images\\\\Abyssinian_182.jpg',\n",
       " 'datasets/oxfordpet\\\\images\\\\Abyssinian_183.jpg',\n",
       " 'datasets/oxfordpet\\\\images\\\\Abyssinian_184.jpg',\n",
       " 'datasets/oxfordpet\\\\images\\\\Abyssinian_185.jpg',\n",
       " 'datasets/oxfordpet\\\\images\\\\Abyssinian_19.jpg',\n",
       " 'datasets/oxfordpet\\\\images\\\\Abyssinian_190.jpg',\n",
       " 'datasets/oxfordpet\\\\images\\\\Abyssinian_191.jpg',\n",
       " 'datasets/oxfordpet\\\\images\\\\Abyssinian_192.jpg',\n",
       " 'datasets/oxfordpet\\\\images\\\\Abyssinian_193.jpg',\n",
       " 'datasets/oxfordpet\\\\images\\\\Abyssinian_195.jpg',\n",
       " 'datasets/oxfordpet\\\\images\\\\Abyssinian_196.jpg',\n",
       " 'datasets/oxfordpet\\\\images\\\\Abyssinian_197.jpg',\n",
       " 'datasets/oxfordpet\\\\images\\\\Abyssinian_2.jpg',\n",
       " 'datasets/oxfordpet\\\\images\\\\Abyssinian_20.jpg',\n",
       " 'datasets/oxfordpet\\\\images\\\\Abyssinian_201.jpg',\n",
       " 'datasets/oxfordpet\\\\images\\\\Abyssinian_202.jpg',\n",
       " 'datasets/oxfordpet\\\\images\\\\Abyssinian_204.jpg',\n",
       " 'datasets/oxfordpet\\\\images\\\\Abyssinian_205.jpg',\n",
       " 'datasets/oxfordpet\\\\images\\\\Abyssinian_206.jpg',\n",
       " 'datasets/oxfordpet\\\\images\\\\Abyssinian_207.jpg',\n",
       " 'datasets/oxfordpet\\\\images\\\\Abyssinian_21.jpg',\n",
       " 'datasets/oxfordpet\\\\images\\\\Abyssinian_210.jpg',\n",
       " 'datasets/oxfordpet\\\\images\\\\Abyssinian_212.jpg',\n",
       " 'datasets/oxfordpet\\\\images\\\\Abyssinian_213.jpg',\n",
       " 'datasets/oxfordpet\\\\images\\\\Abyssinian_215.jpg',\n",
       " 'datasets/oxfordpet\\\\images\\\\Abyssinian_216.jpg',\n",
       " 'datasets/oxfordpet\\\\images\\\\Abyssinian_217.jpg',\n",
       " 'datasets/oxfordpet\\\\images\\\\Abyssinian_219.jpg',\n",
       " 'datasets/oxfordpet\\\\images\\\\Abyssinian_22.jpg',\n",
       " 'datasets/oxfordpet\\\\images\\\\Abyssinian_220.jpg',\n",
       " 'datasets/oxfordpet\\\\images\\\\Abyssinian_221.jpg',\n",
       " 'datasets/oxfordpet\\\\images\\\\Abyssinian_223.jpg',\n",
       " 'datasets/oxfordpet\\\\images\\\\Abyssinian_224.jpg',\n",
       " 'datasets/oxfordpet\\\\images\\\\Abyssinian_225.jpg',\n",
       " 'datasets/oxfordpet\\\\images\\\\Abyssinian_226.jpg',\n",
       " 'datasets/oxfordpet\\\\images\\\\Abyssinian_228.jpg',\n",
       " 'datasets/oxfordpet\\\\images\\\\Abyssinian_230.jpg',\n",
       " 'datasets/oxfordpet\\\\images\\\\Abyssinian_232.jpg',\n",
       " 'datasets/oxfordpet\\\\images\\\\Abyssinian_24.jpg',\n",
       " 'datasets/oxfordpet\\\\images\\\\Abyssinian_25.jpg',\n",
       " 'datasets/oxfordpet\\\\images\\\\Abyssinian_26.jpg',\n",
       " 'datasets/oxfordpet\\\\images\\\\Abyssinian_27.jpg',\n",
       " 'datasets/oxfordpet\\\\images\\\\Abyssinian_29.jpg',\n",
       " 'datasets/oxfordpet\\\\images\\\\Abyssinian_3.jpg',\n",
       " 'datasets/oxfordpet\\\\images\\\\Abyssinian_30.jpg',\n",
       " 'datasets/oxfordpet\\\\images\\\\Abyssinian_31.jpg',\n",
       " 'datasets/oxfordpet\\\\images\\\\Abyssinian_32.jpg',\n",
       " 'datasets/oxfordpet\\\\images\\\\Abyssinian_33.jpg',\n",
       " 'datasets/oxfordpet\\\\images\\\\Abyssinian_36.jpg',\n",
       " 'datasets/oxfordpet\\\\images\\\\Abyssinian_37.jpg',\n",
       " 'datasets/oxfordpet\\\\images\\\\Abyssinian_4.jpg',\n",
       " 'datasets/oxfordpet\\\\images\\\\Abyssinian_40.jpg',\n",
       " 'datasets/oxfordpet\\\\images\\\\Abyssinian_43.jpg',\n",
       " 'datasets/oxfordpet\\\\images\\\\Abyssinian_44.jpg',\n",
       " 'datasets/oxfordpet\\\\images\\\\Abyssinian_45.jpg',\n",
       " 'datasets/oxfordpet\\\\images\\\\Abyssinian_46.jpg',\n",
       " 'datasets/oxfordpet\\\\images\\\\Abyssinian_47.jpg',\n",
       " 'datasets/oxfordpet\\\\images\\\\Abyssinian_48.jpg',\n",
       " 'datasets/oxfordpet\\\\images\\\\Abyssinian_49.jpg',\n",
       " 'datasets/oxfordpet\\\\images\\\\Abyssinian_50.jpg',\n",
       " 'datasets/oxfordpet\\\\images\\\\Abyssinian_51.jpg',\n",
       " 'datasets/oxfordpet\\\\images\\\\Abyssinian_52.jpg',\n",
       " 'datasets/oxfordpet\\\\images\\\\Abyssinian_54.jpg',\n",
       " 'datasets/oxfordpet\\\\images\\\\Abyssinian_55.jpg',\n",
       " 'datasets/oxfordpet\\\\images\\\\Abyssinian_56.jpg',\n",
       " 'datasets/oxfordpet\\\\images\\\\Abyssinian_57.jpg',\n",
       " 'datasets/oxfordpet\\\\images\\\\Abyssinian_58.jpg',\n",
       " 'datasets/oxfordpet\\\\images\\\\Abyssinian_6.jpg',\n",
       " 'datasets/oxfordpet\\\\images\\\\Abyssinian_60.jpg',\n",
       " 'datasets/oxfordpet\\\\images\\\\Abyssinian_61.jpg',\n",
       " 'datasets/oxfordpet\\\\images\\\\Abyssinian_62.jpg',\n",
       " 'datasets/oxfordpet\\\\images\\\\Abyssinian_63.jpg',\n",
       " 'datasets/oxfordpet\\\\images\\\\Abyssinian_65.jpg',\n",
       " 'datasets/oxfordpet\\\\images\\\\Abyssinian_66.jpg',\n",
       " 'datasets/oxfordpet\\\\images\\\\Abyssinian_67.jpg',\n",
       " 'datasets/oxfordpet\\\\images\\\\Abyssinian_68.jpg',\n",
       " 'datasets/oxfordpet\\\\images\\\\Abyssinian_69.jpg',\n",
       " 'datasets/oxfordpet\\\\images\\\\Abyssinian_7.jpg',\n",
       " 'datasets/oxfordpet\\\\images\\\\Abyssinian_70.jpg',\n",
       " 'datasets/oxfordpet\\\\images\\\\Abyssinian_71.jpg',\n",
       " 'datasets/oxfordpet\\\\images\\\\Abyssinian_72.jpg',\n",
       " 'datasets/oxfordpet\\\\images\\\\Abyssinian_73.jpg',\n",
       " 'datasets/oxfordpet\\\\images\\\\Abyssinian_74.jpg',\n",
       " 'datasets/oxfordpet\\\\images\\\\Abyssinian_75.jpg',\n",
       " 'datasets/oxfordpet\\\\images\\\\Abyssinian_76.jpg',\n",
       " 'datasets/oxfordpet\\\\images\\\\Abyssinian_77.jpg',\n",
       " 'datasets/oxfordpet\\\\images\\\\Abyssinian_78.jpg',\n",
       " 'datasets/oxfordpet\\\\images\\\\Abyssinian_79.jpg',\n",
       " 'datasets/oxfordpet\\\\images\\\\Abyssinian_8.jpg',\n",
       " 'datasets/oxfordpet\\\\images\\\\Abyssinian_80.jpg',\n",
       " 'datasets/oxfordpet\\\\images\\\\Abyssinian_81.jpg',\n",
       " 'datasets/oxfordpet\\\\images\\\\Abyssinian_82.jpg',\n",
       " 'datasets/oxfordpet\\\\images\\\\Abyssinian_83.jpg',\n",
       " 'datasets/oxfordpet\\\\images\\\\Abyssinian_84.jpg',\n",
       " 'datasets/oxfordpet\\\\images\\\\Abyssinian_85.jpg',\n",
       " 'datasets/oxfordpet\\\\images\\\\Abyssinian_86.jpg',\n",
       " 'datasets/oxfordpet\\\\images\\\\Abyssinian_87.jpg',\n",
       " 'datasets/oxfordpet\\\\images\\\\Abyssinian_88.jpg',\n",
       " 'datasets/oxfordpet\\\\images\\\\Abyssinian_89.jpg',\n",
       " 'datasets/oxfordpet\\\\images\\\\Abyssinian_9.jpg',\n",
       " 'datasets/oxfordpet\\\\images\\\\Abyssinian_90.jpg',\n",
       " 'datasets/oxfordpet\\\\images\\\\Abyssinian_91.jpg',\n",
       " 'datasets/oxfordpet\\\\images\\\\Abyssinian_92.jpg',\n",
       " 'datasets/oxfordpet\\\\images\\\\Abyssinian_93.jpg',\n",
       " 'datasets/oxfordpet\\\\images\\\\Abyssinian_94.jpg',\n",
       " 'datasets/oxfordpet\\\\images\\\\Abyssinian_95.jpg',\n",
       " 'datasets/oxfordpet\\\\images\\\\Abyssinian_96.jpg',\n",
       " 'datasets/oxfordpet\\\\images\\\\Abyssinian_97.jpg',\n",
       " 'datasets/oxfordpet\\\\images\\\\Abyssinian_98.jpg',\n",
       " 'datasets/oxfordpet\\\\images\\\\Abyssinian_99.jpg',\n",
       " 'datasets/oxfordpet\\\\images\\\\american_bulldog_10.jpg',\n",
       " 'datasets/oxfordpet\\\\images\\\\american_bulldog_100.jpg',\n",
       " 'datasets/oxfordpet\\\\images\\\\american_bulldog_101.jpg',\n",
       " 'datasets/oxfordpet\\\\images\\\\american_bulldog_102.jpg',\n",
       " 'datasets/oxfordpet\\\\images\\\\american_bulldog_103.jpg',\n",
       " 'datasets/oxfordpet\\\\images\\\\american_bulldog_104.jpg',\n",
       " 'datasets/oxfordpet\\\\images\\\\american_bulldog_105.jpg',\n",
       " 'datasets/oxfordpet\\\\images\\\\american_bulldog_106.jpg',\n",
       " 'datasets/oxfordpet\\\\images\\\\american_bulldog_107.jpg',\n",
       " 'datasets/oxfordpet\\\\images\\\\american_bulldog_108.jpg',\n",
       " 'datasets/oxfordpet\\\\images\\\\american_bulldog_109.jpg',\n",
       " 'datasets/oxfordpet\\\\images\\\\american_bulldog_11.jpg',\n",
       " 'datasets/oxfordpet\\\\images\\\\american_bulldog_110.jpg',\n",
       " 'datasets/oxfordpet\\\\images\\\\american_bulldog_111.jpg',\n",
       " 'datasets/oxfordpet\\\\images\\\\american_bulldog_112.jpg',\n",
       " 'datasets/oxfordpet\\\\images\\\\american_bulldog_113.jpg',\n",
       " 'datasets/oxfordpet\\\\images\\\\american_bulldog_114.jpg',\n",
       " 'datasets/oxfordpet\\\\images\\\\american_bulldog_115.jpg',\n",
       " 'datasets/oxfordpet\\\\images\\\\american_bulldog_116.jpg',\n",
       " 'datasets/oxfordpet\\\\images\\\\american_bulldog_117.jpg',\n",
       " 'datasets/oxfordpet\\\\images\\\\american_bulldog_118.jpg',\n",
       " 'datasets/oxfordpet\\\\images\\\\american_bulldog_119.jpg',\n",
       " 'datasets/oxfordpet\\\\images\\\\american_bulldog_12.jpg',\n",
       " 'datasets/oxfordpet\\\\images\\\\american_bulldog_120.jpg',\n",
       " 'datasets/oxfordpet\\\\images\\\\american_bulldog_121.jpg',\n",
       " 'datasets/oxfordpet\\\\images\\\\american_bulldog_122.jpg',\n",
       " 'datasets/oxfordpet\\\\images\\\\american_bulldog_123.jpg',\n",
       " 'datasets/oxfordpet\\\\images\\\\american_bulldog_124.jpg',\n",
       " 'datasets/oxfordpet\\\\images\\\\american_bulldog_125.jpg',\n",
       " 'datasets/oxfordpet\\\\images\\\\american_bulldog_126.jpg',\n",
       " 'datasets/oxfordpet\\\\images\\\\american_bulldog_127.jpg',\n",
       " 'datasets/oxfordpet\\\\images\\\\american_bulldog_128.jpg',\n",
       " 'datasets/oxfordpet\\\\images\\\\american_bulldog_129.jpg',\n",
       " 'datasets/oxfordpet\\\\images\\\\american_bulldog_13.jpg',\n",
       " 'datasets/oxfordpet\\\\images\\\\american_bulldog_130.jpg',\n",
       " 'datasets/oxfordpet\\\\images\\\\american_bulldog_131.jpg',\n",
       " 'datasets/oxfordpet\\\\images\\\\american_bulldog_132.jpg',\n",
       " 'datasets/oxfordpet\\\\images\\\\american_bulldog_133.jpg',\n",
       " 'datasets/oxfordpet\\\\images\\\\american_bulldog_134.jpg',\n",
       " 'datasets/oxfordpet\\\\images\\\\american_bulldog_135.jpg',\n",
       " 'datasets/oxfordpet\\\\images\\\\american_bulldog_136.jpg',\n",
       " 'datasets/oxfordpet\\\\images\\\\american_bulldog_137.jpg',\n",
       " 'datasets/oxfordpet\\\\images\\\\american_bulldog_138.jpg',\n",
       " 'datasets/oxfordpet\\\\images\\\\american_bulldog_139.jpg',\n",
       " 'datasets/oxfordpet\\\\images\\\\american_bulldog_14.jpg',\n",
       " 'datasets/oxfordpet\\\\images\\\\american_bulldog_140.jpg',\n",
       " 'datasets/oxfordpet\\\\images\\\\american_bulldog_141.jpg',\n",
       " 'datasets/oxfordpet\\\\images\\\\american_bulldog_142.jpg',\n",
       " 'datasets/oxfordpet\\\\images\\\\american_bulldog_143.jpg',\n",
       " 'datasets/oxfordpet\\\\images\\\\american_bulldog_144.jpg',\n",
       " 'datasets/oxfordpet\\\\images\\\\american_bulldog_146.jpg',\n",
       " 'datasets/oxfordpet\\\\images\\\\american_bulldog_147.jpg',\n",
       " 'datasets/oxfordpet\\\\images\\\\american_bulldog_148.jpg',\n",
       " 'datasets/oxfordpet\\\\images\\\\american_bulldog_149.jpg',\n",
       " 'datasets/oxfordpet\\\\images\\\\american_bulldog_15.jpg',\n",
       " 'datasets/oxfordpet\\\\images\\\\american_bulldog_150.jpg',\n",
       " 'datasets/oxfordpet\\\\images\\\\american_bulldog_151.jpg',\n",
       " 'datasets/oxfordpet\\\\images\\\\american_bulldog_152.jpg',\n",
       " 'datasets/oxfordpet\\\\images\\\\american_bulldog_153.jpg',\n",
       " 'datasets/oxfordpet\\\\images\\\\american_bulldog_158.jpg',\n",
       " 'datasets/oxfordpet\\\\images\\\\american_bulldog_16.jpg',\n",
       " 'datasets/oxfordpet\\\\images\\\\american_bulldog_161.jpg',\n",
       " 'datasets/oxfordpet\\\\images\\\\american_bulldog_164.jpg',\n",
       " 'datasets/oxfordpet\\\\images\\\\american_bulldog_166.jpg',\n",
       " 'datasets/oxfordpet\\\\images\\\\american_bulldog_167.jpg',\n",
       " 'datasets/oxfordpet\\\\images\\\\american_bulldog_168.jpg',\n",
       " 'datasets/oxfordpet\\\\images\\\\american_bulldog_169.jpg',\n",
       " 'datasets/oxfordpet\\\\images\\\\american_bulldog_171.jpg',\n",
       " 'datasets/oxfordpet\\\\images\\\\american_bulldog_172.jpg',\n",
       " 'datasets/oxfordpet\\\\images\\\\american_bulldog_173.jpg',\n",
       " 'datasets/oxfordpet\\\\images\\\\american_bulldog_174.jpg',\n",
       " 'datasets/oxfordpet\\\\images\\\\american_bulldog_175.jpg',\n",
       " 'datasets/oxfordpet\\\\images\\\\american_bulldog_176.jpg',\n",
       " 'datasets/oxfordpet\\\\images\\\\american_bulldog_177.jpg',\n",
       " 'datasets/oxfordpet\\\\images\\\\american_bulldog_178.jpg',\n",
       " 'datasets/oxfordpet\\\\images\\\\american_bulldog_179.jpg',\n",
       " 'datasets/oxfordpet\\\\images\\\\american_bulldog_18.jpg',\n",
       " 'datasets/oxfordpet\\\\images\\\\american_bulldog_180.jpg',\n",
       " 'datasets/oxfordpet\\\\images\\\\american_bulldog_181.jpg',\n",
       " 'datasets/oxfordpet\\\\images\\\\american_bulldog_182.jpg',\n",
       " 'datasets/oxfordpet\\\\images\\\\american_bulldog_183.jpg',\n",
       " 'datasets/oxfordpet\\\\images\\\\american_bulldog_184.jpg',\n",
       " 'datasets/oxfordpet\\\\images\\\\american_bulldog_185.jpg',\n",
       " 'datasets/oxfordpet\\\\images\\\\american_bulldog_186.jpg',\n",
       " 'datasets/oxfordpet\\\\images\\\\american_bulldog_187.jpg',\n",
       " 'datasets/oxfordpet\\\\images\\\\american_bulldog_188.jpg',\n",
       " 'datasets/oxfordpet\\\\images\\\\american_bulldog_189.jpg',\n",
       " 'datasets/oxfordpet\\\\images\\\\american_bulldog_19.jpg',\n",
       " 'datasets/oxfordpet\\\\images\\\\american_bulldog_190.jpg',\n",
       " 'datasets/oxfordpet\\\\images\\\\american_bulldog_191.jpg',\n",
       " 'datasets/oxfordpet\\\\images\\\\american_bulldog_192.jpg',\n",
       " 'datasets/oxfordpet\\\\images\\\\american_bulldog_193.jpg',\n",
       " 'datasets/oxfordpet\\\\images\\\\american_bulldog_194.jpg',\n",
       " 'datasets/oxfordpet\\\\images\\\\american_bulldog_196.jpg',\n",
       " 'datasets/oxfordpet\\\\images\\\\american_bulldog_197.jpg',\n",
       " 'datasets/oxfordpet\\\\images\\\\american_bulldog_198.jpg',\n",
       " 'datasets/oxfordpet\\\\images\\\\american_bulldog_199.jpg',\n",
       " 'datasets/oxfordpet\\\\images\\\\american_bulldog_2.jpg',\n",
       " 'datasets/oxfordpet\\\\images\\\\american_bulldog_20.jpg',\n",
       " 'datasets/oxfordpet\\\\images\\\\american_bulldog_200.jpg',\n",
       " 'datasets/oxfordpet\\\\images\\\\american_bulldog_201.jpg',\n",
       " 'datasets/oxfordpet\\\\images\\\\american_bulldog_202.jpg',\n",
       " 'datasets/oxfordpet\\\\images\\\\american_bulldog_203.jpg',\n",
       " 'datasets/oxfordpet\\\\images\\\\american_bulldog_205.jpg',\n",
       " 'datasets/oxfordpet\\\\images\\\\american_bulldog_207.jpg',\n",
       " 'datasets/oxfordpet\\\\images\\\\american_bulldog_208.jpg',\n",
       " 'datasets/oxfordpet\\\\images\\\\american_bulldog_209.jpg',\n",
       " 'datasets/oxfordpet\\\\images\\\\american_bulldog_21.jpg',\n",
       " 'datasets/oxfordpet\\\\images\\\\american_bulldog_211.jpg',\n",
       " 'datasets/oxfordpet\\\\images\\\\american_bulldog_212.jpg',\n",
       " 'datasets/oxfordpet\\\\images\\\\american_bulldog_214.jpg',\n",
       " 'datasets/oxfordpet\\\\images\\\\american_bulldog_216.jpg',\n",
       " 'datasets/oxfordpet\\\\images\\\\american_bulldog_217.jpg',\n",
       " 'datasets/oxfordpet\\\\images\\\\american_bulldog_218.jpg',\n",
       " 'datasets/oxfordpet\\\\images\\\\american_bulldog_22.jpg',\n",
       " 'datasets/oxfordpet\\\\images\\\\american_bulldog_220.jpg',\n",
       " 'datasets/oxfordpet\\\\images\\\\american_bulldog_221.jpg',\n",
       " 'datasets/oxfordpet\\\\images\\\\american_bulldog_224.jpg',\n",
       " 'datasets/oxfordpet\\\\images\\\\american_bulldog_23.jpg',\n",
       " 'datasets/oxfordpet\\\\images\\\\american_bulldog_24.jpg',\n",
       " 'datasets/oxfordpet\\\\images\\\\american_bulldog_25.jpg',\n",
       " 'datasets/oxfordpet\\\\images\\\\american_bulldog_26.jpg',\n",
       " 'datasets/oxfordpet\\\\images\\\\american_bulldog_27.jpg',\n",
       " 'datasets/oxfordpet\\\\images\\\\american_bulldog_28.jpg',\n",
       " 'datasets/oxfordpet\\\\images\\\\american_bulldog_29.jpg',\n",
       " 'datasets/oxfordpet\\\\images\\\\american_bulldog_3.jpg',\n",
       " 'datasets/oxfordpet\\\\images\\\\american_bulldog_30.jpg',\n",
       " 'datasets/oxfordpet\\\\images\\\\american_bulldog_31.jpg',\n",
       " 'datasets/oxfordpet\\\\images\\\\american_bulldog_32.jpg',\n",
       " 'datasets/oxfordpet\\\\images\\\\american_bulldog_33.jpg',\n",
       " 'datasets/oxfordpet\\\\images\\\\american_bulldog_34.jpg',\n",
       " 'datasets/oxfordpet\\\\images\\\\american_bulldog_35.jpg',\n",
       " 'datasets/oxfordpet\\\\images\\\\american_bulldog_36.jpg',\n",
       " 'datasets/oxfordpet\\\\images\\\\american_bulldog_37.jpg',\n",
       " 'datasets/oxfordpet\\\\images\\\\american_bulldog_38.jpg',\n",
       " 'datasets/oxfordpet\\\\images\\\\american_bulldog_39.jpg',\n",
       " 'datasets/oxfordpet\\\\images\\\\american_bulldog_40.jpg',\n",
       " 'datasets/oxfordpet\\\\images\\\\american_bulldog_41.jpg',\n",
       " 'datasets/oxfordpet\\\\images\\\\american_bulldog_42.jpg',\n",
       " 'datasets/oxfordpet\\\\images\\\\american_bulldog_43.jpg',\n",
       " 'datasets/oxfordpet\\\\images\\\\american_bulldog_44.jpg',\n",
       " 'datasets/oxfordpet\\\\images\\\\american_bulldog_45.jpg',\n",
       " 'datasets/oxfordpet\\\\images\\\\american_bulldog_46.jpg',\n",
       " 'datasets/oxfordpet\\\\images\\\\american_bulldog_47.jpg',\n",
       " 'datasets/oxfordpet\\\\images\\\\american_bulldog_48.jpg',\n",
       " 'datasets/oxfordpet\\\\images\\\\american_bulldog_49.jpg',\n",
       " 'datasets/oxfordpet\\\\images\\\\american_bulldog_5.jpg',\n",
       " 'datasets/oxfordpet\\\\images\\\\american_bulldog_50.jpg',\n",
       " 'datasets/oxfordpet\\\\images\\\\american_bulldog_51.jpg',\n",
       " 'datasets/oxfordpet\\\\images\\\\american_bulldog_52.jpg',\n",
       " 'datasets/oxfordpet\\\\images\\\\american_bulldog_53.jpg',\n",
       " 'datasets/oxfordpet\\\\images\\\\american_bulldog_54.jpg',\n",
       " 'datasets/oxfordpet\\\\images\\\\american_bulldog_55.jpg',\n",
       " 'datasets/oxfordpet\\\\images\\\\american_bulldog_56.jpg',\n",
       " 'datasets/oxfordpet\\\\images\\\\american_bulldog_57.jpg',\n",
       " 'datasets/oxfordpet\\\\images\\\\american_bulldog_58.jpg',\n",
       " 'datasets/oxfordpet\\\\images\\\\american_bulldog_59.jpg',\n",
       " 'datasets/oxfordpet\\\\images\\\\american_bulldog_6.jpg',\n",
       " 'datasets/oxfordpet\\\\images\\\\american_bulldog_60.jpg',\n",
       " 'datasets/oxfordpet\\\\images\\\\american_bulldog_61.jpg',\n",
       " 'datasets/oxfordpet\\\\images\\\\american_bulldog_62.jpg',\n",
       " 'datasets/oxfordpet\\\\images\\\\american_bulldog_63.jpg',\n",
       " 'datasets/oxfordpet\\\\images\\\\american_bulldog_64.jpg',\n",
       " 'datasets/oxfordpet\\\\images\\\\american_bulldog_65.jpg',\n",
       " 'datasets/oxfordpet\\\\images\\\\american_bulldog_66.jpg',\n",
       " 'datasets/oxfordpet\\\\images\\\\american_bulldog_67.jpg',\n",
       " 'datasets/oxfordpet\\\\images\\\\american_bulldog_68.jpg',\n",
       " 'datasets/oxfordpet\\\\images\\\\american_bulldog_69.jpg',\n",
       " 'datasets/oxfordpet\\\\images\\\\american_bulldog_7.jpg',\n",
       " 'datasets/oxfordpet\\\\images\\\\american_bulldog_70.jpg',\n",
       " 'datasets/oxfordpet\\\\images\\\\american_bulldog_71.jpg',\n",
       " 'datasets/oxfordpet\\\\images\\\\american_bulldog_72.jpg',\n",
       " 'datasets/oxfordpet\\\\images\\\\american_bulldog_73.jpg',\n",
       " 'datasets/oxfordpet\\\\images\\\\american_bulldog_74.jpg',\n",
       " 'datasets/oxfordpet\\\\images\\\\american_bulldog_75.jpg',\n",
       " 'datasets/oxfordpet\\\\images\\\\american_bulldog_76.jpg',\n",
       " 'datasets/oxfordpet\\\\images\\\\american_bulldog_77.jpg',\n",
       " 'datasets/oxfordpet\\\\images\\\\american_bulldog_78.jpg',\n",
       " 'datasets/oxfordpet\\\\images\\\\american_bulldog_79.jpg',\n",
       " 'datasets/oxfordpet\\\\images\\\\american_bulldog_8.jpg',\n",
       " 'datasets/oxfordpet\\\\images\\\\american_bulldog_80.jpg',\n",
       " 'datasets/oxfordpet\\\\images\\\\american_bulldog_81.jpg',\n",
       " 'datasets/oxfordpet\\\\images\\\\american_bulldog_82.jpg',\n",
       " 'datasets/oxfordpet\\\\images\\\\american_bulldog_83.jpg',\n",
       " 'datasets/oxfordpet\\\\images\\\\american_bulldog_84.jpg',\n",
       " 'datasets/oxfordpet\\\\images\\\\american_bulldog_85.jpg',\n",
       " 'datasets/oxfordpet\\\\images\\\\american_bulldog_86.jpg',\n",
       " 'datasets/oxfordpet\\\\images\\\\american_bulldog_87.jpg',\n",
       " 'datasets/oxfordpet\\\\images\\\\american_bulldog_89.jpg',\n",
       " 'datasets/oxfordpet\\\\images\\\\american_bulldog_9.jpg',\n",
       " 'datasets/oxfordpet\\\\images\\\\american_bulldog_90.jpg',\n",
       " 'datasets/oxfordpet\\\\images\\\\american_bulldog_91.jpg',\n",
       " 'datasets/oxfordpet\\\\images\\\\american_bulldog_92.jpg',\n",
       " 'datasets/oxfordpet\\\\images\\\\american_bulldog_93.jpg',\n",
       " 'datasets/oxfordpet\\\\images\\\\american_bulldog_94.jpg',\n",
       " 'datasets/oxfordpet\\\\images\\\\american_bulldog_95.jpg',\n",
       " 'datasets/oxfordpet\\\\images\\\\american_bulldog_96.jpg',\n",
       " 'datasets/oxfordpet\\\\images\\\\american_bulldog_97.jpg',\n",
       " 'datasets/oxfordpet\\\\images\\\\american_bulldog_98.jpg',\n",
       " 'datasets/oxfordpet\\\\images\\\\american_bulldog_99.jpg',\n",
       " 'datasets/oxfordpet\\\\images\\\\american_pit_bull_terrier_1.jpg',\n",
       " 'datasets/oxfordpet\\\\images\\\\american_pit_bull_terrier_10.jpg',\n",
       " 'datasets/oxfordpet\\\\images\\\\american_pit_bull_terrier_100.jpg',\n",
       " 'datasets/oxfordpet\\\\images\\\\american_pit_bull_terrier_101.jpg',\n",
       " 'datasets/oxfordpet\\\\images\\\\american_pit_bull_terrier_102.jpg',\n",
       " 'datasets/oxfordpet\\\\images\\\\american_pit_bull_terrier_103.jpg',\n",
       " 'datasets/oxfordpet\\\\images\\\\american_pit_bull_terrier_104.jpg',\n",
       " 'datasets/oxfordpet\\\\images\\\\american_pit_bull_terrier_105.jpg',\n",
       " 'datasets/oxfordpet\\\\images\\\\american_pit_bull_terrier_106.jpg',\n",
       " 'datasets/oxfordpet\\\\images\\\\american_pit_bull_terrier_107.jpg',\n",
       " 'datasets/oxfordpet\\\\images\\\\american_pit_bull_terrier_108.jpg',\n",
       " 'datasets/oxfordpet\\\\images\\\\american_pit_bull_terrier_109.jpg',\n",
       " 'datasets/oxfordpet\\\\images\\\\american_pit_bull_terrier_11.jpg',\n",
       " 'datasets/oxfordpet\\\\images\\\\american_pit_bull_terrier_110.jpg',\n",
       " 'datasets/oxfordpet\\\\images\\\\american_pit_bull_terrier_111.jpg',\n",
       " 'datasets/oxfordpet\\\\images\\\\american_pit_bull_terrier_112.jpg',\n",
       " 'datasets/oxfordpet\\\\images\\\\american_pit_bull_terrier_113.jpg',\n",
       " 'datasets/oxfordpet\\\\images\\\\american_pit_bull_terrier_114.jpg',\n",
       " 'datasets/oxfordpet\\\\images\\\\american_pit_bull_terrier_115.jpg',\n",
       " 'datasets/oxfordpet\\\\images\\\\american_pit_bull_terrier_116.jpg',\n",
       " 'datasets/oxfordpet\\\\images\\\\american_pit_bull_terrier_117.jpg',\n",
       " 'datasets/oxfordpet\\\\images\\\\american_pit_bull_terrier_118.jpg',\n",
       " 'datasets/oxfordpet\\\\images\\\\american_pit_bull_terrier_119.jpg',\n",
       " 'datasets/oxfordpet\\\\images\\\\american_pit_bull_terrier_12.jpg',\n",
       " 'datasets/oxfordpet\\\\images\\\\american_pit_bull_terrier_120.jpg',\n",
       " 'datasets/oxfordpet\\\\images\\\\american_pit_bull_terrier_121.jpg',\n",
       " 'datasets/oxfordpet\\\\images\\\\american_pit_bull_terrier_122.jpg',\n",
       " 'datasets/oxfordpet\\\\images\\\\american_pit_bull_terrier_123.jpg',\n",
       " 'datasets/oxfordpet\\\\images\\\\american_pit_bull_terrier_124.jpg',\n",
       " 'datasets/oxfordpet\\\\images\\\\american_pit_bull_terrier_125.jpg',\n",
       " 'datasets/oxfordpet\\\\images\\\\american_pit_bull_terrier_126.jpg',\n",
       " 'datasets/oxfordpet\\\\images\\\\american_pit_bull_terrier_127.jpg',\n",
       " 'datasets/oxfordpet\\\\images\\\\american_pit_bull_terrier_128.jpg',\n",
       " 'datasets/oxfordpet\\\\images\\\\american_pit_bull_terrier_129.jpg',\n",
       " 'datasets/oxfordpet\\\\images\\\\american_pit_bull_terrier_13.jpg',\n",
       " 'datasets/oxfordpet\\\\images\\\\american_pit_bull_terrier_130.jpg',\n",
       " 'datasets/oxfordpet\\\\images\\\\american_pit_bull_terrier_131.jpg',\n",
       " 'datasets/oxfordpet\\\\images\\\\american_pit_bull_terrier_132.jpg',\n",
       " 'datasets/oxfordpet\\\\images\\\\american_pit_bull_terrier_133.jpg',\n",
       " 'datasets/oxfordpet\\\\images\\\\american_pit_bull_terrier_134.jpg',\n",
       " 'datasets/oxfordpet\\\\images\\\\american_pit_bull_terrier_135.jpg',\n",
       " 'datasets/oxfordpet\\\\images\\\\american_pit_bull_terrier_136.jpg',\n",
       " 'datasets/oxfordpet\\\\images\\\\american_pit_bull_terrier_137.jpg',\n",
       " 'datasets/oxfordpet\\\\images\\\\american_pit_bull_terrier_138.jpg',\n",
       " 'datasets/oxfordpet\\\\images\\\\american_pit_bull_terrier_139.jpg',\n",
       " 'datasets/oxfordpet\\\\images\\\\american_pit_bull_terrier_14.jpg',\n",
       " 'datasets/oxfordpet\\\\images\\\\american_pit_bull_terrier_140.jpg',\n",
       " 'datasets/oxfordpet\\\\images\\\\american_pit_bull_terrier_141.jpg',\n",
       " 'datasets/oxfordpet\\\\images\\\\american_pit_bull_terrier_142.jpg',\n",
       " 'datasets/oxfordpet\\\\images\\\\american_pit_bull_terrier_143.jpg',\n",
       " 'datasets/oxfordpet\\\\images\\\\american_pit_bull_terrier_144.jpg',\n",
       " 'datasets/oxfordpet\\\\images\\\\american_pit_bull_terrier_145.jpg',\n",
       " 'datasets/oxfordpet\\\\images\\\\american_pit_bull_terrier_146.jpg',\n",
       " 'datasets/oxfordpet\\\\images\\\\american_pit_bull_terrier_147.jpg',\n",
       " 'datasets/oxfordpet\\\\images\\\\american_pit_bull_terrier_148.jpg',\n",
       " 'datasets/oxfordpet\\\\images\\\\american_pit_bull_terrier_149.jpg',\n",
       " 'datasets/oxfordpet\\\\images\\\\american_pit_bull_terrier_15.jpg',\n",
       " 'datasets/oxfordpet\\\\images\\\\american_pit_bull_terrier_150.jpg',\n",
       " 'datasets/oxfordpet\\\\images\\\\american_pit_bull_terrier_151.jpg',\n",
       " 'datasets/oxfordpet\\\\images\\\\american_pit_bull_terrier_152.jpg',\n",
       " 'datasets/oxfordpet\\\\images\\\\american_pit_bull_terrier_153.jpg',\n",
       " 'datasets/oxfordpet\\\\images\\\\american_pit_bull_terrier_154.jpg',\n",
       " 'datasets/oxfordpet\\\\images\\\\american_pit_bull_terrier_155.jpg',\n",
       " 'datasets/oxfordpet\\\\images\\\\american_pit_bull_terrier_156.jpg',\n",
       " 'datasets/oxfordpet\\\\images\\\\american_pit_bull_terrier_157.jpg',\n",
       " 'datasets/oxfordpet\\\\images\\\\american_pit_bull_terrier_158.jpg',\n",
       " 'datasets/oxfordpet\\\\images\\\\american_pit_bull_terrier_159.jpg',\n",
       " 'datasets/oxfordpet\\\\images\\\\american_pit_bull_terrier_16.jpg',\n",
       " 'datasets/oxfordpet\\\\images\\\\american_pit_bull_terrier_160.jpg',\n",
       " 'datasets/oxfordpet\\\\images\\\\american_pit_bull_terrier_161.jpg',\n",
       " 'datasets/oxfordpet\\\\images\\\\american_pit_bull_terrier_162.jpg',\n",
       " 'datasets/oxfordpet\\\\images\\\\american_pit_bull_terrier_163.jpg',\n",
       " 'datasets/oxfordpet\\\\images\\\\american_pit_bull_terrier_164.jpg',\n",
       " 'datasets/oxfordpet\\\\images\\\\american_pit_bull_terrier_165.jpg',\n",
       " 'datasets/oxfordpet\\\\images\\\\american_pit_bull_terrier_166.jpg',\n",
       " 'datasets/oxfordpet\\\\images\\\\american_pit_bull_terrier_167.jpg',\n",
       " 'datasets/oxfordpet\\\\images\\\\american_pit_bull_terrier_168.jpg',\n",
       " 'datasets/oxfordpet\\\\images\\\\american_pit_bull_terrier_169.jpg',\n",
       " 'datasets/oxfordpet\\\\images\\\\american_pit_bull_terrier_17.jpg',\n",
       " 'datasets/oxfordpet\\\\images\\\\american_pit_bull_terrier_170.jpg',\n",
       " 'datasets/oxfordpet\\\\images\\\\american_pit_bull_terrier_171.jpg',\n",
       " 'datasets/oxfordpet\\\\images\\\\american_pit_bull_terrier_172.jpg',\n",
       " 'datasets/oxfordpet\\\\images\\\\american_pit_bull_terrier_173.jpg',\n",
       " 'datasets/oxfordpet\\\\images\\\\american_pit_bull_terrier_174.jpg',\n",
       " 'datasets/oxfordpet\\\\images\\\\american_pit_bull_terrier_175.jpg',\n",
       " 'datasets/oxfordpet\\\\images\\\\american_pit_bull_terrier_176.jpg',\n",
       " 'datasets/oxfordpet\\\\images\\\\american_pit_bull_terrier_177.jpg',\n",
       " 'datasets/oxfordpet\\\\images\\\\american_pit_bull_terrier_178.jpg',\n",
       " 'datasets/oxfordpet\\\\images\\\\american_pit_bull_terrier_179.jpg',\n",
       " 'datasets/oxfordpet\\\\images\\\\american_pit_bull_terrier_18.jpg',\n",
       " 'datasets/oxfordpet\\\\images\\\\american_pit_bull_terrier_180.jpg',\n",
       " 'datasets/oxfordpet\\\\images\\\\american_pit_bull_terrier_181.jpg',\n",
       " 'datasets/oxfordpet\\\\images\\\\american_pit_bull_terrier_182.jpg',\n",
       " 'datasets/oxfordpet\\\\images\\\\american_pit_bull_terrier_183.jpg',\n",
       " 'datasets/oxfordpet\\\\images\\\\american_pit_bull_terrier_184.jpg',\n",
       " 'datasets/oxfordpet\\\\images\\\\american_pit_bull_terrier_185.jpg',\n",
       " 'datasets/oxfordpet\\\\images\\\\american_pit_bull_terrier_186.jpg',\n",
       " 'datasets/oxfordpet\\\\images\\\\american_pit_bull_terrier_187.jpg',\n",
       " 'datasets/oxfordpet\\\\images\\\\american_pit_bull_terrier_188.jpg',\n",
       " 'datasets/oxfordpet\\\\images\\\\american_pit_bull_terrier_189.jpg',\n",
       " 'datasets/oxfordpet\\\\images\\\\american_pit_bull_terrier_19.jpg',\n",
       " 'datasets/oxfordpet\\\\images\\\\american_pit_bull_terrier_190.jpg',\n",
       " 'datasets/oxfordpet\\\\images\\\\american_pit_bull_terrier_191.jpg',\n",
       " 'datasets/oxfordpet\\\\images\\\\american_pit_bull_terrier_192.jpg',\n",
       " 'datasets/oxfordpet\\\\images\\\\american_pit_bull_terrier_193.jpg',\n",
       " 'datasets/oxfordpet\\\\images\\\\american_pit_bull_terrier_194.jpg',\n",
       " 'datasets/oxfordpet\\\\images\\\\american_pit_bull_terrier_195.jpg',\n",
       " 'datasets/oxfordpet\\\\images\\\\american_pit_bull_terrier_196.jpg',\n",
       " 'datasets/oxfordpet\\\\images\\\\american_pit_bull_terrier_197.jpg',\n",
       " 'datasets/oxfordpet\\\\images\\\\american_pit_bull_terrier_198.jpg',\n",
       " 'datasets/oxfordpet\\\\images\\\\american_pit_bull_terrier_199.jpg',\n",
       " 'datasets/oxfordpet\\\\images\\\\american_pit_bull_terrier_2.jpg',\n",
       " 'datasets/oxfordpet\\\\images\\\\american_pit_bull_terrier_20.jpg',\n",
       " 'datasets/oxfordpet\\\\images\\\\american_pit_bull_terrier_200.jpg',\n",
       " 'datasets/oxfordpet\\\\images\\\\american_pit_bull_terrier_201.jpg',\n",
       " 'datasets/oxfordpet\\\\images\\\\american_pit_bull_terrier_202.jpg',\n",
       " 'datasets/oxfordpet\\\\images\\\\american_pit_bull_terrier_203.jpg',\n",
       " 'datasets/oxfordpet\\\\images\\\\american_pit_bull_terrier_204.jpg',\n",
       " 'datasets/oxfordpet\\\\images\\\\american_pit_bull_terrier_21.jpg',\n",
       " 'datasets/oxfordpet\\\\images\\\\american_pit_bull_terrier_22.jpg',\n",
       " 'datasets/oxfordpet\\\\images\\\\american_pit_bull_terrier_23.jpg',\n",
       " 'datasets/oxfordpet\\\\images\\\\american_pit_bull_terrier_24.jpg',\n",
       " 'datasets/oxfordpet\\\\images\\\\american_pit_bull_terrier_25.jpg',\n",
       " 'datasets/oxfordpet\\\\images\\\\american_pit_bull_terrier_26.jpg',\n",
       " 'datasets/oxfordpet\\\\images\\\\american_pit_bull_terrier_27.jpg',\n",
       " 'datasets/oxfordpet\\\\images\\\\american_pit_bull_terrier_28.jpg',\n",
       " 'datasets/oxfordpet\\\\images\\\\american_pit_bull_terrier_29.jpg',\n",
       " 'datasets/oxfordpet\\\\images\\\\american_pit_bull_terrier_30.jpg',\n",
       " 'datasets/oxfordpet\\\\images\\\\american_pit_bull_terrier_31.jpg',\n",
       " 'datasets/oxfordpet\\\\images\\\\american_pit_bull_terrier_32.jpg',\n",
       " 'datasets/oxfordpet\\\\images\\\\american_pit_bull_terrier_33.jpg',\n",
       " 'datasets/oxfordpet\\\\images\\\\american_pit_bull_terrier_35.jpg',\n",
       " 'datasets/oxfordpet\\\\images\\\\american_pit_bull_terrier_36.jpg',\n",
       " 'datasets/oxfordpet\\\\images\\\\american_pit_bull_terrier_37.jpg',\n",
       " 'datasets/oxfordpet\\\\images\\\\american_pit_bull_terrier_38.jpg',\n",
       " 'datasets/oxfordpet\\\\images\\\\american_pit_bull_terrier_39.jpg',\n",
       " 'datasets/oxfordpet\\\\images\\\\american_pit_bull_terrier_4.jpg',\n",
       " 'datasets/oxfordpet\\\\images\\\\american_pit_bull_terrier_40.jpg',\n",
       " 'datasets/oxfordpet\\\\images\\\\american_pit_bull_terrier_41.jpg',\n",
       " 'datasets/oxfordpet\\\\images\\\\american_pit_bull_terrier_42.jpg',\n",
       " 'datasets/oxfordpet\\\\images\\\\american_pit_bull_terrier_43.jpg',\n",
       " 'datasets/oxfordpet\\\\images\\\\american_pit_bull_terrier_44.jpg',\n",
       " 'datasets/oxfordpet\\\\images\\\\american_pit_bull_terrier_45.jpg',\n",
       " 'datasets/oxfordpet\\\\images\\\\american_pit_bull_terrier_46.jpg',\n",
       " 'datasets/oxfordpet\\\\images\\\\american_pit_bull_terrier_47.jpg',\n",
       " 'datasets/oxfordpet\\\\images\\\\american_pit_bull_terrier_48.jpg',\n",
       " 'datasets/oxfordpet\\\\images\\\\american_pit_bull_terrier_49.jpg',\n",
       " 'datasets/oxfordpet\\\\images\\\\american_pit_bull_terrier_5.jpg',\n",
       " 'datasets/oxfordpet\\\\images\\\\american_pit_bull_terrier_50.jpg',\n",
       " 'datasets/oxfordpet\\\\images\\\\american_pit_bull_terrier_51.jpg',\n",
       " 'datasets/oxfordpet\\\\images\\\\american_pit_bull_terrier_52.jpg',\n",
       " 'datasets/oxfordpet\\\\images\\\\american_pit_bull_terrier_53.jpg',\n",
       " 'datasets/oxfordpet\\\\images\\\\american_pit_bull_terrier_54.jpg',\n",
       " 'datasets/oxfordpet\\\\images\\\\american_pit_bull_terrier_55.jpg',\n",
       " 'datasets/oxfordpet\\\\images\\\\american_pit_bull_terrier_56.jpg',\n",
       " 'datasets/oxfordpet\\\\images\\\\american_pit_bull_terrier_57.jpg',\n",
       " 'datasets/oxfordpet\\\\images\\\\american_pit_bull_terrier_58.jpg',\n",
       " 'datasets/oxfordpet\\\\images\\\\american_pit_bull_terrier_59.jpg',\n",
       " 'datasets/oxfordpet\\\\images\\\\american_pit_bull_terrier_6.jpg',\n",
       " 'datasets/oxfordpet\\\\images\\\\american_pit_bull_terrier_60.jpg',\n",
       " 'datasets/oxfordpet\\\\images\\\\american_pit_bull_terrier_61.jpg',\n",
       " 'datasets/oxfordpet\\\\images\\\\american_pit_bull_terrier_62.jpg',\n",
       " 'datasets/oxfordpet\\\\images\\\\american_pit_bull_terrier_63.jpg',\n",
       " 'datasets/oxfordpet\\\\images\\\\american_pit_bull_terrier_64.jpg',\n",
       " 'datasets/oxfordpet\\\\images\\\\american_pit_bull_terrier_65.jpg',\n",
       " 'datasets/oxfordpet\\\\images\\\\american_pit_bull_terrier_66.jpg',\n",
       " 'datasets/oxfordpet\\\\images\\\\american_pit_bull_terrier_67.jpg',\n",
       " 'datasets/oxfordpet\\\\images\\\\american_pit_bull_terrier_68.jpg',\n",
       " 'datasets/oxfordpet\\\\images\\\\american_pit_bull_terrier_69.jpg',\n",
       " 'datasets/oxfordpet\\\\images\\\\american_pit_bull_terrier_7.jpg',\n",
       " 'datasets/oxfordpet\\\\images\\\\american_pit_bull_terrier_70.jpg',\n",
       " 'datasets/oxfordpet\\\\images\\\\american_pit_bull_terrier_71.jpg',\n",
       " 'datasets/oxfordpet\\\\images\\\\american_pit_bull_terrier_72.jpg',\n",
       " 'datasets/oxfordpet\\\\images\\\\american_pit_bull_terrier_73.jpg',\n",
       " 'datasets/oxfordpet\\\\images\\\\american_pit_bull_terrier_74.jpg',\n",
       " 'datasets/oxfordpet\\\\images\\\\american_pit_bull_terrier_75.jpg',\n",
       " 'datasets/oxfordpet\\\\images\\\\american_pit_bull_terrier_76.jpg',\n",
       " 'datasets/oxfordpet\\\\images\\\\american_pit_bull_terrier_77.jpg',\n",
       " 'datasets/oxfordpet\\\\images\\\\american_pit_bull_terrier_78.jpg',\n",
       " 'datasets/oxfordpet\\\\images\\\\american_pit_bull_terrier_79.jpg',\n",
       " 'datasets/oxfordpet\\\\images\\\\american_pit_bull_terrier_8.jpg',\n",
       " 'datasets/oxfordpet\\\\images\\\\american_pit_bull_terrier_80.jpg',\n",
       " 'datasets/oxfordpet\\\\images\\\\american_pit_bull_terrier_81.jpg',\n",
       " 'datasets/oxfordpet\\\\images\\\\american_pit_bull_terrier_82.jpg',\n",
       " 'datasets/oxfordpet\\\\images\\\\american_pit_bull_terrier_84.jpg',\n",
       " 'datasets/oxfordpet\\\\images\\\\american_pit_bull_terrier_86.jpg',\n",
       " 'datasets/oxfordpet\\\\images\\\\american_pit_bull_terrier_87.jpg',\n",
       " 'datasets/oxfordpet\\\\images\\\\american_pit_bull_terrier_88.jpg',\n",
       " 'datasets/oxfordpet\\\\images\\\\american_pit_bull_terrier_89.jpg',\n",
       " 'datasets/oxfordpet\\\\images\\\\american_pit_bull_terrier_9.jpg',\n",
       " 'datasets/oxfordpet\\\\images\\\\american_pit_bull_terrier_90.jpg',\n",
       " 'datasets/oxfordpet\\\\images\\\\american_pit_bull_terrier_91.jpg',\n",
       " 'datasets/oxfordpet\\\\images\\\\american_pit_bull_terrier_92.jpg',\n",
       " 'datasets/oxfordpet\\\\images\\\\american_pit_bull_terrier_93.jpg',\n",
       " 'datasets/oxfordpet\\\\images\\\\american_pit_bull_terrier_94.jpg',\n",
       " 'datasets/oxfordpet\\\\images\\\\american_pit_bull_terrier_95.jpg',\n",
       " 'datasets/oxfordpet\\\\images\\\\american_pit_bull_terrier_96.jpg',\n",
       " 'datasets/oxfordpet\\\\images\\\\american_pit_bull_terrier_97.jpg',\n",
       " 'datasets/oxfordpet\\\\images\\\\american_pit_bull_terrier_98.jpg',\n",
       " 'datasets/oxfordpet\\\\images\\\\american_pit_bull_terrier_99.jpg',\n",
       " 'datasets/oxfordpet\\\\images\\\\basset_hound_1.jpg',\n",
       " 'datasets/oxfordpet\\\\images\\\\basset_hound_10.jpg',\n",
       " 'datasets/oxfordpet\\\\images\\\\basset_hound_100.jpg',\n",
       " 'datasets/oxfordpet\\\\images\\\\basset_hound_101.jpg',\n",
       " 'datasets/oxfordpet\\\\images\\\\basset_hound_102.jpg',\n",
       " 'datasets/oxfordpet\\\\images\\\\basset_hound_103.jpg',\n",
       " 'datasets/oxfordpet\\\\images\\\\basset_hound_104.jpg',\n",
       " 'datasets/oxfordpet\\\\images\\\\basset_hound_105.jpg',\n",
       " 'datasets/oxfordpet\\\\images\\\\basset_hound_106.jpg',\n",
       " 'datasets/oxfordpet\\\\images\\\\basset_hound_107.jpg',\n",
       " 'datasets/oxfordpet\\\\images\\\\basset_hound_108.jpg',\n",
       " 'datasets/oxfordpet\\\\images\\\\basset_hound_109.jpg',\n",
       " 'datasets/oxfordpet\\\\images\\\\basset_hound_11.jpg',\n",
       " 'datasets/oxfordpet\\\\images\\\\basset_hound_110.jpg',\n",
       " 'datasets/oxfordpet\\\\images\\\\basset_hound_111.jpg',\n",
       " 'datasets/oxfordpet\\\\images\\\\basset_hound_112.jpg',\n",
       " 'datasets/oxfordpet\\\\images\\\\basset_hound_113.jpg',\n",
       " 'datasets/oxfordpet\\\\images\\\\basset_hound_114.jpg',\n",
       " 'datasets/oxfordpet\\\\images\\\\basset_hound_115.jpg',\n",
       " 'datasets/oxfordpet\\\\images\\\\basset_hound_116.jpg',\n",
       " 'datasets/oxfordpet\\\\images\\\\basset_hound_117.jpg',\n",
       " 'datasets/oxfordpet\\\\images\\\\basset_hound_118.jpg',\n",
       " 'datasets/oxfordpet\\\\images\\\\basset_hound_119.jpg',\n",
       " 'datasets/oxfordpet\\\\images\\\\basset_hound_12.jpg',\n",
       " 'datasets/oxfordpet\\\\images\\\\basset_hound_120.jpg',\n",
       " 'datasets/oxfordpet\\\\images\\\\basset_hound_121.jpg',\n",
       " 'datasets/oxfordpet\\\\images\\\\basset_hound_122.jpg',\n",
       " 'datasets/oxfordpet\\\\images\\\\basset_hound_123.jpg',\n",
       " 'datasets/oxfordpet\\\\images\\\\basset_hound_124.jpg',\n",
       " 'datasets/oxfordpet\\\\images\\\\basset_hound_125.jpg',\n",
       " 'datasets/oxfordpet\\\\images\\\\basset_hound_126.jpg',\n",
       " 'datasets/oxfordpet\\\\images\\\\basset_hound_127.jpg',\n",
       " 'datasets/oxfordpet\\\\images\\\\basset_hound_128.jpg',\n",
       " 'datasets/oxfordpet\\\\images\\\\basset_hound_129.jpg',\n",
       " 'datasets/oxfordpet\\\\images\\\\basset_hound_13.jpg',\n",
       " 'datasets/oxfordpet\\\\images\\\\basset_hound_130.jpg',\n",
       " 'datasets/oxfordpet\\\\images\\\\basset_hound_131.jpg',\n",
       " 'datasets/oxfordpet\\\\images\\\\basset_hound_132.jpg',\n",
       " 'datasets/oxfordpet\\\\images\\\\basset_hound_133.jpg',\n",
       " 'datasets/oxfordpet\\\\images\\\\basset_hound_134.jpg',\n",
       " 'datasets/oxfordpet\\\\images\\\\basset_hound_135.jpg',\n",
       " 'datasets/oxfordpet\\\\images\\\\basset_hound_136.jpg',\n",
       " 'datasets/oxfordpet\\\\images\\\\basset_hound_137.jpg',\n",
       " 'datasets/oxfordpet\\\\images\\\\basset_hound_138.jpg',\n",
       " 'datasets/oxfordpet\\\\images\\\\basset_hound_139.jpg',\n",
       " 'datasets/oxfordpet\\\\images\\\\basset_hound_14.jpg',\n",
       " 'datasets/oxfordpet\\\\images\\\\basset_hound_140.jpg',\n",
       " 'datasets/oxfordpet\\\\images\\\\basset_hound_141.jpg',\n",
       " 'datasets/oxfordpet\\\\images\\\\basset_hound_142.jpg',\n",
       " 'datasets/oxfordpet\\\\images\\\\basset_hound_143.jpg',\n",
       " 'datasets/oxfordpet\\\\images\\\\basset_hound_144.jpg',\n",
       " 'datasets/oxfordpet\\\\images\\\\basset_hound_145.jpg',\n",
       " 'datasets/oxfordpet\\\\images\\\\basset_hound_146.jpg',\n",
       " 'datasets/oxfordpet\\\\images\\\\basset_hound_147.jpg',\n",
       " 'datasets/oxfordpet\\\\images\\\\basset_hound_148.jpg',\n",
       " 'datasets/oxfordpet\\\\images\\\\basset_hound_149.jpg',\n",
       " 'datasets/oxfordpet\\\\images\\\\basset_hound_15.jpg',\n",
       " 'datasets/oxfordpet\\\\images\\\\basset_hound_150.jpg',\n",
       " 'datasets/oxfordpet\\\\images\\\\basset_hound_151.jpg',\n",
       " 'datasets/oxfordpet\\\\images\\\\basset_hound_152.jpg',\n",
       " 'datasets/oxfordpet\\\\images\\\\basset_hound_153.jpg',\n",
       " 'datasets/oxfordpet\\\\images\\\\basset_hound_154.jpg',\n",
       " 'datasets/oxfordpet\\\\images\\\\basset_hound_155.jpg',\n",
       " 'datasets/oxfordpet\\\\images\\\\basset_hound_156.jpg',\n",
       " 'datasets/oxfordpet\\\\images\\\\basset_hound_157.jpg',\n",
       " 'datasets/oxfordpet\\\\images\\\\basset_hound_158.jpg',\n",
       " 'datasets/oxfordpet\\\\images\\\\basset_hound_159.jpg',\n",
       " 'datasets/oxfordpet\\\\images\\\\basset_hound_16.jpg',\n",
       " 'datasets/oxfordpet\\\\images\\\\basset_hound_160.jpg',\n",
       " 'datasets/oxfordpet\\\\images\\\\basset_hound_161.jpg',\n",
       " 'datasets/oxfordpet\\\\images\\\\basset_hound_162.jpg',\n",
       " 'datasets/oxfordpet\\\\images\\\\basset_hound_163.jpg',\n",
       " 'datasets/oxfordpet\\\\images\\\\basset_hound_164.jpg',\n",
       " 'datasets/oxfordpet\\\\images\\\\basset_hound_165.jpg',\n",
       " 'datasets/oxfordpet\\\\images\\\\basset_hound_166.jpg',\n",
       " 'datasets/oxfordpet\\\\images\\\\basset_hound_167.jpg',\n",
       " 'datasets/oxfordpet\\\\images\\\\basset_hound_168.jpg',\n",
       " 'datasets/oxfordpet\\\\images\\\\basset_hound_169.jpg',\n",
       " 'datasets/oxfordpet\\\\images\\\\basset_hound_17.jpg',\n",
       " 'datasets/oxfordpet\\\\images\\\\basset_hound_170.jpg',\n",
       " 'datasets/oxfordpet\\\\images\\\\basset_hound_171.jpg',\n",
       " 'datasets/oxfordpet\\\\images\\\\basset_hound_172.jpg',\n",
       " 'datasets/oxfordpet\\\\images\\\\basset_hound_173.jpg',\n",
       " 'datasets/oxfordpet\\\\images\\\\basset_hound_174.jpg',\n",
       " 'datasets/oxfordpet\\\\images\\\\basset_hound_175.jpg',\n",
       " 'datasets/oxfordpet\\\\images\\\\basset_hound_176.jpg',\n",
       " 'datasets/oxfordpet\\\\images\\\\basset_hound_177.jpg',\n",
       " 'datasets/oxfordpet\\\\images\\\\basset_hound_178.jpg',\n",
       " 'datasets/oxfordpet\\\\images\\\\basset_hound_179.jpg',\n",
       " 'datasets/oxfordpet\\\\images\\\\basset_hound_18.jpg',\n",
       " 'datasets/oxfordpet\\\\images\\\\basset_hound_180.jpg',\n",
       " 'datasets/oxfordpet\\\\images\\\\basset_hound_181.jpg',\n",
       " 'datasets/oxfordpet\\\\images\\\\basset_hound_182.jpg',\n",
       " 'datasets/oxfordpet\\\\images\\\\basset_hound_183.jpg',\n",
       " 'datasets/oxfordpet\\\\images\\\\basset_hound_184.jpg',\n",
       " 'datasets/oxfordpet\\\\images\\\\basset_hound_185.jpg',\n",
       " 'datasets/oxfordpet\\\\images\\\\basset_hound_186.jpg',\n",
       " 'datasets/oxfordpet\\\\images\\\\basset_hound_187.jpg',\n",
       " 'datasets/oxfordpet\\\\images\\\\basset_hound_188.jpg',\n",
       " 'datasets/oxfordpet\\\\images\\\\basset_hound_189.jpg',\n",
       " 'datasets/oxfordpet\\\\images\\\\basset_hound_19.jpg',\n",
       " 'datasets/oxfordpet\\\\images\\\\basset_hound_190.jpg',\n",
       " 'datasets/oxfordpet\\\\images\\\\basset_hound_191.jpg',\n",
       " 'datasets/oxfordpet\\\\images\\\\basset_hound_192.jpg',\n",
       " 'datasets/oxfordpet\\\\images\\\\basset_hound_193.jpg',\n",
       " 'datasets/oxfordpet\\\\images\\\\basset_hound_194.jpg',\n",
       " 'datasets/oxfordpet\\\\images\\\\basset_hound_195.jpg',\n",
       " 'datasets/oxfordpet\\\\images\\\\basset_hound_196.jpg',\n",
       " 'datasets/oxfordpet\\\\images\\\\basset_hound_197.jpg',\n",
       " 'datasets/oxfordpet\\\\images\\\\basset_hound_198.jpg',\n",
       " 'datasets/oxfordpet\\\\images\\\\basset_hound_199.jpg',\n",
       " 'datasets/oxfordpet\\\\images\\\\basset_hound_2.jpg',\n",
       " 'datasets/oxfordpet\\\\images\\\\basset_hound_20.jpg',\n",
       " 'datasets/oxfordpet\\\\images\\\\basset_hound_200.jpg',\n",
       " 'datasets/oxfordpet\\\\images\\\\basset_hound_21.jpg',\n",
       " 'datasets/oxfordpet\\\\images\\\\basset_hound_22.jpg',\n",
       " 'datasets/oxfordpet\\\\images\\\\basset_hound_23.jpg',\n",
       " 'datasets/oxfordpet\\\\images\\\\basset_hound_24.jpg',\n",
       " 'datasets/oxfordpet\\\\images\\\\basset_hound_25.jpg',\n",
       " 'datasets/oxfordpet\\\\images\\\\basset_hound_26.jpg',\n",
       " 'datasets/oxfordpet\\\\images\\\\basset_hound_27.jpg',\n",
       " 'datasets/oxfordpet\\\\images\\\\basset_hound_28.jpg',\n",
       " 'datasets/oxfordpet\\\\images\\\\basset_hound_29.jpg',\n",
       " 'datasets/oxfordpet\\\\images\\\\basset_hound_3.jpg',\n",
       " 'datasets/oxfordpet\\\\images\\\\basset_hound_30.jpg',\n",
       " 'datasets/oxfordpet\\\\images\\\\basset_hound_31.jpg',\n",
       " 'datasets/oxfordpet\\\\images\\\\basset_hound_32.jpg',\n",
       " 'datasets/oxfordpet\\\\images\\\\basset_hound_33.jpg',\n",
       " 'datasets/oxfordpet\\\\images\\\\basset_hound_34.jpg',\n",
       " 'datasets/oxfordpet\\\\images\\\\basset_hound_35.jpg',\n",
       " 'datasets/oxfordpet\\\\images\\\\basset_hound_36.jpg',\n",
       " 'datasets/oxfordpet\\\\images\\\\basset_hound_37.jpg',\n",
       " 'datasets/oxfordpet\\\\images\\\\basset_hound_38.jpg',\n",
       " 'datasets/oxfordpet\\\\images\\\\basset_hound_39.jpg',\n",
       " 'datasets/oxfordpet\\\\images\\\\basset_hound_4.jpg',\n",
       " 'datasets/oxfordpet\\\\images\\\\basset_hound_40.jpg',\n",
       " 'datasets/oxfordpet\\\\images\\\\basset_hound_41.jpg',\n",
       " 'datasets/oxfordpet\\\\images\\\\basset_hound_42.jpg',\n",
       " 'datasets/oxfordpet\\\\images\\\\basset_hound_43.jpg',\n",
       " 'datasets/oxfordpet\\\\images\\\\basset_hound_44.jpg',\n",
       " 'datasets/oxfordpet\\\\images\\\\basset_hound_45.jpg',\n",
       " 'datasets/oxfordpet\\\\images\\\\basset_hound_46.jpg',\n",
       " 'datasets/oxfordpet\\\\images\\\\basset_hound_47.jpg',\n",
       " 'datasets/oxfordpet\\\\images\\\\basset_hound_48.jpg',\n",
       " 'datasets/oxfordpet\\\\images\\\\basset_hound_49.jpg',\n",
       " 'datasets/oxfordpet\\\\images\\\\basset_hound_5.jpg',\n",
       " 'datasets/oxfordpet\\\\images\\\\basset_hound_50.jpg',\n",
       " 'datasets/oxfordpet\\\\images\\\\basset_hound_51.jpg',\n",
       " 'datasets/oxfordpet\\\\images\\\\basset_hound_52.jpg',\n",
       " 'datasets/oxfordpet\\\\images\\\\basset_hound_53.jpg',\n",
       " 'datasets/oxfordpet\\\\images\\\\basset_hound_54.jpg',\n",
       " 'datasets/oxfordpet\\\\images\\\\basset_hound_55.jpg',\n",
       " 'datasets/oxfordpet\\\\images\\\\basset_hound_56.jpg',\n",
       " 'datasets/oxfordpet\\\\images\\\\basset_hound_57.jpg',\n",
       " 'datasets/oxfordpet\\\\images\\\\basset_hound_58.jpg',\n",
       " 'datasets/oxfordpet\\\\images\\\\basset_hound_59.jpg',\n",
       " 'datasets/oxfordpet\\\\images\\\\basset_hound_6.jpg',\n",
       " 'datasets/oxfordpet\\\\images\\\\basset_hound_60.jpg',\n",
       " 'datasets/oxfordpet\\\\images\\\\basset_hound_61.jpg',\n",
       " 'datasets/oxfordpet\\\\images\\\\basset_hound_62.jpg',\n",
       " 'datasets/oxfordpet\\\\images\\\\basset_hound_63.jpg',\n",
       " 'datasets/oxfordpet\\\\images\\\\basset_hound_64.jpg',\n",
       " 'datasets/oxfordpet\\\\images\\\\basset_hound_65.jpg',\n",
       " 'datasets/oxfordpet\\\\images\\\\basset_hound_66.jpg',\n",
       " 'datasets/oxfordpet\\\\images\\\\basset_hound_67.jpg',\n",
       " 'datasets/oxfordpet\\\\images\\\\basset_hound_68.jpg',\n",
       " 'datasets/oxfordpet\\\\images\\\\basset_hound_69.jpg',\n",
       " 'datasets/oxfordpet\\\\images\\\\basset_hound_7.jpg',\n",
       " 'datasets/oxfordpet\\\\images\\\\basset_hound_70.jpg',\n",
       " 'datasets/oxfordpet\\\\images\\\\basset_hound_71.jpg',\n",
       " 'datasets/oxfordpet\\\\images\\\\basset_hound_72.jpg',\n",
       " 'datasets/oxfordpet\\\\images\\\\basset_hound_73.jpg',\n",
       " 'datasets/oxfordpet\\\\images\\\\basset_hound_74.jpg',\n",
       " 'datasets/oxfordpet\\\\images\\\\basset_hound_75.jpg',\n",
       " 'datasets/oxfordpet\\\\images\\\\basset_hound_76.jpg',\n",
       " 'datasets/oxfordpet\\\\images\\\\basset_hound_77.jpg',\n",
       " 'datasets/oxfordpet\\\\images\\\\basset_hound_78.jpg',\n",
       " 'datasets/oxfordpet\\\\images\\\\basset_hound_79.jpg',\n",
       " 'datasets/oxfordpet\\\\images\\\\basset_hound_8.jpg',\n",
       " 'datasets/oxfordpet\\\\images\\\\basset_hound_80.jpg',\n",
       " 'datasets/oxfordpet\\\\images\\\\basset_hound_81.jpg',\n",
       " 'datasets/oxfordpet\\\\images\\\\basset_hound_82.jpg',\n",
       " 'datasets/oxfordpet\\\\images\\\\basset_hound_83.jpg',\n",
       " 'datasets/oxfordpet\\\\images\\\\basset_hound_84.jpg',\n",
       " 'datasets/oxfordpet\\\\images\\\\basset_hound_85.jpg',\n",
       " 'datasets/oxfordpet\\\\images\\\\basset_hound_86.jpg',\n",
       " 'datasets/oxfordpet\\\\images\\\\basset_hound_87.jpg',\n",
       " 'datasets/oxfordpet\\\\images\\\\basset_hound_88.jpg',\n",
       " 'datasets/oxfordpet\\\\images\\\\basset_hound_89.jpg',\n",
       " 'datasets/oxfordpet\\\\images\\\\basset_hound_9.jpg',\n",
       " 'datasets/oxfordpet\\\\images\\\\basset_hound_90.jpg',\n",
       " 'datasets/oxfordpet\\\\images\\\\basset_hound_91.jpg',\n",
       " 'datasets/oxfordpet\\\\images\\\\basset_hound_92.jpg',\n",
       " 'datasets/oxfordpet\\\\images\\\\basset_hound_93.jpg',\n",
       " 'datasets/oxfordpet\\\\images\\\\basset_hound_94.jpg',\n",
       " 'datasets/oxfordpet\\\\images\\\\basset_hound_95.jpg',\n",
       " 'datasets/oxfordpet\\\\images\\\\basset_hound_96.jpg',\n",
       " 'datasets/oxfordpet\\\\images\\\\basset_hound_97.jpg',\n",
       " 'datasets/oxfordpet\\\\images\\\\basset_hound_98.jpg',\n",
       " 'datasets/oxfordpet\\\\images\\\\basset_hound_99.jpg',\n",
       " 'datasets/oxfordpet\\\\images\\\\beagle_1.jpg',\n",
       " 'datasets/oxfordpet\\\\images\\\\beagle_10.jpg',\n",
       " 'datasets/oxfordpet\\\\images\\\\beagle_100.jpg',\n",
       " 'datasets/oxfordpet\\\\images\\\\beagle_101.jpg',\n",
       " 'datasets/oxfordpet\\\\images\\\\beagle_102.jpg',\n",
       " 'datasets/oxfordpet\\\\images\\\\beagle_103.jpg',\n",
       " 'datasets/oxfordpet\\\\images\\\\beagle_104.jpg',\n",
       " 'datasets/oxfordpet\\\\images\\\\beagle_105.jpg',\n",
       " 'datasets/oxfordpet\\\\images\\\\beagle_107.jpg',\n",
       " 'datasets/oxfordpet\\\\images\\\\beagle_108.jpg',\n",
       " 'datasets/oxfordpet\\\\images\\\\beagle_109.jpg',\n",
       " 'datasets/oxfordpet\\\\images\\\\beagle_110.jpg',\n",
       " 'datasets/oxfordpet\\\\images\\\\beagle_111.jpg',\n",
       " 'datasets/oxfordpet\\\\images\\\\beagle_112.jpg',\n",
       " 'datasets/oxfordpet\\\\images\\\\beagle_113.jpg',\n",
       " 'datasets/oxfordpet\\\\images\\\\beagle_114.jpg',\n",
       " 'datasets/oxfordpet\\\\images\\\\beagle_115.jpg',\n",
       " 'datasets/oxfordpet\\\\images\\\\beagle_116.jpg',\n",
       " 'datasets/oxfordpet\\\\images\\\\beagle_117.jpg',\n",
       " 'datasets/oxfordpet\\\\images\\\\beagle_118.jpg',\n",
       " 'datasets/oxfordpet\\\\images\\\\beagle_119.jpg',\n",
       " 'datasets/oxfordpet\\\\images\\\\beagle_12.jpg',\n",
       " 'datasets/oxfordpet\\\\images\\\\beagle_120.jpg',\n",
       " 'datasets/oxfordpet\\\\images\\\\beagle_121.jpg',\n",
       " 'datasets/oxfordpet\\\\images\\\\beagle_122.jpg',\n",
       " 'datasets/oxfordpet\\\\images\\\\beagle_123.jpg',\n",
       " 'datasets/oxfordpet\\\\images\\\\beagle_124.jpg',\n",
       " 'datasets/oxfordpet\\\\images\\\\beagle_125.jpg',\n",
       " 'datasets/oxfordpet\\\\images\\\\beagle_126.jpg',\n",
       " 'datasets/oxfordpet\\\\images\\\\beagle_127.jpg',\n",
       " 'datasets/oxfordpet\\\\images\\\\beagle_128.jpg',\n",
       " 'datasets/oxfordpet\\\\images\\\\beagle_129.jpg',\n",
       " 'datasets/oxfordpet\\\\images\\\\beagle_13.jpg',\n",
       " 'datasets/oxfordpet\\\\images\\\\beagle_130.jpg',\n",
       " 'datasets/oxfordpet\\\\images\\\\beagle_131.jpg',\n",
       " 'datasets/oxfordpet\\\\images\\\\beagle_133.jpg',\n",
       " 'datasets/oxfordpet\\\\images\\\\beagle_134.jpg',\n",
       " 'datasets/oxfordpet\\\\images\\\\beagle_135.jpg',\n",
       " 'datasets/oxfordpet\\\\images\\\\beagle_136.jpg',\n",
       " 'datasets/oxfordpet\\\\images\\\\beagle_137.jpg',\n",
       " 'datasets/oxfordpet\\\\images\\\\beagle_138.jpg',\n",
       " 'datasets/oxfordpet\\\\images\\\\beagle_139.jpg',\n",
       " 'datasets/oxfordpet\\\\images\\\\beagle_14.jpg',\n",
       " 'datasets/oxfordpet\\\\images\\\\beagle_140.jpg',\n",
       " 'datasets/oxfordpet\\\\images\\\\beagle_141.jpg',\n",
       " 'datasets/oxfordpet\\\\images\\\\beagle_142.jpg',\n",
       " 'datasets/oxfordpet\\\\images\\\\beagle_143.jpg',\n",
       " 'datasets/oxfordpet\\\\images\\\\beagle_144.jpg',\n",
       " 'datasets/oxfordpet\\\\images\\\\beagle_145.jpg',\n",
       " 'datasets/oxfordpet\\\\images\\\\beagle_146.jpg',\n",
       " 'datasets/oxfordpet\\\\images\\\\beagle_147.jpg',\n",
       " 'datasets/oxfordpet\\\\images\\\\beagle_148.jpg',\n",
       " 'datasets/oxfordpet\\\\images\\\\beagle_149.jpg',\n",
       " 'datasets/oxfordpet\\\\images\\\\beagle_15.jpg',\n",
       " 'datasets/oxfordpet\\\\images\\\\beagle_150.jpg',\n",
       " 'datasets/oxfordpet\\\\images\\\\beagle_151.jpg',\n",
       " 'datasets/oxfordpet\\\\images\\\\beagle_152.jpg',\n",
       " 'datasets/oxfordpet\\\\images\\\\beagle_153.jpg',\n",
       " 'datasets/oxfordpet\\\\images\\\\beagle_154.jpg',\n",
       " 'datasets/oxfordpet\\\\images\\\\beagle_155.jpg',\n",
       " 'datasets/oxfordpet\\\\images\\\\beagle_156.jpg',\n",
       " 'datasets/oxfordpet\\\\images\\\\beagle_157.jpg',\n",
       " 'datasets/oxfordpet\\\\images\\\\beagle_158.jpg',\n",
       " 'datasets/oxfordpet\\\\images\\\\beagle_16.jpg',\n",
       " 'datasets/oxfordpet\\\\images\\\\beagle_160.jpg',\n",
       " 'datasets/oxfordpet\\\\images\\\\beagle_161.jpg',\n",
       " 'datasets/oxfordpet\\\\images\\\\beagle_162.jpg',\n",
       " 'datasets/oxfordpet\\\\images\\\\beagle_163.jpg',\n",
       " 'datasets/oxfordpet\\\\images\\\\beagle_164.jpg',\n",
       " 'datasets/oxfordpet\\\\images\\\\beagle_165.jpg',\n",
       " 'datasets/oxfordpet\\\\images\\\\beagle_166.jpg',\n",
       " 'datasets/oxfordpet\\\\images\\\\beagle_167.jpg',\n",
       " 'datasets/oxfordpet\\\\images\\\\beagle_168.jpg',\n",
       " 'datasets/oxfordpet\\\\images\\\\beagle_169.jpg',\n",
       " 'datasets/oxfordpet\\\\images\\\\beagle_17.jpg',\n",
       " 'datasets/oxfordpet\\\\images\\\\beagle_170.jpg',\n",
       " 'datasets/oxfordpet\\\\images\\\\beagle_171.jpg',\n",
       " 'datasets/oxfordpet\\\\images\\\\beagle_172.jpg',\n",
       " 'datasets/oxfordpet\\\\images\\\\beagle_173.jpg',\n",
       " 'datasets/oxfordpet\\\\images\\\\beagle_174.jpg',\n",
       " 'datasets/oxfordpet\\\\images\\\\beagle_175.jpg',\n",
       " 'datasets/oxfordpet\\\\images\\\\beagle_176.jpg',\n",
       " 'datasets/oxfordpet\\\\images\\\\beagle_177.jpg',\n",
       " 'datasets/oxfordpet\\\\images\\\\beagle_178.jpg',\n",
       " 'datasets/oxfordpet\\\\images\\\\beagle_179.jpg',\n",
       " 'datasets/oxfordpet\\\\images\\\\beagle_18.jpg',\n",
       " 'datasets/oxfordpet\\\\images\\\\beagle_180.jpg',\n",
       " 'datasets/oxfordpet\\\\images\\\\beagle_181.jpg',\n",
       " 'datasets/oxfordpet\\\\images\\\\beagle_182.jpg',\n",
       " 'datasets/oxfordpet\\\\images\\\\beagle_183.jpg',\n",
       " 'datasets/oxfordpet\\\\images\\\\beagle_184.jpg',\n",
       " 'datasets/oxfordpet\\\\images\\\\beagle_185.jpg',\n",
       " 'datasets/oxfordpet\\\\images\\\\beagle_186.jpg',\n",
       " 'datasets/oxfordpet\\\\images\\\\beagle_187.jpg',\n",
       " 'datasets/oxfordpet\\\\images\\\\beagle_188.jpg',\n",
       " 'datasets/oxfordpet\\\\images\\\\beagle_189.jpg',\n",
       " 'datasets/oxfordpet\\\\images\\\\beagle_19.jpg',\n",
       " 'datasets/oxfordpet\\\\images\\\\beagle_190.jpg',\n",
       " 'datasets/oxfordpet\\\\images\\\\beagle_191.jpg',\n",
       " 'datasets/oxfordpet\\\\images\\\\beagle_192.jpg',\n",
       " 'datasets/oxfordpet\\\\images\\\\beagle_193.jpg',\n",
       " 'datasets/oxfordpet\\\\images\\\\beagle_194.jpg',\n",
       " 'datasets/oxfordpet\\\\images\\\\beagle_195.jpg',\n",
       " 'datasets/oxfordpet\\\\images\\\\beagle_196.jpg',\n",
       " 'datasets/oxfordpet\\\\images\\\\beagle_197.jpg',\n",
       " 'datasets/oxfordpet\\\\images\\\\beagle_198.jpg',\n",
       " 'datasets/oxfordpet\\\\images\\\\beagle_199.jpg',\n",
       " 'datasets/oxfordpet\\\\images\\\\beagle_2.jpg',\n",
       " 'datasets/oxfordpet\\\\images\\\\beagle_20.jpg',\n",
       " 'datasets/oxfordpet\\\\images\\\\beagle_200.jpg',\n",
       " 'datasets/oxfordpet\\\\images\\\\beagle_201.jpg',\n",
       " 'datasets/oxfordpet\\\\images\\\\beagle_202.jpg',\n",
       " 'datasets/oxfordpet\\\\images\\\\beagle_203.jpg',\n",
       " 'datasets/oxfordpet\\\\images\\\\beagle_204.jpg',\n",
       " 'datasets/oxfordpet\\\\images\\\\beagle_21.jpg',\n",
       " 'datasets/oxfordpet\\\\images\\\\beagle_22.jpg',\n",
       " 'datasets/oxfordpet\\\\images\\\\beagle_23.jpg',\n",
       " 'datasets/oxfordpet\\\\images\\\\beagle_24.jpg',\n",
       " 'datasets/oxfordpet\\\\images\\\\beagle_25.jpg',\n",
       " 'datasets/oxfordpet\\\\images\\\\beagle_26.jpg',\n",
       " 'datasets/oxfordpet\\\\images\\\\beagle_27.jpg',\n",
       " 'datasets/oxfordpet\\\\images\\\\beagle_28.jpg',\n",
       " 'datasets/oxfordpet\\\\images\\\\beagle_29.jpg',\n",
       " 'datasets/oxfordpet\\\\images\\\\beagle_3.jpg',\n",
       " 'datasets/oxfordpet\\\\images\\\\beagle_30.jpg',\n",
       " 'datasets/oxfordpet\\\\images\\\\beagle_31.jpg',\n",
       " 'datasets/oxfordpet\\\\images\\\\beagle_32.jpg',\n",
       " 'datasets/oxfordpet\\\\images\\\\beagle_33.jpg',\n",
       " 'datasets/oxfordpet\\\\images\\\\beagle_34.jpg',\n",
       " 'datasets/oxfordpet\\\\images\\\\beagle_35.jpg',\n",
       " 'datasets/oxfordpet\\\\images\\\\beagle_36.jpg',\n",
       " 'datasets/oxfordpet\\\\images\\\\beagle_37.jpg',\n",
       " 'datasets/oxfordpet\\\\images\\\\beagle_38.jpg',\n",
       " 'datasets/oxfordpet\\\\images\\\\beagle_39.jpg',\n",
       " 'datasets/oxfordpet\\\\images\\\\beagle_4.jpg',\n",
       " 'datasets/oxfordpet\\\\images\\\\beagle_40.jpg',\n",
       " 'datasets/oxfordpet\\\\images\\\\beagle_41.jpg',\n",
       " 'datasets/oxfordpet\\\\images\\\\beagle_42.jpg',\n",
       " 'datasets/oxfordpet\\\\images\\\\beagle_43.jpg',\n",
       " 'datasets/oxfordpet\\\\images\\\\beagle_44.jpg',\n",
       " 'datasets/oxfordpet\\\\images\\\\beagle_45.jpg',\n",
       " 'datasets/oxfordpet\\\\images\\\\beagle_46.jpg',\n",
       " 'datasets/oxfordpet\\\\images\\\\beagle_47.jpg',\n",
       " 'datasets/oxfordpet\\\\images\\\\beagle_48.jpg',\n",
       " 'datasets/oxfordpet\\\\images\\\\beagle_49.jpg',\n",
       " 'datasets/oxfordpet\\\\images\\\\beagle_5.jpg',\n",
       " 'datasets/oxfordpet\\\\images\\\\beagle_50.jpg',\n",
       " 'datasets/oxfordpet\\\\images\\\\beagle_51.jpg',\n",
       " 'datasets/oxfordpet\\\\images\\\\beagle_52.jpg',\n",
       " 'datasets/oxfordpet\\\\images\\\\beagle_53.jpg',\n",
       " 'datasets/oxfordpet\\\\images\\\\beagle_54.jpg',\n",
       " 'datasets/oxfordpet\\\\images\\\\beagle_55.jpg',\n",
       " 'datasets/oxfordpet\\\\images\\\\beagle_56.jpg',\n",
       " 'datasets/oxfordpet\\\\images\\\\beagle_57.jpg',\n",
       " 'datasets/oxfordpet\\\\images\\\\beagle_58.jpg',\n",
       " 'datasets/oxfordpet\\\\images\\\\beagle_59.jpg',\n",
       " 'datasets/oxfordpet\\\\images\\\\beagle_6.jpg',\n",
       " 'datasets/oxfordpet\\\\images\\\\beagle_60.jpg',\n",
       " 'datasets/oxfordpet\\\\images\\\\beagle_61.jpg',\n",
       " 'datasets/oxfordpet\\\\images\\\\beagle_62.jpg',\n",
       " 'datasets/oxfordpet\\\\images\\\\beagle_63.jpg',\n",
       " 'datasets/oxfordpet\\\\images\\\\beagle_64.jpg',\n",
       " 'datasets/oxfordpet\\\\images\\\\beagle_65.jpg',\n",
       " 'datasets/oxfordpet\\\\images\\\\beagle_66.jpg',\n",
       " 'datasets/oxfordpet\\\\images\\\\beagle_67.jpg',\n",
       " 'datasets/oxfordpet\\\\images\\\\beagle_68.jpg',\n",
       " 'datasets/oxfordpet\\\\images\\\\beagle_69.jpg',\n",
       " 'datasets/oxfordpet\\\\images\\\\beagle_7.jpg',\n",
       " 'datasets/oxfordpet\\\\images\\\\beagle_70.jpg',\n",
       " 'datasets/oxfordpet\\\\images\\\\beagle_71.jpg',\n",
       " 'datasets/oxfordpet\\\\images\\\\beagle_72.jpg',\n",
       " 'datasets/oxfordpet\\\\images\\\\beagle_73.jpg',\n",
       " 'datasets/oxfordpet\\\\images\\\\beagle_74.jpg',\n",
       " 'datasets/oxfordpet\\\\images\\\\beagle_75.jpg',\n",
       " 'datasets/oxfordpet\\\\images\\\\beagle_76.jpg',\n",
       " 'datasets/oxfordpet\\\\images\\\\beagle_77.jpg',\n",
       " 'datasets/oxfordpet\\\\images\\\\beagle_78.jpg',\n",
       " 'datasets/oxfordpet\\\\images\\\\beagle_79.jpg',\n",
       " 'datasets/oxfordpet\\\\images\\\\beagle_8.jpg',\n",
       " 'datasets/oxfordpet\\\\images\\\\beagle_80.jpg',\n",
       " 'datasets/oxfordpet\\\\images\\\\beagle_81.jpg',\n",
       " 'datasets/oxfordpet\\\\images\\\\beagle_82.jpg',\n",
       " 'datasets/oxfordpet\\\\images\\\\beagle_83.jpg',\n",
       " 'datasets/oxfordpet\\\\images\\\\beagle_84.jpg',\n",
       " 'datasets/oxfordpet\\\\images\\\\beagle_85.jpg',\n",
       " 'datasets/oxfordpet\\\\images\\\\beagle_86.jpg',\n",
       " 'datasets/oxfordpet\\\\images\\\\beagle_87.jpg',\n",
       " 'datasets/oxfordpet\\\\images\\\\beagle_88.jpg',\n",
       " 'datasets/oxfordpet\\\\images\\\\beagle_89.jpg',\n",
       " 'datasets/oxfordpet\\\\images\\\\beagle_9.jpg',\n",
       " 'datasets/oxfordpet\\\\images\\\\beagle_90.jpg',\n",
       " 'datasets/oxfordpet\\\\images\\\\beagle_91.jpg',\n",
       " 'datasets/oxfordpet\\\\images\\\\beagle_92.jpg',\n",
       " 'datasets/oxfordpet\\\\images\\\\beagle_93.jpg',\n",
       " 'datasets/oxfordpet\\\\images\\\\beagle_94.jpg',\n",
       " 'datasets/oxfordpet\\\\images\\\\beagle_95.jpg',\n",
       " 'datasets/oxfordpet\\\\images\\\\beagle_96.jpg',\n",
       " 'datasets/oxfordpet\\\\images\\\\beagle_97.jpg',\n",
       " 'datasets/oxfordpet\\\\images\\\\beagle_98.jpg',\n",
       " 'datasets/oxfordpet\\\\images\\\\beagle_99.jpg',\n",
       " 'datasets/oxfordpet\\\\images\\\\Bengal_1.jpg',\n",
       " 'datasets/oxfordpet\\\\images\\\\Bengal_10.jpg',\n",
       " ...]"
      ]
     },
     "execution_count": 154,
     "metadata": {},
     "output_type": "execute_result"
    }
   ],
   "source": [
    "file_list"
   ]
  },
  {
   "cell_type": "code",
   "execution_count": 155,
   "metadata": {},
   "outputs": [
    {
     "data": {
      "text/plain": [
       "'Abyssinian_1'"
      ]
     },
     "execution_count": 155,
     "metadata": {},
     "output_type": "execute_result"
    }
   ],
   "source": [
    "os.path.splitext(os.path.basename('datasets/oxfordpet\\\\images\\\\Abyssinian_1.jpg'))[0]"
   ]
  },
  {
   "cell_type": "code",
   "execution_count": null,
   "metadata": {},
   "outputs": [],
   "source": []
  },
  {
   "cell_type": "code",
   "execution_count": null,
   "metadata": {},
   "outputs": [],
   "source": []
  },
  {
   "cell_type": "code",
   "execution_count": null,
   "metadata": {},
   "outputs": [],
   "source": []
  },
  {
   "cell_type": "code",
   "execution_count": null,
   "metadata": {},
   "outputs": [],
   "source": []
  },
  {
   "cell_type": "code",
   "execution_count": null,
   "metadata": {},
   "outputs": [],
   "source": []
  },
  {
   "cell_type": "markdown",
   "metadata": {},
   "source": [
    "# Dataset을 이용해 CSV파일에 저장된 데이터셋 로딩"
   ]
  },
  {
   "cell_type": "code",
   "execution_count": 18,
   "metadata": {},
   "outputs": [],
   "source": [
    "import numpy as np\n",
    "import pandas as pd\n",
    "import matplotlib.pyplot as plt\n"
   ]
  },
  {
   "cell_type": "code",
   "execution_count": null,
   "metadata": {},
   "outputs": [],
   "source": []
  },
  {
   "cell_type": "code",
   "execution_count": null,
   "metadata": {},
   "outputs": [],
   "source": []
  },
  {
   "cell_type": "code",
   "execution_count": null,
   "metadata": {},
   "outputs": [],
   "source": []
  },
  {
   "cell_type": "code",
   "execution_count": null,
   "metadata": {},
   "outputs": [],
   "source": []
  },
  {
   "cell_type": "code",
   "execution_count": null,
   "metadata": {},
   "outputs": [],
   "source": []
  },
  {
   "cell_type": "code",
   "execution_count": 2,
   "metadata": {
    "collapsed": true
   },
   "outputs": [
    {
     "ename": "NameError",
     "evalue": "name 'X' is not defined",
     "output_type": "error",
     "traceback": [
      "\u001b[1;31m---------------------------------------------------------------------------\u001b[0m",
      "\u001b[1;31mNameError\u001b[0m                                 Traceback (most recent call last)",
      "Cell \u001b[1;32mIn[2], line 4\u001b[0m\n\u001b[0;32m      1\u001b[0m \u001b[38;5;66;03m# Train / Test 분리\u001b[39;00m\n\u001b[0;32m      2\u001b[0m \u001b[38;5;28;01mfrom\u001b[39;00m \u001b[38;5;21;01msklearn\u001b[39;00m\u001b[38;5;21;01m.\u001b[39;00m\u001b[38;5;21;01mmodel_selection\u001b[39;00m \u001b[38;5;28;01mimport\u001b[39;00m train_test_split\n\u001b[1;32m----> 4\u001b[0m X_train, X_test, y_train, y_test\u001b[38;5;241m=\u001b[39m train_test_split(\u001b[43mX\u001b[49m,y,stratify\u001b[38;5;241m=\u001b[39my)\n",
      "\u001b[1;31mNameError\u001b[0m: name 'X' is not defined"
     ]
    }
   ],
   "source": [
    "# Train / Test 분리\n",
    "from sklearn.model_selection import train_test_split\n",
    "from sklearn.preprocessing import StandardScaler\n",
    "\n",
    "y=iris['target'].aply(lambda x: class_to_index[x]).values ## 이거 하는 이유?\n",
    "\n",
    "X_train, X_test, y_train, y_test= train_test_split(X,y,stratify=y)\n",
    "\n",
    "scaler = StandardScaler()\n",
    "X_train_scaled=scaler.fit_transform(X_train)\n",
    "X_test_scaled=scaler.transform(X_test)"
   ]
  },
  {
   "cell_type": "code",
   "execution_count": null,
   "metadata": {},
   "outputs": [],
   "source": [
    "#ndarray=> tensor\n",
    "# TensorDataset(X,y) X,y 모두 torch.Tensor type이어야 한다. \n",
    "train_set_ir2=TensorDataset(torch.Tensor(X_train_scaled,dtype=torch.float32),\n",
    "                            torch.tensor(y_train,dtype=torch.float32))"
   ]
  },
  {
   "cell_type": "code",
   "execution_count": null,
   "metadata": {},
   "outputs": [],
   "source": [
    "len(train_set_ir2)"
   ]
  },
  {
   "cell_type": "code",
   "execution_count": null,
   "metadata": {},
   "outputs": [],
   "source": [
    "train_set_ir2[6]"
   ]
  },
  {
   "cell_type": "code",
   "execution_count": null,
   "metadata": {},
   "outputs": [],
   "source": [
    "# 사용자 정의 Dataset 정의\n",
    "class IrisDataset(Dataset):\n",
    "    \n",
    "    def __init__(self, X,y mean, std):\n",
    "        # mean, std => standard scaling 을 하기 위해 train set의 평균, 표준편차를 받는다.\n",
    "        # 모델의 parameter type인 float32에 맞춘다.\n",
    "        self.X=torch.tensor(X,dtype=torch.float32)\n",
    "        \n",
    "        # feature scaling\n",
    "        mean=torch.tensor(mean,dtype=torch.float32)\n",
    "        std=torch.tensor(std,dtype=torch.float32)\n",
    "        \n",
    "        self.X=(self.X-mean)/std\n",
    "        self.y = y\n",
    "        \n",
    "    def __len__(self):\n",
    "        return self.X.shape[0]\n",
    "    \n",
    "    def __getitem__(self,index):\n",
    "        X=self.X[index]\n",
    "        y=self.y[index]\n",
    "        return X,y"
   ]
  },
  {
   "cell_type": "code",
   "execution_count": 3,
   "metadata": {
    "collapsed": true
   },
   "outputs": [
    {
     "ename": "NameError",
     "evalue": "name 'X_train' is not defined",
     "output_type": "error",
     "traceback": [
      "\u001b[1;31m---------------------------------------------------------------------------\u001b[0m",
      "\u001b[1;31mNameError\u001b[0m                                 Traceback (most recent call last)",
      "Cell \u001b[1;32mIn[3], line 1\u001b[0m\n\u001b[1;32m----> 1\u001b[0m mean\u001b[38;5;241m=\u001b[39m\u001b[43mX_train\u001b[49m\u001b[38;5;241m.\u001b[39mmean(axis\u001b[38;5;241m=\u001b[39m\u001b[38;5;241m0\u001b[39m)\n\u001b[0;32m      2\u001b[0m mean\n\u001b[0;32m      3\u001b[0m \u001b[38;5;66;03m# train_set_ir=IrisDataset()\u001b[39;00m\n",
      "\u001b[1;31mNameError\u001b[0m: name 'X_train' is not defined"
     ]
    }
   ],
   "source": [
    "mean=X_train.mean(axis=0)\n",
    "std=X_train.std(axis=0)\n",
    "\n",
    "train_set_ir=IrisDataset(X_train,y_train,mean,std)"
   ]
  },
  {
   "cell_type": "code",
   "execution_count": null,
   "metadata": {},
   "outputs": [],
   "source": [
    "len(train_set_ir)\n",
    "train_set_ir[0]"
   ]
  },
  {
   "cell_type": "code",
   "execution_count": null,
   "metadata": {},
   "outputs": [],
   "source": [
    "# 사용자 정의 Dataset 정의 대신해서\n",
    "## TensorDataset\n",
    "## X,y가 tensor객체로 메모리에 loading 되어 있는 경우"
   ]
  },
  {
   "cell_type": "code",
   "execution_count": null,
   "metadata": {},
   "outputs": [],
   "source": []
  },
  {
   "cell_type": "code",
   "execution_count": null,
   "metadata": {},
   "outputs": [],
   "source": []
  },
  {
   "cell_type": "code",
   "execution_count": null,
   "metadata": {},
   "outputs": [],
   "source": []
  },
  {
   "cell_type": "code",
   "execution_count": null,
   "metadata": {},
   "outputs": [],
   "source": []
  },
  {
   "cell_type": "code",
   "execution_count": null,
   "metadata": {},
   "outputs": [],
   "source": []
  },
  {
   "cell_type": "code",
   "execution_count": null,
   "metadata": {},
   "outputs": [],
   "source": []
  },
  {
   "cell_type": "code",
   "execution_count": null,
   "metadata": {},
   "outputs": [],
   "source": []
  },
  {
   "cell_type": "code",
   "execution_count": null,
   "metadata": {},
   "outputs": [],
   "source": []
  },
  {
   "cell_type": "code",
   "execution_count": 4,
   "metadata": {
    "collapsed": true
   },
   "outputs": [
    {
     "name": "stdout",
     "output_type": "stream",
     "text": [
      "Collecting gdown\n",
      "  Downloading gdown-4.7.1-py3-none-any.whl (15 kB)\n",
      "Requirement already satisfied: requests[socks] in c:\\users\\playdata\\anaconda3\\envs\\ml\\lib\\site-packages (from gdown) (2.30.0)\n",
      "Requirement already satisfied: six in c:\\users\\playdata\\anaconda3\\envs\\ml\\lib\\site-packages (from gdown) (1.16.0)\n",
      "Requirement already satisfied: tqdm in c:\\users\\playdata\\anaconda3\\envs\\ml\\lib\\site-packages (from gdown) (4.65.0)\n",
      "Requirement already satisfied: beautifulsoup4 in c:\\users\\playdata\\anaconda3\\envs\\ml\\lib\\site-packages (from gdown) (4.12.2)\n",
      "Requirement already satisfied: filelock in c:\\users\\playdata\\anaconda3\\envs\\ml\\lib\\site-packages (from gdown) (3.12.0)\n",
      "Requirement already satisfied: soupsieve>1.2 in c:\\users\\playdata\\anaconda3\\envs\\ml\\lib\\site-packages (from beautifulsoup4->gdown) (2.4.1)\n",
      "Requirement already satisfied: urllib3<3,>=1.21.1 in c:\\users\\playdata\\anaconda3\\envs\\ml\\lib\\site-packages (from requests[socks]->gdown) (2.0.2)\n",
      "Requirement already satisfied: certifi>=2017.4.17 in c:\\users\\playdata\\anaconda3\\envs\\ml\\lib\\site-packages (from requests[socks]->gdown) (2023.5.7)\n",
      "Requirement already satisfied: charset-normalizer<4,>=2 in c:\\users\\playdata\\anaconda3\\envs\\ml\\lib\\site-packages (from requests[socks]->gdown) (3.1.0)\n",
      "Requirement already satisfied: idna<4,>=2.5 in c:\\users\\playdata\\anaconda3\\envs\\ml\\lib\\site-packages (from requests[socks]->gdown) (3.4)\n",
      "Requirement already satisfied: PySocks!=1.5.7,>=1.5.6 in c:\\users\\playdata\\anaconda3\\envs\\ml\\lib\\site-packages (from requests[socks]->gdown) (1.7.1)\n",
      "Requirement already satisfied: colorama in c:\\users\\playdata\\anaconda3\\envs\\ml\\lib\\site-packages (from tqdm->gdown) (0.4.6)\n",
      "Installing collected packages: gdown\n",
      "Successfully installed gdown-4.7.1\n"
     ]
    }
   ],
   "source": [
    "!pip install gdown --upgrade ## google download 의미"
   ]
  },
  {
   "cell_type": "markdown",
   "metadata": {},
   "source": [
    "## torchvision.datasets.ImageFolder 이용\n",
    "- 저장장치에 파일로 저장된 image들을 쉽게 로딩할 수 있도록 한다.\n",
    "- train/validation/test 데이터셋을 저장하는 디렉토리에 class 별로 디렉토리를 만들고 이미지를 저장한다."
   ]
  },
  {
   "cell_type": "code",
   "execution_count": 5,
   "metadata": {},
   "outputs": [
    {
     "name": "stderr",
     "output_type": "stream",
     "text": [
      "Downloading...\n",
      "From (uriginal): https://drive.google.com/uc?id=1YIxDL0XJhhAMdScdRUfDgccAqyCw5-ZV\n",
      "From (redirected): https://drive.google.com/uc?id=1YIxDL0XJhhAMdScdRUfDgccAqyCw5-ZV&confirm=t&uuid=d3fc91e5-d2e9-42ec-9f4e-90ffd6b7f409\n",
      "To: C:\\class\\machine_learning\\07_dl\\data\\cats_and_dogs_small.zip\n",
      "100%|█████████████████████████████████████████████████████████████████████████████| 90.8M/90.8M [00:03<00:00, 27.4MB/s]\n"
     ]
    }
   ],
   "source": [
    "# !pip install gdown --upgrade\n",
    "import os\n",
    "from zipfile import ZipFile\n",
    "import gdown\n",
    "def down_extract():\n",
    "    os.makedirs('data', exist_ok=True)\n",
    "    url = 'https://drive.google.com/uc?id=1YIxDL0XJhhAMdScdRUfDgccAqyCw5-ZV'\n",
    "    # id 이하는 변경되는 것이므로 상황에 맞게 편집\n",
    "    fname = 'data/cats_and_dogs_small.zip'\n",
    "\n",
    "    gdown.download(url, fname, quiet=False) # True하면 download 상태 표시 해준다.\n",
    "    \n",
    "    #zipfile모듈: Zip 압축파일을 다루는 모듈(압축하기, 풀기)\n",
    "    from zipfile import ZipFile\n",
    "    # 압축풀기: ZipFile(압축파일경로).extractall(풀경로) # 디렉토리 없으면 생성해 준다.\n",
    "    with ZipFile(fname) as zipFile:\n",
    "        zipFile.extractall(os.path.join('data','cats_and_dogs_small'))\n",
    "        \n",
    "down_extract()        "
   ]
  },
  {
   "cell_type": "code",
   "execution_count": 10,
   "metadata": {},
   "outputs": [],
   "source": [
    "from torchvision.datasets import ImageFolder\n",
    "from torchvision.transforms import ToTensor\n",
    "\n",
    "train_set_cd=ImageFolder(root='data/cats_and_dogs_small/train', transform=ToTensor())\n",
    "test_set_cd=ImageFolder(root='data/cats_and_dogs_small/test', transform=ToTensor())\n",
    "valid_set_cd=ImageFolder(root='data/cats_and_dogs_small/validation/', transform=ToTensor())\n"
   ]
  },
  {
   "cell_type": "code",
   "execution_count": 11,
   "metadata": {},
   "outputs": [
    {
     "data": {
      "text/plain": [
       "Dataset ImageFolder\n",
       "    Number of datapoints: 2000\n",
       "    Root location: data/cats_and_dogs_small/train\n",
       "    StandardTransform\n",
       "Transform: ToTensor()"
      ]
     },
     "execution_count": 11,
     "metadata": {},
     "output_type": "execute_result"
    }
   ],
   "source": [
    "train_set_cd"
   ]
  },
  {
   "cell_type": "code",
   "execution_count": 12,
   "metadata": {},
   "outputs": [
    {
     "data": {
      "text/plain": [
       "(2000, 1000, 1000)"
      ]
     },
     "execution_count": 12,
     "metadata": {},
     "output_type": "execute_result"
    }
   ],
   "source": [
    "len(train_set_cd),len(valid_set_cd),len(test_set_cd)"
   ]
  },
  {
   "cell_type": "code",
   "execution_count": 13,
   "metadata": {},
   "outputs": [
    {
     "data": {
      "text/plain": [
       "['cats', 'dogs']"
      ]
     },
     "execution_count": 13,
     "metadata": {},
     "output_type": "execute_result"
    }
   ],
   "source": [
    "train_set_cd.classes"
   ]
  },
  {
   "cell_type": "code",
   "execution_count": 14,
   "metadata": {},
   "outputs": [
    {
     "data": {
      "text/plain": [
       "{'cats': 0, 'dogs': 1}"
      ]
     },
     "execution_count": 14,
     "metadata": {},
     "output_type": "execute_result"
    }
   ],
   "source": [
    "train_set_cd.class_to_idx"
   ]
  },
  {
   "cell_type": "code",
   "execution_count": 15,
   "metadata": {},
   "outputs": [
    {
     "data": {
      "text/plain": [
       "(torch.Tensor, int)"
      ]
     },
     "execution_count": 15,
     "metadata": {},
     "output_type": "execute_result"
    }
   ],
   "source": [
    "x,y=train_set_cd[0]\n",
    "type(x), type(y)"
   ]
  },
  {
   "cell_type": "code",
   "execution_count": 16,
   "metadata": {},
   "outputs": [
    {
     "data": {
      "text/plain": [
       "torch.Size([3, 374, 500])"
      ]
     },
     "execution_count": 16,
     "metadata": {},
     "output_type": "execute_result"
    }
   ],
   "source": [
    "x.shape"
   ]
  },
  {
   "cell_type": "code",
   "execution_count": 19,
   "metadata": {},
   "outputs": [
    {
     "data": {
      "text/plain": [
       "<matplotlib.image.AxesImage at 0x1e238af59f0>"
      ]
     },
     "execution_count": 19,
     "metadata": {},
     "output_type": "execute_result"
    },
    {
     "data": {
      "image/png": "[encoded data removed]",
      "text/plain": [
       "<Figure size 640x480 with 1 Axes>"
      ]
     },
     "metadata": {},
     "output_type": "display_data"
    }
   ],
   "source": [
    "plt.imshow(x.permute(1,2,0))"
   ]
  },
  {
   "cell_type": "code",
   "execution_count": null,
   "metadata": {},
   "outputs": [],
   "source": []
  },
  {
   "cell_type": "code",
   "execution_count": null,
   "metadata": {},
   "outputs": [],
   "source": []
  },
  {
   "cell_type": "code",
   "execution_count": null,
   "metadata": {},
   "outputs": [],
   "source": []
  },
  {
   "cell_type": "code",
   "execution_count": null,
   "metadata": {},
   "outputs": [],
   "source": []
  },
  {
   "cell_type": "code",
   "execution_count": null,
   "metadata": {},
   "outputs": [],
   "source": []
  }
 ],
 "metadata": {
  "kernelspec": {
   "display_name": "Python 3 (ipykernel)",
   "language": "python",
   "name": "python3"
  },
  "language_info": {
   "codemirror_mode": {
    "name": "ipython",
    "version": 3
   },
   "file_extension": ".py",
   "mimetype": "text/x-python",
   "name": "python",
   "nbconvert_exporter": "python",
   "pygments_lexer": "ipython3",
   "version": "3.10.11"
  },
  "toc": {
   "base_numbering": 1,
   "nav_menu": {},
   "number_sections": false,
   "sideBar": true,
   "skip_h1_title": false,
   "title_cell": "Table of Contents",
   "title_sidebar": "Contents",
   "toc_cell": false,
   "toc_position": {
    "height": "calc(100% - 180px)",
    "left": "10px",
    "top": "150px",
    "width": "455.111px"
   },
   "toc_section_display": true,
   "toc_window_display": false
  },
  "varInspector": {
   "cols": {
    "lenName": 16,
    "lenType": 16,
    "lenVar": 40
   },
   "kernels_config": {
    "python": {
     "delete_cmd_postfix": "",
     "delete_cmd_prefix": "del ",
     "library": "var_list.py",
     "varRefreshCmd": "print(var_dic_list())"
    },
    "r": {
     "delete_cmd_postfix": ") ",
     "delete_cmd_prefix": "rm(",
     "library": "var_list.r",
     "varRefreshCmd": "cat(var_dic_list()) "
    }
   },
   "types_to_exclude": [
    "module",
    "function",
    "builtin_function_or_method",
    "instance",
    "_Feature"
   ],
   "window_display": false
  }
 },
 "nbformat": 4,
 "nbformat_minor": 4
}
