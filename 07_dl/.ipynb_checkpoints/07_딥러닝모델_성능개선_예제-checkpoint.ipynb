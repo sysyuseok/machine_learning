{
 "cells": [
  {
   "cell_type": "markdown",
   "metadata": {},
   "source": [
    "# 성능개선 기법 실습"
   ]
  },
  {
   "cell_type": "markdown",
   "metadata": {},
   "source": [
    "# 모듈 정의"
   ]
  },
  {
   "cell_type": "markdown",
   "metadata": {},
   "source": [
    "## train.py\n",
    "- 모델 학습과 검증 함수 정의"
   ]
  },
  {
   "cell_type": "code",
   "execution_count": 1,
   "metadata": {},
   "outputs": [],
   "source": [
    "import os\n",
    "os.makedirs('module', exist_ok=True)"
   ]
  },
  {
   "cell_type": "code",
   "execution_count": 2,
   "metadata": {
    "code_folding": []
   },
   "outputs": [
    {
     "name": "stdout",
     "output_type": "stream",
     "text": [
      "Writing module/train.py\n"
     ]
    }
   ],
   "source": [
    "%%writefile module/train.py\n",
    "\n",
    "import torch\n",
    "import time\n",
    "\n",
    "# multi와 binary 정확도 계산이 다르다.\n",
    "\n",
    "def test_multi_classification(dataloader, model, loss_fn, device=\"cpu\") -> tuple:\n",
    "    \"\"\"\n",
    "    다중 분류 검증/평가 함수\n",
    "    \n",
    "    [parameter]\n",
    "        dataloader: DataLoader - 검증할 대상 데이터로더\n",
    "        model: 검증할 모델\n",
    "        loss_fn: 모델 추정값과 정답의 차이를 계산할 loss 함수.\n",
    "        device: str - 연산을 처리할 장치. default-\"cpu\", gpu-\"cuda\"\n",
    "    [return]\n",
    "        tuple: (loss, accuracy)\n",
    "    \"\"\"\n",
    "    model.eval() # 모델을 평가모드로 변환\n",
    "    size = len(dataloader.dataset) # 전체 데이터수\n",
    "    num_batches = len(dataloader)  #  step 수 \n",
    "    \n",
    "    test_loss, test_accuracy = 0., 0.\n",
    "    \n",
    "    with torch.no_grad():\n",
    "        for X, y in dataloader:\n",
    "            X, y = X.to(device), y.to(device)\n",
    "            pred = model(X)\n",
    "            test_loss += loss_fn(pred, y).item()\n",
    "            # 정확도 계산\n",
    "            pred_label = torch.argmax(pred, axis=-1)\n",
    "            test_accuracy += torch.sum(pred_label == y).item()\n",
    "            \n",
    "        test_loss /= num_batches\n",
    "        test_accuracy /= size  #전체 개수로 나눈다.\n",
    "    return test_loss, test_accuracy\n",
    "\n",
    "def test_binary_classification(dataloader, model, loss_fn, device=\"cpu\") -> tuple:\n",
    "    \"\"\"\n",
    "    이진 분류 검증/평가 함수\n",
    "    \n",
    "    [parameter]\n",
    "        dataloader: DataLoader - 검증할 대상 데이터로더\n",
    "        model: 검증할 모델\n",
    "        loss_fn: 모델 추정값과 정답의 차이를 계산할 loss 함수.\n",
    "        device: str - 연산을 처리할 장치. default-\"cpu\", gpu-\"cuda\"\n",
    "    [return]\n",
    "        tuple: (loss, accuracy)\n",
    "    \"\"\"\n",
    "    model.eval() # 모델을 평가모드로 변환\n",
    "    size = len(dataloader.dataset)\n",
    "    num_batches = len(dataloader)\n",
    "    \n",
    "    test_loss, test_accuracy = 0., 0.\n",
    "    \n",
    "    with torch.no_grad():\n",
    "        for X, y in dataloader:\n",
    "            X, y = X.to(device), y.to(device)\n",
    "            pred = model(X)\n",
    "            test_loss += loss_fn(pred, y).item()\n",
    "            ## 정확도 계산\n",
    "            pred_label = (pred >= 0.5).type(torch.int32)\n",
    "            test_accuracy += (pred_label == y).sum().item() \n",
    "            \n",
    "        test_loss /= num_batches\n",
    "        test_accuracy /= size   #전체 개수로 나눈다.\n",
    "    return test_loss, test_accuracy    \n",
    "\n",
    "def train(dataloader, model, loss_fn, optimizer, device=\"cpu\", mode:\"binary or multi\"='binary'):\n",
    "    \"\"\"\n",
    "    모델을 1 epoch 학습시키는 함수\n",
    "\n",
    "    [parameter]\n",
    "        dataloader: DataLoader - 학습데이터셋을 제공하는 DataLoader\n",
    "        model - 학습대상 모델\n",
    "        loss_fn: 모델 추정값과 정답의 차이를 계산할 loss 함수.\n",
    "        optimizer - 최적화 함수\n",
    "        device: str - 연산을 처리할 장치. default-\"cpu\", gpu-\"cuda\"\n",
    "        mode: str - 분류 종류. binary 또는 multi\n",
    "    [return]\n",
    "        tuple: 학습후 계산한 Train set에 대한  train_loss, train_accuracy\n",
    "    \"\"\"\n",
    "    model.train()\n",
    "    # size = len(dataloader.dataset) #총 데이터수\n",
    "\n",
    "    for X, y in dataloader:\n",
    "        X, y = X.to(device), y.to(device)\n",
    "        pred = model(X)\n",
    "\n",
    "        loss = loss_fn(pred, y)\n",
    "\n",
    "        optimizer.zero_grad()\n",
    "        loss.backward()\n",
    "        optimizer.step()\n",
    "        \n",
    "    if mode == 'binary':  # 이진분류이면...\n",
    "        train_loss, train_accuracy = test_binary_classification(dataloader, model, loss_fn, device)\n",
    "    else:  # 다중분류이면...\n",
    "        train_loss, train_accuracy = test_multi_classification(dataloader, model, loss_fn, device)\n",
    "    return train_loss, train_accuracy\n",
    "\n",
    "\n",
    "\n",
    "def fit(train_loader, val_loader, model, loss_fn, optimizer, epochs, save_best_model=True, save_model_path=None, early_stopping=True, patience=10, device='cpu',  mode:\"binary or multi\"='binary'):\n",
    "    \"\"\"\n",
    "    모델을 학습시키는 함수\n",
    "\n",
    "    [parameter]\n",
    "        train_loader (Dataloader): Train dataloader\n",
    "        test_loader (Dataloader): validation dataloader\n",
    "        model (Module): 학습시킬 모델\n",
    "        loss_fn (_Loss): Loss function\n",
    "        optimizer (Optimizer): Optimizer\n",
    "        epochs (int): epoch수\n",
    "        save_best_model (bool, optional): 학습도중 성능개선시 모델 저장 여부. Defaults to True.\n",
    "        save_model_path (str, optional): save_best_model=True일 때 모델저장할 파일 경로. Defaults to None.\n",
    "        early_stopping (bool, optional): 조기 종료 여부. Defaults to True.\n",
    "        patience (int, optional): 조기종료 True일 때 종료전에 성능이 개선될지 몇 epoch까지 기다릴지 epoch수. Defaults to 10.\n",
    "        device (str, optional): device. Defaults to 'cpu'.\n",
    "        mode(str, optinal): 분류 종류. \"binary(default) or multi\n",
    "    [return]\n",
    "        tuple: 에폭 별 성능 리스트. (train_loss_list, train_accuracy_list, validation_loss_list, validataion_accuracy_list)\n",
    "    \"\"\"\n",
    "\n",
    "    train_loss_list = []\n",
    "    train_accuracy_list = []\n",
    "    val_loss_list = []\n",
    "    val_accuracy_list = []\n",
    "    \n",
    "        \n",
    "    if save_best_model:\n",
    "        best_score_save = torch.inf\n",
    "\n",
    "    ############################\n",
    "    # early stopping\n",
    "    #############################\n",
    "    if early_stopping:\n",
    "        trigger_count = 0\n",
    "        best_score_es = torch.inf\n",
    "    \n",
    "    # 모델 device로 옮기기\n",
    "    model = model.to(device)\n",
    "    s = time.time()\n",
    "    for epoch in range(epochs):\n",
    "        train_loss, train_accuracy = train(train_loader, model, loss_fn, optimizer, device=device, mode=mode)\n",
    "        \n",
    "        if mode == \"binary\":  # 이진분류이면...\n",
    "            val_loss, val_accuracy = test_binary_classification(val_loader, model, loss_fn, device=device)\n",
    "        else:  # 다중분류이면...\n",
    "            val_loss, val_accuracy = test_multi_classification(val_loader, model, loss_fn, device=device)\n",
    "        \n",
    "        train_loss_list.append(train_loss)\n",
    "        train_accuracy_list.append(train_accuracy)\n",
    "        val_loss_list.append(val_loss)\n",
    "        val_accuracy_list.append(val_accuracy)\n",
    "        \n",
    "        print(f\"Epoch[{epoch+1}/{epochs}] - Train loss: {train_loss:.5f} Train Accucracy: {train_accuracy:.5f} || Validation Loss: {val_loss:.5f} Validation Accuracy: {val_accuracy:.5f}\")\n",
    "        print('='*100)\n",
    "        \n",
    "        # 모델 저장\n",
    "        if save_best_model:\n",
    "            if val_loss < best_score_save:  # 성능개선\n",
    "                torch.save(model, save_model_path)\n",
    "                print(f\"저장: {epoch+1} - 이전 : {best_score_save}, 현재: {val_loss}\")\n",
    "                best_score_save = val_loss\n",
    "        \n",
    "        # early stopping 처리            \n",
    "        if early_stopping:\n",
    "            if val_loss < best_score_es:  # 성능개선\n",
    "                best_score_es = val_loss  \n",
    "                trigger_count = 0\n",
    "                                \n",
    "            else:\n",
    "                trigger_count += 1                \n",
    "                if patience == trigger_count:\n",
    "                    print(f\"Early stopping: Epoch - {epoch}\")\n",
    "                    break\n",
    "                    \n",
    "        # save_best_model과 early_stopping이 둘 다 True일 경우, 맨 위에 있는 save_best_model가 먼저 실행되기에...\n",
    "        # best_score_save와 best_score_es 따로 분리해서 val_loss값을 저장한다.\n",
    "            \n",
    "    e = time.time()\n",
    "    print(e-s, \"초\")\n",
    "    return train_loss_list, train_accuracy_list, val_loss_list, val_accuracy_list"
   ]
  },
  {
   "cell_type": "markdown",
   "metadata": {},
   "source": [
    "## data.py\n",
    "- dataset 생성 함수 제공 모듈"
   ]
  },
  {
   "cell_type": "code",
   "execution_count": null,
   "metadata": {},
   "outputs": [],
   "source": [
    "%%writefile module/data.py\n",
    "from torchvision import datasets, transforms\n",
    "from torch.utils.data import DataLoader\n",
    "\n",
    "def load_mnist_dataset(root_path, batch_size, is_train=True):\n",
    "    \"\"\"\n",
    "    mnist dataset dataloader 제공 함수\n",
    "    [parameter]\n",
    "        root_path: str|Path - 데이터파일 저장 디렉토리\n",
    "        batch_size: int\n",
    "        is_train: bool = True - True: Train dataset, False - Test dataset\n",
    "    [return]\n",
    "        DataLoader \n",
    "    \"\"\"\n",
    "    transform = transforms.Compose([\n",
    "        transforms.ToTensor()\n",
    "    ])\n",
    "    dataset = datasets.MNIST(root=root_path, train=is_train, download=True, transform=transform)\n",
    "    dataloader = DataLoader(dataset, batch_size=batch_size, shuffle=is_train)  # shuffle: train이면 True, test면 False 할 것이므로 is_train을 넣음.\n",
    "    \n",
    "    return dataloader\n",
    "\n",
    "def load_fashion_mnist_dataset(root_path, batch_size, is_train=True):\n",
    "    \"\"\"\n",
    "    fashion mnist dataset dataloader 제공 함수\n",
    "    [parameter]\n",
    "        root_path: str|Path - 데이터파일 저장 디렉토리\n",
    "        batch_size: int\n",
    "        is_train: bool = True - True: Train dataset, False - Test dataset\n",
    "    [return]\n",
    "        DataLoader\n",
    "    \"\"\"\n",
    "    transform = transforms.Compose([\n",
    "        transforms.ToTensor()\n",
    "    ])\n",
    "    dataset = datasets.FashionMNIST(root=root_path, train=is_train, download=True, transform=transform)\n",
    "    dataloader = DataLoader(dataset, batch_size=batch_size, shuffle=is_train)  # shuffle: train이면 True, test면 False 할 것이므로 is_train을 넣음.\n",
    "    \n",
    "    return dataloader"
   ]
  },
  {
   "cell_type": "code",
   "execution_count": null,
   "metadata": {},
   "outputs": [],
   "source": []
  },
  {
   "cell_type": "markdown",
   "metadata": {},
   "source": [
    "## 하이퍼파라미터, 변수 정의"
   ]
  },
  {
   "cell_type": "code",
   "execution_count": null,
   "metadata": {},
   "outputs": [],
   "source": [
    "# Data 저장할 디렉토리 경로\n",
    "DATASET_PATH='datasets'\n",
    "MODEL_SAVE_"
   ]
  },
  {
   "cell_type": "code",
   "execution_count": null,
   "metadata": {},
   "outputs": [],
   "source": []
  },
  {
   "cell_type": "markdown",
   "metadata": {},
   "source": [
    "# Data 준비\n",
    "\n",
    "## mnist 데이터 로딩"
   ]
  },
  {
   "cell_type": "code",
   "execution_count": null,
   "metadata": {},
   "outputs": [],
   "source": []
  },
  {
   "cell_type": "code",
   "execution_count": null,
   "metadata": {},
   "outputs": [],
   "source": []
  },
  {
   "cell_type": "markdown",
   "metadata": {},
   "source": [
    "# 모델의 크기 변경에 따른 성능변화"
   ]
  },
  {
   "cell_type": "code",
   "execution_count": null,
   "metadata": {},
   "outputs": [],
   "source": []
  },
  {
   "cell_type": "code",
   "execution_count": null,
   "metadata": {},
   "outputs": [],
   "source": []
  },
  {
   "cell_type": "markdown",
   "metadata": {},
   "source": [
    "# Dropout 예제\n",
    "- dropout 각 레이어에 적용\n",
    "    - dropout은 layers.Dropout 객체를 사용\n",
    "    - 객체 생성시 dropout_rate 설정: 0.2 ~ 0.5\n",
    "    - Drop시킬 노드를 가진 Layer 뒤에 추가한다."
   ]
  },
  {
   "cell_type": "code",
   "execution_count": null,
   "metadata": {},
   "outputs": [],
   "source": []
  },
  {
   "cell_type": "code",
   "execution_count": null,
   "metadata": {},
   "outputs": [],
   "source": []
  },
  {
   "cell_type": "code",
   "execution_count": null,
   "metadata": {
    "scrolled": true
   },
   "outputs": [],
   "source": []
  },
  {
   "cell_type": "markdown",
   "metadata": {},
   "source": [
    "# Batch Normalization\n",
    "- Dense => BN => Activation"
   ]
  },
  {
   "cell_type": "code",
   "execution_count": null,
   "metadata": {},
   "outputs": [],
   "source": []
  },
  {
   "cell_type": "code",
   "execution_count": null,
   "metadata": {},
   "outputs": [],
   "source": []
  },
  {
   "cell_type": "code",
   "execution_count": null,
   "metadata": {},
   "outputs": [],
   "source": []
  },
  {
   "cell_type": "markdown",
   "metadata": {},
   "source": [
    "# Learning rate decay"
   ]
  },
  {
   "cell_type": "markdown",
   "metadata": {},
   "source": [
    "### Optimizer와 Learning rate scheduler의 속성, 메소드 확인\n",
    "- 파이토치는 `torch.optim` 모듈에서 다양한 Learning rate 알고리즘을 제공한다."
   ]
  },
  {
   "cell_type": "code",
   "execution_count": null,
   "metadata": {},
   "outputs": [],
   "source": []
  },
  {
   "cell_type": "markdown",
   "metadata": {},
   "source": [
    "#### StepLR"
   ]
  },
  {
   "cell_type": "code",
   "execution_count": null,
   "metadata": {},
   "outputs": [],
   "source": []
  },
  {
   "cell_type": "markdown",
   "metadata": {},
   "source": [
    "#### CosineAnnealingLR\n",
    "cosine 그래프를 그리면서 learning rate를 변경 하는 방식.  \n",
    "최근에는 learning rate를 단순히 감소시키기 보다는 감소와 증가를 반복하여 진동하는 방식으로 최적점을 찾아가는 알고리즘을 많이 사용한다. 이러한 방법 중 가장 간단하면서도 많이 사용되는 방법이 CosineAnnealingLR이다."
   ]
  },
  {
   "cell_type": "code",
   "execution_count": null,
   "metadata": {},
   "outputs": [],
   "source": []
  },
  {
   "cell_type": "markdown",
   "metadata": {},
   "source": [
    "#### CosineAnnealingWarmRestarts\n",
    "\n",
    "cosine annealing의 스케쥴링에 cosine 주기의 에폭을 점점 늘리거나 줄일 수 있다. (보통 늘린다.)"
   ]
  },
  {
   "cell_type": "code",
   "execution_count": null,
   "metadata": {},
   "outputs": [],
   "source": []
  }
 ],
 "metadata": {
  "kernelspec": {
   "display_name": "Python 3 (ipykernel)",
   "language": "python",
   "name": "python3"
  },
  "language_info": {
   "codemirror_mode": {
    "name": "ipython",
    "version": 3
   },
   "file_extension": ".py",
   "mimetype": "text/x-python",
   "name": "python",
   "nbconvert_exporter": "python",
   "pygments_lexer": "ipython3",
   "version": "3.10.11"
  },
  "toc": {
   "base_numbering": 1,
   "nav_menu": {},
   "number_sections": false,
   "sideBar": true,
   "skip_h1_title": false,
   "title_cell": "Table of Contents",
   "title_sidebar": "Contents",
   "toc_cell": false,
   "toc_position": {},
   "toc_section_display": true,
   "toc_window_display": false
  },
  "varInspector": {
   "cols": {
    "lenName": 16,
    "lenType": 16,
    "lenVar": 40
   },
   "kernels_config": {
    "python": {
     "delete_cmd_postfix": "",
     "delete_cmd_prefix": "del ",
     "library": "var_list.py",
     "varRefreshCmd": "print(var_dic_list())"
    },
    "r": {
     "delete_cmd_postfix": ") ",
     "delete_cmd_prefix": "rm(",
     "library": "var_list.r",
     "varRefreshCmd": "cat(var_dic_list()) "
    }
   },
   "types_to_exclude": [
    "module",
    "function",
    "builtin_function_or_method",
    "instance",
    "_Feature"
   ],
   "window_display": false
  }
 },
 "nbformat": 4,
 "nbformat_minor": 4
}
