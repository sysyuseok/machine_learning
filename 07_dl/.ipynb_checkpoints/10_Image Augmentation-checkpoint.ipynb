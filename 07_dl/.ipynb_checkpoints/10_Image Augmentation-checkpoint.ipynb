{
 "cells": [
  {
   "cell_type": "markdown",
   "metadata": {
    "id": "N7dzZc_rYrhN",
    "slideshow": {
     "slide_type": "slide"
    }
   },
   "source": [
    "# CNN   small datasets 학습\n"
   ]
  },
  {
   "cell_type": "markdown",
   "metadata": {
    "id": "IZSgQnWLYrhV",
    "slideshow": {
     "slide_type": "fragment"
    }
   },
   "source": [
    "- 학습할 Data의 개수가 많지 않을 때 CNN을 통한 모형 학습이 어려울 수 있음\n",
    "  - 딥러닝은 많은 양의 데이터셋을 이용해 feature engineering 과정 없이 원하는 문제를 해결할 수 있다. => **Point: 많은 데이터 양**\n",
    "- Data 양이 많지 않아 딥러닝 모델의 학습에 어려움이 있을 때 사용 가능한 방법\n",
    "    - **Image augmentation 활용**\n",
    "        - Image에 다양한 효과를 주어 데이터양을 늘린다.\n",
    "            - Train dataset은 전체 대상 이미지들을 샘플링한 것이기 때문에 모든 형태를 다 가지고 있지 않다. Data augmentation은 train set의 이미지에 다양한 효과를 주어 실제 데이터셋과의 간격을 줄인다.\n",
    "            - 영상데이터의 경우 각 영상 데이터의 색변경, 이미지잘라내기, 회전시키기, 명암변경 등을 적용하여 이미지들을 추가로 만들어 data의 수를 늘린다.\n",
    "        - **모델의 Overfitting을 개선시킨다.**\n",
    "        - pytorch image augmentation을 위한 클래스들\n",
    "            - https://pytorch.org/vision/stable/transforms.html\n",
    "    - **Pre-trained network**의 활용한 **Transfer learning (전이학습)**\n",
    "        - 매우 큰 데이터셋으로 미리 Training한 모델을 이용해 모델을 정의한다.\n",
    "        - 성능이 좋은모델을 다량의 데이터로 학습시킨 모델을 사용하므로 적은 데이터에도 좋은 성능을 낼 수있다."
   ]
  },
  {
   "cell_type": "markdown",
   "metadata": {},
   "source": [
    "# Image Augmentation 예제"
   ]
  },
  {
   "cell_type": "code",
   "execution_count": 2,
   "metadata": {},
   "outputs": [],
   "source": [
    "import torch\n",
    "from torchvision import transforms\n",
    "\n",
    "# import cv2\n",
    "import matplotlib.pyplot as plt"
   ]
  },
  {
   "cell_type": "code",
   "execution_count": null,
   "metadata": {},
   "outputs": [],
   "source": [
    "img = cv2.imread('test_img/cat.jpg')\n",
    "img = cv2.cvtColor(img, cv2.COLOR_BGR2RGB)"
   ]
  },
  {
   "cell_type": "code",
   "execution_count": null,
   "metadata": {},
   "outputs": [],
   "source": [
    "# 이미지 출력 함수\n",
    "def image_show(img_path, transforms):\n",
    "    \"\"\"\n",
    "    이미지 경로와 transforms를 받아서 적용한뒤 원본이미지와 처리된 이미지를 출력한다.\n",
    "    transforms는 8번 적용시켜 출력한다.\n",
    "    [parameter]\n",
    "        img_path: str - transforms를 적용할 이미지 경로\n",
    "        transforms: Transforms 객체. 단 ToTensor()가 첫번째 transforms로 정의되 있어야 한다.\n",
    "    \"\"\"\n",
    "    img = cv2.cvtColor(cv2.imread(img_path), cv2.COLOR_BGR2RGB)\n",
    "    plt.rcParams['font.family'] = 'gulim'\n",
    "\n",
    "    plt.figure(figsize=(15, 12))\n",
    "    plt.subplot(3, 3, 1)\n",
    "    plt.imshow(img)\n",
    "    plt.title('원본')\n",
    "\n",
    "    for i in range(2, 10):\n",
    "        result_img = transforms (img)\n",
    "        plt.subplot(3, 3, i)    \n",
    "        plt.imshow(result_img.permute(1, 2, 0))\n",
    "\n",
    "    plt.tight_layout()\n",
    "    plt.show()"
   ]
  },
  {
   "cell_type": "code",
   "execution_count": null,
   "metadata": {},
   "outputs": [],
   "source": [
    "\n",
    "transform = transforms.Compose([\n",
    "    transforms.ToTensor()\n",
    "    ###########################\n",
    "    # 좌우/상하 반전. \n",
    "    ###########################\n",
    "#     , transforms.RandomHorizontalFlip(p=0.5)\n",
    "#     , transforms.RandomVerticalFlip(p=0.5)\n",
    "    \n",
    "    ###########################\n",
    "    # 회전\n",
    "    ###########################\n",
    "#     , transforms.RandomRotation(degrees=180)\n",
    "    \n",
    "    ###########################\n",
    "    # affine 이동 변환들\n",
    "    #  회전, 이동, 전단 변환 처리\n",
    "    ###########################\n",
    "#     , transforms.RandomAffine(degrees=(0,0),\n",
    "#                               translate=(0.1,0.3),\n",
    "#                               shear=(0.8, 1.2),\n",
    "#                               scale=(0.5,1.2), \n",
    "#                              )\n",
    "    \n",
    "    ###########################\n",
    "    # 가우시안 블러\n",
    "    ###########################\n",
    "#     , transforms.GaussianBlur(kernel_size=(17,17), sigma=(1, 5))\n",
    "    \n",
    "    ########################### \n",
    "    # 선명도 (Sharpen)\n",
    "    ###########################\n",
    "#     , transforms.RandomAdjustSharpness(sharpness_factor=5, p=0.5) \n",
    "    ###########################\n",
    "    # 색관련 변환\n",
    "    #  밝기, 대비, 채도, 색 변환 처리\n",
    "    ###########################\n",
    "#     , transforms.ColorJitter(brightness=(0.5, 1.2),\n",
    "#                            contrast=(0.8, 1.2),\n",
    "#                            saturation=(0.5, 1.5),\n",
    "#                            hue=(-0.2, 0.2))\n",
    "    \n",
    "    #########################\n",
    "    # Grayscale\n",
    "    #########################\n",
    "#     , transforms.RandomGrayscale(p=0.25)\n",
    "    \n",
    "    ############################\n",
    "    # 반전 - 확률 지정할 수 있다.\n",
    "    ############################\n",
    "#     , transforms.RandomInvert(p=0.7)\n",
    "    \n",
    "    \n",
    "    ###########################\n",
    "    # Center 영역 Crop\n",
    "    ###########################\n",
    "#     , transforms.CenterCrop(150)\n",
    "    \n",
    "    ############################\n",
    "    # RandomCrop - Crop 영역을 random하게 선택한다.\n",
    "    ############################\n",
    "#     , transforms.RandomCrop(150)\n",
    "\n",
    "    ###########################\n",
    "    # RandomResizedCrop - Random한 영역을 Crop후 지정한 종횡비 resize 한다.\n",
    "    ###########################\n",
    "#     , transforms.RandomResizedCrop(180,\n",
    "#                                    scale=(0.3, 0.7),\n",
    "#                                    ratio=(0.5, 1.5)\n",
    "#                                   )\n",
    "    ##############################\n",
    "    # 이미지를 부분적으로 삭제한다. (픽셀값을 0으로 변경)\n",
    "    # p=확률, scale=() 삭제 크기범위, ratio=() 삭제 종횡비 범위 => 지정된 튜플 비율에서 random 하게 선택되 변경됨\n",
    "    # occlusion(폐색-가려지는 문제)문제에서의 한계를 해결. https://deepapple.tistory.com/8\n",
    "    ###############################\n",
    "    , transforms.RandomErasing()\n",
    "\n",
    "])\n",
    "\n",
    "img_path = 'test_img/image.jpg'\n",
    "image_show(img_path, transform)\n",
    "\n"
   ]
  },
  {
   "cell_type": "code",
   "execution_count": null,
   "metadata": {},
   "outputs": [],
   "source": [
    "\n",
    "#####################################\n",
    "# RandomApply() - 여러개 중 Random하게 여러개를 선택해서 적용한다. 선택 확률을 선택할 수 있다.\n",
    "# RandomChoice() - 여러개 중 하나를 적용한다.\n",
    "#####################################\n",
    "transform2 = transforms.Compose([\n",
    "    transforms.ToTensor()\n",
    "    , transforms.RandomApply([\n",
    "        transforms.RandomHorizontalFlip(),\n",
    "        transforms.RandomVerticalFlip(),\n",
    "        transforms.RandomRotation(45), \n",
    "        transforms.RandomCrop((200,200)),\n",
    "    ], p = 0.9)\n",
    "    , transforms.Resize((224, 224), antialias=True)\n",
    "])\n",
    "\n",
    "# transform2 = transforms.Compose([\n",
    "#     transforms.ToTensor()\n",
    "#     , transforms.RandomChoice([\n",
    "#         transforms.RandomRotation(45), \n",
    "#         transforms.RandomHorizontalFlip(),\n",
    "#         transforms.RandomVerticalFlip(),\n",
    "#     ])\n",
    "#     , transforms.Resize((224, 224), antialias=True)\n",
    "# ])\n",
    "\n",
    "image_show('test_img/cat.jpg', transform2)"
   ]
  }
 ],
 "metadata": {
  "accelerator": "GPU",
  "colab": {
   "collapsed_sections": [],
   "name": "08_2_CNN_Image Augmentation.ipynb",
   "provenance": []
  },
  "kernelspec": {
   "display_name": "Python 3 (ipykernel)",
   "language": "python",
   "name": "python3"
  },
  "language_info": {
   "codemirror_mode": {
    "name": "ipython",
    "version": 3
   },
   "file_extension": ".py",
   "mimetype": "text/x-python",
   "name": "python",
   "nbconvert_exporter": "python",
   "pygments_lexer": "ipython3",
   "version": "3.8.5"
  },
  "toc": {
   "base_numbering": 1,
   "nav_menu": {},
   "number_sections": false,
   "sideBar": true,
   "skip_h1_title": false,
   "title_cell": "Table of Contents",
   "title_sidebar": "Contents",
   "toc_cell": false,
   "toc_position": {},
   "toc_section_display": true,
   "toc_window_display": false
  },
  "varInspector": {
   "cols": {
    "lenName": 16,
    "lenType": 16,
    "lenVar": 40
   },
   "kernels_config": {
    "python": {
     "delete_cmd_postfix": "",
     "delete_cmd_prefix": "del ",
     "library": "var_list.py",
     "varRefreshCmd": "print(var_dic_list())"
    },
    "r": {
     "delete_cmd_postfix": ") ",
     "delete_cmd_prefix": "rm(",
     "library": "var_list.r",
     "varRefreshCmd": "cat(var_dic_list()) "
    }
   },
   "types_to_exclude": [
    "module",
    "function",
    "builtin_function_or_method",
    "instance",
    "_Feature"
   ],
   "window_display": false
  }
 },
 "nbformat": 4,
 "nbformat_minor": 1
}
