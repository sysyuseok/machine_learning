{
 "cells": [
  {
   "cell_type": "code",
   "execution_count": 22,
   "id": "2dae2667",
   "metadata": {
    "collapsed": true
   },
   "outputs": [
    {
     "name": "stdout",
     "output_type": "stream",
     "text": [
      "8\n",
      "4\n",
      "3\n",
      "6\n",
      "8\n",
      "7\n",
      "5\n",
      "2\n",
      "1\n",
      "[1, 2] [4, 3, 6, 8, 7, 5, 2, 1]\n",
      "[1, 2, 3] [4, 3, 6, 8, 7, 5, 2, 1]\n",
      "[1, 2, 3, 4] [4, 3, 6, 8, 7, 5, 2, 1]\n",
      "[1, 2, 3] [4, 3, 6, 8, 7, 5, 2, 1]\n",
      "[1, 2] [4, 3, 6, 8, 7, 5, 2, 1]\n",
      "[1, 2, 5] [4, 3, 6, 8, 7, 5, 2, 1]\n",
      "[1, 2, 5, 6] [4, 3, 6, 8, 7, 5, 2, 1]\n",
      "[1, 2, 5] [4, 3, 6, 8, 7, 5, 2, 1]\n",
      "[1, 2, 5, 7] [4, 3, 6, 8, 7, 5, 2, 1]\n",
      "[1, 2, 5, 7, 8] [4, 3, 6, 8, 7, 5, 2, 1]\n",
      "[1, 2, 5, 7] [4, 3, 6, 8, 7, 5, 2, 1]\n",
      "[1, 2, 5] [4, 3, 6, 8, 7, 5, 2, 1]\n",
      "[1, 2] [4, 3, 6, 8, 7, 5, 2, 1]\n",
      "[1] [4, 3, 6, 8, 7, 5, 2, 1]\n",
      "[] [4, 3, 6, 8, 7, 5, 2, 1]\n",
      "+\n",
      "+\n",
      "+\n",
      "+\n",
      "-\n",
      "-\n",
      "+\n",
      "+\n",
      "-\n",
      "+\n",
      "+\n",
      "-\n",
      "-\n",
      "-\n",
      "-\n",
      "-\n"
     ]
    }
   ],
   "source": [
    "n=int(input())\n",
    "li=[]\n",
    "ans=[1]\n",
    "ans1=[]\n",
    "ans2=[]\n",
    "s1=0\n",
    "s2=0\n",
    "i=1\n",
    "for _ in range(n):\n",
    "    li.append(int(input()))\n",
    "\n",
    "# print(li)\n",
    "ans2.append(\"+\")\n",
    "for _ in range(2*n-1):\n",
    "    if (not ans) or li[s1]!=ans[s2]  :\n",
    "        ans2.append(\"+\")\n",
    "        s2+=1\n",
    "        i+=1\n",
    "        ans.append(i)\n",
    "    elif li[s1]==ans[s2]:\n",
    "        ans2.append(\"-\")\n",
    "        s1+=1\n",
    "        s2-=1\n",
    "        ans1.append(ans.pop())\n",
    "    print(ans,li)\n",
    "if ans1==li:\n",
    "    for i in ans2:\n",
    "        print(i)\n",
    "else :\n",
    "    print(\"NO\")"
   ]
  },
  {
   "cell_type": "code",
   "execution_count": 35,
   "id": "893e60d4",
   "metadata": {},
   "outputs": [
    {
     "name": "stdout",
     "output_type": "stream",
     "text": [
      "7 3\n",
      "<3, 6, 2, 7, 5, 1, 4>"
     ]
    }
   ],
   "source": [
    "n,k=map(int,input().split())\n",
    "num_li=[i for i in range(1,n+1)]\n",
    "answer=[]\n",
    "s=0\n",
    "while num_li:\n",
    "    for i in range(k-1):\n",
    "        s=(s+1)%len(num_li)\n",
    "    answer.append(num_li.pop(s))\n",
    "print(\"<\",end='')\n",
    "for i in answer[:-1]:\n",
    "    print(i,end=', ')\n",
    "print(answer[-1],end='>')"
   ]
  },
  {
   "cell_type": "code",
   "execution_count": 44,
   "id": "bb7c1c61",
   "metadata": {},
   "outputs": [
    {
     "name": "stdout",
     "output_type": "stream",
     "text": [
      "3\n",
      "1 0\n",
      "5\n",
      "1\n",
      "4 2\n",
      "1 2 3 4\n",
      "2\n",
      "6 0\n",
      "1 1 9 1 1 1\n",
      "5\n"
     ]
    }
   ],
   "source": [
    "N=int(input())\n",
    "li=[]\n",
    "ans=[]\n",
    "for _ in range(N):\n",
    "    s=0\n",
    "    answer=0\n",
    "    n,k=map(int,input().split())\n",
    "    li=list(map(int,input().split()))\n",
    "    ans=sorted(li,key=lambda x: x,reverse=True)\n",
    "#     print(ans.index(li[k])+1)\n",
    "    while li:\n",
    "        s=s%len(li)\n",
    "        if li[s]==max(li):\n",
    "            li[s]=0\n",
    "            answer+=1\n",
    "            if s==k:\n",
    "                print(answer)\n",
    "                break\n",
    "        else:\n",
    "            s+=1\n",
    "    "
   ]
  },
  {
   "cell_type": "code",
   "execution_count": 50,
   "id": "aff007e3",
   "metadata": {},
   "outputs": [
    {
     "ename": "KeyboardInterrupt",
     "evalue": "Interrupted by user",
     "output_type": "error",
     "traceback": [
      "\u001b[1;31m---------------------------------------------------------------------------\u001b[0m",
      "\u001b[1;31mKeyboardInterrupt\u001b[0m                         Traceback (most recent call last)",
      "Cell \u001b[1;32mIn[50], line 2\u001b[0m\n\u001b[0;32m      1\u001b[0m \u001b[38;5;28;01mfrom\u001b[39;00m \u001b[38;5;21;01mcollections\u001b[39;00m \u001b[38;5;28;01mimport\u001b[39;00m deque\n\u001b[1;32m----> 2\u001b[0m n\u001b[38;5;241m=\u001b[39m\u001b[38;5;28mint\u001b[39m(\u001b[38;5;28;43minput\u001b[39;49m\u001b[43m(\u001b[49m\u001b[43m)\u001b[49m)\n\u001b[0;32m      3\u001b[0m q\u001b[38;5;241m=\u001b[39mdeque()\n\u001b[0;32m      4\u001b[0m \u001b[38;5;28;01mfor\u001b[39;00m _ \u001b[38;5;129;01min\u001b[39;00m \u001b[38;5;28mrange\u001b[39m(n):\n",
      "File \u001b[1;32m~\\anaconda3\\envs\\ml\\lib\\site-packages\\ipykernel\\kernelbase.py:1191\u001b[0m, in \u001b[0;36mKernel.raw_input\u001b[1;34m(self, prompt)\u001b[0m\n\u001b[0;32m   1189\u001b[0m     msg \u001b[38;5;241m=\u001b[39m \u001b[38;5;124m\"\u001b[39m\u001b[38;5;124mraw_input was called, but this frontend does not support input requests.\u001b[39m\u001b[38;5;124m\"\u001b[39m\n\u001b[0;32m   1190\u001b[0m     \u001b[38;5;28;01mraise\u001b[39;00m StdinNotImplementedError(msg)\n\u001b[1;32m-> 1191\u001b[0m \u001b[38;5;28;01mreturn\u001b[39;00m \u001b[38;5;28;43mself\u001b[39;49m\u001b[38;5;241;43m.\u001b[39;49m\u001b[43m_input_request\u001b[49m\u001b[43m(\u001b[49m\n\u001b[0;32m   1192\u001b[0m \u001b[43m    \u001b[49m\u001b[38;5;28;43mstr\u001b[39;49m\u001b[43m(\u001b[49m\u001b[43mprompt\u001b[49m\u001b[43m)\u001b[49m\u001b[43m,\u001b[49m\n\u001b[0;32m   1193\u001b[0m \u001b[43m    \u001b[49m\u001b[38;5;28;43mself\u001b[39;49m\u001b[38;5;241;43m.\u001b[39;49m\u001b[43m_parent_ident\u001b[49m\u001b[43m[\u001b[49m\u001b[38;5;124;43m\"\u001b[39;49m\u001b[38;5;124;43mshell\u001b[39;49m\u001b[38;5;124;43m\"\u001b[39;49m\u001b[43m]\u001b[49m\u001b[43m,\u001b[49m\n\u001b[0;32m   1194\u001b[0m \u001b[43m    \u001b[49m\u001b[38;5;28;43mself\u001b[39;49m\u001b[38;5;241;43m.\u001b[39;49m\u001b[43mget_parent\u001b[49m\u001b[43m(\u001b[49m\u001b[38;5;124;43m\"\u001b[39;49m\u001b[38;5;124;43mshell\u001b[39;49m\u001b[38;5;124;43m\"\u001b[39;49m\u001b[43m)\u001b[49m\u001b[43m,\u001b[49m\n\u001b[0;32m   1195\u001b[0m \u001b[43m    \u001b[49m\u001b[43mpassword\u001b[49m\u001b[38;5;241;43m=\u001b[39;49m\u001b[38;5;28;43;01mFalse\u001b[39;49;00m\u001b[43m,\u001b[49m\n\u001b[0;32m   1196\u001b[0m \u001b[43m\u001b[49m\u001b[43m)\u001b[49m\n",
      "File \u001b[1;32m~\\anaconda3\\envs\\ml\\lib\\site-packages\\ipykernel\\kernelbase.py:1234\u001b[0m, in \u001b[0;36mKernel._input_request\u001b[1;34m(self, prompt, ident, parent, password)\u001b[0m\n\u001b[0;32m   1231\u001b[0m \u001b[38;5;28;01mexcept\u001b[39;00m \u001b[38;5;167;01mKeyboardInterrupt\u001b[39;00m:\n\u001b[0;32m   1232\u001b[0m     \u001b[38;5;66;03m# re-raise KeyboardInterrupt, to truncate traceback\u001b[39;00m\n\u001b[0;32m   1233\u001b[0m     msg \u001b[38;5;241m=\u001b[39m \u001b[38;5;124m\"\u001b[39m\u001b[38;5;124mInterrupted by user\u001b[39m\u001b[38;5;124m\"\u001b[39m\n\u001b[1;32m-> 1234\u001b[0m     \u001b[38;5;28;01mraise\u001b[39;00m \u001b[38;5;167;01mKeyboardInterrupt\u001b[39;00m(msg) \u001b[38;5;28;01mfrom\u001b[39;00m \u001b[38;5;28;01mNone\u001b[39;00m\n\u001b[0;32m   1235\u001b[0m \u001b[38;5;28;01mexcept\u001b[39;00m \u001b[38;5;167;01mException\u001b[39;00m:\n\u001b[0;32m   1236\u001b[0m     \u001b[38;5;28mself\u001b[39m\u001b[38;5;241m.\u001b[39mlog\u001b[38;5;241m.\u001b[39mwarning(\u001b[38;5;124m\"\u001b[39m\u001b[38;5;124mInvalid Message:\u001b[39m\u001b[38;5;124m\"\u001b[39m, exc_info\u001b[38;5;241m=\u001b[39m\u001b[38;5;28;01mTrue\u001b[39;00m)\n",
      "\u001b[1;31mKeyboardInterrupt\u001b[0m: Interrupted by user"
     ]
    }
   ],
   "source": [
    "from collections import deque\n",
    "n=int(input())\n",
    "q=deque()\n",
    "for _ in range(n):\n",
    "    k=input()\n",
    "    if k.startswith('push_f'):\n",
    "        push,x=k.split()\n",
    "        q.appendleft(x)\n",
    "    elif k.startswith('push_b'):\n",
    "        push,x=k.split()\n",
    "        q.append(x)\n",
    "    elif k.startswith('pop_f'):\n",
    "        print(q.popleft()) if q else print(\"-1\")\n",
    "    elif k.startswith('pop_b'):\n",
    "        print(q.pop()) if q else print(\"-1\")\n",
    "    elif k=='size':\n",
    "        print(len(q)) if q else print(\"0\")\n",
    "    elif k=='empty':\n",
    "        print('0') if q else print(\"1\")\n",
    "    elif k=='front':\n",
    "        print(q[0]) if q else print(\"-1\")\n",
    "    elif k=='back':\n",
    "        print(q[-1]) if q else print(\"-1\")"
   ]
  },
  {
   "cell_type": "code",
   "execution_count": 59,
   "id": "058d85bb",
   "metadata": {},
   "outputs": [
    {
     "name": "stdout",
     "output_type": "stream",
     "text": [
      "3\n"
     ]
    },
    {
     "data": {
      "text/plain": [
       "['***', '*a*', '***']"
      ]
     },
     "execution_count": 59,
     "metadata": {},
     "output_type": "execute_result"
    }
   ],
   "source": [
    "n=int(input())\n",
    "def star(n):\n",
    "    if n==1:\n",
    "        return \"*\"\n",
    "    li=[]\n",
    "    li.append(star(n//3)*3)\n",
    "    li.append(star(n//3)+'a'*(n//3)+star(n//3))\n",
    "    li.append(star(n//3)*3)\n",
    "    return li\n",
    "star(n)"
   ]
  },
  {
   "cell_type": "code",
   "execution_count": 62,
   "id": "8215ee25",
   "metadata": {},
   "outputs": [],
   "source": [
    "def fib(n):\n",
    "    if (n==1 or n==2):\n",
    "        return 1\n",
    "    return fib(n-1)+fib(n-2)"
   ]
  },
  {
   "cell_type": "code",
   "execution_count": 64,
   "id": "b5fbd302",
   "metadata": {},
   "outputs": [
    {
     "data": {
      "text/plain": [
       "832040"
      ]
     },
     "execution_count": 64,
     "metadata": {},
     "output_type": "execute_result"
    }
   ],
   "source": [
    "fib(30)"
   ]
  },
  {
   "cell_type": "code",
   "execution_count": 69,
   "id": "0dce7ba8",
   "metadata": {},
   "outputs": [],
   "source": [
    "def fib(n):\n",
    "    if (n==1 or n==2):\n",
    "        return 1\n",
    "    return fib(n-1)+fib(n-2)\n",
    "def fibona(n):\n",
    "    li=[1,1]\n",
    "    s=0\n",
    "    for i in range(2,n):\n",
    "        li.append(li[i-1]+li[i-2])\n",
    "        s+=1\n",
    "    return s"
   ]
  },
  {
   "cell_type": "code",
   "execution_count": 71,
   "id": "8b2b2830",
   "metadata": {},
   "outputs": [
    {
     "data": {
      "text/plain": [
       "28"
      ]
     },
     "execution_count": 71,
     "metadata": {},
     "output_type": "execute_result"
    }
   ],
   "source": [
    "fibona(30)"
   ]
  },
  {
   "cell_type": "code",
   "execution_count": 27,
   "id": "f295c530",
   "metadata": {},
   "outputs": [],
   "source": [
    "memo = dict()\n",
    "\n",
    "def w(a, b, c):\n",
    "    if a <= 0 or b <= 0 or c <= 0:\n",
    "        memo[(a, b, c)] = 1\n",
    "        return memo\n",
    "    if a > 20 or b > 20 or c > 20:\n",
    "        return w(20, 20, 20)\n",
    "    if (a, b, c) in memo:\n",
    "        return memo[(a, b, c)]\n",
    "    else:\n",
    "        memo[(a, b, c)] = (\n",
    "            w(a-1, b, c)[(a-1, b, c)] +\n",
    "            w(a-1, b-1, c)[(a-1, b-1, c)] +\n",
    "            w(a-1, b, c-1)[(a-1, b, c-1)] -\n",
    "            w(a-1, b-1, c-1)[(a-1, b-1, c-1)]\n",
    "        )\n",
    "    return memo\n"
   ]
  },
  {
   "cell_type": "code",
   "execution_count": 34,
   "id": "f180b347",
   "metadata": {},
   "outputs": [],
   "source": [
    "memo = dict()\n",
    "\n",
    "def w(a, b, c):\n",
    "    if a <= 0 or b <= 0 or c <= 0:\n",
    "        memo[(a, b, c)] = 1\n",
    "        return memo[(a, b, c)]\n",
    "    if a > 20 or b > 20 or c > 20:\n",
    "        return w(20, 20, 20)\n",
    "    if (a, b, c) in memo:\n",
    "        return memo[(a, b, c)]\n",
    "    else:\n",
    "        memo[(a, b, c)] = (\n",
    "            w(a-1, b, c) +\n",
    "            w(a-1, b-1, c) +\n",
    "            w(a-1, b, c-1) -\n",
    "            w(a-1, b-1, c-1)\n",
    "        )\n",
    "    return memo[(a, b, c)]\n"
   ]
  },
  {
   "cell_type": "code",
   "execution_count": 37,
   "id": "12cbe6d1",
   "metadata": {},
   "outputs": [
    {
     "name": "stdout",
     "output_type": "stream",
     "text": [
      "2 2 2\n",
      "w(2,2,2)= 4\n",
      "3 3 3\n",
      "w(3,3,3)= 8\n",
      "4 4 4\n",
      "w(4,4,4)= 16\n",
      "15 15 15\n",
      "w(15,15,15)= 32768\n",
      "50 50 50\n",
      "w(50,50,50)= 1048576\n",
      "-1 -1 -1\n"
     ]
    }
   ],
   "source": [
    "memo = dict()\n",
    "\n",
    "def w(a, b, c):\n",
    "    if a <= 0 or b <= 0 or c <= 0:\n",
    "        memo[(a, b, c)] = 1\n",
    "        return memo[(a, b, c)]\n",
    "    if a > 20 or b > 20 or c > 20:\n",
    "        return w(20, 20, 20)\n",
    "    if (a, b, c) in memo:\n",
    "        return memo[(a, b, c)]\n",
    "    else:\n",
    "        memo[(a, b, c)] = (\n",
    "            w(a-1, b, c) +\n",
    "            w(a-1, b-1, c) +\n",
    "            w(a-1, b, c-1) -\n",
    "            w(a-1, b-1, c-1)\n",
    "        )\n",
    "    return memo[(a, b, c)]\n",
    "\n",
    "while True:\n",
    "    a,b,c=map(int,input().split())\n",
    "    if a==-1 and b==-1 and c==-1:\n",
    "        break\n",
    "    print(f\"w({a},{b},{c})=\",w(a,b,c))"
   ]
  },
  {
   "cell_type": "code",
   "execution_count": 44,
   "id": "26bce842",
   "metadata": {},
   "outputs": [],
   "source": [
    "memo = dict()\n",
    "\n",
    "def w(a, b, c):\n",
    "    if a <= 0 or b <= 0 or c <= 0:\n",
    "        memo[(a, b, c)] = 1\n",
    "        return memo\n",
    "    if a > 20 or b > 20 or c > 20:\n",
    "        memo[(a,b,c)]=w(20, 20, 20)[(20,20,20)]\n",
    "        return memo\n",
    "    if (a, b, c) in memo:\n",
    "        return memo\n",
    "    else:\n",
    "        memo[(a, b, c)] = (\n",
    "            w(a-1, b, c)[(a-1, b, c)] +\n",
    "            w(a-1, b-1, c)[(a-1, b-1, c)] +\n",
    "            w(a-1, b, c-1)[(a-1, b, c-1)] -\n",
    "            w(a-1, b-1, c-1)[(a-1, b-1, c-1)]\n",
    "        )\n",
    "    return memo\n"
   ]
  },
  {
   "cell_type": "code",
   "execution_count": 47,
   "id": "244cc915",
   "metadata": {},
   "outputs": [
    {
     "name": "stdout",
     "output_type": "stream",
     "text": [
      "50 50 50\n",
      "w(50,50,50)= 1048576\n",
      "-1 -1 -1\n"
     ]
    }
   ],
   "source": [
    "memo = dict()\n",
    "\n",
    "def w(a, b, c):\n",
    "    if a <= 0 or b <= 0 or c <= 0:\n",
    "        memo[(a, b, c)] = 1\n",
    "        return memo\n",
    "    if a > 20 or b > 20 or c > 20:\n",
    "        memo[(a,b,c)]=w(20, 20, 20)[(20,20,20)]\n",
    "        return memo\n",
    "    if (a, b, c) in memo:\n",
    "        return memo\n",
    "    else:\n",
    "        memo[(a, b, c)] = (\n",
    "            w(a-1, b, c)[(a-1, b, c)] +\n",
    "            w(a-1, b-1, c)[(a-1, b-1, c)] +\n",
    "            w(a-1, b, c-1)[(a-1, b, c-1)] -\n",
    "            w(a-1, b-1, c-1)[(a-1, b-1, c-1)]\n",
    "        )\n",
    "    return memo\n",
    "\n",
    "while True:\n",
    "    a,b,c=map(int,input().split())\n",
    "    if a==-1 and b==-1 and c==-1:\n",
    "        break\n",
    "    print(f\"w({a}, {b}, {c}) =\",w(a,b,c)[(a,b,c)])"
   ]
  },
  {
   "cell_type": "code",
   "execution_count": 52,
   "id": "bb1aa1f7",
   "metadata": {},
   "outputs": [
    {
     "name": "stdout",
     "output_type": "stream",
     "text": [
      "10\n",
      "[0, 0, 1, 1, 2, 3, 2, 3, 3, 2, 3]\n"
     ]
    }
   ],
   "source": [
    "\n",
    "ans=[0,0]\n",
    "n=int(input())\n",
    "\n",
    "for i in range(2,n+1):\n",
    "    if i%2==0 and i%3==0:\n",
    "        ans.append(min(ans[i-1],ans[i//2],ans[i//3])+1)\n",
    "    elif i%2==0:\n",
    "        ans.append(min(ans[i-1],ans[i//2])+1)\n",
    "    elif i%3==0:\n",
    "        ans.append(min(ans[i-1],ans[i//3])+1)\n",
    "    else :\n",
    "        ans.append(ans[i-1]+1)\n",
    "print(ans)"
   ]
  },
  {
   "cell_type": "code",
   "execution_count": 51,
   "id": "345b1afb",
   "metadata": {},
   "outputs": [
    {
     "name": "stdout",
     "output_type": "stream",
     "text": [
      "10\n",
      "[0, 0, 1, 1, 2, 3, 2, 3, 3, 2, 3]\n"
     ]
    }
   ],
   "source": [
    "n=int(input())\n",
    "ans=[0 for i in range(n+1)]\n",
    "for i in range(2,n+1):\n",
    "    if i%2==0 and i%3==0:\n",
    "        ans[i]=(min(ans[i-1],ans[i//2],ans[i//3])+1)\n",
    "    elif i%2==0:\n",
    "        ans[i]=(min(ans[i-1],ans[i//2])+1)\n",
    "    elif i%3==0:\n",
    "        ans[i]=(min(ans[i-1],ans[i//3])+1)\n",
    "    else :\n",
    "        ans[i]=ans[i-1]+1\n",
    "print(ans)"
   ]
  },
  {
   "cell_type": "code",
   "execution_count": 83,
   "id": "80a70f27",
   "metadata": {},
   "outputs": [
    {
     "name": "stdout",
     "output_type": "stream",
     "text": [
      "6\n",
      "10 15 30 20 30 25 27 30\n"
     ]
    },
    {
     "ename": "IndexError",
     "evalue": "list index out of range",
     "output_type": "error",
     "traceback": [
      "\u001b[1;31m---------------------------------------------------------------------------\u001b[0m",
      "\u001b[1;31mIndexError\u001b[0m                                Traceback (most recent call last)",
      "Cell \u001b[1;32mIn[83], line 16\u001b[0m\n\u001b[0;32m     14\u001b[0m n\u001b[38;5;241m=\u001b[39m\u001b[38;5;28mint\u001b[39m(\u001b[38;5;28minput\u001b[39m())\n\u001b[0;32m     15\u001b[0m li\u001b[38;5;241m=\u001b[39m\u001b[38;5;28mlist\u001b[39m(\u001b[38;5;28mmap\u001b[39m(\u001b[38;5;28mint\u001b[39m,\u001b[38;5;28minput\u001b[39m()\u001b[38;5;241m.\u001b[39msplit()))\n\u001b[1;32m---> 16\u001b[0m \u001b[38;5;28mprint\u001b[39m(\u001b[43msolution\u001b[49m\u001b[43m(\u001b[49m\u001b[43mli\u001b[49m\u001b[43m)\u001b[49m)\n",
      "Cell \u001b[1;32mIn[83], line 8\u001b[0m, in \u001b[0;36msolution\u001b[1;34m(data)\u001b[0m\n\u001b[0;32m      6\u001b[0m \u001b[38;5;28;01mfor\u001b[39;00m i \u001b[38;5;129;01min\u001b[39;00m \u001b[38;5;28mrange\u001b[39m(\u001b[38;5;241m1\u001b[39m,\u001b[38;5;28mlen\u001b[39m(data)):\n\u001b[0;32m      7\u001b[0m     \u001b[38;5;28;01mfor\u001b[39;00m j \u001b[38;5;129;01min\u001b[39;00m \u001b[38;5;28mrange\u001b[39m(\u001b[38;5;241m1\u001b[39m,i\u001b[38;5;241m+\u001b[39m\u001b[38;5;241m1\u001b[39m):\n\u001b[1;32m----> 8\u001b[0m         result\u001b[38;5;241m.\u001b[39mappend(\u001b[38;5;28mmax\u001b[39m(\u001b[38;5;28;43msorted\u001b[39;49m\u001b[43m(\u001b[49m\u001b[43mresult\u001b[49m\u001b[43m[\u001b[49m\u001b[43m:\u001b[49m\u001b[43mi\u001b[49m\u001b[43m]\u001b[49m\u001b[43m,\u001b[49m\u001b[43m \u001b[49m\u001b[43mkey\u001b[49m\u001b[38;5;241;43m=\u001b[39;49m\u001b[38;5;28;43;01mlambda\u001b[39;49;00m\u001b[43m \u001b[49m\u001b[43mx\u001b[49m\u001b[43m:\u001b[49m\u001b[43m \u001b[49m\u001b[43mresult\u001b[49m\u001b[43m[\u001b[49m\u001b[43mx\u001b[49m\u001b[43m]\u001b[49m\u001b[38;5;241;43m<\u001b[39;49m\u001b[43mdata\u001b[49m\u001b[43m[\u001b[49m\u001b[43mi\u001b[49m\u001b[43m]\u001b[49m\u001b[43m)\u001b[49m)\u001b[38;5;241m+\u001b[39m\u001b[38;5;241m1\u001b[39m)\n\u001b[0;32m      9\u001b[0m         \u001b[38;5;28mprint\u001b[39m(\u001b[38;5;28msorted\u001b[39m(result[:i], key\u001b[38;5;241m=\u001b[39m\u001b[38;5;28;01mlambda\u001b[39;00m x: x\u001b[38;5;241m<\u001b[39mdata[i]),data[i])\n\u001b[0;32m     10\u001b[0m         \u001b[38;5;28;01mif\u001b[39;00m \u001b[38;5;129;01mnot\u001b[39;00m \u001b[38;5;28msorted\u001b[39m(result[:i], key\u001b[38;5;241m=\u001b[39m\u001b[38;5;28;01mlambda\u001b[39;00m x: x\u001b[38;5;241m<\u001b[39mdata[i]):\n",
      "Cell \u001b[1;32mIn[83], line 8\u001b[0m, in \u001b[0;36msolution.<locals>.<lambda>\u001b[1;34m(x)\u001b[0m\n\u001b[0;32m      6\u001b[0m \u001b[38;5;28;01mfor\u001b[39;00m i \u001b[38;5;129;01min\u001b[39;00m \u001b[38;5;28mrange\u001b[39m(\u001b[38;5;241m1\u001b[39m,\u001b[38;5;28mlen\u001b[39m(data)):\n\u001b[0;32m      7\u001b[0m     \u001b[38;5;28;01mfor\u001b[39;00m j \u001b[38;5;129;01min\u001b[39;00m \u001b[38;5;28mrange\u001b[39m(\u001b[38;5;241m1\u001b[39m,i\u001b[38;5;241m+\u001b[39m\u001b[38;5;241m1\u001b[39m):\n\u001b[1;32m----> 8\u001b[0m         result\u001b[38;5;241m.\u001b[39mappend(\u001b[38;5;28mmax\u001b[39m(\u001b[38;5;28msorted\u001b[39m(result[:i], key\u001b[38;5;241m=\u001b[39m\u001b[38;5;28;01mlambda\u001b[39;00m x: \u001b[43mresult\u001b[49m\u001b[43m[\u001b[49m\u001b[43mx\u001b[49m\u001b[43m]\u001b[49m\u001b[38;5;241m<\u001b[39mdata[i]))\u001b[38;5;241m+\u001b[39m\u001b[38;5;241m1\u001b[39m)\n\u001b[0;32m      9\u001b[0m         \u001b[38;5;28mprint\u001b[39m(\u001b[38;5;28msorted\u001b[39m(result[:i], key\u001b[38;5;241m=\u001b[39m\u001b[38;5;28;01mlambda\u001b[39;00m x: x\u001b[38;5;241m<\u001b[39mdata[i]),data[i])\n\u001b[0;32m     10\u001b[0m         \u001b[38;5;28;01mif\u001b[39;00m \u001b[38;5;129;01mnot\u001b[39;00m \u001b[38;5;28msorted\u001b[39m(result[:i], key\u001b[38;5;241m=\u001b[39m\u001b[38;5;28;01mlambda\u001b[39;00m x: x\u001b[38;5;241m<\u001b[39mdata[i]):\n",
      "\u001b[1;31mIndexError\u001b[0m: list index out of range"
     ]
    }
   ],
   "source": [
    "def solution(data):\n",
    "    if len(data)==1:\n",
    "        return 1\n",
    "    result=[1]\n",
    "#     print(data)\n",
    "    for i in range(1,len(data)):\n",
    "        for j in range(1,i+1):\n",
    "            result.append(max(sorted(result[:i], key=lambda x: result[x]<data[i]))+1)\n",
    "            print(sorted(result[:i], key=lambda x: x<data[i]),data[i])\n",
    "            if not sorted(result[:i], key=lambda x: x<data[i]):\n",
    "                result.append(1)\n",
    "                \n",
    "    return result\n",
    "n=int(input())\n",
    "li=list(map(int,input().split()))\n",
    "print(solution(li))"
   ]
  },
  {
   "cell_type": "code",
   "execution_count": 75,
   "id": "516f7f07",
   "metadata": {},
   "outputs": [],
   "source": [
    "sorted(result[:i], key=lambda x: x<data[i])\n",
    "10 15 30 20 30 25 27 30\n"
   ]
  }
 ],
 "metadata": {
  "kernelspec": {
   "display_name": "Python 3 (ipykernel)",
   "language": "python",
   "name": "python3"
  },
  "language_info": {
   "codemirror_mode": {
    "name": "ipython",
    "version": 3
   },
   "file_extension": ".py",
   "mimetype": "text/x-python",
   "name": "python",
   "nbconvert_exporter": "python",
   "pygments_lexer": "ipython3",
   "version": "3.10.11"
  }
 },
 "nbformat": 4,
 "nbformat_minor": 5
}
