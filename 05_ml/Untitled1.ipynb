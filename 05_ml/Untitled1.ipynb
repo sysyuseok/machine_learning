{
 "cells": [
  {
   "cell_type": "code",
   "execution_count": 1,
   "id": "f12c0b2b",
   "metadata": {},
   "outputs": [],
   "source": [
    "def hanoi_len(n):\n",
    "    if n==1:\n",
    "        return 1\n",
    "    return 2*hanoi_len(n-1)+1"
   ]
  },
  {
   "cell_type": "code",
   "execution_count": 12,
   "id": "73abc8d9",
   "metadata": {},
   "outputs": [
    {
     "data": {
      "text/plain": [
       "1"
      ]
     },
     "execution_count": 12,
     "metadata": {},
     "output_type": "execute_result"
    }
   ],
   "source": [
    "l=set([1,2,3])\n",
    "i,j=2,3\n",
    "list(l-set([i,j]))[0]"
   ]
  },
  {
   "cell_type": "code",
   "execution_count": 2,
   "id": "287ba556",
   "metadata": {},
   "outputs": [
    {
     "name": "stdout",
     "output_type": "stream",
     "text": [
      "7\n"
     ]
    }
   ],
   "source": [
    "print(hanoi_len(3))"
   ]
  },
  {
   "cell_type": "code",
   "execution_count": 1,
   "id": "761dc390",
   "metadata": {},
   "outputs": [],
   "source": [
    "def hanoi_path(n,i,j):\n",
    "    l=set([1,2,3])\n",
    "    if n==1:\n",
    "        return print(i,j)\n",
    "    k=list(l-set([i,j]))[0]\n",
    "    hanoi_path(n-1,i,k)\n",
    "    print(i,j)\n",
    "    hanoi_path(n-1,k,j)\n",
    "    \n",
    "    \n",
    "#     if n%2=1:\n",
    "#         for i in range(n):\n",
    "#             if i%2=1:\n",
    "#                 pass\n",
    "#             else:\n",
    "#                 pass\n",
    "#     else:\n",
    "#         for i in range(n):\n",
    "#             if i%2=1:\n",
    "#                 pass\n",
    "#             else:\n",
    "#                 pass\n",
    "            \n",
    "            \n",
    "            \n",
    "#     if n==1:\n",
    "#         print(i,j,n)\n",
    "#     else:\n",
    "#         k=list(l-set([i,j]))[0]\n",
    "#         print(i,k,n-1)\n",
    "#         hanoi_path(n-1,i,k)\n",
    "#         print(k,j,n-1)\n",
    "#         hanoi_path(n-1,k,j)\n",
    "        "
   ]
  },
  {
   "cell_type": "code",
   "execution_count": 2,
   "id": "10f672be",
   "metadata": {},
   "outputs": [
    {
     "name": "stdout",
     "output_type": "stream",
     "text": [
      "1 3\n",
      "1 2\n",
      "3 2\n",
      "1 3\n",
      "2 1\n",
      "2 3\n",
      "1 3\n"
     ]
    }
   ],
   "source": [
    "hanoi_path(3,1,3)"
   ]
  },
  {
   "cell_type": "code",
   "execution_count": 7,
   "id": "e5ec99e1",
   "metadata": {},
   "outputs": [
    {
     "name": "stdout",
     "output_type": "stream",
     "text": [
      "3\n",
      "7\n",
      "1 3\n",
      "1 2\n",
      "3 2\n",
      "1 3\n",
      "2 1\n",
      "2 3\n",
      "1 3\n"
     ]
    }
   ],
   "source": [
    "def hanoi_path(n,i,j):\n",
    "    l=set([1,2,3])\n",
    "    if n==1:\n",
    "        return print(i,j)\n",
    "    k=list(l-set([i,j]))[0]\n",
    "    hanoi_path(n-1,i,k)\n",
    "    print(i,j)\n",
    "    hanoi_path(n-1,k,j)\n",
    "def hanoi_len(n):\n",
    "    if n==1:\n",
    "        return 1\n",
    "    return 2*hanoi_len(n-1)+1\n",
    "n=int(input())\n",
    "print(hanoi_len(n))\n",
    "hanoi_path(n,1,3)"
   ]
  },
  {
   "cell_type": "code",
   "execution_count": 53,
   "id": "adb81b98",
   "metadata": {},
   "outputs": [
    {
     "name": "stdout",
     "output_type": "stream",
     "text": [
      "3 7\n",
      "[1, 3]\n"
     ]
    }
   ],
   "source": [
    "def hanoi_path(n,m,i,j,li):\n",
    "    l=set([1,2,3])\n",
    "    if len(li)==m:\n",
    "        return\n",
    "    if n==1:\n",
    "        li.append([i,j])\n",
    "        return li\n",
    "    k=list(l-set([i,j]))[0]\n",
    "    hanoi_path(n-1,m,i,k,li)\n",
    "    li.append([i,j])\n",
    "    hanoi_path(n-1,m,k,j,li)\n",
    "    return li\n",
    "n,m=map(int,input().split())\n",
    "an_li=[]\n",
    "print(hanoi_path(n,m,1,3,an_li).pop())"
   ]
  },
  {
   "cell_type": "code",
   "execution_count": 25,
   "id": "a2a4cb27",
   "metadata": {},
   "outputs": [],
   "source": [
    "def sol(n,r,c,answer):\n",
    "    if n==1:\n",
    "        return answer+2*r+c\n",
    "    if r>=pow(2,n-1):\n",
    "        r-=pow(2,n-1)\n",
    "        answer+=pow(2,2*n-1)\n",
    "    if c>=pow(2,n-1):\n",
    "        c-=pow(2,n-1)\n",
    "        answer+=pow(2,2*n-2)\n",
    "    return sol(n-1,r,c,answer)\n",
    "    "
   ]
  },
  {
   "cell_type": "code",
   "execution_count": 27,
   "id": "3c4a7b4e",
   "metadata": {},
   "outputs": [
    {
     "name": "stdout",
     "output_type": "stream",
     "text": [
      "3 7 7\n",
      "63\n"
     ]
    }
   ],
   "source": [
    "n,r,c=map(int,input().split())\n",
    "answer=0\n",
    "print(sol(n,r,c,answer))"
   ]
  },
  {
   "cell_type": "code",
   "execution_count": 7,
   "id": "c3d78dcf",
   "metadata": {},
   "outputs": [
    {
     "name": "stdout",
     "output_type": "stream",
     "text": [
      "3 3\n"
     ]
    },
    {
     "data": {
      "text/plain": [
       "[3, 2]"
      ]
     },
     "execution_count": 7,
     "metadata": {},
     "output_type": "execute_result"
    }
   ],
   "source": [
    "def hanoi_path(n,m,i,j,li):\n",
    "    l=set([1,2,3])\n",
    "    if len(li)==m:\n",
    "        return print(li[-1])\n",
    "    if n==1:\n",
    "        li.append([i,j])\n",
    "        return li\n",
    "    k=list(l-set([i,j]))[0]\n",
    "    hanoi_path(n-1,m,i,k,li)\n",
    "    li.append([i,j])\n",
    "    hanoi_path(n-1,m,k,j,li)\n",
    "    return li\n",
    "n,m=map(int,input().split())\n",
    "an_li=[]\n",
    "print(hanoi_path(n,m,1,3,an_li)[m-1])"
   ]
  },
  {
   "cell_type": "code",
   "execution_count": 58,
   "id": "2b5c86be",
   "metadata": {},
   "outputs": [
    {
     "name": "stdout",
     "output_type": "stream",
     "text": [
      "4 8\n",
      "[[1, 2], [1, 3], [2, 3], [1, 2], [3, 1], [3, 2], [1, 2], [1, 3]]\n"
     ]
    }
   ],
   "source": [
    "def hanoi_path(n,m,i,j,li):\n",
    "    l=set([1,2,3])\n",
    "    if len(li)==m:\n",
    "        return\n",
    "    if n==1:\n",
    "        li.append([i,j])\n",
    "        return li\n",
    "    k=list(l-set([i,j]))[0]\n",
    "    hanoi_path(n-1,m,i,k,li)\n",
    "    li.append([i,j])\n",
    "    hanoi_path(n-1,m,k,j,li)\n",
    "    return li\n",
    "n,m=map(int,input().split())\n",
    "an_li=[]\n",
    "print(hanoi_path(n,m,1,3,an_li))"
   ]
  },
  {
   "cell_type": "code",
   "execution_count": 57,
   "id": "c40fb57d",
   "metadata": {},
   "outputs": [
    {
     "name": "stdout",
     "output_type": "stream",
     "text": [
      "4 8\n"
     ]
    },
    {
     "ename": "RecursionError",
     "evalue": "maximum recursion depth exceeded while calling a Python object",
     "output_type": "error",
     "traceback": [
      "\u001b[1;31m---------------------------------------------------------------------------\u001b[0m",
      "\u001b[1;31mRecursionError\u001b[0m                            Traceback (most recent call last)",
      "Cell \u001b[1;32mIn[57], line 16\u001b[0m\n\u001b[0;32m     14\u001b[0m n, m \u001b[38;5;241m=\u001b[39m \u001b[38;5;28mmap\u001b[39m(\u001b[38;5;28mint\u001b[39m, \u001b[38;5;28minput\u001b[39m()\u001b[38;5;241m.\u001b[39msplit())\n\u001b[0;32m     15\u001b[0m an_li \u001b[38;5;241m=\u001b[39m []\n\u001b[1;32m---> 16\u001b[0m \u001b[38;5;28mprint\u001b[39m(\u001b[43mhanoi_path\u001b[49m\u001b[43m(\u001b[49m\u001b[43mn\u001b[49m\u001b[43m,\u001b[49m\u001b[43m \u001b[49m\u001b[43mm\u001b[49m\u001b[43m,\u001b[49m\u001b[43m \u001b[49m\u001b[38;5;241;43m1\u001b[39;49m\u001b[43m,\u001b[49m\u001b[43m \u001b[49m\u001b[38;5;241;43m3\u001b[39;49m\u001b[43m,\u001b[49m\u001b[43m \u001b[49m\u001b[43man_li\u001b[49m\u001b[43m)\u001b[49m)\n",
      "Cell \u001b[1;32mIn[57], line 9\u001b[0m, in \u001b[0;36mhanoi_path\u001b[1;34m(n, m, i, j, li)\u001b[0m\n\u001b[0;32m      7\u001b[0m     \u001b[38;5;28;01mreturn\u001b[39;00m hanoi_path(n, m, i, j, li)  \u001b[38;5;66;03m# Recursively call the function\u001b[39;00m\n\u001b[0;32m      8\u001b[0m k \u001b[38;5;241m=\u001b[39m \u001b[38;5;28mlist\u001b[39m(l \u001b[38;5;241m-\u001b[39m \u001b[38;5;28mset\u001b[39m([i, j]))[\u001b[38;5;241m0\u001b[39m]\n\u001b[1;32m----> 9\u001b[0m \u001b[43mhanoi_path\u001b[49m\u001b[43m(\u001b[49m\u001b[43mn\u001b[49m\u001b[43m \u001b[49m\u001b[38;5;241;43m-\u001b[39;49m\u001b[43m \u001b[49m\u001b[38;5;241;43m1\u001b[39;49m\u001b[43m,\u001b[49m\u001b[43m \u001b[49m\u001b[43mm\u001b[49m\u001b[43m,\u001b[49m\u001b[43m \u001b[49m\u001b[43mi\u001b[49m\u001b[43m,\u001b[49m\u001b[43m \u001b[49m\u001b[43mk\u001b[49m\u001b[43m,\u001b[49m\u001b[43m \u001b[49m\u001b[43mli\u001b[49m\u001b[43m)\u001b[49m\n\u001b[0;32m     10\u001b[0m li\u001b[38;5;241m.\u001b[39mappend([i, j])\n\u001b[0;32m     11\u001b[0m hanoi_path(n \u001b[38;5;241m-\u001b[39m \u001b[38;5;241m1\u001b[39m, m, k, j, li)\n",
      "Cell \u001b[1;32mIn[57], line 9\u001b[0m, in \u001b[0;36mhanoi_path\u001b[1;34m(n, m, i, j, li)\u001b[0m\n\u001b[0;32m      7\u001b[0m     \u001b[38;5;28;01mreturn\u001b[39;00m hanoi_path(n, m, i, j, li)  \u001b[38;5;66;03m# Recursively call the function\u001b[39;00m\n\u001b[0;32m      8\u001b[0m k \u001b[38;5;241m=\u001b[39m \u001b[38;5;28mlist\u001b[39m(l \u001b[38;5;241m-\u001b[39m \u001b[38;5;28mset\u001b[39m([i, j]))[\u001b[38;5;241m0\u001b[39m]\n\u001b[1;32m----> 9\u001b[0m \u001b[43mhanoi_path\u001b[49m\u001b[43m(\u001b[49m\u001b[43mn\u001b[49m\u001b[43m \u001b[49m\u001b[38;5;241;43m-\u001b[39;49m\u001b[43m \u001b[49m\u001b[38;5;241;43m1\u001b[39;49m\u001b[43m,\u001b[49m\u001b[43m \u001b[49m\u001b[43mm\u001b[49m\u001b[43m,\u001b[49m\u001b[43m \u001b[49m\u001b[43mi\u001b[49m\u001b[43m,\u001b[49m\u001b[43m \u001b[49m\u001b[43mk\u001b[49m\u001b[43m,\u001b[49m\u001b[43m \u001b[49m\u001b[43mli\u001b[49m\u001b[43m)\u001b[49m\n\u001b[0;32m     10\u001b[0m li\u001b[38;5;241m.\u001b[39mappend([i, j])\n\u001b[0;32m     11\u001b[0m hanoi_path(n \u001b[38;5;241m-\u001b[39m \u001b[38;5;241m1\u001b[39m, m, k, j, li)\n",
      "Cell \u001b[1;32mIn[57], line 11\u001b[0m, in \u001b[0;36mhanoi_path\u001b[1;34m(n, m, i, j, li)\u001b[0m\n\u001b[0;32m      9\u001b[0m hanoi_path(n \u001b[38;5;241m-\u001b[39m \u001b[38;5;241m1\u001b[39m, m, i, k, li)\n\u001b[0;32m     10\u001b[0m li\u001b[38;5;241m.\u001b[39mappend([i, j])\n\u001b[1;32m---> 11\u001b[0m \u001b[43mhanoi_path\u001b[49m\u001b[43m(\u001b[49m\u001b[43mn\u001b[49m\u001b[43m \u001b[49m\u001b[38;5;241;43m-\u001b[39;49m\u001b[43m \u001b[49m\u001b[38;5;241;43m1\u001b[39;49m\u001b[43m,\u001b[49m\u001b[43m \u001b[49m\u001b[43mm\u001b[49m\u001b[43m,\u001b[49m\u001b[43m \u001b[49m\u001b[43mk\u001b[49m\u001b[43m,\u001b[49m\u001b[43m \u001b[49m\u001b[43mj\u001b[49m\u001b[43m,\u001b[49m\u001b[43m \u001b[49m\u001b[43mli\u001b[49m\u001b[43m)\u001b[49m\n\u001b[0;32m     12\u001b[0m \u001b[38;5;28;01mreturn\u001b[39;00m li\n",
      "Cell \u001b[1;32mIn[57], line 7\u001b[0m, in \u001b[0;36mhanoi_path\u001b[1;34m(n, m, i, j, li)\u001b[0m\n\u001b[0;32m      5\u001b[0m \u001b[38;5;28;01mif\u001b[39;00m n \u001b[38;5;241m==\u001b[39m \u001b[38;5;241m1\u001b[39m:\n\u001b[0;32m      6\u001b[0m     li\u001b[38;5;241m.\u001b[39mappend([i, j])\n\u001b[1;32m----> 7\u001b[0m     \u001b[38;5;28;01mreturn\u001b[39;00m \u001b[43mhanoi_path\u001b[49m\u001b[43m(\u001b[49m\u001b[43mn\u001b[49m\u001b[43m,\u001b[49m\u001b[43m \u001b[49m\u001b[43mm\u001b[49m\u001b[43m,\u001b[49m\u001b[43m \u001b[49m\u001b[43mi\u001b[49m\u001b[43m,\u001b[49m\u001b[43m \u001b[49m\u001b[43mj\u001b[49m\u001b[43m,\u001b[49m\u001b[43m \u001b[49m\u001b[43mli\u001b[49m\u001b[43m)\u001b[49m  \u001b[38;5;66;03m# Recursively call the function\u001b[39;00m\n\u001b[0;32m      8\u001b[0m k \u001b[38;5;241m=\u001b[39m \u001b[38;5;28mlist\u001b[39m(l \u001b[38;5;241m-\u001b[39m \u001b[38;5;28mset\u001b[39m([i, j]))[\u001b[38;5;241m0\u001b[39m]\n\u001b[0;32m      9\u001b[0m hanoi_path(n \u001b[38;5;241m-\u001b[39m \u001b[38;5;241m1\u001b[39m, m, i, k, li)\n",
      "Cell \u001b[1;32mIn[57], line 7\u001b[0m, in \u001b[0;36mhanoi_path\u001b[1;34m(n, m, i, j, li)\u001b[0m\n\u001b[0;32m      5\u001b[0m \u001b[38;5;28;01mif\u001b[39;00m n \u001b[38;5;241m==\u001b[39m \u001b[38;5;241m1\u001b[39m:\n\u001b[0;32m      6\u001b[0m     li\u001b[38;5;241m.\u001b[39mappend([i, j])\n\u001b[1;32m----> 7\u001b[0m     \u001b[38;5;28;01mreturn\u001b[39;00m \u001b[43mhanoi_path\u001b[49m\u001b[43m(\u001b[49m\u001b[43mn\u001b[49m\u001b[43m,\u001b[49m\u001b[43m \u001b[49m\u001b[43mm\u001b[49m\u001b[43m,\u001b[49m\u001b[43m \u001b[49m\u001b[43mi\u001b[49m\u001b[43m,\u001b[49m\u001b[43m \u001b[49m\u001b[43mj\u001b[49m\u001b[43m,\u001b[49m\u001b[43m \u001b[49m\u001b[43mli\u001b[49m\u001b[43m)\u001b[49m  \u001b[38;5;66;03m# Recursively call the function\u001b[39;00m\n\u001b[0;32m      8\u001b[0m k \u001b[38;5;241m=\u001b[39m \u001b[38;5;28mlist\u001b[39m(l \u001b[38;5;241m-\u001b[39m \u001b[38;5;28mset\u001b[39m([i, j]))[\u001b[38;5;241m0\u001b[39m]\n\u001b[0;32m      9\u001b[0m hanoi_path(n \u001b[38;5;241m-\u001b[39m \u001b[38;5;241m1\u001b[39m, m, i, k, li)\n",
      "    \u001b[1;31m[... skipping similar frames: hanoi_path at line 7 (2966 times)]\u001b[0m\n",
      "Cell \u001b[1;32mIn[57], line 7\u001b[0m, in \u001b[0;36mhanoi_path\u001b[1;34m(n, m, i, j, li)\u001b[0m\n\u001b[0;32m      5\u001b[0m \u001b[38;5;28;01mif\u001b[39;00m n \u001b[38;5;241m==\u001b[39m \u001b[38;5;241m1\u001b[39m:\n\u001b[0;32m      6\u001b[0m     li\u001b[38;5;241m.\u001b[39mappend([i, j])\n\u001b[1;32m----> 7\u001b[0m     \u001b[38;5;28;01mreturn\u001b[39;00m \u001b[43mhanoi_path\u001b[49m\u001b[43m(\u001b[49m\u001b[43mn\u001b[49m\u001b[43m,\u001b[49m\u001b[43m \u001b[49m\u001b[43mm\u001b[49m\u001b[43m,\u001b[49m\u001b[43m \u001b[49m\u001b[43mi\u001b[49m\u001b[43m,\u001b[49m\u001b[43m \u001b[49m\u001b[43mj\u001b[49m\u001b[43m,\u001b[49m\u001b[43m \u001b[49m\u001b[43mli\u001b[49m\u001b[43m)\u001b[49m  \u001b[38;5;66;03m# Recursively call the function\u001b[39;00m\n\u001b[0;32m      8\u001b[0m k \u001b[38;5;241m=\u001b[39m \u001b[38;5;28mlist\u001b[39m(l \u001b[38;5;241m-\u001b[39m \u001b[38;5;28mset\u001b[39m([i, j]))[\u001b[38;5;241m0\u001b[39m]\n\u001b[0;32m      9\u001b[0m hanoi_path(n \u001b[38;5;241m-\u001b[39m \u001b[38;5;241m1\u001b[39m, m, i, k, li)\n",
      "Cell \u001b[1;32mIn[57], line 3\u001b[0m, in \u001b[0;36mhanoi_path\u001b[1;34m(n, m, i, j, li)\u001b[0m\n\u001b[0;32m      1\u001b[0m \u001b[38;5;28;01mdef\u001b[39;00m \u001b[38;5;21mhanoi_path\u001b[39m(n, m, i, j, li):\n\u001b[0;32m      2\u001b[0m     l \u001b[38;5;241m=\u001b[39m \u001b[38;5;28mset\u001b[39m([\u001b[38;5;241m1\u001b[39m, \u001b[38;5;241m2\u001b[39m, \u001b[38;5;241m3\u001b[39m])\n\u001b[1;32m----> 3\u001b[0m     \u001b[38;5;28;01mif\u001b[39;00m \u001b[38;5;28;43mlen\u001b[39;49m\u001b[43m(\u001b[49m\u001b[43mli\u001b[49m\u001b[43m)\u001b[49m \u001b[38;5;241m==\u001b[39m m:\n\u001b[0;32m      4\u001b[0m         \u001b[38;5;28;01mreturn\u001b[39;00m li\n\u001b[0;32m      5\u001b[0m     \u001b[38;5;28;01mif\u001b[39;00m n \u001b[38;5;241m==\u001b[39m \u001b[38;5;241m1\u001b[39m:\n",
      "\u001b[1;31mRecursionError\u001b[0m: maximum recursion depth exceeded while calling a Python object"
     ]
    }
   ],
   "source": [
    "def hanoi_path(n, m, i, j, li):\n",
    "    l = set([1, 2, 3])\n",
    "    if len(li) == m:\n",
    "        return li\n",
    "    if n == 1:\n",
    "        li.append([i, j])\n",
    "        return hanoi_path(n, m, i, j, li)  # Recursively call the function\n",
    "    k = list(l - set([i, j]))[0]\n",
    "    hanoi_path(n - 1, m, i, k, li)\n",
    "    li.append([i, j])\n",
    "    hanoi_path(n - 1, m, k, j, li)\n",
    "    return li\n",
    "\n",
    "n, m = map(int, input().split())\n",
    "an_li = []\n",
    "print(hanoi_path(n, m, 1, 3, an_li))"
   ]
  },
  {
   "cell_type": "code",
   "execution_count": 19,
   "id": "95c4c498",
   "metadata": {},
   "outputs": [
    {
     "name": "stdout",
     "output_type": "stream",
     "text": [
      "3 5\n",
      "[[1, 3], [1, 2], [3, 2], [1, 3], [2, 1]]\n"
     ]
    }
   ],
   "source": [
    "def hanoi_path(n, m, i, j, li):\n",
    "    l = set([1, 2, 3])\n",
    "    if len(li) >= m:\n",
    "        return li\n",
    "    if n == 1:\n",
    "        li.append([i, j])\n",
    "        return li\n",
    "    k = list(l - set([i, j]))[0]\n",
    "    hanoi_path(n - 1, m, i, k, li)\n",
    "    if len(li) < m:\n",
    "        li.append([i, j])\n",
    "    hanoi_path(n - 1, m, k, j, li)\n",
    "    return li\n",
    "\n",
    "n, m = map(int, input().split())\n",
    "an_li = []\n",
    "print(hanoi_path(n, m, 1, 3, an_li))\n"
   ]
  },
  {
   "cell_type": "code",
   "execution_count": 50,
   "id": "37870b65",
   "metadata": {},
   "outputs": [
    {
     "name": "stdout",
     "output_type": "stream",
     "text": [
      "4 8\n",
      "[1, 3]\n"
     ]
    }
   ],
   "source": [
    "def hanoi_path(n, m, i, j, li):\n",
    "    l = set([1, 2, 3])\n",
    "    if len(li) >= m:\n",
    "        return li\n",
    "    if n == 1:\n",
    "        li.append([i, j])\n",
    "        return li\n",
    "    k = list(l - set([i, j]))[0]\n",
    "    hanoi_path(n - 1, m, i, k, li)\n",
    "    if len(li) < m:\n",
    "        li.append([i, j])\n",
    "    hanoi_path(n - 1, m, k, j, li)\n",
    "    return li\n",
    "\n",
    "n, m = map(int, input().split())\n",
    "an_li = []\n",
    "print(hanoi_path(n, m, 1, 3, an_li)[m-1])\n"
   ]
  },
  {
   "cell_type": "code",
   "execution_count": 49,
   "id": "d2dbccc9",
   "metadata": {},
   "outputs": [
    {
     "name": "stdout",
     "output_type": "stream",
     "text": [
      "4 8\n"
     ]
    },
    {
     "data": {
      "text/plain": [
       "[]"
      ]
     },
     "execution_count": 49,
     "metadata": {},
     "output_type": "execute_result"
    }
   ],
   "source": [
    "def hanoi_path(n, m, i, j, li,answer):\n",
    "    l = set([1, 2, 3])\n",
    "    if li == m:\n",
    "        return answer\n",
    "    if n == 1:\n",
    "        li+=1\n",
    "        if li==m:\n",
    "            answer.extned([i,j])\n",
    "        return li,answer\n",
    "    k = list(l - set([i, j]))[0]\n",
    "    hanoi_path(n - 1, m, i, k, li,answer)\n",
    "    if li < m:\n",
    "        li+=1\n",
    "    elif li==m:\n",
    "        answer.extend([i,j])\n",
    "    hanoi_path(n - 1, m, k, j, li,answer)\n",
    "    return answer\n",
    "\n",
    "n, m = map(int, input().split())\n",
    "an_li = 0\n",
    "answer=[]\n",
    "hanoi_path(n, m, 1, 3, an_li,answer)[0:2]\n"
   ]
  },
  {
   "cell_type": "code",
   "execution_count": 42,
   "id": "da1bd7ae",
   "metadata": {},
   "outputs": [
    {
     "name": "stdout",
     "output_type": "stream",
     "text": [
      "4 8\n",
      "1 []\n"
     ]
    }
   ],
   "source": [
    "def hanoi_path(n, m, i, j, ans,li):\n",
    "    l = set([1, 2, 3])\n",
    "    if ans > m:\n",
    "        return ans,li\n",
    "    if n == 1:\n",
    "        if ans==m:\n",
    "            li.append([i, j])\n",
    "        return ans,li\n",
    "    k = list(l - set([i, j]))[0]\n",
    "    hanoi_path(n - 1, m, i, k, ans,li)\n",
    "    if ans < m:\n",
    "        ans+=1\n",
    "    elif ans==m:\n",
    "        li.append([i,j])\n",
    "    \n",
    "    hanoi_path(n - 1, m, k, j, ans,li)\n",
    "    return ans,li\n",
    "\n",
    "n, m = map(int, input().split())\n",
    "an = 0\n",
    "li=[]\n",
    "ans1,ans2=hanoi_path(n, m, 1, 3, an,li)\n",
    "print(ans1,ans2)"
   ]
  },
  {
   "cell_type": "code",
   "execution_count": 56,
   "id": "6dbb2d7f",
   "metadata": {},
   "outputs": [
    {
     "name": "stdout",
     "output_type": "stream",
     "text": [
      "4 8\n",
      "7 []\n"
     ]
    }
   ],
   "source": []
  }
 ],
 "metadata": {
  "kernelspec": {
   "display_name": "Python 3 (ipykernel)",
   "language": "python",
   "name": "python3"
  },
  "language_info": {
   "codemirror_mode": {
    "name": "ipython",
    "version": 3
   },
   "file_extension": ".py",
   "mimetype": "text/x-python",
   "name": "python",
   "nbconvert_exporter": "python",
   "pygments_lexer": "ipython3",
   "version": "3.10.11"
  }
 },
 "nbformat": 4,
 "nbformat_minor": 5
}
