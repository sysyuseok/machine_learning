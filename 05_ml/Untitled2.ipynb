{
 "cells": [
  {
   "cell_type": "code",
   "execution_count": 6,
   "id": "fa5e1957",
   "metadata": {},
   "outputs": [
    {
     "data": {
      "text/plain": [
       "3"
      ]
     },
     "execution_count": 6,
     "metadata": {},
     "output_type": "execute_result"
    }
   ],
   "source": [
    "# dynamic programming\n",
    "\n",
    "# bottom up\n",
    "def fib(n):\n",
    "    fiblist=[1,1]\n",
    "    for i in range(2,n+1):\n",
    "        fiblist.append(fiblist[i-2]+fiblist[i-1])\n",
    "    return fiblist[-1]\n",
    "\n",
    "\n",
    "# top down\n",
    "def fibt(n):\n",
    "    if n==0 or n==1:\n",
    "        return 1\n",
    "    return fibt(n-1)+fibt(n-2)\n"
   ]
  },
  {
   "cell_type": "code",
   "execution_count": 15,
   "id": "863dea81",
   "metadata": {},
   "outputs": [],
   "source": [
    "a=[1,2,3,4]\n",
    "b=[3,7,5,4]"
   ]
  },
  {
   "cell_type": "code",
   "execution_count": 22,
   "id": "efc4f8ce",
   "metadata": {},
   "outputs": [
    {
     "data": {
      "text/plain": [
       "[1, 2, 3, 4]"
      ]
     },
     "execution_count": 22,
     "metadata": {},
     "output_type": "execute_result"
    }
   ],
   "source": [
    "a.sort(key=lambda b: )\n",
    "a"
   ]
  },
  {
   "cell_type": "code",
   "execution_count": 15,
   "id": "f8bed8bc",
   "metadata": {},
   "outputs": [
    {
     "name": "stdout",
     "output_type": "stream",
     "text": [
      "10\n",
      "3\n"
     ]
    }
   ],
   "source": [
    "ans=[0 for i in range(n+1)]\n",
    "n=int(input())\n",
    "\n",
    "for i in range(2,n+1):\n",
    "    if i%2==0 and i%3==0:\n",
    "        ans[i]=(min(ans[i-1],ans[i//2],ans[i//3])+1)\n",
    "    elif i%2==0:\n",
    "        ans[i]=(min(ans[i-1],ans[i//2])+1)\n",
    "    elif i%3==0:\n",
    "        ans[i]=(min(ans[i-1],ans[i//3])+1)\n",
    "    else :\n",
    "        ans[i]=ans[i-1]+1\n",
    "print(ans[-1])"
   ]
  },
  {
   "cell_type": "code",
   "execution_count": null,
   "id": "4af6acc0",
   "metadata": {},
   "outputs": [],
   "source": [
    "data=[a1,a2,a3,a4,a5,a6,a7,a8,a9]\n",
    "S1=a1\n",
    "S2=max(S1,a2)\n",
    "S3=max(S2,S1+a3)\n",
    "S4=max(S3,S2+a4)\n",
    "S5=max(S4,S3+a5)\n",
    "S6=max(S5,S4+a6)\n",
    "S7=max(S6,S5+a7)\n",
    "S8=max(S7,S6+a8)\n",
    "S9=max(S8,S7+a9)\n",
    "# 이러한 관계로 인접하지 않은 수의 합의 최대값을 구할 수 있다.\n",
    "==> Sn=max(Sn-1,Sn-2+an)"
   ]
  },
  {
   "cell_type": "code",
   "execution_count": 8,
   "id": "3fe0eddf",
   "metadata": {},
   "outputs": [
    {
     "data": {
      "text/plain": [
       "39"
      ]
     },
     "execution_count": 8,
     "metadata": {},
     "output_type": "execute_result"
    }
   ],
   "source": [
    "def solution(data):\n",
    "    if len(data)==1:\n",
    "        return data[0]\n",
    "    result=[data[0],max(data[0],data[1])]\n",
    "    for i in range(2,len(data)):\n",
    "        result.append(max(result[i-1],result[i-2]+data[i]))\n",
    "    return result[-1]\n",
    "data=[1,2,3,4,6,4,3,7,9,2,4,1,1,10,2,3]\n",
    "solution(data)"
   ]
  },
  {
   "cell_type": "code",
   "execution_count": 10,
   "id": "a4938862",
   "metadata": {},
   "outputs": [
    {
     "name": "stdout",
     "output_type": "stream",
     "text": [
      "4\n",
      "1 2\n",
      "1 3\n",
      "2 3\n",
      "1 2\n",
      "3 1\n",
      "3 2\n",
      "1 2\n",
      "1 3\n",
      "2 3\n",
      "2 1\n",
      "3 1\n",
      "2 3\n",
      "1 2\n",
      "1 3\n",
      "2 3\n"
     ]
    }
   ],
   "source": [
    "def hanoi(n,i,j):\n",
    "    l=set([1,2,3])\n",
    "    k=list(l-set([i,j]))[0]\n",
    "    if n> 20:\n",
    "        hanoi(n-1,i,k)\n",
    "        hanoi(n-1,k,j)\n",
    "    elif n==1:\n",
    "        return print(i,j)\n",
    "    else:\n",
    "        hanoi(n-1,i,k)\n",
    "        print(i,j)\n",
    "        hanoi(n-1,k,j)\n",
    "n= int(input())\n",
    "hanoi(n,1,3)\n",
    "    "
   ]
  },
  {
   "cell_type": "code",
   "execution_count": 12,
   "id": "97ea1978",
   "metadata": {},
   "outputs": [
    {
     "name": "stdout",
     "output_type": "stream",
     "text": [
      "3\n",
      "7\n",
      "1 3\n",
      "1 2\n",
      "3 2\n",
      "1 3\n",
      "2 1\n",
      "2 3\n",
      "1 3\n"
     ]
    }
   ],
   "source": [
    "def hanoi(n,i,j):\n",
    "    l=set([1,2,3])\n",
    "    k=list(l-set([i,j]))[0]\n",
    "    if n==1:\n",
    "        return print(i,j)\n",
    "    else:\n",
    "        hanoi(n-1,i,k)\n",
    "        print(i,j)\n",
    "        hanoi(n-1,k,j)\n",
    "def hanoi_len(n):\n",
    "    if n==1:\n",
    "        return 1\n",
    "    return 2*hanoi_len(n-1)+1\n",
    "n= int(input())\n",
    "if n<= 20:\n",
    "    print(hanoi_len(n))\n",
    "    hanoi(n,1,3)\n",
    "else:\n",
    "    print(hanoi_len(n))\n",
    "    \n",
    "    \n",
    "\n",
    "    "
   ]
  },
  {
   "cell_type": "code",
   "execution_count": null,
   "id": "44c4928b",
   "metadata": {},
   "outputs": [],
   "source": [
    "num=int(input())\n",
    "p_list=list(map(int,input().split()))\n",
    "1_p=list(map(int,input().split()))\n",
    "2_p=list(map(int,input().split()))\n",
    "3_p=list(map(int,input().split()))\n",
    "if num in 1_p:\n",
    "    print(\"1\")\n",
    "    if checkli(1_p):\n",
    "        \n",
    "    \n",
    "elif num in 2_p:\n",
    "    print(\"2\")\n",
    "else:\n",
    "    print(\"3\")\n",
    "\n",
    "def check_li(li):\n",
    "    for i in range(len(li)-1):\n",
    "        if li[i]-1!=li[i+1]:\n",
    "            return False\n",
    "    return True"
   ]
  },
  {
   "cell_type": "code",
   "execution_count": 28,
   "id": "8b1fbfc9",
   "metadata": {},
   "outputs": [
    {
     "name": "stdout",
     "output_type": "stream",
     "text": [
      "3 1\n",
      "[1, 3, 1, 2, 1, 3] 2\n"
     ]
    }
   ],
   "source": [
    "def hanoi_path(n, m, i, j, li,m_1):\n",
    "    l = set([1, 2, 3])\n",
    "    ## n이 1인 경우\n",
    "    if n == 1:\n",
    "        if m_1==m:\n",
    "            li.extend([i, j])\n",
    "        m_1+=1\n",
    "        return li,m_1\n",
    "    \n",
    "    ## 그 외의 경우\n",
    "    k = list(l - set([i, j]))[0] ## 다음 목적 위치 변수 k\n",
    "    hanoi_path(n - 1, m, i, k, li,m_1)\n",
    "    \n",
    "    \n",
    "    if m_1==m:\n",
    "        li.extend([i, j])\n",
    "    m_1+=1\n",
    "    \n",
    "    hanoi_path(n - 1, m, k, j, li,m_1)\n",
    "    return li,m_1\n",
    "\n",
    "n, m = map(int, input().split())\n",
    "an_li = []\n",
    "m_1=1\n",
    "a,b=hanoi_path(n, m, 1, 3, an_li,m_1)\n",
    "print(a,b)"
   ]
  },
  {
   "cell_type": "code",
   "execution_count": 31,
   "id": "813634dd",
   "metadata": {},
   "outputs": [
    {
     "name": "stdout",
     "output_type": "stream",
     "text": [
      "3 1\n",
      "[[1, 3], [1, 2], [3, 2], [1, 3], [2, 1], [2, 3], [1, 3]]\n"
     ]
    }
   ],
   "source": [
    "def hanoi_path(n,m,num,i,j,li):\n",
    "    l=set([1,2,3])\n",
    "    if n==1:\n",
    "        li.append([i,j])\n",
    "        return li,num\n",
    "    k=list(l-set([i,j]))[0]\n",
    "    if num<=m:\n",
    "        hanoi_path(n-1,m,num,i,k,li)\n",
    "    if num<=m:\n",
    "        li.append([i,j])\n",
    "    if num<=m:\n",
    "        hanoi_path(n-1,m,num,k,j,li)\n",
    "    return li,num\n",
    "n,m=map(int,input().split())\n",
    "an_li=[]\n",
    "print(hanoi_path(n,m,1,1,3,an_li))"
   ]
  },
  {
   "cell_type": "code",
   "execution_count": 2,
   "id": "52cda7fa",
   "metadata": {},
   "outputs": [
    {
     "name": "stdout",
     "output_type": "stream",
     "text": [
      "12\n",
      "bnb2011 chansol\n",
      "chansol chogahui05\n",
      "chogahui05 jthis\n",
      "jthis ChongChong\n",
      "jthis jyheo98\n",
      "jyheo98 lms0806\n",
      "lms0806 pichulia\n",
      "pichulia pjshwa\n",
      "pjshwa r4pidstart\n",
      "r4pidstart swoon\n",
      "swoon tony9402\n",
      "tony9402 bnb2011\n",
      "9 ['ChongChong', 'jthis', 'jyheo98', 'lms0806', 'pichulia', 'pjshwa', 'r4pidstart', 'swoon', 'tony9402', 'bnb2011']\n"
     ]
    }
   ],
   "source": [
    "n=int(input())\n",
    "li_an=['ChongChong']\n",
    "for _ in range(n):\n",
    "    j,k=input().split()\n",
    "    if j in li_an:\n",
    "        li_an.append(k)\n",
    "    elif k in li_an:\n",
    "        li_an.append(j)\n",
    "print(len(set(li_an)))"
   ]
  },
  {
   "cell_type": "code",
   "execution_count": 27,
   "id": "8b1ccff7",
   "metadata": {},
   "outputs": [
    {
     "name": "stdout",
     "output_type": "stream",
     "text": [
      "1\n",
      "4000\n",
      "[4000]\n",
      "[4000]\n",
      "4000 4000 0 0\n"
     ]
    }
   ],
   "source": [
    "import math\n",
    "mean=0\n",
    "mid=0\n",
    "most=0\n",
    "mami=0\n",
    "li=[]\n",
    "num_dic={}\n",
    "n=int(input())\n",
    "for i in range(n):\n",
    "    num=int(input())\n",
    "    mean+=num\n",
    "    li.append(num)\n",
    "    try:\n",
    "        num_dic[num]+=1\n",
    "    except:\n",
    "        num_dic[num]=1\n",
    "print(li)\n",
    "mean=round(mean/len(li))\n",
    "li.sort()\n",
    "print(li)\n",
    "if n%2==1:\n",
    "    mid=li[n//2]\n",
    "else :\n",
    "    mid=(li[n//2]+li[n//2-1])/2\n",
    "# most=(num_dic.items(), key= lambda x:x[1]==max(num_dic.values()))\n",
    "mami=max(li)-min(li)\n",
    "print(mean,mid,most,mami)"
   ]
  },
  {
   "cell_type": "code",
   "execution_count": null,
   "id": "70946ddf",
   "metadata": {},
   "outputs": [],
   "source": [
    "params={\n",
    "    \"n_estimators\":range(100,501,100),\n",
    "    \"max_features\":range(1,31),\n",
    "    \"max_depth\":range(1,6,1),\n",
    "    \"min_samples_leaf\":range(4,50)\n",
    "}\n",
    "rfc=RadomForestClassifier(random_state=0)\n",
    "...........................................................................................................................................................................................................................................................................................................................................................................\n",
    "gs=GridSearchCV()"
   ]
  },
  {
   "cell_type": "code",
   "execution_count": 3,
   "id": "1f537865",
   "metadata": {},
   "outputs": [
    {
     "name": "stdout",
     "output_type": "stream",
     "text": [
      "7 4\n",
      "apple\n",
      "ant\n",
      "sand\n",
      "apple\n",
      "append\n",
      "sand\n",
      "sand\n"
     ]
    },
    {
     "ename": "TypeError",
     "evalue": "'<' not supported between instances of 'dict_values' and 'dict_values'",
     "output_type": "error",
     "traceback": [
      "\u001b[1;31m---------------------------------------------------------------------------\u001b[0m",
      "\u001b[1;31mTypeError\u001b[0m                                 Traceback (most recent call last)",
      "Cell \u001b[1;32mIn[3], line 15\u001b[0m\n\u001b[0;32m     13\u001b[0m             word_dic[word]\u001b[38;5;241m=\u001b[39m\u001b[38;5;241m1\u001b[39m\n\u001b[0;32m     14\u001b[0m             word_li\u001b[38;5;241m.\u001b[39mappend(word)\n\u001b[1;32m---> 15\u001b[0m sort_li\u001b[38;5;241m=\u001b[39m\u001b[38;5;28;43msorted\u001b[39;49m\u001b[43m(\u001b[49m\u001b[43mword_li\u001b[49m\u001b[43m,\u001b[49m\u001b[43mkey\u001b[49m\u001b[43m \u001b[49m\u001b[38;5;241;43m=\u001b[39;49m\u001b[43m \u001b[49m\u001b[38;5;28;43;01mlambda\u001b[39;49;00m\u001b[43m \u001b[49m\u001b[43mx\u001b[49m\u001b[43m:\u001b[49m\u001b[43m \u001b[49m\u001b[43mword_dic\u001b[49m\u001b[38;5;241;43m.\u001b[39;49m\u001b[43mvalues\u001b[49m\u001b[43m(\u001b[49m\u001b[43m)\u001b[49m\u001b[43m)\u001b[49m\n",
      "\u001b[1;31mTypeError\u001b[0m: '<' not supported between instances of 'dict_values' and 'dict_values'"
     ]
    }
   ],
   "source": [
    "n,m=map(int,input().split())\n",
    "word_dic={}\n",
    "word_li=[]\n",
    "sort_li=[]\n",
    "for _ in range(n):\n",
    "    word=input()\n",
    "    if len(word)<m:\n",
    "        continue\n",
    "    else:\n",
    "        if word in word_dic:\n",
    "            word_dic[word]+=1\n",
    "        else :\n",
    "            word_dic[word]=1\n",
    "            word_li.append(word)\n",
    "sort_li=sorted(word_li,key = lambda x: word_dic.values())\n"
   ]
  },
  {
   "cell_type": "code",
   "execution_count": 7,
   "id": "189d390c",
   "metadata": {},
   "outputs": [
    {
     "name": "stdout",
     "output_type": "stream",
     "text": [
      "12 5\n",
      "appearance\n",
      "append\n",
      "attendance\n",
      "swim\n",
      "swift\n",
      "swift\n",
      "swift\n",
      "mouse\n",
      "wallet\n",
      "mouse\n",
      "ice\n",
      "age\n",
      "['swift', 'mouse', 'appearance', 'append', 'attendance', 'wallet']\n"
     ]
    }
   ],
   "source": [
    "n, m = map(int, input().split())\n",
    "word_dic = {} #횟수\n",
    "word_li = [] #내용\n",
    "sort_li = [] # 정리된 순서\n",
    "temp=0\n",
    "temp_li1=[]\n",
    "temp_li2=[]\n",
    "for _ in range(n):\n",
    "    word = input()\n",
    "    if len(word) < m:\n",
    "        continue\n",
    "    else:\n",
    "        if word in word_dic:\n",
    "            word_dic[word] += 1\n",
    "        else:\n",
    "            word_dic[word] = 1\n",
    "            word_li.append(word)\n",
    "\n",
    "sort_li = sorted(word_li, key=lambda x: word_dic[x],reverse=True)\n",
    "temp=word_dic[sort_li[0]]\n",
    "for i in range(1,len(sort_li)):\n",
    "    if temp==word_dic[sort_li[i]]:\n",
    "        temp_li1.append(sort_li[i])\n",
    "    else:\n",
    "        \n",
    "        for i in temp_li1:\n",
    "            temp_li1.sort(key=lambda x: len(x),reverse=True)\n",
    "        temp_li1.clear()\n",
    "        temp_li1.append(sort_li[i])\n",
    "    temp=word_dic[sort_li[i]]\n",
    "\n",
    "for i in range()\n",
    "print(sort_li)\n"
   ]
  },
  {
   "cell_type": "code",
   "execution_count": 8,
   "id": "9d0be643",
   "metadata": {},
   "outputs": [
    {
     "ename": "SyntaxError",
     "evalue": "invalid syntax. Perhaps you forgot a comma? (2837342805.py, line 15)",
     "output_type": "error",
     "traceback": [
      "\u001b[1;36m  Cell \u001b[1;32mIn[8], line 15\u001b[1;36m\u001b[0m\n\u001b[1;33m    sort_li=sorted(word_li,key=lamdba x: word_dic[x],reverse=True)\u001b[0m\n\u001b[1;37m                               ^\u001b[0m\n\u001b[1;31mSyntaxError\u001b[0m\u001b[1;31m:\u001b[0m invalid syntax. Perhaps you forgot a comma?\n"
     ]
    }
   ],
   "source": [
    "n,m=map(int,input().split())\n",
    "word_dic={}\n",
    "word_li=[]\n",
    "sort_li=[]\n",
    "for _ in range(n):\n",
    "    word=input()\n",
    "    if len(word)<m:\n",
    "        continue\n",
    "    else:\n",
    "        if word in word_dic:\n",
    "            word_dic[word]+=1\n",
    "        else :\n",
    "            word_dic[word]=1\n",
    "            word_li.append(word)\n",
    "sort_li=sorted(word_li,key=lamdba x: word_dic[x],reverse=True)\n",
    "print(sort_li)\n",
    "        "
   ]
  },
  {
   "cell_type": "code",
   "execution_count": 9,
   "id": "3290f2cd",
   "metadata": {},
   "outputs": [
    {
     "name": "stdout",
     "output_type": "stream",
     "text": [
      "5\n",
      "5\n",
      "4\n",
      "3\n",
      "2\n",
      "1\n",
      "[5, 4, 3, 2, 1]\n"
     ]
    }
   ],
   "source": [
    "n=int(input())\n",
    "num_li=[]\n",
    "for _ in range(n):\n",
    "    num=int(input())\n",
    "    num_li.append(num)\n",
    "num_li.sort()\n",
    "print(num_li)"
   ]
  },
  {
   "cell_type": "code",
   "execution_count": 12,
   "id": "c56e64c5",
   "metadata": {},
   "outputs": [
    {
     "name": "stdout",
     "output_type": "stream",
     "text": [
      "5 2\n",
      "100 76 85 93 98\n",
      "98\n"
     ]
    }
   ],
   "source": [
    "n,k=map(int,input().split())\n",
    "score_list=[]\n",
    "score_list=list(map(int,input().split()))\n",
    "score_list.sort()\n",
    "print(score_list[-k])"
   ]
  },
  {
   "cell_type": "code",
   "execution_count": null,
   "id": "b477c7fe",
   "metadata": {},
   "outputs": [],
   "source": [
    "n=int(input())\n",
    "num_li=[]\n",
    "for _ in range(n):\n",
    "    num=int(input())\n",
    "    num_li.append(num)\n",
    "num_li.sort()\n",
    "for i in num_li:\n",
    "    print(i)"
   ]
  },
  {
   "cell_type": "code",
   "execution_count": null,
   "id": "0f2e8f48",
   "metadata": {},
   "outputs": [],
   "source": [
    "n=int(input())\n",
    "num_li=[]\n",
    "for i in range(n):\n",
    "    x,y=map(int,input().split())\n",
    "    num_li.append([x,y])\n",
    "num_li.sort()\n",
    "for i in num_li:\n",
    "    print(i[0],i[1])"
   ]
  },
  {
   "cell_type": "code",
   "execution_count": 33,
   "id": "7dd50a68",
   "metadata": {},
   "outputs": [
    {
     "name": "stdout",
     "output_type": "stream",
     "text": [
      "5\n",
      "20 a\n",
      "21 b\n",
      "22 c\n",
      "19 d\n",
      "20 e\n",
      "[19, 'd']\n",
      "[20, 'a']\n",
      "[20, 'e']\n",
      "[21, 'b']\n",
      "[22, 'c']\n"
     ]
    }
   ],
   "source": [
    "n=int(input())\n",
    "mem_li=[]\n",
    "ans_li=[]\n",
    "for i in range(n):\n",
    "    age,mem=input().split()\n",
    "    mem_li.append([int(age),mem])\n",
    "ans_li=sorted(mem_li,key=lambda x: x[0])\n",
    "for i in ans_li:\n",
    "    print(i[0],i[1])"
   ]
  },
  {
   "cell_type": "code",
   "execution_count": null,
   "id": "753d7602",
   "metadata": {},
   "outputs": [],
   "source": [
    "n=int(input())\n",
    "num_li=list(map(int,input().split()))\n",
    "ans_li=[]\n",
    "ans=0\n",
    "for i in range(n):\n",
    "    for j in range(n):\n",
    "        if num_li[i]<num_li[j]:\n",
    "            ans+=1\n",
    "    ans_li.append(ans)\n",
    "    ans=0\n",
    "print(ans_li)"
   ]
  },
  {
   "cell_type": "code",
   "execution_count": 2,
   "id": "2bd6ea8d",
   "metadata": {
    "collapsed": true
   },
   "outputs": [
    {
     "name": "stdout",
     "output_type": "stream",
     "text": [
      "15\n",
      "push 1\n",
      "push 2\n",
      "front\n",
      "1\n",
      "back\n",
      "2\n",
      "size\n",
      "2\n",
      "empty\n",
      "0\n",
      "pop\n",
      "1\n",
      "pop\n",
      "2\n",
      "pop\n",
      "-1\n",
      "size\n",
      "0\n",
      "empty\n",
      "1\n",
      "pop\n",
      "-1\n",
      "push 3\n",
      "empty\n",
      "0\n",
      "front\n",
      "3\n"
     ]
    }
   ],
   "source": [
    "from collections import deque\n",
    "n=int(input())\n",
    "ans_li=deque()\n",
    "for i in range(n):\n",
    "    k=input()\n",
    "    if k.startswith('push'):\n",
    "        m,n=k.split()\n",
    "        ans_li.append(n)\n",
    "    elif k=='back':\n",
    "        print(ans_li[-1]) if ans_li else print('-1')\n",
    "    elif k=='front':\n",
    "        print(ans_li[0]) if ans_li else print('-1')\n",
    "    elif k=='size':\n",
    "        print(len(ans_li))\n",
    "    elif k=='pop':\n",
    "        print(ans_li.popleft()if ans_li else '-1')\n",
    "    elif k=='empty':\n",
    "        print('0' if ans_li else '1')\n"
   ]
  },
  {
   "cell_type": "code",
   "execution_count": 50,
   "id": "7529fdbd",
   "metadata": {
    "collapsed": true
   },
   "outputs": [
    {
     "ename": "KeyboardInterrupt",
     "evalue": "Interrupted by user",
     "output_type": "error",
     "traceback": [
      "\u001b[1;31m---------------------------------------------------------------------------\u001b[0m",
      "\u001b[1;31mKeyboardInterrupt\u001b[0m                         Traceback (most recent call last)",
      "Cell \u001b[1;32mIn[50], line 5\u001b[0m\n\u001b[0;32m      2\u001b[0m a,b\u001b[38;5;241m=\u001b[39m\u001b[38;5;241m0\u001b[39m,\u001b[38;5;241m0\u001b[39m\n\u001b[0;32m      4\u001b[0m j,k\u001b[38;5;241m=\u001b[39m\u001b[38;5;241m0\u001b[39m,\u001b[38;5;241m0\u001b[39m\n\u001b[1;32m----> 5\u001b[0m \u001b[38;5;28mstr\u001b[39m\u001b[38;5;241m=\u001b[39m\u001b[38;5;28;43minput\u001b[39;49m\u001b[43m(\u001b[49m\u001b[43m)\u001b[49m\n\u001b[0;32m      6\u001b[0m \u001b[38;5;28;01mif\u001b[39;00m \u001b[38;5;28mstr\u001b[39m\u001b[38;5;241m==\u001b[39m\u001b[38;5;124m'\u001b[39m\u001b[38;5;124m.\u001b[39m\u001b[38;5;124m'\u001b[39m:\n\u001b[0;32m      7\u001b[0m     \u001b[38;5;28;01mbreak\u001b[39;00m\n",
      "File \u001b[1;32m~\\anaconda3\\envs\\ml\\lib\\site-packages\\ipykernel\\kernelbase.py:1191\u001b[0m, in \u001b[0;36mKernel.raw_input\u001b[1;34m(self, prompt)\u001b[0m\n\u001b[0;32m   1189\u001b[0m     msg \u001b[38;5;241m=\u001b[39m \u001b[38;5;124m\"\u001b[39m\u001b[38;5;124mraw_input was called, but this frontend does not support input requests.\u001b[39m\u001b[38;5;124m\"\u001b[39m\n\u001b[0;32m   1190\u001b[0m     \u001b[38;5;28;01mraise\u001b[39;00m StdinNotImplementedError(msg)\n\u001b[1;32m-> 1191\u001b[0m \u001b[38;5;28;01mreturn\u001b[39;00m \u001b[38;5;28;43mself\u001b[39;49m\u001b[38;5;241;43m.\u001b[39;49m\u001b[43m_input_request\u001b[49m\u001b[43m(\u001b[49m\n\u001b[0;32m   1192\u001b[0m \u001b[43m    \u001b[49m\u001b[38;5;28;43mstr\u001b[39;49m\u001b[43m(\u001b[49m\u001b[43mprompt\u001b[49m\u001b[43m)\u001b[49m\u001b[43m,\u001b[49m\n\u001b[0;32m   1193\u001b[0m \u001b[43m    \u001b[49m\u001b[38;5;28;43mself\u001b[39;49m\u001b[38;5;241;43m.\u001b[39;49m\u001b[43m_parent_ident\u001b[49m\u001b[43m[\u001b[49m\u001b[38;5;124;43m\"\u001b[39;49m\u001b[38;5;124;43mshell\u001b[39;49m\u001b[38;5;124;43m\"\u001b[39;49m\u001b[43m]\u001b[49m\u001b[43m,\u001b[49m\n\u001b[0;32m   1194\u001b[0m \u001b[43m    \u001b[49m\u001b[38;5;28;43mself\u001b[39;49m\u001b[38;5;241;43m.\u001b[39;49m\u001b[43mget_parent\u001b[49m\u001b[43m(\u001b[49m\u001b[38;5;124;43m\"\u001b[39;49m\u001b[38;5;124;43mshell\u001b[39;49m\u001b[38;5;124;43m\"\u001b[39;49m\u001b[43m)\u001b[49m\u001b[43m,\u001b[49m\n\u001b[0;32m   1195\u001b[0m \u001b[43m    \u001b[49m\u001b[43mpassword\u001b[49m\u001b[38;5;241;43m=\u001b[39;49m\u001b[38;5;28;43;01mFalse\u001b[39;49;00m\u001b[43m,\u001b[49m\n\u001b[0;32m   1196\u001b[0m \u001b[43m\u001b[49m\u001b[43m)\u001b[49m\n",
      "File \u001b[1;32m~\\anaconda3\\envs\\ml\\lib\\site-packages\\ipykernel\\kernelbase.py:1234\u001b[0m, in \u001b[0;36mKernel._input_request\u001b[1;34m(self, prompt, ident, parent, password)\u001b[0m\n\u001b[0;32m   1231\u001b[0m \u001b[38;5;28;01mexcept\u001b[39;00m \u001b[38;5;167;01mKeyboardInterrupt\u001b[39;00m:\n\u001b[0;32m   1232\u001b[0m     \u001b[38;5;66;03m# re-raise KeyboardInterrupt, to truncate traceback\u001b[39;00m\n\u001b[0;32m   1233\u001b[0m     msg \u001b[38;5;241m=\u001b[39m \u001b[38;5;124m\"\u001b[39m\u001b[38;5;124mInterrupted by user\u001b[39m\u001b[38;5;124m\"\u001b[39m\n\u001b[1;32m-> 1234\u001b[0m     \u001b[38;5;28;01mraise\u001b[39;00m \u001b[38;5;167;01mKeyboardInterrupt\u001b[39;00m(msg) \u001b[38;5;28;01mfrom\u001b[39;00m \u001b[38;5;28;01mNone\u001b[39;00m\n\u001b[0;32m   1235\u001b[0m \u001b[38;5;28;01mexcept\u001b[39;00m \u001b[38;5;167;01mException\u001b[39;00m:\n\u001b[0;32m   1236\u001b[0m     \u001b[38;5;28mself\u001b[39m\u001b[38;5;241m.\u001b[39mlog\u001b[38;5;241m.\u001b[39mwarning(\u001b[38;5;124m\"\u001b[39m\u001b[38;5;124mInvalid Message:\u001b[39m\u001b[38;5;124m\"\u001b[39m, exc_info\u001b[38;5;241m=\u001b[39m\u001b[38;5;28;01mTrue\u001b[39;00m)\n",
      "\u001b[1;31mKeyboardInterrupt\u001b[0m: Interrupted by user"
     ]
    }
   ],
   "source": [
    "while True:\n",
    "    a,b=0,0\n",
    "    \n",
    "    j,k=0,0\n",
    "    str=input()\n",
    "    if str=='.':\n",
    "        break\n",
    "    else :\n",
    "        if str[-1]!='.':\n",
    "            print('no')\n",
    "            continue\n",
    "        for i in str:\n",
    "            if i=='(':\n",
    "                a+=1\n",
    "                j,k=1,0\n",
    "            elif i==')':\n",
    "                if k==1:\n",
    "                    break\n",
    "                a-=1\n",
    "                if a==0:\n",
    "                    j=0\n",
    "            elif i=='[':\n",
    "                b+=1\n",
    "                j,k=0,1\n",
    "            elif i==']':\n",
    "                if j==1:\n",
    "                    break\n",
    "                b-=1\n",
    "                if b==0:\n",
    "                    k=0\n",
    "            if a<0 or b<0:\n",
    "                break\n",
    "        if str[-1]=='.' and (a==0 and b==0):\n",
    "            print(\"yes\")\n",
    "        else:\n",
    "            print(\"no\")"
   ]
  },
  {
   "cell_type": "code",
   "execution_count": 51,
   "id": "2364c8d0",
   "metadata": {},
   "outputs": [
    {
     "name": "stdout",
     "output_type": "stream",
     "text": [
      "100\n",
      "0 1 4\n"
     ]
    }
   ],
   "source": [
    "n=int(input())\n",
    "a,b,c=0,0,0\n",
    "if n%10!=0:\n",
    "    print(\"-1\")\n",
    "else:\n",
    "    a=n//300\n",
    "    n=n%300\n",
    "    b=n//60\n",
    "    n=n%60\n",
    "    c=n//10\n",
    "    print(a,b,c)"
   ]
  },
  {
   "cell_type": "code",
   "execution_count": 69,
   "id": "80f9c543",
   "metadata": {},
   "outputs": [],
   "source": [
    "def recur(n):\n",
    "    if n==1:\n",
    "        return '*'\n",
    "    return recur(n-1)+'a'*(3**(n-2))+recur(n-1)"
   ]
  },
  {
   "cell_type": "code",
   "execution_count": 3,
   "id": "8090c66d",
   "metadata": {
    "collapsed": true
   },
   "outputs": [
    {
     "name": "stdout",
     "output_type": "stream",
     "text": [
      "9\n"
     ]
    },
    {
     "ename": "TypeError",
     "evalue": "can only concatenate list (not \"str\") to list",
     "output_type": "error",
     "traceback": [
      "\u001b[1;31m---------------------------------------------------------------------------\u001b[0m",
      "\u001b[1;31mTypeError\u001b[0m                                 Traceback (most recent call last)",
      "Cell \u001b[1;32mIn[3], line 12\u001b[0m\n\u001b[0;32m     10\u001b[0m     star_li\u001b[38;5;241m.\u001b[39mappend(recur(n\u001b[38;5;241m/\u001b[39m\u001b[38;5;241m/\u001b[39m\u001b[38;5;241m3\u001b[39m)\u001b[38;5;241m*\u001b[39m\u001b[38;5;241m3\u001b[39m)\n\u001b[0;32m     11\u001b[0m     \u001b[38;5;28;01mreturn\u001b[39;00m star_li\n\u001b[1;32m---> 12\u001b[0m \u001b[38;5;28mprint\u001b[39m(\u001b[43mrecur\u001b[49m\u001b[43m(\u001b[49m\u001b[43mn\u001b[49m\u001b[43m)\u001b[49m)\n",
      "Cell \u001b[1;32mIn[3], line 9\u001b[0m, in \u001b[0;36mrecur\u001b[1;34m(n)\u001b[0m\n\u001b[0;32m      7\u001b[0m star_li\u001b[38;5;241m=\u001b[39m[]\n\u001b[0;32m      8\u001b[0m star_li\u001b[38;5;241m.\u001b[39mappend(recur(n\u001b[38;5;241m/\u001b[39m\u001b[38;5;241m/\u001b[39m\u001b[38;5;241m3\u001b[39m)\u001b[38;5;241m*\u001b[39m\u001b[38;5;241m3\u001b[39m)\n\u001b[1;32m----> 9\u001b[0m star_li\u001b[38;5;241m.\u001b[39mappend((\u001b[43mrecur\u001b[49m\u001b[43m(\u001b[49m\u001b[43mn\u001b[49m\u001b[38;5;241;43m/\u001b[39;49m\u001b[38;5;241;43m/\u001b[39;49m\u001b[38;5;241;43m3\u001b[39;49m\u001b[43m)\u001b[49m\u001b[38;5;241;43m+\u001b[39;49m\u001b[38;5;124;43m'\u001b[39;49m\u001b[38;5;124;43ma\u001b[39;49m\u001b[38;5;124;43m'\u001b[39;49m\u001b[38;5;241;43m*\u001b[39;49m\u001b[43m(\u001b[49m\u001b[43mn\u001b[49m\u001b[38;5;241;43m/\u001b[39;49m\u001b[38;5;241;43m/\u001b[39;49m\u001b[38;5;241;43m3\u001b[39;49m\u001b[43m)\u001b[49m\u001b[38;5;241m+\u001b[39mrecur(n\u001b[38;5;241m/\u001b[39m\u001b[38;5;241m/\u001b[39m\u001b[38;5;241m3\u001b[39m)))\n\u001b[0;32m     10\u001b[0m star_li\u001b[38;5;241m.\u001b[39mappend(recur(n\u001b[38;5;241m/\u001b[39m\u001b[38;5;241m/\u001b[39m\u001b[38;5;241m3\u001b[39m)\u001b[38;5;241m*\u001b[39m\u001b[38;5;241m3\u001b[39m)\n\u001b[0;32m     11\u001b[0m \u001b[38;5;28;01mreturn\u001b[39;00m star_li\n",
      "\u001b[1;31mTypeError\u001b[0m: can only concatenate list (not \"str\") to list"
     ]
    }
   ],
   "source": [
    "n=int(input())\n",
    "star_li=[[] for i in range(n)]\n",
    "li=[]\n",
    "def recur(n):\n",
    "    if n==1:\n",
    "        return '*'\n",
    "    star_li=[]\n",
    "    star_li.append(recur(n//3)*3)\n",
    "    star_li.append((recur(n//3)+'a'*(n//3)+recur(n//3)))\n",
    "    star_li.append(recur(n//3)*3)\n",
    "    return star_li\n",
    "print(recur(n))"
   ]
  },
  {
   "cell_type": "code",
   "execution_count": 100,
   "id": "6ccfacc4",
   "metadata": {},
   "outputs": [
    {
     "name": "stdout",
     "output_type": "stream",
     "text": [
      "27\n",
      "['*']\n",
      "['***', '* *', '***']\n",
      "['*********', '* ** ** *', '*********', '***   ***', '* *   * *', '***   ***', '*********', '* ** ** *', '*********']\n",
      "***************************\n",
      "* ** ** ** ** ** ** ** ** *\n",
      "***************************\n",
      "***   ******   ******   ***\n",
      "* *   * ** *   * ** *   * *\n",
      "***   ******   ******   ***\n",
      "***************************\n",
      "* ** ** ** ** ** ** ** ** *\n",
      "***************************\n",
      "*********         *********\n",
      "* ** ** *         * ** ** *\n",
      "*********         *********\n",
      "***   ***         ***   ***\n",
      "* *   * *         * *   * *\n",
      "***   ***         ***   ***\n",
      "*********         *********\n",
      "* ** ** *         * ** ** *\n",
      "*********         *********\n",
      "***************************\n",
      "* ** ** ** ** ** ** ** ** *\n",
      "***************************\n",
      "***   ******   ******   ***\n",
      "* *   * ** *   * ** *   * *\n",
      "***   ******   ******   ***\n",
      "***************************\n",
      "* ** ** ** ** ** ** ** ** *\n",
      "***************************\n"
     ]
    }
   ],
   "source": [
    "def draw_stars(n):\n",
    "    if n==1:\n",
    "        return ['*']\n",
    "    Stars=draw_stars(n//3)\n",
    "    L=[]\n",
    "    print(Stars)\n",
    "\n",
    "    for star in Stars:\n",
    "        L.append(star*3)\n",
    "    for star in Stars:\n",
    "        L.append(star+' '*(n//3)+star)\n",
    "    for star in Stars:\n",
    "        L.append(star*3)\n",
    "    return L\n",
    "\n",
    "N=int(input())\n",
    "print('\\n'.join(draw_stars(N)))"
   ]
  }
 ],
 "metadata": {
  "kernelspec": {
   "display_name": "Python 3 (ipykernel)",
   "language": "python",
   "name": "python3"
  },
  "language_info": {
   "codemirror_mode": {
    "name": "ipython",
    "version": 3
   },
   "file_extension": ".py",
   "mimetype": "text/x-python",
   "name": "python",
   "nbconvert_exporter": "python",
   "pygments_lexer": "ipython3",
   "version": "3.10.11"
  }
 },
 "nbformat": 4,
 "nbformat_minor": 5
}
